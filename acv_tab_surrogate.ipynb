{
 "cells": [
  {
   "cell_type": "code",
   "execution_count": 1,
   "id": "f1f21d2f",
   "metadata": {},
   "outputs": [],
   "source": [
    "import pandas as pd\n",
    "import numpy as np\n",
    "\n",
    "from sklearn.metrics import f1_score, classification_report, roc_auc_score, r2_score, mean_absolute_percentage_error\n",
    "from sklearn.model_selection import KFold\n",
    "import sklearn\n",
    "\n",
    "import sys\n",
    "import os\n",
    "import joblib\n",
    "\n",
    "import warnings\n",
    "warnings.filterwarnings('ignore')\n",
    "\n",
    "from acv_explainers import ACXplainer\n",
    "\n",
    "import random\n",
    "\n",
    "from tqdm import tqdm_notebook\n",
    "\n",
    "from hyperopt import fmin, tpe, hp, Trials, rand, early_stop\n",
    "from hyperopt.pyll import scope"
   ]
  },
  {
   "cell_type": "code",
   "execution_count": 2,
   "id": "7eea3d4b",
   "metadata": {},
   "outputs": [],
   "source": [
    "# path to project folder\n",
    "# please change to your own\n",
    "PATH = os.getcwd()\n",
    "\n",
    "dataset = \"nursery\"\n",
    "cls_method = \"nb\"\n",
    "\n",
    "random_state = 22\n",
    "exp_iter = 10\n",
    "\n",
    "save_to = \"%s/%s/\" % (PATH, dataset)\n",
    "dataset_folder = \"%s/datasets/\" % (save_to)\n",
    "final_folder = \"%s/%s/\" % (save_to, cls_method)"
   ]
  },
  {
   "cell_type": "code",
   "execution_count": 3,
   "id": "2b9723cd",
   "metadata": {},
   "outputs": [],
   "source": [
    "#Get datasets\n",
    "X_train = pd.read_csv(dataset_folder+dataset+\"_Xtrain.csv\", index_col=False, sep = \";\")\n",
    "y_train = pd.read_csv(dataset_folder+dataset+\"_Ytrain.csv\", index_col=False, sep = \";\")\n",
    "test_x = pd.read_csv(final_folder+\"test_sample.csv\", index_col=False, sep = \";\").values\n",
    "results = pd.read_csv(os.path.join(final_folder,\"results.csv\"), index_col=False, sep = \";\")\n",
    "\n",
    "feat_list = [each.replace(' ','_') for each in X_train.columns]\n",
    "\n",
    "#import underlying model and scaler\n",
    "cls = joblib.load(save_to+cls_method+\"/cls.joblib\")\n",
    "scaler = joblib.load(save_to+\"/scaler.joblib\")\n",
    "\n",
    "#Get model predictions for all instances\n",
    "Y_pred = cls.predict(X_train.values)\n",
    "test_pred = cls.predict(test_x)\n",
    "\n",
    "#Set up hyperparameter optimisation\n",
    "kf = KFold(n_splits=5, shuffle = True, random_state=random_state)\n"
   ]
  },
  {
   "cell_type": "code",
   "execution_count": 4,
   "id": "cce21beb",
   "metadata": {},
   "outputs": [
    {
     "name": "stdout",
     "output_type": "stream",
     "text": [
      "Training Accuracy: 1.0\n",
      "Testing Accuracy: 1.0\n"
     ]
    }
   ],
   "source": [
    "space = {\"n_estimators\": scope.int(hp.quniform('n_estimators', 1, 20, q=1)),\n",
    "        \"max_depth\": scope.int(hp.quniform('max_depth', 1, 20, q=1)),\n",
    "        \"sample_fraction\": (hp.quniform('sample_fraction', 0.0001, 1, q=0.4))}\n",
    "\n",
    "trials = Trials()\n",
    "\n",
    "def acv_classifier_optimisation(args, random_state = random_state, cv = kf, X = X_train.values, y = Y_pred):\n",
    "    score = []\n",
    "\n",
    "    for train_index, test_index in kf.split(X):\n",
    "\n",
    "        X_train, X_test = X[train_index], X[test_index]\n",
    "        y_train, y_test = y[train_index], y[test_index]\n",
    "\n",
    "        estimator = ACXplainer(classifier = True, n_estimators = args[\"n_estimators\"], \n",
    "                               max_depth = args['max_depth'], sample_fraction = args[\"sample_fraction\"])\n",
    "        estimator.fit(X_train, y_train)\n",
    "\n",
    "        score.append(f1_score(y_test, estimator.predict(X_test)))\n",
    "\n",
    "    score = np.mean(score)\n",
    "\n",
    "    return -score\n",
    "\n",
    "best = fmin(acv_classifier_optimisation, verbose=0, space = space, algo=rand.suggest, max_evals = 50, trials=trials, \n",
    "                rstate=np.random.default_rng(random_state), early_stop_fn=early_stop.no_progress_loss(3))\n",
    "explainer = ACXplainer(classifier = True, verbose = 0, n_estimators = int(best['n_estimators']), \n",
    "                       max_depth = int(best['max_depth']), sample_fraction = best[\"sample_fraction\"])\n",
    "explainer.fit(X_train, Y_pred)\n",
    "\n",
    "print(\"Training Accuracy:\", f1_score(cls.predict(X_train.values), explainer.predict(X_train)))\n",
    "print(\"Testing Accuracy:\", f1_score(cls.predict(test_x), explainer.predict(test_x)))"
   ]
  },
  {
   "cell_type": "code",
   "execution_count": 5,
   "id": "b461e8c3",
   "metadata": {},
   "outputs": [
    {
     "data": {
      "text/plain": [
       "['/home/mythreyi/full_stability/nursery/nb/acv_explainer_test.joblib']"
      ]
     },
     "execution_count": 5,
     "metadata": {},
     "output_type": "execute_result"
    }
   ],
   "source": [
    "#save surrogate model\n",
    "joblib.dump(explainer, save_to+cls_method+\"/acv_explainer_test.joblib\")"
   ]
  }
 ],
 "metadata": {
  "kernelspec": {
   "display_name": "Python 3 (ipykernel)",
   "language": "python",
   "name": "python3"
  },
  "language_info": {
   "codemirror_mode": {
    "name": "ipython",
    "version": 3
   },
   "file_extension": ".py",
   "mimetype": "text/x-python",
   "name": "python",
   "nbconvert_exporter": "python",
   "pygments_lexer": "ipython3",
   "version": "3.9.2"
  }
 },
 "nbformat": 4,
 "nbformat_minor": 5
}
