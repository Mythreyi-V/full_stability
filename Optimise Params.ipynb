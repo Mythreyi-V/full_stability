{
 "cells": [
  {
   "cell_type": "code",
   "execution_count": 1,
   "metadata": {
    "colab": {
     "base_uri": "https://localhost:8080/"
    },
    "executionInfo": {
     "elapsed": 27846,
     "status": "ok",
     "timestamp": 1605608027790,
     "user": {
      "displayName": "Mythreyi Velmurugan",
      "photoUrl": "https://lh3.googleusercontent.com/a-/AOh14Gh6DP4Hn-qpp593Bc6lrayXXcdQv42KAS3zJ-Ay=s64",
      "userId": "09509504425224260690"
     },
     "user_tz": -600
    },
    "id": "edGOGS4Qly-r",
    "outputId": "21021b16-f710-4bbe-9766-fabf50ac9db6"
   },
   "outputs": [],
   "source": [
    "#from google.colab import drive\n",
    "#drive.mount('/content/drive')\n",
    "import sys\n",
    "import os\n",
    "#PATH = '/content/drive/My Drive/PPM_Stability/'\n",
    "PATH = os.getcwd()\n",
    "sys.path.append(PATH)"
   ]
  },
  {
   "cell_type": "code",
   "execution_count": 2,
   "metadata": {
    "executionInfo": {
     "elapsed": 27837,
     "status": "ok",
     "timestamp": 1605608027794,
     "user": {
      "displayName": "Mythreyi Velmurugan",
      "photoUrl": "https://lh3.googleusercontent.com/a-/AOh14Gh6DP4Hn-qpp593Bc6lrayXXcdQv42KAS3zJ-Ay=s64",
      "userId": "09509504425224260690"
     },
     "user_tz": -600
    },
    "id": "g6rF9K-4l-a4"
   },
   "outputs": [],
   "source": [
    "#!pip install xgboost==1.0.0"
   ]
  },
  {
   "cell_type": "code",
   "execution_count": 3,
   "metadata": {
    "executionInfo": {
     "elapsed": 35182,
     "status": "ok",
     "timestamp": 1605608035145,
     "user": {
      "displayName": "Mythreyi Velmurugan",
      "photoUrl": "https://lh3.googleusercontent.com/a-/AOh14Gh6DP4Hn-qpp593Bc6lrayXXcdQv42KAS3zJ-Ay=s64",
      "userId": "09509504425224260690"
     },
     "user_tz": -600
    },
    "id": "2yT7AjVBlUVP"
   },
   "outputs": [
    {
     "name": "stderr",
     "output_type": "stream",
     "text": [
      "C:\\ProgramData\\Anaconda3\\lib\\site-packages\\numpy\\_distributor_init.py:30: UserWarning: loaded more than 1 DLL from .libs:\n",
      "C:\\ProgramData\\Anaconda3\\lib\\site-packages\\numpy\\.libs\\libopenblas.EL2C6PLE4ZYW3ECEVIV3OXXGRN2NRFM2.gfortran-win_amd64.dll\n",
      "C:\\ProgramData\\Anaconda3\\lib\\site-packages\\numpy\\.libs\\libopenblas.NOIJJG62EMASZI6NYURL6JBKM4EVBGM7.gfortran-win_amd64.dll\n",
      "  warnings.warn(\"loaded more than 1 DLL from .libs:\"\n"
     ]
    }
   ],
   "source": [
    "import EncoderFactory\n",
    "from DatasetManager import DatasetManager\n",
    "import BucketFactory\n",
    "\n",
    "import pandas as pd\n",
    "import numpy as np\n",
    "\n",
    "from sklearn.metrics import roc_auc_score, accuracy_score, f1_score\n",
    "from sklearn.pipeline import FeatureUnion, Pipeline\n",
    "from sklearn.preprocessing import StandardScaler\n",
    "from sklearn.utils import resample\n",
    "\n",
    "\n",
    "import time\n",
    "import os\n",
    "import sys\n",
    "from sys import argv\n",
    "import pickle\n",
    "from collections import defaultdict\n",
    "\n",
    "#from sklearn.ensemble import RandomForestClassifier\n",
    "import xgboost as xgb\n",
    "from sklearn.linear_model import LogisticRegression\n",
    "#from sklearn.svm import SVC, LinearSVC\n",
    "from sklearn.naive_bayes import GaussianNB\n",
    "#import catboost\n",
    "\n",
    "# from tensorflow.keras.backend import print_tensor\n",
    "# from tensorflow.keras.callbacks import ModelCheckpoint, EarlyStopping\n",
    "# from keras.layers.core import Dense, Activation, Dropout\n",
    "# from keras.preprocessing import sequence\n",
    "# from keras.models import Sequential, Model\n",
    "# from keras.layers import Dense, Embedding, Flatten, Input\n",
    "# from keras.layers import LSTM\n",
    "# from keras.optimizers import Nadam, RMSprop\n",
    "# from keras.layers.normalization import BatchNormalization\n",
    "\n",
    "\n",
    "from hyperopt import Trials, STATUS_OK, tpe, fmin, hp\n",
    "import hyperopt\n",
    "from hyperopt.pyll.base import scope\n",
    "from hyperopt.pyll.stochastic import sample"
   ]
  },
  {
   "cell_type": "code",
   "execution_count": 4,
   "metadata": {
    "executionInfo": {
     "elapsed": 35182,
     "status": "ok",
     "timestamp": 1605608035150,
     "user": {
      "displayName": "Mythreyi Velmurugan",
      "photoUrl": "https://lh3.googleusercontent.com/a-/AOh14Gh6DP4Hn-qpp593Bc6lrayXXcdQv42KAS3zJ-Ay=s64",
      "userId": "09509504425224260690"
     },
     "user_tz": -600
    },
    "id": "kCUZV8MylUVY",
    "scrolled": true
   },
   "outputs": [],
   "source": [
    "def create_and_evaluate_model(args):    \n",
    "    print(args)\n",
    "    global trial_nr\n",
    "    trial_nr += 1\n",
    "    \n",
    "    start = time.time()\n",
    "    score = 0\n",
    "    for cv_iter in range(n_splits):\n",
    "        \n",
    "        dt_test_prefixes = dt_prefixes[cv_iter]\n",
    "        dt_train_prefixes = pd.DataFrame()\n",
    "        for cv_train_iter in range(n_splits): \n",
    "            if cv_train_iter != cv_iter:\n",
    "                dt_train_prefixes = pd.concat([dt_train_prefixes, dt_prefixes[cv_train_iter]], axis=0, sort=False)\n",
    "                \n",
    "        #Balance unbalanced data\n",
    "        if balanced_data == False:\n",
    "            y = dataset_manager.get_label_numeric(dt_train_prefixes)\n",
    "            case_ids = dataset_manager.get_case_ids(dt_train_prefixes)\n",
    "\n",
    "            neg_cases = [case_ids[i] for i in range(len(case_ids)) if y[i] == 0]\n",
    "            pos_cases = [case_ids[i] for i in range(len(case_ids)) if y[i] == 1]\n",
    "\n",
    "            if len(neg_cases) > len(pos_cases):\n",
    "                neg_cases = resample(neg_cases, replace = False, n_samples = len(pos_cases))\n",
    "            elif len(neg_cases) < len(pos_cases):\n",
    "                pos_cases = resample(pos_cases, replace = False, n_samples = len(neg_cases))\n",
    "\n",
    "            bal_data = dt_train_prefixes.loc[dt_train_prefixes[dataset_manager.case_id_col].isin(neg_cases)]\n",
    "            bal_data = bal_data.append(dt_train_prefixes.loc[dt_train_prefixes[dataset_manager.case_id_col].isin(pos_cases)])\n",
    "            dt_train_prefixes = bal_data\n",
    "                \n",
    "        dt_test_bucket = dt_test_prefixes\n",
    "        dt_train_bucket = dt_train_prefixes\n",
    "        \n",
    "        test_y = dataset_manager.get_label_numeric(dt_test_bucket)\n",
    "        train_y = dataset_manager.get_label_numeric(dt_train_bucket)\n",
    "\n",
    "        if len(set(train_y)) < 2:\n",
    "            preds = [train_y[0]] * len(relevant_test_cases_bucket)\n",
    "        else:\n",
    "            feature_combiner = FeatureUnion([(method, EncoderFactory.get_encoder(method, **cls_encoder_args)) for method in methods])\n",
    "\n",
    "            if cls_method == \"xgboost\":\n",
    "                cls = xgb.XGBClassifier(objective='binary:logistic',\n",
    "                                        n_estimators=args['n_estimators'],\n",
    "                                        learning_rate= args['learning_rate'],\n",
    "                                        subsample=args['subsample'],\n",
    "                                        max_depth=int(args['max_depth']),\n",
    "                                        colsample_bytree=args['colsample_bytree'],\n",
    "                                        min_child_weight=int(args['min_child_weight']),\n",
    "                                        seed=random_state)\n",
    "            elif cls_method == \"logit\":\n",
    "                cls = LogisticRegression(C=2**args['C'],\n",
    "                                         random_state=random_state)\n",
    "            elif cls_method == \"nb\":\n",
    "                cls = GaussianNB(var_smoothing=args[\"var_smoothing\"])\n",
    "\n",
    "            if cls_method == \"logit\" or cls_method == \"nb\":\n",
    "                pipeline = Pipeline([('encoder', feature_combiner), ('scaler', StandardScaler()), ('cls', cls)])\n",
    "            else:\n",
    "                pipeline = Pipeline([('encoder', feature_combiner), ('cls', cls)])\n",
    "                \n",
    "            #print(dt_train_bucket.shape)\n",
    "            #print(len(train_y))\n",
    "            #print(feature_combiner.fit_transform(dt_train_bucket).shape)\n",
    "            #print(feature_combiner.fit(dt_train_bucket))\n",
    "            \n",
    "#             if cls_method == \"nb\":\n",
    "#                 #train_enc = pipeline[\"encoder\"].fit_transform(dt_train_bucket)\n",
    "#                 print(train_enc[0][0])\n",
    "#                 #print(train_enc.shape)\n",
    "#                 #for each in train_enc:\n",
    "#                 #    print(each.shape)\n",
    "#                 pipeline[\"cls\"].fit(train_enc, train_y)\n",
    "            \n",
    "            pipeline.fit(dt_train_bucket, train_y)\n",
    "\n",
    "            preds = pipeline.predict(dt_test_bucket)\n",
    "\n",
    "        if balanced_data==True:\n",
    "            acc = roc_auc_score(test_y, preds)\n",
    "            score += acc\n",
    "        else:\n",
    "            acc = f1_score(test_y, preds)\n",
    "            score += acc\n",
    "        \n",
    "        print('Accuracy:', acc)\n",
    "        \n",
    "    for k, v in args.items():\n",
    "        fout_all.write(\"%s;%s;%s;%s;%s;%s;%s\\n\" % (trial_nr, dataset_name, cls_method, method_name, k, v, score / n_splits))   \n",
    "    fout_all.write(\"%s;%s;%s;%s;%s;%s;%s\\n\" % (trial_nr, dataset_name, cls_method, method_name, \"processing_time\", time.time() - start, 0))   \n",
    "    fout_all.flush()\n",
    "    return {'loss': -score / n_splits, 'status': STATUS_OK, 'model': cls}"
   ]
  },
  {
   "cell_type": "code",
   "execution_count": 5,
   "metadata": {
    "colab": {
     "base_uri": "https://localhost:8080/"
    },
    "executionInfo": {
     "elapsed": 1993341,
     "status": "ok",
     "timestamp": 1605609993320,
     "user": {
      "displayName": "Mythreyi Velmurugan",
      "photoUrl": "https://lh3.googleusercontent.com/a-/AOh14Gh6DP4Hn-qpp593Bc6lrayXXcdQv42KAS3zJ-Ay=s64",
      "userId": "09509504425224260690"
     },
     "user_tz": -600
    },
    "id": "y_jI3dzJlUVf",
    "outputId": "b799e298-0c10-4db9-f0b8-b9b2dccbf6f9",
    "scrolled": true
   },
   "outputs": [
    {
     "name": "stdout",
     "output_type": "stream",
     "text": [
      "['sepsis_cases_1']\n",
      "splitting data\n",
      "prefix\n",
      "Optimising 1 of 20 buckets\n",
      "{'var_smoothing': 0.01}                                                                                                \n",
      "Accuracy:                                                                                                              \n",
      "0.7163793103448275                                                                                                     \n",
      "Accuracy:                                                                                                              \n",
      "0.6519988495829738                                                                                                     \n",
      "Accuracy:                                                                                                              \n",
      "0.6531492666091459                                                                                                     \n",
      "{'var_smoothing': 2.848035868435799e-08}                                                                               \n",
      "Accuracy:                                                                                                              \n",
      "0.7160919540229885                                                                                                     \n",
      "Accuracy:                                                                                                              \n",
      "0.6333045729076789                                                                                                     \n",
      "Accuracy:                                                                                                              \n",
      "0.6607707794075353                                                                                                     \n",
      "{'var_smoothing': 2.848035868435799e-05}                                                                               \n",
      "Accuracy:                                                                                                              \n",
      "0.7160919540229885                                                                                                     \n",
      "Accuracy:                                                                                                              \n",
      "0.6333045729076789                                                                                                     \n",
      "Accuracy:                                                                                                              \n",
      "0.6607707794075353                                                                                                     \n",
      "{'var_smoothing': 0.657933224657568}                                                                                   \n",
      "Accuracy:                                                                                                              \n",
      "0.681896551724138                                                                                                      \n",
      "Accuracy:                                                                                                              \n",
      "0.6344549899338511                                                                                                     \n",
      "Accuracy:                                                                                                              \n",
      "0.6350301984469371                                                                                                     \n",
      "{'var_smoothing': 0.04328761281083057}                                                                                 \n",
      "Accuracy:                                                                                                              \n",
      "0.7166666666666667                                                                                                     \n",
      "Accuracy:                                                                                                              \n",
      "0.6519988495829738                                                                                                     \n",
      "Accuracy:                                                                                                              \n",
      "0.6531492666091459                                                                                                     \n",
      "{'var_smoothing': 3.5111917342151277e-08}                                                                              \n",
      "Accuracy:                                                                                                              \n",
      "0.7160919540229885                                                                                                     \n",
      "Accuracy:                                                                                                              \n",
      "0.6333045729076789                                                                                                     \n",
      "Accuracy:                                                                                                              \n",
      "0.6607707794075353                                                                                                     \n",
      "{'var_smoothing': 1.232846739442066e-06}                                                                               \n",
      "Accuracy:                                                                                                              \n",
      "0.7160919540229885                                                                                                     \n",
      "Accuracy:                                                                                                              \n",
      "0.6333045729076789                                                                                                     \n",
      "Accuracy:                                                                                                              \n",
      "0.6607707794075353                                                                                                     \n",
      "{'var_smoothing': 1.232846739442066e-06}                                                                               \n",
      "Accuracy:                                                                                                              \n",
      "0.7160919540229885                                                                                                     \n",
      "Accuracy:                                                                                                              \n",
      "0.6333045729076789                                                                                                     \n",
      "Accuracy:                                                                                                              \n",
      "0.6607707794075353                                                                                                     \n",
      "{'var_smoothing': 0.43287612810830584}                                                                                 \n",
      "Accuracy:                                                                                                              \n",
      "0.7077586206896551                                                                                                     \n",
      "Accuracy:                                                                                                              \n",
      "0.6344549899338511                                                                                                     \n",
      "Accuracy:                                                                                                              \n",
      "0.6443773367845844                                                                                                     \n",
      "{'var_smoothing': 0.0002310129700083158}                                                                               \n",
      "Accuracy:                                                                                                              \n",
      "0.7160919540229885                                                                                                     \n",
      "Accuracy:                                                                                                              \n"
     ]
    },
    {
     "name": "stdout",
     "output_type": "stream",
     "text": [
      "0.6251078515962036                                                                                                     \n",
      "Accuracy:                                                                                                              \n",
      "0.6525740580960598                                                                                                     \n",
      "100%|███████████████████████████████████████████████| 10/10 [00:04<00:00,  2.45trial/s, best loss: -0.6739382609529287]\n",
      "Optimising 2 of 20 buckets\n",
      "{'var_smoothing': 0.0657933224657568}                                                                                  \n",
      "Accuracy:                                                                                                              \n",
      "0.6988505747126437                                                                                                     \n",
      "Accuracy:                                                                                                              \n",
      "0.6508484325568018                                                                                                     \n",
      "Accuracy:                                                                                                              \n",
      "0.6783146390566581                                                                                                     \n",
      "{'var_smoothing': 0.0533669923120631}                                                                                  \n",
      "Accuracy:                                                                                                              \n",
      "0.6902298850574713                                                                                                     \n",
      "Accuracy:                                                                                                              \n",
      "0.6508484325568018                                                                                                     \n",
      "Accuracy:                                                                                                              \n",
      "0.6783146390566581                                                                                                     \n",
      "{'var_smoothing': 8.111308307896873e-08}                                                                               \n",
      "Accuracy:                                                                                                              \n",
      "0.6899425287356322                                                                                                     \n",
      "Accuracy:                                                                                                              \n",
      "0.6590451538682772                                                                                                     \n",
      "Accuracy:                                                                                                              \n",
      "0.6678170836928387                                                                                                     \n",
      "{'var_smoothing': 6.579332246575683e-06}                                                                               \n",
      "Accuracy:                                                                                                              \n",
      "0.6899425287356322                                                                                                     \n",
      "Accuracy:                                                                                                              \n",
      "0.6508484325568018                                                                                                     \n",
      "Accuracy:                                                                                                              \n",
      "0.6678170836928387                                                                                                     \n",
      "{'var_smoothing': 8.111308307896873e-06}                                                                               \n",
      "Accuracy:                                                                                                              \n",
      "0.6899425287356322                                                                                                     \n",
      "Accuracy:                                                                                                              \n",
      "0.6508484325568018                                                                                                     \n",
      "Accuracy:                                                                                                              \n",
      "0.6678170836928387                                                                                                     \n",
      "{'var_smoothing': 3.5111917342151277e-08}                                                                              \n",
      "Accuracy:                                                                                                              \n",
      "0.6899425287356322                                                                                                     \n",
      "Accuracy:                                                                                                              \n",
      "0.6672418751797526                                                                                                     \n",
      "Accuracy:                                                                                                              \n",
      "0.6678170836928387                                                                                                     \n",
      "{'var_smoothing': 8.111308307896856e-09}                                                                               \n",
      "Accuracy:                                                                                                              \n",
      "0.6899425287356322                                                                                                     \n",
      "Accuracy:                                                                                                              \n",
      "0.6672418751797526                                                                                                     \n",
      "Accuracy:                                                                                                              \n",
      "0.6678170836928387                                                                                                     \n",
      "{'var_smoothing': 1.0}                                                                                                 \n",
      "Accuracy:                                                                                                              \n",
      "0.6899425287356322                                                                                                     \n",
      "Accuracy:                                                                                                              \n",
      "0.6508484325568018                                                                                                     \n",
      "Accuracy:                                                                                                              \n",
      "0.6683922922059247                                                                                                     \n",
      "{'var_smoothing': 2.310129700083158e-07}                                                                               \n",
      "Accuracy:                                                                                                              \n",
      "0.6899425287356322                                                                                                     \n",
      "Accuracy:                                                                                                              \n",
      "0.6590451538682772                                                                                                     \n",
      "Accuracy:                                                                                                              \n",
      "0.6678170836928387                                                                                                     \n",
      "{'var_smoothing': 0.15199110829529336}                                                                                 \n"
     ]
    },
    {
     "name": "stdout",
     "output_type": "stream",
     "text": [
      "Accuracy:                                                                                                              \n",
      "0.6988505747126437                                                                                                     \n",
      "Accuracy:                                                                                                              \n",
      "0.6508484325568018                                                                                                     \n",
      "Accuracy:                                                                                                              \n",
      "0.6783146390566581                                                                                                     \n",
      "100%|███████████████████████████████████████████████| 10/10 [00:04<00:00,  2.36trial/s, best loss: -0.6760045487753678]\n",
      "Optimising 3 of 20 buckets\n",
      "{'var_smoothing': 1e-08}                                                                                               \n",
      "Accuracy:                                                                                                              \n",
      "0.6985632183908046                                                                                                     \n",
      "Accuracy:                                                                                                              \n",
      "0.6760138050043141                                                                                                     \n",
      "Accuracy:                                                                                                              \n",
      "0.6678170836928387                                                                                                     \n",
      "{'var_smoothing': 2.848035868435799e-05}                                                                               \n",
      "Accuracy:                                                                                                              \n",
      "0.6985632183908046                                                                                                     \n",
      "Accuracy:                                                                                                              \n",
      "0.6596203623813632                                                                                                     \n",
      "Accuracy:                                                                                                              \n",
      "0.6678170836928387                                                                                                     \n",
      "{'var_smoothing': 8.111308307896872e-07}                                                                               \n",
      "Accuracy:                                                                                                              \n",
      "0.6985632183908046                                                                                                     \n",
      "Accuracy:                                                                                                              \n",
      "0.6678170836928387                                                                                                     \n",
      "Accuracy:                                                                                                              \n",
      "0.6678170836928387                                                                                                     \n",
      "{'var_smoothing': 0.006579332246575682}                                                                                \n",
      "Accuracy:                                                                                                              \n",
      "0.6905172413793104                                                                                                     \n",
      "Accuracy:                                                                                                              \n",
      "0.6596203623813632                                                                                                     \n",
      "Accuracy:                                                                                                              \n",
      "0.6952832901926949                                                                                                     \n",
      "{'var_smoothing': 1.5199110829529332e-05}                                                                              \n",
      "Accuracy:                                                                                                              \n",
      "0.6985632183908046                                                                                                     \n",
      "Accuracy:                                                                                                              \n",
      "0.6596203623813632                                                                                                     \n",
      "Accuracy:                                                                                                              \n",
      "0.6678170836928387                                                                                                     \n",
      "{'var_smoothing': 0.003511191734215131}                                                                                \n",
      "Accuracy:                                                                                                              \n",
      "0.6905172413793104                                                                                                     \n",
      "Accuracy:                                                                                                              \n",
      "0.6596203623813632                                                                                                     \n",
      "Accuracy:                                                                                                              \n",
      "0.6865113603681334                                                                                                     \n",
      "{'var_smoothing': 0.005336699231206307}                                                                                \n",
      "Accuracy:                                                                                                              \n",
      "0.6905172413793104                                                                                                     \n",
      "Accuracy:                                                                                                              \n",
      "0.6596203623813632                                                                                                     \n",
      "Accuracy:                                                                                                              \n",
      "0.6952832901926949                                                                                                     \n",
      "{'var_smoothing': 1e-09}                                                                                               \n",
      "Accuracy:                                                                                                              \n",
      "0.6985632183908046                                                                                                     \n",
      "Accuracy:                                                                                                              \n",
      "0.6760138050043141                                                                                                     \n",
      "Accuracy:                                                                                                              \n",
      "0.6678170836928387                                                                                                     \n",
      "{'var_smoothing': 1e-05}                                                                                               \n",
      "Accuracy:                                                                                                              \n",
      "0.6985632183908046                                                                                                     \n",
      "Accuracy:                                                                                                              \n",
      "0.6596203623813632                                                                                                     \n"
     ]
    },
    {
     "name": "stdout",
     "output_type": "stream",
     "text": [
      "Accuracy:                                                                                                              \n",
      "0.6678170836928387                                                                                                     \n",
      "{'var_smoothing': 1e-06}                                                                                               \n",
      "Accuracy:                                                                                                              \n",
      "0.6985632183908046                                                                                                     \n",
      "Accuracy:                                                                                                              \n",
      "0.6678170836928387                                                                                                     \n",
      "Accuracy:                                                                                                              \n",
      "0.6678170836928387                                                                                                     \n",
      "100%|███████████████████████████████████████████████| 10/10 [00:05<00:00,  1.78trial/s, best loss: -0.6818069646511228]\n",
      "Optimising 4 of 20 buckets\n",
      "{'var_smoothing': 0.15199110829529336}                                                                                 \n",
      "Accuracy:                                                                                                              \n",
      "0.6994252873563219                                                                                                     \n",
      "Accuracy:                                                                                                              \n",
      "0.6596203623813632                                                                                                     \n",
      "Accuracy:                                                                                                              \n",
      "0.680040264595916                                                                                                      \n",
      "{'var_smoothing': 8.111308307896873e-06}                                                                               \n",
      "Accuracy:                                                                                                              \n",
      "0.6985632183908046                                                                                                     \n",
      "Accuracy:                                                                                                              \n",
      "0.6678170836928387                                                                                                     \n",
      "Accuracy:                                                                                                              \n",
      "0.6765890135174                                                                                                        \n",
      "{'var_smoothing': 0.01873817422860384}                                                                                 \n",
      "Accuracy:                                                                                                              \n",
      "0.6908045977011494                                                                                                     \n",
      "Accuracy:                                                                                                              \n",
      "0.6596203623813632                                                                                                     \n",
      "Accuracy:                                                                                                              \n",
      "0.6964337072188668                                                                                                     \n",
      "{'var_smoothing': 1.0}                                                                                                 \n",
      "Accuracy:                                                                                                              \n",
      "0.707183908045977                                                                                                      \n",
      "Accuracy:                                                                                                              \n",
      "0.6596203623813632                                                                                                     \n",
      "Accuracy:                                                                                                              \n",
      "0.6865113603681334                                                                                                     \n",
      "{'var_smoothing': 1.519911082952933e-09}                                                                               \n",
      "Accuracy:                                                                                                              \n",
      "0.6985632183908046                                                                                                     \n",
      "Accuracy:                                                                                                              \n",
      "0.6760138050043141                                                                                                     \n",
      "Accuracy:                                                                                                              \n",
      "0.6678170836928387                                                                                                     \n",
      "{'var_smoothing': 0.08111308307896872}                                                                                 \n",
      "Accuracy:                                                                                                              \n",
      "0.6994252873563219                                                                                                     \n",
      "Accuracy:                                                                                                              \n",
      "0.6514236410698879                                                                                                     \n",
      "Accuracy:                                                                                                              \n",
      "0.680040264595916                                                                                                      \n",
      "{'var_smoothing': 1.232846739442066e-06}                                                                               \n",
      "Accuracy:                                                                                                              \n",
      "0.6985632183908046                                                                                                     \n",
      "Accuracy:                                                                                                              \n",
      "0.6678170836928387                                                                                                     \n",
      "Accuracy:                                                                                                              \n",
      "0.6678170836928387                                                                                                     \n",
      "{'var_smoothing': 5.3366992312063123e-05}                                                                              \n",
      "Accuracy:                                                                                                              \n",
      "0.6985632183908046                                                                                                     \n",
      "Accuracy:                                                                                                              \n",
      "0.6596203623813632                                                                                                     \n",
      "Accuracy:                                                                                                              \n",
      "0.6853609433419614                                                                                                     \n",
      "{'var_smoothing': 3.5111917342151275e-06}                                                                              \n",
      "Accuracy:                                                                                                              \n"
     ]
    },
    {
     "name": "stdout",
     "output_type": "stream",
     "text": [
      "0.6985632183908046                                                                                                     \n",
      "Accuracy:                                                                                                              \n",
      "0.6678170836928387                                                                                                     \n",
      "Accuracy:                                                                                                              \n",
      "0.6678170836928387                                                                                                     \n",
      "{'var_smoothing': 0.3511191734215131}                                                                                  \n",
      "Accuracy:                                                                                                              \n",
      "0.7077586206896551                                                                                                     \n",
      "Accuracy:                                                                                                              \n",
      "0.6596203623813632                                                                                                     \n",
      "Accuracy:                                                                                                              \n",
      "0.6619211964337073                                                                                                     \n",
      "100%|███████████████████████████████████████████████| 10/10 [00:06<00:00,  1.48trial/s, best loss: -0.6844385435984912]\n",
      "Optimising 5 of 20 buckets\n",
      "{'var_smoothing': 2.310129700083158e-05}                                                                               \n",
      "Accuracy:                                                                                                              \n",
      "0.707183908045977                                                                                                      \n",
      "Accuracy:                                                                                                              \n",
      "0.6678170836928387                                                                                                     \n",
      "Accuracy:                                                                                                              \n",
      "0.6765890135174                                                                                                        \n",
      "{'var_smoothing': 0.0004328761281083057}                                                                               \n",
      "Accuracy:                                                                                                              \n",
      "0.707183908045977                                                                                                      \n",
      "Accuracy:                                                                                                              \n",
      "0.6596203623813632                                                                                                     \n",
      "Accuracy:                                                                                                              \n",
      "0.6765890135174                                                                                                        \n",
      "{'var_smoothing': 0.0003511191734215131}                                                                               \n",
      "Accuracy:                                                                                                              \n",
      "0.707183908045977                                                                                                      \n",
      "Accuracy:                                                                                                              \n",
      "0.6596203623813632                                                                                                     \n",
      "Accuracy:                                                                                                              \n",
      "0.6765890135174                                                                                                        \n",
      "{'var_smoothing': 5.336699231206302e-09}                                                                               \n",
      "Accuracy:                                                                                                              \n",
      "0.7068965517241379                                                                                                     \n",
      "Accuracy:                                                                                                              \n",
      "0.6760138050043141                                                                                                     \n",
      "Accuracy:                                                                                                              \n",
      "0.6760138050043141                                                                                                     \n",
      "{'var_smoothing': 1.873817422860383e-06}                                                                               \n",
      "Accuracy:                                                                                                              \n",
      "0.7068965517241379                                                                                                     \n",
      "Accuracy:                                                                                                              \n",
      "0.6760138050043141                                                                                                     \n",
      "Accuracy:                                                                                                              \n",
      "0.6765890135174                                                                                                        \n",
      "{'var_smoothing': 1e-06}                                                                                               \n",
      "Accuracy:                                                                                                              \n",
      "0.7068965517241379                                                                                                     \n",
      "Accuracy:                                                                                                              \n",
      "0.6760138050043141                                                                                                     \n",
      "Accuracy:                                                                                                              \n",
      "0.6765890135174                                                                                                        \n",
      "{'var_smoothing': 0.657933224657568}                                                                                   \n",
      "Accuracy:                                                                                                              \n",
      "0.6988505747126437                                                                                                     \n",
      "Accuracy:                                                                                                              \n",
      "0.6596203623813632                                                                                                     \n",
      "Accuracy:                                                                                                              \n",
      "0.6765890135174                                                                                                        \n",
      "{'var_smoothing': 1.232846739442066e-07}                                                                               \n",
      "Accuracy:                                                                                                              \n",
      "0.7068965517241379                                                                                                     \n",
      "Accuracy:                                                                                                              \n",
      "0.6760138050043141                                                                                                     \n",
      "Accuracy:                                                                                                              \n"
     ]
    },
    {
     "name": "stdout",
     "output_type": "stream",
     "text": [
      "0.6678170836928387                                                                                                     \n",
      "{'var_smoothing': 2.310129700083158e-08}                                                                               \n",
      "Accuracy:                                                                                                              \n",
      "0.7068965517241379                                                                                                     \n",
      "Accuracy:                                                                                                              \n",
      "0.6760138050043141                                                                                                     \n",
      "Accuracy:                                                                                                              \n",
      "0.6760138050043141                                                                                                     \n",
      "{'var_smoothing': 2.848035868435799e-06}                                                                               \n",
      "Accuracy:                                                                                                              \n",
      "0.7068965517241379                                                                                                     \n",
      "Accuracy:                                                                                                              \n",
      "0.6760138050043141                                                                                                     \n",
      "Accuracy:                                                                                                              \n",
      "0.6765890135174                                                                                                        \n",
      "100%|███████████████████████████████████████████████| 10/10 [00:07<00:00,  1.40trial/s, best loss: -0.6864997900819506]\n",
      "Optimising 6 of 20 buckets\n",
      "{'var_smoothing': 0.0002848035868435802}                                                                               \n",
      "Accuracy:                                                                                                              \n",
      "0.7158045977011493                                                                                                     \n",
      "Accuracy:                                                                                                              \n",
      "0.6765890135174                                                                                                        \n",
      "Accuracy:                                                                                                              \n",
      "0.6847857348288755                                                                                                     \n",
      "{'var_smoothing': 0.0001519911082952933}                                                                               \n",
      "Accuracy:                                                                                                              \n",
      "0.707183908045977                                                                                                      \n",
      "Accuracy:                                                                                                              \n",
      "0.6765890135174                                                                                                        \n",
      "Accuracy:                                                                                                              \n",
      "0.6847857348288755                                                                                                     \n",
      "{'var_smoothing': 4.328761281083062e-05}                                                                               \n",
      "Accuracy:                                                                                                              \n",
      "0.7155172413793103                                                                                                     \n",
      "Accuracy:                                                                                                              \n",
      "0.6765890135174                                                                                                        \n",
      "Accuracy:                                                                                                              \n",
      "0.6760138050043141                                                                                                     \n",
      "{'var_smoothing': 0.004328761281083057}                                                                                \n",
      "Accuracy:                                                                                                              \n",
      "0.7158045977011493                                                                                                     \n",
      "Accuracy:                                                                                                              \n",
      "0.6683922922059247                                                                                                     \n",
      "Accuracy:                                                                                                              \n",
      "0.6847857348288755                                                                                                     \n",
      "{'var_smoothing': 1e-05}                                                                                               \n",
      "Accuracy:                                                                                                              \n",
      "0.7155172413793103                                                                                                     \n",
      "Accuracy:                                                                                                              \n",
      "0.6847857348288755                                                                                                     \n",
      "Accuracy:                                                                                                              \n",
      "0.6760138050043141                                                                                                     \n",
      "{'var_smoothing': 8.111308307896872e-07}                                                                               \n",
      "Accuracy:                                                                                                              \n",
      "0.7155172413793103                                                                                                     \n",
      "Accuracy:                                                                                                              \n",
      "0.6929824561403508                                                                                                     \n",
      "Accuracy:                                                                                                              \n",
      "0.6842105263157895                                                                                                     \n",
      "{'var_smoothing': 1.232846739442066e-08}                                                                               \n",
      "Accuracy:                                                                                                              \n",
      "0.7068965517241379                                                                                                     \n",
      "Accuracy:                                                                                                              \n",
      "0.6929824561403508                                                                                                     \n",
      "Accuracy:                                                                                                              \n",
      "0.6754385964912281                                                                                                     \n",
      "{'var_smoothing': 5.336699231206313e-06}                                                                               \n",
      "Accuracy:                                                                                                              \n",
      "0.7155172413793103                                                                                                     \n"
     ]
    },
    {
     "name": "stdout",
     "output_type": "stream",
     "text": [
      "Accuracy:                                                                                                              \n",
      "0.6929824561403508                                                                                                     \n",
      "Accuracy:                                                                                                              \n",
      "0.6842105263157895                                                                                                     \n",
      "{'var_smoothing': 0.012328467394420659}                                                                                \n",
      "Accuracy:                                                                                                              \n",
      "0.707471264367816                                                                                                      \n",
      "Accuracy:                                                                                                              \n",
      "0.6683922922059247                                                                                                     \n",
      "Accuracy:                                                                                                              \n",
      "0.6847857348288755                                                                                                     \n",
      "{'var_smoothing': 8.111308307896873e-08}                                                                               \n",
      "Accuracy:                                                                                                              \n",
      "0.7068965517241379                                                                                                     \n",
      "Accuracy:                                                                                                              \n",
      "0.6929824561403508                                                                                                     \n",
      "Accuracy:                                                                                                              \n",
      "0.6842105263157895                                                                                                     \n",
      "100%|███████████████████████████████████████████████| 10/10 [00:08<00:00,  1.20trial/s, best loss: -0.6975700746118169]\n",
      "Optimising 7 of 20 buckets\n",
      "{'var_smoothing': 0.0023101297000831605}                                                                               \n",
      "Accuracy:                                                                                                              \n",
      "0.7114035087719299                                                                                                     \n",
      "Accuracy:                                                                                                              \n",
      "0.6986241217798594                                                                                                     \n",
      "Accuracy:                                                                                                              \n",
      "0.6935576646534369                                                                                                     \n",
      "{'var_smoothing': 5.336699231206302e-08}                                                                               \n",
      "Accuracy:                                                                                                              \n",
      "0.7192982456140351                                                                                                     \n",
      "Accuracy:                                                                                                              \n",
      "0.7232142857142857                                                                                                     \n",
      "Accuracy:                                                                                                              \n",
      "0.6929824561403508                                                                                                     \n",
      "{'var_smoothing': 0.08111308307896872}                                                                                 \n",
      "Accuracy:                                                                                                              \n",
      "0.7114035087719299                                                                                                     \n",
      "Accuracy:                                                                                                              \n",
      "0.6986241217798594                                                                                                     \n",
      "Accuracy:                                                                                                              \n",
      "0.6935576646534369                                                                                                     \n",
      "{'var_smoothing': 1.873817422860383e-05}                                                                               \n",
      "Accuracy:                                                                                                              \n",
      "0.7197368421052632                                                                                                     \n",
      "Accuracy:                                                                                                              \n",
      "0.7068208430913349                                                                                                     \n",
      "Accuracy:                                                                                                              \n",
      "0.6847857348288755                                                                                                     \n",
      "{'var_smoothing': 4.328761281083062e-05}                                                                               \n",
      "Accuracy:                                                                                                              \n",
      "0.7197368421052632                                                                                                     \n",
      "Accuracy:                                                                                                              \n",
      "0.7068208430913349                                                                                                     \n",
      "Accuracy:                                                                                                              \n",
      "0.6847857348288755                                                                                                     \n",
      "{'var_smoothing': 0.23101297000831597}                                                                                 \n",
      "Accuracy:                                                                                                              \n",
      "0.7114035087719299                                                                                                     \n",
      "Accuracy:                                                                                                              \n",
      "0.6986241217798594                                                                                                     \n",
      "Accuracy:                                                                                                              \n",
      "0.6935576646534369                                                                                                     \n",
      "{'var_smoothing': 5.336699231206313e-07}                                                                               \n",
      "Accuracy:                                                                                                              \n",
      "0.7197368421052632                                                                                                     \n",
      "Accuracy:                                                                                                              \n",
      "0.7232142857142857                                                                                                     \n",
      "Accuracy:                                                                                                              \n",
      "0.6929824561403508                                                                                                     \n"
     ]
    },
    {
     "name": "stdout",
     "output_type": "stream",
     "text": [
      "{'var_smoothing': 2.310129700083158e-09}                                                                               \n",
      "Accuracy:                                                                                                              \n",
      "0.7192982456140351                                                                                                     \n",
      "Accuracy:                                                                                                              \n",
      "0.7142857142857143                                                                                                     \n",
      "Accuracy:                                                                                                              \n",
      "0.6842105263157895                                                                                                     \n",
      "{'var_smoothing': 0.0008111308307896872}                                                                               \n",
      "Accuracy:                                                                                                              \n",
      "0.7114035087719299                                                                                                     \n",
      "Accuracy:                                                                                                              \n",
      "0.7068208430913349                                                                                                     \n",
      "Accuracy:                                                                                                              \n",
      "0.6935576646534369                                                                                                     \n",
      "{'var_smoothing': 0.15199110829529336}                                                                                 \n",
      "Accuracy:                                                                                                              \n",
      "0.7114035087719299                                                                                                     \n",
      "Accuracy:                                                                                                              \n",
      "0.6986241217798594                                                                                                     \n",
      "Accuracy:                                                                                                              \n",
      "0.6935576646534369                                                                                                     \n",
      "100%|███████████████████████████████████████████████| 10/10 [00:08<00:00,  1.18trial/s, best loss: -0.7119778613199665]\n",
      "Optimising 8 of 20 buckets\n",
      "{'var_smoothing': 0.15199110829529336}                                                                                 \n",
      "Accuracy:                                                                                                              \n",
      "0.7875302663438256                                                                                                     \n",
      "  0%|                                                                           | 0/10 [00:00<?, ?trial/s, best loss=?]"
     ]
    },
    {
     "name": "stderr",
     "output_type": "stream",
     "text": [
      "C:\\Users\\velmurug\\Documents\\full_stability\\transformers\\IndexBasedTransformer.py:58: PerformanceWarning: DataFrame is highly fragmented.  This is usually the result of calling `frame.insert` many times, which has poor performance.  Consider joining all columns at once using pd.concat(axis=1) instead.  To get a de-fragmented frame, use `newframe = frame.copy()`\n",
      "  dt_transformed[col] = 0\n",
      "\n"
     ]
    },
    {
     "name": "stdout",
     "output_type": "stream",
     "text": [
      "Accuracy:                                                                                                              \n",
      "0.7241222760290557                                                                                                     \n",
      "Accuracy:                                                                                                              \n",
      "0.706547619047619                                                                                                      \n",
      "{'var_smoothing': 0.0004328761281083057}                                                                               \n",
      "Accuracy:                                                                                                              \n",
      "0.7509079903147701                                                                                                     \n",
      " 10%|████▊                                           | 1/10 [00:01<00:08,  1.04trial/s, best loss: -0.7394000538068335]"
     ]
    },
    {
     "name": "stderr",
     "output_type": "stream",
     "text": [
      "C:\\Users\\velmurug\\Documents\\full_stability\\transformers\\IndexBasedTransformer.py:58: PerformanceWarning: DataFrame is highly fragmented.  This is usually the result of calling `frame.insert` many times, which has poor performance.  Consider joining all columns at once using pd.concat(axis=1) instead.  To get a de-fragmented frame, use `newframe = frame.copy()`\n",
      "  dt_transformed[col] = 0\n",
      "\n"
     ]
    },
    {
     "name": "stdout",
     "output_type": "stream",
     "text": [
      "Accuracy:                                                                                                              \n",
      "0.7241222760290557                                                                                                     \n",
      "Accuracy:                                                                                                              \n",
      "0.7232142857142857                                                                                                     \n",
      "{'var_smoothing': 0.003511191734215131}                                                                                \n",
      "Accuracy:                                                                                                              \n",
      "0.7866222760290558                                                                                                     \n",
      " 20%|█████████▌                                      | 2/10 [00:02<00:07,  1.03trial/s, best loss: -0.7394000538068335]"
     ]
    },
    {
     "name": "stderr",
     "output_type": "stream",
     "text": [
      "C:\\Users\\velmurug\\Documents\\full_stability\\transformers\\IndexBasedTransformer.py:58: PerformanceWarning: DataFrame is highly fragmented.  This is usually the result of calling `frame.insert` many times, which has poor performance.  Consider joining all columns at once using pd.concat(axis=1) instead.  To get a de-fragmented frame, use `newframe = frame.copy()`\n",
      "  dt_transformed[col] = 0\n",
      "\n"
     ]
    },
    {
     "name": "stdout",
     "output_type": "stream",
     "text": [
      "Accuracy:                                                                                                              \n",
      "0.7241222760290557                                                                                                     \n",
      "Accuracy:                                                                                                              \n",
      "0.7232142857142857                                                                                                     \n",
      "{'var_smoothing': 0.3511191734215131}                                                                                  \n",
      "Accuracy:                                                                                                              \n",
      "0.7786016949152541                                                                                                     \n",
      " 30%|██████████████▍                                 | 3/10 [00:03<00:06,  1.01trial/s, best loss: -0.7446529459241323]"
     ]
    },
    {
     "name": "stderr",
     "output_type": "stream",
     "text": [
      "C:\\Users\\velmurug\\Documents\\full_stability\\transformers\\IndexBasedTransformer.py:58: PerformanceWarning: DataFrame is highly fragmented.  This is usually the result of calling `frame.insert` many times, which has poor performance.  Consider joining all columns at once using pd.concat(axis=1) instead.  To get a de-fragmented frame, use `newframe = frame.copy()`\n",
      "  dt_transformed[col] = 0\n",
      "\n"
     ]
    },
    {
     "name": "stdout",
     "output_type": "stream",
     "text": [
      "Accuracy:                                                                                                              \n",
      "0.7241222760290557                                                                                                     \n",
      "Accuracy:                                                                                                              \n",
      "0.706547619047619                                                                                                      \n",
      "{'var_smoothing': 1.0}                                                                                                 \n",
      "Accuracy:                                                                                                              \n",
      "0.769219128329298                                                                                                      \n",
      " 40%|███████████████████▏                            | 4/10 [00:04<00:05,  1.01trial/s, best loss: -0.7446529459241323]"
     ]
    },
    {
     "name": "stderr",
     "output_type": "stream",
     "text": [
      "C:\\Users\\velmurug\\Documents\\full_stability\\transformers\\IndexBasedTransformer.py:58: PerformanceWarning: DataFrame is highly fragmented.  This is usually the result of calling `frame.insert` many times, which has poor performance.  Consider joining all columns at once using pd.concat(axis=1) instead.  To get a de-fragmented frame, use `newframe = frame.copy()`\n",
      "  dt_transformed[col] = 0\n",
      "\n"
     ]
    },
    {
     "name": "stdout",
     "output_type": "stream",
     "text": [
      "Accuracy:                                                                                                              \n",
      "0.7241222760290557                                                                                                     \n",
      "Accuracy:                                                                                                              \n",
      "0.6880952380952381                                                                                                     \n",
      "{'var_smoothing': 0.657933224657568}                                                                                   \n",
      "Accuracy:                                                                                                              \n",
      "0.7607445520581113                                                                                                     \n",
      " 50%|████████████████████████                        | 5/10 [00:05<00:04,  1.01trial/s, best loss: -0.7446529459241323]"
     ]
    },
    {
     "name": "stderr",
     "output_type": "stream",
     "text": [
      "C:\\Users\\velmurug\\Documents\\full_stability\\transformers\\IndexBasedTransformer.py:58: PerformanceWarning: DataFrame is highly fragmented.  This is usually the result of calling `frame.insert` many times, which has poor performance.  Consider joining all columns at once using pd.concat(axis=1) instead.  To get a de-fragmented frame, use `newframe = frame.copy()`\n",
      "  dt_transformed[col] = 0\n",
      "\n"
     ]
    },
    {
     "name": "stdout",
     "output_type": "stream",
     "text": [
      "Accuracy:                                                                                                              \n",
      "0.7241222760290557                                                                                                     \n",
      "Accuracy:                                                                                                              \n",
      "0.706547619047619                                                                                                      \n",
      "{'var_smoothing': 0.0533669923120631}                                                                                  \n",
      "Accuracy:                                                                                                              \n",
      "0.7786016949152541                                                                                                     \n",
      " 60%|████████████████████████████▊                   | 6/10 [00:06<00:03,  1.02trial/s, best loss: -0.7446529459241323]"
     ]
    },
    {
     "name": "stderr",
     "output_type": "stream",
     "text": [
      "C:\\Users\\velmurug\\Documents\\full_stability\\transformers\\IndexBasedTransformer.py:58: PerformanceWarning: DataFrame is highly fragmented.  This is usually the result of calling `frame.insert` many times, which has poor performance.  Consider joining all columns at once using pd.concat(axis=1) instead.  To get a de-fragmented frame, use `newframe = frame.copy()`\n",
      "  dt_transformed[col] = 0\n",
      "\n"
     ]
    },
    {
     "name": "stdout",
     "output_type": "stream",
     "text": [
      "Accuracy:                                                                                                              \n",
      "0.7241222760290557                                                                                                     \n",
      "Accuracy:                                                                                                              \n",
      "0.706547619047619                                                                                                      \n",
      "{'var_smoothing': 0.8111308307896871}                                                                                  \n",
      "Accuracy:                                                                                                              \n",
      "0.7607445520581113                                                                                                     \n",
      " 70%|█████████████████████████████████▌              | 7/10 [00:07<00:02,  1.03trial/s, best loss: -0.7446529459241323]"
     ]
    },
    {
     "name": "stderr",
     "output_type": "stream",
     "text": [
      "C:\\Users\\velmurug\\Documents\\full_stability\\transformers\\IndexBasedTransformer.py:58: PerformanceWarning: DataFrame is highly fragmented.  This is usually the result of calling `frame.insert` many times, which has poor performance.  Consider joining all columns at once using pd.concat(axis=1) instead.  To get a de-fragmented frame, use `newframe = frame.copy()`\n",
      "  dt_transformed[col] = 0\n",
      "\n"
     ]
    },
    {
     "name": "stdout",
     "output_type": "stream",
     "text": [
      "Accuracy:                                                                                                              \n",
      "0.7241222760290557                                                                                                     \n",
      "Accuracy:                                                                                                              \n",
      "0.6886904761904762                                                                                                     \n",
      "{'var_smoothing': 0.0002310129700083158}                                                                               \n",
      "Accuracy:                                                                                                              \n",
      "0.7509079903147701                                                                                                     \n",
      " 80%|██████████████████████████████████████▍         | 8/10 [00:08<00:01,  1.02trial/s, best loss: -0.7446529459241323]"
     ]
    },
    {
     "name": "stderr",
     "output_type": "stream",
     "text": [
      "C:\\Users\\velmurug\\Documents\\full_stability\\transformers\\IndexBasedTransformer.py:58: PerformanceWarning: DataFrame is highly fragmented.  This is usually the result of calling `frame.insert` many times, which has poor performance.  Consider joining all columns at once using pd.concat(axis=1) instead.  To get a de-fragmented frame, use `newframe = frame.copy()`\n",
      "  dt_transformed[col] = 0\n",
      "\n"
     ]
    },
    {
     "name": "stdout",
     "output_type": "stream",
     "text": [
      "Accuracy:                                                                                                              \n",
      "0.7241222760290557                                                                                                     \n",
      "Accuracy:                                                                                                              \n",
      "0.7232142857142857                                                                                                     \n",
      "{'var_smoothing': 0.012328467394420659}                                                                                \n",
      "Accuracy:                                                                                                              \n",
      "0.7696731234866829                                                                                                     \n",
      " 90%|███████████████████████████████████████████▏    | 9/10 [00:09<00:00,  1.03trial/s, best loss: -0.7446529459241323]"
     ]
    },
    {
     "name": "stderr",
     "output_type": "stream",
     "text": [
      "C:\\Users\\velmurug\\Documents\\full_stability\\transformers\\IndexBasedTransformer.py:58: PerformanceWarning: DataFrame is highly fragmented.  This is usually the result of calling `frame.insert` many times, which has poor performance.  Consider joining all columns at once using pd.concat(axis=1) instead.  To get a de-fragmented frame, use `newframe = frame.copy()`\n",
      "  dt_transformed[col] = 0\n",
      "\n"
     ]
    },
    {
     "name": "stdout",
     "output_type": "stream",
     "text": [
      "Accuracy:                                                                                                              \n",
      "0.7241222760290557                                                                                                     \n",
      "Accuracy:                                                                                                              \n",
      "0.706547619047619                                                                                                      \n",
      "100%|███████████████████████████████████████████████| 10/10 [00:09<00:00,  1.01trial/s, best loss: -0.7446529459241323]\n",
      "Optimising 9 of 20 buckets\n",
      "{'var_smoothing': 0.8111308307896871}                                                                                  \n",
      "Accuracy:                                                                                                              \n",
      "0.7681650246305419                                                                                                     \n",
      "  0%|                                                                           | 0/10 [00:00<?, ?trial/s, best loss=?]"
     ]
    },
    {
     "name": "stderr",
     "output_type": "stream",
     "text": [
      "C:\\Users\\velmurug\\Documents\\full_stability\\transformers\\IndexBasedTransformer.py:58: PerformanceWarning: DataFrame is highly fragmented.  This is usually the result of calling `frame.insert` many times, which has poor performance.  Consider joining all columns at once using pd.concat(axis=1) instead.  To get a de-fragmented frame, use `newframe = frame.copy()`\n",
      "  dt_transformed[col] = 0\n",
      "\n"
     ]
    },
    {
     "name": "stdout",
     "output_type": "stream",
     "text": [
      "Accuracy:                                                                                                              \n",
      "0.7330508474576272                                                                                                     \n",
      "  0%|                                                                           | 0/10 [00:00<?, ?trial/s, best loss=?]"
     ]
    },
    {
     "name": "stderr",
     "output_type": "stream",
     "text": [
      "C:\\Users\\velmurug\\Documents\\full_stability\\transformers\\IndexBasedTransformer.py:58: PerformanceWarning: DataFrame is highly fragmented.  This is usually the result of calling `frame.insert` many times, which has poor performance.  Consider joining all columns at once using pd.concat(axis=1) instead.  To get a de-fragmented frame, use `newframe = frame.copy()`\n",
      "  dt_transformed[col] = 0\n",
      "\n"
     ]
    },
    {
     "name": "stdout",
     "output_type": "stream",
     "text": [
      "Accuracy:                                                                                                              \n",
      "0.7330508474576272                                                                                                     \n",
      "{'var_smoothing': 5.336699231206313e-06}                                                                               \n",
      " 10%|████▊                                           | 1/10 [00:01<00:11,  1.24s/trial, best loss: -0.7447555731819321]"
     ]
    },
    {
     "name": "stderr",
     "output_type": "stream",
     "text": [
      "C:\\Users\\velmurug\\Documents\\full_stability\\transformers\\IndexBasedTransformer.py:58: PerformanceWarning: DataFrame is highly fragmented.  This is usually the result of calling `frame.insert` many times, which has poor performance.  Consider joining all columns at once using pd.concat(axis=1) instead.  To get a de-fragmented frame, use `newframe = frame.copy()`\n",
      "  dt_transformed[col] = 0\n",
      "\n"
     ]
    },
    {
     "name": "stdout",
     "output_type": "stream",
     "text": [
      "Accuracy:                                                                                                              \n",
      "0.7767857142857143                                                                                                     \n",
      " 10%|████▊                                           | 1/10 [00:01<00:11,  1.24s/trial, best loss: -0.7447555731819321]"
     ]
    },
    {
     "name": "stderr",
     "output_type": "stream",
     "text": [
      "C:\\Users\\velmurug\\Documents\\full_stability\\transformers\\IndexBasedTransformer.py:58: PerformanceWarning: DataFrame is highly fragmented.  This is usually the result of calling `frame.insert` many times, which has poor performance.  Consider joining all columns at once using pd.concat(axis=1) instead.  To get a de-fragmented frame, use `newframe = frame.copy()`\n",
      "  dt_transformed[col] = 0\n",
      "\n"
     ]
    },
    {
     "name": "stdout",
     "output_type": "stream",
     "text": [
      "Accuracy:                                                                                                              \n",
      "0.7589285714285714                                                                                                     \n",
      " 10%|████▊                                           | 1/10 [00:02<00:11,  1.24s/trial, best loss: -0.7447555731819321]"
     ]
    },
    {
     "name": "stderr",
     "output_type": "stream",
     "text": [
      "C:\\Users\\velmurug\\Documents\\full_stability\\transformers\\IndexBasedTransformer.py:58: PerformanceWarning: DataFrame is highly fragmented.  This is usually the result of calling `frame.insert` many times, which has poor performance.  Consider joining all columns at once using pd.concat(axis=1) instead.  To get a de-fragmented frame, use `newframe = frame.copy()`\n",
      "  dt_transformed[col] = 0\n",
      "\n"
     ]
    },
    {
     "name": "stdout",
     "output_type": "stream",
     "text": [
      "Accuracy:                                                                                                              \n",
      "0.75                                                                                                                   \n",
      "{'var_smoothing': 2.310129700083158e-08}                                                                               \n",
      " 20%|█████████▌                                      | 2/10 [00:02<00:09,  1.22s/trial, best loss: -0.7619047619047619]"
     ]
    },
    {
     "name": "stderr",
     "output_type": "stream",
     "text": [
      "C:\\Users\\velmurug\\Documents\\full_stability\\transformers\\IndexBasedTransformer.py:58: PerformanceWarning: DataFrame is highly fragmented.  This is usually the result of calling `frame.insert` many times, which has poor performance.  Consider joining all columns at once using pd.concat(axis=1) instead.  To get a de-fragmented frame, use `newframe = frame.copy()`\n",
      "  dt_transformed[col] = 0\n",
      "\n"
     ]
    },
    {
     "name": "stdout",
     "output_type": "stream",
     "text": [
      "Accuracy:                                                                                                              \n",
      "0.7767857142857143                                                                                                     \n",
      " 20%|█████████▌                                      | 2/10 [00:02<00:09,  1.22s/trial, best loss: -0.7619047619047619]"
     ]
    },
    {
     "name": "stderr",
     "output_type": "stream",
     "text": [
      "C:\\Users\\velmurug\\Documents\\full_stability\\transformers\\IndexBasedTransformer.py:58: PerformanceWarning: DataFrame is highly fragmented.  This is usually the result of calling `frame.insert` many times, which has poor performance.  Consider joining all columns at once using pd.concat(axis=1) instead.  To get a de-fragmented frame, use `newframe = frame.copy()`\n",
      "  dt_transformed[col] = 0\n",
      "\n"
     ]
    },
    {
     "name": "stdout",
     "output_type": "stream",
     "text": [
      "Accuracy:                                                                                                              \n",
      "0.7589285714285714                                                                                                     \n",
      " 20%|█████████▌                                      | 2/10 [00:03<00:09,  1.22s/trial, best loss: -0.7619047619047619]"
     ]
    },
    {
     "name": "stderr",
     "output_type": "stream",
     "text": [
      "C:\\Users\\velmurug\\Documents\\full_stability\\transformers\\IndexBasedTransformer.py:58: PerformanceWarning: DataFrame is highly fragmented.  This is usually the result of calling `frame.insert` many times, which has poor performance.  Consider joining all columns at once using pd.concat(axis=1) instead.  To get a de-fragmented frame, use `newframe = frame.copy()`\n",
      "  dt_transformed[col] = 0\n",
      "\n"
     ]
    },
    {
     "name": "stdout",
     "output_type": "stream",
     "text": [
      "Accuracy:                                                                                                              \n",
      "0.75                                                                                                                   \n",
      "{'var_smoothing': 0.001873817422860383}                                                                                \n",
      " 30%|██████████████▍                                 | 3/10 [00:03<00:08,  1.20s/trial, best loss: -0.7619047619047619]"
     ]
    },
    {
     "name": "stderr",
     "output_type": "stream",
     "text": [
      "C:\\Users\\velmurug\\Documents\\full_stability\\transformers\\IndexBasedTransformer.py:58: PerformanceWarning: DataFrame is highly fragmented.  This is usually the result of calling `frame.insert` many times, which has poor performance.  Consider joining all columns at once using pd.concat(axis=1) instead.  To get a de-fragmented frame, use `newframe = frame.copy()`\n",
      "  dt_transformed[col] = 0\n",
      "\n"
     ]
    },
    {
     "name": "stdout",
     "output_type": "stream",
     "text": [
      "Accuracy:                                                                                                              \n",
      "0.7681650246305419                                                                                                     \n",
      " 30%|██████████████▍                                 | 3/10 [00:03<00:08,  1.20s/trial, best loss: -0.7619047619047619]"
     ]
    },
    {
     "name": "stderr",
     "output_type": "stream",
     "text": [
      "C:\\Users\\velmurug\\Documents\\full_stability\\transformers\\IndexBasedTransformer.py:58: PerformanceWarning: DataFrame is highly fragmented.  This is usually the result of calling `frame.insert` many times, which has poor performance.  Consider joining all columns at once using pd.concat(axis=1) instead.  To get a de-fragmented frame, use `newframe = frame.copy()`\n",
      "  dt_transformed[col] = 0\n",
      "\n"
     ]
    },
    {
     "name": "stdout",
     "output_type": "stream",
     "text": [
      "Accuracy:                                                                                                              \n",
      "0.750453995157385                                                                                                      \n",
      " 30%|██████████████▍                                 | 3/10 [00:04<00:08,  1.20s/trial, best loss: -0.7619047619047619]"
     ]
    },
    {
     "name": "stderr",
     "output_type": "stream",
     "text": [
      "C:\\Users\\velmurug\\Documents\\full_stability\\transformers\\IndexBasedTransformer.py:58: PerformanceWarning: DataFrame is highly fragmented.  This is usually the result of calling `frame.insert` many times, which has poor performance.  Consider joining all columns at once using pd.concat(axis=1) instead.  To get a de-fragmented frame, use `newframe = frame.copy()`\n",
      "  dt_transformed[col] = 0\n",
      "\n"
     ]
    },
    {
     "name": "stdout",
     "output_type": "stream",
     "text": [
      "Accuracy:                                                                                                              \n",
      "0.75                                                                                                                   \n",
      "{'var_smoothing': 1.5199110829529332e-05}                                                                              \n",
      " 40%|███████████████████▏                            | 4/10 [00:04<00:06,  1.16s/trial, best loss: -0.7619047619047619]"
     ]
    },
    {
     "name": "stderr",
     "output_type": "stream",
     "text": [
      "C:\\Users\\velmurug\\Documents\\full_stability\\transformers\\IndexBasedTransformer.py:58: PerformanceWarning: DataFrame is highly fragmented.  This is usually the result of calling `frame.insert` many times, which has poor performance.  Consider joining all columns at once using pd.concat(axis=1) instead.  To get a de-fragmented frame, use `newframe = frame.copy()`\n",
      "  dt_transformed[col] = 0\n",
      "\n"
     ]
    },
    {
     "name": "stdout",
     "output_type": "stream",
     "text": [
      "Accuracy:                                                                                                              \n",
      "0.7681650246305419                                                                                                     \n",
      " 40%|███████████████████▏                            | 4/10 [00:05<00:06,  1.16s/trial, best loss: -0.7619047619047619]"
     ]
    },
    {
     "name": "stderr",
     "output_type": "stream",
     "text": [
      "C:\\Users\\velmurug\\Documents\\full_stability\\transformers\\IndexBasedTransformer.py:58: PerformanceWarning: DataFrame is highly fragmented.  This is usually the result of calling `frame.insert` many times, which has poor performance.  Consider joining all columns at once using pd.concat(axis=1) instead.  To get a de-fragmented frame, use `newframe = frame.copy()`\n",
      "  dt_transformed[col] = 0\n",
      "\n"
     ]
    },
    {
     "name": "stdout",
     "output_type": "stream",
     "text": [
      "Accuracy:                                                                                                              \n",
      "0.7589285714285714                                                                                                     \n",
      " 40%|███████████████████▏                            | 4/10 [00:05<00:06,  1.16s/trial, best loss: -0.7619047619047619]"
     ]
    },
    {
     "name": "stderr",
     "output_type": "stream",
     "text": [
      "C:\\Users\\velmurug\\Documents\\full_stability\\transformers\\IndexBasedTransformer.py:58: PerformanceWarning: DataFrame is highly fragmented.  This is usually the result of calling `frame.insert` many times, which has poor performance.  Consider joining all columns at once using pd.concat(axis=1) instead.  To get a de-fragmented frame, use `newframe = frame.copy()`\n",
      "  dt_transformed[col] = 0\n",
      "\n"
     ]
    },
    {
     "name": "stdout",
     "output_type": "stream",
     "text": [
      "Accuracy:                                                                                                              \n",
      "0.75                                                                                                                   \n",
      "{'var_smoothing': 2.310129700083158e-07}                                                                               \n",
      " 50%|████████████████████████                        | 5/10 [00:05<00:05,  1.16s/trial, best loss: -0.7619047619047619]"
     ]
    },
    {
     "name": "stderr",
     "output_type": "stream",
     "text": [
      "C:\\Users\\velmurug\\Documents\\full_stability\\transformers\\IndexBasedTransformer.py:58: PerformanceWarning: DataFrame is highly fragmented.  This is usually the result of calling `frame.insert` many times, which has poor performance.  Consider joining all columns at once using pd.concat(axis=1) instead.  To get a de-fragmented frame, use `newframe = frame.copy()`\n",
      "  dt_transformed[col] = 0\n",
      "\n"
     ]
    },
    {
     "name": "stdout",
     "output_type": "stream",
     "text": [
      "Accuracy:                                                                                                              \n",
      "0.7767857142857143                                                                                                     \n",
      " 50%|████████████████████████                        | 5/10 [00:06<00:05,  1.16s/trial, best loss: -0.7619047619047619]"
     ]
    },
    {
     "name": "stderr",
     "output_type": "stream",
     "text": [
      "C:\\Users\\velmurug\\Documents\\full_stability\\transformers\\IndexBasedTransformer.py:58: PerformanceWarning: DataFrame is highly fragmented.  This is usually the result of calling `frame.insert` many times, which has poor performance.  Consider joining all columns at once using pd.concat(axis=1) instead.  To get a de-fragmented frame, use `newframe = frame.copy()`\n",
      "  dt_transformed[col] = 0\n",
      "\n"
     ]
    },
    {
     "name": "stdout",
     "output_type": "stream",
     "text": [
      "Accuracy:                                                                                                              \n",
      "0.7589285714285714                                                                                                     \n",
      " 50%|████████████████████████                        | 5/10 [00:06<00:05,  1.16s/trial, best loss: -0.7619047619047619]"
     ]
    },
    {
     "name": "stderr",
     "output_type": "stream",
     "text": [
      "C:\\Users\\velmurug\\Documents\\full_stability\\transformers\\IndexBasedTransformer.py:58: PerformanceWarning: DataFrame is highly fragmented.  This is usually the result of calling `frame.insert` many times, which has poor performance.  Consider joining all columns at once using pd.concat(axis=1) instead.  To get a de-fragmented frame, use `newframe = frame.copy()`\n",
      "  dt_transformed[col] = 0\n",
      "\n"
     ]
    },
    {
     "name": "stdout",
     "output_type": "stream",
     "text": [
      "Accuracy:                                                                                                              \n",
      "0.75                                                                                                                   \n",
      "{'var_smoothing': 0.15199110829529336}                                                                                 \n",
      " 60%|████████████████████████████▊                   | 6/10 [00:06<00:04,  1.16s/trial, best loss: -0.7619047619047619]"
     ]
    },
    {
     "name": "stderr",
     "output_type": "stream",
     "text": [
      "C:\\Users\\velmurug\\Documents\\full_stability\\transformers\\IndexBasedTransformer.py:58: PerformanceWarning: DataFrame is highly fragmented.  This is usually the result of calling `frame.insert` many times, which has poor performance.  Consider joining all columns at once using pd.concat(axis=1) instead.  To get a de-fragmented frame, use `newframe = frame.copy()`\n",
      "  dt_transformed[col] = 0\n",
      "\n"
     ]
    },
    {
     "name": "stdout",
     "output_type": "stream",
     "text": [
      "Accuracy:                                                                                                              \n",
      "0.7681650246305419                                                                                                     \n",
      " 60%|████████████████████████████▊                   | 6/10 [00:07<00:04,  1.16s/trial, best loss: -0.7619047619047619]"
     ]
    },
    {
     "name": "stderr",
     "output_type": "stream",
     "text": [
      "C:\\Users\\velmurug\\Documents\\full_stability\\transformers\\IndexBasedTransformer.py:58: PerformanceWarning: DataFrame is highly fragmented.  This is usually the result of calling `frame.insert` many times, which has poor performance.  Consider joining all columns at once using pd.concat(axis=1) instead.  To get a de-fragmented frame, use `newframe = frame.copy()`\n",
      "  dt_transformed[col] = 0\n",
      "\n"
     ]
    },
    {
     "name": "stdout",
     "output_type": "stream",
     "text": [
      "Accuracy:                                                                                                              \n",
      "0.7335048426150121                                                                                                     \n",
      " 60%|████████████████████████████▊                   | 6/10 [00:07<00:04,  1.16s/trial, best loss: -0.7619047619047619]"
     ]
    },
    {
     "name": "stderr",
     "output_type": "stream",
     "text": [
      "C:\\Users\\velmurug\\Documents\\full_stability\\transformers\\IndexBasedTransformer.py:58: PerformanceWarning: DataFrame is highly fragmented.  This is usually the result of calling `frame.insert` many times, which has poor performance.  Consider joining all columns at once using pd.concat(axis=1) instead.  To get a de-fragmented frame, use `newframe = frame.copy()`\n",
      "  dt_transformed[col] = 0\n",
      "\n"
     ]
    },
    {
     "name": "stdout",
     "output_type": "stream",
     "text": [
      "Accuracy:                                                                                                              \n",
      "0.7330508474576272                                                                                                     \n",
      "{'var_smoothing': 1.232846739442066e-08}                                                                               \n",
      " 70%|█████████████████████████████████▌              | 7/10 [00:08<00:03,  1.17s/trial, best loss: -0.7619047619047619]"
     ]
    },
    {
     "name": "stderr",
     "output_type": "stream",
     "text": [
      "C:\\Users\\velmurug\\Documents\\full_stability\\transformers\\IndexBasedTransformer.py:58: PerformanceWarning: DataFrame is highly fragmented.  This is usually the result of calling `frame.insert` many times, which has poor performance.  Consider joining all columns at once using pd.concat(axis=1) instead.  To get a de-fragmented frame, use `newframe = frame.copy()`\n",
      "  dt_transformed[col] = 0\n",
      "\n"
     ]
    },
    {
     "name": "stdout",
     "output_type": "stream",
     "text": [
      "Accuracy:                                                                                                              \n",
      "0.7767857142857143                                                                                                     \n",
      " 70%|█████████████████████████████████▌              | 7/10 [00:08<00:03,  1.17s/trial, best loss: -0.7619047619047619]"
     ]
    },
    {
     "name": "stderr",
     "output_type": "stream",
     "text": [
      "C:\\Users\\velmurug\\Documents\\full_stability\\transformers\\IndexBasedTransformer.py:58: PerformanceWarning: DataFrame is highly fragmented.  This is usually the result of calling `frame.insert` many times, which has poor performance.  Consider joining all columns at once using pd.concat(axis=1) instead.  To get a de-fragmented frame, use `newframe = frame.copy()`\n",
      "  dt_transformed[col] = 0\n",
      "\n"
     ]
    },
    {
     "name": "stdout",
     "output_type": "stream",
     "text": [
      "Accuracy:                                                                                                              \n",
      "0.7589285714285714                                                                                                     \n",
      " 70%|█████████████████████████████████▌              | 7/10 [00:09<00:03,  1.17s/trial, best loss: -0.7619047619047619]"
     ]
    },
    {
     "name": "stderr",
     "output_type": "stream",
     "text": [
      "C:\\Users\\velmurug\\Documents\\full_stability\\transformers\\IndexBasedTransformer.py:58: PerformanceWarning: DataFrame is highly fragmented.  This is usually the result of calling `frame.insert` many times, which has poor performance.  Consider joining all columns at once using pd.concat(axis=1) instead.  To get a de-fragmented frame, use `newframe = frame.copy()`\n",
      "  dt_transformed[col] = 0\n",
      "\n"
     ]
    },
    {
     "name": "stdout",
     "output_type": "stream",
     "text": [
      "Accuracy:                                                                                                              \n",
      "0.75                                                                                                                   \n",
      "{'var_smoothing': 2.310129700083158e-07}                                                                               \n",
      " 80%|██████████████████████████████████████▍         | 8/10 [00:09<00:02,  1.20s/trial, best loss: -0.7619047619047619]"
     ]
    },
    {
     "name": "stderr",
     "output_type": "stream",
     "text": [
      "C:\\Users\\velmurug\\Documents\\full_stability\\transformers\\IndexBasedTransformer.py:58: PerformanceWarning: DataFrame is highly fragmented.  This is usually the result of calling `frame.insert` many times, which has poor performance.  Consider joining all columns at once using pd.concat(axis=1) instead.  To get a de-fragmented frame, use `newframe = frame.copy()`\n",
      "  dt_transformed[col] = 0\n",
      "\n"
     ]
    },
    {
     "name": "stdout",
     "output_type": "stream",
     "text": [
      "Accuracy:                                                                                                              \n",
      "0.7767857142857143                                                                                                     \n",
      " 80%|██████████████████████████████████████▍         | 8/10 [00:09<00:02,  1.20s/trial, best loss: -0.7619047619047619]"
     ]
    },
    {
     "name": "stderr",
     "output_type": "stream",
     "text": [
      "C:\\Users\\velmurug\\Documents\\full_stability\\transformers\\IndexBasedTransformer.py:58: PerformanceWarning: DataFrame is highly fragmented.  This is usually the result of calling `frame.insert` many times, which has poor performance.  Consider joining all columns at once using pd.concat(axis=1) instead.  To get a de-fragmented frame, use `newframe = frame.copy()`\n",
      "  dt_transformed[col] = 0\n",
      "\n"
     ]
    },
    {
     "name": "stdout",
     "output_type": "stream",
     "text": [
      "Accuracy:                                                                                                              \n",
      "0.7589285714285714                                                                                                     \n",
      " 80%|██████████████████████████████████████▍         | 8/10 [00:10<00:02,  1.20s/trial, best loss: -0.7619047619047619]"
     ]
    },
    {
     "name": "stderr",
     "output_type": "stream",
     "text": [
      "C:\\Users\\velmurug\\Documents\\full_stability\\transformers\\IndexBasedTransformer.py:58: PerformanceWarning: DataFrame is highly fragmented.  This is usually the result of calling `frame.insert` many times, which has poor performance.  Consider joining all columns at once using pd.concat(axis=1) instead.  To get a de-fragmented frame, use `newframe = frame.copy()`\n",
      "  dt_transformed[col] = 0\n",
      "\n"
     ]
    },
    {
     "name": "stdout",
     "output_type": "stream",
     "text": [
      "Accuracy:                                                                                                              \n",
      "0.75                                                                                                                   \n",
      "{'var_smoothing': 0.005336699231206307}                                                                                \n",
      " 90%|███████████████████████████████████████████▏    | 9/10 [00:10<00:01,  1.17s/trial, best loss: -0.7619047619047619]"
     ]
    },
    {
     "name": "stderr",
     "output_type": "stream",
     "text": [
      "C:\\Users\\velmurug\\Documents\\full_stability\\transformers\\IndexBasedTransformer.py:58: PerformanceWarning: DataFrame is highly fragmented.  This is usually the result of calling `frame.insert` many times, which has poor performance.  Consider joining all columns at once using pd.concat(axis=1) instead.  To get a de-fragmented frame, use `newframe = frame.copy()`\n",
      "  dt_transformed[col] = 0\n",
      "\n"
     ]
    },
    {
     "name": "stdout",
     "output_type": "stream",
     "text": [
      "Accuracy:                                                                                                              \n",
      "0.7681650246305419                                                                                                     \n",
      " 90%|███████████████████████████████████████████▏    | 9/10 [00:10<00:01,  1.17s/trial, best loss: -0.7619047619047619]"
     ]
    },
    {
     "name": "stderr",
     "output_type": "stream",
     "text": [
      "C:\\Users\\velmurug\\Documents\\full_stability\\transformers\\IndexBasedTransformer.py:58: PerformanceWarning: DataFrame is highly fragmented.  This is usually the result of calling `frame.insert` many times, which has poor performance.  Consider joining all columns at once using pd.concat(axis=1) instead.  To get a de-fragmented frame, use `newframe = frame.copy()`\n",
      "  dt_transformed[col] = 0\n",
      "\n"
     ]
    },
    {
     "name": "stdout",
     "output_type": "stream",
     "text": [
      "Accuracy:                                                                                                              \n",
      "0.7335048426150121                                                                                                     \n",
      " 90%|███████████████████████████████████████████▏    | 9/10 [00:11<00:01,  1.17s/trial, best loss: -0.7619047619047619]"
     ]
    },
    {
     "name": "stderr",
     "output_type": "stream",
     "text": [
      "C:\\Users\\velmurug\\Documents\\full_stability\\transformers\\IndexBasedTransformer.py:58: PerformanceWarning: DataFrame is highly fragmented.  This is usually the result of calling `frame.insert` many times, which has poor performance.  Consider joining all columns at once using pd.concat(axis=1) instead.  To get a de-fragmented frame, use `newframe = frame.copy()`\n",
      "  dt_transformed[col] = 0\n",
      "\n"
     ]
    },
    {
     "name": "stdout",
     "output_type": "stream",
     "text": [
      "Accuracy:                                                                                                              \n",
      "0.7415254237288136                                                                                                     \n",
      "100%|███████████████████████████████████████████████| 10/10 [00:11<00:00,  1.16s/trial, best loss: -0.7619047619047619]\n",
      "Optimising 10 of 20 buckets\n",
      "{'var_smoothing': 4.3287612810830526e-07}                                                                              \n",
      "  0%|                                                                           | 0/10 [00:00<?, ?trial/s, best loss=?]"
     ]
    },
    {
     "name": "stderr",
     "output_type": "stream",
     "text": [
      "C:\\Users\\velmurug\\Documents\\full_stability\\transformers\\IndexBasedTransformer.py:58: PerformanceWarning: DataFrame is highly fragmented.  This is usually the result of calling `frame.insert` many times, which has poor performance.  Consider joining all columns at once using pd.concat(axis=1) instead.  To get a de-fragmented frame, use `newframe = frame.copy()`\n",
      "  dt_transformed[col] = 0\n",
      "\n"
     ]
    },
    {
     "name": "stdout",
     "output_type": "stream",
     "text": [
      "Accuracy:                                                                                                              \n",
      "0.7752234993614304                                                                                                     \n",
      "  0%|                                                                           | 0/10 [00:00<?, ?trial/s, best loss=?]"
     ]
    },
    {
     "name": "stderr",
     "output_type": "stream",
     "text": [
      "C:\\Users\\velmurug\\Documents\\full_stability\\transformers\\IndexBasedTransformer.py:58: PerformanceWarning: DataFrame is highly fragmented.  This is usually the result of calling `frame.insert` many times, which has poor performance.  Consider joining all columns at once using pd.concat(axis=1) instead.  To get a de-fragmented frame, use `newframe = frame.copy()`\n",
      "  dt_transformed[col] = 0\n",
      "\n"
     ]
    },
    {
     "name": "stdout",
     "output_type": "stream",
     "text": [
      "Accuracy:                                                                                                              \n",
      "0.7727272727272727                                                                                                     \n",
      "  0%|                                                                           | 0/10 [00:00<?, ?trial/s, best loss=?]"
     ]
    },
    {
     "name": "stderr",
     "output_type": "stream",
     "text": [
      "C:\\Users\\velmurug\\Documents\\full_stability\\transformers\\IndexBasedTransformer.py:58: PerformanceWarning: DataFrame is highly fragmented.  This is usually the result of calling `frame.insert` many times, which has poor performance.  Consider joining all columns at once using pd.concat(axis=1) instead.  To get a de-fragmented frame, use `newframe = frame.copy()`\n",
      "  dt_transformed[col] = 0\n",
      "\n"
     ]
    },
    {
     "name": "stdout",
     "output_type": "stream",
     "text": [
      "Accuracy:                                                                                                              \n",
      "0.7363636363636363                                                                                                     \n",
      "{'var_smoothing': 1.232846739442066e-08}                                                                               \n",
      " 10%|████▊                                           | 1/10 [00:01<00:11,  1.28s/trial, best loss: -0.7614381361507799]"
     ]
    },
    {
     "name": "stderr",
     "output_type": "stream",
     "text": [
      "C:\\Users\\velmurug\\Documents\\full_stability\\transformers\\IndexBasedTransformer.py:58: PerformanceWarning: DataFrame is highly fragmented.  This is usually the result of calling `frame.insert` many times, which has poor performance.  Consider joining all columns at once using pd.concat(axis=1) instead.  To get a de-fragmented frame, use `newframe = frame.copy()`\n",
      "  dt_transformed[col] = 0\n",
      "\n"
     ]
    },
    {
     "name": "stdout",
     "output_type": "stream",
     "text": [
      "Accuracy:                                                                                                              \n",
      "0.7579821200510855                                                                                                     \n",
      " 10%|████▊                                           | 1/10 [00:01<00:11,  1.28s/trial, best loss: -0.7614381361507799]"
     ]
    },
    {
     "name": "stderr",
     "output_type": "stream",
     "text": [
      "C:\\Users\\velmurug\\Documents\\full_stability\\transformers\\IndexBasedTransformer.py:58: PerformanceWarning: DataFrame is highly fragmented.  This is usually the result of calling `frame.insert` many times, which has poor performance.  Consider joining all columns at once using pd.concat(axis=1) instead.  To get a de-fragmented frame, use `newframe = frame.copy()`\n",
      "  dt_transformed[col] = 0\n",
      "\n"
     ]
    },
    {
     "name": "stdout",
     "output_type": "stream",
     "text": [
      "Accuracy:                                                                                                              \n",
      "0.7727272727272727                                                                                                     \n",
      " 10%|████▊                                           | 1/10 [00:02<00:11,  1.28s/trial, best loss: -0.7614381361507799]"
     ]
    },
    {
     "name": "stderr",
     "output_type": "stream",
     "text": [
      "C:\\Users\\velmurug\\Documents\\full_stability\\transformers\\IndexBasedTransformer.py:58: PerformanceWarning: DataFrame is highly fragmented.  This is usually the result of calling `frame.insert` many times, which has poor performance.  Consider joining all columns at once using pd.concat(axis=1) instead.  To get a de-fragmented frame, use `newframe = frame.copy()`\n",
      "  dt_transformed[col] = 0\n",
      "\n"
     ]
    },
    {
     "name": "stdout",
     "output_type": "stream",
     "text": [
      "Accuracy:                                                                                                              \n",
      "0.7363636363636363                                                                                                     \n",
      "{'var_smoothing': 2.310129700083158e-06}                                                                               \n",
      " 20%|█████████▌                                      | 2/10 [00:02<00:10,  1.27s/trial, best loss: -0.7614381361507799]"
     ]
    },
    {
     "name": "stderr",
     "output_type": "stream",
     "text": [
      "C:\\Users\\velmurug\\Documents\\full_stability\\transformers\\IndexBasedTransformer.py:58: PerformanceWarning: DataFrame is highly fragmented.  This is usually the result of calling `frame.insert` many times, which has poor performance.  Consider joining all columns at once using pd.concat(axis=1) instead.  To get a de-fragmented frame, use `newframe = frame.copy()`\n",
      "  dt_transformed[col] = 0\n",
      "\n"
     ]
    },
    {
     "name": "stdout",
     "output_type": "stream",
     "text": [
      "Accuracy:                                                                                                              \n",
      "0.7924648786717753                                                                                                     \n",
      " 20%|█████████▌                                      | 2/10 [00:02<00:10,  1.27s/trial, best loss: -0.7614381361507799]"
     ]
    },
    {
     "name": "stderr",
     "output_type": "stream",
     "text": [
      "C:\\Users\\velmurug\\Documents\\full_stability\\transformers\\IndexBasedTransformer.py:58: PerformanceWarning: DataFrame is highly fragmented.  This is usually the result of calling `frame.insert` many times, which has poor performance.  Consider joining all columns at once using pd.concat(axis=1) instead.  To get a de-fragmented frame, use `newframe = frame.copy()`\n",
      "  dt_transformed[col] = 0\n",
      "\n"
     ]
    },
    {
     "name": "stdout",
     "output_type": "stream",
     "text": [
      "Accuracy:                                                                                                              \n",
      "0.7727272727272727                                                                                                     \n",
      " 20%|█████████▌                                      | 2/10 [00:03<00:10,  1.27s/trial, best loss: -0.7614381361507799]"
     ]
    },
    {
     "name": "stderr",
     "output_type": "stream",
     "text": [
      "C:\\Users\\velmurug\\Documents\\full_stability\\transformers\\IndexBasedTransformer.py:58: PerformanceWarning: DataFrame is highly fragmented.  This is usually the result of calling `frame.insert` many times, which has poor performance.  Consider joining all columns at once using pd.concat(axis=1) instead.  To get a de-fragmented frame, use `newframe = frame.copy()`\n",
      "  dt_transformed[col] = 0\n",
      "\n"
     ]
    },
    {
     "name": "stdout",
     "output_type": "stream",
     "text": [
      "Accuracy:                                                                                                              \n",
      "0.7363636363636363                                                                                                     \n",
      "{'var_smoothing': 1.873817422860383e-07}                                                                               \n",
      " 30%|██████████████▍                                 | 3/10 [00:03<00:08,  1.26s/trial, best loss: -0.7671852625875615]"
     ]
    },
    {
     "name": "stderr",
     "output_type": "stream",
     "text": [
      "C:\\Users\\velmurug\\Documents\\full_stability\\transformers\\IndexBasedTransformer.py:58: PerformanceWarning: DataFrame is highly fragmented.  This is usually the result of calling `frame.insert` many times, which has poor performance.  Consider joining all columns at once using pd.concat(axis=1) instead.  To get a de-fragmented frame, use `newframe = frame.copy()`\n",
      "  dt_transformed[col] = 0\n",
      "\n"
     ]
    },
    {
     "name": "stdout",
     "output_type": "stream",
     "text": [
      "Accuracy:                                                                                                              \n",
      "0.7752234993614304                                                                                                     \n",
      " 30%|██████████████▍                                 | 3/10 [00:04<00:08,  1.26s/trial, best loss: -0.7671852625875615]"
     ]
    },
    {
     "name": "stderr",
     "output_type": "stream",
     "text": [
      "C:\\Users\\velmurug\\Documents\\full_stability\\transformers\\IndexBasedTransformer.py:58: PerformanceWarning: DataFrame is highly fragmented.  This is usually the result of calling `frame.insert` many times, which has poor performance.  Consider joining all columns at once using pd.concat(axis=1) instead.  To get a de-fragmented frame, use `newframe = frame.copy()`\n",
      "  dt_transformed[col] = 0\n",
      "\n"
     ]
    },
    {
     "name": "stdout",
     "output_type": "stream",
     "text": [
      "Accuracy:                                                                                                              \n",
      "0.7727272727272727                                                                                                     \n",
      " 30%|██████████████▍                                 | 3/10 [00:04<00:08,  1.26s/trial, best loss: -0.7671852625875615]"
     ]
    },
    {
     "name": "stderr",
     "output_type": "stream",
     "text": [
      "C:\\Users\\velmurug\\Documents\\full_stability\\transformers\\IndexBasedTransformer.py:58: PerformanceWarning: DataFrame is highly fragmented.  This is usually the result of calling `frame.insert` many times, which has poor performance.  Consider joining all columns at once using pd.concat(axis=1) instead.  To get a de-fragmented frame, use `newframe = frame.copy()`\n",
      "  dt_transformed[col] = 0\n",
      "\n"
     ]
    },
    {
     "name": "stdout",
     "output_type": "stream",
     "text": [
      "Accuracy:                                                                                                              \n",
      "0.7363636363636363                                                                                                     \n",
      "{'var_smoothing': 1.519911082952933e-09}                                                                               \n",
      " 40%|███████████████████▏                            | 4/10 [00:05<00:07,  1.30s/trial, best loss: -0.7671852625875615]"
     ]
    },
    {
     "name": "stderr",
     "output_type": "stream",
     "text": [
      "C:\\Users\\velmurug\\Documents\\full_stability\\transformers\\IndexBasedTransformer.py:58: PerformanceWarning: DataFrame is highly fragmented.  This is usually the result of calling `frame.insert` many times, which has poor performance.  Consider joining all columns at once using pd.concat(axis=1) instead.  To get a de-fragmented frame, use `newframe = frame.copy()`\n",
      "  dt_transformed[col] = 0\n",
      "\n"
     ]
    },
    {
     "name": "stdout",
     "output_type": "stream",
     "text": [
      "Accuracy:                                                                                                              \n",
      "0.7493614303959132                                                                                                     \n",
      " 40%|███████████████████▏                            | 4/10 [00:05<00:07,  1.30s/trial, best loss: -0.7671852625875615]"
     ]
    },
    {
     "name": "stderr",
     "output_type": "stream",
     "text": [
      "C:\\Users\\velmurug\\Documents\\full_stability\\transformers\\IndexBasedTransformer.py:58: PerformanceWarning: DataFrame is highly fragmented.  This is usually the result of calling `frame.insert` many times, which has poor performance.  Consider joining all columns at once using pd.concat(axis=1) instead.  To get a de-fragmented frame, use `newframe = frame.copy()`\n",
      "  dt_transformed[col] = 0\n",
      "\n"
     ]
    },
    {
     "name": "stdout",
     "output_type": "stream",
     "text": [
      "Accuracy:                                                                                                              \n",
      "0.7727272727272727                                                                                                     \n",
      " 40%|███████████████████▏                            | 4/10 [00:06<00:07,  1.30s/trial, best loss: -0.7671852625875615]"
     ]
    },
    {
     "name": "stderr",
     "output_type": "stream",
     "text": [
      "C:\\Users\\velmurug\\Documents\\full_stability\\transformers\\IndexBasedTransformer.py:58: PerformanceWarning: DataFrame is highly fragmented.  This is usually the result of calling `frame.insert` many times, which has poor performance.  Consider joining all columns at once using pd.concat(axis=1) instead.  To get a de-fragmented frame, use `newframe = frame.copy()`\n",
      "  dt_transformed[col] = 0\n",
      "\n"
     ]
    },
    {
     "name": "stdout",
     "output_type": "stream",
     "text": [
      "Accuracy:                                                                                                              \n",
      "0.7363636363636363                                                                                                     \n",
      "{'var_smoothing': 5.3366992312063123e-05}                                                                              \n",
      " 50%|████████████████████████                        | 5/10 [00:06<00:06,  1.30s/trial, best loss: -0.7671852625875615]"
     ]
    },
    {
     "name": "stderr",
     "output_type": "stream",
     "text": [
      "C:\\Users\\velmurug\\Documents\\full_stability\\transformers\\IndexBasedTransformer.py:58: PerformanceWarning: DataFrame is highly fragmented.  This is usually the result of calling `frame.insert` many times, which has poor performance.  Consider joining all columns at once using pd.concat(axis=1) instead.  To get a de-fragmented frame, use `newframe = frame.copy()`\n",
      "  dt_transformed[col] = 0\n",
      "\n"
     ]
    },
    {
     "name": "stdout",
     "output_type": "stream",
     "text": [
      "Accuracy:                                                                                                              \n",
      "0.8355683269476374                                                                                                     \n",
      " 50%|████████████████████████                        | 5/10 [00:06<00:06,  1.30s/trial, best loss: -0.7671852625875615]"
     ]
    },
    {
     "name": "stderr",
     "output_type": "stream",
     "text": [
      "C:\\Users\\velmurug\\Documents\\full_stability\\transformers\\IndexBasedTransformer.py:58: PerformanceWarning: DataFrame is highly fragmented.  This is usually the result of calling `frame.insert` many times, which has poor performance.  Consider joining all columns at once using pd.concat(axis=1) instead.  To get a de-fragmented frame, use `newframe = frame.copy()`\n",
      "  dt_transformed[col] = 0\n",
      "\n"
     ]
    },
    {
     "name": "stdout",
     "output_type": "stream",
     "text": [
      "Accuracy:                                                                                                              \n",
      "0.7641065830721003                                                                                                     \n",
      " 50%|████████████████████████                        | 5/10 [00:07<00:06,  1.30s/trial, best loss: -0.7671852625875615]"
     ]
    },
    {
     "name": "stderr",
     "output_type": "stream",
     "text": [
      "C:\\Users\\velmurug\\Documents\\full_stability\\transformers\\IndexBasedTransformer.py:58: PerformanceWarning: DataFrame is highly fragmented.  This is usually the result of calling `frame.insert` many times, which has poor performance.  Consider joining all columns at once using pd.concat(axis=1) instead.  To get a de-fragmented frame, use `newframe = frame.copy()`\n",
      "  dt_transformed[col] = 0\n",
      "\n"
     ]
    },
    {
     "name": "stdout",
     "output_type": "stream",
     "text": [
      "Accuracy:                                                                                                              \n",
      "0.7363636363636363                                                                                                     \n",
      "{'var_smoothing': 0.003511191734215131}                                                                                \n",
      " 60%|████████████████████████████▊                   | 6/10 [00:07<00:05,  1.29s/trial, best loss: -0.7786795154611247]"
     ]
    },
    {
     "name": "stderr",
     "output_type": "stream",
     "text": [
      "C:\\Users\\velmurug\\Documents\\full_stability\\transformers\\IndexBasedTransformer.py:58: PerformanceWarning: DataFrame is highly fragmented.  This is usually the result of calling `frame.insert` many times, which has poor performance.  Consider joining all columns at once using pd.concat(axis=1) instead.  To get a de-fragmented frame, use `newframe = frame.copy()`\n",
      "  dt_transformed[col] = 0\n",
      "\n"
     ]
    },
    {
     "name": "stdout",
     "output_type": "stream",
     "text": [
      "Accuracy:                                                                                                              \n",
      "0.8231162196679439                                                                                                     \n",
      " 60%|████████████████████████████▊                   | 6/10 [00:08<00:05,  1.29s/trial, best loss: -0.7786795154611247]"
     ]
    },
    {
     "name": "stderr",
     "output_type": "stream",
     "text": [
      "C:\\Users\\velmurug\\Documents\\full_stability\\transformers\\IndexBasedTransformer.py:58: PerformanceWarning: DataFrame is highly fragmented.  This is usually the result of calling `frame.insert` many times, which has poor performance.  Consider joining all columns at once using pd.concat(axis=1) instead.  To get a de-fragmented frame, use `newframe = frame.copy()`\n",
      "  dt_transformed[col] = 0\n",
      "\n"
     ]
    },
    {
     "name": "stdout",
     "output_type": "stream",
     "text": [
      "Accuracy:                                                                                                              \n",
      "0.7731974921630095                                                                                                     \n",
      " 60%|████████████████████████████▊                   | 6/10 [00:08<00:05,  1.29s/trial, best loss: -0.7786795154611247]"
     ]
    },
    {
     "name": "stderr",
     "output_type": "stream",
     "text": [
      "C:\\Users\\velmurug\\Documents\\full_stability\\transformers\\IndexBasedTransformer.py:58: PerformanceWarning: DataFrame is highly fragmented.  This is usually the result of calling `frame.insert` many times, which has poor performance.  Consider joining all columns at once using pd.concat(axis=1) instead.  To get a de-fragmented frame, use `newframe = frame.copy()`\n",
      "  dt_transformed[col] = 0\n",
      "\n"
     ]
    },
    {
     "name": "stdout",
     "output_type": "stream",
     "text": [
      "Accuracy:                                                                                                              \n",
      "0.7363636363636363                                                                                                     \n",
      "{'var_smoothing': 0.12328467394420659}                                                                                 \n",
      " 70%|█████████████████████████████████▌              | 7/10 [00:09<00:03,  1.29s/trial, best loss: -0.7786795154611247]"
     ]
    },
    {
     "name": "stderr",
     "output_type": "stream",
     "text": [
      "C:\\Users\\velmurug\\Documents\\full_stability\\transformers\\IndexBasedTransformer.py:58: PerformanceWarning: DataFrame is highly fragmented.  This is usually the result of calling `frame.insert` many times, which has poor performance.  Consider joining all columns at once using pd.concat(axis=1) instead.  To get a de-fragmented frame, use `newframe = frame.copy()`\n",
      "  dt_transformed[col] = 0\n",
      "\n"
     ]
    },
    {
     "name": "stdout",
     "output_type": "stream",
     "text": [
      "Accuracy:                                                                                                              \n",
      "0.8199233716475096                                                                                                     \n",
      " 70%|█████████████████████████████████▌              | 7/10 [00:09<00:03,  1.29s/trial, best loss: -0.7786795154611247]"
     ]
    },
    {
     "name": "stderr",
     "output_type": "stream",
     "text": [
      "C:\\Users\\velmurug\\Documents\\full_stability\\transformers\\IndexBasedTransformer.py:58: PerformanceWarning: DataFrame is highly fragmented.  This is usually the result of calling `frame.insert` many times, which has poor performance.  Consider joining all columns at once using pd.concat(axis=1) instead.  To get a de-fragmented frame, use `newframe = frame.copy()`\n",
      "  dt_transformed[col] = 0\n",
      "\n"
     ]
    },
    {
     "name": "stdout",
     "output_type": "stream",
     "text": [
      "Accuracy:                                                                                                              \n",
      "0.7731974921630095                                                                                                     \n",
      " 70%|█████████████████████████████████▌              | 7/10 [00:09<00:03,  1.29s/trial, best loss: -0.7786795154611247]"
     ]
    },
    {
     "name": "stderr",
     "output_type": "stream",
     "text": [
      "C:\\Users\\velmurug\\Documents\\full_stability\\transformers\\IndexBasedTransformer.py:58: PerformanceWarning: DataFrame is highly fragmented.  This is usually the result of calling `frame.insert` many times, which has poor performance.  Consider joining all columns at once using pd.concat(axis=1) instead.  To get a de-fragmented frame, use `newframe = frame.copy()`\n",
      "  dt_transformed[col] = 0\n",
      "\n"
     ]
    },
    {
     "name": "stdout",
     "output_type": "stream",
     "text": [
      "Accuracy:                                                                                                              \n",
      "0.727742946708464                                                                                                      \n",
      "{'var_smoothing': 5.336699231206313e-06}                                                                               \n",
      " 80%|██████████████████████████████████████▍         | 8/10 [00:10<00:02,  1.29s/trial, best loss: -0.7786795154611247]"
     ]
    },
    {
     "name": "stderr",
     "output_type": "stream",
     "text": [
      "C:\\Users\\velmurug\\Documents\\full_stability\\transformers\\IndexBasedTransformer.py:58: PerformanceWarning: DataFrame is highly fragmented.  This is usually the result of calling `frame.insert` many times, which has poor performance.  Consider joining all columns at once using pd.concat(axis=1) instead.  To get a de-fragmented frame, use `newframe = frame.copy()`\n",
      "  dt_transformed[col] = 0\n",
      "\n"
     ]
    },
    {
     "name": "stdout",
     "output_type": "stream",
     "text": [
      "Accuracy:                                                                                                              \n",
      "0.7924648786717753                                                                                                     \n",
      " 80%|██████████████████████████████████████▍         | 8/10 [00:10<00:02,  1.29s/trial, best loss: -0.7786795154611247]"
     ]
    },
    {
     "name": "stderr",
     "output_type": "stream",
     "text": [
      "C:\\Users\\velmurug\\Documents\\full_stability\\transformers\\IndexBasedTransformer.py:58: PerformanceWarning: DataFrame is highly fragmented.  This is usually the result of calling `frame.insert` many times, which has poor performance.  Consider joining all columns at once using pd.concat(axis=1) instead.  To get a de-fragmented frame, use `newframe = frame.copy()`\n",
      "  dt_transformed[col] = 0\n",
      "\n"
     ]
    },
    {
     "name": "stdout",
     "output_type": "stream",
     "text": [
      "Accuracy:                                                                                                              \n",
      "0.7641065830721003                                                                                                     \n",
      " 80%|██████████████████████████████████████▍         | 8/10 [00:11<00:02,  1.29s/trial, best loss: -0.7786795154611247]"
     ]
    },
    {
     "name": "stderr",
     "output_type": "stream",
     "text": [
      "C:\\Users\\velmurug\\Documents\\full_stability\\transformers\\IndexBasedTransformer.py:58: PerformanceWarning: DataFrame is highly fragmented.  This is usually the result of calling `frame.insert` many times, which has poor performance.  Consider joining all columns at once using pd.concat(axis=1) instead.  To get a de-fragmented frame, use `newframe = frame.copy()`\n",
      "  dt_transformed[col] = 0\n",
      "\n"
     ]
    },
    {
     "name": "stdout",
     "output_type": "stream",
     "text": [
      "Accuracy:                                                                                                              \n",
      "0.7363636363636363                                                                                                     \n",
      "{'var_smoothing': 0.0001519911082952933}                                                                               \n",
      " 90%|███████████████████████████████████████████▏    | 9/10 [00:11<00:01,  1.29s/trial, best loss: -0.7786795154611247]"
     ]
    },
    {
     "name": "stderr",
     "output_type": "stream",
     "text": [
      "C:\\Users\\velmurug\\Documents\\full_stability\\transformers\\IndexBasedTransformer.py:58: PerformanceWarning: DataFrame is highly fragmented.  This is usually the result of calling `frame.insert` many times, which has poor performance.  Consider joining all columns at once using pd.concat(axis=1) instead.  To get a de-fragmented frame, use `newframe = frame.copy()`\n",
      "  dt_transformed[col] = 0\n",
      "\n"
     ]
    },
    {
     "name": "stdout",
     "output_type": "stream",
     "text": [
      "Accuracy:                                                                                                              \n",
      "0.8441890166028098                                                                                                     \n",
      " 90%|███████████████████████████████████████████▏    | 9/10 [00:12<00:01,  1.29s/trial, best loss: -0.7786795154611247]"
     ]
    },
    {
     "name": "stderr",
     "output_type": "stream",
     "text": [
      "C:\\Users\\velmurug\\Documents\\full_stability\\transformers\\IndexBasedTransformer.py:58: PerformanceWarning: DataFrame is highly fragmented.  This is usually the result of calling `frame.insert` many times, which has poor performance.  Consider joining all columns at once using pd.concat(axis=1) instead.  To get a de-fragmented frame, use `newframe = frame.copy()`\n",
      "  dt_transformed[col] = 0\n",
      "\n"
     ]
    },
    {
     "name": "stdout",
     "output_type": "stream",
     "text": [
      "Accuracy:                                                                                                              \n",
      "0.7641065830721003                                                                                                     \n",
      " 90%|███████████████████████████████████████████▏    | 9/10 [00:12<00:01,  1.29s/trial, best loss: -0.7786795154611247]"
     ]
    },
    {
     "name": "stderr",
     "output_type": "stream",
     "text": [
      "C:\\Users\\velmurug\\Documents\\full_stability\\transformers\\IndexBasedTransformer.py:58: PerformanceWarning: DataFrame is highly fragmented.  This is usually the result of calling `frame.insert` many times, which has poor performance.  Consider joining all columns at once using pd.concat(axis=1) instead.  To get a de-fragmented frame, use `newframe = frame.copy()`\n",
      "  dt_transformed[col] = 0\n",
      "\n"
     ]
    },
    {
     "name": "stdout",
     "output_type": "stream",
     "text": [
      "Accuracy:                                                                                                              \n",
      "0.7363636363636363                                                                                                     \n",
      "100%|███████████████████████████████████████████████| 10/10 [00:12<00:00,  1.28s/trial, best loss: -0.7815530786795155]\n",
      "Optimising 11 of 20 buckets\n",
      "{'var_smoothing': 1e-05}                                                                                               \n",
      "  0%|                                                                           | 0/10 [00:00<?, ?trial/s, best loss=?]"
     ]
    },
    {
     "name": "stderr",
     "output_type": "stream",
     "text": [
      "C:\\Users\\velmurug\\Documents\\full_stability\\transformers\\IndexBasedTransformer.py:58: PerformanceWarning: DataFrame is highly fragmented.  This is usually the result of calling `frame.insert` many times, which has poor performance.  Consider joining all columns at once using pd.concat(axis=1) instead.  To get a de-fragmented frame, use `newframe = frame.copy()`\n",
      "  dt_transformed[col] = 0\n",
      "\n"
     ]
    },
    {
     "name": "stdout",
     "output_type": "stream",
     "text": [
      "Accuracy:                                                                                                              \n",
      "0.7610714285714286                                                                                                     \n",
      "  0%|                                                                           | 0/10 [00:00<?, ?trial/s, best loss=?]"
     ]
    },
    {
     "name": "stderr",
     "output_type": "stream",
     "text": [
      "C:\\Users\\velmurug\\Documents\\full_stability\\transformers\\IndexBasedTransformer.py:58: PerformanceWarning: DataFrame is highly fragmented.  This is usually the result of calling `frame.insert` many times, which has poor performance.  Consider joining all columns at once using pd.concat(axis=1) instead.  To get a de-fragmented frame, use `newframe = frame.copy()`\n",
      "  dt_transformed[col] = 0\n",
      "\n"
     ]
    },
    {
     "name": "stdout",
     "output_type": "stream",
     "text": [
      "Accuracy:                                                                                                              \n",
      "0.7212280701754386                                                                                                     \n",
      "  0%|                                                                           | 0/10 [00:00<?, ?trial/s, best loss=?]"
     ]
    },
    {
     "name": "stderr",
     "output_type": "stream",
     "text": [
      "C:\\Users\\velmurug\\Documents\\full_stability\\transformers\\IndexBasedTransformer.py:58: PerformanceWarning: DataFrame is highly fragmented.  This is usually the result of calling `frame.insert` many times, which has poor performance.  Consider joining all columns at once using pd.concat(axis=1) instead.  To get a de-fragmented frame, use `newframe = frame.copy()`\n",
      "  dt_transformed[col] = 0\n",
      "\n"
     ]
    },
    {
     "name": "stdout",
     "output_type": "stream",
     "text": [
      "Accuracy:                                                                                                              \n",
      "0.8                                                                                                                    \n",
      "{'var_smoothing': 0.01519911082952933}                                                                                 \n",
      " 10%|████▉                                            | 1/10 [00:01<00:12,  1.39s/trial, best loss: -0.760766499582289]"
     ]
    },
    {
     "name": "stderr",
     "output_type": "stream",
     "text": [
      "C:\\Users\\velmurug\\Documents\\full_stability\\transformers\\IndexBasedTransformer.py:58: PerformanceWarning: DataFrame is highly fragmented.  This is usually the result of calling `frame.insert` many times, which has poor performance.  Consider joining all columns at once using pd.concat(axis=1) instead.  To get a de-fragmented frame, use `newframe = frame.copy()`\n",
      "  dt_transformed[col] = 0\n",
      "\n"
     ]
    },
    {
     "name": "stdout",
     "output_type": "stream",
     "text": [
      "Accuracy:                                                                                                              \n",
      "0.7610714285714286                                                                                                     \n",
      " 10%|████▉                                            | 1/10 [00:01<00:12,  1.39s/trial, best loss: -0.760766499582289]"
     ]
    },
    {
     "name": "stderr",
     "output_type": "stream",
     "text": [
      "C:\\Users\\velmurug\\Documents\\full_stability\\transformers\\IndexBasedTransformer.py:58: PerformanceWarning: DataFrame is highly fragmented.  This is usually the result of calling `frame.insert` many times, which has poor performance.  Consider joining all columns at once using pd.concat(axis=1) instead.  To get a de-fragmented frame, use `newframe = frame.copy()`\n",
      "  dt_transformed[col] = 0\n",
      "\n"
     ]
    },
    {
     "name": "stdout",
     "output_type": "stream",
     "text": [
      "Accuracy:                                                                                                              \n",
      "0.7212280701754386                                                                                                     \n",
      " 10%|████▉                                            | 1/10 [00:02<00:12,  1.39s/trial, best loss: -0.760766499582289]"
     ]
    },
    {
     "name": "stderr",
     "output_type": "stream",
     "text": [
      "C:\\Users\\velmurug\\Documents\\full_stability\\transformers\\IndexBasedTransformer.py:58: PerformanceWarning: DataFrame is highly fragmented.  This is usually the result of calling `frame.insert` many times, which has poor performance.  Consider joining all columns at once using pd.concat(axis=1) instead.  To get a de-fragmented frame, use `newframe = frame.copy()`\n",
      "  dt_transformed[col] = 0\n",
      "\n"
     ]
    },
    {
     "name": "stdout",
     "output_type": "stream",
     "text": [
      "Accuracy:                                                                                                              \n",
      "0.8                                                                                                                    \n",
      "{'var_smoothing': 8.111308307896873e-06}                                                                               \n",
      " 20%|█████████▊                                       | 2/10 [00:02<00:11,  1.39s/trial, best loss: -0.760766499582289]"
     ]
    },
    {
     "name": "stderr",
     "output_type": "stream",
     "text": [
      "C:\\Users\\velmurug\\Documents\\full_stability\\transformers\\IndexBasedTransformer.py:58: PerformanceWarning: DataFrame is highly fragmented.  This is usually the result of calling `frame.insert` many times, which has poor performance.  Consider joining all columns at once using pd.concat(axis=1) instead.  To get a de-fragmented frame, use `newframe = frame.copy()`\n",
      "  dt_transformed[col] = 0\n",
      "\n"
     ]
    },
    {
     "name": "stdout",
     "output_type": "stream",
     "text": [
      "Accuracy:                                                                                                              \n",
      "0.7610714285714286                                                                                                     \n",
      " 20%|█████████▊                                       | 2/10 [00:03<00:11,  1.39s/trial, best loss: -0.760766499582289]"
     ]
    },
    {
     "name": "stderr",
     "output_type": "stream",
     "text": [
      "C:\\Users\\velmurug\\Documents\\full_stability\\transformers\\IndexBasedTransformer.py:58: PerformanceWarning: DataFrame is highly fragmented.  This is usually the result of calling `frame.insert` many times, which has poor performance.  Consider joining all columns at once using pd.concat(axis=1) instead.  To get a de-fragmented frame, use `newframe = frame.copy()`\n",
      "  dt_transformed[col] = 0\n",
      "\n"
     ]
    },
    {
     "name": "stdout",
     "output_type": "stream",
     "text": [
      "Accuracy:                                                                                                              \n",
      "0.7212280701754386                                                                                                     \n",
      " 20%|█████████▊                                       | 2/10 [00:03<00:11,  1.39s/trial, best loss: -0.760766499582289]"
     ]
    },
    {
     "name": "stderr",
     "output_type": "stream",
     "text": [
      "C:\\Users\\velmurug\\Documents\\full_stability\\transformers\\IndexBasedTransformer.py:58: PerformanceWarning: DataFrame is highly fragmented.  This is usually the result of calling `frame.insert` many times, which has poor performance.  Consider joining all columns at once using pd.concat(axis=1) instead.  To get a de-fragmented frame, use `newframe = frame.copy()`\n",
      "  dt_transformed[col] = 0\n",
      "\n"
     ]
    },
    {
     "name": "stdout",
     "output_type": "stream",
     "text": [
      "Accuracy:                                                                                                              \n",
      "0.8                                                                                                                    \n",
      " 20%|█████████▊                                       | 2/10 [00:04<00:11,  1.39s/trial, best loss: -0.760766499582289]"
     ]
    },
    {
     "name": "stderr",
     "output_type": "stream",
     "text": [
      "C:\\Users\\velmurug\\Documents\\full_stability\\transformers\\IndexBasedTransformer.py:58: PerformanceWarning: DataFrame is highly fragmented.  This is usually the result of calling `frame.insert` many times, which has poor performance.  Consider joining all columns at once using pd.concat(axis=1) instead.  To get a de-fragmented frame, use `newframe = frame.copy()`\n",
      "  dt_transformed[col] = 0\n",
      "\n"
     ]
    },
    {
     "name": "stdout",
     "output_type": "stream",
     "text": [
      "{'var_smoothing': 4.328761281083062e-05}                                                                               \n",
      "Accuracy:                                                                                                              \n",
      "0.7610714285714286                                                                                                     \n",
      " 30%|██████████████▋                                  | 3/10 [00:05<00:11,  1.62s/trial, best loss: -0.760766499582289]"
     ]
    },
    {
     "name": "stderr",
     "output_type": "stream",
     "text": [
      "C:\\Users\\velmurug\\Documents\\full_stability\\transformers\\IndexBasedTransformer.py:58: PerformanceWarning: DataFrame is highly fragmented.  This is usually the result of calling `frame.insert` many times, which has poor performance.  Consider joining all columns at once using pd.concat(axis=1) instead.  To get a de-fragmented frame, use `newframe = frame.copy()`\n",
      "  dt_transformed[col] = 0\n",
      "\n"
     ]
    },
    {
     "name": "stdout",
     "output_type": "stream",
     "text": [
      "Accuracy:                                                                                                              \n",
      "0.7212280701754386                                                                                                     \n",
      " 30%|██████████████▋                                  | 3/10 [00:05<00:11,  1.62s/trial, best loss: -0.760766499582289]"
     ]
    },
    {
     "name": "stderr",
     "output_type": "stream",
     "text": [
      "C:\\Users\\velmurug\\Documents\\full_stability\\transformers\\IndexBasedTransformer.py:58: PerformanceWarning: DataFrame is highly fragmented.  This is usually the result of calling `frame.insert` many times, which has poor performance.  Consider joining all columns at once using pd.concat(axis=1) instead.  To get a de-fragmented frame, use `newframe = frame.copy()`\n",
      "  dt_transformed[col] = 0\n",
      "\n"
     ]
    },
    {
     "name": "stdout",
     "output_type": "stream",
     "text": [
      "Accuracy:                                                                                                              \n",
      "0.8                                                                                                                    \n",
      "{'var_smoothing': 0.12328467394420659}                                                                                 \n",
      " 40%|███████████████████▌                             | 4/10 [00:06<00:09,  1.57s/trial, best loss: -0.760766499582289]"
     ]
    },
    {
     "name": "stderr",
     "output_type": "stream",
     "text": [
      "C:\\Users\\velmurug\\Documents\\full_stability\\transformers\\IndexBasedTransformer.py:58: PerformanceWarning: DataFrame is highly fragmented.  This is usually the result of calling `frame.insert` many times, which has poor performance.  Consider joining all columns at once using pd.concat(axis=1) instead.  To get a de-fragmented frame, use `newframe = frame.copy()`\n",
      "  dt_transformed[col] = 0\n",
      "\n"
     ]
    },
    {
     "name": "stdout",
     "output_type": "stream",
     "text": [
      "Accuracy:                                                                                                              \n",
      "0.7610714285714286                                                                                                     \n",
      " 40%|███████████████████▌                             | 4/10 [00:06<00:09,  1.57s/trial, best loss: -0.760766499582289]"
     ]
    },
    {
     "name": "stderr",
     "output_type": "stream",
     "text": [
      "C:\\Users\\velmurug\\Documents\\full_stability\\transformers\\IndexBasedTransformer.py:58: PerformanceWarning: DataFrame is highly fragmented.  This is usually the result of calling `frame.insert` many times, which has poor performance.  Consider joining all columns at once using pd.concat(axis=1) instead.  To get a de-fragmented frame, use `newframe = frame.copy()`\n",
      "  dt_transformed[col] = 0\n",
      "\n"
     ]
    },
    {
     "name": "stdout",
     "output_type": "stream",
     "text": [
      "Accuracy:                                                                                                              \n",
      "0.7212280701754386                                                                                                     \n",
      " 40%|███████████████████▌                             | 4/10 [00:07<00:09,  1.57s/trial, best loss: -0.760766499582289]"
     ]
    },
    {
     "name": "stderr",
     "output_type": "stream",
     "text": [
      "C:\\Users\\velmurug\\Documents\\full_stability\\transformers\\IndexBasedTransformer.py:58: PerformanceWarning: DataFrame is highly fragmented.  This is usually the result of calling `frame.insert` many times, which has poor performance.  Consider joining all columns at once using pd.concat(axis=1) instead.  To get a de-fragmented frame, use `newframe = frame.copy()`\n",
      "  dt_transformed[col] = 0\n",
      "\n"
     ]
    },
    {
     "name": "stdout",
     "output_type": "stream",
     "text": [
      "Accuracy:                                                                                                              \n",
      "0.8                                                                                                                    \n",
      "{'var_smoothing': 2.848035868435805e-09}                                                                               \n",
      " 50%|████████████████████████▌                        | 5/10 [00:07<00:07,  1.51s/trial, best loss: -0.760766499582289]"
     ]
    },
    {
     "name": "stderr",
     "output_type": "stream",
     "text": [
      "C:\\Users\\velmurug\\Documents\\full_stability\\transformers\\IndexBasedTransformer.py:58: PerformanceWarning: DataFrame is highly fragmented.  This is usually the result of calling `frame.insert` many times, which has poor performance.  Consider joining all columns at once using pd.concat(axis=1) instead.  To get a de-fragmented frame, use `newframe = frame.copy()`\n",
      "  dt_transformed[col] = 0\n",
      "\n"
     ]
    },
    {
     "name": "stdout",
     "output_type": "stream",
     "text": [
      "Accuracy:                                                                                                              \n",
      "0.77                                                                                                                   \n",
      " 50%|████████████████████████▌                        | 5/10 [00:08<00:07,  1.51s/trial, best loss: -0.760766499582289]"
     ]
    },
    {
     "name": "stderr",
     "output_type": "stream",
     "text": [
      "C:\\Users\\velmurug\\Documents\\full_stability\\transformers\\IndexBasedTransformer.py:58: PerformanceWarning: DataFrame is highly fragmented.  This is usually the result of calling `frame.insert` many times, which has poor performance.  Consider joining all columns at once using pd.concat(axis=1) instead.  To get a de-fragmented frame, use `newframe = frame.copy()`\n",
      "  dt_transformed[col] = 0\n",
      "\n"
     ]
    },
    {
     "name": "stdout",
     "output_type": "stream",
     "text": [
      "Accuracy:                                                                                                              \n",
      "0.73                                                                                                                   \n",
      " 50%|████████████████████████▌                        | 5/10 [00:08<00:07,  1.51s/trial, best loss: -0.760766499582289]"
     ]
    },
    {
     "name": "stderr",
     "output_type": "stream",
     "text": [
      "C:\\Users\\velmurug\\Documents\\full_stability\\transformers\\IndexBasedTransformer.py:58: PerformanceWarning: DataFrame is highly fragmented.  This is usually the result of calling `frame.insert` many times, which has poor performance.  Consider joining all columns at once using pd.concat(axis=1) instead.  To get a de-fragmented frame, use `newframe = frame.copy()`\n",
      "  dt_transformed[col] = 0\n",
      "\n"
     ]
    },
    {
     "name": "stdout",
     "output_type": "stream",
     "text": [
      "Accuracy:                                                                                                              \n",
      "0.8                                                                                                                    \n",
      "{'var_smoothing': 0.005336699231206307}                                                                                \n",
      " 60%|████████████████████████████▊                   | 6/10 [00:09<00:05,  1.47s/trial, best loss: -0.7666666666666666]"
     ]
    },
    {
     "name": "stderr",
     "output_type": "stream",
     "text": [
      "C:\\Users\\velmurug\\Documents\\full_stability\\transformers\\IndexBasedTransformer.py:58: PerformanceWarning: DataFrame is highly fragmented.  This is usually the result of calling `frame.insert` many times, which has poor performance.  Consider joining all columns at once using pd.concat(axis=1) instead.  To get a de-fragmented frame, use `newframe = frame.copy()`\n",
      "  dt_transformed[col] = 0\n",
      "\n"
     ]
    },
    {
     "name": "stdout",
     "output_type": "stream",
     "text": [
      "Accuracy:                                                                                                              \n",
      "0.7610714285714286                                                                                                     \n",
      " 60%|████████████████████████████▊                   | 6/10 [00:09<00:05,  1.47s/trial, best loss: -0.7666666666666666]"
     ]
    },
    {
     "name": "stderr",
     "output_type": "stream",
     "text": [
      "C:\\Users\\velmurug\\Documents\\full_stability\\transformers\\IndexBasedTransformer.py:58: PerformanceWarning: DataFrame is highly fragmented.  This is usually the result of calling `frame.insert` many times, which has poor performance.  Consider joining all columns at once using pd.concat(axis=1) instead.  To get a de-fragmented frame, use `newframe = frame.copy()`\n",
      "  dt_transformed[col] = 0\n",
      "\n"
     ]
    },
    {
     "name": "stdout",
     "output_type": "stream",
     "text": [
      "Accuracy:                                                                                                              \n",
      "0.7212280701754386                                                                                                     \n",
      " 60%|████████████████████████████▊                   | 6/10 [00:10<00:05,  1.47s/trial, best loss: -0.7666666666666666]"
     ]
    },
    {
     "name": "stderr",
     "output_type": "stream",
     "text": [
      "C:\\Users\\velmurug\\Documents\\full_stability\\transformers\\IndexBasedTransformer.py:58: PerformanceWarning: DataFrame is highly fragmented.  This is usually the result of calling `frame.insert` many times, which has poor performance.  Consider joining all columns at once using pd.concat(axis=1) instead.  To get a de-fragmented frame, use `newframe = frame.copy()`\n",
      "  dt_transformed[col] = 0\n",
      "\n"
     ]
    },
    {
     "name": "stdout",
     "output_type": "stream",
     "text": [
      "Accuracy:                                                                                                              \n",
      "0.8                                                                                                                    \n",
      "{'var_smoothing': 6.579332246575683e-06}                                                                               \n",
      " 70%|█████████████████████████████████▌              | 7/10 [00:10<00:04,  1.43s/trial, best loss: -0.7666666666666666]"
     ]
    },
    {
     "name": "stderr",
     "output_type": "stream",
     "text": [
      "C:\\Users\\velmurug\\Documents\\full_stability\\transformers\\IndexBasedTransformer.py:58: PerformanceWarning: DataFrame is highly fragmented.  This is usually the result of calling `frame.insert` many times, which has poor performance.  Consider joining all columns at once using pd.concat(axis=1) instead.  To get a de-fragmented frame, use `newframe = frame.copy()`\n",
      "  dt_transformed[col] = 0\n",
      "\n"
     ]
    },
    {
     "name": "stdout",
     "output_type": "stream",
     "text": [
      "Accuracy:                                                                                                              \n",
      "0.7610714285714286                                                                                                     \n",
      " 70%|█████████████████████████████████▌              | 7/10 [00:10<00:04,  1.43s/trial, best loss: -0.7666666666666666]"
     ]
    },
    {
     "name": "stderr",
     "output_type": "stream",
     "text": [
      "C:\\Users\\velmurug\\Documents\\full_stability\\transformers\\IndexBasedTransformer.py:58: PerformanceWarning: DataFrame is highly fragmented.  This is usually the result of calling `frame.insert` many times, which has poor performance.  Consider joining all columns at once using pd.concat(axis=1) instead.  To get a de-fragmented frame, use `newframe = frame.copy()`\n",
      "  dt_transformed[col] = 0\n",
      "\n"
     ]
    },
    {
     "name": "stdout",
     "output_type": "stream",
     "text": [
      "Accuracy:                                                                                                              \n",
      "0.7212280701754386                                                                                                     \n",
      " 70%|█████████████████████████████████▌              | 7/10 [00:11<00:04,  1.43s/trial, best loss: -0.7666666666666666]"
     ]
    },
    {
     "name": "stderr",
     "output_type": "stream",
     "text": [
      "C:\\Users\\velmurug\\Documents\\full_stability\\transformers\\IndexBasedTransformer.py:58: PerformanceWarning: DataFrame is highly fragmented.  This is usually the result of calling `frame.insert` many times, which has poor performance.  Consider joining all columns at once using pd.concat(axis=1) instead.  To get a de-fragmented frame, use `newframe = frame.copy()`\n",
      "  dt_transformed[col] = 0\n",
      "\n"
     ]
    },
    {
     "name": "stdout",
     "output_type": "stream",
     "text": [
      "Accuracy:                                                                                                              \n",
      "0.8                                                                                                                    \n",
      "{'var_smoothing': 8.111308307896873e-08}                                                                               \n",
      " 80%|██████████████████████████████████████▍         | 8/10 [00:11<00:02,  1.39s/trial, best loss: -0.7666666666666666]"
     ]
    },
    {
     "name": "stderr",
     "output_type": "stream",
     "text": [
      "C:\\Users\\velmurug\\Documents\\full_stability\\transformers\\IndexBasedTransformer.py:58: PerformanceWarning: DataFrame is highly fragmented.  This is usually the result of calling `frame.insert` many times, which has poor performance.  Consider joining all columns at once using pd.concat(axis=1) instead.  To get a de-fragmented frame, use `newframe = frame.copy()`\n",
      "  dt_transformed[col] = 0\n",
      "\n"
     ]
    },
    {
     "name": "stdout",
     "output_type": "stream",
     "text": [
      "Accuracy:                                                                                                              \n",
      "0.77                                                                                                                   \n",
      " 80%|██████████████████████████████████████▍         | 8/10 [00:12<00:02,  1.39s/trial, best loss: -0.7666666666666666]"
     ]
    },
    {
     "name": "stderr",
     "output_type": "stream",
     "text": [
      "C:\\Users\\velmurug\\Documents\\full_stability\\transformers\\IndexBasedTransformer.py:58: PerformanceWarning: DataFrame is highly fragmented.  This is usually the result of calling `frame.insert` many times, which has poor performance.  Consider joining all columns at once using pd.concat(axis=1) instead.  To get a de-fragmented frame, use `newframe = frame.copy()`\n",
      "  dt_transformed[col] = 0\n",
      "\n"
     ]
    },
    {
     "name": "stdout",
     "output_type": "stream",
     "text": [
      "Accuracy:                                                                                                              \n",
      "0.7212280701754386                                                                                                     \n",
      " 80%|██████████████████████████████████████▍         | 8/10 [00:12<00:02,  1.39s/trial, best loss: -0.7666666666666666]"
     ]
    },
    {
     "name": "stderr",
     "output_type": "stream",
     "text": [
      "C:\\Users\\velmurug\\Documents\\full_stability\\transformers\\IndexBasedTransformer.py:58: PerformanceWarning: DataFrame is highly fragmented.  This is usually the result of calling `frame.insert` many times, which has poor performance.  Consider joining all columns at once using pd.concat(axis=1) instead.  To get a de-fragmented frame, use `newframe = frame.copy()`\n",
      "  dt_transformed[col] = 0\n",
      "\n"
     ]
    },
    {
     "name": "stdout",
     "output_type": "stream",
     "text": [
      "Accuracy:                                                                                                              \n",
      "0.8                                                                                                                    \n",
      "{'var_smoothing': 0.0001873817422860383}                                                                               \n",
      " 90%|███████████████████████████████████████████▏    | 9/10 [00:13<00:01,  1.38s/trial, best loss: -0.7666666666666666]"
     ]
    },
    {
     "name": "stderr",
     "output_type": "stream",
     "text": [
      "C:\\Users\\velmurug\\Documents\\full_stability\\transformers\\IndexBasedTransformer.py:58: PerformanceWarning: DataFrame is highly fragmented.  This is usually the result of calling `frame.insert` many times, which has poor performance.  Consider joining all columns at once using pd.concat(axis=1) instead.  To get a de-fragmented frame, use `newframe = frame.copy()`\n",
      "  dt_transformed[col] = 0\n",
      "\n"
     ]
    },
    {
     "name": "stdout",
     "output_type": "stream",
     "text": [
      "Accuracy:                                                                                                              \n",
      "0.7610714285714286                                                                                                     \n",
      " 90%|███████████████████████████████████████████▏    | 9/10 [00:13<00:01,  1.38s/trial, best loss: -0.7666666666666666]"
     ]
    },
    {
     "name": "stderr",
     "output_type": "stream",
     "text": [
      "C:\\Users\\velmurug\\Documents\\full_stability\\transformers\\IndexBasedTransformer.py:58: PerformanceWarning: DataFrame is highly fragmented.  This is usually the result of calling `frame.insert` many times, which has poor performance.  Consider joining all columns at once using pd.concat(axis=1) instead.  To get a de-fragmented frame, use `newframe = frame.copy()`\n",
      "  dt_transformed[col] = 0\n",
      "\n"
     ]
    },
    {
     "name": "stdout",
     "output_type": "stream",
     "text": [
      "Accuracy:                                                                                                              \n",
      "0.7212280701754386                                                                                                     \n",
      " 90%|███████████████████████████████████████████▏    | 9/10 [00:13<00:01,  1.38s/trial, best loss: -0.7666666666666666]"
     ]
    },
    {
     "name": "stderr",
     "output_type": "stream",
     "text": [
      "C:\\Users\\velmurug\\Documents\\full_stability\\transformers\\IndexBasedTransformer.py:58: PerformanceWarning: DataFrame is highly fragmented.  This is usually the result of calling `frame.insert` many times, which has poor performance.  Consider joining all columns at once using pd.concat(axis=1) instead.  To get a de-fragmented frame, use `newframe = frame.copy()`\n",
      "  dt_transformed[col] = 0\n",
      "\n"
     ]
    },
    {
     "name": "stdout",
     "output_type": "stream",
     "text": [
      "Accuracy:                                                                                                              \n",
      "0.8                                                                                                                    \n",
      "100%|███████████████████████████████████████████████| 10/10 [00:14<00:00,  1.44s/trial, best loss: -0.7666666666666666]\n",
      "Optimising 12 of 20 buckets\n",
      "{'var_smoothing': 2.848035868435805e-09}                                                                               \n",
      "  0%|                                                                           | 0/10 [00:00<?, ?trial/s, best loss=?]"
     ]
    },
    {
     "name": "stderr",
     "output_type": "stream",
     "text": [
      "C:\\Users\\velmurug\\Documents\\full_stability\\transformers\\IndexBasedTransformer.py:58: PerformanceWarning: DataFrame is highly fragmented.  This is usually the result of calling `frame.insert` many times, which has poor performance.  Consider joining all columns at once using pd.concat(axis=1) instead.  To get a de-fragmented frame, use `newframe = frame.copy()`\n",
      "  dt_transformed[col] = 0\n",
      "\n"
     ]
    },
    {
     "name": "stdout",
     "output_type": "stream",
     "text": [
      "Accuracy:                                                                                                              \n",
      "0.8133012820512819                                                                                                     \n",
      "  0%|                                                                           | 0/10 [00:00<?, ?trial/s, best loss=?]"
     ]
    },
    {
     "name": "stderr",
     "output_type": "stream",
     "text": [
      "C:\\Users\\velmurug\\Documents\\full_stability\\transformers\\IndexBasedTransformer.py:58: PerformanceWarning: DataFrame is highly fragmented.  This is usually the result of calling `frame.insert` many times, which has poor performance.  Consider joining all columns at once using pd.concat(axis=1) instead.  To get a de-fragmented frame, use `newframe = frame.copy()`\n",
      "  dt_transformed[col] = 0\n",
      "\n"
     ]
    },
    {
     "name": "stdout",
     "output_type": "stream",
     "text": [
      "Accuracy:                                                                                                              \n",
      "0.7352468887996788                                                                                                     \n",
      "  0%|                                                                           | 0/10 [00:00<?, ?trial/s, best loss=?]"
     ]
    },
    {
     "name": "stderr",
     "output_type": "stream",
     "text": [
      "C:\\Users\\velmurug\\Documents\\full_stability\\transformers\\IndexBasedTransformer.py:58: PerformanceWarning: DataFrame is highly fragmented.  This is usually the result of calling `frame.insert` many times, which has poor performance.  Consider joining all columns at once using pd.concat(axis=1) instead.  To get a de-fragmented frame, use `newframe = frame.copy()`\n",
      "  dt_transformed[col] = 0\n",
      "\n"
     ]
    },
    {
     "name": "stdout",
     "output_type": "stream",
     "text": [
      "Accuracy:                                                                                                              \n",
      "0.7553191489361702                                                                                                     \n",
      "{'var_smoothing': 5.336699231206302e-08}                                                                               \n",
      " 10%|████▉                                            | 1/10 [00:01<00:13,  1.51s/trial, best loss: -0.767955773262377]"
     ]
    },
    {
     "name": "stderr",
     "output_type": "stream",
     "text": [
      "C:\\Users\\velmurug\\Documents\\full_stability\\transformers\\IndexBasedTransformer.py:58: PerformanceWarning: DataFrame is highly fragmented.  This is usually the result of calling `frame.insert` many times, which has poor performance.  Consider joining all columns at once using pd.concat(axis=1) instead.  To get a de-fragmented frame, use `newframe = frame.copy()`\n",
      "  dt_transformed[col] = 0\n",
      "\n"
     ]
    },
    {
     "name": "stdout",
     "output_type": "stream",
     "text": [
      "Accuracy:                                                                                                              \n",
      "0.8133012820512819                                                                                                     \n",
      " 10%|████▉                                            | 1/10 [00:02<00:13,  1.51s/trial, best loss: -0.767955773262377]"
     ]
    },
    {
     "name": "stderr",
     "output_type": "stream",
     "text": [
      "C:\\Users\\velmurug\\Documents\\full_stability\\transformers\\IndexBasedTransformer.py:58: PerformanceWarning: DataFrame is highly fragmented.  This is usually the result of calling `frame.insert` many times, which has poor performance.  Consider joining all columns at once using pd.concat(axis=1) instead.  To get a de-fragmented frame, use `newframe = frame.copy()`\n",
      "  dt_transformed[col] = 0\n",
      "\n"
     ]
    },
    {
     "name": "stdout",
     "output_type": "stream",
     "text": [
      "Accuracy:                                                                                                              \n",
      "0.7352468887996788                                                                                                     \n",
      " 10%|████▉                                            | 1/10 [00:02<00:13,  1.51s/trial, best loss: -0.767955773262377]"
     ]
    },
    {
     "name": "stderr",
     "output_type": "stream",
     "text": [
      "C:\\Users\\velmurug\\Documents\\full_stability\\transformers\\IndexBasedTransformer.py:58: PerformanceWarning: DataFrame is highly fragmented.  This is usually the result of calling `frame.insert` many times, which has poor performance.  Consider joining all columns at once using pd.concat(axis=1) instead.  To get a de-fragmented frame, use `newframe = frame.copy()`\n",
      "  dt_transformed[col] = 0\n",
      "\n"
     ]
    },
    {
     "name": "stdout",
     "output_type": "stream",
     "text": [
      "Accuracy:                                                                                                              \n",
      "0.7553191489361702                                                                                                     \n",
      "{'var_smoothing': 0.0533669923120631}                                                                                  \n",
      " 20%|█████████▊                                       | 2/10 [00:03<00:12,  1.55s/trial, best loss: -0.767955773262377]"
     ]
    },
    {
     "name": "stderr",
     "output_type": "stream",
     "text": [
      "C:\\Users\\velmurug\\Documents\\full_stability\\transformers\\IndexBasedTransformer.py:58: PerformanceWarning: DataFrame is highly fragmented.  This is usually the result of calling `frame.insert` many times, which has poor performance.  Consider joining all columns at once using pd.concat(axis=1) instead.  To get a de-fragmented frame, use `newframe = frame.copy()`\n",
      "  dt_transformed[col] = 0\n",
      "\n"
     ]
    },
    {
     "name": "stdout",
     "output_type": "stream",
     "text": [
      "Accuracy:                                                                                                              \n",
      "0.8133012820512819                                                                                                     \n",
      " 20%|█████████▊                                       | 2/10 [00:03<00:12,  1.55s/trial, best loss: -0.767955773262377]"
     ]
    },
    {
     "name": "stderr",
     "output_type": "stream",
     "text": [
      "C:\\Users\\velmurug\\Documents\\full_stability\\transformers\\IndexBasedTransformer.py:58: PerformanceWarning: DataFrame is highly fragmented.  This is usually the result of calling `frame.insert` many times, which has poor performance.  Consider joining all columns at once using pd.concat(axis=1) instead.  To get a de-fragmented frame, use `newframe = frame.copy()`\n",
      "  dt_transformed[col] = 0\n",
      "\n"
     ]
    },
    {
     "name": "stdout",
     "output_type": "stream",
     "text": [
      "Accuracy:                                                                                                              \n",
      "0.7352468887996788                                                                                                     \n",
      " 20%|█████████▊                                       | 2/10 [00:04<00:12,  1.55s/trial, best loss: -0.767955773262377]"
     ]
    },
    {
     "name": "stderr",
     "output_type": "stream",
     "text": [
      "C:\\Users\\velmurug\\Documents\\full_stability\\transformers\\IndexBasedTransformer.py:58: PerformanceWarning: DataFrame is highly fragmented.  This is usually the result of calling `frame.insert` many times, which has poor performance.  Consider joining all columns at once using pd.concat(axis=1) instead.  To get a de-fragmented frame, use `newframe = frame.copy()`\n",
      "  dt_transformed[col] = 0\n",
      "\n"
     ]
    },
    {
     "name": "stdout",
     "output_type": "stream",
     "text": [
      "Accuracy:                                                                                                              \n",
      "0.7553191489361702                                                                                                     \n",
      " 20%|█████████▊                                       | 2/10 [00:04<00:12,  1.55s/trial, best loss: -0.767955773262377]"
     ]
    },
    {
     "name": "stderr",
     "output_type": "stream",
     "text": [
      "C:\\Users\\velmurug\\Documents\\full_stability\\transformers\\IndexBasedTransformer.py:58: PerformanceWarning: DataFrame is highly fragmented.  This is usually the result of calling `frame.insert` many times, which has poor performance.  Consider joining all columns at once using pd.concat(axis=1) instead.  To get a de-fragmented frame, use `newframe = frame.copy()`\n",
      "  dt_transformed[col] = 0\n",
      "\n"
     ]
    },
    {
     "name": "stdout",
     "output_type": "stream",
     "text": [
      "{'var_smoothing': 0.04328761281083057}                                                                                 \n",
      "Accuracy:                                                                                                              \n",
      "0.8133012820512819                                                                                                     \n",
      " 30%|██████████████▋                                  | 3/10 [00:05<00:11,  1.62s/trial, best loss: -0.767955773262377]"
     ]
    },
    {
     "name": "stderr",
     "output_type": "stream",
     "text": [
      "C:\\Users\\velmurug\\Documents\\full_stability\\transformers\\IndexBasedTransformer.py:58: PerformanceWarning: DataFrame is highly fragmented.  This is usually the result of calling `frame.insert` many times, which has poor performance.  Consider joining all columns at once using pd.concat(axis=1) instead.  To get a de-fragmented frame, use `newframe = frame.copy()`\n",
      "  dt_transformed[col] = 0\n",
      "\n"
     ]
    },
    {
     "name": "stdout",
     "output_type": "stream",
     "text": [
      "Accuracy:                                                                                                              \n",
      "0.7352468887996788                                                                                                     \n",
      " 30%|██████████████▋                                  | 3/10 [00:06<00:11,  1.62s/trial, best loss: -0.767955773262377]"
     ]
    },
    {
     "name": "stderr",
     "output_type": "stream",
     "text": [
      "C:\\Users\\velmurug\\Documents\\full_stability\\transformers\\IndexBasedTransformer.py:58: PerformanceWarning: DataFrame is highly fragmented.  This is usually the result of calling `frame.insert` many times, which has poor performance.  Consider joining all columns at once using pd.concat(axis=1) instead.  To get a de-fragmented frame, use `newframe = frame.copy()`\n",
      "  dt_transformed[col] = 0\n",
      "\n"
     ]
    },
    {
     "name": "stdout",
     "output_type": "stream",
     "text": [
      "Accuracy:                                                                                                              \n",
      "0.7553191489361702                                                                                                     \n",
      "{'var_smoothing': 4.3287612810830526e-08}                                                                              \n",
      " 40%|███████████████████▌                             | 4/10 [00:06<00:09,  1.64s/trial, best loss: -0.767955773262377]"
     ]
    },
    {
     "name": "stderr",
     "output_type": "stream",
     "text": [
      "C:\\Users\\velmurug\\Documents\\full_stability\\transformers\\IndexBasedTransformer.py:58: PerformanceWarning: DataFrame is highly fragmented.  This is usually the result of calling `frame.insert` many times, which has poor performance.  Consider joining all columns at once using pd.concat(axis=1) instead.  To get a de-fragmented frame, use `newframe = frame.copy()`\n",
      "  dt_transformed[col] = 0\n",
      "\n"
     ]
    },
    {
     "name": "stdout",
     "output_type": "stream",
     "text": [
      "Accuracy:                                                                                                              \n",
      "0.8133012820512819                                                                                                     \n",
      " 40%|███████████████████▌                             | 4/10 [00:07<00:09,  1.64s/trial, best loss: -0.767955773262377]"
     ]
    },
    {
     "name": "stderr",
     "output_type": "stream",
     "text": [
      "C:\\Users\\velmurug\\Documents\\full_stability\\transformers\\IndexBasedTransformer.py:58: PerformanceWarning: DataFrame is highly fragmented.  This is usually the result of calling `frame.insert` many times, which has poor performance.  Consider joining all columns at once using pd.concat(axis=1) instead.  To get a de-fragmented frame, use `newframe = frame.copy()`\n",
      "  dt_transformed[col] = 0\n",
      "\n"
     ]
    },
    {
     "name": "stdout",
     "output_type": "stream",
     "text": [
      "Accuracy:                                                                                                              \n",
      "0.7352468887996788                                                                                                     \n",
      " 40%|███████████████████▌                             | 4/10 [00:07<00:09,  1.64s/trial, best loss: -0.767955773262377]"
     ]
    },
    {
     "name": "stderr",
     "output_type": "stream",
     "text": [
      "C:\\Users\\velmurug\\Documents\\full_stability\\transformers\\IndexBasedTransformer.py:58: PerformanceWarning: DataFrame is highly fragmented.  This is usually the result of calling `frame.insert` many times, which has poor performance.  Consider joining all columns at once using pd.concat(axis=1) instead.  To get a de-fragmented frame, use `newframe = frame.copy()`\n",
      "  dt_transformed[col] = 0\n",
      "\n"
     ]
    },
    {
     "name": "stdout",
     "output_type": "stream",
     "text": [
      "Accuracy:                                                                                                              \n",
      "0.7553191489361702                                                                                                     \n",
      "{'var_smoothing': 1e-08}                                                                                               \n",
      " 50%|████████████████████████▌                        | 5/10 [00:07<00:07,  1.56s/trial, best loss: -0.767955773262377]"
     ]
    },
    {
     "name": "stderr",
     "output_type": "stream",
     "text": [
      "C:\\Users\\velmurug\\Documents\\full_stability\\transformers\\IndexBasedTransformer.py:58: PerformanceWarning: DataFrame is highly fragmented.  This is usually the result of calling `frame.insert` many times, which has poor performance.  Consider joining all columns at once using pd.concat(axis=1) instead.  To get a de-fragmented frame, use `newframe = frame.copy()`\n",
      "  dt_transformed[col] = 0\n",
      "\n"
     ]
    },
    {
     "name": "stdout",
     "output_type": "stream",
     "text": [
      "Accuracy:                                                                                                              \n",
      "0.8133012820512819                                                                                                     \n",
      " 50%|████████████████████████▌                        | 5/10 [00:08<00:07,  1.56s/trial, best loss: -0.767955773262377]"
     ]
    },
    {
     "name": "stderr",
     "output_type": "stream",
     "text": [
      "C:\\Users\\velmurug\\Documents\\full_stability\\transformers\\IndexBasedTransformer.py:58: PerformanceWarning: DataFrame is highly fragmented.  This is usually the result of calling `frame.insert` many times, which has poor performance.  Consider joining all columns at once using pd.concat(axis=1) instead.  To get a de-fragmented frame, use `newframe = frame.copy()`\n",
      "  dt_transformed[col] = 0\n",
      "\n"
     ]
    },
    {
     "name": "stdout",
     "output_type": "stream",
     "text": [
      "Accuracy:                                                                                                              \n",
      "0.7352468887996788                                                                                                     \n",
      " 50%|████████████████████████▌                        | 5/10 [00:08<00:07,  1.56s/trial, best loss: -0.767955773262377]"
     ]
    },
    {
     "name": "stderr",
     "output_type": "stream",
     "text": [
      "C:\\Users\\velmurug\\Documents\\full_stability\\transformers\\IndexBasedTransformer.py:58: PerformanceWarning: DataFrame is highly fragmented.  This is usually the result of calling `frame.insert` many times, which has poor performance.  Consider joining all columns at once using pd.concat(axis=1) instead.  To get a de-fragmented frame, use `newframe = frame.copy()`\n",
      "  dt_transformed[col] = 0\n",
      "\n"
     ]
    },
    {
     "name": "stdout",
     "output_type": "stream",
     "text": [
      "Accuracy:                                                                                                              \n",
      "0.7553191489361702                                                                                                     \n",
      "{'var_smoothing': 2.848035868435805e-09}                                                                               \n",
      " 60%|█████████████████████████████▍                   | 6/10 [00:09<00:06,  1.52s/trial, best loss: -0.767955773262377]"
     ]
    },
    {
     "name": "stderr",
     "output_type": "stream",
     "text": [
      "C:\\Users\\velmurug\\Documents\\full_stability\\transformers\\IndexBasedTransformer.py:58: PerformanceWarning: DataFrame is highly fragmented.  This is usually the result of calling `frame.insert` many times, which has poor performance.  Consider joining all columns at once using pd.concat(axis=1) instead.  To get a de-fragmented frame, use `newframe = frame.copy()`\n",
      "  dt_transformed[col] = 0\n",
      "\n"
     ]
    },
    {
     "name": "stdout",
     "output_type": "stream",
     "text": [
      "Accuracy:                                                                                                              \n",
      "0.8133012820512819                                                                                                     \n",
      " 60%|█████████████████████████████▍                   | 6/10 [00:09<00:06,  1.52s/trial, best loss: -0.767955773262377]"
     ]
    },
    {
     "name": "stderr",
     "output_type": "stream",
     "text": [
      "C:\\Users\\velmurug\\Documents\\full_stability\\transformers\\IndexBasedTransformer.py:58: PerformanceWarning: DataFrame is highly fragmented.  This is usually the result of calling `frame.insert` many times, which has poor performance.  Consider joining all columns at once using pd.concat(axis=1) instead.  To get a de-fragmented frame, use `newframe = frame.copy()`\n",
      "  dt_transformed[col] = 0\n",
      "\n"
     ]
    },
    {
     "name": "stdout",
     "output_type": "stream",
     "text": [
      "Accuracy:                                                                                                              \n",
      "0.7352468887996788                                                                                                     \n",
      " 60%|█████████████████████████████▍                   | 6/10 [00:10<00:06,  1.52s/trial, best loss: -0.767955773262377]"
     ]
    },
    {
     "name": "stderr",
     "output_type": "stream",
     "text": [
      "C:\\Users\\velmurug\\Documents\\full_stability\\transformers\\IndexBasedTransformer.py:58: PerformanceWarning: DataFrame is highly fragmented.  This is usually the result of calling `frame.insert` many times, which has poor performance.  Consider joining all columns at once using pd.concat(axis=1) instead.  To get a de-fragmented frame, use `newframe = frame.copy()`\n",
      "  dt_transformed[col] = 0\n",
      "\n"
     ]
    },
    {
     "name": "stdout",
     "output_type": "stream",
     "text": [
      "Accuracy:                                                                                                              \n",
      "0.7553191489361702                                                                                                     \n",
      "{'var_smoothing': 1e-08}                                                                                               \n",
      " 70%|██████████████████████████████████▎              | 7/10 [00:10<00:04,  1.48s/trial, best loss: -0.767955773262377]"
     ]
    },
    {
     "name": "stderr",
     "output_type": "stream",
     "text": [
      "C:\\Users\\velmurug\\Documents\\full_stability\\transformers\\IndexBasedTransformer.py:58: PerformanceWarning: DataFrame is highly fragmented.  This is usually the result of calling `frame.insert` many times, which has poor performance.  Consider joining all columns at once using pd.concat(axis=1) instead.  To get a de-fragmented frame, use `newframe = frame.copy()`\n",
      "  dt_transformed[col] = 0\n",
      "\n"
     ]
    },
    {
     "name": "stdout",
     "output_type": "stream",
     "text": [
      "Accuracy:                                                                                                              \n",
      "0.8133012820512819                                                                                                     \n",
      " 70%|██████████████████████████████████▎              | 7/10 [00:11<00:04,  1.48s/trial, best loss: -0.767955773262377]"
     ]
    },
    {
     "name": "stderr",
     "output_type": "stream",
     "text": [
      "C:\\Users\\velmurug\\Documents\\full_stability\\transformers\\IndexBasedTransformer.py:58: PerformanceWarning: DataFrame is highly fragmented.  This is usually the result of calling `frame.insert` many times, which has poor performance.  Consider joining all columns at once using pd.concat(axis=1) instead.  To get a de-fragmented frame, use `newframe = frame.copy()`\n",
      "  dt_transformed[col] = 0\n",
      "\n"
     ]
    },
    {
     "name": "stdout",
     "output_type": "stream",
     "text": [
      "Accuracy:                                                                                                              \n",
      "0.7352468887996788                                                                                                     \n",
      " 70%|██████████████████████████████████▎              | 7/10 [00:11<00:04,  1.48s/trial, best loss: -0.767955773262377]"
     ]
    },
    {
     "name": "stderr",
     "output_type": "stream",
     "text": [
      "C:\\Users\\velmurug\\Documents\\full_stability\\transformers\\IndexBasedTransformer.py:58: PerformanceWarning: DataFrame is highly fragmented.  This is usually the result of calling `frame.insert` many times, which has poor performance.  Consider joining all columns at once using pd.concat(axis=1) instead.  To get a de-fragmented frame, use `newframe = frame.copy()`\n",
      "  dt_transformed[col] = 0\n",
      "\n"
     ]
    },
    {
     "name": "stdout",
     "output_type": "stream",
     "text": [
      "Accuracy:                                                                                                              \n",
      "0.7553191489361702                                                                                                     \n",
      "{'var_smoothing': 1.873817422860383e-05}                                                                               \n",
      " 80%|███████████████████████████████████████▏         | 8/10 [00:12<00:02,  1.48s/trial, best loss: -0.767955773262377]"
     ]
    },
    {
     "name": "stderr",
     "output_type": "stream",
     "text": [
      "C:\\Users\\velmurug\\Documents\\full_stability\\transformers\\IndexBasedTransformer.py:58: PerformanceWarning: DataFrame is highly fragmented.  This is usually the result of calling `frame.insert` many times, which has poor performance.  Consider joining all columns at once using pd.concat(axis=1) instead.  To get a de-fragmented frame, use `newframe = frame.copy()`\n",
      "  dt_transformed[col] = 0\n",
      "\n"
     ]
    },
    {
     "name": "stdout",
     "output_type": "stream",
     "text": [
      "Accuracy:                                                                                                              \n",
      "0.8133012820512819                                                                                                     \n",
      " 80%|███████████████████████████████████████▏         | 8/10 [00:12<00:02,  1.48s/trial, best loss: -0.767955773262377]"
     ]
    },
    {
     "name": "stderr",
     "output_type": "stream",
     "text": [
      "C:\\Users\\velmurug\\Documents\\full_stability\\transformers\\IndexBasedTransformer.py:58: PerformanceWarning: DataFrame is highly fragmented.  This is usually the result of calling `frame.insert` many times, which has poor performance.  Consider joining all columns at once using pd.concat(axis=1) instead.  To get a de-fragmented frame, use `newframe = frame.copy()`\n",
      "  dt_transformed[col] = 0\n",
      "\n"
     ]
    },
    {
     "name": "stdout",
     "output_type": "stream",
     "text": [
      "Accuracy:                                                                                                              \n",
      "0.7352468887996788                                                                                                     \n",
      " 80%|███████████████████████████████████████▏         | 8/10 [00:13<00:02,  1.48s/trial, best loss: -0.767955773262377]"
     ]
    },
    {
     "name": "stderr",
     "output_type": "stream",
     "text": [
      "C:\\Users\\velmurug\\Documents\\full_stability\\transformers\\IndexBasedTransformer.py:58: PerformanceWarning: DataFrame is highly fragmented.  This is usually the result of calling `frame.insert` many times, which has poor performance.  Consider joining all columns at once using pd.concat(axis=1) instead.  To get a de-fragmented frame, use `newframe = frame.copy()`\n",
      "  dt_transformed[col] = 0\n",
      "\n"
     ]
    },
    {
     "name": "stdout",
     "output_type": "stream",
     "text": [
      "Accuracy:                                                                                                              \n",
      "0.7553191489361702                                                                                                     \n",
      "{'var_smoothing': 5.336699231206313e-06}                                                                               \n",
      " 90%|████████████████████████████████████████████     | 9/10 [00:13<00:01,  1.52s/trial, best loss: -0.767955773262377]"
     ]
    },
    {
     "name": "stderr",
     "output_type": "stream",
     "text": [
      "C:\\Users\\velmurug\\Documents\\full_stability\\transformers\\IndexBasedTransformer.py:58: PerformanceWarning: DataFrame is highly fragmented.  This is usually the result of calling `frame.insert` many times, which has poor performance.  Consider joining all columns at once using pd.concat(axis=1) instead.  To get a de-fragmented frame, use `newframe = frame.copy()`\n",
      "  dt_transformed[col] = 0\n",
      "\n"
     ]
    },
    {
     "name": "stdout",
     "output_type": "stream",
     "text": [
      "Accuracy:                                                                                                              \n",
      "0.8133012820512819                                                                                                     \n",
      " 90%|████████████████████████████████████████████     | 9/10 [00:14<00:01,  1.52s/trial, best loss: -0.767955773262377]"
     ]
    },
    {
     "name": "stderr",
     "output_type": "stream",
     "text": [
      "C:\\Users\\velmurug\\Documents\\full_stability\\transformers\\IndexBasedTransformer.py:58: PerformanceWarning: DataFrame is highly fragmented.  This is usually the result of calling `frame.insert` many times, which has poor performance.  Consider joining all columns at once using pd.concat(axis=1) instead.  To get a de-fragmented frame, use `newframe = frame.copy()`\n",
      "  dt_transformed[col] = 0\n",
      "\n"
     ]
    },
    {
     "name": "stdout",
     "output_type": "stream",
     "text": [
      "Accuracy:                                                                                                              \n",
      "0.7352468887996788                                                                                                     \n",
      " 90%|████████████████████████████████████████████     | 9/10 [00:14<00:01,  1.52s/trial, best loss: -0.767955773262377]"
     ]
    },
    {
     "name": "stderr",
     "output_type": "stream",
     "text": [
      "C:\\Users\\velmurug\\Documents\\full_stability\\transformers\\IndexBasedTransformer.py:58: PerformanceWarning: DataFrame is highly fragmented.  This is usually the result of calling `frame.insert` many times, which has poor performance.  Consider joining all columns at once using pd.concat(axis=1) instead.  To get a de-fragmented frame, use `newframe = frame.copy()`\n",
      "  dt_transformed[col] = 0\n",
      "\n"
     ]
    },
    {
     "name": "stdout",
     "output_type": "stream",
     "text": [
      "Accuracy:                                                                                                              \n",
      "0.7553191489361702                                                                                                     \n",
      "100%|████████████████████████████████████████████████| 10/10 [00:15<00:00,  1.55s/trial, best loss: -0.767955773262377]\n",
      "Optimising 13 of 20 buckets\n",
      "{'var_smoothing': 0.0004328761281083057}                                                                               \n",
      "  0%|                                                                           | 0/10 [00:00<?, ?trial/s, best loss=?]"
     ]
    },
    {
     "name": "stderr",
     "output_type": "stream",
     "text": [
      "C:\\Users\\velmurug\\Documents\\full_stability\\transformers\\IndexBasedTransformer.py:58: PerformanceWarning: DataFrame is highly fragmented.  This is usually the result of calling `frame.insert` many times, which has poor performance.  Consider joining all columns at once using pd.concat(axis=1) instead.  To get a de-fragmented frame, use `newframe = frame.copy()`\n",
      "  dt_transformed[col] = 0\n",
      "\n"
     ]
    },
    {
     "name": "stdout",
     "output_type": "stream",
     "text": [
      "Accuracy:                                                                                                              \n",
      "0.7654462242562928                                                                                                     \n",
      "  0%|                                                                           | 0/10 [00:00<?, ?trial/s, best loss=?]"
     ]
    },
    {
     "name": "stderr",
     "output_type": "stream",
     "text": [
      "C:\\Users\\velmurug\\Documents\\full_stability\\transformers\\IndexBasedTransformer.py:58: PerformanceWarning: DataFrame is highly fragmented.  This is usually the result of calling `frame.insert` many times, which has poor performance.  Consider joining all columns at once using pd.concat(axis=1) instead.  To get a de-fragmented frame, use `newframe = frame.copy()`\n",
      "  dt_transformed[col] = 0\n",
      "\n"
     ]
    },
    {
     "name": "stdout",
     "output_type": "stream",
     "text": [
      "Accuracy:                                                                                                              \n",
      "0.812929061784897                                                                                                      \n",
      "  0%|                                                                           | 0/10 [00:00<?, ?trial/s, best loss=?]"
     ]
    },
    {
     "name": "stderr",
     "output_type": "stream",
     "text": [
      "C:\\Users\\velmurug\\Documents\\full_stability\\transformers\\IndexBasedTransformer.py:58: PerformanceWarning: DataFrame is highly fragmented.  This is usually the result of calling `frame.insert` many times, which has poor performance.  Consider joining all columns at once using pd.concat(axis=1) instead.  To get a de-fragmented frame, use `newframe = frame.copy()`\n",
      "  dt_transformed[col] = 0\n",
      "\n"
     ]
    },
    {
     "name": "stdout",
     "output_type": "stream",
     "text": [
      "Accuracy:                                                                                                              \n",
      "0.8672768878718536                                                                                                     \n",
      "{'var_smoothing': 0.0002310129700083158}                                                                               \n",
      " 10%|████▊                                           | 1/10 [00:01<00:13,  1.50s/trial, best loss: -0.8152173913043478]"
     ]
    },
    {
     "name": "stderr",
     "output_type": "stream",
     "text": [
      "C:\\Users\\velmurug\\Documents\\full_stability\\transformers\\IndexBasedTransformer.py:58: PerformanceWarning: DataFrame is highly fragmented.  This is usually the result of calling `frame.insert` many times, which has poor performance.  Consider joining all columns at once using pd.concat(axis=1) instead.  To get a de-fragmented frame, use `newframe = frame.copy()`\n",
      "  dt_transformed[col] = 0\n",
      "\n"
     ]
    },
    {
     "name": "stdout",
     "output_type": "stream",
     "text": [
      "Accuracy:                                                                                                              \n",
      "0.7654462242562928                                                                                                     \n",
      " 10%|████▊                                           | 1/10 [00:01<00:13,  1.50s/trial, best loss: -0.8152173913043478]"
     ]
    },
    {
     "name": "stderr",
     "output_type": "stream",
     "text": [
      "C:\\Users\\velmurug\\Documents\\full_stability\\transformers\\IndexBasedTransformer.py:58: PerformanceWarning: DataFrame is highly fragmented.  This is usually the result of calling `frame.insert` many times, which has poor performance.  Consider joining all columns at once using pd.concat(axis=1) instead.  To get a de-fragmented frame, use `newframe = frame.copy()`\n",
      "  dt_transformed[col] = 0\n",
      "\n"
     ]
    },
    {
     "name": "stdout",
     "output_type": "stream",
     "text": [
      "Accuracy:                                                                                                              \n",
      "0.812929061784897                                                                                                      \n",
      " 10%|████▊                                           | 1/10 [00:02<00:13,  1.50s/trial, best loss: -0.8152173913043478]"
     ]
    },
    {
     "name": "stderr",
     "output_type": "stream",
     "text": [
      "C:\\Users\\velmurug\\Documents\\full_stability\\transformers\\IndexBasedTransformer.py:58: PerformanceWarning: DataFrame is highly fragmented.  This is usually the result of calling `frame.insert` many times, which has poor performance.  Consider joining all columns at once using pd.concat(axis=1) instead.  To get a de-fragmented frame, use `newframe = frame.copy()`\n",
      "  dt_transformed[col] = 0\n",
      "\n"
     ]
    },
    {
     "name": "stdout",
     "output_type": "stream",
     "text": [
      "Accuracy:                                                                                                              \n",
      "0.8672768878718536                                                                                                     \n",
      "{'var_smoothing': 0.1}                                                                                                 \n",
      " 20%|█████████▌                                      | 2/10 [00:03<00:12,  1.50s/trial, best loss: -0.8152173913043478]"
     ]
    },
    {
     "name": "stderr",
     "output_type": "stream",
     "text": [
      "C:\\Users\\velmurug\\Documents\\full_stability\\transformers\\IndexBasedTransformer.py:58: PerformanceWarning: DataFrame is highly fragmented.  This is usually the result of calling `frame.insert` many times, which has poor performance.  Consider joining all columns at once using pd.concat(axis=1) instead.  To get a de-fragmented frame, use `newframe = frame.copy()`\n",
      "  dt_transformed[col] = 0\n",
      "\n"
     ]
    },
    {
     "name": "stdout",
     "output_type": "stream",
     "text": [
      "Accuracy:                                                                                                              \n",
      "0.7654462242562928                                                                                                     \n",
      " 20%|█████████▌                                      | 2/10 [00:03<00:12,  1.50s/trial, best loss: -0.8152173913043478]"
     ]
    },
    {
     "name": "stderr",
     "output_type": "stream",
     "text": [
      "C:\\Users\\velmurug\\Documents\\full_stability\\transformers\\IndexBasedTransformer.py:58: PerformanceWarning: DataFrame is highly fragmented.  This is usually the result of calling `frame.insert` many times, which has poor performance.  Consider joining all columns at once using pd.concat(axis=1) instead.  To get a de-fragmented frame, use `newframe = frame.copy()`\n",
      "  dt_transformed[col] = 0\n",
      "\n"
     ]
    },
    {
     "name": "stdout",
     "output_type": "stream",
     "text": [
      "Accuracy:                                                                                                              \n",
      "0.8867276887871854                                                                                                     \n",
      " 20%|█████████▌                                      | 2/10 [00:04<00:12,  1.50s/trial, best loss: -0.8152173913043478]"
     ]
    },
    {
     "name": "stderr",
     "output_type": "stream",
     "text": [
      "C:\\Users\\velmurug\\Documents\\full_stability\\transformers\\IndexBasedTransformer.py:58: PerformanceWarning: DataFrame is highly fragmented.  This is usually the result of calling `frame.insert` many times, which has poor performance.  Consider joining all columns at once using pd.concat(axis=1) instead.  To get a de-fragmented frame, use `newframe = frame.copy()`\n",
      "  dt_transformed[col] = 0\n",
      "\n"
     ]
    },
    {
     "name": "stdout",
     "output_type": "stream",
     "text": [
      "Accuracy:                                                                                                              \n",
      "0.8272311212814646                                                                                                     \n",
      "{'var_smoothing': 0.0001519911082952933}                                                                               \n",
      " 30%|██████████████▍                                 | 3/10 [00:04<00:10,  1.56s/trial, best loss: -0.8264683447749809]"
     ]
    },
    {
     "name": "stderr",
     "output_type": "stream",
     "text": [
      "C:\\Users\\velmurug\\Documents\\full_stability\\transformers\\IndexBasedTransformer.py:58: PerformanceWarning: DataFrame is highly fragmented.  This is usually the result of calling `frame.insert` many times, which has poor performance.  Consider joining all columns at once using pd.concat(axis=1) instead.  To get a de-fragmented frame, use `newframe = frame.copy()`\n",
      "  dt_transformed[col] = 0\n",
      "\n"
     ]
    },
    {
     "name": "stdout",
     "output_type": "stream",
     "text": [
      "Accuracy:                                                                                                              \n",
      "0.7654462242562928                                                                                                     \n",
      " 30%|██████████████▍                                 | 3/10 [00:05<00:10,  1.56s/trial, best loss: -0.8264683447749809]"
     ]
    },
    {
     "name": "stderr",
     "output_type": "stream",
     "text": [
      "C:\\Users\\velmurug\\Documents\\full_stability\\transformers\\IndexBasedTransformer.py:58: PerformanceWarning: DataFrame is highly fragmented.  This is usually the result of calling `frame.insert` many times, which has poor performance.  Consider joining all columns at once using pd.concat(axis=1) instead.  To get a de-fragmented frame, use `newframe = frame.copy()`\n",
      "  dt_transformed[col] = 0\n",
      "\n"
     ]
    },
    {
     "name": "stdout",
     "output_type": "stream",
     "text": [
      "Accuracy:                                                                                                              \n",
      "0.812929061784897                                                                                                      \n",
      " 30%|██████████████▍                                 | 3/10 [00:05<00:10,  1.56s/trial, best loss: -0.8264683447749809]"
     ]
    },
    {
     "name": "stderr",
     "output_type": "stream",
     "text": [
      "C:\\Users\\velmurug\\Documents\\full_stability\\transformers\\IndexBasedTransformer.py:58: PerformanceWarning: DataFrame is highly fragmented.  This is usually the result of calling `frame.insert` many times, which has poor performance.  Consider joining all columns at once using pd.concat(axis=1) instead.  To get a de-fragmented frame, use `newframe = frame.copy()`\n",
      "  dt_transformed[col] = 0\n",
      "\n"
     ]
    },
    {
     "name": "stdout",
     "output_type": "stream",
     "text": [
      "Accuracy:                                                                                                              \n",
      "0.8695652173913043                                                                                                     \n",
      "{'var_smoothing': 0.0001873817422860383}                                                                               \n",
      " 40%|███████████████████▏                            | 4/10 [00:06<00:09,  1.55s/trial, best loss: -0.8264683447749809]"
     ]
    },
    {
     "name": "stderr",
     "output_type": "stream",
     "text": [
      "C:\\Users\\velmurug\\Documents\\full_stability\\transformers\\IndexBasedTransformer.py:58: PerformanceWarning: DataFrame is highly fragmented.  This is usually the result of calling `frame.insert` many times, which has poor performance.  Consider joining all columns at once using pd.concat(axis=1) instead.  To get a de-fragmented frame, use `newframe = frame.copy()`\n",
      "  dt_transformed[col] = 0\n",
      "\n"
     ]
    },
    {
     "name": "stdout",
     "output_type": "stream",
     "text": [
      "Accuracy:                                                                                                              \n",
      "0.7654462242562928                                                                                                     \n",
      " 40%|███████████████████▏                            | 4/10 [00:06<00:09,  1.55s/trial, best loss: -0.8264683447749809]"
     ]
    },
    {
     "name": "stderr",
     "output_type": "stream",
     "text": [
      "C:\\Users\\velmurug\\Documents\\full_stability\\transformers\\IndexBasedTransformer.py:58: PerformanceWarning: DataFrame is highly fragmented.  This is usually the result of calling `frame.insert` many times, which has poor performance.  Consider joining all columns at once using pd.concat(axis=1) instead.  To get a de-fragmented frame, use `newframe = frame.copy()`\n",
      "  dt_transformed[col] = 0\n",
      "\n"
     ]
    },
    {
     "name": "stdout",
     "output_type": "stream",
     "text": [
      "Accuracy:                                                                                                              \n",
      "0.812929061784897                                                                                                      \n",
      " 40%|███████████████████▏                            | 4/10 [00:07<00:09,  1.55s/trial, best loss: -0.8264683447749809]"
     ]
    },
    {
     "name": "stderr",
     "output_type": "stream",
     "text": [
      "C:\\Users\\velmurug\\Documents\\full_stability\\transformers\\IndexBasedTransformer.py:58: PerformanceWarning: DataFrame is highly fragmented.  This is usually the result of calling `frame.insert` many times, which has poor performance.  Consider joining all columns at once using pd.concat(axis=1) instead.  To get a de-fragmented frame, use `newframe = frame.copy()`\n",
      "  dt_transformed[col] = 0\n",
      "\n"
     ]
    },
    {
     "name": "stdout",
     "output_type": "stream",
     "text": [
      "Accuracy:                                                                                                              \n",
      "0.8564073226544623                                                                                                     \n",
      "{'var_smoothing': 5.336699231206302e-09}                                                                               \n",
      " 50%|████████████████████████                        | 5/10 [00:07<00:07,  1.58s/trial, best loss: -0.8264683447749809]"
     ]
    },
    {
     "name": "stderr",
     "output_type": "stream",
     "text": [
      "C:\\Users\\velmurug\\Documents\\full_stability\\transformers\\IndexBasedTransformer.py:58: PerformanceWarning: DataFrame is highly fragmented.  This is usually the result of calling `frame.insert` many times, which has poor performance.  Consider joining all columns at once using pd.concat(axis=1) instead.  To get a de-fragmented frame, use `newframe = frame.copy()`\n",
      "  dt_transformed[col] = 0\n",
      "\n"
     ]
    },
    {
     "name": "stdout",
     "output_type": "stream",
     "text": [
      "Accuracy:                                                                                                              \n",
      "0.7654462242562928                                                                                                     \n",
      " 50%|████████████████████████                        | 5/10 [00:08<00:07,  1.58s/trial, best loss: -0.8264683447749809]"
     ]
    },
    {
     "name": "stderr",
     "output_type": "stream",
     "text": [
      "C:\\Users\\velmurug\\Documents\\full_stability\\transformers\\IndexBasedTransformer.py:58: PerformanceWarning: DataFrame is highly fragmented.  This is usually the result of calling `frame.insert` many times, which has poor performance.  Consider joining all columns at once using pd.concat(axis=1) instead.  To get a de-fragmented frame, use `newframe = frame.copy()`\n",
      "  dt_transformed[col] = 0\n",
      "\n"
     ]
    },
    {
     "name": "stdout",
     "output_type": "stream",
     "text": [
      "Accuracy:                                                                                                              \n",
      "0.7826086956521738                                                                                                     \n",
      " 50%|████████████████████████                        | 5/10 [00:08<00:07,  1.58s/trial, best loss: -0.8264683447749809]"
     ]
    },
    {
     "name": "stderr",
     "output_type": "stream",
     "text": [
      "C:\\Users\\velmurug\\Documents\\full_stability\\transformers\\IndexBasedTransformer.py:58: PerformanceWarning: DataFrame is highly fragmented.  This is usually the result of calling `frame.insert` many times, which has poor performance.  Consider joining all columns at once using pd.concat(axis=1) instead.  To get a de-fragmented frame, use `newframe = frame.copy()`\n",
      "  dt_transformed[col] = 0\n",
      "\n"
     ]
    },
    {
     "name": "stdout",
     "output_type": "stream",
     "text": [
      "Accuracy:                                                                                                              \n",
      "0.8043478260869565                                                                                                     \n",
      "{'var_smoothing': 1.232846739442066e-06}                                                                               \n",
      " 60%|████████████████████████████▊                   | 6/10 [00:09<00:06,  1.58s/trial, best loss: -0.8264683447749809]"
     ]
    },
    {
     "name": "stderr",
     "output_type": "stream",
     "text": [
      "C:\\Users\\velmurug\\Documents\\full_stability\\transformers\\IndexBasedTransformer.py:58: PerformanceWarning: DataFrame is highly fragmented.  This is usually the result of calling `frame.insert` many times, which has poor performance.  Consider joining all columns at once using pd.concat(axis=1) instead.  To get a de-fragmented frame, use `newframe = frame.copy()`\n",
      "  dt_transformed[col] = 0\n",
      "\n"
     ]
    },
    {
     "name": "stdout",
     "output_type": "stream",
     "text": [
      "Accuracy:                                                                                                              \n",
      "0.7654462242562928                                                                                                     \n",
      " 60%|████████████████████████████▊                   | 6/10 [00:09<00:06,  1.58s/trial, best loss: -0.8264683447749809]"
     ]
    },
    {
     "name": "stderr",
     "output_type": "stream",
     "text": [
      "C:\\Users\\velmurug\\Documents\\full_stability\\transformers\\IndexBasedTransformer.py:58: PerformanceWarning: DataFrame is highly fragmented.  This is usually the result of calling `frame.insert` many times, which has poor performance.  Consider joining all columns at once using pd.concat(axis=1) instead.  To get a de-fragmented frame, use `newframe = frame.copy()`\n",
      "  dt_transformed[col] = 0\n",
      "\n"
     ]
    },
    {
     "name": "stdout",
     "output_type": "stream",
     "text": [
      "Accuracy:                                                                                                              \n",
      "0.7826086956521738                                                                                                     \n",
      " 60%|████████████████████████████▊                   | 6/10 [00:10<00:06,  1.58s/trial, best loss: -0.8264683447749809]"
     ]
    },
    {
     "name": "stderr",
     "output_type": "stream",
     "text": [
      "C:\\Users\\velmurug\\Documents\\full_stability\\transformers\\IndexBasedTransformer.py:58: PerformanceWarning: DataFrame is highly fragmented.  This is usually the result of calling `frame.insert` many times, which has poor performance.  Consider joining all columns at once using pd.concat(axis=1) instead.  To get a de-fragmented frame, use `newframe = frame.copy()`\n",
      "  dt_transformed[col] = 0\n",
      "\n"
     ]
    },
    {
     "name": "stdout",
     "output_type": "stream",
     "text": [
      "Accuracy:                                                                                                              \n",
      "0.8478260869565217                                                                                                     \n",
      "{'var_smoothing': 0.43287612810830584}                                                                                 \n",
      " 70%|█████████████████████████████████▌              | 7/10 [00:10<00:04,  1.56s/trial, best loss: -0.8264683447749809]"
     ]
    },
    {
     "name": "stderr",
     "output_type": "stream",
     "text": [
      "C:\\Users\\velmurug\\Documents\\full_stability\\transformers\\IndexBasedTransformer.py:58: PerformanceWarning: DataFrame is highly fragmented.  This is usually the result of calling `frame.insert` many times, which has poor performance.  Consider joining all columns at once using pd.concat(axis=1) instead.  To get a de-fragmented frame, use `newframe = frame.copy()`\n",
      "  dt_transformed[col] = 0\n",
      "\n"
     ]
    },
    {
     "name": "stdout",
     "output_type": "stream",
     "text": [
      "Accuracy:                                                                                                              \n",
      "0.7654462242562928                                                                                                     \n",
      " 70%|█████████████████████████████████▌              | 7/10 [00:11<00:04,  1.56s/trial, best loss: -0.8264683447749809]"
     ]
    },
    {
     "name": "stderr",
     "output_type": "stream",
     "text": [
      "C:\\Users\\velmurug\\Documents\\full_stability\\transformers\\IndexBasedTransformer.py:58: PerformanceWarning: DataFrame is highly fragmented.  This is usually the result of calling `frame.insert` many times, which has poor performance.  Consider joining all columns at once using pd.concat(axis=1) instead.  To get a de-fragmented frame, use `newframe = frame.copy()`\n",
      "  dt_transformed[col] = 0\n",
      "\n"
     ]
    },
    {
     "name": "stdout",
     "output_type": "stream",
     "text": [
      "Accuracy:                                                                                                              \n",
      "0.8581235697940504                                                                                                     \n",
      " 70%|█████████████████████████████████▌              | 7/10 [00:11<00:04,  1.56s/trial, best loss: -0.8264683447749809]"
     ]
    },
    {
     "name": "stderr",
     "output_type": "stream",
     "text": [
      "C:\\Users\\velmurug\\Documents\\full_stability\\transformers\\IndexBasedTransformer.py:58: PerformanceWarning: DataFrame is highly fragmented.  This is usually the result of calling `frame.insert` many times, which has poor performance.  Consider joining all columns at once using pd.concat(axis=1) instead.  To get a de-fragmented frame, use `newframe = frame.copy()`\n",
      "  dt_transformed[col] = 0\n",
      "\n"
     ]
    },
    {
     "name": "stdout",
     "output_type": "stream",
     "text": [
      "Accuracy:                                                                                                              \n",
      "0.8009153318077803                                                                                                     \n",
      "{'var_smoothing': 4.328761281083062e-05}                                                                               \n",
      " 80%|██████████████████████████████████████▍         | 8/10 [00:12<00:03,  1.55s/trial, best loss: -0.8264683447749809]"
     ]
    },
    {
     "name": "stderr",
     "output_type": "stream",
     "text": [
      "C:\\Users\\velmurug\\Documents\\full_stability\\transformers\\IndexBasedTransformer.py:58: PerformanceWarning: DataFrame is highly fragmented.  This is usually the result of calling `frame.insert` many times, which has poor performance.  Consider joining all columns at once using pd.concat(axis=1) instead.  To get a de-fragmented frame, use `newframe = frame.copy()`\n",
      "  dt_transformed[col] = 0\n",
      "\n"
     ]
    },
    {
     "name": "stdout",
     "output_type": "stream",
     "text": [
      "Accuracy:                                                                                                              \n",
      "0.7654462242562928                                                                                                     \n",
      " 80%|██████████████████████████████████████▍         | 8/10 [00:13<00:03,  1.55s/trial, best loss: -0.8264683447749809]"
     ]
    },
    {
     "name": "stderr",
     "output_type": "stream",
     "text": [
      "C:\\Users\\velmurug\\Documents\\full_stability\\transformers\\IndexBasedTransformer.py:58: PerformanceWarning: DataFrame is highly fragmented.  This is usually the result of calling `frame.insert` many times, which has poor performance.  Consider joining all columns at once using pd.concat(axis=1) instead.  To get a de-fragmented frame, use `newframe = frame.copy()`\n",
      "  dt_transformed[col] = 0\n",
      "\n"
     ]
    },
    {
     "name": "stdout",
     "output_type": "stream",
     "text": [
      "Accuracy:                                                                                                              \n",
      "0.7911899313501145                                                                                                     \n",
      " 80%|██████████████████████████████████████▍         | 8/10 [00:13<00:03,  1.55s/trial, best loss: -0.8264683447749809]"
     ]
    },
    {
     "name": "stderr",
     "output_type": "stream",
     "text": [
      "C:\\Users\\velmurug\\Documents\\full_stability\\transformers\\IndexBasedTransformer.py:58: PerformanceWarning: DataFrame is highly fragmented.  This is usually the result of calling `frame.insert` many times, which has poor performance.  Consider joining all columns at once using pd.concat(axis=1) instead.  To get a de-fragmented frame, use `newframe = frame.copy()`\n",
      "  dt_transformed[col] = 0\n",
      "\n"
     ]
    },
    {
     "name": "stdout",
     "output_type": "stream",
     "text": [
      "Accuracy:                                                                                                              \n",
      "0.8586956521739131                                                                                                     \n",
      "{'var_smoothing': 6.579332246575683e-06}                                                                               \n",
      " 90%|███████████████████████████████████████████▏    | 9/10 [00:14<00:01,  1.54s/trial, best loss: -0.8264683447749809]"
     ]
    },
    {
     "name": "stderr",
     "output_type": "stream",
     "text": [
      "C:\\Users\\velmurug\\Documents\\full_stability\\transformers\\IndexBasedTransformer.py:58: PerformanceWarning: DataFrame is highly fragmented.  This is usually the result of calling `frame.insert` many times, which has poor performance.  Consider joining all columns at once using pd.concat(axis=1) instead.  To get a de-fragmented frame, use `newframe = frame.copy()`\n",
      "  dt_transformed[col] = 0\n",
      "\n"
     ]
    },
    {
     "name": "stdout",
     "output_type": "stream",
     "text": [
      "Accuracy:                                                                                                              \n",
      "0.7654462242562928                                                                                                     \n",
      " 90%|███████████████████████████████████████████▏    | 9/10 [00:14<00:01,  1.54s/trial, best loss: -0.8264683447749809]"
     ]
    },
    {
     "name": "stderr",
     "output_type": "stream",
     "text": [
      "C:\\Users\\velmurug\\Documents\\full_stability\\transformers\\IndexBasedTransformer.py:58: PerformanceWarning: DataFrame is highly fragmented.  This is usually the result of calling `frame.insert` many times, which has poor performance.  Consider joining all columns at once using pd.concat(axis=1) instead.  To get a de-fragmented frame, use `newframe = frame.copy()`\n",
      "  dt_transformed[col] = 0\n",
      "\n"
     ]
    },
    {
     "name": "stdout",
     "output_type": "stream",
     "text": [
      "Accuracy:                                                                                                              \n",
      "0.7826086956521738                                                                                                     \n",
      " 90%|███████████████████████████████████████████▏    | 9/10 [00:14<00:01,  1.54s/trial, best loss: -0.8264683447749809]"
     ]
    },
    {
     "name": "stderr",
     "output_type": "stream",
     "text": [
      "C:\\Users\\velmurug\\Documents\\full_stability\\transformers\\IndexBasedTransformer.py:58: PerformanceWarning: DataFrame is highly fragmented.  This is usually the result of calling `frame.insert` many times, which has poor performance.  Consider joining all columns at once using pd.concat(axis=1) instead.  To get a de-fragmented frame, use `newframe = frame.copy()`\n",
      "  dt_transformed[col] = 0\n",
      "\n"
     ]
    },
    {
     "name": "stdout",
     "output_type": "stream",
     "text": [
      "Accuracy:                                                                                                              \n",
      "0.8478260869565217                                                                                                     \n",
      "100%|███████████████████████████████████████████████| 10/10 [00:15<00:00,  1.55s/trial, best loss: -0.8264683447749809]\n",
      "Optimising 14 of 20 buckets\n",
      "{'var_smoothing': 0.3511191734215131}                                                                                  \n",
      "  0%|                                                                           | 0/10 [00:00<?, ?trial/s, best loss=?]"
     ]
    },
    {
     "name": "stderr",
     "output_type": "stream",
     "text": [
      "C:\\Users\\velmurug\\Documents\\full_stability\\transformers\\IndexBasedTransformer.py:58: PerformanceWarning: DataFrame is highly fragmented.  This is usually the result of calling `frame.insert` many times, which has poor performance.  Consider joining all columns at once using pd.concat(axis=1) instead.  To get a de-fragmented frame, use `newframe = frame.copy()`\n",
      "  dt_transformed[col] = 0\n",
      "\n"
     ]
    },
    {
     "name": "stdout",
     "output_type": "stream",
     "text": [
      "Accuracy:                                                                                                              \n",
      "0.8831168831168831                                                                                                     \n",
      "  0%|                                                                           | 0/10 [00:00<?, ?trial/s, best loss=?]"
     ]
    },
    {
     "name": "stderr",
     "output_type": "stream",
     "text": [
      "C:\\Users\\velmurug\\Documents\\full_stability\\transformers\\IndexBasedTransformer.py:58: PerformanceWarning: DataFrame is highly fragmented.  This is usually the result of calling `frame.insert` many times, which has poor performance.  Consider joining all columns at once using pd.concat(axis=1) instead.  To get a de-fragmented frame, use `newframe = frame.copy()`\n",
      "  dt_transformed[col] = 0\n",
      "\n"
     ]
    },
    {
     "name": "stdout",
     "output_type": "stream",
     "text": [
      "Accuracy:                                                                                                              \n",
      "0.8733766233766233                                                                                                     \n",
      "  0%|                                                                           | 0/10 [00:01<?, ?trial/s, best loss=?]"
     ]
    },
    {
     "name": "stderr",
     "output_type": "stream",
     "text": [
      "C:\\Users\\velmurug\\Documents\\full_stability\\transformers\\IndexBasedTransformer.py:58: PerformanceWarning: DataFrame is highly fragmented.  This is usually the result of calling `frame.insert` many times, which has poor performance.  Consider joining all columns at once using pd.concat(axis=1) instead.  To get a de-fragmented frame, use `newframe = frame.copy()`\n",
      "  dt_transformed[col] = 0\n",
      "\n"
     ]
    },
    {
     "name": "stdout",
     "output_type": "stream",
     "text": [
      "Accuracy:                                                                                                              \n",
      "0.7822128851540616                                                                                                     \n",
      "{'var_smoothing': 5.336699231206313e-06}                                                                               \n",
      " 10%|████▊                                           | 1/10 [00:01<00:14,  1.62s/trial, best loss: -0.8462354638825227]"
     ]
    },
    {
     "name": "stderr",
     "output_type": "stream",
     "text": [
      "C:\\Users\\velmurug\\Documents\\full_stability\\transformers\\IndexBasedTransformer.py:58: PerformanceWarning: DataFrame is highly fragmented.  This is usually the result of calling `frame.insert` many times, which has poor performance.  Consider joining all columns at once using pd.concat(axis=1) instead.  To get a de-fragmented frame, use `newframe = frame.copy()`\n",
      "  dt_transformed[col] = 0\n",
      "\n"
     ]
    },
    {
     "name": "stdout",
     "output_type": "stream",
     "text": [
      "Accuracy:                                                                                                              \n",
      "0.8333333333333333                                                                                                     \n",
      " 10%|████▊                                           | 1/10 [00:02<00:14,  1.62s/trial, best loss: -0.8462354638825227]"
     ]
    },
    {
     "name": "stderr",
     "output_type": "stream",
     "text": [
      "C:\\Users\\velmurug\\Documents\\full_stability\\transformers\\IndexBasedTransformer.py:58: PerformanceWarning: DataFrame is highly fragmented.  This is usually the result of calling `frame.insert` many times, which has poor performance.  Consider joining all columns at once using pd.concat(axis=1) instead.  To get a de-fragmented frame, use `newframe = frame.copy()`\n",
      "  dt_transformed[col] = 0\n",
      "\n"
     ]
    },
    {
     "name": "stdout",
     "output_type": "stream",
     "text": [
      "Accuracy:                                                                                                              \n",
      "0.8690476190476191                                                                                                     \n",
      " 10%|████▊                                           | 1/10 [00:02<00:14,  1.62s/trial, best loss: -0.8462354638825227]"
     ]
    },
    {
     "name": "stderr",
     "output_type": "stream",
     "text": [
      "C:\\Users\\velmurug\\Documents\\full_stability\\transformers\\IndexBasedTransformer.py:58: PerformanceWarning: DataFrame is highly fragmented.  This is usually the result of calling `frame.insert` many times, which has poor performance.  Consider joining all columns at once using pd.concat(axis=1) instead.  To get a de-fragmented frame, use `newframe = frame.copy()`\n",
      "  dt_transformed[col] = 0\n",
      "\n"
     ]
    },
    {
     "name": "stdout",
     "output_type": "stream",
     "text": [
      "Accuracy:                                                                                                              \n",
      "0.8690476190476191                                                                                                     \n",
      "{'var_smoothing': 8.111308307896873e-08}                                                                               \n",
      " 20%|█████████▌                                      | 2/10 [00:03<00:13,  1.64s/trial, best loss: -0.8571428571428571]"
     ]
    },
    {
     "name": "stderr",
     "output_type": "stream",
     "text": [
      "C:\\Users\\velmurug\\Documents\\full_stability\\transformers\\IndexBasedTransformer.py:58: PerformanceWarning: DataFrame is highly fragmented.  This is usually the result of calling `frame.insert` many times, which has poor performance.  Consider joining all columns at once using pd.concat(axis=1) instead.  To get a de-fragmented frame, use `newframe = frame.copy()`\n",
      "  dt_transformed[col] = 0\n",
      "\n"
     ]
    },
    {
     "name": "stdout",
     "output_type": "stream",
     "text": [
      "Accuracy:                                                                                                              \n",
      "0.8333333333333333                                                                                                     \n",
      " 20%|█████████▌                                      | 2/10 [00:03<00:13,  1.64s/trial, best loss: -0.8571428571428571]"
     ]
    },
    {
     "name": "stderr",
     "output_type": "stream",
     "text": [
      "C:\\Users\\velmurug\\Documents\\full_stability\\transformers\\IndexBasedTransformer.py:58: PerformanceWarning: DataFrame is highly fragmented.  This is usually the result of calling `frame.insert` many times, which has poor performance.  Consider joining all columns at once using pd.concat(axis=1) instead.  To get a de-fragmented frame, use `newframe = frame.copy()`\n",
      "  dt_transformed[col] = 0\n",
      "\n"
     ]
    },
    {
     "name": "stdout",
     "output_type": "stream",
     "text": [
      "Accuracy:                                                                                                              \n",
      "0.8690476190476191                                                                                                     \n",
      " 20%|█████████▌                                      | 2/10 [00:04<00:13,  1.64s/trial, best loss: -0.8571428571428571]"
     ]
    },
    {
     "name": "stderr",
     "output_type": "stream",
     "text": [
      "C:\\Users\\velmurug\\Documents\\full_stability\\transformers\\IndexBasedTransformer.py:58: PerformanceWarning: DataFrame is highly fragmented.  This is usually the result of calling `frame.insert` many times, which has poor performance.  Consider joining all columns at once using pd.concat(axis=1) instead.  To get a de-fragmented frame, use `newframe = frame.copy()`\n",
      "  dt_transformed[col] = 0\n",
      "\n"
     ]
    },
    {
     "name": "stdout",
     "output_type": "stream",
     "text": [
      "Accuracy:                                                                                                              \n",
      "0.8214285714285714                                                                                                     \n",
      "{'var_smoothing': 5.336699231206313e-06}                                                                               \n",
      " 30%|██████████████▍                                 | 3/10 [00:05<00:11,  1.67s/trial, best loss: -0.8571428571428571]"
     ]
    },
    {
     "name": "stderr",
     "output_type": "stream",
     "text": [
      "C:\\Users\\velmurug\\Documents\\full_stability\\transformers\\IndexBasedTransformer.py:58: PerformanceWarning: DataFrame is highly fragmented.  This is usually the result of calling `frame.insert` many times, which has poor performance.  Consider joining all columns at once using pd.concat(axis=1) instead.  To get a de-fragmented frame, use `newframe = frame.copy()`\n",
      "  dt_transformed[col] = 0\n",
      "\n"
     ]
    },
    {
     "name": "stdout",
     "output_type": "stream",
     "text": [
      "Accuracy:                                                                                                              \n",
      "0.8333333333333333                                                                                                     \n",
      " 30%|██████████████▍                                 | 3/10 [00:05<00:11,  1.67s/trial, best loss: -0.8571428571428571]"
     ]
    },
    {
     "name": "stderr",
     "output_type": "stream",
     "text": [
      "C:\\Users\\velmurug\\Documents\\full_stability\\transformers\\IndexBasedTransformer.py:58: PerformanceWarning: DataFrame is highly fragmented.  This is usually the result of calling `frame.insert` many times, which has poor performance.  Consider joining all columns at once using pd.concat(axis=1) instead.  To get a de-fragmented frame, use `newframe = frame.copy()`\n",
      "  dt_transformed[col] = 0\n",
      "\n"
     ]
    },
    {
     "name": "stdout",
     "output_type": "stream",
     "text": [
      "Accuracy:                                                                                                              \n",
      "0.8690476190476191                                                                                                     \n",
      " 30%|██████████████▍                                 | 3/10 [00:06<00:11,  1.67s/trial, best loss: -0.8571428571428571]"
     ]
    },
    {
     "name": "stderr",
     "output_type": "stream",
     "text": [
      "C:\\Users\\velmurug\\Documents\\full_stability\\transformers\\IndexBasedTransformer.py:58: PerformanceWarning: DataFrame is highly fragmented.  This is usually the result of calling `frame.insert` many times, which has poor performance.  Consider joining all columns at once using pd.concat(axis=1) instead.  To get a de-fragmented frame, use `newframe = frame.copy()`\n",
      "  dt_transformed[col] = 0\n",
      "\n"
     ]
    },
    {
     "name": "stdout",
     "output_type": "stream",
     "text": [
      "Accuracy:                                                                                                              \n",
      "0.8690476190476191                                                                                                     \n",
      "{'var_smoothing': 0.657933224657568}                                                                                   \n",
      " 40%|███████████████████▏                            | 4/10 [00:06<00:10,  1.69s/trial, best loss: -0.8571428571428571]"
     ]
    },
    {
     "name": "stderr",
     "output_type": "stream",
     "text": [
      "C:\\Users\\velmurug\\Documents\\full_stability\\transformers\\IndexBasedTransformer.py:58: PerformanceWarning: DataFrame is highly fragmented.  This is usually the result of calling `frame.insert` many times, which has poor performance.  Consider joining all columns at once using pd.concat(axis=1) instead.  To get a de-fragmented frame, use `newframe = frame.copy()`\n",
      "  dt_transformed[col] = 0\n",
      "\n"
     ]
    },
    {
     "name": "stdout",
     "output_type": "stream",
     "text": [
      "Accuracy:                                                                                                              \n",
      "0.8798701298701299                                                                                                     \n",
      " 40%|███████████████████▏                            | 4/10 [00:07<00:10,  1.69s/trial, best loss: -0.8571428571428571]"
     ]
    },
    {
     "name": "stderr",
     "output_type": "stream",
     "text": [
      "C:\\Users\\velmurug\\Documents\\full_stability\\transformers\\IndexBasedTransformer.py:58: PerformanceWarning: DataFrame is highly fragmented.  This is usually the result of calling `frame.insert` many times, which has poor performance.  Consider joining all columns at once using pd.concat(axis=1) instead.  To get a de-fragmented frame, use `newframe = frame.copy()`\n",
      "  dt_transformed[col] = 0\n",
      "\n"
     ]
    },
    {
     "name": "stdout",
     "output_type": "stream",
     "text": [
      "Accuracy:                                                                                                              \n",
      "0.8701298701298701                                                                                                     \n",
      " 40%|███████████████████▏                            | 4/10 [00:07<00:10,  1.69s/trial, best loss: -0.8571428571428571]"
     ]
    },
    {
     "name": "stderr",
     "output_type": "stream",
     "text": [
      "C:\\Users\\velmurug\\Documents\\full_stability\\transformers\\IndexBasedTransformer.py:58: PerformanceWarning: DataFrame is highly fragmented.  This is usually the result of calling `frame.insert` many times, which has poor performance.  Consider joining all columns at once using pd.concat(axis=1) instead.  To get a de-fragmented frame, use `newframe = frame.copy()`\n",
      "  dt_transformed[col] = 0\n",
      "\n"
     ]
    },
    {
     "name": "stdout",
     "output_type": "stream",
     "text": [
      "Accuracy:                                                                                                              \n",
      "0.7675070028011205                                                                                                     \n",
      "{'var_smoothing': 2.848035868435805e-09}                                                                               \n",
      " 50%|████████████████████████                        | 5/10 [00:08<00:08,  1.68s/trial, best loss: -0.8571428571428571]"
     ]
    },
    {
     "name": "stderr",
     "output_type": "stream",
     "text": [
      "C:\\Users\\velmurug\\Documents\\full_stability\\transformers\\IndexBasedTransformer.py:58: PerformanceWarning: DataFrame is highly fragmented.  This is usually the result of calling `frame.insert` many times, which has poor performance.  Consider joining all columns at once using pd.concat(axis=1) instead.  To get a de-fragmented frame, use `newframe = frame.copy()`\n",
      "  dt_transformed[col] = 0\n",
      "\n"
     ]
    },
    {
     "name": "stdout",
     "output_type": "stream",
     "text": [
      "Accuracy:                                                                                                              \n",
      "0.8333333333333333                                                                                                     \n",
      " 50%|████████████████████████                        | 5/10 [00:09<00:08,  1.68s/trial, best loss: -0.8571428571428571]"
     ]
    },
    {
     "name": "stderr",
     "output_type": "stream",
     "text": [
      "C:\\Users\\velmurug\\Documents\\full_stability\\transformers\\IndexBasedTransformer.py:58: PerformanceWarning: DataFrame is highly fragmented.  This is usually the result of calling `frame.insert` many times, which has poor performance.  Consider joining all columns at once using pd.concat(axis=1) instead.  To get a de-fragmented frame, use `newframe = frame.copy()`\n",
      "  dt_transformed[col] = 0\n",
      "\n"
     ]
    },
    {
     "name": "stdout",
     "output_type": "stream",
     "text": [
      "Accuracy:                                                                                                              \n",
      "0.8690476190476191                                                                                                     \n",
      " 50%|████████████████████████                        | 5/10 [00:09<00:08,  1.68s/trial, best loss: -0.8571428571428571]"
     ]
    },
    {
     "name": "stderr",
     "output_type": "stream",
     "text": [
      "C:\\Users\\velmurug\\Documents\\full_stability\\transformers\\IndexBasedTransformer.py:58: PerformanceWarning: DataFrame is highly fragmented.  This is usually the result of calling `frame.insert` many times, which has poor performance.  Consider joining all columns at once using pd.concat(axis=1) instead.  To get a de-fragmented frame, use `newframe = frame.copy()`\n",
      "  dt_transformed[col] = 0\n",
      "\n"
     ]
    },
    {
     "name": "stdout",
     "output_type": "stream",
     "text": [
      "Accuracy:                                                                                                              \n",
      "0.8214285714285714                                                                                                     \n",
      "{'var_smoothing': 4.3287612810830526e-08}                                                                              \n",
      " 60%|████████████████████████████▊                   | 6/10 [00:10<00:06,  1.69s/trial, best loss: -0.8571428571428571]"
     ]
    },
    {
     "name": "stderr",
     "output_type": "stream",
     "text": [
      "C:\\Users\\velmurug\\Documents\\full_stability\\transformers\\IndexBasedTransformer.py:58: PerformanceWarning: DataFrame is highly fragmented.  This is usually the result of calling `frame.insert` many times, which has poor performance.  Consider joining all columns at once using pd.concat(axis=1) instead.  To get a de-fragmented frame, use `newframe = frame.copy()`\n",
      "  dt_transformed[col] = 0\n",
      "\n"
     ]
    },
    {
     "name": "stdout",
     "output_type": "stream",
     "text": [
      "Accuracy:                                                                                                              \n",
      "0.8333333333333333                                                                                                     \n",
      " 60%|████████████████████████████▊                   | 6/10 [00:10<00:06,  1.69s/trial, best loss: -0.8571428571428571]"
     ]
    },
    {
     "name": "stderr",
     "output_type": "stream",
     "text": [
      "C:\\Users\\velmurug\\Documents\\full_stability\\transformers\\IndexBasedTransformer.py:58: PerformanceWarning: DataFrame is highly fragmented.  This is usually the result of calling `frame.insert` many times, which has poor performance.  Consider joining all columns at once using pd.concat(axis=1) instead.  To get a de-fragmented frame, use `newframe = frame.copy()`\n",
      "  dt_transformed[col] = 0\n",
      "\n"
     ]
    },
    {
     "name": "stdout",
     "output_type": "stream",
     "text": [
      "Accuracy:                                                                                                              \n",
      "0.8690476190476191                                                                                                     \n",
      " 60%|████████████████████████████▊                   | 6/10 [00:11<00:06,  1.69s/trial, best loss: -0.8571428571428571]"
     ]
    },
    {
     "name": "stderr",
     "output_type": "stream",
     "text": [
      "C:\\Users\\velmurug\\Documents\\full_stability\\transformers\\IndexBasedTransformer.py:58: PerformanceWarning: DataFrame is highly fragmented.  This is usually the result of calling `frame.insert` many times, which has poor performance.  Consider joining all columns at once using pd.concat(axis=1) instead.  To get a de-fragmented frame, use `newframe = frame.copy()`\n",
      "  dt_transformed[col] = 0\n",
      "\n"
     ]
    },
    {
     "name": "stdout",
     "output_type": "stream",
     "text": [
      "Accuracy:                                                                                                              \n",
      "0.8214285714285714                                                                                                     \n",
      "{'var_smoothing': 1.519911082952933e-09}                                                                               \n",
      " 70%|█████████████████████████████████▌              | 7/10 [00:11<00:04,  1.64s/trial, best loss: -0.8571428571428571]"
     ]
    },
    {
     "name": "stderr",
     "output_type": "stream",
     "text": [
      "C:\\Users\\velmurug\\Documents\\full_stability\\transformers\\IndexBasedTransformer.py:58: PerformanceWarning: DataFrame is highly fragmented.  This is usually the result of calling `frame.insert` many times, which has poor performance.  Consider joining all columns at once using pd.concat(axis=1) instead.  To get a de-fragmented frame, use `newframe = frame.copy()`\n",
      "  dt_transformed[col] = 0\n",
      "\n"
     ]
    },
    {
     "name": "stdout",
     "output_type": "stream",
     "text": [
      "Accuracy:                                                                                                              \n",
      "0.8333333333333333                                                                                                     \n",
      " 70%|█████████████████████████████████▌              | 7/10 [00:12<00:04,  1.64s/trial, best loss: -0.8571428571428571]"
     ]
    },
    {
     "name": "stderr",
     "output_type": "stream",
     "text": [
      "C:\\Users\\velmurug\\Documents\\full_stability\\transformers\\IndexBasedTransformer.py:58: PerformanceWarning: DataFrame is highly fragmented.  This is usually the result of calling `frame.insert` many times, which has poor performance.  Consider joining all columns at once using pd.concat(axis=1) instead.  To get a de-fragmented frame, use `newframe = frame.copy()`\n",
      "  dt_transformed[col] = 0\n",
      "\n"
     ]
    },
    {
     "name": "stdout",
     "output_type": "stream",
     "text": [
      "Accuracy:                                                                                                              \n",
      "0.8690476190476191                                                                                                     \n",
      " 70%|█████████████████████████████████▌              | 7/10 [00:12<00:04,  1.64s/trial, best loss: -0.8571428571428571]"
     ]
    },
    {
     "name": "stderr",
     "output_type": "stream",
     "text": [
      "C:\\Users\\velmurug\\Documents\\full_stability\\transformers\\IndexBasedTransformer.py:58: PerformanceWarning: DataFrame is highly fragmented.  This is usually the result of calling `frame.insert` many times, which has poor performance.  Consider joining all columns at once using pd.concat(axis=1) instead.  To get a de-fragmented frame, use `newframe = frame.copy()`\n",
      "  dt_transformed[col] = 0\n",
      "\n"
     ]
    },
    {
     "name": "stdout",
     "output_type": "stream",
     "text": [
      "Accuracy:                                                                                                              \n",
      "0.8214285714285714                                                                                                     \n",
      "{'var_smoothing': 0.0006579332246575676}                                                                               \n",
      " 80%|██████████████████████████████████████▍         | 8/10 [00:13<00:03,  1.63s/trial, best loss: -0.8571428571428571]"
     ]
    },
    {
     "name": "stderr",
     "output_type": "stream",
     "text": [
      "C:\\Users\\velmurug\\Documents\\full_stability\\transformers\\IndexBasedTransformer.py:58: PerformanceWarning: DataFrame is highly fragmented.  This is usually the result of calling `frame.insert` many times, which has poor performance.  Consider joining all columns at once using pd.concat(axis=1) instead.  To get a de-fragmented frame, use `newframe = frame.copy()`\n",
      "  dt_transformed[col] = 0\n",
      "\n"
     ]
    },
    {
     "name": "stdout",
     "output_type": "stream",
     "text": [
      "Accuracy:                                                                                                              \n",
      "0.8928571428571428                                                                                                     \n",
      " 80%|██████████████████████████████████████▍         | 8/10 [00:13<00:03,  1.63s/trial, best loss: -0.8571428571428571]"
     ]
    },
    {
     "name": "stderr",
     "output_type": "stream",
     "text": [
      "C:\\Users\\velmurug\\Documents\\full_stability\\transformers\\IndexBasedTransformer.py:58: PerformanceWarning: DataFrame is highly fragmented.  This is usually the result of calling `frame.insert` many times, which has poor performance.  Consider joining all columns at once using pd.concat(axis=1) instead.  To get a de-fragmented frame, use `newframe = frame.copy()`\n",
      "  dt_transformed[col] = 0\n",
      "\n"
     ]
    },
    {
     "name": "stdout",
     "output_type": "stream",
     "text": [
      "Accuracy:                                                                                                              \n",
      "0.9047619047619048                                                                                                     \n",
      " 80%|██████████████████████████████████████▍         | 8/10 [00:14<00:03,  1.63s/trial, best loss: -0.8571428571428571]"
     ]
    },
    {
     "name": "stderr",
     "output_type": "stream",
     "text": [
      "C:\\Users\\velmurug\\Documents\\full_stability\\transformers\\IndexBasedTransformer.py:58: PerformanceWarning: DataFrame is highly fragmented.  This is usually the result of calling `frame.insert` many times, which has poor performance.  Consider joining all columns at once using pd.concat(axis=1) instead.  To get a de-fragmented frame, use `newframe = frame.copy()`\n",
      "  dt_transformed[col] = 0\n",
      "\n"
     ]
    },
    {
     "name": "stdout",
     "output_type": "stream",
     "text": [
      "Accuracy:                                                                                                              \n",
      "0.9019607843137255                                                                                                     \n",
      "{'var_smoothing': 1.873817422860383e-06}                                                                               \n",
      " 90%|████████████████████████████████████████████     | 9/10 [00:14<00:01,  1.65s/trial, best loss: -0.899859943977591]"
     ]
    },
    {
     "name": "stderr",
     "output_type": "stream",
     "text": [
      "C:\\Users\\velmurug\\Documents\\full_stability\\transformers\\IndexBasedTransformer.py:58: PerformanceWarning: DataFrame is highly fragmented.  This is usually the result of calling `frame.insert` many times, which has poor performance.  Consider joining all columns at once using pd.concat(axis=1) instead.  To get a de-fragmented frame, use `newframe = frame.copy()`\n",
      "  dt_transformed[col] = 0\n",
      "\n"
     ]
    },
    {
     "name": "stdout",
     "output_type": "stream",
     "text": [
      "Accuracy:                                                                                                              \n",
      "0.8333333333333333                                                                                                     \n",
      " 90%|████████████████████████████████████████████     | 9/10 [00:15<00:01,  1.65s/trial, best loss: -0.899859943977591]"
     ]
    },
    {
     "name": "stderr",
     "output_type": "stream",
     "text": [
      "C:\\Users\\velmurug\\Documents\\full_stability\\transformers\\IndexBasedTransformer.py:58: PerformanceWarning: DataFrame is highly fragmented.  This is usually the result of calling `frame.insert` many times, which has poor performance.  Consider joining all columns at once using pd.concat(axis=1) instead.  To get a de-fragmented frame, use `newframe = frame.copy()`\n",
      "  dt_transformed[col] = 0\n",
      "\n"
     ]
    },
    {
     "name": "stdout",
     "output_type": "stream",
     "text": [
      "Accuracy:                                                                                                              \n",
      "0.8690476190476191                                                                                                     \n",
      " 90%|████████████████████████████████████████████     | 9/10 [00:15<00:01,  1.65s/trial, best loss: -0.899859943977591]"
     ]
    },
    {
     "name": "stderr",
     "output_type": "stream",
     "text": [
      "C:\\Users\\velmurug\\Documents\\full_stability\\transformers\\IndexBasedTransformer.py:58: PerformanceWarning: DataFrame is highly fragmented.  This is usually the result of calling `frame.insert` many times, which has poor performance.  Consider joining all columns at once using pd.concat(axis=1) instead.  To get a de-fragmented frame, use `newframe = frame.copy()`\n",
      "  dt_transformed[col] = 0\n",
      "\n"
     ]
    },
    {
     "name": "stdout",
     "output_type": "stream",
     "text": [
      "Accuracy:                                                                                                              \n",
      "0.8333333333333333                                                                                                     \n",
      "100%|████████████████████████████████████████████████| 10/10 [00:16<00:00,  1.65s/trial, best loss: -0.899859943977591]\n",
      "Optimising 15 of 20 buckets\n",
      "{'var_smoothing': 2.310129700083158e-07}                                                                               \n",
      "  0%|                                                                           | 0/10 [00:00<?, ?trial/s, best loss=?]"
     ]
    },
    {
     "name": "stderr",
     "output_type": "stream",
     "text": [
      "C:\\Users\\velmurug\\Documents\\full_stability\\transformers\\IndexBasedTransformer.py:58: PerformanceWarning: DataFrame is highly fragmented.  This is usually the result of calling `frame.insert` many times, which has poor performance.  Consider joining all columns at once using pd.concat(axis=1) instead.  To get a de-fragmented frame, use `newframe = frame.copy()`\n",
      "  dt_transformed[col] = 0\n",
      "\n"
     ]
    },
    {
     "name": "stdout",
     "output_type": "stream",
     "text": [
      "Accuracy:                                                                                                              \n",
      "0.8783783783783784                                                                                                     \n",
      "  0%|                                                                           | 0/10 [00:00<?, ?trial/s, best loss=?]"
     ]
    },
    {
     "name": "stderr",
     "output_type": "stream",
     "text": [
      "C:\\Users\\velmurug\\Documents\\full_stability\\transformers\\IndexBasedTransformer.py:58: PerformanceWarning: DataFrame is highly fragmented.  This is usually the result of calling `frame.insert` many times, which has poor performance.  Consider joining all columns at once using pd.concat(axis=1) instead.  To get a de-fragmented frame, use `newframe = frame.copy()`\n",
      "  dt_transformed[col] = 0\n",
      "\n"
     ]
    },
    {
     "name": "stdout",
     "output_type": "stream",
     "text": [
      "Accuracy:                                                                                                              \n",
      "0.8783783783783784                                                                                                     \n",
      "  0%|                                                                           | 0/10 [00:01<?, ?trial/s, best loss=?]"
     ]
    },
    {
     "name": "stderr",
     "output_type": "stream",
     "text": [
      "C:\\Users\\velmurug\\Documents\\full_stability\\transformers\\IndexBasedTransformer.py:58: PerformanceWarning: DataFrame is highly fragmented.  This is usually the result of calling `frame.insert` many times, which has poor performance.  Consider joining all columns at once using pd.concat(axis=1) instead.  To get a de-fragmented frame, use `newframe = frame.copy()`\n",
      "  dt_transformed[col] = 0\n",
      "\n"
     ]
    },
    {
     "name": "stdout",
     "output_type": "stream",
     "text": [
      "Accuracy:                                                                                                              \n",
      "0.8947368421052632                                                                                                     \n",
      "{'var_smoothing': 0.002848035868435802}                                                                                \n",
      " 10%|████▊                                           | 1/10 [00:01<00:15,  1.68s/trial, best loss: -0.8838311996206732]"
     ]
    },
    {
     "name": "stderr",
     "output_type": "stream",
     "text": [
      "C:\\Users\\velmurug\\Documents\\full_stability\\transformers\\IndexBasedTransformer.py:58: PerformanceWarning: DataFrame is highly fragmented.  This is usually the result of calling `frame.insert` many times, which has poor performance.  Consider joining all columns at once using pd.concat(axis=1) instead.  To get a de-fragmented frame, use `newframe = frame.copy()`\n",
      "  dt_transformed[col] = 0\n",
      "\n"
     ]
    },
    {
     "name": "stdout",
     "output_type": "stream",
     "text": [
      "Accuracy:                                                                                                              \n",
      "0.9459459459459459                                                                                                     \n",
      " 10%|████▊                                           | 1/10 [00:02<00:15,  1.68s/trial, best loss: -0.8838311996206732]"
     ]
    },
    {
     "name": "stderr",
     "output_type": "stream",
     "text": [
      "C:\\Users\\velmurug\\Documents\\full_stability\\transformers\\IndexBasedTransformer.py:58: PerformanceWarning: DataFrame is highly fragmented.  This is usually the result of calling `frame.insert` many times, which has poor performance.  Consider joining all columns at once using pd.concat(axis=1) instead.  To get a de-fragmented frame, use `newframe = frame.copy()`\n",
      "  dt_transformed[col] = 0\n",
      "\n"
     ]
    },
    {
     "name": "stdout",
     "output_type": "stream",
     "text": [
      "Accuracy:                                                                                                              \n",
      "0.9054054054054055                                                                                                     \n",
      " 10%|████▊                                           | 1/10 [00:02<00:15,  1.68s/trial, best loss: -0.8838311996206732]"
     ]
    },
    {
     "name": "stderr",
     "output_type": "stream",
     "text": [
      "C:\\Users\\velmurug\\Documents\\full_stability\\transformers\\IndexBasedTransformer.py:58: PerformanceWarning: DataFrame is highly fragmented.  This is usually the result of calling `frame.insert` many times, which has poor performance.  Consider joining all columns at once using pd.concat(axis=1) instead.  To get a de-fragmented frame, use `newframe = frame.copy()`\n",
      "  dt_transformed[col] = 0\n",
      "\n"
     ]
    },
    {
     "name": "stdout",
     "output_type": "stream",
     "text": [
      "Accuracy:                                                                                                              \n",
      "0.9320175438596491                                                                                                     \n",
      "{'var_smoothing': 0.03511191734215131}                                                                                 \n",
      " 20%|█████████▌                                      | 2/10 [00:03<00:13,  1.72s/trial, best loss: -0.9277896317370001]"
     ]
    },
    {
     "name": "stderr",
     "output_type": "stream",
     "text": [
      "C:\\Users\\velmurug\\Documents\\full_stability\\transformers\\IndexBasedTransformer.py:58: PerformanceWarning: DataFrame is highly fragmented.  This is usually the result of calling `frame.insert` many times, which has poor performance.  Consider joining all columns at once using pd.concat(axis=1) instead.  To get a de-fragmented frame, use `newframe = frame.copy()`\n",
      "  dt_transformed[col] = 0\n",
      "\n"
     ]
    },
    {
     "name": "stdout",
     "output_type": "stream",
     "text": [
      "Accuracy:                                                                                                              \n",
      "0.9594594594594594                                                                                                     \n",
      " 20%|█████████▌                                      | 2/10 [00:04<00:13,  1.72s/trial, best loss: -0.9277896317370001]"
     ]
    },
    {
     "name": "stderr",
     "output_type": "stream",
     "text": [
      "C:\\Users\\velmurug\\Documents\\full_stability\\transformers\\IndexBasedTransformer.py:58: PerformanceWarning: DataFrame is highly fragmented.  This is usually the result of calling `frame.insert` many times, which has poor performance.  Consider joining all columns at once using pd.concat(axis=1) instead.  To get a de-fragmented frame, use `newframe = frame.copy()`\n",
      "  dt_transformed[col] = 0\n",
      "\n"
     ]
    },
    {
     "name": "stdout",
     "output_type": "stream",
     "text": [
      "Accuracy:                                                                                                              \n",
      "0.9324324324324325                                                                                                     \n",
      " 20%|█████████▌                                      | 2/10 [00:04<00:13,  1.72s/trial, best loss: -0.9277896317370001]"
     ]
    },
    {
     "name": "stderr",
     "output_type": "stream",
     "text": [
      "C:\\Users\\velmurug\\Documents\\full_stability\\transformers\\IndexBasedTransformer.py:58: PerformanceWarning: DataFrame is highly fragmented.  This is usually the result of calling `frame.insert` many times, which has poor performance.  Consider joining all columns at once using pd.concat(axis=1) instead.  To get a de-fragmented frame, use `newframe = frame.copy()`\n",
      "  dt_transformed[col] = 0\n",
      "\n"
     ]
    },
    {
     "name": "stdout",
     "output_type": "stream",
     "text": [
      "Accuracy:                                                                                                              \n",
      "0.875                                                                                                                  \n",
      "{'var_smoothing': 0.0006579332246575676}                                                                               \n",
      " 30%|██████████████▍                                 | 3/10 [00:05<00:11,  1.71s/trial, best loss: -0.9277896317370001]"
     ]
    },
    {
     "name": "stderr",
     "output_type": "stream",
     "text": [
      "C:\\Users\\velmurug\\Documents\\full_stability\\transformers\\IndexBasedTransformer.py:58: PerformanceWarning: DataFrame is highly fragmented.  This is usually the result of calling `frame.insert` many times, which has poor performance.  Consider joining all columns at once using pd.concat(axis=1) instead.  To get a de-fragmented frame, use `newframe = frame.copy()`\n",
      "  dt_transformed[col] = 0\n",
      "\n"
     ]
    },
    {
     "name": "stdout",
     "output_type": "stream",
     "text": [
      "Accuracy:                                                                                                              \n",
      "0.9054054054054055                                                                                                     \n",
      " 30%|██████████████▍                                 | 3/10 [00:05<00:11,  1.71s/trial, best loss: -0.9277896317370001]"
     ]
    },
    {
     "name": "stderr",
     "output_type": "stream",
     "text": [
      "C:\\Users\\velmurug\\Documents\\full_stability\\transformers\\IndexBasedTransformer.py:58: PerformanceWarning: DataFrame is highly fragmented.  This is usually the result of calling `frame.insert` many times, which has poor performance.  Consider joining all columns at once using pd.concat(axis=1) instead.  To get a de-fragmented frame, use `newframe = frame.copy()`\n",
      "  dt_transformed[col] = 0\n",
      "\n"
     ]
    },
    {
     "name": "stdout",
     "output_type": "stream",
     "text": [
      "Accuracy:                                                                                                              \n",
      "0.8918918918918919                                                                                                     \n",
      " 30%|██████████████▍                                 | 3/10 [00:06<00:11,  1.71s/trial, best loss: -0.9277896317370001]"
     ]
    },
    {
     "name": "stderr",
     "output_type": "stream",
     "text": [
      "C:\\Users\\velmurug\\Documents\\full_stability\\transformers\\IndexBasedTransformer.py:58: PerformanceWarning: DataFrame is highly fragmented.  This is usually the result of calling `frame.insert` many times, which has poor performance.  Consider joining all columns at once using pd.concat(axis=1) instead.  To get a de-fragmented frame, use `newframe = frame.copy()`\n",
      "  dt_transformed[col] = 0\n",
      "\n"
     ]
    },
    {
     "name": "stdout",
     "output_type": "stream",
     "text": [
      "Accuracy:                                                                                                              \n",
      "0.9320175438596491                                                                                                     \n",
      "{'var_smoothing': 0.2848035868435802}                                                                                  \n",
      " 40%|███████████████████▏                            | 4/10 [00:06<00:10,  1.72s/trial, best loss: -0.9277896317370001]"
     ]
    },
    {
     "name": "stderr",
     "output_type": "stream",
     "text": [
      "C:\\Users\\velmurug\\Documents\\full_stability\\transformers\\IndexBasedTransformer.py:58: PerformanceWarning: DataFrame is highly fragmented.  This is usually the result of calling `frame.insert` many times, which has poor performance.  Consider joining all columns at once using pd.concat(axis=1) instead.  To get a de-fragmented frame, use `newframe = frame.copy()`\n",
      "  dt_transformed[col] = 0\n",
      "\n"
     ]
    },
    {
     "name": "stdout",
     "output_type": "stream",
     "text": [
      "Accuracy:                                                                                                              \n",
      "0.9199999999999999                                                                                                     \n",
      " 40%|███████████████████▏                            | 4/10 [00:07<00:10,  1.72s/trial, best loss: -0.9277896317370001]"
     ]
    },
    {
     "name": "stderr",
     "output_type": "stream",
     "text": [
      "C:\\Users\\velmurug\\Documents\\full_stability\\transformers\\IndexBasedTransformer.py:58: PerformanceWarning: DataFrame is highly fragmented.  This is usually the result of calling `frame.insert` many times, which has poor performance.  Consider joining all columns at once using pd.concat(axis=1) instead.  To get a de-fragmented frame, use `newframe = frame.copy()`\n",
      "  dt_transformed[col] = 0\n",
      "\n"
     ]
    },
    {
     "name": "stdout",
     "output_type": "stream",
     "text": [
      "Accuracy:                                                                                                              \n",
      "0.9259459459459459                                                                                                     \n",
      " 40%|███████████████████▏                            | 4/10 [00:08<00:10,  1.72s/trial, best loss: -0.9277896317370001]"
     ]
    },
    {
     "name": "stderr",
     "output_type": "stream",
     "text": [
      "C:\\Users\\velmurug\\Documents\\full_stability\\transformers\\IndexBasedTransformer.py:58: PerformanceWarning: DataFrame is highly fragmented.  This is usually the result of calling `frame.insert` many times, which has poor performance.  Consider joining all columns at once using pd.concat(axis=1) instead.  To get a de-fragmented frame, use `newframe = frame.copy()`\n",
      "  dt_transformed[col] = 0\n",
      "\n"
     ]
    },
    {
     "name": "stdout",
     "output_type": "stream",
     "text": [
      "Accuracy:                                                                                                              \n",
      "0.8541666666666666                                                                                                     \n",
      "{'var_smoothing': 5.336699231206313e-06}                                                                               \n",
      " 50%|████████████████████████                        | 5/10 [00:08<00:08,  1.73s/trial, best loss: -0.9277896317370001]"
     ]
    },
    {
     "name": "stderr",
     "output_type": "stream",
     "text": [
      "C:\\Users\\velmurug\\Documents\\full_stability\\transformers\\IndexBasedTransformer.py:58: PerformanceWarning: DataFrame is highly fragmented.  This is usually the result of calling `frame.insert` many times, which has poor performance.  Consider joining all columns at once using pd.concat(axis=1) instead.  To get a de-fragmented frame, use `newframe = frame.copy()`\n",
      "  dt_transformed[col] = 0\n",
      "\n"
     ]
    },
    {
     "name": "stdout",
     "output_type": "stream",
     "text": [
      "Accuracy:                                                                                                              \n",
      "0.8783783783783784                                                                                                     \n",
      " 50%|████████████████████████                        | 5/10 [00:09<00:08,  1.73s/trial, best loss: -0.9277896317370001]"
     ]
    },
    {
     "name": "stderr",
     "output_type": "stream",
     "text": [
      "C:\\Users\\velmurug\\Documents\\full_stability\\transformers\\IndexBasedTransformer.py:58: PerformanceWarning: DataFrame is highly fragmented.  This is usually the result of calling `frame.insert` many times, which has poor performance.  Consider joining all columns at once using pd.concat(axis=1) instead.  To get a de-fragmented frame, use `newframe = frame.copy()`\n",
      "  dt_transformed[col] = 0\n",
      "\n"
     ]
    },
    {
     "name": "stdout",
     "output_type": "stream",
     "text": [
      "Accuracy:                                                                                                              \n",
      "0.8783783783783784                                                                                                     \n",
      " 50%|████████████████████████                        | 5/10 [00:09<00:08,  1.73s/trial, best loss: -0.9277896317370001]"
     ]
    },
    {
     "name": "stderr",
     "output_type": "stream",
     "text": [
      "C:\\Users\\velmurug\\Documents\\full_stability\\transformers\\IndexBasedTransformer.py:58: PerformanceWarning: DataFrame is highly fragmented.  This is usually the result of calling `frame.insert` many times, which has poor performance.  Consider joining all columns at once using pd.concat(axis=1) instead.  To get a de-fragmented frame, use `newframe = frame.copy()`\n",
      "  dt_transformed[col] = 0\n",
      "\n"
     ]
    },
    {
     "name": "stdout",
     "output_type": "stream",
     "text": [
      "Accuracy:                                                                                                              \n",
      "0.9473684210526316                                                                                                     \n",
      "{'var_smoothing': 0.12328467394420659}                                                                                 \n",
      " 60%|████████████████████████████▊                   | 6/10 [00:10<00:06,  1.75s/trial, best loss: -0.9277896317370001]"
     ]
    },
    {
     "name": "stderr",
     "output_type": "stream",
     "text": [
      "C:\\Users\\velmurug\\Documents\\full_stability\\transformers\\IndexBasedTransformer.py:58: PerformanceWarning: DataFrame is highly fragmented.  This is usually the result of calling `frame.insert` many times, which has poor performance.  Consider joining all columns at once using pd.concat(axis=1) instead.  To get a de-fragmented frame, use `newframe = frame.copy()`\n",
      "  dt_transformed[col] = 0\n",
      "\n"
     ]
    },
    {
     "name": "stdout",
     "output_type": "stream",
     "text": [
      "Accuracy:                                                                                                              \n",
      "0.9464864864864866                                                                                                     \n",
      " 60%|████████████████████████████▊                   | 6/10 [00:11<00:06,  1.75s/trial, best loss: -0.9277896317370001]"
     ]
    },
    {
     "name": "stderr",
     "output_type": "stream",
     "text": [
      "C:\\Users\\velmurug\\Documents\\full_stability\\transformers\\IndexBasedTransformer.py:58: PerformanceWarning: DataFrame is highly fragmented.  This is usually the result of calling `frame.insert` many times, which has poor performance.  Consider joining all columns at once using pd.concat(axis=1) instead.  To get a de-fragmented frame, use `newframe = frame.copy()`\n",
      "  dt_transformed[col] = 0\n",
      "\n"
     ]
    },
    {
     "name": "stdout",
     "output_type": "stream",
     "text": [
      "Accuracy:                                                                                                              \n",
      "0.9459459459459459                                                                                                     \n",
      " 60%|████████████████████████████▊                   | 6/10 [00:11<00:06,  1.75s/trial, best loss: -0.9277896317370001]"
     ]
    },
    {
     "name": "stderr",
     "output_type": "stream",
     "text": [
      "C:\\Users\\velmurug\\Documents\\full_stability\\transformers\\IndexBasedTransformer.py:58: PerformanceWarning: DataFrame is highly fragmented.  This is usually the result of calling `frame.insert` many times, which has poor performance.  Consider joining all columns at once using pd.concat(axis=1) instead.  To get a de-fragmented frame, use `newframe = frame.copy()`\n",
      "  dt_transformed[col] = 0\n",
      "\n"
     ]
    },
    {
     "name": "stdout",
     "output_type": "stream",
     "text": [
      "Accuracy:                                                                                                              \n",
      "0.875                                                                                                                  \n",
      "{'var_smoothing': 3.5111917342151275e-06}                                                                              \n",
      " 70%|█████████████████████████████████▌              | 7/10 [00:12<00:05,  1.76s/trial, best loss: -0.9277896317370001]"
     ]
    },
    {
     "name": "stderr",
     "output_type": "stream",
     "text": [
      "C:\\Users\\velmurug\\Documents\\full_stability\\transformers\\IndexBasedTransformer.py:58: PerformanceWarning: DataFrame is highly fragmented.  This is usually the result of calling `frame.insert` many times, which has poor performance.  Consider joining all columns at once using pd.concat(axis=1) instead.  To get a de-fragmented frame, use `newframe = frame.copy()`\n",
      "  dt_transformed[col] = 0\n",
      "\n"
     ]
    },
    {
     "name": "stdout",
     "output_type": "stream",
     "text": [
      "Accuracy:                                                                                                              \n",
      "0.8783783783783784                                                                                                     \n",
      " 70%|█████████████████████████████████▌              | 7/10 [00:12<00:05,  1.76s/trial, best loss: -0.9277896317370001]"
     ]
    },
    {
     "name": "stderr",
     "output_type": "stream",
     "text": [
      "C:\\Users\\velmurug\\Documents\\full_stability\\transformers\\IndexBasedTransformer.py:58: PerformanceWarning: DataFrame is highly fragmented.  This is usually the result of calling `frame.insert` many times, which has poor performance.  Consider joining all columns at once using pd.concat(axis=1) instead.  To get a de-fragmented frame, use `newframe = frame.copy()`\n",
      "  dt_transformed[col] = 0\n",
      "\n"
     ]
    },
    {
     "name": "stdout",
     "output_type": "stream",
     "text": [
      "Accuracy:                                                                                                              \n",
      "0.8783783783783784                                                                                                     \n",
      " 70%|█████████████████████████████████▌              | 7/10 [00:13<00:05,  1.76s/trial, best loss: -0.9277896317370001]"
     ]
    },
    {
     "name": "stderr",
     "output_type": "stream",
     "text": [
      "C:\\Users\\velmurug\\Documents\\full_stability\\transformers\\IndexBasedTransformer.py:58: PerformanceWarning: DataFrame is highly fragmented.  This is usually the result of calling `frame.insert` many times, which has poor performance.  Consider joining all columns at once using pd.concat(axis=1) instead.  To get a de-fragmented frame, use `newframe = frame.copy()`\n",
      "  dt_transformed[col] = 0\n",
      "\n"
     ]
    },
    {
     "name": "stdout",
     "output_type": "stream",
     "text": [
      "Accuracy:                                                                                                              \n",
      "0.9473684210526316                                                                                                     \n",
      "{'var_smoothing': 1.2328467394420635e-09}                                                                              \n",
      " 80%|██████████████████████████████████████▍         | 8/10 [00:13<00:03,  1.75s/trial, best loss: -0.9277896317370001]"
     ]
    },
    {
     "name": "stderr",
     "output_type": "stream",
     "text": [
      "C:\\Users\\velmurug\\Documents\\full_stability\\transformers\\IndexBasedTransformer.py:58: PerformanceWarning: DataFrame is highly fragmented.  This is usually the result of calling `frame.insert` many times, which has poor performance.  Consider joining all columns at once using pd.concat(axis=1) instead.  To get a de-fragmented frame, use `newframe = frame.copy()`\n",
      "  dt_transformed[col] = 0\n",
      "\n"
     ]
    },
    {
     "name": "stdout",
     "output_type": "stream",
     "text": [
      "Accuracy:                                                                                                              \n",
      "0.8783783783783784                                                                                                     \n",
      " 80%|██████████████████████████████████████▍         | 8/10 [00:14<00:03,  1.75s/trial, best loss: -0.9277896317370001]"
     ]
    },
    {
     "name": "stderr",
     "output_type": "stream",
     "text": [
      "C:\\Users\\velmurug\\Documents\\full_stability\\transformers\\IndexBasedTransformer.py:58: PerformanceWarning: DataFrame is highly fragmented.  This is usually the result of calling `frame.insert` many times, which has poor performance.  Consider joining all columns at once using pd.concat(axis=1) instead.  To get a de-fragmented frame, use `newframe = frame.copy()`\n",
      "  dt_transformed[col] = 0\n",
      "\n"
     ]
    },
    {
     "name": "stdout",
     "output_type": "stream",
     "text": [
      "Accuracy:                                                                                                              \n",
      "0.8783783783783784                                                                                                     \n",
      " 80%|██████████████████████████████████████▍         | 8/10 [00:15<00:03,  1.75s/trial, best loss: -0.9277896317370001]"
     ]
    },
    {
     "name": "stderr",
     "output_type": "stream",
     "text": [
      "C:\\Users\\velmurug\\Documents\\full_stability\\transformers\\IndexBasedTransformer.py:58: PerformanceWarning: DataFrame is highly fragmented.  This is usually the result of calling `frame.insert` many times, which has poor performance.  Consider joining all columns at once using pd.concat(axis=1) instead.  To get a de-fragmented frame, use `newframe = frame.copy()`\n",
      "  dt_transformed[col] = 0\n",
      "\n"
     ]
    },
    {
     "name": "stdout",
     "output_type": "stream",
     "text": [
      "Accuracy:                                                                                                              \n",
      "0.8947368421052632                                                                                                     \n",
      "{'var_smoothing': 2.848035868435799e-05}                                                                               \n",
      " 90%|███████████████████████████████████████████▏    | 9/10 [00:15<00:01,  1.76s/trial, best loss: -0.9277896317370001]"
     ]
    },
    {
     "name": "stderr",
     "output_type": "stream",
     "text": [
      "C:\\Users\\velmurug\\Documents\\full_stability\\transformers\\IndexBasedTransformer.py:58: PerformanceWarning: DataFrame is highly fragmented.  This is usually the result of calling `frame.insert` many times, which has poor performance.  Consider joining all columns at once using pd.concat(axis=1) instead.  To get a de-fragmented frame, use `newframe = frame.copy()`\n",
      "  dt_transformed[col] = 0\n",
      "\n"
     ]
    },
    {
     "name": "stdout",
     "output_type": "stream",
     "text": [
      "Accuracy:                                                                                                              \n",
      "0.8918918918918919                                                                                                     \n",
      " 90%|███████████████████████████████████████████▏    | 9/10 [00:16<00:01,  1.76s/trial, best loss: -0.9277896317370001]"
     ]
    },
    {
     "name": "stderr",
     "output_type": "stream",
     "text": [
      "C:\\Users\\velmurug\\Documents\\full_stability\\transformers\\IndexBasedTransformer.py:58: PerformanceWarning: DataFrame is highly fragmented.  This is usually the result of calling `frame.insert` many times, which has poor performance.  Consider joining all columns at once using pd.concat(axis=1) instead.  To get a de-fragmented frame, use `newframe = frame.copy()`\n",
      "  dt_transformed[col] = 0\n",
      "\n"
     ]
    },
    {
     "name": "stdout",
     "output_type": "stream",
     "text": [
      "Accuracy:                                                                                                              \n",
      "0.8783783783783784                                                                                                     \n",
      " 90%|███████████████████████████████████████████▏    | 9/10 [00:16<00:01,  1.76s/trial, best loss: -0.9277896317370001]"
     ]
    },
    {
     "name": "stderr",
     "output_type": "stream",
     "text": [
      "C:\\Users\\velmurug\\Documents\\full_stability\\transformers\\IndexBasedTransformer.py:58: PerformanceWarning: DataFrame is highly fragmented.  This is usually the result of calling `frame.insert` many times, which has poor performance.  Consider joining all columns at once using pd.concat(axis=1) instead.  To get a de-fragmented frame, use `newframe = frame.copy()`\n",
      "  dt_transformed[col] = 0\n",
      "\n"
     ]
    },
    {
     "name": "stdout",
     "output_type": "stream",
     "text": [
      "Accuracy:                                                                                                              \n",
      "0.9473684210526316                                                                                                     \n",
      "100%|███████████████████████████████████████████████| 10/10 [00:17<00:00,  1.75s/trial, best loss: -0.9277896317370001]\n",
      "Optimising 16 of 20 buckets\n",
      "{'var_smoothing': 0.08111308307896872}                                                                                 \n",
      "  0%|                                                                           | 0/10 [00:00<?, ?trial/s, best loss=?]"
     ]
    },
    {
     "name": "stderr",
     "output_type": "stream",
     "text": [
      "C:\\Users\\velmurug\\Documents\\full_stability\\transformers\\IndexBasedTransformer.py:58: PerformanceWarning: DataFrame is highly fragmented.  This is usually the result of calling `frame.insert` many times, which has poor performance.  Consider joining all columns at once using pd.concat(axis=1) instead.  To get a de-fragmented frame, use `newframe = frame.copy()`\n",
      "  dt_transformed[col] = 0\n",
      "\n"
     ]
    },
    {
     "name": "stdout",
     "output_type": "stream",
     "text": [
      "Accuracy:                                                                                                              \n",
      "0.9318181818181819                                                                                                     \n",
      "  0%|                                                                           | 0/10 [00:00<?, ?trial/s, best loss=?]"
     ]
    },
    {
     "name": "stderr",
     "output_type": "stream",
     "text": [
      "C:\\Users\\velmurug\\Documents\\full_stability\\transformers\\IndexBasedTransformer.py:58: PerformanceWarning: DataFrame is highly fragmented.  This is usually the result of calling `frame.insert` many times, which has poor performance.  Consider joining all columns at once using pd.concat(axis=1) instead.  To get a de-fragmented frame, use `newframe = frame.copy()`\n",
      "  dt_transformed[col] = 0\n",
      "\n"
     ]
    },
    {
     "name": "stdout",
     "output_type": "stream",
     "text": [
      "Accuracy:                                                                                                              \n",
      "0.9545454545454545                                                                                                     \n",
      "  0%|                                                                           | 0/10 [00:01<?, ?trial/s, best loss=?]"
     ]
    },
    {
     "name": "stderr",
     "output_type": "stream",
     "text": [
      "C:\\Users\\velmurug\\Documents\\full_stability\\transformers\\IndexBasedTransformer.py:58: PerformanceWarning: DataFrame is highly fragmented.  This is usually the result of calling `frame.insert` many times, which has poor performance.  Consider joining all columns at once using pd.concat(axis=1) instead.  To get a de-fragmented frame, use `newframe = frame.copy()`\n",
      "  dt_transformed[col] = 0\n",
      "\n"
     ]
    },
    {
     "name": "stdout",
     "output_type": "stream",
     "text": [
      "Accuracy:                                                                                                              \n",
      "0.9666666666666667                                                                                                     \n",
      "{'var_smoothing': 2.310129700083158e-09}                                                                               \n",
      " 10%|████▉                                            | 1/10 [00:02<00:17,  2.00s/trial, best loss: -0.951010101010101]"
     ]
    },
    {
     "name": "stderr",
     "output_type": "stream",
     "text": [
      "C:\\Users\\velmurug\\Documents\\full_stability\\transformers\\IndexBasedTransformer.py:58: PerformanceWarning: DataFrame is highly fragmented.  This is usually the result of calling `frame.insert` many times, which has poor performance.  Consider joining all columns at once using pd.concat(axis=1) instead.  To get a de-fragmented frame, use `newframe = frame.copy()`\n",
      "  dt_transformed[col] = 0\n",
      "\n"
     ]
    },
    {
     "name": "stdout",
     "output_type": "stream",
     "text": [
      "Accuracy:                                                                                                              \n",
      "0.95                                                                                                                   \n",
      " 10%|████▉                                            | 1/10 [00:02<00:17,  2.00s/trial, best loss: -0.951010101010101]"
     ]
    },
    {
     "name": "stderr",
     "output_type": "stream",
     "text": [
      "C:\\Users\\velmurug\\Documents\\full_stability\\transformers\\IndexBasedTransformer.py:58: PerformanceWarning: DataFrame is highly fragmented.  This is usually the result of calling `frame.insert` many times, which has poor performance.  Consider joining all columns at once using pd.concat(axis=1) instead.  To get a de-fragmented frame, use `newframe = frame.copy()`\n",
      "  dt_transformed[col] = 0\n",
      "\n"
     ]
    },
    {
     "name": "stdout",
     "output_type": "stream",
     "text": [
      "Accuracy:                                                                                                              \n",
      "0.9333333333333333                                                                                                     \n",
      " 10%|████▉                                            | 1/10 [00:03<00:17,  2.00s/trial, best loss: -0.951010101010101]"
     ]
    },
    {
     "name": "stderr",
     "output_type": "stream",
     "text": [
      "C:\\Users\\velmurug\\Documents\\full_stability\\transformers\\IndexBasedTransformer.py:58: PerformanceWarning: DataFrame is highly fragmented.  This is usually the result of calling `frame.insert` many times, which has poor performance.  Consider joining all columns at once using pd.concat(axis=1) instead.  To get a de-fragmented frame, use `newframe = frame.copy()`\n",
      "  dt_transformed[col] = 0\n",
      "\n"
     ]
    },
    {
     "name": "stdout",
     "output_type": "stream",
     "text": [
      "Accuracy:                                                                                                              \n",
      "0.9166666666666667                                                                                                     \n",
      "{'var_smoothing': 0.0005336699231206307}                                                                               \n",
      " 20%|█████████▊                                       | 2/10 [00:03<00:15,  1.95s/trial, best loss: -0.951010101010101]"
     ]
    },
    {
     "name": "stderr",
     "output_type": "stream",
     "text": [
      "C:\\Users\\velmurug\\Documents\\full_stability\\transformers\\IndexBasedTransformer.py:58: PerformanceWarning: DataFrame is highly fragmented.  This is usually the result of calling `frame.insert` many times, which has poor performance.  Consider joining all columns at once using pd.concat(axis=1) instead.  To get a de-fragmented frame, use `newframe = frame.copy()`\n",
      "  dt_transformed[col] = 0\n",
      "\n"
     ]
    },
    {
     "name": "stdout",
     "output_type": "stream",
     "text": [
      "Accuracy:                                                                                                              \n",
      "0.9545454545454545                                                                                                     \n",
      " 20%|█████████▊                                       | 2/10 [00:04<00:15,  1.95s/trial, best loss: -0.951010101010101]"
     ]
    },
    {
     "name": "stderr",
     "output_type": "stream",
     "text": [
      "C:\\Users\\velmurug\\Documents\\full_stability\\transformers\\IndexBasedTransformer.py:58: PerformanceWarning: DataFrame is highly fragmented.  This is usually the result of calling `frame.insert` many times, which has poor performance.  Consider joining all columns at once using pd.concat(axis=1) instead.  To get a de-fragmented frame, use `newframe = frame.copy()`\n",
      "  dt_transformed[col] = 0\n",
      "\n"
     ]
    },
    {
     "name": "stdout",
     "output_type": "stream",
     "text": [
      "Accuracy:                                                                                                              \n",
      "0.9833333333333334                                                                                                     \n",
      " 20%|█████████▊                                       | 2/10 [00:05<00:15,  1.95s/trial, best loss: -0.951010101010101]"
     ]
    },
    {
     "name": "stderr",
     "output_type": "stream",
     "text": [
      "C:\\Users\\velmurug\\Documents\\full_stability\\transformers\\IndexBasedTransformer.py:58: PerformanceWarning: DataFrame is highly fragmented.  This is usually the result of calling `frame.insert` many times, which has poor performance.  Consider joining all columns at once using pd.concat(axis=1) instead.  To get a de-fragmented frame, use `newframe = frame.copy()`\n",
      "  dt_transformed[col] = 0\n",
      "\n"
     ]
    },
    {
     "name": "stdout",
     "output_type": "stream",
     "text": [
      "Accuracy:                                                                                                              \n",
      "0.9333333333333333                                                                                                     \n",
      " 20%|█████████▊                                       | 2/10 [00:05<00:15,  1.95s/trial, best loss: -0.951010101010101]"
     ]
    },
    {
     "name": "stderr",
     "output_type": "stream",
     "text": [
      "C:\\Users\\velmurug\\Documents\\full_stability\\transformers\\IndexBasedTransformer.py:58: PerformanceWarning: DataFrame is highly fragmented.  This is usually the result of calling `frame.insert` many times, which has poor performance.  Consider joining all columns at once using pd.concat(axis=1) instead.  To get a de-fragmented frame, use `newframe = frame.copy()`\n",
      "  dt_transformed[col] = 0\n",
      "\n"
     ]
    },
    {
     "name": "stdout",
     "output_type": "stream",
     "text": [
      "{'var_smoothing': 0.0002848035868435802}                                                                               \n",
      "Accuracy:                                                                                                              \n",
      "0.9545454545454545                                                                                                     \n",
      " 30%|██████████████▍                                 | 3/10 [00:07<00:14,  2.12s/trial, best loss: -0.9570707070707071]"
     ]
    },
    {
     "name": "stderr",
     "output_type": "stream",
     "text": [
      "C:\\Users\\velmurug\\Documents\\full_stability\\transformers\\IndexBasedTransformer.py:58: PerformanceWarning: DataFrame is highly fragmented.  This is usually the result of calling `frame.insert` many times, which has poor performance.  Consider joining all columns at once using pd.concat(axis=1) instead.  To get a de-fragmented frame, use `newframe = frame.copy()`\n",
      "  dt_transformed[col] = 0\n",
      "\n"
     ]
    },
    {
     "name": "stdout",
     "output_type": "stream",
     "text": [
      "Accuracy:                                                                                                              \n",
      "0.9833333333333334                                                                                                     \n",
      " 30%|██████████████▍                                 | 3/10 [00:07<00:14,  2.12s/trial, best loss: -0.9570707070707071]"
     ]
    },
    {
     "name": "stderr",
     "output_type": "stream",
     "text": [
      "C:\\Users\\velmurug\\Documents\\full_stability\\transformers\\IndexBasedTransformer.py:58: PerformanceWarning: DataFrame is highly fragmented.  This is usually the result of calling `frame.insert` many times, which has poor performance.  Consider joining all columns at once using pd.concat(axis=1) instead.  To get a de-fragmented frame, use `newframe = frame.copy()`\n",
      "  dt_transformed[col] = 0\n",
      "\n"
     ]
    },
    {
     "name": "stdout",
     "output_type": "stream",
     "text": [
      "Accuracy:                                                                                                              \n",
      "0.9333333333333333                                                                                                     \n",
      "{'var_smoothing': 6.579332246575682e-09}                                                                               \n",
      " 40%|███████████████████▏                            | 4/10 [00:08<00:12,  2.07s/trial, best loss: -0.9570707070707071]"
     ]
    },
    {
     "name": "stderr",
     "output_type": "stream",
     "text": [
      "C:\\Users\\velmurug\\Documents\\full_stability\\transformers\\IndexBasedTransformer.py:58: PerformanceWarning: DataFrame is highly fragmented.  This is usually the result of calling `frame.insert` many times, which has poor performance.  Consider joining all columns at once using pd.concat(axis=1) instead.  To get a de-fragmented frame, use `newframe = frame.copy()`\n",
      "  dt_transformed[col] = 0\n",
      "\n"
     ]
    },
    {
     "name": "stdout",
     "output_type": "stream",
     "text": [
      "Accuracy:                                                                                                              \n",
      "0.95                                                                                                                   \n",
      " 40%|███████████████████▏                            | 4/10 [00:08<00:12,  2.07s/trial, best loss: -0.9570707070707071]"
     ]
    },
    {
     "name": "stderr",
     "output_type": "stream",
     "text": [
      "C:\\Users\\velmurug\\Documents\\full_stability\\transformers\\IndexBasedTransformer.py:58: PerformanceWarning: DataFrame is highly fragmented.  This is usually the result of calling `frame.insert` many times, which has poor performance.  Consider joining all columns at once using pd.concat(axis=1) instead.  To get a de-fragmented frame, use `newframe = frame.copy()`\n",
      "  dt_transformed[col] = 0\n",
      "\n"
     ]
    },
    {
     "name": "stdout",
     "output_type": "stream",
     "text": [
      "Accuracy:                                                                                                              \n",
      "0.9333333333333333                                                                                                     \n",
      " 40%|███████████████████▏                            | 4/10 [00:09<00:12,  2.07s/trial, best loss: -0.9570707070707071]"
     ]
    },
    {
     "name": "stderr",
     "output_type": "stream",
     "text": [
      "C:\\Users\\velmurug\\Documents\\full_stability\\transformers\\IndexBasedTransformer.py:58: PerformanceWarning: DataFrame is highly fragmented.  This is usually the result of calling `frame.insert` many times, which has poor performance.  Consider joining all columns at once using pd.concat(axis=1) instead.  To get a de-fragmented frame, use `newframe = frame.copy()`\n",
      "  dt_transformed[col] = 0\n",
      "\n"
     ]
    },
    {
     "name": "stdout",
     "output_type": "stream",
     "text": [
      "Accuracy:                                                                                                              \n",
      "0.9166666666666667                                                                                                     \n",
      "{'var_smoothing': 0.02848035868435802}                                                                                 \n",
      " 50%|████████████████████████                        | 5/10 [00:10<00:10,  2.03s/trial, best loss: -0.9570707070707071]"
     ]
    },
    {
     "name": "stderr",
     "output_type": "stream",
     "text": [
      "C:\\Users\\velmurug\\Documents\\full_stability\\transformers\\IndexBasedTransformer.py:58: PerformanceWarning: DataFrame is highly fragmented.  This is usually the result of calling `frame.insert` many times, which has poor performance.  Consider joining all columns at once using pd.concat(axis=1) instead.  To get a de-fragmented frame, use `newframe = frame.copy()`\n",
      "  dt_transformed[col] = 0\n",
      "\n"
     ]
    },
    {
     "name": "stdout",
     "output_type": "stream",
     "text": [
      "Accuracy:                                                                                                              \n",
      "0.9545454545454545                                                                                                     \n",
      " 50%|████████████████████████                        | 5/10 [00:10<00:10,  2.03s/trial, best loss: -0.9570707070707071]"
     ]
    },
    {
     "name": "stderr",
     "output_type": "stream",
     "text": [
      "C:\\Users\\velmurug\\Documents\\full_stability\\transformers\\IndexBasedTransformer.py:58: PerformanceWarning: DataFrame is highly fragmented.  This is usually the result of calling `frame.insert` many times, which has poor performance.  Consider joining all columns at once using pd.concat(axis=1) instead.  To get a de-fragmented frame, use `newframe = frame.copy()`\n",
      "  dt_transformed[col] = 0\n",
      "\n"
     ]
    },
    {
     "name": "stdout",
     "output_type": "stream",
     "text": [
      "Accuracy:                                                                                                              \n",
      "0.9545454545454545                                                                                                     \n",
      " 50%|████████████████████████                        | 5/10 [00:11<00:10,  2.03s/trial, best loss: -0.9570707070707071]"
     ]
    },
    {
     "name": "stderr",
     "output_type": "stream",
     "text": [
      "C:\\Users\\velmurug\\Documents\\full_stability\\transformers\\IndexBasedTransformer.py:58: PerformanceWarning: DataFrame is highly fragmented.  This is usually the result of calling `frame.insert` many times, which has poor performance.  Consider joining all columns at once using pd.concat(axis=1) instead.  To get a de-fragmented frame, use `newframe = frame.copy()`\n",
      "  dt_transformed[col] = 0\n",
      "\n"
     ]
    },
    {
     "name": "stdout",
     "output_type": "stream",
     "text": [
      "Accuracy:                                                                                                              \n",
      "0.9333333333333333                                                                                                     \n",
      "{'var_smoothing': 0.0001}                                                                                              \n",
      " 60%|████████████████████████████▊                   | 6/10 [00:12<00:07,  1.98s/trial, best loss: -0.9570707070707071]"
     ]
    },
    {
     "name": "stderr",
     "output_type": "stream",
     "text": [
      "C:\\Users\\velmurug\\Documents\\full_stability\\transformers\\IndexBasedTransformer.py:58: PerformanceWarning: DataFrame is highly fragmented.  This is usually the result of calling `frame.insert` many times, which has poor performance.  Consider joining all columns at once using pd.concat(axis=1) instead.  To get a de-fragmented frame, use `newframe = frame.copy()`\n",
      "  dt_transformed[col] = 0\n",
      "\n"
     ]
    },
    {
     "name": "stdout",
     "output_type": "stream",
     "text": [
      "Accuracy:                                                                                                              \n",
      "0.9545454545454545                                                                                                     \n",
      " 60%|████████████████████████████▊                   | 6/10 [00:12<00:07,  1.98s/trial, best loss: -0.9570707070707071]"
     ]
    },
    {
     "name": "stderr",
     "output_type": "stream",
     "text": [
      "C:\\Users\\velmurug\\Documents\\full_stability\\transformers\\IndexBasedTransformer.py:58: PerformanceWarning: DataFrame is highly fragmented.  This is usually the result of calling `frame.insert` many times, which has poor performance.  Consider joining all columns at once using pd.concat(axis=1) instead.  To get a de-fragmented frame, use `newframe = frame.copy()`\n",
      "  dt_transformed[col] = 0\n",
      "\n"
     ]
    },
    {
     "name": "stdout",
     "output_type": "stream",
     "text": [
      "Accuracy:                                                                                                              \n",
      "0.9833333333333334                                                                                                     \n",
      " 60%|████████████████████████████▊                   | 6/10 [00:13<00:07,  1.98s/trial, best loss: -0.9570707070707071]"
     ]
    },
    {
     "name": "stderr",
     "output_type": "stream",
     "text": [
      "C:\\Users\\velmurug\\Documents\\full_stability\\transformers\\IndexBasedTransformer.py:58: PerformanceWarning: DataFrame is highly fragmented.  This is usually the result of calling `frame.insert` many times, which has poor performance.  Consider joining all columns at once using pd.concat(axis=1) instead.  To get a de-fragmented frame, use `newframe = frame.copy()`\n",
      "  dt_transformed[col] = 0\n",
      "\n"
     ]
    },
    {
     "name": "stdout",
     "output_type": "stream",
     "text": [
      "Accuracy:                                                                                                              \n",
      "0.9333333333333333                                                                                                     \n",
      "{'var_smoothing': 0.12328467394420659}                                                                                 \n",
      " 70%|█████████████████████████████████▌              | 7/10 [00:13<00:05,  1.92s/trial, best loss: -0.9570707070707071]"
     ]
    },
    {
     "name": "stderr",
     "output_type": "stream",
     "text": [
      "C:\\Users\\velmurug\\Documents\\full_stability\\transformers\\IndexBasedTransformer.py:58: PerformanceWarning: DataFrame is highly fragmented.  This is usually the result of calling `frame.insert` many times, which has poor performance.  Consider joining all columns at once using pd.concat(axis=1) instead.  To get a de-fragmented frame, use `newframe = frame.copy()`\n",
      "  dt_transformed[col] = 0\n",
      "\n"
     ]
    },
    {
     "name": "stdout",
     "output_type": "stream",
     "text": [
      "Accuracy:                                                                                                              \n",
      "0.9318181818181819                                                                                                     \n",
      " 70%|█████████████████████████████████▌              | 7/10 [00:14<00:05,  1.92s/trial, best loss: -0.9570707070707071]"
     ]
    },
    {
     "name": "stderr",
     "output_type": "stream",
     "text": [
      "C:\\Users\\velmurug\\Documents\\full_stability\\transformers\\IndexBasedTransformer.py:58: PerformanceWarning: DataFrame is highly fragmented.  This is usually the result of calling `frame.insert` many times, which has poor performance.  Consider joining all columns at once using pd.concat(axis=1) instead.  To get a de-fragmented frame, use `newframe = frame.copy()`\n",
      "  dt_transformed[col] = 0\n",
      "\n"
     ]
    },
    {
     "name": "stdout",
     "output_type": "stream",
     "text": [
      "Accuracy:                                                                                                              \n",
      "0.9545454545454545                                                                                                     \n",
      " 70%|█████████████████████████████████▌              | 7/10 [00:15<00:05,  1.92s/trial, best loss: -0.9570707070707071]"
     ]
    },
    {
     "name": "stderr",
     "output_type": "stream",
     "text": [
      "C:\\Users\\velmurug\\Documents\\full_stability\\transformers\\IndexBasedTransformer.py:58: PerformanceWarning: DataFrame is highly fragmented.  This is usually the result of calling `frame.insert` many times, which has poor performance.  Consider joining all columns at once using pd.concat(axis=1) instead.  To get a de-fragmented frame, use `newframe = frame.copy()`\n",
      "  dt_transformed[col] = 0\n",
      "\n"
     ]
    },
    {
     "name": "stdout",
     "output_type": "stream",
     "text": [
      "Accuracy:                                                                                                              \n",
      "0.9606060606060607                                                                                                     \n",
      "{'var_smoothing': 1.519911082952933e-07}                                                                               \n",
      " 80%|██████████████████████████████████████▍         | 8/10 [00:15<00:03,  1.90s/trial, best loss: -0.9570707070707071]"
     ]
    },
    {
     "name": "stderr",
     "output_type": "stream",
     "text": [
      "C:\\Users\\velmurug\\Documents\\full_stability\\transformers\\IndexBasedTransformer.py:58: PerformanceWarning: DataFrame is highly fragmented.  This is usually the result of calling `frame.insert` many times, which has poor performance.  Consider joining all columns at once using pd.concat(axis=1) instead.  To get a de-fragmented frame, use `newframe = frame.copy()`\n",
      "  dt_transformed[col] = 0\n",
      "\n"
     ]
    },
    {
     "name": "stdout",
     "output_type": "stream",
     "text": [
      "Accuracy:                                                                                                              \n",
      "0.9833333333333334                                                                                                     \n",
      " 80%|██████████████████████████████████████▍         | 8/10 [00:16<00:03,  1.90s/trial, best loss: -0.9570707070707071]"
     ]
    },
    {
     "name": "stderr",
     "output_type": "stream",
     "text": [
      "C:\\Users\\velmurug\\Documents\\full_stability\\transformers\\IndexBasedTransformer.py:58: PerformanceWarning: DataFrame is highly fragmented.  This is usually the result of calling `frame.insert` many times, which has poor performance.  Consider joining all columns at once using pd.concat(axis=1) instead.  To get a de-fragmented frame, use `newframe = frame.copy()`\n",
      "  dt_transformed[col] = 0\n",
      "\n"
     ]
    },
    {
     "name": "stdout",
     "output_type": "stream",
     "text": [
      "Accuracy:                                                                                                              \n",
      "0.9333333333333333                                                                                                     \n",
      " 80%|██████████████████████████████████████▍         | 8/10 [00:17<00:03,  1.90s/trial, best loss: -0.9570707070707071]"
     ]
    },
    {
     "name": "stderr",
     "output_type": "stream",
     "text": [
      "C:\\Users\\velmurug\\Documents\\full_stability\\transformers\\IndexBasedTransformer.py:58: PerformanceWarning: DataFrame is highly fragmented.  This is usually the result of calling `frame.insert` many times, which has poor performance.  Consider joining all columns at once using pd.concat(axis=1) instead.  To get a de-fragmented frame, use `newframe = frame.copy()`\n",
      "  dt_transformed[col] = 0\n",
      "\n"
     ]
    },
    {
     "name": "stdout",
     "output_type": "stream",
     "text": [
      "Accuracy:                                                                                                              \n",
      "0.9166666666666667                                                                                                     \n",
      "{'var_smoothing': 8.111308307896873e-08}                                                                               \n",
      " 90%|███████████████████████████████████████████▏    | 9/10 [00:17<00:01,  1.91s/trial, best loss: -0.9570707070707071]"
     ]
    },
    {
     "name": "stderr",
     "output_type": "stream",
     "text": [
      "C:\\Users\\velmurug\\Documents\\full_stability\\transformers\\IndexBasedTransformer.py:58: PerformanceWarning: DataFrame is highly fragmented.  This is usually the result of calling `frame.insert` many times, which has poor performance.  Consider joining all columns at once using pd.concat(axis=1) instead.  To get a de-fragmented frame, use `newframe = frame.copy()`\n",
      "  dt_transformed[col] = 0\n",
      "\n"
     ]
    },
    {
     "name": "stdout",
     "output_type": "stream",
     "text": [
      "Accuracy:                                                                                                              \n",
      "0.9833333333333334                                                                                                     \n",
      " 90%|███████████████████████████████████████████▏    | 9/10 [00:18<00:01,  1.91s/trial, best loss: -0.9570707070707071]"
     ]
    },
    {
     "name": "stderr",
     "output_type": "stream",
     "text": [
      "C:\\Users\\velmurug\\Documents\\full_stability\\transformers\\IndexBasedTransformer.py:58: PerformanceWarning: DataFrame is highly fragmented.  This is usually the result of calling `frame.insert` many times, which has poor performance.  Consider joining all columns at once using pd.concat(axis=1) instead.  To get a de-fragmented frame, use `newframe = frame.copy()`\n",
      "  dt_transformed[col] = 0\n",
      "\n"
     ]
    },
    {
     "name": "stdout",
     "output_type": "stream",
     "text": [
      "Accuracy:                                                                                                              \n",
      "0.9333333333333333                                                                                                     \n",
      " 90%|███████████████████████████████████████████▏    | 9/10 [00:18<00:01,  1.91s/trial, best loss: -0.9570707070707071]"
     ]
    },
    {
     "name": "stderr",
     "output_type": "stream",
     "text": [
      "C:\\Users\\velmurug\\Documents\\full_stability\\transformers\\IndexBasedTransformer.py:58: PerformanceWarning: DataFrame is highly fragmented.  This is usually the result of calling `frame.insert` many times, which has poor performance.  Consider joining all columns at once using pd.concat(axis=1) instead.  To get a de-fragmented frame, use `newframe = frame.copy()`\n",
      "  dt_transformed[col] = 0\n",
      "\n"
     ]
    },
    {
     "name": "stdout",
     "output_type": "stream",
     "text": [
      "Accuracy:                                                                                                              \n",
      "0.9166666666666667                                                                                                     \n",
      "100%|███████████████████████████████████████████████| 10/10 [00:19<00:00,  1.95s/trial, best loss: -0.9570707070707071]\n",
      "Optimising 17 of 20 buckets\n",
      "{'var_smoothing': 0.1}                                                                                                 \n",
      "  0%|                                                                           | 0/10 [00:00<?, ?trial/s, best loss=?]"
     ]
    },
    {
     "name": "stderr",
     "output_type": "stream",
     "text": [
      "C:\\Users\\velmurug\\Documents\\full_stability\\transformers\\IndexBasedTransformer.py:58: PerformanceWarning: DataFrame is highly fragmented.  This is usually the result of calling `frame.insert` many times, which has poor performance.  Consider joining all columns at once using pd.concat(axis=1) instead.  To get a de-fragmented frame, use `newframe = frame.copy()`\n",
      "  dt_transformed[col] = 0\n",
      "\n"
     ]
    },
    {
     "name": "stdout",
     "output_type": "stream",
     "text": [
      "Accuracy:                                                                                                              \n",
      "0.9411764705882353                                                                                                     \n",
      "  0%|                                                                           | 0/10 [00:00<?, ?trial/s, best loss=?]"
     ]
    },
    {
     "name": "stderr",
     "output_type": "stream",
     "text": [
      "C:\\Users\\velmurug\\Documents\\full_stability\\transformers\\IndexBasedTransformer.py:58: PerformanceWarning: DataFrame is highly fragmented.  This is usually the result of calling `frame.insert` many times, which has poor performance.  Consider joining all columns at once using pd.concat(axis=1) instead.  To get a de-fragmented frame, use `newframe = frame.copy()`\n",
      "  dt_transformed[col] = 0\n",
      "\n"
     ]
    },
    {
     "name": "stdout",
     "output_type": "stream",
     "text": [
      "Accuracy:                                                                                                              \n",
      "0.9117647058823529                                                                                                     \n",
      "  0%|                                                                           | 0/10 [00:01<?, ?trial/s, best loss=?]"
     ]
    },
    {
     "name": "stderr",
     "output_type": "stream",
     "text": [
      "C:\\Users\\velmurug\\Documents\\full_stability\\transformers\\IndexBasedTransformer.py:58: PerformanceWarning: DataFrame is highly fragmented.  This is usually the result of calling `frame.insert` many times, which has poor performance.  Consider joining all columns at once using pd.concat(axis=1) instead.  To get a de-fragmented frame, use `newframe = frame.copy()`\n",
      "  dt_transformed[col] = 0\n",
      "\n"
     ]
    },
    {
     "name": "stdout",
     "output_type": "stream",
     "text": [
      "Accuracy:                                                                                                              \n",
      "0.9166666666666667                                                                                                     \n",
      "{'var_smoothing': 1e-05}                                                                                               \n",
      " 10%|████▊                                           | 1/10 [00:02<00:18,  2.07s/trial, best loss: -0.9232026143790849]"
     ]
    },
    {
     "name": "stderr",
     "output_type": "stream",
     "text": [
      "C:\\Users\\velmurug\\Documents\\full_stability\\transformers\\IndexBasedTransformer.py:58: PerformanceWarning: DataFrame is highly fragmented.  This is usually the result of calling `frame.insert` many times, which has poor performance.  Consider joining all columns at once using pd.concat(axis=1) instead.  To get a de-fragmented frame, use `newframe = frame.copy()`\n",
      "  dt_transformed[col] = 0\n",
      "\n"
     ]
    },
    {
     "name": "stdout",
     "output_type": "stream",
     "text": [
      "Accuracy:                                                                                                              \n",
      "0.9772727272727273                                                                                                     \n",
      " 10%|████▊                                           | 1/10 [00:02<00:18,  2.07s/trial, best loss: -0.9232026143790849]"
     ]
    },
    {
     "name": "stderr",
     "output_type": "stream",
     "text": [
      "C:\\Users\\velmurug\\Documents\\full_stability\\transformers\\IndexBasedTransformer.py:58: PerformanceWarning: DataFrame is highly fragmented.  This is usually the result of calling `frame.insert` many times, which has poor performance.  Consider joining all columns at once using pd.concat(axis=1) instead.  To get a de-fragmented frame, use `newframe = frame.copy()`\n",
      "  dt_transformed[col] = 0\n",
      "\n"
     ]
    },
    {
     "name": "stdout",
     "output_type": "stream",
     "text": [
      "Accuracy:                                                                                                              \n",
      "0.9117647058823529                                                                                                     \n",
      " 10%|████▊                                           | 1/10 [00:03<00:18,  2.07s/trial, best loss: -0.9232026143790849]"
     ]
    },
    {
     "name": "stderr",
     "output_type": "stream",
     "text": [
      "C:\\Users\\velmurug\\Documents\\full_stability\\transformers\\IndexBasedTransformer.py:58: PerformanceWarning: DataFrame is highly fragmented.  This is usually the result of calling `frame.insert` many times, which has poor performance.  Consider joining all columns at once using pd.concat(axis=1) instead.  To get a de-fragmented frame, use `newframe = frame.copy()`\n",
      "  dt_transformed[col] = 0\n",
      "\n"
     ]
    },
    {
     "name": "stdout",
     "output_type": "stream",
     "text": [
      "Accuracy:                                                                                                              \n",
      "0.9166666666666667                                                                                                     \n",
      "{'var_smoothing': 5.336699231206302e-08}                                                                               \n",
      " 20%|█████████▌                                      | 2/10 [00:03<00:16,  2.01s/trial, best loss: -0.9352346999405823]"
     ]
    },
    {
     "name": "stderr",
     "output_type": "stream",
     "text": [
      "C:\\Users\\velmurug\\Documents\\full_stability\\transformers\\IndexBasedTransformer.py:58: PerformanceWarning: DataFrame is highly fragmented.  This is usually the result of calling `frame.insert` many times, which has poor performance.  Consider joining all columns at once using pd.concat(axis=1) instead.  To get a de-fragmented frame, use `newframe = frame.copy()`\n",
      "  dt_transformed[col] = 0\n",
      "\n"
     ]
    },
    {
     "name": "stdout",
     "output_type": "stream",
     "text": [
      "Accuracy:                                                                                                              \n",
      "0.9090909090909092                                                                                                     \n",
      " 20%|█████████▌                                      | 2/10 [00:04<00:16,  2.01s/trial, best loss: -0.9352346999405823]"
     ]
    },
    {
     "name": "stderr",
     "output_type": "stream",
     "text": [
      "C:\\Users\\velmurug\\Documents\\full_stability\\transformers\\IndexBasedTransformer.py:58: PerformanceWarning: DataFrame is highly fragmented.  This is usually the result of calling `frame.insert` many times, which has poor performance.  Consider joining all columns at once using pd.concat(axis=1) instead.  To get a de-fragmented frame, use `newframe = frame.copy()`\n",
      "  dt_transformed[col] = 0\n",
      "\n"
     ]
    },
    {
     "name": "stdout",
     "output_type": "stream",
     "text": [
      "Accuracy:                                                                                                              \n",
      "0.9117647058823529                                                                                                     \n",
      " 20%|█████████▌                                      | 2/10 [00:05<00:16,  2.01s/trial, best loss: -0.9352346999405823]"
     ]
    },
    {
     "name": "stderr",
     "output_type": "stream",
     "text": [
      "C:\\Users\\velmurug\\Documents\\full_stability\\transformers\\IndexBasedTransformer.py:58: PerformanceWarning: DataFrame is highly fragmented.  This is usually the result of calling `frame.insert` many times, which has poor performance.  Consider joining all columns at once using pd.concat(axis=1) instead.  To get a de-fragmented frame, use `newframe = frame.copy()`\n",
      "  dt_transformed[col] = 0\n",
      "\n"
     ]
    },
    {
     "name": "stdout",
     "output_type": "stream",
     "text": [
      "Accuracy:                                                                                                              \n",
      "0.9166666666666667                                                                                                     \n",
      "{'var_smoothing': 1.232846739442066e-07}                                                                               \n",
      " 30%|██████████████▍                                 | 3/10 [00:05<00:13,  1.96s/trial, best loss: -0.9352346999405823]"
     ]
    },
    {
     "name": "stderr",
     "output_type": "stream",
     "text": [
      "C:\\Users\\velmurug\\Documents\\full_stability\\transformers\\IndexBasedTransformer.py:58: PerformanceWarning: DataFrame is highly fragmented.  This is usually the result of calling `frame.insert` many times, which has poor performance.  Consider joining all columns at once using pd.concat(axis=1) instead.  To get a de-fragmented frame, use `newframe = frame.copy()`\n",
      "  dt_transformed[col] = 0\n",
      "\n"
     ]
    },
    {
     "name": "stdout",
     "output_type": "stream",
     "text": [
      "Accuracy:                                                                                                              \n",
      "0.9090909090909092                                                                                                     \n",
      " 30%|██████████████▍                                 | 3/10 [00:06<00:13,  1.96s/trial, best loss: -0.9352346999405823]"
     ]
    },
    {
     "name": "stderr",
     "output_type": "stream",
     "text": [
      "C:\\Users\\velmurug\\Documents\\full_stability\\transformers\\IndexBasedTransformer.py:58: PerformanceWarning: DataFrame is highly fragmented.  This is usually the result of calling `frame.insert` many times, which has poor performance.  Consider joining all columns at once using pd.concat(axis=1) instead.  To get a de-fragmented frame, use `newframe = frame.copy()`\n",
      "  dt_transformed[col] = 0\n",
      "\n"
     ]
    },
    {
     "name": "stdout",
     "output_type": "stream",
     "text": [
      "Accuracy:                                                                                                              \n",
      "0.9117647058823529                                                                                                     \n",
      " 30%|██████████████▍                                 | 3/10 [00:07<00:13,  1.96s/trial, best loss: -0.9352346999405823]"
     ]
    },
    {
     "name": "stderr",
     "output_type": "stream",
     "text": [
      "C:\\Users\\velmurug\\Documents\\full_stability\\transformers\\IndexBasedTransformer.py:58: PerformanceWarning: DataFrame is highly fragmented.  This is usually the result of calling `frame.insert` many times, which has poor performance.  Consider joining all columns at once using pd.concat(axis=1) instead.  To get a de-fragmented frame, use `newframe = frame.copy()`\n",
      "  dt_transformed[col] = 0\n",
      "\n"
     ]
    },
    {
     "name": "stdout",
     "output_type": "stream",
     "text": [
      "Accuracy:                                                                                                              \n",
      "0.9166666666666667                                                                                                     \n",
      "{'var_smoothing': 0.0023101297000831605}                                                                               \n",
      " 40%|███████████████████▏                            | 4/10 [00:07<00:11,  1.96s/trial, best loss: -0.9352346999405823]"
     ]
    },
    {
     "name": "stderr",
     "output_type": "stream",
     "text": [
      "C:\\Users\\velmurug\\Documents\\full_stability\\transformers\\IndexBasedTransformer.py:58: PerformanceWarning: DataFrame is highly fragmented.  This is usually the result of calling `frame.insert` many times, which has poor performance.  Consider joining all columns at once using pd.concat(axis=1) instead.  To get a de-fragmented frame, use `newframe = frame.copy()`\n",
      "  dt_transformed[col] = 0\n",
      "\n"
     ]
    },
    {
     "name": "stdout",
     "output_type": "stream",
     "text": [
      "Accuracy:                                                                                                              \n",
      "0.9772727272727273                                                                                                     \n",
      " 40%|███████████████████▏                            | 4/10 [00:08<00:11,  1.96s/trial, best loss: -0.9352346999405823]"
     ]
    },
    {
     "name": "stderr",
     "output_type": "stream",
     "text": [
      "C:\\Users\\velmurug\\Documents\\full_stability\\transformers\\IndexBasedTransformer.py:58: PerformanceWarning: DataFrame is highly fragmented.  This is usually the result of calling `frame.insert` many times, which has poor performance.  Consider joining all columns at once using pd.concat(axis=1) instead.  To get a de-fragmented frame, use `newframe = frame.copy()`\n",
      "  dt_transformed[col] = 0\n",
      "\n"
     ]
    },
    {
     "name": "stdout",
     "output_type": "stream",
     "text": [
      "Accuracy:                                                                                                              \n",
      "0.9117647058823529                                                                                                     \n",
      " 40%|███████████████████▏                            | 4/10 [00:08<00:11,  1.96s/trial, best loss: -0.9352346999405823]"
     ]
    },
    {
     "name": "stderr",
     "output_type": "stream",
     "text": [
      "C:\\Users\\velmurug\\Documents\\full_stability\\transformers\\IndexBasedTransformer.py:58: PerformanceWarning: DataFrame is highly fragmented.  This is usually the result of calling `frame.insert` many times, which has poor performance.  Consider joining all columns at once using pd.concat(axis=1) instead.  To get a de-fragmented frame, use `newframe = frame.copy()`\n",
      "  dt_transformed[col] = 0\n",
      "\n"
     ]
    },
    {
     "name": "stdout",
     "output_type": "stream",
     "text": [
      "Accuracy:                                                                                                              \n",
      "0.9166666666666667                                                                                                     \n",
      "{'var_smoothing': 1.5199110829529332e-05}                                                                              \n",
      " 50%|████████████████████████                        | 5/10 [00:09<00:09,  1.94s/trial, best loss: -0.9352346999405823]"
     ]
    },
    {
     "name": "stderr",
     "output_type": "stream",
     "text": [
      "C:\\Users\\velmurug\\Documents\\full_stability\\transformers\\IndexBasedTransformer.py:58: PerformanceWarning: DataFrame is highly fragmented.  This is usually the result of calling `frame.insert` many times, which has poor performance.  Consider joining all columns at once using pd.concat(axis=1) instead.  To get a de-fragmented frame, use `newframe = frame.copy()`\n",
      "  dt_transformed[col] = 0\n",
      "\n"
     ]
    },
    {
     "name": "stdout",
     "output_type": "stream",
     "text": [
      "Accuracy:                                                                                                              \n",
      "0.9772727272727273                                                                                                     \n",
      " 50%|████████████████████████                        | 5/10 [00:10<00:09,  1.94s/trial, best loss: -0.9352346999405823]"
     ]
    },
    {
     "name": "stderr",
     "output_type": "stream",
     "text": [
      "C:\\Users\\velmurug\\Documents\\full_stability\\transformers\\IndexBasedTransformer.py:58: PerformanceWarning: DataFrame is highly fragmented.  This is usually the result of calling `frame.insert` many times, which has poor performance.  Consider joining all columns at once using pd.concat(axis=1) instead.  To get a de-fragmented frame, use `newframe = frame.copy()`\n",
      "  dt_transformed[col] = 0\n",
      "\n"
     ]
    },
    {
     "name": "stdout",
     "output_type": "stream",
     "text": [
      "Accuracy:                                                                                                              \n",
      "0.9117647058823529                                                                                                     \n",
      " 50%|████████████████████████                        | 5/10 [00:10<00:09,  1.94s/trial, best loss: -0.9352346999405823]"
     ]
    },
    {
     "name": "stderr",
     "output_type": "stream",
     "text": [
      "C:\\Users\\velmurug\\Documents\\full_stability\\transformers\\IndexBasedTransformer.py:58: PerformanceWarning: DataFrame is highly fragmented.  This is usually the result of calling `frame.insert` many times, which has poor performance.  Consider joining all columns at once using pd.concat(axis=1) instead.  To get a de-fragmented frame, use `newframe = frame.copy()`\n",
      "  dt_transformed[col] = 0\n",
      "\n"
     ]
    },
    {
     "name": "stdout",
     "output_type": "stream",
     "text": [
      "Accuracy:                                                                                                              \n",
      "0.9166666666666667                                                                                                     \n",
      "{'var_smoothing': 1.5199110829529332e-05}                                                                              \n",
      " 60%|████████████████████████████▊                   | 6/10 [00:11<00:07,  1.91s/trial, best loss: -0.9352346999405823]"
     ]
    },
    {
     "name": "stderr",
     "output_type": "stream",
     "text": [
      "C:\\Users\\velmurug\\Documents\\full_stability\\transformers\\IndexBasedTransformer.py:58: PerformanceWarning: DataFrame is highly fragmented.  This is usually the result of calling `frame.insert` many times, which has poor performance.  Consider joining all columns at once using pd.concat(axis=1) instead.  To get a de-fragmented frame, use `newframe = frame.copy()`\n",
      "  dt_transformed[col] = 0\n",
      "\n"
     ]
    },
    {
     "name": "stdout",
     "output_type": "stream",
     "text": [
      "Accuracy:                                                                                                              \n",
      "0.9772727272727273                                                                                                     \n",
      " 60%|████████████████████████████▊                   | 6/10 [00:12<00:07,  1.91s/trial, best loss: -0.9352346999405823]"
     ]
    },
    {
     "name": "stderr",
     "output_type": "stream",
     "text": [
      "C:\\Users\\velmurug\\Documents\\full_stability\\transformers\\IndexBasedTransformer.py:58: PerformanceWarning: DataFrame is highly fragmented.  This is usually the result of calling `frame.insert` many times, which has poor performance.  Consider joining all columns at once using pd.concat(axis=1) instead.  To get a de-fragmented frame, use `newframe = frame.copy()`\n",
      "  dt_transformed[col] = 0\n",
      "\n"
     ]
    },
    {
     "name": "stdout",
     "output_type": "stream",
     "text": [
      "Accuracy:                                                                                                              \n",
      "0.9117647058823529                                                                                                     \n",
      " 60%|████████████████████████████▊                   | 6/10 [00:12<00:07,  1.91s/trial, best loss: -0.9352346999405823]"
     ]
    },
    {
     "name": "stderr",
     "output_type": "stream",
     "text": [
      "C:\\Users\\velmurug\\Documents\\full_stability\\transformers\\IndexBasedTransformer.py:58: PerformanceWarning: DataFrame is highly fragmented.  This is usually the result of calling `frame.insert` many times, which has poor performance.  Consider joining all columns at once using pd.concat(axis=1) instead.  To get a de-fragmented frame, use `newframe = frame.copy()`\n",
      "  dt_transformed[col] = 0\n",
      "\n"
     ]
    },
    {
     "name": "stdout",
     "output_type": "stream",
     "text": [
      "Accuracy:                                                                                                              \n",
      "0.9166666666666667                                                                                                     \n",
      "{'var_smoothing': 0.006579332246575682}                                                                                \n",
      " 70%|█████████████████████████████████▌              | 7/10 [00:13<00:05,  1.88s/trial, best loss: -0.9352346999405823]"
     ]
    },
    {
     "name": "stderr",
     "output_type": "stream",
     "text": [
      "C:\\Users\\velmurug\\Documents\\full_stability\\transformers\\IndexBasedTransformer.py:58: PerformanceWarning: DataFrame is highly fragmented.  This is usually the result of calling `frame.insert` many times, which has poor performance.  Consider joining all columns at once using pd.concat(axis=1) instead.  To get a de-fragmented frame, use `newframe = frame.copy()`\n",
      "  dt_transformed[col] = 0\n",
      "\n"
     ]
    },
    {
     "name": "stdout",
     "output_type": "stream",
     "text": [
      "Accuracy:                                                                                                              \n",
      "1.0                                                                                                                    \n",
      " 70%|█████████████████████████████████▌              | 7/10 [00:13<00:05,  1.88s/trial, best loss: -0.9352346999405823]"
     ]
    },
    {
     "name": "stderr",
     "output_type": "stream",
     "text": [
      "C:\\Users\\velmurug\\Documents\\full_stability\\transformers\\IndexBasedTransformer.py:58: PerformanceWarning: DataFrame is highly fragmented.  This is usually the result of calling `frame.insert` many times, which has poor performance.  Consider joining all columns at once using pd.concat(axis=1) instead.  To get a de-fragmented frame, use `newframe = frame.copy()`\n",
      "  dt_transformed[col] = 0\n",
      "\n"
     ]
    },
    {
     "name": "stdout",
     "output_type": "stream",
     "text": [
      "Accuracy:                                                                                                              \n",
      "0.9117647058823529                                                                                                     \n",
      " 70%|█████████████████████████████████▌              | 7/10 [00:14<00:05,  1.88s/trial, best loss: -0.9352346999405823]"
     ]
    },
    {
     "name": "stderr",
     "output_type": "stream",
     "text": [
      "C:\\Users\\velmurug\\Documents\\full_stability\\transformers\\IndexBasedTransformer.py:58: PerformanceWarning: DataFrame is highly fragmented.  This is usually the result of calling `frame.insert` many times, which has poor performance.  Consider joining all columns at once using pd.concat(axis=1) instead.  To get a de-fragmented frame, use `newframe = frame.copy()`\n",
      "  dt_transformed[col] = 0\n",
      "\n"
     ]
    },
    {
     "name": "stdout",
     "output_type": "stream",
     "text": [
      "Accuracy:                                                                                                              \n",
      "0.9166666666666667                                                                                                     \n",
      "{'var_smoothing': 0.01}                                                                                                \n",
      " 80%|██████████████████████████████████████▍         | 8/10 [00:15<00:03,  1.91s/trial, best loss: -0.9428104575163397]"
     ]
    },
    {
     "name": "stderr",
     "output_type": "stream",
     "text": [
      "C:\\Users\\velmurug\\Documents\\full_stability\\transformers\\IndexBasedTransformer.py:58: PerformanceWarning: DataFrame is highly fragmented.  This is usually the result of calling `frame.insert` many times, which has poor performance.  Consider joining all columns at once using pd.concat(axis=1) instead.  To get a de-fragmented frame, use `newframe = frame.copy()`\n",
      "  dt_transformed[col] = 0\n",
      "\n"
     ]
    },
    {
     "name": "stdout",
     "output_type": "stream",
     "text": [
      "Accuracy:                                                                                                              \n",
      "1.0                                                                                                                    \n",
      " 80%|██████████████████████████████████████▍         | 8/10 [00:15<00:03,  1.91s/trial, best loss: -0.9428104575163397]"
     ]
    },
    {
     "name": "stderr",
     "output_type": "stream",
     "text": [
      "C:\\Users\\velmurug\\Documents\\full_stability\\transformers\\IndexBasedTransformer.py:58: PerformanceWarning: DataFrame is highly fragmented.  This is usually the result of calling `frame.insert` many times, which has poor performance.  Consider joining all columns at once using pd.concat(axis=1) instead.  To get a de-fragmented frame, use `newframe = frame.copy()`\n",
      "  dt_transformed[col] = 0\n",
      "\n"
     ]
    },
    {
     "name": "stdout",
     "output_type": "stream",
     "text": [
      "Accuracy:                                                                                                              \n",
      "0.9117647058823529                                                                                                     \n",
      " 80%|██████████████████████████████████████▍         | 8/10 [00:16<00:03,  1.91s/trial, best loss: -0.9428104575163397]"
     ]
    },
    {
     "name": "stderr",
     "output_type": "stream",
     "text": [
      "C:\\Users\\velmurug\\Documents\\full_stability\\transformers\\IndexBasedTransformer.py:58: PerformanceWarning: DataFrame is highly fragmented.  This is usually the result of calling `frame.insert` many times, which has poor performance.  Consider joining all columns at once using pd.concat(axis=1) instead.  To get a de-fragmented frame, use `newframe = frame.copy()`\n",
      "  dt_transformed[col] = 0\n",
      "\n"
     ]
    },
    {
     "name": "stdout",
     "output_type": "stream",
     "text": [
      "Accuracy:                                                                                                              \n",
      "0.9166666666666667                                                                                                     \n",
      "{'var_smoothing': 0.533669923120631}                                                                                   \n",
      " 90%|███████████████████████████████████████████▏    | 9/10 [00:17<00:01,  1.92s/trial, best loss: -0.9428104575163397]"
     ]
    },
    {
     "name": "stderr",
     "output_type": "stream",
     "text": [
      "C:\\Users\\velmurug\\Documents\\full_stability\\transformers\\IndexBasedTransformer.py:58: PerformanceWarning: DataFrame is highly fragmented.  This is usually the result of calling `frame.insert` many times, which has poor performance.  Consider joining all columns at once using pd.concat(axis=1) instead.  To get a de-fragmented frame, use `newframe = frame.copy()`\n",
      "  dt_transformed[col] = 0\n",
      "\n"
     ]
    },
    {
     "name": "stdout",
     "output_type": "stream",
     "text": [
      "Accuracy:                                                                                                              \n",
      "0.8823529411764706                                                                                                     \n",
      " 90%|███████████████████████████████████████████▏    | 9/10 [00:17<00:01,  1.92s/trial, best loss: -0.9428104575163397]"
     ]
    },
    {
     "name": "stderr",
     "output_type": "stream",
     "text": [
      "C:\\Users\\velmurug\\Documents\\full_stability\\transformers\\IndexBasedTransformer.py:58: PerformanceWarning: DataFrame is highly fragmented.  This is usually the result of calling `frame.insert` many times, which has poor performance.  Consider joining all columns at once using pd.concat(axis=1) instead.  To get a de-fragmented frame, use `newframe = frame.copy()`\n",
      "  dt_transformed[col] = 0\n",
      "\n"
     ]
    },
    {
     "name": "stdout",
     "output_type": "stream",
     "text": [
      "Accuracy:                                                                                                              \n",
      "0.9117647058823529                                                                                                     \n",
      " 90%|███████████████████████████████████████████▏    | 9/10 [00:18<00:01,  1.92s/trial, best loss: -0.9428104575163397]"
     ]
    },
    {
     "name": "stderr",
     "output_type": "stream",
     "text": [
      "C:\\Users\\velmurug\\Documents\\full_stability\\transformers\\IndexBasedTransformer.py:58: PerformanceWarning: DataFrame is highly fragmented.  This is usually the result of calling `frame.insert` many times, which has poor performance.  Consider joining all columns at once using pd.concat(axis=1) instead.  To get a de-fragmented frame, use `newframe = frame.copy()`\n",
      "  dt_transformed[col] = 0\n",
      "\n"
     ]
    },
    {
     "name": "stdout",
     "output_type": "stream",
     "text": [
      "Accuracy:                                                                                                              \n",
      "0.8611111111111112                                                                                                     \n",
      "100%|███████████████████████████████████████████████| 10/10 [00:19<00:00,  1.92s/trial, best loss: -0.9428104575163397]\n",
      "Optimising 18 of 20 buckets\n",
      "{'var_smoothing': 1.232846739442066e-06}                                                                               \n",
      "  0%|                                                                           | 0/10 [00:00<?, ?trial/s, best loss=?]"
     ]
    },
    {
     "name": "stderr",
     "output_type": "stream",
     "text": [
      "C:\\Users\\velmurug\\Documents\\full_stability\\transformers\\IndexBasedTransformer.py:58: PerformanceWarning: DataFrame is highly fragmented.  This is usually the result of calling `frame.insert` many times, which has poor performance.  Consider joining all columns at once using pd.concat(axis=1) instead.  To get a de-fragmented frame, use `newframe = frame.copy()`\n",
      "  dt_transformed[col] = 0\n",
      "\n"
     ]
    },
    {
     "name": "stdout",
     "output_type": "stream",
     "text": [
      "Accuracy:                                                                                                              \n",
      "1.0                                                                                                                    \n",
      "  0%|                                                                           | 0/10 [00:00<?, ?trial/s, best loss=?]"
     ]
    },
    {
     "name": "stderr",
     "output_type": "stream",
     "text": [
      "C:\\Users\\velmurug\\Documents\\full_stability\\transformers\\IndexBasedTransformer.py:58: PerformanceWarning: DataFrame is highly fragmented.  This is usually the result of calling `frame.insert` many times, which has poor performance.  Consider joining all columns at once using pd.concat(axis=1) instead.  To get a de-fragmented frame, use `newframe = frame.copy()`\n",
      "  dt_transformed[col] = 0\n",
      "\n"
     ]
    },
    {
     "name": "stdout",
     "output_type": "stream",
     "text": [
      "Accuracy:                                                                                                              \n",
      "0.96875                                                                                                                \n",
      "  0%|                                                                           | 0/10 [00:01<?, ?trial/s, best loss=?]"
     ]
    },
    {
     "name": "stderr",
     "output_type": "stream",
     "text": [
      "C:\\Users\\velmurug\\Documents\\full_stability\\transformers\\IndexBasedTransformer.py:58: PerformanceWarning: DataFrame is highly fragmented.  This is usually the result of calling `frame.insert` many times, which has poor performance.  Consider joining all columns at once using pd.concat(axis=1) instead.  To get a de-fragmented frame, use `newframe = frame.copy()`\n",
      "  dt_transformed[col] = 0\n",
      "\n"
     ]
    },
    {
     "name": "stdout",
     "output_type": "stream",
     "text": [
      "Accuracy:                                                                                                              \n",
      "0.96875                                                                                                                \n",
      "{'var_smoothing': 0.0001519911082952933}                                                                               \n",
      " 10%|████▊                                           | 1/10 [00:02<00:18,  2.04s/trial, best loss: -0.9791666666666666]"
     ]
    },
    {
     "name": "stderr",
     "output_type": "stream",
     "text": [
      "C:\\Users\\velmurug\\Documents\\full_stability\\transformers\\IndexBasedTransformer.py:58: PerformanceWarning: DataFrame is highly fragmented.  This is usually the result of calling `frame.insert` many times, which has poor performance.  Consider joining all columns at once using pd.concat(axis=1) instead.  To get a de-fragmented frame, use `newframe = frame.copy()`\n",
      "  dt_transformed[col] = 0\n",
      "\n"
     ]
    },
    {
     "name": "stdout",
     "output_type": "stream",
     "text": [
      "Accuracy:                                                                                                              \n",
      "1.0                                                                                                                    \n",
      " 10%|████▊                                           | 1/10 [00:02<00:18,  2.04s/trial, best loss: -0.9791666666666666]"
     ]
    },
    {
     "name": "stderr",
     "output_type": "stream",
     "text": [
      "C:\\Users\\velmurug\\Documents\\full_stability\\transformers\\IndexBasedTransformer.py:58: PerformanceWarning: DataFrame is highly fragmented.  This is usually the result of calling `frame.insert` many times, which has poor performance.  Consider joining all columns at once using pd.concat(axis=1) instead.  To get a de-fragmented frame, use `newframe = frame.copy()`\n",
      "  dt_transformed[col] = 0\n",
      "\n"
     ]
    },
    {
     "name": "stdout",
     "output_type": "stream",
     "text": [
      "Accuracy:                                                                                                              \n",
      "0.96875                                                                                                                \n",
      " 10%|████▊                                           | 1/10 [00:03<00:18,  2.04s/trial, best loss: -0.9791666666666666]"
     ]
    },
    {
     "name": "stderr",
     "output_type": "stream",
     "text": [
      "C:\\Users\\velmurug\\Documents\\full_stability\\transformers\\IndexBasedTransformer.py:58: PerformanceWarning: DataFrame is highly fragmented.  This is usually the result of calling `frame.insert` many times, which has poor performance.  Consider joining all columns at once using pd.concat(axis=1) instead.  To get a de-fragmented frame, use `newframe = frame.copy()`\n",
      "  dt_transformed[col] = 0\n",
      "\n"
     ]
    },
    {
     "name": "stdout",
     "output_type": "stream",
     "text": [
      "Accuracy:                                                                                                              \n",
      "0.96875                                                                                                                \n",
      "{'var_smoothing': 1e-06}                                                                                               \n",
      " 20%|█████████▌                                      | 2/10 [00:04<00:16,  2.04s/trial, best loss: -0.9791666666666666]"
     ]
    },
    {
     "name": "stderr",
     "output_type": "stream",
     "text": [
      "C:\\Users\\velmurug\\Documents\\full_stability\\transformers\\IndexBasedTransformer.py:58: PerformanceWarning: DataFrame is highly fragmented.  This is usually the result of calling `frame.insert` many times, which has poor performance.  Consider joining all columns at once using pd.concat(axis=1) instead.  To get a de-fragmented frame, use `newframe = frame.copy()`\n",
      "  dt_transformed[col] = 0\n",
      "\n"
     ]
    },
    {
     "name": "stdout",
     "output_type": "stream",
     "text": [
      "Accuracy:                                                                                                              \n",
      "1.0                                                                                                                    \n",
      " 20%|█████████▌                                      | 2/10 [00:04<00:16,  2.04s/trial, best loss: -0.9791666666666666]"
     ]
    },
    {
     "name": "stderr",
     "output_type": "stream",
     "text": [
      "C:\\Users\\velmurug\\Documents\\full_stability\\transformers\\IndexBasedTransformer.py:58: PerformanceWarning: DataFrame is highly fragmented.  This is usually the result of calling `frame.insert` many times, which has poor performance.  Consider joining all columns at once using pd.concat(axis=1) instead.  To get a de-fragmented frame, use `newframe = frame.copy()`\n",
      "  dt_transformed[col] = 0\n",
      "\n"
     ]
    },
    {
     "name": "stdout",
     "output_type": "stream",
     "text": [
      "Accuracy:                                                                                                              \n",
      "0.96875                                                                                                                \n",
      " 20%|█████████▌                                      | 2/10 [00:05<00:16,  2.04s/trial, best loss: -0.9791666666666666]"
     ]
    },
    {
     "name": "stderr",
     "output_type": "stream",
     "text": [
      "C:\\Users\\velmurug\\Documents\\full_stability\\transformers\\IndexBasedTransformer.py:58: PerformanceWarning: DataFrame is highly fragmented.  This is usually the result of calling `frame.insert` many times, which has poor performance.  Consider joining all columns at once using pd.concat(axis=1) instead.  To get a de-fragmented frame, use `newframe = frame.copy()`\n",
      "  dt_transformed[col] = 0\n",
      "\n"
     ]
    },
    {
     "name": "stdout",
     "output_type": "stream",
     "text": [
      "Accuracy:                                                                                                              \n",
      "0.96875                                                                                                                \n",
      "{'var_smoothing': 3.5111917342151277e-08}                                                                              \n",
      " 30%|██████████████▍                                 | 3/10 [00:06<00:14,  2.04s/trial, best loss: -0.9791666666666666]"
     ]
    },
    {
     "name": "stderr",
     "output_type": "stream",
     "text": [
      "C:\\Users\\velmurug\\Documents\\full_stability\\transformers\\IndexBasedTransformer.py:58: PerformanceWarning: DataFrame is highly fragmented.  This is usually the result of calling `frame.insert` many times, which has poor performance.  Consider joining all columns at once using pd.concat(axis=1) instead.  To get a de-fragmented frame, use `newframe = frame.copy()`\n",
      "  dt_transformed[col] = 0\n",
      "\n"
     ]
    },
    {
     "name": "stdout",
     "output_type": "stream",
     "text": [
      "Accuracy:                                                                                                              \n",
      "1.0                                                                                                                    \n",
      " 30%|██████████████▍                                 | 3/10 [00:06<00:14,  2.04s/trial, best loss: -0.9791666666666666]"
     ]
    },
    {
     "name": "stderr",
     "output_type": "stream",
     "text": [
      "C:\\Users\\velmurug\\Documents\\full_stability\\transformers\\IndexBasedTransformer.py:58: PerformanceWarning: DataFrame is highly fragmented.  This is usually the result of calling `frame.insert` many times, which has poor performance.  Consider joining all columns at once using pd.concat(axis=1) instead.  To get a de-fragmented frame, use `newframe = frame.copy()`\n",
      "  dt_transformed[col] = 0\n",
      "\n"
     ]
    },
    {
     "name": "stdout",
     "output_type": "stream",
     "text": [
      "Accuracy:                                                                                                              \n",
      "0.96875                                                                                                                \n",
      " 30%|██████████████▍                                 | 3/10 [00:07<00:14,  2.04s/trial, best loss: -0.9791666666666666]"
     ]
    },
    {
     "name": "stderr",
     "output_type": "stream",
     "text": [
      "C:\\Users\\velmurug\\Documents\\full_stability\\transformers\\IndexBasedTransformer.py:58: PerformanceWarning: DataFrame is highly fragmented.  This is usually the result of calling `frame.insert` many times, which has poor performance.  Consider joining all columns at once using pd.concat(axis=1) instead.  To get a de-fragmented frame, use `newframe = frame.copy()`\n",
      "  dt_transformed[col] = 0\n",
      "\n"
     ]
    },
    {
     "name": "stdout",
     "output_type": "stream",
     "text": [
      "Accuracy:                                                                                                              \n",
      "0.96875                                                                                                                \n",
      "{'var_smoothing': 0.12328467394420659}                                                                                 \n",
      " 40%|███████████████████▏                            | 4/10 [00:08<00:12,  2.07s/trial, best loss: -0.9791666666666666]"
     ]
    },
    {
     "name": "stderr",
     "output_type": "stream",
     "text": [
      "C:\\Users\\velmurug\\Documents\\full_stability\\transformers\\IndexBasedTransformer.py:58: PerformanceWarning: DataFrame is highly fragmented.  This is usually the result of calling `frame.insert` many times, which has poor performance.  Consider joining all columns at once using pd.concat(axis=1) instead.  To get a de-fragmented frame, use `newframe = frame.copy()`\n",
      "  dt_transformed[col] = 0\n",
      "\n"
     ]
    },
    {
     "name": "stdout",
     "output_type": "stream",
     "text": [
      "Accuracy:                                                                                                              \n",
      "1.0                                                                                                                    \n",
      " 40%|███████████████████▏                            | 4/10 [00:08<00:12,  2.07s/trial, best loss: -0.9791666666666666]"
     ]
    },
    {
     "name": "stderr",
     "output_type": "stream",
     "text": [
      "C:\\Users\\velmurug\\Documents\\full_stability\\transformers\\IndexBasedTransformer.py:58: PerformanceWarning: DataFrame is highly fragmented.  This is usually the result of calling `frame.insert` many times, which has poor performance.  Consider joining all columns at once using pd.concat(axis=1) instead.  To get a de-fragmented frame, use `newframe = frame.copy()`\n",
      "  dt_transformed[col] = 0\n",
      "\n"
     ]
    },
    {
     "name": "stdout",
     "output_type": "stream",
     "text": [
      "Accuracy:                                                                                                              \n",
      "0.9375                                                                                                                 \n",
      " 40%|███████████████████▏                            | 4/10 [00:09<00:12,  2.07s/trial, best loss: -0.9791666666666666]"
     ]
    },
    {
     "name": "stderr",
     "output_type": "stream",
     "text": [
      "C:\\Users\\velmurug\\Documents\\full_stability\\transformers\\IndexBasedTransformer.py:58: PerformanceWarning: DataFrame is highly fragmented.  This is usually the result of calling `frame.insert` many times, which has poor performance.  Consider joining all columns at once using pd.concat(axis=1) instead.  To get a de-fragmented frame, use `newframe = frame.copy()`\n",
      "  dt_transformed[col] = 0\n",
      "\n"
     ]
    },
    {
     "name": "stdout",
     "output_type": "stream",
     "text": [
      "Accuracy:                                                                                                              \n",
      "0.96875                                                                                                                \n",
      "{'var_smoothing': 8.111308307896856e-09}                                                                               \n",
      " 50%|████████████████████████                        | 5/10 [00:10<00:10,  2.10s/trial, best loss: -0.9791666666666666]"
     ]
    },
    {
     "name": "stderr",
     "output_type": "stream",
     "text": [
      "C:\\Users\\velmurug\\Documents\\full_stability\\transformers\\IndexBasedTransformer.py:58: PerformanceWarning: DataFrame is highly fragmented.  This is usually the result of calling `frame.insert` many times, which has poor performance.  Consider joining all columns at once using pd.concat(axis=1) instead.  To get a de-fragmented frame, use `newframe = frame.copy()`\n",
      "  dt_transformed[col] = 0\n",
      "\n"
     ]
    },
    {
     "name": "stdout",
     "output_type": "stream",
     "text": [
      "Accuracy:                                                                                                              \n",
      "1.0                                                                                                                    \n",
      " 50%|████████████████████████                        | 5/10 [00:11<00:10,  2.10s/trial, best loss: -0.9791666666666666]"
     ]
    },
    {
     "name": "stderr",
     "output_type": "stream",
     "text": [
      "C:\\Users\\velmurug\\Documents\\full_stability\\transformers\\IndexBasedTransformer.py:58: PerformanceWarning: DataFrame is highly fragmented.  This is usually the result of calling `frame.insert` many times, which has poor performance.  Consider joining all columns at once using pd.concat(axis=1) instead.  To get a de-fragmented frame, use `newframe = frame.copy()`\n",
      "  dt_transformed[col] = 0\n",
      "\n"
     ]
    },
    {
     "name": "stdout",
     "output_type": "stream",
     "text": [
      "Accuracy:                                                                                                              \n",
      "0.96875                                                                                                                \n",
      " 50%|████████████████████████                        | 5/10 [00:11<00:10,  2.10s/trial, best loss: -0.9791666666666666]"
     ]
    },
    {
     "name": "stderr",
     "output_type": "stream",
     "text": [
      "C:\\Users\\velmurug\\Documents\\full_stability\\transformers\\IndexBasedTransformer.py:58: PerformanceWarning: DataFrame is highly fragmented.  This is usually the result of calling `frame.insert` many times, which has poor performance.  Consider joining all columns at once using pd.concat(axis=1) instead.  To get a de-fragmented frame, use `newframe = frame.copy()`\n",
      "  dt_transformed[col] = 0\n",
      "\n"
     ]
    },
    {
     "name": "stdout",
     "output_type": "stream",
     "text": [
      "Accuracy:                                                                                                              \n",
      "0.96875                                                                                                                \n",
      "{'var_smoothing': 0.006579332246575682}                                                                                \n",
      " 60%|████████████████████████████▊                   | 6/10 [00:12<00:08,  2.08s/trial, best loss: -0.9791666666666666]"
     ]
    },
    {
     "name": "stderr",
     "output_type": "stream",
     "text": [
      "C:\\Users\\velmurug\\Documents\\full_stability\\transformers\\IndexBasedTransformer.py:58: PerformanceWarning: DataFrame is highly fragmented.  This is usually the result of calling `frame.insert` many times, which has poor performance.  Consider joining all columns at once using pd.concat(axis=1) instead.  To get a de-fragmented frame, use `newframe = frame.copy()`\n",
      "  dt_transformed[col] = 0\n",
      "\n"
     ]
    },
    {
     "name": "stdout",
     "output_type": "stream",
     "text": [
      "Accuracy:                                                                                                              \n",
      "1.0                                                                                                                    \n",
      " 60%|████████████████████████████▊                   | 6/10 [00:13<00:08,  2.08s/trial, best loss: -0.9791666666666666]"
     ]
    },
    {
     "name": "stderr",
     "output_type": "stream",
     "text": [
      "C:\\Users\\velmurug\\Documents\\full_stability\\transformers\\IndexBasedTransformer.py:58: PerformanceWarning: DataFrame is highly fragmented.  This is usually the result of calling `frame.insert` many times, which has poor performance.  Consider joining all columns at once using pd.concat(axis=1) instead.  To get a de-fragmented frame, use `newframe = frame.copy()`\n",
      "  dt_transformed[col] = 0\n",
      "\n"
     ]
    },
    {
     "name": "stdout",
     "output_type": "stream",
     "text": [
      "Accuracy:                                                                                                              \n",
      "0.96875                                                                                                                \n",
      " 60%|████████████████████████████▊                   | 6/10 [00:13<00:08,  2.08s/trial, best loss: -0.9791666666666666]"
     ]
    },
    {
     "name": "stderr",
     "output_type": "stream",
     "text": [
      "C:\\Users\\velmurug\\Documents\\full_stability\\transformers\\IndexBasedTransformer.py:58: PerformanceWarning: DataFrame is highly fragmented.  This is usually the result of calling `frame.insert` many times, which has poor performance.  Consider joining all columns at once using pd.concat(axis=1) instead.  To get a de-fragmented frame, use `newframe = frame.copy()`\n",
      "  dt_transformed[col] = 0\n",
      "\n"
     ]
    },
    {
     "name": "stdout",
     "output_type": "stream",
     "text": [
      "Accuracy:                                                                                                              \n",
      "0.96875                                                                                                                \n",
      "{'var_smoothing': 0.08111308307896872}                                                                                 \n",
      " 70%|█████████████████████████████████▌              | 7/10 [00:14<00:06,  2.06s/trial, best loss: -0.9791666666666666]"
     ]
    },
    {
     "name": "stderr",
     "output_type": "stream",
     "text": [
      "C:\\Users\\velmurug\\Documents\\full_stability\\transformers\\IndexBasedTransformer.py:58: PerformanceWarning: DataFrame is highly fragmented.  This is usually the result of calling `frame.insert` many times, which has poor performance.  Consider joining all columns at once using pd.concat(axis=1) instead.  To get a de-fragmented frame, use `newframe = frame.copy()`\n",
      "  dt_transformed[col] = 0\n",
      "\n"
     ]
    },
    {
     "name": "stdout",
     "output_type": "stream",
     "text": [
      "Accuracy:                                                                                                              \n",
      "1.0                                                                                                                    \n",
      " 70%|█████████████████████████████████▌              | 7/10 [00:15<00:06,  2.06s/trial, best loss: -0.9791666666666666]"
     ]
    },
    {
     "name": "stderr",
     "output_type": "stream",
     "text": [
      "C:\\Users\\velmurug\\Documents\\full_stability\\transformers\\IndexBasedTransformer.py:58: PerformanceWarning: DataFrame is highly fragmented.  This is usually the result of calling `frame.insert` many times, which has poor performance.  Consider joining all columns at once using pd.concat(axis=1) instead.  To get a de-fragmented frame, use `newframe = frame.copy()`\n",
      "  dt_transformed[col] = 0\n",
      "\n"
     ]
    },
    {
     "name": "stdout",
     "output_type": "stream",
     "text": [
      "Accuracy:                                                                                                              \n",
      "0.96875                                                                                                                \n",
      " 70%|█████████████████████████████████▌              | 7/10 [00:15<00:06,  2.06s/trial, best loss: -0.9791666666666666]"
     ]
    },
    {
     "name": "stderr",
     "output_type": "stream",
     "text": [
      "C:\\Users\\velmurug\\Documents\\full_stability\\transformers\\IndexBasedTransformer.py:58: PerformanceWarning: DataFrame is highly fragmented.  This is usually the result of calling `frame.insert` many times, which has poor performance.  Consider joining all columns at once using pd.concat(axis=1) instead.  To get a de-fragmented frame, use `newframe = frame.copy()`\n",
      "  dt_transformed[col] = 0\n",
      "\n"
     ]
    },
    {
     "name": "stdout",
     "output_type": "stream",
     "text": [
      "Accuracy:                                                                                                              \n",
      "0.96875                                                                                                                \n",
      "{'var_smoothing': 0.0008111308307896872}                                                                               \n",
      " 80%|██████████████████████████████████████▍         | 8/10 [00:16<00:04,  2.09s/trial, best loss: -0.9791666666666666]"
     ]
    },
    {
     "name": "stderr",
     "output_type": "stream",
     "text": [
      "C:\\Users\\velmurug\\Documents\\full_stability\\transformers\\IndexBasedTransformer.py:58: PerformanceWarning: DataFrame is highly fragmented.  This is usually the result of calling `frame.insert` many times, which has poor performance.  Consider joining all columns at once using pd.concat(axis=1) instead.  To get a de-fragmented frame, use `newframe = frame.copy()`\n",
      "  dt_transformed[col] = 0\n",
      "\n"
     ]
    },
    {
     "name": "stdout",
     "output_type": "stream",
     "text": [
      "Accuracy:                                                                                                              \n",
      "1.0                                                                                                                    \n",
      " 80%|██████████████████████████████████████▍         | 8/10 [00:17<00:04,  2.09s/trial, best loss: -0.9791666666666666]"
     ]
    },
    {
     "name": "stderr",
     "output_type": "stream",
     "text": [
      "C:\\Users\\velmurug\\Documents\\full_stability\\transformers\\IndexBasedTransformer.py:58: PerformanceWarning: DataFrame is highly fragmented.  This is usually the result of calling `frame.insert` many times, which has poor performance.  Consider joining all columns at once using pd.concat(axis=1) instead.  To get a de-fragmented frame, use `newframe = frame.copy()`\n",
      "  dt_transformed[col] = 0\n",
      "\n"
     ]
    },
    {
     "name": "stdout",
     "output_type": "stream",
     "text": [
      "Accuracy:                                                                                                              \n",
      "0.96875                                                                                                                \n",
      " 80%|██████████████████████████████████████▍         | 8/10 [00:18<00:04,  2.09s/trial, best loss: -0.9791666666666666]"
     ]
    },
    {
     "name": "stderr",
     "output_type": "stream",
     "text": [
      "C:\\Users\\velmurug\\Documents\\full_stability\\transformers\\IndexBasedTransformer.py:58: PerformanceWarning: DataFrame is highly fragmented.  This is usually the result of calling `frame.insert` many times, which has poor performance.  Consider joining all columns at once using pd.concat(axis=1) instead.  To get a de-fragmented frame, use `newframe = frame.copy()`\n",
      "  dt_transformed[col] = 0\n",
      "\n"
     ]
    },
    {
     "name": "stdout",
     "output_type": "stream",
     "text": [
      "Accuracy:                                                                                                              \n",
      "0.96875                                                                                                                \n",
      "{'var_smoothing': 5.336699231206313e-06}                                                                               \n",
      " 90%|███████████████████████████████████████████▏    | 9/10 [00:18<00:02,  2.11s/trial, best loss: -0.9791666666666666]"
     ]
    },
    {
     "name": "stderr",
     "output_type": "stream",
     "text": [
      "C:\\Users\\velmurug\\Documents\\full_stability\\transformers\\IndexBasedTransformer.py:58: PerformanceWarning: DataFrame is highly fragmented.  This is usually the result of calling `frame.insert` many times, which has poor performance.  Consider joining all columns at once using pd.concat(axis=1) instead.  To get a de-fragmented frame, use `newframe = frame.copy()`\n",
      "  dt_transformed[col] = 0\n",
      "\n"
     ]
    },
    {
     "name": "stdout",
     "output_type": "stream",
     "text": [
      "Accuracy:                                                                                                              \n",
      "1.0                                                                                                                    \n",
      " 90%|███████████████████████████████████████████▏    | 9/10 [00:19<00:02,  2.11s/trial, best loss: -0.9791666666666666]"
     ]
    },
    {
     "name": "stderr",
     "output_type": "stream",
     "text": [
      "C:\\Users\\velmurug\\Documents\\full_stability\\transformers\\IndexBasedTransformer.py:58: PerformanceWarning: DataFrame is highly fragmented.  This is usually the result of calling `frame.insert` many times, which has poor performance.  Consider joining all columns at once using pd.concat(axis=1) instead.  To get a de-fragmented frame, use `newframe = frame.copy()`\n",
      "  dt_transformed[col] = 0\n",
      "\n"
     ]
    },
    {
     "name": "stdout",
     "output_type": "stream",
     "text": [
      "Accuracy:                                                                                                              \n",
      "0.96875                                                                                                                \n",
      " 90%|███████████████████████████████████████████▏    | 9/10 [00:20<00:02,  2.11s/trial, best loss: -0.9791666666666666]"
     ]
    },
    {
     "name": "stderr",
     "output_type": "stream",
     "text": [
      "C:\\Users\\velmurug\\Documents\\full_stability\\transformers\\IndexBasedTransformer.py:58: PerformanceWarning: DataFrame is highly fragmented.  This is usually the result of calling `frame.insert` many times, which has poor performance.  Consider joining all columns at once using pd.concat(axis=1) instead.  To get a de-fragmented frame, use `newframe = frame.copy()`\n",
      "  dt_transformed[col] = 0\n",
      "\n"
     ]
    },
    {
     "name": "stdout",
     "output_type": "stream",
     "text": [
      "Accuracy:                                                                                                              \n",
      "0.96875                                                                                                                \n",
      "100%|███████████████████████████████████████████████| 10/10 [00:20<00:00,  2.09s/trial, best loss: -0.9791666666666666]\n",
      "Optimising 19 of 20 buckets\n",
      "{'var_smoothing': 4.328761281083062e-05}                                                                               \n",
      "  0%|                                                                           | 0/10 [00:00<?, ?trial/s, best loss=?]"
     ]
    },
    {
     "name": "stderr",
     "output_type": "stream",
     "text": [
      "C:\\Users\\velmurug\\Documents\\full_stability\\transformers\\IndexBasedTransformer.py:58: PerformanceWarning: DataFrame is highly fragmented.  This is usually the result of calling `frame.insert` many times, which has poor performance.  Consider joining all columns at once using pd.concat(axis=1) instead.  To get a de-fragmented frame, use `newframe = frame.copy()`\n",
      "  dt_transformed[col] = 0\n",
      "\n"
     ]
    },
    {
     "name": "stdout",
     "output_type": "stream",
     "text": [
      "Accuracy:                                                                                                              \n",
      "0.8928571428571428                                                                                                     \n",
      "  0%|                                                                           | 0/10 [00:00<?, ?trial/s, best loss=?]"
     ]
    },
    {
     "name": "stderr",
     "output_type": "stream",
     "text": [
      "C:\\Users\\velmurug\\Documents\\full_stability\\transformers\\IndexBasedTransformer.py:58: PerformanceWarning: DataFrame is highly fragmented.  This is usually the result of calling `frame.insert` many times, which has poor performance.  Consider joining all columns at once using pd.concat(axis=1) instead.  To get a de-fragmented frame, use `newframe = frame.copy()`\n",
      "  dt_transformed[col] = 0\n",
      "\n"
     ]
    },
    {
     "name": "stdout",
     "output_type": "stream",
     "text": [
      "Accuracy:                                                                                                              \n",
      "0.9583333333333333                                                                                                     \n",
      "  0%|                                                                           | 0/10 [00:01<?, ?trial/s, best loss=?]"
     ]
    },
    {
     "name": "stderr",
     "output_type": "stream",
     "text": [
      "C:\\Users\\velmurug\\Documents\\full_stability\\transformers\\IndexBasedTransformer.py:58: PerformanceWarning: DataFrame is highly fragmented.  This is usually the result of calling `frame.insert` many times, which has poor performance.  Consider joining all columns at once using pd.concat(axis=1) instead.  To get a de-fragmented frame, use `newframe = frame.copy()`\n",
      "  dt_transformed[col] = 0\n",
      "\n"
     ]
    },
    {
     "name": "stdout",
     "output_type": "stream",
     "text": [
      "Accuracy:                                                                                                              \n",
      "0.9615384615384616                                                                                                     \n",
      "{'var_smoothing': 6.579332246575682e-07}                                                                               \n",
      " 10%|████▊                                           | 1/10 [00:02<00:19,  2.16s/trial, best loss: -0.9375763125763125]"
     ]
    },
    {
     "name": "stderr",
     "output_type": "stream",
     "text": [
      "C:\\Users\\velmurug\\Documents\\full_stability\\transformers\\IndexBasedTransformer.py:58: PerformanceWarning: DataFrame is highly fragmented.  This is usually the result of calling `frame.insert` many times, which has poor performance.  Consider joining all columns at once using pd.concat(axis=1) instead.  To get a de-fragmented frame, use `newframe = frame.copy()`\n",
      "  dt_transformed[col] = 0\n",
      "\n"
     ]
    },
    {
     "name": "stdout",
     "output_type": "stream",
     "text": [
      "Accuracy:                                                                                                              \n",
      "0.8928571428571428                                                                                                     \n",
      " 10%|████▊                                           | 1/10 [00:02<00:19,  2.16s/trial, best loss: -0.9375763125763125]"
     ]
    },
    {
     "name": "stderr",
     "output_type": "stream",
     "text": [
      "C:\\Users\\velmurug\\Documents\\full_stability\\transformers\\IndexBasedTransformer.py:58: PerformanceWarning: DataFrame is highly fragmented.  This is usually the result of calling `frame.insert` many times, which has poor performance.  Consider joining all columns at once using pd.concat(axis=1) instead.  To get a de-fragmented frame, use `newframe = frame.copy()`\n",
      "  dt_transformed[col] = 0\n",
      "\n"
     ]
    },
    {
     "name": "stdout",
     "output_type": "stream",
     "text": [
      "Accuracy:                                                                                                              \n",
      "0.9583333333333333                                                                                                     \n",
      " 10%|████▊                                           | 1/10 [00:03<00:19,  2.16s/trial, best loss: -0.9375763125763125]"
     ]
    },
    {
     "name": "stderr",
     "output_type": "stream",
     "text": [
      "C:\\Users\\velmurug\\Documents\\full_stability\\transformers\\IndexBasedTransformer.py:58: PerformanceWarning: DataFrame is highly fragmented.  This is usually the result of calling `frame.insert` many times, which has poor performance.  Consider joining all columns at once using pd.concat(axis=1) instead.  To get a de-fragmented frame, use `newframe = frame.copy()`\n",
      "  dt_transformed[col] = 0\n",
      "\n"
     ]
    },
    {
     "name": "stdout",
     "output_type": "stream",
     "text": [
      "Accuracy:                                                                                                              \n",
      "0.9615384615384616                                                                                                     \n",
      "{'var_smoothing': 2.848035868435799e-08}                                                                               \n",
      " 20%|█████████▌                                      | 2/10 [00:04<00:17,  2.14s/trial, best loss: -0.9375763125763125]"
     ]
    },
    {
     "name": "stderr",
     "output_type": "stream",
     "text": [
      "C:\\Users\\velmurug\\Documents\\full_stability\\transformers\\IndexBasedTransformer.py:58: PerformanceWarning: DataFrame is highly fragmented.  This is usually the result of calling `frame.insert` many times, which has poor performance.  Consider joining all columns at once using pd.concat(axis=1) instead.  To get a de-fragmented frame, use `newframe = frame.copy()`\n",
      "  dt_transformed[col] = 0\n",
      "\n"
     ]
    },
    {
     "name": "stdout",
     "output_type": "stream",
     "text": [
      "Accuracy:                                                                                                              \n",
      "0.8928571428571428                                                                                                     \n",
      " 20%|█████████▌                                      | 2/10 [00:04<00:17,  2.14s/trial, best loss: -0.9375763125763125]"
     ]
    },
    {
     "name": "stderr",
     "output_type": "stream",
     "text": [
      "C:\\Users\\velmurug\\Documents\\full_stability\\transformers\\IndexBasedTransformer.py:58: PerformanceWarning: DataFrame is highly fragmented.  This is usually the result of calling `frame.insert` many times, which has poor performance.  Consider joining all columns at once using pd.concat(axis=1) instead.  To get a de-fragmented frame, use `newframe = frame.copy()`\n",
      "  dt_transformed[col] = 0\n",
      "\n"
     ]
    },
    {
     "name": "stdout",
     "output_type": "stream",
     "text": [
      "Accuracy:                                                                                                              \n",
      "0.9583333333333333                                                                                                     \n",
      " 20%|█████████▌                                      | 2/10 [00:05<00:17,  2.14s/trial, best loss: -0.9375763125763125]"
     ]
    },
    {
     "name": "stderr",
     "output_type": "stream",
     "text": [
      "C:\\Users\\velmurug\\Documents\\full_stability\\transformers\\IndexBasedTransformer.py:58: PerformanceWarning: DataFrame is highly fragmented.  This is usually the result of calling `frame.insert` many times, which has poor performance.  Consider joining all columns at once using pd.concat(axis=1) instead.  To get a de-fragmented frame, use `newframe = frame.copy()`\n",
      "  dt_transformed[col] = 0\n",
      "\n"
     ]
    },
    {
     "name": "stdout",
     "output_type": "stream",
     "text": [
      "Accuracy:                                                                                                              \n",
      "0.9615384615384616                                                                                                     \n",
      " 20%|█████████▌                                      | 2/10 [00:06<00:17,  2.14s/trial, best loss: -0.9375763125763125]"
     ]
    },
    {
     "name": "stderr",
     "output_type": "stream",
     "text": [
      "C:\\Users\\velmurug\\Documents\\full_stability\\transformers\\IndexBasedTransformer.py:58: PerformanceWarning: DataFrame is highly fragmented.  This is usually the result of calling `frame.insert` many times, which has poor performance.  Consider joining all columns at once using pd.concat(axis=1) instead.  To get a de-fragmented frame, use `newframe = frame.copy()`\n",
      "  dt_transformed[col] = 0\n",
      "\n"
     ]
    },
    {
     "name": "stdout",
     "output_type": "stream",
     "text": [
      "{'var_smoothing': 0.001873817422860383}                                                                                \n",
      "Accuracy:                                                                                                              \n",
      "0.8928571428571428                                                                                                     \n",
      " 30%|██████████████▍                                 | 3/10 [00:07<00:16,  2.33s/trial, best loss: -0.9375763125763125]"
     ]
    },
    {
     "name": "stderr",
     "output_type": "stream",
     "text": [
      "C:\\Users\\velmurug\\Documents\\full_stability\\transformers\\IndexBasedTransformer.py:58: PerformanceWarning: DataFrame is highly fragmented.  This is usually the result of calling `frame.insert` many times, which has poor performance.  Consider joining all columns at once using pd.concat(axis=1) instead.  To get a de-fragmented frame, use `newframe = frame.copy()`\n",
      "  dt_transformed[col] = 0\n",
      "\n"
     ]
    },
    {
     "name": "stdout",
     "output_type": "stream",
     "text": [
      "Accuracy:                                                                                                              \n",
      "0.9583333333333333                                                                                                     \n",
      " 30%|██████████████▍                                 | 3/10 [00:08<00:16,  2.33s/trial, best loss: -0.9375763125763125]"
     ]
    },
    {
     "name": "stderr",
     "output_type": "stream",
     "text": [
      "C:\\Users\\velmurug\\Documents\\full_stability\\transformers\\IndexBasedTransformer.py:58: PerformanceWarning: DataFrame is highly fragmented.  This is usually the result of calling `frame.insert` many times, which has poor performance.  Consider joining all columns at once using pd.concat(axis=1) instead.  To get a de-fragmented frame, use `newframe = frame.copy()`\n",
      "  dt_transformed[col] = 0\n",
      "\n"
     ]
    },
    {
     "name": "stdout",
     "output_type": "stream",
     "text": [
      "Accuracy:                                                                                                              \n",
      "0.9615384615384616                                                                                                     \n",
      "{'var_smoothing': 2.310129700083158e-09}                                                                               \n",
      " 40%|███████████████████▏                            | 4/10 [00:09<00:13,  2.29s/trial, best loss: -0.9375763125763125]"
     ]
    },
    {
     "name": "stderr",
     "output_type": "stream",
     "text": [
      "C:\\Users\\velmurug\\Documents\\full_stability\\transformers\\IndexBasedTransformer.py:58: PerformanceWarning: DataFrame is highly fragmented.  This is usually the result of calling `frame.insert` many times, which has poor performance.  Consider joining all columns at once using pd.concat(axis=1) instead.  To get a de-fragmented frame, use `newframe = frame.copy()`\n",
      "  dt_transformed[col] = 0\n",
      "\n"
     ]
    },
    {
     "name": "stdout",
     "output_type": "stream",
     "text": [
      "Accuracy:                                                                                                              \n",
      "0.8928571428571428                                                                                                     \n",
      " 40%|███████████████████▏                            | 4/10 [00:09<00:13,  2.29s/trial, best loss: -0.9375763125763125]"
     ]
    },
    {
     "name": "stderr",
     "output_type": "stream",
     "text": [
      "C:\\Users\\velmurug\\Documents\\full_stability\\transformers\\IndexBasedTransformer.py:58: PerformanceWarning: DataFrame is highly fragmented.  This is usually the result of calling `frame.insert` many times, which has poor performance.  Consider joining all columns at once using pd.concat(axis=1) instead.  To get a de-fragmented frame, use `newframe = frame.copy()`\n",
      "  dt_transformed[col] = 0\n",
      "\n"
     ]
    },
    {
     "name": "stdout",
     "output_type": "stream",
     "text": [
      "Accuracy:                                                                                                              \n",
      "0.9583333333333333                                                                                                     \n",
      " 40%|███████████████████▏                            | 4/10 [00:10<00:13,  2.29s/trial, best loss: -0.9375763125763125]"
     ]
    },
    {
     "name": "stderr",
     "output_type": "stream",
     "text": [
      "C:\\Users\\velmurug\\Documents\\full_stability\\transformers\\IndexBasedTransformer.py:58: PerformanceWarning: DataFrame is highly fragmented.  This is usually the result of calling `frame.insert` many times, which has poor performance.  Consider joining all columns at once using pd.concat(axis=1) instead.  To get a de-fragmented frame, use `newframe = frame.copy()`\n",
      "  dt_transformed[col] = 0\n",
      "\n"
     ]
    },
    {
     "name": "stdout",
     "output_type": "stream",
     "text": [
      "Accuracy:                                                                                                              \n",
      "0.9615384615384616                                                                                                     \n",
      "{'var_smoothing': 0.533669923120631}                                                                                   \n",
      " 50%|████████████████████████                        | 5/10 [00:11<00:11,  2.23s/trial, best loss: -0.9375763125763125]"
     ]
    },
    {
     "name": "stderr",
     "output_type": "stream",
     "text": [
      "C:\\Users\\velmurug\\Documents\\full_stability\\transformers\\IndexBasedTransformer.py:58: PerformanceWarning: DataFrame is highly fragmented.  This is usually the result of calling `frame.insert` many times, which has poor performance.  Consider joining all columns at once using pd.concat(axis=1) instead.  To get a de-fragmented frame, use `newframe = frame.copy()`\n",
      "  dt_transformed[col] = 0\n",
      "\n"
     ]
    },
    {
     "name": "stdout",
     "output_type": "stream",
     "text": [
      "Accuracy:                                                                                                              \n",
      "0.7857142857142857                                                                                                     \n",
      " 50%|████████████████████████                        | 5/10 [00:12<00:11,  2.23s/trial, best loss: -0.9375763125763125]"
     ]
    },
    {
     "name": "stderr",
     "output_type": "stream",
     "text": [
      "C:\\Users\\velmurug\\Documents\\full_stability\\transformers\\IndexBasedTransformer.py:58: PerformanceWarning: DataFrame is highly fragmented.  This is usually the result of calling `frame.insert` many times, which has poor performance.  Consider joining all columns at once using pd.concat(axis=1) instead.  To get a de-fragmented frame, use `newframe = frame.copy()`\n",
      "  dt_transformed[col] = 0\n",
      "\n"
     ]
    },
    {
     "name": "stdout",
     "output_type": "stream",
     "text": [
      "Accuracy:                                                                                                              \n",
      "0.8333333333333334                                                                                                     \n",
      " 50%|████████████████████████                        | 5/10 [00:12<00:11,  2.23s/trial, best loss: -0.9375763125763125]"
     ]
    },
    {
     "name": "stderr",
     "output_type": "stream",
     "text": [
      "C:\\Users\\velmurug\\Documents\\full_stability\\transformers\\IndexBasedTransformer.py:58: PerformanceWarning: DataFrame is highly fragmented.  This is usually the result of calling `frame.insert` many times, which has poor performance.  Consider joining all columns at once using pd.concat(axis=1) instead.  To get a de-fragmented frame, use `newframe = frame.copy()`\n",
      "  dt_transformed[col] = 0\n",
      "\n"
     ]
    },
    {
     "name": "stdout",
     "output_type": "stream",
     "text": [
      "Accuracy:                                                                                                              \n",
      "0.8846153846153846                                                                                                     \n",
      "{'var_smoothing': 1.873817422860383e-06}                                                                               \n",
      " 60%|████████████████████████████▊                   | 6/10 [00:13<00:08,  2.20s/trial, best loss: -0.9375763125763125]"
     ]
    },
    {
     "name": "stderr",
     "output_type": "stream",
     "text": [
      "C:\\Users\\velmurug\\Documents\\full_stability\\transformers\\IndexBasedTransformer.py:58: PerformanceWarning: DataFrame is highly fragmented.  This is usually the result of calling `frame.insert` many times, which has poor performance.  Consider joining all columns at once using pd.concat(axis=1) instead.  To get a de-fragmented frame, use `newframe = frame.copy()`\n",
      "  dt_transformed[col] = 0\n",
      "\n"
     ]
    },
    {
     "name": "stdout",
     "output_type": "stream",
     "text": [
      "Accuracy:                                                                                                              \n",
      "0.8928571428571428                                                                                                     \n",
      " 60%|████████████████████████████▊                   | 6/10 [00:14<00:08,  2.20s/trial, best loss: -0.9375763125763125]"
     ]
    },
    {
     "name": "stderr",
     "output_type": "stream",
     "text": [
      "C:\\Users\\velmurug\\Documents\\full_stability\\transformers\\IndexBasedTransformer.py:58: PerformanceWarning: DataFrame is highly fragmented.  This is usually the result of calling `frame.insert` many times, which has poor performance.  Consider joining all columns at once using pd.concat(axis=1) instead.  To get a de-fragmented frame, use `newframe = frame.copy()`\n",
      "  dt_transformed[col] = 0\n",
      "\n"
     ]
    },
    {
     "name": "stdout",
     "output_type": "stream",
     "text": [
      "Accuracy:                                                                                                              \n",
      "0.9583333333333333                                                                                                     \n",
      " 60%|████████████████████████████▊                   | 6/10 [00:14<00:08,  2.20s/trial, best loss: -0.9375763125763125]"
     ]
    },
    {
     "name": "stderr",
     "output_type": "stream",
     "text": [
      "C:\\Users\\velmurug\\Documents\\full_stability\\transformers\\IndexBasedTransformer.py:58: PerformanceWarning: DataFrame is highly fragmented.  This is usually the result of calling `frame.insert` many times, which has poor performance.  Consider joining all columns at once using pd.concat(axis=1) instead.  To get a de-fragmented frame, use `newframe = frame.copy()`\n",
      "  dt_transformed[col] = 0\n",
      "\n"
     ]
    },
    {
     "name": "stdout",
     "output_type": "stream",
     "text": [
      "Accuracy:                                                                                                              \n",
      "0.9615384615384616                                                                                                     \n",
      "{'var_smoothing': 1.519911082952933e-09}                                                                               \n",
      " 70%|█████████████████████████████████▌              | 7/10 [00:15<00:06,  2.14s/trial, best loss: -0.9375763125763125]"
     ]
    },
    {
     "name": "stderr",
     "output_type": "stream",
     "text": [
      "C:\\Users\\velmurug\\Documents\\full_stability\\transformers\\IndexBasedTransformer.py:58: PerformanceWarning: DataFrame is highly fragmented.  This is usually the result of calling `frame.insert` many times, which has poor performance.  Consider joining all columns at once using pd.concat(axis=1) instead.  To get a de-fragmented frame, use `newframe = frame.copy()`\n",
      "  dt_transformed[col] = 0\n",
      "\n"
     ]
    },
    {
     "name": "stdout",
     "output_type": "stream",
     "text": [
      "Accuracy:                                                                                                              \n",
      "0.8928571428571428                                                                                                     \n",
      " 70%|█████████████████████████████████▌              | 7/10 [00:16<00:06,  2.14s/trial, best loss: -0.9375763125763125]"
     ]
    },
    {
     "name": "stderr",
     "output_type": "stream",
     "text": [
      "C:\\Users\\velmurug\\Documents\\full_stability\\transformers\\IndexBasedTransformer.py:58: PerformanceWarning: DataFrame is highly fragmented.  This is usually the result of calling `frame.insert` many times, which has poor performance.  Consider joining all columns at once using pd.concat(axis=1) instead.  To get a de-fragmented frame, use `newframe = frame.copy()`\n",
      "  dt_transformed[col] = 0\n",
      "\n"
     ]
    },
    {
     "name": "stdout",
     "output_type": "stream",
     "text": [
      "Accuracy:                                                                                                              \n",
      "0.9583333333333333                                                                                                     \n",
      " 70%|█████████████████████████████████▌              | 7/10 [00:16<00:06,  2.14s/trial, best loss: -0.9375763125763125]"
     ]
    },
    {
     "name": "stderr",
     "output_type": "stream",
     "text": [
      "C:\\Users\\velmurug\\Documents\\full_stability\\transformers\\IndexBasedTransformer.py:58: PerformanceWarning: DataFrame is highly fragmented.  This is usually the result of calling `frame.insert` many times, which has poor performance.  Consider joining all columns at once using pd.concat(axis=1) instead.  To get a de-fragmented frame, use `newframe = frame.copy()`\n",
      "  dt_transformed[col] = 0\n",
      "\n"
     ]
    },
    {
     "name": "stdout",
     "output_type": "stream",
     "text": [
      "Accuracy:                                                                                                              \n",
      "0.9615384615384616                                                                                                     \n",
      "{'var_smoothing': 1.519911082952933e-08}                                                                               \n",
      " 80%|██████████████████████████████████████▍         | 8/10 [00:17<00:04,  2.13s/trial, best loss: -0.9375763125763125]"
     ]
    },
    {
     "name": "stderr",
     "output_type": "stream",
     "text": [
      "C:\\Users\\velmurug\\Documents\\full_stability\\transformers\\IndexBasedTransformer.py:58: PerformanceWarning: DataFrame is highly fragmented.  This is usually the result of calling `frame.insert` many times, which has poor performance.  Consider joining all columns at once using pd.concat(axis=1) instead.  To get a de-fragmented frame, use `newframe = frame.copy()`\n",
      "  dt_transformed[col] = 0\n",
      "\n"
     ]
    },
    {
     "name": "stdout",
     "output_type": "stream",
     "text": [
      "Accuracy:                                                                                                              \n",
      "0.8928571428571428                                                                                                     \n",
      " 80%|██████████████████████████████████████▍         | 8/10 [00:18<00:04,  2.13s/trial, best loss: -0.9375763125763125]"
     ]
    },
    {
     "name": "stderr",
     "output_type": "stream",
     "text": [
      "C:\\Users\\velmurug\\Documents\\full_stability\\transformers\\IndexBasedTransformer.py:58: PerformanceWarning: DataFrame is highly fragmented.  This is usually the result of calling `frame.insert` many times, which has poor performance.  Consider joining all columns at once using pd.concat(axis=1) instead.  To get a de-fragmented frame, use `newframe = frame.copy()`\n",
      "  dt_transformed[col] = 0\n",
      "\n"
     ]
    },
    {
     "name": "stdout",
     "output_type": "stream",
     "text": [
      "Accuracy:                                                                                                              \n",
      "0.9583333333333333                                                                                                     \n",
      " 80%|██████████████████████████████████████▍         | 8/10 [00:19<00:04,  2.13s/trial, best loss: -0.9375763125763125]"
     ]
    },
    {
     "name": "stderr",
     "output_type": "stream",
     "text": [
      "C:\\Users\\velmurug\\Documents\\full_stability\\transformers\\IndexBasedTransformer.py:58: PerformanceWarning: DataFrame is highly fragmented.  This is usually the result of calling `frame.insert` many times, which has poor performance.  Consider joining all columns at once using pd.concat(axis=1) instead.  To get a de-fragmented frame, use `newframe = frame.copy()`\n",
      "  dt_transformed[col] = 0\n",
      "\n"
     ]
    },
    {
     "name": "stdout",
     "output_type": "stream",
     "text": [
      "Accuracy:                                                                                                              \n",
      "0.9615384615384616                                                                                                     \n",
      "{'var_smoothing': 0.001}                                                                                               \n",
      " 90%|███████████████████████████████████████████▏    | 9/10 [00:19<00:02,  2.18s/trial, best loss: -0.9375763125763125]"
     ]
    },
    {
     "name": "stderr",
     "output_type": "stream",
     "text": [
      "C:\\Users\\velmurug\\Documents\\full_stability\\transformers\\IndexBasedTransformer.py:58: PerformanceWarning: DataFrame is highly fragmented.  This is usually the result of calling `frame.insert` many times, which has poor performance.  Consider joining all columns at once using pd.concat(axis=1) instead.  To get a de-fragmented frame, use `newframe = frame.copy()`\n",
      "  dt_transformed[col] = 0\n",
      "\n"
     ]
    },
    {
     "name": "stdout",
     "output_type": "stream",
     "text": [
      "Accuracy:                                                                                                              \n",
      "0.8928571428571428                                                                                                     \n",
      " 90%|███████████████████████████████████████████▏    | 9/10 [00:20<00:02,  2.18s/trial, best loss: -0.9375763125763125]"
     ]
    },
    {
     "name": "stderr",
     "output_type": "stream",
     "text": [
      "C:\\Users\\velmurug\\Documents\\full_stability\\transformers\\IndexBasedTransformer.py:58: PerformanceWarning: DataFrame is highly fragmented.  This is usually the result of calling `frame.insert` many times, which has poor performance.  Consider joining all columns at once using pd.concat(axis=1) instead.  To get a de-fragmented frame, use `newframe = frame.copy()`\n",
      "  dt_transformed[col] = 0\n",
      "\n"
     ]
    },
    {
     "name": "stdout",
     "output_type": "stream",
     "text": [
      "Accuracy:                                                                                                              \n",
      "0.9583333333333333                                                                                                     \n",
      " 90%|███████████████████████████████████████████▏    | 9/10 [00:21<00:02,  2.18s/trial, best loss: -0.9375763125763125]"
     ]
    },
    {
     "name": "stderr",
     "output_type": "stream",
     "text": [
      "C:\\Users\\velmurug\\Documents\\full_stability\\transformers\\IndexBasedTransformer.py:58: PerformanceWarning: DataFrame is highly fragmented.  This is usually the result of calling `frame.insert` many times, which has poor performance.  Consider joining all columns at once using pd.concat(axis=1) instead.  To get a de-fragmented frame, use `newframe = frame.copy()`\n",
      "  dt_transformed[col] = 0\n",
      "\n"
     ]
    },
    {
     "name": "stdout",
     "output_type": "stream",
     "text": [
      "Accuracy:                                                                                                              \n",
      "0.9615384615384616                                                                                                     \n",
      "100%|███████████████████████████████████████████████| 10/10 [00:21<00:00,  2.19s/trial, best loss: -0.9375763125763125]\n",
      "Optimising 20 of 20 buckets\n",
      "{'var_smoothing': 0.005336699231206307}                                                                                \n",
      "  0%|                                                                           | 0/10 [00:00<?, ?trial/s, best loss=?]"
     ]
    },
    {
     "name": "stderr",
     "output_type": "stream",
     "text": [
      "C:\\Users\\velmurug\\Documents\\full_stability\\transformers\\IndexBasedTransformer.py:58: PerformanceWarning: DataFrame is highly fragmented.  This is usually the result of calling `frame.insert` many times, which has poor performance.  Consider joining all columns at once using pd.concat(axis=1) instead.  To get a de-fragmented frame, use `newframe = frame.copy()`\n",
      "  dt_transformed[col] = 0\n",
      "\n"
     ]
    },
    {
     "name": "stdout",
     "output_type": "stream",
     "text": [
      "Accuracy:                                                                                                              \n",
      "0.9285714285714286                                                                                                     \n",
      "  0%|                                                                           | 0/10 [00:00<?, ?trial/s, best loss=?]"
     ]
    },
    {
     "name": "stderr",
     "output_type": "stream",
     "text": [
      "C:\\Users\\velmurug\\Documents\\full_stability\\transformers\\IndexBasedTransformer.py:58: PerformanceWarning: DataFrame is highly fragmented.  This is usually the result of calling `frame.insert` many times, which has poor performance.  Consider joining all columns at once using pd.concat(axis=1) instead.  To get a de-fragmented frame, use `newframe = frame.copy()`\n",
      "  dt_transformed[col] = 0\n",
      "\n"
     ]
    },
    {
     "name": "stdout",
     "output_type": "stream",
     "text": [
      "Accuracy:                                                                                                              \n",
      "0.9545454545454545                                                                                                     \n",
      "  0%|                                                                           | 0/10 [00:01<?, ?trial/s, best loss=?]"
     ]
    },
    {
     "name": "stderr",
     "output_type": "stream",
     "text": [
      "C:\\Users\\velmurug\\Documents\\full_stability\\transformers\\IndexBasedTransformer.py:58: PerformanceWarning: DataFrame is highly fragmented.  This is usually the result of calling `frame.insert` many times, which has poor performance.  Consider joining all columns at once using pd.concat(axis=1) instead.  To get a de-fragmented frame, use `newframe = frame.copy()`\n",
      "  dt_transformed[col] = 0\n",
      "\n"
     ]
    },
    {
     "name": "stdout",
     "output_type": "stream",
     "text": [
      "Accuracy:                                                                                                              \n",
      "0.9545454545454545                                                                                                     \n",
      "{'var_smoothing': 0.23101297000831597}                                                                                 \n",
      " 10%|████▊                                           | 1/10 [00:02<00:19,  2.22s/trial, best loss: -0.9458874458874459]"
     ]
    },
    {
     "name": "stderr",
     "output_type": "stream",
     "text": [
      "C:\\Users\\velmurug\\Documents\\full_stability\\transformers\\IndexBasedTransformer.py:58: PerformanceWarning: DataFrame is highly fragmented.  This is usually the result of calling `frame.insert` many times, which has poor performance.  Consider joining all columns at once using pd.concat(axis=1) instead.  To get a de-fragmented frame, use `newframe = frame.copy()`\n",
      "  dt_transformed[col] = 0\n",
      "\n"
     ]
    },
    {
     "name": "stdout",
     "output_type": "stream",
     "text": [
      "Accuracy:                                                                                                              \n",
      "0.8214285714285714                                                                                                     \n",
      " 10%|████▊                                           | 1/10 [00:02<00:19,  2.22s/trial, best loss: -0.9458874458874459]"
     ]
    },
    {
     "name": "stderr",
     "output_type": "stream",
     "text": [
      "C:\\Users\\velmurug\\Documents\\full_stability\\transformers\\IndexBasedTransformer.py:58: PerformanceWarning: DataFrame is highly fragmented.  This is usually the result of calling `frame.insert` many times, which has poor performance.  Consider joining all columns at once using pd.concat(axis=1) instead.  To get a de-fragmented frame, use `newframe = frame.copy()`\n",
      "  dt_transformed[col] = 0\n",
      "\n"
     ]
    },
    {
     "name": "stdout",
     "output_type": "stream",
     "text": [
      "Accuracy:                                                                                                              \n",
      "0.9545454545454545                                                                                                     \n",
      " 10%|████▊                                           | 1/10 [00:03<00:19,  2.22s/trial, best loss: -0.9458874458874459]"
     ]
    },
    {
     "name": "stderr",
     "output_type": "stream",
     "text": [
      "C:\\Users\\velmurug\\Documents\\full_stability\\transformers\\IndexBasedTransformer.py:58: PerformanceWarning: DataFrame is highly fragmented.  This is usually the result of calling `frame.insert` many times, which has poor performance.  Consider joining all columns at once using pd.concat(axis=1) instead.  To get a de-fragmented frame, use `newframe = frame.copy()`\n",
      "  dt_transformed[col] = 0\n",
      "\n"
     ]
    },
    {
     "name": "stdout",
     "output_type": "stream",
     "text": [
      "Accuracy:                                                                                                              \n",
      "0.9545454545454545                                                                                                     \n",
      "{'var_smoothing': 0.0012328467394420659}                                                                               \n",
      " 20%|█████████▌                                      | 2/10 [00:04<00:17,  2.20s/trial, best loss: -0.9458874458874459]"
     ]
    },
    {
     "name": "stderr",
     "output_type": "stream",
     "text": [
      "C:\\Users\\velmurug\\Documents\\full_stability\\transformers\\IndexBasedTransformer.py:58: PerformanceWarning: DataFrame is highly fragmented.  This is usually the result of calling `frame.insert` many times, which has poor performance.  Consider joining all columns at once using pd.concat(axis=1) instead.  To get a de-fragmented frame, use `newframe = frame.copy()`\n",
      "  dt_transformed[col] = 0\n",
      "\n"
     ]
    },
    {
     "name": "stdout",
     "output_type": "stream",
     "text": [
      "Accuracy:                                                                                                              \n",
      "0.9285714285714286                                                                                                     \n",
      " 20%|█████████▌                                      | 2/10 [00:05<00:17,  2.20s/trial, best loss: -0.9458874458874459]"
     ]
    },
    {
     "name": "stderr",
     "output_type": "stream",
     "text": [
      "C:\\Users\\velmurug\\Documents\\full_stability\\transformers\\IndexBasedTransformer.py:58: PerformanceWarning: DataFrame is highly fragmented.  This is usually the result of calling `frame.insert` many times, which has poor performance.  Consider joining all columns at once using pd.concat(axis=1) instead.  To get a de-fragmented frame, use `newframe = frame.copy()`\n",
      "  dt_transformed[col] = 0\n",
      "\n"
     ]
    },
    {
     "name": "stdout",
     "output_type": "stream",
     "text": [
      "Accuracy:                                                                                                              \n",
      "0.9545454545454545                                                                                                     \n",
      " 20%|█████████▌                                      | 2/10 [00:05<00:17,  2.20s/trial, best loss: -0.9458874458874459]"
     ]
    },
    {
     "name": "stderr",
     "output_type": "stream",
     "text": [
      "C:\\Users\\velmurug\\Documents\\full_stability\\transformers\\IndexBasedTransformer.py:58: PerformanceWarning: DataFrame is highly fragmented.  This is usually the result of calling `frame.insert` many times, which has poor performance.  Consider joining all columns at once using pd.concat(axis=1) instead.  To get a de-fragmented frame, use `newframe = frame.copy()`\n",
      "  dt_transformed[col] = 0\n",
      "\n"
     ]
    },
    {
     "name": "stdout",
     "output_type": "stream",
     "text": [
      "Accuracy:                                                                                                              \n",
      "0.9545454545454545                                                                                                     \n",
      " 20%|█████████▌                                      | 2/10 [00:06<00:17,  2.20s/trial, best loss: -0.9458874458874459]"
     ]
    },
    {
     "name": "stderr",
     "output_type": "stream",
     "text": [
      "C:\\Users\\velmurug\\Documents\\full_stability\\transformers\\IndexBasedTransformer.py:58: PerformanceWarning: DataFrame is highly fragmented.  This is usually the result of calling `frame.insert` many times, which has poor performance.  Consider joining all columns at once using pd.concat(axis=1) instead.  To get a de-fragmented frame, use `newframe = frame.copy()`\n",
      "  dt_transformed[col] = 0\n",
      "\n"
     ]
    },
    {
     "name": "stdout",
     "output_type": "stream",
     "text": [
      "{'var_smoothing': 8.111308307896872e-05}                                                                               \n",
      "Accuracy:                                                                                                              \n",
      "0.9285714285714286                                                                                                     \n",
      " 30%|██████████████▍                                 | 3/10 [00:07<00:15,  2.25s/trial, best loss: -0.9458874458874459]"
     ]
    },
    {
     "name": "stderr",
     "output_type": "stream",
     "text": [
      "C:\\Users\\velmurug\\Documents\\full_stability\\transformers\\IndexBasedTransformer.py:58: PerformanceWarning: DataFrame is highly fragmented.  This is usually the result of calling `frame.insert` many times, which has poor performance.  Consider joining all columns at once using pd.concat(axis=1) instead.  To get a de-fragmented frame, use `newframe = frame.copy()`\n",
      "  dt_transformed[col] = 0\n",
      "\n"
     ]
    },
    {
     "name": "stdout",
     "output_type": "stream",
     "text": [
      "Accuracy:                                                                                                              \n",
      "0.9545454545454545                                                                                                     \n",
      " 30%|██████████████▍                                 | 3/10 [00:08<00:15,  2.25s/trial, best loss: -0.9458874458874459]"
     ]
    },
    {
     "name": "stderr",
     "output_type": "stream",
     "text": [
      "C:\\Users\\velmurug\\Documents\\full_stability\\transformers\\IndexBasedTransformer.py:58: PerformanceWarning: DataFrame is highly fragmented.  This is usually the result of calling `frame.insert` many times, which has poor performance.  Consider joining all columns at once using pd.concat(axis=1) instead.  To get a de-fragmented frame, use `newframe = frame.copy()`\n",
      "  dt_transformed[col] = 0\n",
      "\n"
     ]
    },
    {
     "name": "stdout",
     "output_type": "stream",
     "text": [
      "Accuracy:                                                                                                              \n",
      "0.9545454545454545                                                                                                     \n",
      "{'var_smoothing': 1.2328467394420635e-09}                                                                              \n",
      " 40%|███████████████████▏                            | 4/10 [00:09<00:14,  2.35s/trial, best loss: -0.9458874458874459]"
     ]
    },
    {
     "name": "stderr",
     "output_type": "stream",
     "text": [
      "C:\\Users\\velmurug\\Documents\\full_stability\\transformers\\IndexBasedTransformer.py:58: PerformanceWarning: DataFrame is highly fragmented.  This is usually the result of calling `frame.insert` many times, which has poor performance.  Consider joining all columns at once using pd.concat(axis=1) instead.  To get a de-fragmented frame, use `newframe = frame.copy()`\n",
      "  dt_transformed[col] = 0\n",
      "\n"
     ]
    },
    {
     "name": "stdout",
     "output_type": "stream",
     "text": [
      "Accuracy:                                                                                                              \n",
      "0.9285714285714286                                                                                                     \n",
      " 40%|███████████████████▏                            | 4/10 [00:10<00:14,  2.35s/trial, best loss: -0.9458874458874459]"
     ]
    },
    {
     "name": "stderr",
     "output_type": "stream",
     "text": [
      "C:\\Users\\velmurug\\Documents\\full_stability\\transformers\\IndexBasedTransformer.py:58: PerformanceWarning: DataFrame is highly fragmented.  This is usually the result of calling `frame.insert` many times, which has poor performance.  Consider joining all columns at once using pd.concat(axis=1) instead.  To get a de-fragmented frame, use `newframe = frame.copy()`\n",
      "  dt_transformed[col] = 0\n",
      "\n"
     ]
    },
    {
     "name": "stdout",
     "output_type": "stream",
     "text": [
      "Accuracy:                                                                                                              \n",
      "0.9545454545454545                                                                                                     \n",
      " 40%|███████████████████▏                            | 4/10 [00:10<00:14,  2.35s/trial, best loss: -0.9458874458874459]"
     ]
    },
    {
     "name": "stderr",
     "output_type": "stream",
     "text": [
      "C:\\Users\\velmurug\\Documents\\full_stability\\transformers\\IndexBasedTransformer.py:58: PerformanceWarning: DataFrame is highly fragmented.  This is usually the result of calling `frame.insert` many times, which has poor performance.  Consider joining all columns at once using pd.concat(axis=1) instead.  To get a de-fragmented frame, use `newframe = frame.copy()`\n",
      "  dt_transformed[col] = 0\n",
      "\n"
     ]
    },
    {
     "name": "stdout",
     "output_type": "stream",
     "text": [
      "Accuracy:                                                                                                              \n",
      "0.9545454545454545                                                                                                     \n",
      "{'var_smoothing': 0.02848035868435802}                                                                                 \n",
      " 50%|████████████████████████                        | 5/10 [00:11<00:11,  2.35s/trial, best loss: -0.9458874458874459]"
     ]
    },
    {
     "name": "stderr",
     "output_type": "stream",
     "text": [
      "C:\\Users\\velmurug\\Documents\\full_stability\\transformers\\IndexBasedTransformer.py:58: PerformanceWarning: DataFrame is highly fragmented.  This is usually the result of calling `frame.insert` many times, which has poor performance.  Consider joining all columns at once using pd.concat(axis=1) instead.  To get a de-fragmented frame, use `newframe = frame.copy()`\n",
      "  dt_transformed[col] = 0\n",
      "\n"
     ]
    },
    {
     "name": "stdout",
     "output_type": "stream",
     "text": [
      "Accuracy:                                                                                                              \n",
      "0.9285714285714286                                                                                                     \n",
      " 50%|████████████████████████                        | 5/10 [00:12<00:11,  2.35s/trial, best loss: -0.9458874458874459]"
     ]
    },
    {
     "name": "stderr",
     "output_type": "stream",
     "text": [
      "C:\\Users\\velmurug\\Documents\\full_stability\\transformers\\IndexBasedTransformer.py:58: PerformanceWarning: DataFrame is highly fragmented.  This is usually the result of calling `frame.insert` many times, which has poor performance.  Consider joining all columns at once using pd.concat(axis=1) instead.  To get a de-fragmented frame, use `newframe = frame.copy()`\n",
      "  dt_transformed[col] = 0\n",
      "\n"
     ]
    },
    {
     "name": "stdout",
     "output_type": "stream",
     "text": [
      "Accuracy:                                                                                                              \n",
      "0.9545454545454545                                                                                                     \n",
      " 50%|████████████████████████                        | 5/10 [00:13<00:11,  2.35s/trial, best loss: -0.9458874458874459]"
     ]
    },
    {
     "name": "stderr",
     "output_type": "stream",
     "text": [
      "C:\\Users\\velmurug\\Documents\\full_stability\\transformers\\IndexBasedTransformer.py:58: PerformanceWarning: DataFrame is highly fragmented.  This is usually the result of calling `frame.insert` many times, which has poor performance.  Consider joining all columns at once using pd.concat(axis=1) instead.  To get a de-fragmented frame, use `newframe = frame.copy()`\n",
      "  dt_transformed[col] = 0\n",
      "\n"
     ]
    },
    {
     "name": "stdout",
     "output_type": "stream",
     "text": [
      "Accuracy:                                                                                                              \n",
      "0.9545454545454545                                                                                                     \n",
      "{'var_smoothing': 6.579332246575682e-09}                                                                               \n",
      " 60%|████████████████████████████▊                   | 6/10 [00:14<00:09,  2.35s/trial, best loss: -0.9458874458874459]"
     ]
    },
    {
     "name": "stderr",
     "output_type": "stream",
     "text": [
      "C:\\Users\\velmurug\\Documents\\full_stability\\transformers\\IndexBasedTransformer.py:58: PerformanceWarning: DataFrame is highly fragmented.  This is usually the result of calling `frame.insert` many times, which has poor performance.  Consider joining all columns at once using pd.concat(axis=1) instead.  To get a de-fragmented frame, use `newframe = frame.copy()`\n",
      "  dt_transformed[col] = 0\n",
      "\n"
     ]
    },
    {
     "name": "stdout",
     "output_type": "stream",
     "text": [
      "Accuracy:                                                                                                              \n",
      "0.9285714285714286                                                                                                     \n",
      " 60%|████████████████████████████▊                   | 6/10 [00:14<00:09,  2.35s/trial, best loss: -0.9458874458874459]"
     ]
    },
    {
     "name": "stderr",
     "output_type": "stream",
     "text": [
      "C:\\Users\\velmurug\\Documents\\full_stability\\transformers\\IndexBasedTransformer.py:58: PerformanceWarning: DataFrame is highly fragmented.  This is usually the result of calling `frame.insert` many times, which has poor performance.  Consider joining all columns at once using pd.concat(axis=1) instead.  To get a de-fragmented frame, use `newframe = frame.copy()`\n",
      "  dt_transformed[col] = 0\n",
      "\n"
     ]
    },
    {
     "name": "stdout",
     "output_type": "stream",
     "text": [
      "Accuracy:                                                                                                              \n",
      "0.9545454545454545                                                                                                     \n",
      " 60%|████████████████████████████▊                   | 6/10 [00:15<00:09,  2.35s/trial, best loss: -0.9458874458874459]"
     ]
    },
    {
     "name": "stderr",
     "output_type": "stream",
     "text": [
      "C:\\Users\\velmurug\\Documents\\full_stability\\transformers\\IndexBasedTransformer.py:58: PerformanceWarning: DataFrame is highly fragmented.  This is usually the result of calling `frame.insert` many times, which has poor performance.  Consider joining all columns at once using pd.concat(axis=1) instead.  To get a de-fragmented frame, use `newframe = frame.copy()`\n",
      "  dt_transformed[col] = 0\n",
      "\n"
     ]
    },
    {
     "name": "stdout",
     "output_type": "stream",
     "text": [
      "Accuracy:                                                                                                              \n",
      "0.9545454545454545                                                                                                     \n",
      "{'var_smoothing': 4.328761281083062e-05}                                                                               \n",
      " 70%|█████████████████████████████████▌              | 7/10 [00:16<00:07,  2.34s/trial, best loss: -0.9458874458874459]"
     ]
    },
    {
     "name": "stderr",
     "output_type": "stream",
     "text": [
      "C:\\Users\\velmurug\\Documents\\full_stability\\transformers\\IndexBasedTransformer.py:58: PerformanceWarning: DataFrame is highly fragmented.  This is usually the result of calling `frame.insert` many times, which has poor performance.  Consider joining all columns at once using pd.concat(axis=1) instead.  To get a de-fragmented frame, use `newframe = frame.copy()`\n",
      "  dt_transformed[col] = 0\n",
      "\n"
     ]
    },
    {
     "name": "stdout",
     "output_type": "stream",
     "text": [
      "Accuracy:                                                                                                              \n",
      "0.9285714285714286                                                                                                     \n",
      " 70%|█████████████████████████████████▌              | 7/10 [00:17<00:07,  2.34s/trial, best loss: -0.9458874458874459]"
     ]
    },
    {
     "name": "stderr",
     "output_type": "stream",
     "text": [
      "C:\\Users\\velmurug\\Documents\\full_stability\\transformers\\IndexBasedTransformer.py:58: PerformanceWarning: DataFrame is highly fragmented.  This is usually the result of calling `frame.insert` many times, which has poor performance.  Consider joining all columns at once using pd.concat(axis=1) instead.  To get a de-fragmented frame, use `newframe = frame.copy()`\n",
      "  dt_transformed[col] = 0\n",
      "\n"
     ]
    },
    {
     "name": "stdout",
     "output_type": "stream",
     "text": [
      "Accuracy:                                                                                                              \n",
      "0.9545454545454545                                                                                                     \n",
      " 70%|█████████████████████████████████▌              | 7/10 [00:17<00:07,  2.34s/trial, best loss: -0.9458874458874459]"
     ]
    },
    {
     "name": "stderr",
     "output_type": "stream",
     "text": [
      "C:\\Users\\velmurug\\Documents\\full_stability\\transformers\\IndexBasedTransformer.py:58: PerformanceWarning: DataFrame is highly fragmented.  This is usually the result of calling `frame.insert` many times, which has poor performance.  Consider joining all columns at once using pd.concat(axis=1) instead.  To get a de-fragmented frame, use `newframe = frame.copy()`\n",
      "  dt_transformed[col] = 0\n",
      "\n"
     ]
    },
    {
     "name": "stdout",
     "output_type": "stream",
     "text": [
      "Accuracy:                                                                                                              \n",
      "0.9545454545454545                                                                                                     \n",
      "{'var_smoothing': 1e-09}                                                                                               \n",
      " 80%|██████████████████████████████████████▍         | 8/10 [00:18<00:04,  2.31s/trial, best loss: -0.9458874458874459]"
     ]
    },
    {
     "name": "stderr",
     "output_type": "stream",
     "text": [
      "C:\\Users\\velmurug\\Documents\\full_stability\\transformers\\IndexBasedTransformer.py:58: PerformanceWarning: DataFrame is highly fragmented.  This is usually the result of calling `frame.insert` many times, which has poor performance.  Consider joining all columns at once using pd.concat(axis=1) instead.  To get a de-fragmented frame, use `newframe = frame.copy()`\n",
      "  dt_transformed[col] = 0\n",
      "\n"
     ]
    },
    {
     "name": "stdout",
     "output_type": "stream",
     "text": [
      "Accuracy:                                                                                                              \n",
      "0.9285714285714286                                                                                                     \n",
      " 80%|██████████████████████████████████████▍         | 8/10 [00:19<00:04,  2.31s/trial, best loss: -0.9458874458874459]"
     ]
    },
    {
     "name": "stderr",
     "output_type": "stream",
     "text": [
      "C:\\Users\\velmurug\\Documents\\full_stability\\transformers\\IndexBasedTransformer.py:58: PerformanceWarning: DataFrame is highly fragmented.  This is usually the result of calling `frame.insert` many times, which has poor performance.  Consider joining all columns at once using pd.concat(axis=1) instead.  To get a de-fragmented frame, use `newframe = frame.copy()`\n",
      "  dt_transformed[col] = 0\n",
      "\n"
     ]
    },
    {
     "name": "stdout",
     "output_type": "stream",
     "text": [
      "Accuracy:                                                                                                              \n",
      "0.9545454545454545                                                                                                     \n",
      " 80%|██████████████████████████████████████▍         | 8/10 [00:20<00:04,  2.31s/trial, best loss: -0.9458874458874459]"
     ]
    },
    {
     "name": "stderr",
     "output_type": "stream",
     "text": [
      "C:\\Users\\velmurug\\Documents\\full_stability\\transformers\\IndexBasedTransformer.py:58: PerformanceWarning: DataFrame is highly fragmented.  This is usually the result of calling `frame.insert` many times, which has poor performance.  Consider joining all columns at once using pd.concat(axis=1) instead.  To get a de-fragmented frame, use `newframe = frame.copy()`\n",
      "  dt_transformed[col] = 0\n",
      "\n"
     ]
    },
    {
     "name": "stdout",
     "output_type": "stream",
     "text": [
      "Accuracy:                                                                                                              \n",
      "0.9545454545454545                                                                                                     \n",
      "{'var_smoothing': 2.848035868435805e-09}                                                                               \n",
      " 90%|███████████████████████████████████████████▏    | 9/10 [00:20<00:02,  2.32s/trial, best loss: -0.9458874458874459]"
     ]
    },
    {
     "name": "stderr",
     "output_type": "stream",
     "text": [
      "C:\\Users\\velmurug\\Documents\\full_stability\\transformers\\IndexBasedTransformer.py:58: PerformanceWarning: DataFrame is highly fragmented.  This is usually the result of calling `frame.insert` many times, which has poor performance.  Consider joining all columns at once using pd.concat(axis=1) instead.  To get a de-fragmented frame, use `newframe = frame.copy()`\n",
      "  dt_transformed[col] = 0\n",
      "\n"
     ]
    },
    {
     "name": "stdout",
     "output_type": "stream",
     "text": [
      "Accuracy:                                                                                                              \n",
      "0.9285714285714286                                                                                                     \n",
      " 90%|███████████████████████████████████████████▏    | 9/10 [00:21<00:02,  2.32s/trial, best loss: -0.9458874458874459]"
     ]
    },
    {
     "name": "stderr",
     "output_type": "stream",
     "text": [
      "C:\\Users\\velmurug\\Documents\\full_stability\\transformers\\IndexBasedTransformer.py:58: PerformanceWarning: DataFrame is highly fragmented.  This is usually the result of calling `frame.insert` many times, which has poor performance.  Consider joining all columns at once using pd.concat(axis=1) instead.  To get a de-fragmented frame, use `newframe = frame.copy()`\n",
      "  dt_transformed[col] = 0\n",
      "\n"
     ]
    },
    {
     "name": "stdout",
     "output_type": "stream",
     "text": [
      "Accuracy:                                                                                                              \n",
      "0.9545454545454545                                                                                                     \n",
      " 90%|███████████████████████████████████████████▏    | 9/10 [00:22<00:02,  2.32s/trial, best loss: -0.9458874458874459]"
     ]
    },
    {
     "name": "stderr",
     "output_type": "stream",
     "text": [
      "C:\\Users\\velmurug\\Documents\\full_stability\\transformers\\IndexBasedTransformer.py:58: PerformanceWarning: DataFrame is highly fragmented.  This is usually the result of calling `frame.insert` many times, which has poor performance.  Consider joining all columns at once using pd.concat(axis=1) instead.  To get a de-fragmented frame, use `newframe = frame.copy()`\n",
      "  dt_transformed[col] = 0\n",
      "\n"
     ]
    },
    {
     "name": "stdout",
     "output_type": "stream",
     "text": [
      "Accuracy:                                                                                                              \n",
      "0.9545454545454545                                                                                                     \n",
      "100%|███████████████████████████████████████████████| 10/10 [00:23<00:00,  2.33s/trial, best loss: -0.9458874458874459]\n"
     ]
    },
    {
     "name": "stderr",
     "output_type": "stream",
     "text": [
      "C:\\Users\\velmurug\\Documents\\full_stability\\transformers\\IndexBasedTransformer.py:58: PerformanceWarning: DataFrame is highly fragmented.  This is usually the result of calling `frame.insert` many times, which has poor performance.  Consider joining all columns at once using pd.concat(axis=1) instead.  To get a de-fragmented frame, use `newframe = frame.copy()`\n",
      "  dt_transformed[col] = 0\n",
      "\n"
     ]
    }
   ],
   "source": [
    "dataset_ref = \"sepsis_cases\"\n",
    "params_dir = \"params\"\n",
    "n_iter = 10\n",
    "bucket_method = \"prefix\"\n",
    "cls_encoding = \"index\"\n",
    "cls_method = \"nb\"\n",
    "balanced_data = True\n",
    "\n",
    "if bucket_method == \"state\":\n",
    "    bucket_encoding = \"last\"\n",
    "else:\n",
    "    bucket_encoding = \"agg\"\n",
    "\n",
    "method_name = \"%s_%s\"%(bucket_method, cls_encoding)\n",
    "\n",
    "dataset_ref_to_datasets = {\n",
    "    \"bpic2011\": [\"bpic2011_f%s\"%formula for formula in range(1,5)],\n",
    "    \"bpic2015\": [\"bpic2015_%s_f2\"%(municipality) for municipality in range(5,6)],\n",
    "    \"insurance\": [\"insurance_activity\", \"insurance_followup\"],\n",
    "    \"bpic2012\" : [\"bpic2012_accepted\"],\n",
    "    \"sepsis_cases\": [\"sepsis_cases_1\"],#, \"sepsis_cases_2\", \"sepsis_cases_4\"],\n",
    "    \"production\": [\"production\"]\n",
    "}\n",
    "\n",
    "encoding_dict = {\n",
    "    \"laststate\": [\"static\", \"last\"],\n",
    "    \"agg\": [\"static\", \"agg\"],\n",
    "    \"index\": [\"static\", \"index\"],\n",
    "    \"combined\": [\"static\", \"last\", \"agg\"],\n",
    "    \"3d\" : []\n",
    "}\n",
    "\n",
    "datasets = [dataset_ref] if dataset_ref not in dataset_ref_to_datasets else dataset_ref_to_datasets[dataset_ref]\n",
    "methods = encoding_dict[cls_encoding]\n",
    "print(datasets)\n",
    "    \n",
    "train_ratio = 0.8\n",
    "n_splits = 3\n",
    "random_state = 22\n",
    "\n",
    "# create results directory\n",
    "if not os.path.exists(os.path.join(params_dir)):\n",
    "    os.makedirs(os.path.join(params_dir))\n",
    "    \n",
    "for dataset_name in datasets:\n",
    "    \n",
    "    # read the data\n",
    "    dataset_manager = DatasetManager(dataset_name)\n",
    "    data = dataset_manager.read_dataset()\n",
    "    data = dataset_manager.balance_data(data)\n",
    "\n",
    "    cls_encoder_args = {'case_id_col': dataset_manager.case_id_col, \n",
    "                        'static_cat_cols': dataset_manager.static_cat_cols,\n",
    "                        'static_num_cols': dataset_manager.static_num_cols, \n",
    "                        'dynamic_cat_cols': dataset_manager.dynamic_cat_cols,\n",
    "                        'dynamic_num_cols': dataset_manager.dynamic_num_cols, \n",
    "                        'fillna': True}\n",
    "\n",
    "    # determine min and max (truncated) prefix lengths\n",
    "    min_prefix_length = 1\n",
    "    if \"traffic_fines\" in dataset_name:\n",
    "        max_prefix_length = 10\n",
    "    else:\n",
    "        max_prefix_length = 20\n",
    "\n",
    "    # split into training and test\n",
    "    print(\"splitting data\")\n",
    "    train, _ = dataset_manager.split_data_strict(data, train_ratio, split=\"temporal\")\n",
    "    train_prefixes = dataset_manager.generate_prefix_data(train, min_prefix_length, max_prefix_length)\n",
    "    \n",
    "    # Bucketing prefixes based on control flow\n",
    "    bucketer_args = {'encoding_method':bucket_encoding, \n",
    "                     'case_id_col':dataset_manager.case_id_col, \n",
    "                     'cat_cols':[dataset_manager.activity_col], \n",
    "                     'num_cols':[], \n",
    "                     'random_state':random_state}\n",
    "    if bucket_method == \"cluster\":\n",
    "        bucketer_args[\"n_clusters\"] = args[\"n_clusters\"]\n",
    "    bucketer = BucketFactory.get_bucketer(bucket_method, **bucketer_args)\n",
    "    bucket_assignments_train = bucketer.fit_predict(train_prefixes)\n",
    "    \n",
    "    for bucket in set(bucket_assignments_train):\n",
    "        print(\"Optimising %s of %s buckets\" % (bucket, len(set(bucket_assignments_train))))\n",
    "        \n",
    "        relevant_train_cases_bucket = dataset_manager.get_indexes(train_prefixes)[bucket_assignments_train == bucket]\n",
    "        dt_train_bucket = dataset_manager.get_relevant_data_by_indexes(train_prefixes, relevant_train_cases_bucket)\n",
    "    \n",
    "        # prepare chunks for CV\n",
    "        dt_prefixes = []\n",
    "        class_ratios = []\n",
    "        for train_chunk, test_chunk in dataset_manager.get_stratified_split_generator(dt_train_bucket, n_splits=n_splits):\n",
    "            class_ratios.append(dataset_manager.get_class_ratio(train_chunk))\n",
    "            dt_prefixes.append(train_chunk)\n",
    "        #del train\n",
    "        \n",
    "        # set up search space\n",
    "        if cls_method == \"xgboost\":\n",
    "            space = {'n_estimators': scope.int(hp.quniform('n_estimators', 1, 175, 5)),\n",
    "                    'learning_rate': hp.uniform(\"learning_rate\", 0, 5),\n",
    "                     'subsample': hp.uniform(\"subsample\", 0.5, 1),\n",
    "                     'max_depth': scope.int(hp.quniform('max_depth', 1, 30, 1)),\n",
    "                     'colsample_bytree': hp.uniform(\"colsample_bytree\", 0, 1),\n",
    "                     'min_child_weight': scope.int(hp.quniform('min_child_weight', 0, 6, 1))}\n",
    "        elif cls_method == \"logit\":\n",
    "            space = {'C': hp.uniform('C', -15, 15)}\n",
    "        elif cls_method == \"nb\":\n",
    "            space = {'var_smoothing': hp.choice('v', np.logspace(0, -9, 100))}\n",
    "\n",
    "\n",
    "        # optimize parameters\n",
    "        trial_nr = 1\n",
    "        trials = Trials()\n",
    "        fout_all = open(os.path.join(PATH, params_dir, \"param_optim_all_trials_%s_%s_%s_bucket_%s.csv\" % (cls_method, dataset_name, method_name, bucket)), \"w\")\n",
    "        if \"prefix\" in method_name:\n",
    "            fout_all.write(\"%s;%s;%s;%s;%s;%s;%s;%s\\n\" % (\"iter\", \"dataset\", \"cls\", \"method\", \"nr_events\", \"param\", \"value\", \"score\"))   \n",
    "        else:\n",
    "            fout_all.write(\"%s;%s;%s;%s;%s;%s;%s\\n\" % (\"iter\", \"dataset\", \"cls\", \"method\", \"param\", \"value\", \"score\"))   \n",
    "        best = fmin(create_and_evaluate_model, space, algo=tpe.suggest, max_evals=n_iter, trials=trials, verbose=True)\n",
    "        fout_all.close()\n",
    "\n",
    "        # write the best parameters\n",
    "        best_params = hyperopt.space_eval(space, best)\n",
    "        outfile = os.path.join(PATH, params_dir, \"optimal_params_%s_%s_%s_bucket_%s.pickle\" % (cls_method, dataset_name, method_name, bucket))\n",
    "        # write to file\n",
    "        with open(outfile, \"wb\") as fout:\n",
    "            pickle.dump(best_params, fout)\n"
   ]
  },
  {
   "cell_type": "code",
   "execution_count": 6,
   "metadata": {},
   "outputs": [],
   "source": [
    "# import matplotlib.pyplot as plt\n",
    "# plt.plot(space[\"var_smoothing\"])"
   ]
  },
  {
   "cell_type": "code",
   "execution_count": 7,
   "metadata": {},
   "outputs": [],
   "source": [
    "# plt.plot()"
   ]
  },
  {
   "cell_type": "code",
   "execution_count": 8,
   "metadata": {
    "colab": {
     "base_uri": "https://localhost:8080/"
    },
    "executionInfo": {
     "elapsed": 1993332,
     "status": "ok",
     "timestamp": 1605609993324,
     "user": {
      "displayName": "Mythreyi Velmurugan",
      "photoUrl": "https://lh3.googleusercontent.com/a-/AOh14Gh6DP4Hn-qpp593Bc6lrayXXcdQv42KAS3zJ-Ay=s64",
      "userId": "09509504425224260690"
     },
     "user_tz": -600
    },
    "id": "hyFDK-SFa5fq",
    "outputId": "1fa48c4a-d93e-4751-dc63-6f1a8f6ac8b2"
   },
   "outputs": [
    {
     "name": "stdout",
     "output_type": "stream",
     "text": [
      "Bucket 1\n",
      "{'var_smoothing': 0.04328761281083057}\n",
      "Bucket 2\n",
      "{'var_smoothing': 0.0657933224657568}\n",
      "Bucket 3\n",
      "{'var_smoothing': 0.006579332246575682}\n",
      "Bucket 4\n",
      "{'var_smoothing': 1.0}\n",
      "Bucket 5\n",
      "{'var_smoothing': 1.873817422860383e-06}\n",
      "Bucket 6\n",
      "{'var_smoothing': 8.111308307896872e-07}\n",
      "Bucket 7\n",
      "{'var_smoothing': 5.336699231206313e-07}\n",
      "Bucket 8\n",
      "{'var_smoothing': 0.003511191734215131}\n",
      "Bucket 9\n",
      "{'var_smoothing': 5.336699231206313e-06}\n",
      "Bucket 10\n",
      "{'var_smoothing': 0.0001519911082952933}\n",
      "Bucket 11\n",
      "{'var_smoothing': 2.848035868435805e-09}\n",
      "Bucket 12\n",
      "{'var_smoothing': 2.848035868435805e-09}\n",
      "Bucket 13\n",
      "{'var_smoothing': 0.1}\n",
      "Bucket 14\n",
      "{'var_smoothing': 0.0006579332246575676}\n",
      "Bucket 15\n",
      "{'var_smoothing': 0.002848035868435802}\n",
      "Bucket 16\n",
      "{'var_smoothing': 0.0005336699231206307}\n",
      "Bucket 17\n",
      "{'var_smoothing': 0.006579332246575682}\n",
      "Bucket 18\n",
      "{'var_smoothing': 1.232846739442066e-06}\n",
      "Bucket 19\n",
      "{'var_smoothing': 4.328761281083062e-05}\n",
      "Bucket 20\n",
      "{'var_smoothing': 0.005336699231206307}\n"
     ]
    }
   ],
   "source": [
    "for bucket in set(bucket_assignments_train):\n",
    "    params_path = os.path.join(PATH, params_dir, \"optimal_params_%s_%s_%s_bucket_%s.pickle\" % \n",
    "                               (cls_method, dataset_name, method_name, bucket))\n",
    "    with open(params_path, 'rb') as f:\n",
    "        best_params = pickle.load(f)\n",
    "    \n",
    "    print (\"Bucket %s\" % bucket)\n",
    "    print(best_params)"
   ]
  }
 ],
 "metadata": {
  "accelerator": "GPU",
  "colab": {
   "collapsed_sections": [],
   "name": "Optimise Params.ipynb",
   "provenance": []
  },
  "kernelspec": {
   "display_name": "Python 3",
   "language": "python",
   "name": "python3"
  },
  "language_info": {
   "codemirror_mode": {
    "name": "ipython",
    "version": 3
   },
   "file_extension": ".py",
   "mimetype": "text/x-python",
   "name": "python",
   "nbconvert_exporter": "python",
   "pygments_lexer": "ipython3",
   "version": "3.8.3"
  }
 },
 "nbformat": 4,
 "nbformat_minor": 1
}
