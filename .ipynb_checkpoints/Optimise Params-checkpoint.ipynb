{
 "cells": [
  {
   "cell_type": "code",
   "execution_count": 1,
   "metadata": {
    "colab": {
     "base_uri": "https://localhost:8080/"
    },
    "executionInfo": {
     "elapsed": 27846,
     "status": "ok",
     "timestamp": 1605608027790,
     "user": {
      "displayName": "Mythreyi Velmurugan",
      "photoUrl": "https://lh3.googleusercontent.com/a-/AOh14Gh6DP4Hn-qpp593Bc6lrayXXcdQv42KAS3zJ-Ay=s64",
      "userId": "09509504425224260690"
     },
     "user_tz": -600
    },
    "id": "edGOGS4Qly-r",
    "outputId": "21021b16-f710-4bbe-9766-fabf50ac9db6"
   },
   "outputs": [],
   "source": [
    "#from google.colab import drive\n",
    "#drive.mount('/content/drive')\n",
    "import sys\n",
    "import os\n",
    "#PATH = '/content/drive/My Drive/PPM_Stability/'\n",
    "PATH = os.getcwd()\n",
    "sys.path.append(PATH)"
   ]
  },
  {
   "cell_type": "code",
   "execution_count": 2,
   "metadata": {
    "executionInfo": {
     "elapsed": 27837,
     "status": "ok",
     "timestamp": 1605608027794,
     "user": {
      "displayName": "Mythreyi Velmurugan",
      "photoUrl": "https://lh3.googleusercontent.com/a-/AOh14Gh6DP4Hn-qpp593Bc6lrayXXcdQv42KAS3zJ-Ay=s64",
      "userId": "09509504425224260690"
     },
     "user_tz": -600
    },
    "id": "g6rF9K-4l-a4"
   },
   "outputs": [],
   "source": [
    "#!pip install xgboost==1.0.0"
   ]
  },
  {
   "cell_type": "code",
   "execution_count": 3,
   "metadata": {
    "executionInfo": {
     "elapsed": 35182,
     "status": "ok",
     "timestamp": 1605608035145,
     "user": {
      "displayName": "Mythreyi Velmurugan",
      "photoUrl": "https://lh3.googleusercontent.com/a-/AOh14Gh6DP4Hn-qpp593Bc6lrayXXcdQv42KAS3zJ-Ay=s64",
      "userId": "09509504425224260690"
     },
     "user_tz": -600
    },
    "id": "2yT7AjVBlUVP"
   },
   "outputs": [
    {
     "name": "stderr",
     "output_type": "stream",
     "text": [
      "C:\\ProgramData\\Anaconda3\\lib\\site-packages\\numpy\\_distributor_init.py:30: UserWarning: loaded more than 1 DLL from .libs:\n",
      "C:\\ProgramData\\Anaconda3\\lib\\site-packages\\numpy\\.libs\\libopenblas.EL2C6PLE4ZYW3ECEVIV3OXXGRN2NRFM2.gfortran-win_amd64.dll\n",
      "C:\\ProgramData\\Anaconda3\\lib\\site-packages\\numpy\\.libs\\libopenblas.NOIJJG62EMASZI6NYURL6JBKM4EVBGM7.gfortran-win_amd64.dll\n",
      "  warnings.warn(\"loaded more than 1 DLL from .libs:\"\n"
     ]
    }
   ],
   "source": [
    "import EncoderFactory\n",
    "from DatasetManager import DatasetManager\n",
    "import BucketFactory\n",
    "\n",
    "import pandas as pd\n",
    "import numpy as np\n",
    "\n",
    "from sklearn.metrics import roc_auc_score, accuracy_score, f1_score\n",
    "from sklearn.pipeline import FeatureUnion, Pipeline\n",
    "from sklearn.preprocessing import StandardScaler\n",
    "from sklearn.utils import resample\n",
    "\n",
    "\n",
    "import time\n",
    "import os\n",
    "import sys\n",
    "from sys import argv\n",
    "import pickle\n",
    "from collections import defaultdict\n",
    "\n",
    "#from sklearn.ensemble import RandomForestClassifier\n",
    "import xgboost as xgb\n",
    "from sklearn.linear_model import LogisticRegression\n",
    "#from sklearn.svm import SVC, LinearSVC\n",
    "from sklearn.naive_bayes import GaussianNB\n",
    "#import catboost\n",
    "\n",
    "# from tensorflow.keras.backend import print_tensor\n",
    "# from tensorflow.keras.callbacks import ModelCheckpoint, EarlyStopping\n",
    "# from keras.layers.core import Dense, Activation, Dropout\n",
    "# from keras.preprocessing import sequence\n",
    "# from keras.models import Sequential, Model\n",
    "# from keras.layers import Dense, Embedding, Flatten, Input\n",
    "# from keras.layers import LSTM\n",
    "# from keras.optimizers import Nadam, RMSprop\n",
    "# from keras.layers.normalization import BatchNormalization\n",
    "\n",
    "\n",
    "from hyperopt import Trials, STATUS_OK, tpe, fmin, hp\n",
    "import hyperopt\n",
    "from hyperopt.pyll.base import scope\n",
    "from hyperopt.pyll.stochastic import sample"
   ]
  },
  {
   "cell_type": "code",
   "execution_count": 4,
   "metadata": {
    "executionInfo": {
     "elapsed": 35182,
     "status": "ok",
     "timestamp": 1605608035150,
     "user": {
      "displayName": "Mythreyi Velmurugan",
      "photoUrl": "https://lh3.googleusercontent.com/a-/AOh14Gh6DP4Hn-qpp593Bc6lrayXXcdQv42KAS3zJ-Ay=s64",
      "userId": "09509504425224260690"
     },
     "user_tz": -600
    },
    "id": "kCUZV8MylUVY",
    "scrolled": true
   },
   "outputs": [],
   "source": [
    "def create_and_evaluate_model(args):    \n",
    "    print(args)\n",
    "    global trial_nr\n",
    "    trial_nr += 1\n",
    "    \n",
    "    start = time.time()\n",
    "    score = 0\n",
    "    for cv_iter in range(n_splits):\n",
    "        \n",
    "        dt_test_prefixes = dt_prefixes[cv_iter]\n",
    "        dt_train_prefixes = pd.DataFrame()\n",
    "        for cv_train_iter in range(n_splits): \n",
    "            if cv_train_iter != cv_iter:\n",
    "                dt_train_prefixes = pd.concat([dt_train_prefixes, dt_prefixes[cv_train_iter]], axis=0, sort=False)\n",
    "                \n",
    "        #Balance unbalanced data\n",
    "        if balanced_data == False:\n",
    "            y = dataset_manager.get_label_numeric(dt_train_prefixes)\n",
    "            case_ids = dataset_manager.get_case_ids(dt_train_prefixes)\n",
    "\n",
    "            neg_cases = [case_ids[i] for i in range(len(case_ids)) if y[i] == 0]\n",
    "            pos_cases = [case_ids[i] for i in range(len(case_ids)) if y[i] == 1]\n",
    "\n",
    "            if len(neg_cases) > len(pos_cases):\n",
    "                neg_cases = resample(neg_cases, replace = False, n_samples = len(pos_cases))\n",
    "            elif len(neg_cases) < len(pos_cases):\n",
    "                pos_cases = resample(pos_cases, replace = False, n_samples = len(neg_cases))\n",
    "\n",
    "            bal_data = dt_train_prefixes.loc[dt_train_prefixes[dataset_manager.case_id_col].isin(neg_cases)]\n",
    "            bal_data = bal_data.append(dt_train_prefixes.loc[dt_train_prefixes[dataset_manager.case_id_col].isin(pos_cases)])\n",
    "            dt_train_prefixes = bal_data\n",
    "                \n",
    "        dt_test_bucket = dt_test_prefixes\n",
    "        dt_train_bucket = dt_train_prefixes\n",
    "        \n",
    "        test_y = dataset_manager.get_label_numeric(dt_test_bucket)\n",
    "        train_y = dataset_manager.get_label_numeric(dt_train_bucket)\n",
    "\n",
    "        if len(set(train_y)) < 2:\n",
    "            preds = [train_y[0]] * len(relevant_test_cases_bucket)\n",
    "        else:\n",
    "            feature_combiner = FeatureUnion([(method, EncoderFactory.get_encoder(method, **cls_encoder_args)) for method in methods])\n",
    "\n",
    "            if cls_method == \"xgboost\":\n",
    "                cls = xgb.XGBClassifier(objective='binary:logistic',\n",
    "                                        n_estimators=args['n_estimators'],\n",
    "                                        learning_rate= args['learning_rate'],\n",
    "                                        subsample=args['subsample'],\n",
    "                                        max_depth=int(args['max_depth']),\n",
    "                                        colsample_bytree=args['colsample_bytree'],\n",
    "                                        min_child_weight=int(args['min_child_weight']),\n",
    "                                        seed=random_state)\n",
    "            elif cls_method == \"logit\":\n",
    "                cls = LogisticRegression(C=2**args['C'],\n",
    "                                         random_state=random_state)\n",
    "            elif cls_method == \"nb\":\n",
    "                cls = GaussianNB(var_smoothing=args[\"var_smoothing\"])\n",
    "\n",
    "            if cls_method == \"logit\" or cls_method == \"nb\":\n",
    "                pipeline = Pipeline([('encoder', feature_combiner), ('scaler', StandardScaler()), ('cls', cls)])\n",
    "            else:\n",
    "                pipeline = Pipeline([('encoder', feature_combiner), ('cls', cls)])\n",
    "                \n",
    "            #print(dt_train_bucket.shape)\n",
    "            #print(len(train_y))\n",
    "            #print(feature_combiner.fit_transform(dt_train_bucket).shape)\n",
    "            #print(feature_combiner.fit(dt_train_bucket))\n",
    "            \n",
    "#             if cls_method == \"nb\":\n",
    "#                 #train_enc = pipeline[\"encoder\"].fit_transform(dt_train_bucket)\n",
    "#                 print(train_enc[0][0])\n",
    "#                 #print(train_enc.shape)\n",
    "#                 #for each in train_enc:\n",
    "#                 #    print(each.shape)\n",
    "#                 pipeline[\"cls\"].fit(train_enc, train_y)\n",
    "            \n",
    "            pipeline.fit(dt_train_bucket, train_y)\n",
    "\n",
    "            preds = pipeline.predict(dt_test_bucket)\n",
    "\n",
    "        if balanced_data==True:\n",
    "            acc = roc_auc_score(test_y, preds)\n",
    "            score += acc\n",
    "        else:\n",
    "            acc = f1_score(test_y, preds)\n",
    "            score += acc\n",
    "        \n",
    "        print('Accuracy:', acc)\n",
    "        \n",
    "    for k, v in args.items():\n",
    "        fout_all.write(\"%s;%s;%s;%s;%s;%s;%s\\n\" % (trial_nr, dataset_name, cls_method, method_name, k, v, score / n_splits))   \n",
    "    fout_all.write(\"%s;%s;%s;%s;%s;%s;%s\\n\" % (trial_nr, dataset_name, cls_method, method_name, \"processing_time\", time.time() - start, 0))   \n",
    "    fout_all.flush()\n",
    "    return {'loss': -score / n_splits, 'status': STATUS_OK, 'model': cls}"
   ]
  },
  {
   "cell_type": "code",
   "execution_count": 5,
   "metadata": {
    "colab": {
     "base_uri": "https://localhost:8080/"
    },
    "executionInfo": {
     "elapsed": 1993341,
     "status": "ok",
     "timestamp": 1605609993320,
     "user": {
      "displayName": "Mythreyi Velmurugan",
      "photoUrl": "https://lh3.googleusercontent.com/a-/AOh14Gh6DP4Hn-qpp593Bc6lrayXXcdQv42KAS3zJ-Ay=s64",
      "userId": "09509504425224260690"
     },
     "user_tz": -600
    },
    "id": "y_jI3dzJlUVf",
    "outputId": "b799e298-0c10-4db9-f0b8-b9b2dccbf6f9",
    "scrolled": true
   },
   "outputs": [
    {
     "name": "stdout",
     "output_type": "stream",
     "text": [
      "['sepsis_cases_1']\n",
      "splitting data\n",
      "prefix\n",
      "Optimising 1 of 20 buckets\n",
      "{'var_smoothing': 2.848035868435799e-08}                                                                               \n",
      "Accuracy:                                                                                                              \n",
      "0.7261146496815286                                                                                                     \n",
      "Accuracy:                                                                                                              \n",
      "0.7672955974842768                                                                                                     \n",
      "Accuracy:                                                                                                              \n",
      "0.7672955974842768                                                                                                     \n",
      "{'var_smoothing': 4.328761281083061e-09}                                                                               \n",
      "Accuracy:                                                                                                              \n",
      "0.736111111111111                                                                                                      \n",
      "Accuracy:                                                                                                              \n",
      "0.75                                                                                                                   \n",
      "Accuracy:                                                                                                              \n",
      "0.759493670886076                                                                                                      \n",
      "{'var_smoothing': 1.873817422860387e-09}                                                                               \n",
      "Accuracy:                                                                                                              \n",
      "0.7534246575342465                                                                                                     \n",
      "Accuracy:                                                                                                              \n",
      "0.7515923566878981                                                                                                     \n",
      "Accuracy:                                                                                                              \n",
      "0.7547169811320755                                                                                                     \n",
      "{'var_smoothing': 0.08111308307896872}                                                                                 \n",
      "Accuracy:                                                                                                              \n",
      "0.7534246575342465                                                                                                     \n",
      "Accuracy:                                                                                                              \n",
      "0.7945205479452055                                                                                                     \n",
      "Accuracy:                                                                                                              \n",
      "0.763157894736842                                                                                                      \n",
      "{'var_smoothing': 0.15199110829529336}                                                                                 \n",
      "Accuracy:                                                                                                              \n",
      "0.7534246575342465                                                                                                     \n",
      "Accuracy:                                                                                                              \n",
      "0.7837837837837838                                                                                                     \n",
      "Accuracy:                                                                                                              \n",
      "0.7837837837837838                                                                                                     \n",
      "{'var_smoothing': 5.3366992312063123e-05}                                                                              \n",
      "Accuracy:                                                                                                              \n",
      "0.7445255474452556                                                                                                     \n",
      "Accuracy:                                                                                                              \n",
      "0.7643312101910827                                                                                                     \n",
      "Accuracy:                                                                                                              \n",
      "0.759493670886076                                                                                                      \n",
      "{'var_smoothing': 0.15199110829529336}                                                                                 \n",
      "Accuracy:                                                                                                              \n",
      "0.7571428571428572                                                                                                     \n",
      "Accuracy:                                                                                                              \n",
      "0.7724137931034482                                                                                                     \n",
      "Accuracy:                                                                                                              \n",
      "0.7532467532467533                                                                                                     \n",
      "{'var_smoothing': 0.02848035868435802}                                                                                 \n",
      "Accuracy:                                                                                                              \n",
      "0.7702702702702703                                                                                                     \n",
      "Accuracy:                                                                                                              \n",
      "0.7919463087248322                                                                                                     \n",
      "Accuracy:                                                                                                              \n",
      "0.7516778523489932                                                                                                     \n",
      "{'var_smoothing': 4.328761281083053e-06}                                                                               \n",
      "Accuracy:                                                                                                              \n",
      "0.7555555555555556                                                                                                     \n",
      "Accuracy:                                                                                                              \n",
      "0.7560975609756097                                                                                                     \n",
      "Accuracy:                                                                                                              \n",
      "0.7662337662337663                                                                                                     \n",
      "{'var_smoothing': 0.0533669923120631}                                                                                  \n",
      "Accuracy:                                                                                                              \n",
      "0.7591240875912408                                                                                                     \n",
      "Accuracy:                                                                                                              \n"
     ]
    },
    {
     "name": "stdout",
     "output_type": "stream",
     "text": [
      "0.7866666666666667                                                                                                     \n",
      "Accuracy:                                                                                                              \n",
      "0.7808219178082193                                                                                                     \n",
      "100%|███████████████████████████████████████████████| 10/10 [00:03<00:00,  2.66trial/s, best loss: -0.7755375573553756]\n",
      "Optimising 2 of 20 buckets\n",
      "{'var_smoothing': 0.04328761281083057}                                                                                 \n",
      "Accuracy:                                                                                                              \n",
      "0.763888888888889                                                                                                      \n",
      "Accuracy:                                                                                                              \n",
      "0.7651006711409396                                                                                                     \n",
      "Accuracy:                                                                                                              \n",
      "0.7662337662337663                                                                                                     \n",
      "{'var_smoothing': 0.04328761281083057}                                                                                 \n",
      "Accuracy:                                                                                                              \n",
      "0.7483870967741936                                                                                                     \n",
      "Accuracy:                                                                                                              \n",
      "0.7549668874172185                                                                                                     \n",
      "Accuracy:                                                                                                              \n",
      "0.7792207792207793                                                                                                     \n",
      "{'var_smoothing': 2.310129700083158e-05}                                                                               \n",
      "Accuracy:                                                                                                              \n",
      "0.75                                                                                                                   \n",
      "Accuracy:                                                                                                              \n",
      "0.7701863354037267                                                                                                     \n",
      "Accuracy:                                                                                                              \n",
      "0.7770700636942676                                                                                                     \n",
      "{'var_smoothing': 8.111308307896872e-05}                                                                               \n",
      "Accuracy:                                                                                                              \n",
      "0.7388535031847133                                                                                                     \n",
      "Accuracy:                                                                                                              \n",
      "0.7672955974842768                                                                                                     \n",
      "Accuracy:                                                                                                              \n",
      "0.7770700636942676                                                                                                     \n",
      "{'var_smoothing': 0.0657933224657568}                                                                                  \n",
      "Accuracy:                                                                                                              \n",
      "0.7534246575342465                                                                                                     \n",
      "Accuracy:                                                                                                              \n",
      "0.781456953642384                                                                                                      \n",
      "Accuracy:                                                                                                              \n",
      "0.7733333333333332                                                                                                     \n",
      "{'var_smoothing': 5.3366992312063123e-05}                                                                              \n",
      "Accuracy:                                                                                                              \n",
      "0.7453416149068324                                                                                                     \n",
      "Accuracy:                                                                                                              \n",
      "0.7564102564102564                                                                                                     \n",
      "Accuracy:                                                                                                              \n",
      "0.7692307692307693                                                                                                     \n",
      "{'var_smoothing': 1e-08}                                                                                               \n",
      "Accuracy:                                                                                                              \n",
      "0.7530864197530864                                                                                                     \n",
      "Accuracy:                                                                                                              \n",
      "0.7654320987654321                                                                                                     \n",
      "Accuracy:                                                                                                              \n",
      "0.782051282051282                                                                                                      \n",
      "{'var_smoothing': 0.006579332246575682}                                                                                \n",
      "Accuracy:                                                                                                              \n",
      "0.761904761904762                                                                                                      \n",
      "Accuracy:                                                                                                              \n",
      "0.7581699346405227                                                                                                     \n",
      "Accuracy:                                                                                                              \n",
      "0.7741935483870968                                                                                                     \n",
      "{'var_smoothing': 5.336699231206313e-06}                                                                               \n",
      "Accuracy:                                                                                                              \n",
      "0.7307692307692308                                                                                                     \n",
      "Accuracy:                                                                                                              \n",
      "0.7530864197530864                                                                                                     \n",
      "Accuracy:                                                                                                              \n",
      "0.7741935483870968                                                                                                     \n",
      "{'var_smoothing': 1.873817422860383e-05}                                                                               \n"
     ]
    },
    {
     "name": "stdout",
     "output_type": "stream",
     "text": [
      "Accuracy:                                                                                                              \n",
      "0.7564102564102564                                                                                                     \n",
      "Accuracy:                                                                                                              \n",
      "0.7607361963190183                                                                                                     \n",
      "Accuracy:                                                                                                              \n",
      "0.7741935483870968                                                                                                     \n",
      "100%|███████████████████████████████████████████████| 10/10 [00:04<00:00,  2.10trial/s, best loss: -0.7694049815033214]\n",
      "Optimising 3 of 20 buckets\n",
      "{'var_smoothing': 6.579332246575682e-08}                                                                               \n",
      "Accuracy:                                                                                                              \n",
      "0.742138364779874                                                                                                      \n",
      "Accuracy:                                                                                                              \n",
      "0.7530864197530864                                                                                                     \n",
      "Accuracy:                                                                                                              \n",
      "0.7770700636942676                                                                                                     \n",
      "{'var_smoothing': 3.5111917342151277e-08}                                                                              \n",
      "Accuracy:                                                                                                              \n",
      "0.7468354430379748                                                                                                     \n",
      "Accuracy:                                                                                                              \n",
      "0.7547169811320755                                                                                                     \n",
      "Accuracy:                                                                                                              \n",
      "0.7848101265822784                                                                                                     \n",
      "{'var_smoothing': 1.519911082952933e-09}                                                                               \n",
      "Accuracy:                                                                                                              \n",
      "0.7453416149068324                                                                                                     \n",
      "Accuracy:                                                                                                              \n",
      "0.7515923566878981                                                                                                     \n",
      "Accuracy:                                                                                                              \n",
      "0.7848101265822784                                                                                                     \n",
      "{'var_smoothing': 0.0001873817422860383}                                                                               \n",
      "Accuracy:                                                                                                              \n",
      "0.763157894736842                                                                                                      \n",
      "Accuracy:                                                                                                              \n",
      "0.7468354430379748                                                                                                     \n",
      "Accuracy:                                                                                                              \n",
      "0.7741935483870968                                                                                                     \n",
      "{'var_smoothing': 5.336699231206313e-07}                                                                               \n",
      "Accuracy:                                                                                                              \n",
      "0.7341772151898733                                                                                                     \n",
      "Accuracy:                                                                                                              \n",
      "0.75                                                                                                                   \n",
      "Accuracy:                                                                                                              \n",
      "0.7848101265822784                                                                                                     \n",
      "{'var_smoothing': 0.0002310129700083158}                                                                               \n",
      "Accuracy:                                                                                                              \n",
      "0.7516778523489932                                                                                                     \n",
      "Accuracy:                                                                                                              \n",
      "0.7651006711409396                                                                                                     \n",
      "Accuracy:                                                                                                              \n",
      "0.7692307692307693                                                                                                     \n",
      "{'var_smoothing': 1.519911082952933e-09}                                                                               \n",
      "Accuracy:                                                                                                              \n",
      "0.7295597484276729                                                                                                     \n",
      "Accuracy:                                                                                                              \n",
      "0.7643312101910827                                                                                                     \n",
      "Accuracy:                                                                                                              \n",
      "0.7682119205298015                                                                                                     \n",
      "{'var_smoothing': 2.848035868435799e-06}                                                                               \n",
      "Accuracy:                                                                                                              \n",
      "0.7368421052631579                                                                                                     \n",
      "Accuracy:                                                                                                              \n",
      "0.76                                                                                                                   \n",
      "Accuracy:                                                                                                              \n",
      "0.782051282051282                                                                                                      \n",
      "{'var_smoothing': 1e-05}                                                                                               \n",
      "Accuracy:                                                                                                              \n",
      "0.7368421052631579                                                                                                     \n",
      "Accuracy:                                                                                                              \n",
      "0.7532467532467533                                                                                                     \n"
     ]
    },
    {
     "name": "stdout",
     "output_type": "stream",
     "text": [
      "Accuracy:                                                                                                              \n",
      "0.7741935483870968                                                                                                     \n",
      "{'var_smoothing': 0.2848035868435802}                                                                                  \n",
      "Accuracy:                                                                                                              \n",
      "0.7552447552447552                                                                                                     \n",
      "Accuracy:                                                                                                              \n",
      "0.7808219178082193                                                                                                     \n",
      "Accuracy:                                                                                                              \n",
      "0.7549668874172185                                                                                                     \n",
      "100%|███████████████████████████████████████████████| 10/10 [00:05<00:00,  1.82trial/s, best loss: -0.7636778534900643]\n",
      "Optimising 4 of 20 buckets\n",
      "{'var_smoothing': 2.310129700083158e-07}                                                                               \n",
      "Accuracy:                                                                                                              \n",
      "0.7453416149068324                                                                                                     \n",
      "Accuracy:                                                                                                              \n",
      "0.7549668874172185                                                                                                     \n",
      "Accuracy:                                                                                                              \n",
      "0.7848101265822784                                                                                                     \n",
      "{'var_smoothing': 0.533669923120631}                                                                                   \n",
      "Accuracy:                                                                                                              \n",
      "0.7354838709677419                                                                                                     \n",
      "Accuracy:                                                                                                              \n",
      "0.7516778523489932                                                                                                     \n",
      "Accuracy:                                                                                                              \n",
      "0.7612903225806452                                                                                                     \n",
      "{'var_smoothing': 0.0004328761281083057}                                                                               \n",
      "Accuracy:                                                                                                              \n",
      "0.7483870967741936                                                                                                     \n",
      "Accuracy:                                                                                                              \n",
      "0.7651006711409396                                                                                                     \n",
      "Accuracy:                                                                                                              \n",
      "0.7741935483870968                                                                                                     \n",
      "{'var_smoothing': 0.0004328761281083057}                                                                               \n",
      "Accuracy:                                                                                                              \n",
      "0.7532467532467533                                                                                                     \n",
      "Accuracy:                                                                                                              \n",
      "0.7801418439716311                                                                                                     \n",
      "Accuracy:                                                                                                              \n",
      "0.7662337662337663                                                                                                     \n",
      "{'var_smoothing': 1.519911082952933e-06}                                                                               \n",
      "Accuracy:                                                                                                              \n",
      "0.7515923566878981                                                                                                     \n",
      "Accuracy:                                                                                                              \n",
      "0.7724137931034482                                                                                                     \n",
      "Accuracy:                                                                                                              \n",
      "0.782051282051282                                                                                                      \n",
      "{'var_smoothing': 0.0023101297000831605}                                                                               \n",
      "Accuracy:                                                                                                              \n",
      "0.7499999999999999                                                                                                     \n",
      "Accuracy:                                                                                                              \n",
      "0.7671232876712328                                                                                                     \n",
      "Accuracy:                                                                                                              \n",
      "0.7662337662337663                                                                                                     \n",
      "{'var_smoothing': 3.5111917342151275e-06}                                                                              \n",
      "Accuracy:                                                                                                              \n",
      "0.7453416149068324                                                                                                     \n",
      "Accuracy:                                                                                                              \n",
      "0.7808219178082193                                                                                                     \n",
      "Accuracy:                                                                                                              \n",
      "0.7792207792207793                                                                                                     \n",
      "{'var_smoothing': 1.519911082952933e-08}                                                                               \n",
      "Accuracy:                                                                                                              \n",
      "0.7530864197530864                                                                                                     \n",
      "Accuracy:                                                                                                              \n",
      "0.7891156462585035                                                                                                     \n",
      "Accuracy:                                                                                                              \n",
      "0.7848101265822784                                                                                                     \n",
      "{'var_smoothing': 5.336699231206313e-07}                                                                               \n",
      "Accuracy:                                                                                                              \n"
     ]
    },
    {
     "name": "stdout",
     "output_type": "stream",
     "text": [
      "0.7547169811320755                                                                                                     \n",
      "Accuracy:                                                                                                              \n",
      "0.76                                                                                                                   \n",
      "Accuracy:                                                                                                              \n",
      "0.7770700636942676                                                                                                     \n",
      "{'var_smoothing': 0.0657933224657568}                                                                                  \n",
      "Accuracy:                                                                                                              \n",
      "0.7733333333333332                                                                                                     \n",
      "Accuracy:                                                                                                              \n",
      "0.761904761904762                                                                                                      \n",
      "Accuracy:                                                                                                              \n",
      "0.7662337662337663                                                                                                     \n",
      "100%|███████████████████████████████████████████████| 10/10 [00:05<00:00,  1.67trial/s, best loss: -0.7756707308646229]\n",
      "Optimising 5 of 20 buckets\n",
      "{'var_smoothing': 5.336699231206302e-09}                                                                               \n",
      "Accuracy:                                                                                                              \n",
      "0.75                                                                                                                   \n",
      "Accuracy:                                                                                                              \n",
      "0.7721518987341772                                                                                                     \n",
      "Accuracy:                                                                                                              \n",
      "0.782051282051282                                                                                                      \n",
      "{'var_smoothing': 0.533669923120631}                                                                                   \n",
      "Accuracy:                                                                                                              \n",
      "0.7891156462585035                                                                                                     \n",
      "Accuracy:                                                                                                              \n",
      "0.7801418439716311                                                                                                     \n",
      "Accuracy:                                                                                                              \n",
      "0.7792207792207793                                                                                                     \n",
      "{'var_smoothing': 1.232846739442066e-08}                                                                               \n",
      "Accuracy:                                                                                                              \n",
      "0.7453416149068324                                                                                                     \n",
      "Accuracy:                                                                                                              \n",
      "0.7787610619469026                                                                                                     \n",
      "Accuracy:                                                                                                              \n",
      "0.7898089171974523                                                                                                     \n",
      "{'var_smoothing': 3.5111917342151277e-08}                                                                              \n",
      "Accuracy:                                                                                                              \n",
      "0.7453416149068324                                                                                                     \n",
      "Accuracy:                                                                                                              \n",
      "0.791044776119403                                                                                                      \n",
      "Accuracy:                                                                                                              \n",
      "0.7848101265822784                                                                                                     \n",
      "{'var_smoothing': 0.0003511191734215131}                                                                               \n",
      "Accuracy:                                                                                                              \n",
      "0.7402597402597402                                                                                                     \n",
      "Accuracy:                                                                                                              \n",
      "0.7702702702702703                                                                                                     \n",
      "Accuracy:                                                                                                              \n",
      "0.7770700636942676                                                                                                     \n",
      "{'var_smoothing': 0.01519911082952933}                                                                                 \n",
      "Accuracy:                                                                                                              \n",
      "0.76                                                                                                                   \n",
      "Accuracy:                                                                                                              \n",
      "0.8                                                                                                                    \n",
      "Accuracy:                                                                                                              \n",
      "0.7532467532467533                                                                                                     \n",
      "{'var_smoothing': 3.5111917342151275e-06}                                                                              \n",
      "Accuracy:                                                                                                              \n",
      "0.7468354430379748                                                                                                     \n",
      "Accuracy:                                                                                                              \n",
      "0.7857142857142857                                                                                                     \n",
      "Accuracy:                                                                                                              \n",
      "0.7741935483870968                                                                                                     \n",
      "{'var_smoothing': 6.579332246575682e-07}                                                                               \n",
      "Accuracy:                                                                                                              \n",
      "0.7435897435897436                                                                                                     \n",
      "Accuracy:                                                                                                              \n",
      "0.7580645161290323                                                                                                     \n",
      "Accuracy:                                                                                                              \n"
     ]
    },
    {
     "name": "stdout",
     "output_type": "stream",
     "text": [
      "0.7848101265822784                                                                                                     \n",
      "{'var_smoothing': 0.23101297000831597}                                                                                 \n",
      "Accuracy:                                                                                                              \n",
      "0.7671232876712328                                                                                                     \n",
      "Accuracy:                                                                                                              \n",
      "0.7862068965517242                                                                                                     \n",
      "Accuracy:                                                                                                              \n",
      "0.7662337662337663                                                                                                     \n",
      "{'var_smoothing': 0.15199110829529336}                                                                                 \n",
      "Accuracy:                                                                                                              \n",
      "0.76                                                                                                                   \n",
      "Accuracy:                                                                                                              \n",
      "0.7851851851851852                                                                                                     \n",
      "Accuracy:                                                                                                              \n",
      "0.7741935483870968                                                                                                     \n",
      "100%|███████████████████████████████████████████████| 10/10 [00:07<00:00,  1.34trial/s, best loss: -0.7828260898169713]\n",
      "Optimising 6 of 20 buckets\n",
      "{'var_smoothing': 0.008111308307896872}                                                                                \n",
      "Accuracy:                                                                                                              \n",
      "0.7549668874172185                                                                                                     \n",
      "Accuracy:                                                                                                              \n",
      "0.7619047619047619                                                                                                     \n",
      "Accuracy:                                                                                                              \n",
      "0.7792207792207793                                                                                                     \n",
      "{'var_smoothing': 1e-07}                                                                                               \n",
      "Accuracy:                                                                                                              \n",
      "0.7547169811320755                                                                                                     \n",
      "Accuracy:                                                                                                              \n",
      "0.7999999999999999                                                                                                     \n",
      "Accuracy:                                                                                                              \n",
      "0.781456953642384                                                                                                      \n",
      "{'var_smoothing': 1.519911082952933e-09}                                                                               \n",
      "Accuracy:                                                                                                              \n",
      "0.7792207792207793                                                                                                     \n",
      "Accuracy:                                                                                                              \n",
      "0.7476635514018692                                                                                                     \n",
      "Accuracy:                                                                                                              \n",
      "0.7870967741935484                                                                                                     \n",
      "{'var_smoothing': 1.519911082952933e-07}                                                                               \n",
      "Accuracy:                                                                                                              \n",
      "0.7612903225806452                                                                                                     \n",
      "Accuracy:                                                                                                              \n",
      "0.8028169014084507                                                                                                     \n",
      "Accuracy:                                                                                                              \n",
      "0.7792207792207793                                                                                                     \n",
      "{'var_smoothing': 1.519911082952933e-08}                                                                               \n",
      "Accuracy:                                                                                                              \n",
      "0.7672955974842768                                                                                                     \n",
      "Accuracy:                                                                                                              \n",
      "0.7530864197530864                                                                                                     \n",
      "Accuracy:                                                                                                              \n",
      "0.7843137254901961                                                                                                     \n",
      "{'var_smoothing': 3.5111917342151277e-07}                                                                              \n",
      "Accuracy:                                                                                                              \n",
      "0.7741935483870968                                                                                                     \n",
      "Accuracy:                                                                                                              \n",
      "0.7643312101910827                                                                                                     \n",
      "Accuracy:                                                                                                              \n",
      "0.7870967741935484                                                                                                     \n",
      "{'var_smoothing': 6.579332246575683e-05}                                                                               \n",
      "Accuracy:                                                                                                              \n",
      "0.7662337662337663                                                                                                     \n",
      "Accuracy:                                                                                                              \n",
      "0.7883211678832117                                                                                                     \n",
      "Accuracy:                                                                                                              \n",
      "0.7922077922077921                                                                                                     \n",
      "{'var_smoothing': 8.111308307896856e-09}                                                                               \n",
      "Accuracy:                                                                                                              \n",
      "0.759493670886076                                                                                                      \n"
     ]
    },
    {
     "name": "stdout",
     "output_type": "stream",
     "text": [
      "Accuracy:                                                                                                              \n",
      "0.782608695652174                                                                                                      \n",
      "Accuracy:                                                                                                              \n",
      "0.7973856209150327                                                                                                     \n",
      "{'var_smoothing': 0.02848035868435802}                                                                                 \n",
      "Accuracy:                                                                                                              \n",
      "0.7972027972027971                                                                                                     \n",
      "Accuracy:                                                                                                              \n",
      "0.7943262411347518                                                                                                     \n",
      "Accuracy:                                                                                                              \n",
      "0.7763157894736842                                                                                                     \n",
      "{'var_smoothing': 0.012328467394420659}                                                                                \n",
      "Accuracy:                                                                                                              \n",
      "0.7891156462585035                                                                                                     \n",
      "Accuracy:                                                                                                              \n",
      "0.7666666666666667                                                                                                     \n",
      "Accuracy:                                                                                                              \n",
      "0.7792207792207793                                                                                                     \n",
      "100%|████████████████████████████████████████████████| 10/10 [00:08<00:00,  1.23trial/s, best loss: -0.789281609270411]\n",
      "Optimising 7 of 20 buckets\n",
      "{'var_smoothing': 0.533669923120631}                                                                                   \n",
      "Accuracy:                                                                                                              \n",
      "0.7702702702702703                                                                                                     \n",
      "Accuracy:                                                                                                              \n",
      "0.7603305785123968                                                                                                     \n",
      "Accuracy:                                                                                                              \n",
      "0.782051282051282                                                                                                      \n",
      "{'var_smoothing': 6.579332246575682e-09}                                                                               \n",
      "Accuracy:                                                                                                              \n",
      "0.7870967741935484                                                                                                     \n",
      "Accuracy:                                                                                                              \n",
      "0.761904761904762                                                                                                      \n",
      "Accuracy:                                                                                                              \n",
      "0.7843137254901961                                                                                                     \n",
      "{'var_smoothing': 0.0002848035868435802}                                                                               \n",
      "Accuracy:                                                                                                              \n",
      "0.7662337662337663                                                                                                     \n",
      "Accuracy:                                                                                                              \n",
      "0.7833333333333333                                                                                                     \n",
      "Accuracy:                                                                                                              \n",
      "0.7922077922077921                                                                                                     \n",
      "{'var_smoothing': 0.001873817422860383}                                                                                \n",
      "Accuracy:                                                                                                              \n",
      "0.7870967741935484                                                                                                     \n",
      "Accuracy:                                                                                                              \n",
      "0.7812499999999999                                                                                                     \n",
      "Accuracy:                                                                                                              \n",
      "0.7843137254901961                                                                                                     \n",
      "{'var_smoothing': 2.848035868435799e-06}                                                                               \n",
      "Accuracy:                                                                                                              \n",
      "0.782051282051282                                                                                                      \n",
      "Accuracy:                                                                                                              \n",
      "0.7945205479452055                                                                                                     \n",
      "Accuracy:                                                                                                              \n",
      "0.7922077922077921                                                                                                     \n",
      "{'var_smoothing': 0.12328467394420659}                                                                                 \n",
      "Accuracy:                                                                                                              \n",
      "0.7777777777777778                                                                                                     \n",
      "Accuracy:                                                                                                              \n",
      "0.8153846153846154                                                                                                     \n",
      "Accuracy:                                                                                                              \n",
      "0.7712418300653595                                                                                                     \n",
      "{'var_smoothing': 1e-05}                                                                                               \n",
      "Accuracy:                                                                                                              \n",
      "0.7643312101910827                                                                                                     \n",
      "Accuracy:                                                                                                              \n",
      "0.7741935483870968                                                                                                     \n",
      "Accuracy:                                                                                                              \n",
      "0.7948717948717948                                                                                                     \n"
     ]
    },
    {
     "name": "stdout",
     "output_type": "stream",
     "text": [
      "{'var_smoothing': 0.006579332246575682}                                                                                \n",
      "Accuracy:                                                                                                              \n",
      "0.7973856209150327                                                                                                     \n",
      "Accuracy:                                                                                                              \n",
      "0.8296296296296296                                                                                                     \n",
      "Accuracy:                                                                                                              \n",
      "0.7922077922077921                                                                                                     \n",
      "{'var_smoothing': 1.232846739442066e-06}                                                                               \n",
      "Accuracy:                                                                                                              \n",
      "0.7499999999999999                                                                                                     \n",
      "Accuracy:                                                                                                              \n",
      "0.7972972972972973                                                                                                     \n",
      "Accuracy:                                                                                                              \n",
      "0.7922077922077921                                                                                                     \n",
      "{'var_smoothing': 5.336699231206302e-09}                                                                               \n",
      "Accuracy:                                                                                                              \n",
      "0.7721518987341772                                                                                                     \n",
      "Accuracy:                                                                                                              \n",
      "0.7662337662337663                                                                                                     \n",
      "Accuracy:                                                                                                              \n",
      "0.7948717948717948                                                                                                     \n",
      "100%|███████████████████████████████████████████████| 10/10 [00:09<00:00,  1.07trial/s, best loss: -0.8064076809174848]\n",
      "Optimising 8 of 20 buckets\n",
      "{'var_smoothing': 1e-09}                                                                                               \n",
      "Accuracy:                                                                                                              \n",
      "0.7814569536423841                                                                                                     \n",
      "Accuracy:                                                                                                              \n",
      "0.8108108108108109                                                                                                     \n",
      "Accuracy:                                                                                                              \n",
      "0.7763157894736843                                                                                                     \n",
      "{'var_smoothing': 0.1873817422860384}                                                                                  \n",
      "Accuracy:                                                                                                              \n",
      "0.776978417266187                                                                                                      \n",
      "Accuracy:                                                                                                              \n",
      "0.7972972972972973                                                                                                     \n",
      "Accuracy:                                                                                                              \n",
      "0.8142857142857143                                                                                                     \n",
      "{'var_smoothing': 1e-08}                                                                                               \n",
      "Accuracy:                                                                                                              \n",
      "0.7733333333333334                                                                                                     \n",
      "Accuracy:                                                                                                              \n",
      "0.7919463087248322                                                                                                     \n",
      "Accuracy:                                                                                                              \n",
      "0.7866666666666665                                                                                                     \n",
      "{'var_smoothing': 0.0533669923120631}                                                                                  \n",
      "Accuracy:                                                                                                              \n",
      "0.7638888888888888                                                                                                     \n",
      "Accuracy:                                                                                                              \n",
      "0.7999999999999999                                                                                                     \n",
      "Accuracy:                                                                                                              \n",
      "0.7972972972972973                                                                                                     \n",
      "{'var_smoothing': 1.519911082952933e-08}                                                                               \n",
      "Accuracy:                                                                                                              \n",
      "0.7763157894736841                                                                                                     \n",
      "Accuracy:                                                                                                              \n",
      "0.8079470198675497                                                                                                     \n",
      "Accuracy:                                                                                                              \n",
      "0.7814569536423842                                                                                                     \n",
      "{'var_smoothing': 1.519911082952933e-08}                                                                               \n",
      "Accuracy:                                                                                                              \n",
      "0.7866666666666666                                                                                                     \n",
      "Accuracy:                                                                                                              \n",
      "0.7999999999999999                                                                                                     \n",
      "Accuracy:                                                                                                              \n",
      "0.7814569536423842                                                                                                     \n",
      "{'var_smoothing': 5.3366992312063123e-05}                                                                              \n",
      "Accuracy:                                                                                                              \n",
      "0.7567567567567568                                                                                                     \n",
      "Accuracy:                                                                                                              \n"
     ]
    },
    {
     "name": "stdout",
     "output_type": "stream",
     "text": [
      "0.7837837837837837                                                                                                     \n",
      "Accuracy:                                                                                                              \n",
      "0.7763157894736843                                                                                                     \n",
      "{'var_smoothing': 0.02848035868435802}                                                                                 \n",
      "Accuracy:                                                                                                              \n",
      "0.75                                                                                                                   \n",
      "Accuracy:                                                                                                              \n",
      "0.7916666666666666                                                                                                     \n",
      "Accuracy:                                                                                                              \n",
      "0.7945205479452054                                                                                                     \n",
      "{'var_smoothing': 1.0}                                                                                                 \n",
      "Accuracy:                                                                                                              \n",
      "0.7448275862068966                                                                                                     \n",
      "Accuracy:                                                                                                              \n",
      "0.7891156462585034                                                                                                     \n",
      "Accuracy:                                                                                                              \n",
      "0.7972027972027972                                                                                                     \n",
      "{'var_smoothing': 1.519911082952933e-06}                                                                               \n",
      "Accuracy:                                                                                                              \n",
      "0.7552447552447552                                                                                                     \n",
      "Accuracy:                                                                                                              \n",
      "0.7972972972972973                                                                                                     \n",
      "Accuracy:                                                                                                              \n",
      "0.7814569536423842                                                                                                     \n",
      "100%|███████████████████████████████████████████████| 10/10 [00:09<00:00,  1.01trial/s, best loss: -0.7961871429497328]\n",
      "Optimising 9 of 20 buckets\n",
      "{'var_smoothing': 3.5111917342151277e-08}                                                                              \n",
      "Accuracy:                                                                                                              \n",
      "0.7894736842105263                                                                                                     \n",
      "  0%|                                                                           | 0/10 [00:00<?, ?trial/s, best loss=?]"
     ]
    },
    {
     "name": "stderr",
     "output_type": "stream",
     "text": [
      "C:\\Users\\velmurug\\Documents\\full_stability\\transformers\\IndexBasedTransformer.py:58: PerformanceWarning: DataFrame is highly fragmented.  This is usually the result of calling `frame.insert` many times, which has poor performance.  Consider joining all columns at once using pd.concat(axis=1) instead.  To get a de-fragmented frame, use `newframe = frame.copy()`\n",
      "  dt_transformed[col] = 0\n",
      "\n"
     ]
    },
    {
     "name": "stdout",
     "output_type": "stream",
     "text": [
      "Accuracy:                                                                                                              \n",
      "0.786206896551724                                                                                                      \n",
      "Accuracy:                                                                                                              \n",
      "0.8111888111888113                                                                                                     \n",
      "{'var_smoothing': 0.03511191734215131}                                                                                 \n",
      " 10%|████▉                                            | 1/10 [00:01<00:10,  1.12s/trial, best loss: -0.795623130650354]"
     ]
    },
    {
     "name": "stderr",
     "output_type": "stream",
     "text": [
      "C:\\Users\\velmurug\\Documents\\full_stability\\transformers\\IndexBasedTransformer.py:58: PerformanceWarning: DataFrame is highly fragmented.  This is usually the result of calling `frame.insert` many times, which has poor performance.  Consider joining all columns at once using pd.concat(axis=1) instead.  To get a de-fragmented frame, use `newframe = frame.copy()`\n",
      "  dt_transformed[col] = 0\n",
      "\n"
     ]
    },
    {
     "name": "stdout",
     "output_type": "stream",
     "text": [
      "Accuracy:                                                                                                              \n",
      "0.7837837837837838                                                                                                     \n",
      " 10%|████▉                                            | 1/10 [00:01<00:10,  1.12s/trial, best loss: -0.795623130650354]"
     ]
    },
    {
     "name": "stderr",
     "output_type": "stream",
     "text": [
      "C:\\Users\\velmurug\\Documents\\full_stability\\transformers\\IndexBasedTransformer.py:58: PerformanceWarning: DataFrame is highly fragmented.  This is usually the result of calling `frame.insert` many times, which has poor performance.  Consider joining all columns at once using pd.concat(axis=1) instead.  To get a de-fragmented frame, use `newframe = frame.copy()`\n",
      "  dt_transformed[col] = 0\n",
      "\n"
     ]
    },
    {
     "name": "stdout",
     "output_type": "stream",
     "text": [
      "Accuracy:                                                                                                              \n",
      "0.7999999999999999                                                                                                     \n",
      "Accuracy:                                                                                                              \n",
      "0.8169014084507042                                                                                                     \n",
      "{'var_smoothing': 1.873817422860387e-09}                                                                               \n",
      " 20%|█████████▊                                       | 2/10 [00:02<00:09,  1.13s/trial, best loss: -0.800228397411496]"
     ]
    },
    {
     "name": "stderr",
     "output_type": "stream",
     "text": [
      "C:\\Users\\velmurug\\Documents\\full_stability\\transformers\\IndexBasedTransformer.py:58: PerformanceWarning: DataFrame is highly fragmented.  This is usually the result of calling `frame.insert` many times, which has poor performance.  Consider joining all columns at once using pd.concat(axis=1) instead.  To get a de-fragmented frame, use `newframe = frame.copy()`\n",
      "  dt_transformed[col] = 0\n",
      "\n"
     ]
    },
    {
     "name": "stdout",
     "output_type": "stream",
     "text": [
      "Accuracy:                                                                                                              \n",
      "0.7702702702702702                                                                                                     \n",
      " 20%|█████████▊                                       | 2/10 [00:02<00:09,  1.13s/trial, best loss: -0.800228397411496]"
     ]
    },
    {
     "name": "stderr",
     "output_type": "stream",
     "text": [
      "C:\\Users\\velmurug\\Documents\\full_stability\\transformers\\IndexBasedTransformer.py:58: PerformanceWarning: DataFrame is highly fragmented.  This is usually the result of calling `frame.insert` many times, which has poor performance.  Consider joining all columns at once using pd.concat(axis=1) instead.  To get a de-fragmented frame, use `newframe = frame.copy()`\n",
      "  dt_transformed[col] = 0\n",
      "\n"
     ]
    },
    {
     "name": "stdout",
     "output_type": "stream",
     "text": [
      "Accuracy:                                                                                                              \n",
      "0.7916666666666667                                                                                                     \n",
      "Accuracy:                                                                                                              \n",
      "0.8082191780821918                                                                                                     \n",
      "{'var_smoothing': 0.01873817422860384}                                                                                 \n",
      " 30%|██████████████▋                                  | 3/10 [00:03<00:07,  1.14s/trial, best loss: -0.800228397411496]"
     ]
    },
    {
     "name": "stderr",
     "output_type": "stream",
     "text": [
      "C:\\Users\\velmurug\\Documents\\full_stability\\transformers\\IndexBasedTransformer.py:58: PerformanceWarning: DataFrame is highly fragmented.  This is usually the result of calling `frame.insert` many times, which has poor performance.  Consider joining all columns at once using pd.concat(axis=1) instead.  To get a de-fragmented frame, use `newframe = frame.copy()`\n",
      "  dt_transformed[col] = 0\n",
      "\n"
     ]
    },
    {
     "name": "stdout",
     "output_type": "stream",
     "text": [
      "Accuracy:                                                                                                              \n",
      "0.7733333333333334                                                                                                     \n",
      " 30%|██████████████▋                                  | 3/10 [00:03<00:07,  1.14s/trial, best loss: -0.800228397411496]"
     ]
    },
    {
     "name": "stderr",
     "output_type": "stream",
     "text": [
      "C:\\Users\\velmurug\\Documents\\full_stability\\transformers\\IndexBasedTransformer.py:58: PerformanceWarning: DataFrame is highly fragmented.  This is usually the result of calling `frame.insert` many times, which has poor performance.  Consider joining all columns at once using pd.concat(axis=1) instead.  To get a de-fragmented frame, use `newframe = frame.copy()`\n",
      "  dt_transformed[col] = 0\n",
      "\n"
     ]
    },
    {
     "name": "stdout",
     "output_type": "stream",
     "text": [
      "Accuracy:                                                                                                              \n",
      "0.7857142857142857                                                                                                     \n",
      "Accuracy:                                                                                                              \n",
      "0.8169014084507042                                                                                                     \n",
      "{'var_smoothing': 2.310129700083158e-09}                                                                               \n",
      " 40%|███████████████████▌                             | 4/10 [00:04<00:06,  1.16s/trial, best loss: -0.800228397411496]"
     ]
    },
    {
     "name": "stderr",
     "output_type": "stream",
     "text": [
      "C:\\Users\\velmurug\\Documents\\full_stability\\transformers\\IndexBasedTransformer.py:58: PerformanceWarning: DataFrame is highly fragmented.  This is usually the result of calling `frame.insert` many times, which has poor performance.  Consider joining all columns at once using pd.concat(axis=1) instead.  To get a de-fragmented frame, use `newframe = frame.copy()`\n",
      "  dt_transformed[col] = 0\n",
      "\n"
     ]
    },
    {
     "name": "stdout",
     "output_type": "stream",
     "text": [
      "Accuracy:                                                                                                              \n",
      "0.8                                                                                                                    \n",
      " 40%|███████████████████▌                             | 4/10 [00:05<00:06,  1.16s/trial, best loss: -0.800228397411496]"
     ]
    },
    {
     "name": "stderr",
     "output_type": "stream",
     "text": [
      "C:\\Users\\velmurug\\Documents\\full_stability\\transformers\\IndexBasedTransformer.py:58: PerformanceWarning: DataFrame is highly fragmented.  This is usually the result of calling `frame.insert` many times, which has poor performance.  Consider joining all columns at once using pd.concat(axis=1) instead.  To get a de-fragmented frame, use `newframe = frame.copy()`\n",
      "  dt_transformed[col] = 0\n",
      "\n"
     ]
    },
    {
     "name": "stdout",
     "output_type": "stream",
     "text": [
      "Accuracy:                                                                                                              \n",
      "0.7777777777777778                                                                                                     \n",
      "Accuracy:                                                                                                              \n",
      "0.8082191780821918                                                                                                     \n",
      "{'var_smoothing': 0.3511191734215131}                                                                                  \n",
      " 50%|████████████████████████▌                        | 5/10 [00:05<00:05,  1.17s/trial, best loss: -0.800228397411496]"
     ]
    },
    {
     "name": "stderr",
     "output_type": "stream",
     "text": [
      "C:\\Users\\velmurug\\Documents\\full_stability\\transformers\\IndexBasedTransformer.py:58: PerformanceWarning: DataFrame is highly fragmented.  This is usually the result of calling `frame.insert` many times, which has poor performance.  Consider joining all columns at once using pd.concat(axis=1) instead.  To get a de-fragmented frame, use `newframe = frame.copy()`\n",
      "  dt_transformed[col] = 0\n",
      "\n"
     ]
    },
    {
     "name": "stdout",
     "output_type": "stream",
     "text": [
      "Accuracy:                                                                                                              \n",
      "0.7945205479452055                                                                                                     \n",
      " 50%|████████████████████████▌                        | 5/10 [00:06<00:05,  1.17s/trial, best loss: -0.800228397411496]"
     ]
    },
    {
     "name": "stderr",
     "output_type": "stream",
     "text": [
      "C:\\Users\\velmurug\\Documents\\full_stability\\transformers\\IndexBasedTransformer.py:58: PerformanceWarning: DataFrame is highly fragmented.  This is usually the result of calling `frame.insert` many times, which has poor performance.  Consider joining all columns at once using pd.concat(axis=1) instead.  To get a de-fragmented frame, use `newframe = frame.copy()`\n",
      "  dt_transformed[col] = 0\n",
      "\n"
     ]
    },
    {
     "name": "stdout",
     "output_type": "stream",
     "text": [
      "Accuracy:                                                                                                              \n",
      "0.8550724637681159                                                                                                     \n",
      "Accuracy:                                                                                                              \n",
      "0.802721088435374                                                                                                      \n",
      "{'var_smoothing': 1.519911082952933e-07}                                                                               \n",
      " 60%|████████████████████████████▊                   | 6/10 [00:07<00:04,  1.17s/trial, best loss: -0.8174380333828984]"
     ]
    },
    {
     "name": "stderr",
     "output_type": "stream",
     "text": [
      "C:\\Users\\velmurug\\Documents\\full_stability\\transformers\\IndexBasedTransformer.py:58: PerformanceWarning: DataFrame is highly fragmented.  This is usually the result of calling `frame.insert` many times, which has poor performance.  Consider joining all columns at once using pd.concat(axis=1) instead.  To get a de-fragmented frame, use `newframe = frame.copy()`\n",
      "  dt_transformed[col] = 0\n",
      "\n"
     ]
    },
    {
     "name": "stdout",
     "output_type": "stream",
     "text": [
      "Accuracy:                                                                                                              \n",
      "0.7814569536423841                                                                                                     \n",
      " 60%|████████████████████████████▊                   | 6/10 [00:07<00:04,  1.17s/trial, best loss: -0.8174380333828984]"
     ]
    },
    {
     "name": "stderr",
     "output_type": "stream",
     "text": [
      "C:\\Users\\velmurug\\Documents\\full_stability\\transformers\\IndexBasedTransformer.py:58: PerformanceWarning: DataFrame is highly fragmented.  This is usually the result of calling `frame.insert` many times, which has poor performance.  Consider joining all columns at once using pd.concat(axis=1) instead.  To get a de-fragmented frame, use `newframe = frame.copy()`\n",
      "  dt_transformed[col] = 0\n",
      "\n"
     ]
    },
    {
     "name": "stdout",
     "output_type": "stream",
     "text": [
      "Accuracy:                                                                                                              \n",
      "0.8055555555555556                                                                                                     \n",
      "Accuracy:                                                                                                              \n",
      "0.802721088435374                                                                                                      \n",
      "{'var_smoothing': 5.336699231206313e-06}                                                                               \n",
      " 70%|█████████████████████████████████▌              | 7/10 [00:08<00:03,  1.16s/trial, best loss: -0.8174380333828984]"
     ]
    },
    {
     "name": "stderr",
     "output_type": "stream",
     "text": [
      "C:\\Users\\velmurug\\Documents\\full_stability\\transformers\\IndexBasedTransformer.py:58: PerformanceWarning: DataFrame is highly fragmented.  This is usually the result of calling `frame.insert` many times, which has poor performance.  Consider joining all columns at once using pd.concat(axis=1) instead.  To get a de-fragmented frame, use `newframe = frame.copy()`\n",
      "  dt_transformed[col] = 0\n",
      "\n"
     ]
    },
    {
     "name": "stdout",
     "output_type": "stream",
     "text": [
      "Accuracy:                                                                                                              \n",
      "0.7866666666666666                                                                                                     \n",
      " 70%|█████████████████████████████████▌              | 7/10 [00:08<00:03,  1.16s/trial, best loss: -0.8174380333828984]"
     ]
    },
    {
     "name": "stderr",
     "output_type": "stream",
     "text": [
      "C:\\Users\\velmurug\\Documents\\full_stability\\transformers\\IndexBasedTransformer.py:58: PerformanceWarning: DataFrame is highly fragmented.  This is usually the result of calling `frame.insert` many times, which has poor performance.  Consider joining all columns at once using pd.concat(axis=1) instead.  To get a de-fragmented frame, use `newframe = frame.copy()`\n",
      "  dt_transformed[col] = 0\n",
      "\n"
     ]
    },
    {
     "name": "stdout",
     "output_type": "stream",
     "text": [
      "Accuracy:                                                                                                              \n",
      "0.8000000000000002                                                                                                     \n",
      "Accuracy:                                                                                                              \n",
      "0.786206896551724                                                                                                      \n",
      "{'var_smoothing': 0.0001232846739442066}                                                                               \n",
      " 80%|██████████████████████████████████████▍         | 8/10 [00:09<00:02,  1.16s/trial, best loss: -0.8174380333828984]"
     ]
    },
    {
     "name": "stderr",
     "output_type": "stream",
     "text": [
      "C:\\Users\\velmurug\\Documents\\full_stability\\transformers\\IndexBasedTransformer.py:58: PerformanceWarning: DataFrame is highly fragmented.  This is usually the result of calling `frame.insert` many times, which has poor performance.  Consider joining all columns at once using pd.concat(axis=1) instead.  To get a de-fragmented frame, use `newframe = frame.copy()`\n",
      "  dt_transformed[col] = 0\n",
      "\n"
     ]
    },
    {
     "name": "stdout",
     "output_type": "stream",
     "text": [
      "Accuracy:                                                                                                              \n",
      "0.7894736842105263                                                                                                     \n",
      " 80%|██████████████████████████████████████▍         | 8/10 [00:09<00:02,  1.16s/trial, best loss: -0.8174380333828984]"
     ]
    },
    {
     "name": "stderr",
     "output_type": "stream",
     "text": [
      "C:\\Users\\velmurug\\Documents\\full_stability\\transformers\\IndexBasedTransformer.py:58: PerformanceWarning: DataFrame is highly fragmented.  This is usually the result of calling `frame.insert` many times, which has poor performance.  Consider joining all columns at once using pd.concat(axis=1) instead.  To get a de-fragmented frame, use `newframe = frame.copy()`\n",
      "  dt_transformed[col] = 0\n",
      "\n"
     ]
    },
    {
     "name": "stdout",
     "output_type": "stream",
     "text": [
      "Accuracy:                                                                                                              \n",
      "0.8055555555555556                                                                                                     \n",
      "Accuracy:                                                                                                              \n",
      "0.8137931034482759                                                                                                     \n",
      "{'var_smoothing': 1e-06}                                                                                               \n",
      " 90%|███████████████████████████████████████████▏    | 9/10 [00:10<00:01,  1.17s/trial, best loss: -0.8174380333828984]"
     ]
    },
    {
     "name": "stderr",
     "output_type": "stream",
     "text": [
      "C:\\Users\\velmurug\\Documents\\full_stability\\transformers\\IndexBasedTransformer.py:58: PerformanceWarning: DataFrame is highly fragmented.  This is usually the result of calling `frame.insert` many times, which has poor performance.  Consider joining all columns at once using pd.concat(axis=1) instead.  To get a de-fragmented frame, use `newframe = frame.copy()`\n",
      "  dt_transformed[col] = 0\n",
      "\n"
     ]
    },
    {
     "name": "stdout",
     "output_type": "stream",
     "text": [
      "Accuracy:                                                                                                              \n",
      "0.7919463087248322                                                                                                     \n",
      " 90%|███████████████████████████████████████████▏    | 9/10 [00:10<00:01,  1.17s/trial, best loss: -0.8174380333828984]"
     ]
    },
    {
     "name": "stderr",
     "output_type": "stream",
     "text": [
      "C:\\Users\\velmurug\\Documents\\full_stability\\transformers\\IndexBasedTransformer.py:58: PerformanceWarning: DataFrame is highly fragmented.  This is usually the result of calling `frame.insert` many times, which has poor performance.  Consider joining all columns at once using pd.concat(axis=1) instead.  To get a de-fragmented frame, use `newframe = frame.copy()`\n",
      "  dt_transformed[col] = 0\n",
      "\n"
     ]
    },
    {
     "name": "stdout",
     "output_type": "stream",
     "text": [
      "Accuracy:                                                                                                              \n",
      "0.7972027972027973                                                                                                     \n",
      "Accuracy:                                                                                                              \n",
      "0.802721088435374                                                                                                      \n",
      "100%|███████████████████████████████████████████████| 10/10 [00:11<00:00,  1.17s/trial, best loss: -0.8174380333828984]\n",
      "Optimising 10 of 20 buckets\n",
      "{'var_smoothing': 0.657933224657568}                                                                                   \n",
      "  0%|                                                                           | 0/10 [00:00<?, ?trial/s, best loss=?]"
     ]
    },
    {
     "name": "stderr",
     "output_type": "stream",
     "text": [
      "C:\\Users\\velmurug\\Documents\\full_stability\\transformers\\IndexBasedTransformer.py:58: PerformanceWarning: DataFrame is highly fragmented.  This is usually the result of calling `frame.insert` many times, which has poor performance.  Consider joining all columns at once using pd.concat(axis=1) instead.  To get a de-fragmented frame, use `newframe = frame.copy()`\n",
      "  dt_transformed[col] = 0\n",
      "\n"
     ]
    },
    {
     "name": "stdout",
     "output_type": "stream",
     "text": [
      "Accuracy:                                                                                                              \n",
      "0.8082191780821918                                                                                                     \n",
      "  0%|                                                                           | 0/10 [00:00<?, ?trial/s, best loss=?]"
     ]
    },
    {
     "name": "stderr",
     "output_type": "stream",
     "text": [
      "C:\\Users\\velmurug\\Documents\\full_stability\\transformers\\IndexBasedTransformer.py:58: PerformanceWarning: DataFrame is highly fragmented.  This is usually the result of calling `frame.insert` many times, which has poor performance.  Consider joining all columns at once using pd.concat(axis=1) instead.  To get a de-fragmented frame, use `newframe = frame.copy()`\n",
      "  dt_transformed[col] = 0\n",
      "\n"
     ]
    },
    {
     "name": "stdout",
     "output_type": "stream",
     "text": [
      "Accuracy:                                                                                                              \n",
      "0.8028169014084507                                                                                                     \n",
      "  0%|                                                                           | 0/10 [00:00<?, ?trial/s, best loss=?]"
     ]
    },
    {
     "name": "stderr",
     "output_type": "stream",
     "text": [
      "C:\\Users\\velmurug\\Documents\\full_stability\\transformers\\IndexBasedTransformer.py:58: PerformanceWarning: DataFrame is highly fragmented.  This is usually the result of calling `frame.insert` many times, which has poor performance.  Consider joining all columns at once using pd.concat(axis=1) instead.  To get a de-fragmented frame, use `newframe = frame.copy()`\n",
      "  dt_transformed[col] = 0\n",
      "\n"
     ]
    },
    {
     "name": "stdout",
     "output_type": "stream",
     "text": [
      "Accuracy:                                                                                                              \n",
      "0.7972027972027973                                                                                                     \n",
      "{'var_smoothing': 0.8111308307896871}                                                                                  \n",
      " 10%|████▊                                           | 1/10 [00:01<00:11,  1.29s/trial, best loss: -0.8027462922311465]"
     ]
    },
    {
     "name": "stderr",
     "output_type": "stream",
     "text": [
      "C:\\Users\\velmurug\\Documents\\full_stability\\transformers\\IndexBasedTransformer.py:58: PerformanceWarning: DataFrame is highly fragmented.  This is usually the result of calling `frame.insert` many times, which has poor performance.  Consider joining all columns at once using pd.concat(axis=1) instead.  To get a de-fragmented frame, use `newframe = frame.copy()`\n",
      "  dt_transformed[col] = 0\n",
      "\n"
     ]
    },
    {
     "name": "stdout",
     "output_type": "stream",
     "text": [
      "Accuracy:                                                                                                              \n",
      "0.8201438848920863                                                                                                     \n",
      " 10%|████▊                                           | 1/10 [00:01<00:11,  1.29s/trial, best loss: -0.8027462922311465]"
     ]
    },
    {
     "name": "stderr",
     "output_type": "stream",
     "text": [
      "C:\\Users\\velmurug\\Documents\\full_stability\\transformers\\IndexBasedTransformer.py:58: PerformanceWarning: DataFrame is highly fragmented.  This is usually the result of calling `frame.insert` many times, which has poor performance.  Consider joining all columns at once using pd.concat(axis=1) instead.  To get a de-fragmented frame, use `newframe = frame.copy()`\n",
      "  dt_transformed[col] = 0\n",
      "\n"
     ]
    },
    {
     "name": "stdout",
     "output_type": "stream",
     "text": [
      "Accuracy:                                                                                                              \n",
      "0.8085106382978723                                                                                                     \n",
      " 10%|████▊                                           | 1/10 [00:02<00:11,  1.29s/trial, best loss: -0.8027462922311465]"
     ]
    },
    {
     "name": "stderr",
     "output_type": "stream",
     "text": [
      "C:\\Users\\velmurug\\Documents\\full_stability\\transformers\\IndexBasedTransformer.py:58: PerformanceWarning: DataFrame is highly fragmented.  This is usually the result of calling `frame.insert` many times, which has poor performance.  Consider joining all columns at once using pd.concat(axis=1) instead.  To get a de-fragmented frame, use `newframe = frame.copy()`\n",
      "  dt_transformed[col] = 0\n",
      "\n"
     ]
    },
    {
     "name": "stdout",
     "output_type": "stream",
     "text": [
      "Accuracy:                                                                                                              \n",
      "0.7972027972027973                                                                                                     \n",
      "{'var_smoothing': 1.519911082952933e-08}                                                                               \n",
      " 20%|█████████▌                                      | 2/10 [00:02<00:10,  1.29s/trial, best loss: -0.8086191067975852]"
     ]
    },
    {
     "name": "stderr",
     "output_type": "stream",
     "text": [
      "C:\\Users\\velmurug\\Documents\\full_stability\\transformers\\IndexBasedTransformer.py:58: PerformanceWarning: DataFrame is highly fragmented.  This is usually the result of calling `frame.insert` many times, which has poor performance.  Consider joining all columns at once using pd.concat(axis=1) instead.  To get a de-fragmented frame, use `newframe = frame.copy()`\n",
      "  dt_transformed[col] = 0\n",
      "\n"
     ]
    },
    {
     "name": "stdout",
     "output_type": "stream",
     "text": [
      "Accuracy:                                                                                                              \n",
      "0.8226950354609929                                                                                                     \n",
      " 20%|█████████▌                                      | 2/10 [00:02<00:10,  1.29s/trial, best loss: -0.8086191067975852]"
     ]
    },
    {
     "name": "stderr",
     "output_type": "stream",
     "text": [
      "C:\\Users\\velmurug\\Documents\\full_stability\\transformers\\IndexBasedTransformer.py:58: PerformanceWarning: DataFrame is highly fragmented.  This is usually the result of calling `frame.insert` many times, which has poor performance.  Consider joining all columns at once using pd.concat(axis=1) instead.  To get a de-fragmented frame, use `newframe = frame.copy()`\n",
      "  dt_transformed[col] = 0\n",
      "\n"
     ]
    },
    {
     "name": "stdout",
     "output_type": "stream",
     "text": [
      "Accuracy:                                                                                                              \n",
      "0.8137931034482759                                                                                                     \n",
      " 20%|█████████▌                                      | 2/10 [00:03<00:10,  1.29s/trial, best loss: -0.8086191067975852]"
     ]
    },
    {
     "name": "stderr",
     "output_type": "stream",
     "text": [
      "C:\\Users\\velmurug\\Documents\\full_stability\\transformers\\IndexBasedTransformer.py:58: PerformanceWarning: DataFrame is highly fragmented.  This is usually the result of calling `frame.insert` many times, which has poor performance.  Consider joining all columns at once using pd.concat(axis=1) instead.  To get a de-fragmented frame, use `newframe = frame.copy()`\n",
      "  dt_transformed[col] = 0\n",
      "\n"
     ]
    },
    {
     "name": "stdout",
     "output_type": "stream",
     "text": [
      "Accuracy:                                                                                                              \n",
      "0.8226950354609929                                                                                                     \n",
      "{'var_smoothing': 2.310129700083158e-08}                                                                               \n",
      " 30%|██████████████▍                                 | 3/10 [00:03<00:08,  1.27s/trial, best loss: -0.8197277247900873]"
     ]
    },
    {
     "name": "stderr",
     "output_type": "stream",
     "text": [
      "C:\\Users\\velmurug\\Documents\\full_stability\\transformers\\IndexBasedTransformer.py:58: PerformanceWarning: DataFrame is highly fragmented.  This is usually the result of calling `frame.insert` many times, which has poor performance.  Consider joining all columns at once using pd.concat(axis=1) instead.  To get a de-fragmented frame, use `newframe = frame.copy()`\n",
      "  dt_transformed[col] = 0\n",
      "\n"
     ]
    },
    {
     "name": "stdout",
     "output_type": "stream",
     "text": [
      "Accuracy:                                                                                                              \n",
      "0.8111888111888111                                                                                                     \n",
      " 30%|██████████████▍                                 | 3/10 [00:04<00:08,  1.27s/trial, best loss: -0.8197277247900873]"
     ]
    },
    {
     "name": "stderr",
     "output_type": "stream",
     "text": [
      "C:\\Users\\velmurug\\Documents\\full_stability\\transformers\\IndexBasedTransformer.py:58: PerformanceWarning: DataFrame is highly fragmented.  This is usually the result of calling `frame.insert` many times, which has poor performance.  Consider joining all columns at once using pd.concat(axis=1) instead.  To get a de-fragmented frame, use `newframe = frame.copy()`\n",
      "  dt_transformed[col] = 0\n",
      "\n"
     ]
    },
    {
     "name": "stdout",
     "output_type": "stream",
     "text": [
      "Accuracy:                                                                                                              \n",
      "0.8027210884353742                                                                                                     \n",
      " 30%|██████████████▍                                 | 3/10 [00:04<00:08,  1.27s/trial, best loss: -0.8197277247900873]"
     ]
    },
    {
     "name": "stderr",
     "output_type": "stream",
     "text": [
      "C:\\Users\\velmurug\\Documents\\full_stability\\transformers\\IndexBasedTransformer.py:58: PerformanceWarning: DataFrame is highly fragmented.  This is usually the result of calling `frame.insert` many times, which has poor performance.  Consider joining all columns at once using pd.concat(axis=1) instead.  To get a de-fragmented frame, use `newframe = frame.copy()`\n",
      "  dt_transformed[col] = 0\n",
      "\n"
     ]
    },
    {
     "name": "stdout",
     "output_type": "stream",
     "text": [
      "Accuracy:                                                                                                              \n",
      "0.7887323943661972                                                                                                     \n",
      "{'var_smoothing': 2.310129700083158e-06}                                                                               \n",
      " 40%|███████████████████▏                            | 4/10 [00:05<00:07,  1.28s/trial, best loss: -0.8197277247900873]"
     ]
    },
    {
     "name": "stderr",
     "output_type": "stream",
     "text": [
      "C:\\Users\\velmurug\\Documents\\full_stability\\transformers\\IndexBasedTransformer.py:58: PerformanceWarning: DataFrame is highly fragmented.  This is usually the result of calling `frame.insert` many times, which has poor performance.  Consider joining all columns at once using pd.concat(axis=1) instead.  To get a de-fragmented frame, use `newframe = frame.copy()`\n",
      "  dt_transformed[col] = 0\n",
      "\n"
     ]
    },
    {
     "name": "stdout",
     "output_type": "stream",
     "text": [
      "Accuracy:                                                                                                              \n",
      "0.8085106382978723                                                                                                     \n",
      " 40%|███████████████████▏                            | 4/10 [00:05<00:07,  1.28s/trial, best loss: -0.8197277247900873]"
     ]
    },
    {
     "name": "stderr",
     "output_type": "stream",
     "text": [
      "C:\\Users\\velmurug\\Documents\\full_stability\\transformers\\IndexBasedTransformer.py:58: PerformanceWarning: DataFrame is highly fragmented.  This is usually the result of calling `frame.insert` many times, which has poor performance.  Consider joining all columns at once using pd.concat(axis=1) instead.  To get a de-fragmented frame, use `newframe = frame.copy()`\n",
      "  dt_transformed[col] = 0\n",
      "\n"
     ]
    },
    {
     "name": "stdout",
     "output_type": "stream",
     "text": [
      "Accuracy:                                                                                                              \n",
      "0.8137931034482759                                                                                                     \n",
      " 40%|███████████████████▏                            | 4/10 [00:05<00:07,  1.28s/trial, best loss: -0.8197277247900873]"
     ]
    },
    {
     "name": "stderr",
     "output_type": "stream",
     "text": [
      "C:\\Users\\velmurug\\Documents\\full_stability\\transformers\\IndexBasedTransformer.py:58: PerformanceWarning: DataFrame is highly fragmented.  This is usually the result of calling `frame.insert` many times, which has poor performance.  Consider joining all columns at once using pd.concat(axis=1) instead.  To get a de-fragmented frame, use `newframe = frame.copy()`\n",
      "  dt_transformed[col] = 0\n",
      "\n"
     ]
    },
    {
     "name": "stdout",
     "output_type": "stream",
     "text": [
      "Accuracy:                                                                                                              \n",
      "0.8055555555555556                                                                                                     \n",
      "{'var_smoothing': 4.328761281083062e-05}                                                                               \n",
      " 50%|████████████████████████                        | 5/10 [00:06<00:06,  1.27s/trial, best loss: -0.8197277247900873]"
     ]
    },
    {
     "name": "stderr",
     "output_type": "stream",
     "text": [
      "C:\\Users\\velmurug\\Documents\\full_stability\\transformers\\IndexBasedTransformer.py:58: PerformanceWarning: DataFrame is highly fragmented.  This is usually the result of calling `frame.insert` many times, which has poor performance.  Consider joining all columns at once using pd.concat(axis=1) instead.  To get a de-fragmented frame, use `newframe = frame.copy()`\n",
      "  dt_transformed[col] = 0\n",
      "\n"
     ]
    },
    {
     "name": "stdout",
     "output_type": "stream",
     "text": [
      "Accuracy:                                                                                                              \n",
      "0.8208955223880597                                                                                                     \n",
      " 50%|████████████████████████                        | 5/10 [00:06<00:06,  1.27s/trial, best loss: -0.8197277247900873]"
     ]
    },
    {
     "name": "stderr",
     "output_type": "stream",
     "text": [
      "C:\\Users\\velmurug\\Documents\\full_stability\\transformers\\IndexBasedTransformer.py:58: PerformanceWarning: DataFrame is highly fragmented.  This is usually the result of calling `frame.insert` many times, which has poor performance.  Consider joining all columns at once using pd.concat(axis=1) instead.  To get a de-fragmented frame, use `newframe = frame.copy()`\n",
      "  dt_transformed[col] = 0\n",
      "\n"
     ]
    },
    {
     "name": "stdout",
     "output_type": "stream",
     "text": [
      "Accuracy:                                                                                                              \n",
      "0.7916666666666666                                                                                                     \n",
      " 50%|████████████████████████                        | 5/10 [00:07<00:06,  1.27s/trial, best loss: -0.8197277247900873]"
     ]
    },
    {
     "name": "stderr",
     "output_type": "stream",
     "text": [
      "C:\\Users\\velmurug\\Documents\\full_stability\\transformers\\IndexBasedTransformer.py:58: PerformanceWarning: DataFrame is highly fragmented.  This is usually the result of calling `frame.insert` many times, which has poor performance.  Consider joining all columns at once using pd.concat(axis=1) instead.  To get a de-fragmented frame, use `newframe = frame.copy()`\n",
      "  dt_transformed[col] = 0\n",
      "\n"
     ]
    },
    {
     "name": "stdout",
     "output_type": "stream",
     "text": [
      "Accuracy:                                                                                                              \n",
      "0.8194444444444444                                                                                                     \n",
      "{'var_smoothing': 6.579332246575682e-08}                                                                               \n",
      " 60%|████████████████████████████▊                   | 6/10 [00:07<00:05,  1.30s/trial, best loss: -0.8197277247900873]"
     ]
    },
    {
     "name": "stderr",
     "output_type": "stream",
     "text": [
      "C:\\Users\\velmurug\\Documents\\full_stability\\transformers\\IndexBasedTransformer.py:58: PerformanceWarning: DataFrame is highly fragmented.  This is usually the result of calling `frame.insert` many times, which has poor performance.  Consider joining all columns at once using pd.concat(axis=1) instead.  To get a de-fragmented frame, use `newframe = frame.copy()`\n",
      "  dt_transformed[col] = 0\n",
      "\n"
     ]
    },
    {
     "name": "stdout",
     "output_type": "stream",
     "text": [
      "Accuracy:                                                                                                              \n",
      "0.8029197080291971                                                                                                     \n",
      " 60%|████████████████████████████▊                   | 6/10 [00:08<00:05,  1.30s/trial, best loss: -0.8197277247900873]"
     ]
    },
    {
     "name": "stderr",
     "output_type": "stream",
     "text": [
      "C:\\Users\\velmurug\\Documents\\full_stability\\transformers\\IndexBasedTransformer.py:58: PerformanceWarning: DataFrame is highly fragmented.  This is usually the result of calling `frame.insert` many times, which has poor performance.  Consider joining all columns at once using pd.concat(axis=1) instead.  To get a de-fragmented frame, use `newframe = frame.copy()`\n",
      "  dt_transformed[col] = 0\n",
      "\n"
     ]
    },
    {
     "name": "stdout",
     "output_type": "stream",
     "text": [
      "Accuracy:                                                                                                              \n",
      "0.8                                                                                                                    \n",
      " 60%|████████████████████████████▊                   | 6/10 [00:08<00:05,  1.30s/trial, best loss: -0.8197277247900873]"
     ]
    },
    {
     "name": "stderr",
     "output_type": "stream",
     "text": [
      "C:\\Users\\velmurug\\Documents\\full_stability\\transformers\\IndexBasedTransformer.py:58: PerformanceWarning: DataFrame is highly fragmented.  This is usually the result of calling `frame.insert` many times, which has poor performance.  Consider joining all columns at once using pd.concat(axis=1) instead.  To get a de-fragmented frame, use `newframe = frame.copy()`\n",
      "  dt_transformed[col] = 0\n",
      "\n"
     ]
    },
    {
     "name": "stdout",
     "output_type": "stream",
     "text": [
      "Accuracy:                                                                                                              \n",
      "0.8219178082191781                                                                                                     \n",
      "{'var_smoothing': 4.328761281083062e-05}                                                                               \n",
      " 70%|█████████████████████████████████▌              | 7/10 [00:09<00:03,  1.30s/trial, best loss: -0.8197277247900873]"
     ]
    },
    {
     "name": "stderr",
     "output_type": "stream",
     "text": [
      "C:\\Users\\velmurug\\Documents\\full_stability\\transformers\\IndexBasedTransformer.py:58: PerformanceWarning: DataFrame is highly fragmented.  This is usually the result of calling `frame.insert` many times, which has poor performance.  Consider joining all columns at once using pd.concat(axis=1) instead.  To get a de-fragmented frame, use `newframe = frame.copy()`\n",
      "  dt_transformed[col] = 0\n",
      "\n"
     ]
    },
    {
     "name": "stdout",
     "output_type": "stream",
     "text": [
      "Accuracy:                                                                                                              \n",
      "0.8201438848920863                                                                                                     \n",
      " 70%|█████████████████████████████████▌              | 7/10 [00:09<00:03,  1.30s/trial, best loss: -0.8197277247900873]"
     ]
    },
    {
     "name": "stderr",
     "output_type": "stream",
     "text": [
      "C:\\Users\\velmurug\\Documents\\full_stability\\transformers\\IndexBasedTransformer.py:58: PerformanceWarning: DataFrame is highly fragmented.  This is usually the result of calling `frame.insert` many times, which has poor performance.  Consider joining all columns at once using pd.concat(axis=1) instead.  To get a de-fragmented frame, use `newframe = frame.copy()`\n",
      "  dt_transformed[col] = 0\n",
      "\n"
     ]
    },
    {
     "name": "stdout",
     "output_type": "stream",
     "text": [
      "Accuracy:                                                                                                              \n",
      "0.7887323943661971                                                                                                     \n",
      " 70%|█████████████████████████████████▌              | 7/10 [00:09<00:03,  1.30s/trial, best loss: -0.8197277247900873]"
     ]
    },
    {
     "name": "stderr",
     "output_type": "stream",
     "text": [
      "C:\\Users\\velmurug\\Documents\\full_stability\\transformers\\IndexBasedTransformer.py:58: PerformanceWarning: DataFrame is highly fragmented.  This is usually the result of calling `frame.insert` many times, which has poor performance.  Consider joining all columns at once using pd.concat(axis=1) instead.  To get a de-fragmented frame, use `newframe = frame.copy()`\n",
      "  dt_transformed[col] = 0\n",
      "\n"
     ]
    },
    {
     "name": "stdout",
     "output_type": "stream",
     "text": [
      "Accuracy:                                                                                                              \n",
      "0.8142857142857143                                                                                                     \n",
      "{'var_smoothing': 1.519911082952933e-07}                                                                               \n",
      " 80%|██████████████████████████████████████▍         | 8/10 [00:10<00:02,  1.27s/trial, best loss: -0.8197277247900873]"
     ]
    },
    {
     "name": "stderr",
     "output_type": "stream",
     "text": [
      "C:\\Users\\velmurug\\Documents\\full_stability\\transformers\\IndexBasedTransformer.py:58: PerformanceWarning: DataFrame is highly fragmented.  This is usually the result of calling `frame.insert` many times, which has poor performance.  Consider joining all columns at once using pd.concat(axis=1) instead.  To get a de-fragmented frame, use `newframe = frame.copy()`\n",
      "  dt_transformed[col] = 0\n",
      "\n"
     ]
    },
    {
     "name": "stdout",
     "output_type": "stream",
     "text": [
      "Accuracy:                                                                                                              \n",
      "0.8169014084507042                                                                                                     \n",
      " 80%|██████████████████████████████████████▍         | 8/10 [00:10<00:02,  1.27s/trial, best loss: -0.8197277247900873]"
     ]
    },
    {
     "name": "stderr",
     "output_type": "stream",
     "text": [
      "C:\\Users\\velmurug\\Documents\\full_stability\\transformers\\IndexBasedTransformer.py:58: PerformanceWarning: DataFrame is highly fragmented.  This is usually the result of calling `frame.insert` many times, which has poor performance.  Consider joining all columns at once using pd.concat(axis=1) instead.  To get a de-fragmented frame, use `newframe = frame.copy()`\n",
      "  dt_transformed[col] = 0\n",
      "\n"
     ]
    },
    {
     "name": "stdout",
     "output_type": "stream",
     "text": [
      "Accuracy:                                                                                                              \n",
      "0.7832167832167831                                                                                                     \n",
      " 80%|██████████████████████████████████████▍         | 8/10 [00:11<00:02,  1.27s/trial, best loss: -0.8197277247900873]"
     ]
    },
    {
     "name": "stderr",
     "output_type": "stream",
     "text": [
      "C:\\Users\\velmurug\\Documents\\full_stability\\transformers\\IndexBasedTransformer.py:58: PerformanceWarning: DataFrame is highly fragmented.  This is usually the result of calling `frame.insert` many times, which has poor performance.  Consider joining all columns at once using pd.concat(axis=1) instead.  To get a de-fragmented frame, use `newframe = frame.copy()`\n",
      "  dt_transformed[col] = 0\n",
      "\n"
     ]
    },
    {
     "name": "stdout",
     "output_type": "stream",
     "text": [
      "Accuracy:                                                                                                              \n",
      "0.8085106382978724                                                                                                     \n",
      "{'var_smoothing': 0.0657933224657568}                                                                                  \n",
      " 90%|███████████████████████████████████████████▏    | 9/10 [00:11<00:01,  1.26s/trial, best loss: -0.8197277247900873]"
     ]
    },
    {
     "name": "stderr",
     "output_type": "stream",
     "text": [
      "C:\\Users\\velmurug\\Documents\\full_stability\\transformers\\IndexBasedTransformer.py:58: PerformanceWarning: DataFrame is highly fragmented.  This is usually the result of calling `frame.insert` many times, which has poor performance.  Consider joining all columns at once using pd.concat(axis=1) instead.  To get a de-fragmented frame, use `newframe = frame.copy()`\n",
      "  dt_transformed[col] = 0\n",
      "\n"
     ]
    },
    {
     "name": "stdout",
     "output_type": "stream",
     "text": [
      "Accuracy:                                                                                                              \n",
      "0.8321167883211679                                                                                                     \n",
      " 90%|███████████████████████████████████████████▏    | 9/10 [00:11<00:01,  1.26s/trial, best loss: -0.8197277247900873]"
     ]
    },
    {
     "name": "stderr",
     "output_type": "stream",
     "text": [
      "C:\\Users\\velmurug\\Documents\\full_stability\\transformers\\IndexBasedTransformer.py:58: PerformanceWarning: DataFrame is highly fragmented.  This is usually the result of calling `frame.insert` many times, which has poor performance.  Consider joining all columns at once using pd.concat(axis=1) instead.  To get a de-fragmented frame, use `newframe = frame.copy()`\n",
      "  dt_transformed[col] = 0\n",
      "\n"
     ]
    },
    {
     "name": "stdout",
     "output_type": "stream",
     "text": [
      "Accuracy:                                                                                                              \n",
      "0.8088235294117647                                                                                                     \n",
      " 90%|███████████████████████████████████████████▏    | 9/10 [00:12<00:01,  1.26s/trial, best loss: -0.8197277247900873]"
     ]
    },
    {
     "name": "stderr",
     "output_type": "stream",
     "text": [
      "C:\\Users\\velmurug\\Documents\\full_stability\\transformers\\IndexBasedTransformer.py:58: PerformanceWarning: DataFrame is highly fragmented.  This is usually the result of calling `frame.insert` many times, which has poor performance.  Consider joining all columns at once using pd.concat(axis=1) instead.  To get a de-fragmented frame, use `newframe = frame.copy()`\n",
      "  dt_transformed[col] = 0\n",
      "\n"
     ]
    },
    {
     "name": "stdout",
     "output_type": "stream",
     "text": [
      "Accuracy:                                                                                                              \n",
      "0.8296296296296296                                                                                                     \n",
      "100%|███████████████████████████████████████████████| 10/10 [00:12<00:00,  1.27s/trial, best loss: -0.8235233157875207]\n",
      "Optimising 11 of 20 buckets\n",
      "{'var_smoothing': 0.0005336699231206307}                                                                               \n",
      "  0%|                                                                           | 0/10 [00:00<?, ?trial/s, best loss=?]"
     ]
    },
    {
     "name": "stderr",
     "output_type": "stream",
     "text": [
      "C:\\Users\\velmurug\\Documents\\full_stability\\transformers\\IndexBasedTransformer.py:58: PerformanceWarning: DataFrame is highly fragmented.  This is usually the result of calling `frame.insert` many times, which has poor performance.  Consider joining all columns at once using pd.concat(axis=1) instead.  To get a de-fragmented frame, use `newframe = frame.copy()`\n",
      "  dt_transformed[col] = 0\n",
      "\n"
     ]
    },
    {
     "name": "stdout",
     "output_type": "stream",
     "text": [
      "Accuracy:                                                                                                              \n",
      "0.8142857142857143                                                                                                     \n",
      "  0%|                                                                           | 0/10 [00:00<?, ?trial/s, best loss=?]"
     ]
    },
    {
     "name": "stderr",
     "output_type": "stream",
     "text": [
      "C:\\Users\\velmurug\\Documents\\full_stability\\transformers\\IndexBasedTransformer.py:58: PerformanceWarning: DataFrame is highly fragmented.  This is usually the result of calling `frame.insert` many times, which has poor performance.  Consider joining all columns at once using pd.concat(axis=1) instead.  To get a de-fragmented frame, use `newframe = frame.copy()`\n",
      "  dt_transformed[col] = 0\n",
      "\n"
     ]
    },
    {
     "name": "stdout",
     "output_type": "stream",
     "text": [
      "Accuracy:                                                                                                              \n",
      "0.7924528301886793                                                                                                     \n",
      "  0%|                                                                           | 0/10 [00:00<?, ?trial/s, best loss=?]"
     ]
    },
    {
     "name": "stderr",
     "output_type": "stream",
     "text": [
      "C:\\Users\\velmurug\\Documents\\full_stability\\transformers\\IndexBasedTransformer.py:58: PerformanceWarning: DataFrame is highly fragmented.  This is usually the result of calling `frame.insert` many times, which has poor performance.  Consider joining all columns at once using pd.concat(axis=1) instead.  To get a de-fragmented frame, use `newframe = frame.copy()`\n",
      "  dt_transformed[col] = 0\n",
      "\n"
     ]
    },
    {
     "name": "stdout",
     "output_type": "stream",
     "text": [
      "Accuracy:                                                                                                              \n",
      "0.8270676691729324                                                                                                     \n",
      "{'var_smoothing': 1.519911082952933e-08}                                                                               \n",
      " 10%|████▉                                            | 1/10 [00:01<00:12,  1.43s/trial, best loss: -0.811268737882442]"
     ]
    },
    {
     "name": "stderr",
     "output_type": "stream",
     "text": [
      "C:\\Users\\velmurug\\Documents\\full_stability\\transformers\\IndexBasedTransformer.py:58: PerformanceWarning: DataFrame is highly fragmented.  This is usually the result of calling `frame.insert` many times, which has poor performance.  Consider joining all columns at once using pd.concat(axis=1) instead.  To get a de-fragmented frame, use `newframe = frame.copy()`\n",
      "  dt_transformed[col] = 0\n",
      "\n"
     ]
    },
    {
     "name": "stdout",
     "output_type": "stream",
     "text": [
      "Accuracy:                                                                                                              \n",
      "0.8142857142857143                                                                                                     \n",
      " 10%|████▉                                            | 1/10 [00:01<00:12,  1.43s/trial, best loss: -0.811268737882442]"
     ]
    },
    {
     "name": "stderr",
     "output_type": "stream",
     "text": [
      "C:\\Users\\velmurug\\Documents\\full_stability\\transformers\\IndexBasedTransformer.py:58: PerformanceWarning: DataFrame is highly fragmented.  This is usually the result of calling `frame.insert` many times, which has poor performance.  Consider joining all columns at once using pd.concat(axis=1) instead.  To get a de-fragmented frame, use `newframe = frame.copy()`\n",
      "  dt_transformed[col] = 0\n",
      "\n"
     ]
    },
    {
     "name": "stdout",
     "output_type": "stream",
     "text": [
      "Accuracy:                                                                                                              \n",
      "0.8307692307692308                                                                                                     \n",
      " 10%|████▉                                            | 1/10 [00:02<00:12,  1.43s/trial, best loss: -0.811268737882442]"
     ]
    },
    {
     "name": "stderr",
     "output_type": "stream",
     "text": [
      "C:\\Users\\velmurug\\Documents\\full_stability\\transformers\\IndexBasedTransformer.py:58: PerformanceWarning: DataFrame is highly fragmented.  This is usually the result of calling `frame.insert` many times, which has poor performance.  Consider joining all columns at once using pd.concat(axis=1) instead.  To get a de-fragmented frame, use `newframe = frame.copy()`\n",
      "  dt_transformed[col] = 0\n",
      "\n"
     ]
    },
    {
     "name": "stdout",
     "output_type": "stream",
     "text": [
      "Accuracy:                                                                                                              \n",
      "0.8421052631578948                                                                                                     \n",
      "{'var_smoothing': 1.873817422860383e-08}                                                                               \n",
      " 20%|█████████▌                                      | 2/10 [00:02<00:11,  1.41s/trial, best loss: -0.8290534027376132]"
     ]
    },
    {
     "name": "stderr",
     "output_type": "stream",
     "text": [
      "C:\\Users\\velmurug\\Documents\\full_stability\\transformers\\IndexBasedTransformer.py:58: PerformanceWarning: DataFrame is highly fragmented.  This is usually the result of calling `frame.insert` many times, which has poor performance.  Consider joining all columns at once using pd.concat(axis=1) instead.  To get a de-fragmented frame, use `newframe = frame.copy()`\n",
      "  dt_transformed[col] = 0\n",
      "\n"
     ]
    },
    {
     "name": "stdout",
     "output_type": "stream",
     "text": [
      "Accuracy:                                                                                                              \n",
      "0.7971014492753623                                                                                                     \n",
      " 20%|█████████▌                                      | 2/10 [00:03<00:11,  1.41s/trial, best loss: -0.8290534027376132]"
     ]
    },
    {
     "name": "stderr",
     "output_type": "stream",
     "text": [
      "C:\\Users\\velmurug\\Documents\\full_stability\\transformers\\IndexBasedTransformer.py:58: PerformanceWarning: DataFrame is highly fragmented.  This is usually the result of calling `frame.insert` many times, which has poor performance.  Consider joining all columns at once using pd.concat(axis=1) instead.  To get a de-fragmented frame, use `newframe = frame.copy()`\n",
      "  dt_transformed[col] = 0\n",
      "\n"
     ]
    },
    {
     "name": "stdout",
     "output_type": "stream",
     "text": [
      "Accuracy:                                                                                                              \n",
      "0.7920792079207921                                                                                                     \n",
      " 20%|█████████▌                                      | 2/10 [00:03<00:11,  1.41s/trial, best loss: -0.8290534027376132]"
     ]
    },
    {
     "name": "stderr",
     "output_type": "stream",
     "text": [
      "C:\\Users\\velmurug\\Documents\\full_stability\\transformers\\IndexBasedTransformer.py:58: PerformanceWarning: DataFrame is highly fragmented.  This is usually the result of calling `frame.insert` many times, which has poor performance.  Consider joining all columns at once using pd.concat(axis=1) instead.  To get a de-fragmented frame, use `newframe = frame.copy()`\n",
      "  dt_transformed[col] = 0\n",
      "\n"
     ]
    },
    {
     "name": "stdout",
     "output_type": "stream",
     "text": [
      "Accuracy:                                                                                                              \n",
      "0.8321167883211679                                                                                                     \n",
      "{'var_smoothing': 5.336699231206313e-07}                                                                               \n",
      " 30%|██████████████▍                                 | 3/10 [00:04<00:09,  1.38s/trial, best loss: -0.8290534027376132]"
     ]
    },
    {
     "name": "stderr",
     "output_type": "stream",
     "text": [
      "C:\\Users\\velmurug\\Documents\\full_stability\\transformers\\IndexBasedTransformer.py:58: PerformanceWarning: DataFrame is highly fragmented.  This is usually the result of calling `frame.insert` many times, which has poor performance.  Consider joining all columns at once using pd.concat(axis=1) instead.  To get a de-fragmented frame, use `newframe = frame.copy()`\n",
      "  dt_transformed[col] = 0\n",
      "\n"
     ]
    },
    {
     "name": "stdout",
     "output_type": "stream",
     "text": [
      "Accuracy:                                                                                                              \n",
      "0.7941176470588235                                                                                                     \n",
      " 30%|██████████████▍                                 | 3/10 [00:04<00:09,  1.38s/trial, best loss: -0.8290534027376132]"
     ]
    },
    {
     "name": "stderr",
     "output_type": "stream",
     "text": [
      "C:\\Users\\velmurug\\Documents\\full_stability\\transformers\\IndexBasedTransformer.py:58: PerformanceWarning: DataFrame is highly fragmented.  This is usually the result of calling `frame.insert` many times, which has poor performance.  Consider joining all columns at once using pd.concat(axis=1) instead.  To get a de-fragmented frame, use `newframe = frame.copy()`\n",
      "  dt_transformed[col] = 0\n",
      "\n"
     ]
    },
    {
     "name": "stdout",
     "output_type": "stream",
     "text": [
      "Accuracy:                                                                                                              \n",
      "0.8108108108108107                                                                                                     \n",
      " 30%|██████████████▍                                 | 3/10 [00:05<00:09,  1.38s/trial, best loss: -0.8290534027376132]"
     ]
    },
    {
     "name": "stderr",
     "output_type": "stream",
     "text": [
      "C:\\Users\\velmurug\\Documents\\full_stability\\transformers\\IndexBasedTransformer.py:58: PerformanceWarning: DataFrame is highly fragmented.  This is usually the result of calling `frame.insert` many times, which has poor performance.  Consider joining all columns at once using pd.concat(axis=1) instead.  To get a de-fragmented frame, use `newframe = frame.copy()`\n",
      "  dt_transformed[col] = 0\n",
      "\n"
     ]
    },
    {
     "name": "stdout",
     "output_type": "stream",
     "text": [
      "Accuracy:                                                                                                              \n",
      "0.8296296296296296                                                                                                     \n",
      "{'var_smoothing': 1.232846739442066e-07}                                                                               \n",
      " 40%|███████████████████▏                            | 4/10 [00:05<00:08,  1.39s/trial, best loss: -0.8290534027376132]"
     ]
    },
    {
     "name": "stderr",
     "output_type": "stream",
     "text": [
      "C:\\Users\\velmurug\\Documents\\full_stability\\transformers\\IndexBasedTransformer.py:58: PerformanceWarning: DataFrame is highly fragmented.  This is usually the result of calling `frame.insert` many times, which has poor performance.  Consider joining all columns at once using pd.concat(axis=1) instead.  To get a de-fragmented frame, use `newframe = frame.copy()`\n",
      "  dt_transformed[col] = 0\n",
      "\n"
     ]
    },
    {
     "name": "stdout",
     "output_type": "stream",
     "text": [
      "Accuracy:                                                                                                              \n",
      "0.7972027972027971                                                                                                     \n",
      " 40%|███████████████████▏                            | 4/10 [00:05<00:08,  1.39s/trial, best loss: -0.8290534027376132]"
     ]
    },
    {
     "name": "stderr",
     "output_type": "stream",
     "text": [
      "C:\\Users\\velmurug\\Documents\\full_stability\\transformers\\IndexBasedTransformer.py:58: PerformanceWarning: DataFrame is highly fragmented.  This is usually the result of calling `frame.insert` many times, which has poor performance.  Consider joining all columns at once using pd.concat(axis=1) instead.  To get a de-fragmented frame, use `newframe = frame.copy()`\n",
      "  dt_transformed[col] = 0\n",
      "\n"
     ]
    },
    {
     "name": "stdout",
     "output_type": "stream",
     "text": [
      "Accuracy:                                                                                                              \n",
      "0.8333333333333333                                                                                                     \n",
      " 40%|███████████████████▏                            | 4/10 [00:06<00:08,  1.39s/trial, best loss: -0.8290534027376132]"
     ]
    },
    {
     "name": "stderr",
     "output_type": "stream",
     "text": [
      "C:\\Users\\velmurug\\Documents\\full_stability\\transformers\\IndexBasedTransformer.py:58: PerformanceWarning: DataFrame is highly fragmented.  This is usually the result of calling `frame.insert` many times, which has poor performance.  Consider joining all columns at once using pd.concat(axis=1) instead.  To get a de-fragmented frame, use `newframe = frame.copy()`\n",
      "  dt_transformed[col] = 0\n",
      "\n"
     ]
    },
    {
     "name": "stdout",
     "output_type": "stream",
     "text": [
      "Accuracy:                                                                                                              \n",
      "0.8208955223880597                                                                                                     \n",
      "{'var_smoothing': 0.0004328761281083057}                                                                               \n",
      " 50%|████████████████████████                        | 5/10 [00:06<00:06,  1.40s/trial, best loss: -0.8290534027376132]"
     ]
    },
    {
     "name": "stderr",
     "output_type": "stream",
     "text": [
      "C:\\Users\\velmurug\\Documents\\full_stability\\transformers\\IndexBasedTransformer.py:58: PerformanceWarning: DataFrame is highly fragmented.  This is usually the result of calling `frame.insert` many times, which has poor performance.  Consider joining all columns at once using pd.concat(axis=1) instead.  To get a de-fragmented frame, use `newframe = frame.copy()`\n",
      "  dt_transformed[col] = 0\n",
      "\n"
     ]
    },
    {
     "name": "stdout",
     "output_type": "stream",
     "text": [
      "Accuracy:                                                                                                              \n",
      "0.7857142857142858                                                                                                     \n",
      " 50%|████████████████████████                        | 5/10 [00:07<00:06,  1.40s/trial, best loss: -0.8290534027376132]"
     ]
    },
    {
     "name": "stderr",
     "output_type": "stream",
     "text": [
      "C:\\Users\\velmurug\\Documents\\full_stability\\transformers\\IndexBasedTransformer.py:58: PerformanceWarning: DataFrame is highly fragmented.  This is usually the result of calling `frame.insert` many times, which has poor performance.  Consider joining all columns at once using pd.concat(axis=1) instead.  To get a de-fragmented frame, use `newframe = frame.copy()`\n",
      "  dt_transformed[col] = 0\n",
      "\n"
     ]
    },
    {
     "name": "stdout",
     "output_type": "stream",
     "text": [
      "Accuracy:                                                                                                              \n",
      "0.8196721311475409                                                                                                     \n",
      " 50%|████████████████████████                        | 5/10 [00:07<00:06,  1.40s/trial, best loss: -0.8290534027376132]"
     ]
    },
    {
     "name": "stderr",
     "output_type": "stream",
     "text": [
      "C:\\Users\\velmurug\\Documents\\full_stability\\transformers\\IndexBasedTransformer.py:58: PerformanceWarning: DataFrame is highly fragmented.  This is usually the result of calling `frame.insert` many times, which has poor performance.  Consider joining all columns at once using pd.concat(axis=1) instead.  To get a de-fragmented frame, use `newframe = frame.copy()`\n",
      "  dt_transformed[col] = 0\n",
      "\n"
     ]
    },
    {
     "name": "stdout",
     "output_type": "stream",
     "text": [
      "Accuracy:                                                                                                              \n",
      "0.8270676691729324                                                                                                     \n",
      "{'var_smoothing': 0.0003511191734215131}                                                                               \n",
      " 60%|████████████████████████████▊                   | 6/10 [00:08<00:05,  1.37s/trial, best loss: -0.8290534027376132]"
     ]
    },
    {
     "name": "stderr",
     "output_type": "stream",
     "text": [
      "C:\\Users\\velmurug\\Documents\\full_stability\\transformers\\IndexBasedTransformer.py:58: PerformanceWarning: DataFrame is highly fragmented.  This is usually the result of calling `frame.insert` many times, which has poor performance.  Consider joining all columns at once using pd.concat(axis=1) instead.  To get a de-fragmented frame, use `newframe = frame.copy()`\n",
      "  dt_transformed[col] = 0\n",
      "\n"
     ]
    },
    {
     "name": "stdout",
     "output_type": "stream",
     "text": [
      "Accuracy:                                                                                                              \n",
      "0.8                                                                                                                    \n",
      " 60%|████████████████████████████▊                   | 6/10 [00:08<00:05,  1.37s/trial, best loss: -0.8290534027376132]"
     ]
    },
    {
     "name": "stderr",
     "output_type": "stream",
     "text": [
      "C:\\Users\\velmurug\\Documents\\full_stability\\transformers\\IndexBasedTransformer.py:58: PerformanceWarning: DataFrame is highly fragmented.  This is usually the result of calling `frame.insert` many times, which has poor performance.  Consider joining all columns at once using pd.concat(axis=1) instead.  To get a de-fragmented frame, use `newframe = frame.copy()`\n",
      "  dt_transformed[col] = 0\n",
      "\n"
     ]
    },
    {
     "name": "stdout",
     "output_type": "stream",
     "text": [
      "Accuracy:                                                                                                              \n",
      "0.8160000000000001                                                                                                     \n",
      " 60%|████████████████████████████▊                   | 6/10 [00:09<00:05,  1.37s/trial, best loss: -0.8290534027376132]"
     ]
    },
    {
     "name": "stderr",
     "output_type": "stream",
     "text": [
      "C:\\Users\\velmurug\\Documents\\full_stability\\transformers\\IndexBasedTransformer.py:58: PerformanceWarning: DataFrame is highly fragmented.  This is usually the result of calling `frame.insert` many times, which has poor performance.  Consider joining all columns at once using pd.concat(axis=1) instead.  To get a de-fragmented frame, use `newframe = frame.copy()`\n",
      "  dt_transformed[col] = 0\n",
      "\n"
     ]
    },
    {
     "name": "stdout",
     "output_type": "stream",
     "text": [
      "Accuracy:                                                                                                              \n",
      "0.8503937007874016                                                                                                     \n",
      "{'var_smoothing': 1.873817422860383e-06}                                                                               \n",
      " 70%|█████████████████████████████████▌              | 7/10 [00:09<00:04,  1.36s/trial, best loss: -0.8290534027376132]"
     ]
    },
    {
     "name": "stderr",
     "output_type": "stream",
     "text": [
      "C:\\Users\\velmurug\\Documents\\full_stability\\transformers\\IndexBasedTransformer.py:58: PerformanceWarning: DataFrame is highly fragmented.  This is usually the result of calling `frame.insert` many times, which has poor performance.  Consider joining all columns at once using pd.concat(axis=1) instead.  To get a de-fragmented frame, use `newframe = frame.copy()`\n",
      "  dt_transformed[col] = 0\n",
      "\n"
     ]
    },
    {
     "name": "stdout",
     "output_type": "stream",
     "text": [
      "Accuracy:                                                                                                              \n",
      "0.7819548872180451                                                                                                     \n",
      " 70%|█████████████████████████████████▌              | 7/10 [00:10<00:04,  1.36s/trial, best loss: -0.8290534027376132]"
     ]
    },
    {
     "name": "stderr",
     "output_type": "stream",
     "text": [
      "C:\\Users\\velmurug\\Documents\\full_stability\\transformers\\IndexBasedTransformer.py:58: PerformanceWarning: DataFrame is highly fragmented.  This is usually the result of calling `frame.insert` many times, which has poor performance.  Consider joining all columns at once using pd.concat(axis=1) instead.  To get a de-fragmented frame, use `newframe = frame.copy()`\n",
      "  dt_transformed[col] = 0\n",
      "\n"
     ]
    },
    {
     "name": "stdout",
     "output_type": "stream",
     "text": [
      "Accuracy:                                                                                                              \n",
      "0.8437500000000001                                                                                                     \n",
      " 70%|█████████████████████████████████▌              | 7/10 [00:10<00:04,  1.36s/trial, best loss: -0.8290534027376132]"
     ]
    },
    {
     "name": "stderr",
     "output_type": "stream",
     "text": [
      "C:\\Users\\velmurug\\Documents\\full_stability\\transformers\\IndexBasedTransformer.py:58: PerformanceWarning: DataFrame is highly fragmented.  This is usually the result of calling `frame.insert` many times, which has poor performance.  Consider joining all columns at once using pd.concat(axis=1) instead.  To get a de-fragmented frame, use `newframe = frame.copy()`\n",
      "  dt_transformed[col] = 0\n",
      "\n"
     ]
    },
    {
     "name": "stdout",
     "output_type": "stream",
     "text": [
      "Accuracy:                                                                                                              \n",
      "0.8527131782945736                                                                                                     \n",
      "{'var_smoothing': 0.2848035868435802}                                                                                  \n",
      " 80%|██████████████████████████████████████▍         | 8/10 [00:11<00:02,  1.39s/trial, best loss: -0.8290534027376132]"
     ]
    },
    {
     "name": "stderr",
     "output_type": "stream",
     "text": [
      "C:\\Users\\velmurug\\Documents\\full_stability\\transformers\\IndexBasedTransformer.py:58: PerformanceWarning: DataFrame is highly fragmented.  This is usually the result of calling `frame.insert` many times, which has poor performance.  Consider joining all columns at once using pd.concat(axis=1) instead.  To get a de-fragmented frame, use `newframe = frame.copy()`\n",
      "  dt_transformed[col] = 0\n",
      "\n"
     ]
    },
    {
     "name": "stdout",
     "output_type": "stream",
     "text": [
      "Accuracy:                                                                                                              \n",
      "0.7969924812030076                                                                                                     \n",
      " 80%|██████████████████████████████████████▍         | 8/10 [00:11<00:02,  1.39s/trial, best loss: -0.8290534027376132]"
     ]
    },
    {
     "name": "stderr",
     "output_type": "stream",
     "text": [
      "C:\\Users\\velmurug\\Documents\\full_stability\\transformers\\IndexBasedTransformer.py:58: PerformanceWarning: DataFrame is highly fragmented.  This is usually the result of calling `frame.insert` many times, which has poor performance.  Consider joining all columns at once using pd.concat(axis=1) instead.  To get a de-fragmented frame, use `newframe = frame.copy()`\n",
      "  dt_transformed[col] = 0\n",
      "\n"
     ]
    },
    {
     "name": "stdout",
     "output_type": "stream",
     "text": [
      "Accuracy:                                                                                                              \n",
      "0.8196721311475409                                                                                                     \n",
      " 80%|██████████████████████████████████████▍         | 8/10 [00:11<00:02,  1.39s/trial, best loss: -0.8290534027376132]"
     ]
    },
    {
     "name": "stderr",
     "output_type": "stream",
     "text": [
      "C:\\Users\\velmurug\\Documents\\full_stability\\transformers\\IndexBasedTransformer.py:58: PerformanceWarning: DataFrame is highly fragmented.  This is usually the result of calling `frame.insert` many times, which has poor performance.  Consider joining all columns at once using pd.concat(axis=1) instead.  To get a de-fragmented frame, use `newframe = frame.copy()`\n",
      "  dt_transformed[col] = 0\n",
      "\n"
     ]
    },
    {
     "name": "stdout",
     "output_type": "stream",
     "text": [
      "Accuracy:                                                                                                              \n",
      "0.8396946564885496                                                                                                     \n",
      "{'var_smoothing': 8.111308307896872e-07}                                                                               \n",
      " 90%|███████████████████████████████████████████▏    | 9/10 [00:12<00:01,  1.40s/trial, best loss: -0.8290534027376132]"
     ]
    },
    {
     "name": "stderr",
     "output_type": "stream",
     "text": [
      "C:\\Users\\velmurug\\Documents\\full_stability\\transformers\\IndexBasedTransformer.py:58: PerformanceWarning: DataFrame is highly fragmented.  This is usually the result of calling `frame.insert` many times, which has poor performance.  Consider joining all columns at once using pd.concat(axis=1) instead.  To get a de-fragmented frame, use `newframe = frame.copy()`\n",
      "  dt_transformed[col] = 0\n",
      "\n"
     ]
    },
    {
     "name": "stdout",
     "output_type": "stream",
     "text": [
      "Accuracy:                                                                                                              \n",
      "0.7943262411347517                                                                                                     \n",
      " 90%|███████████████████████████████████████████▏    | 9/10 [00:12<00:01,  1.40s/trial, best loss: -0.8290534027376132]"
     ]
    },
    {
     "name": "stderr",
     "output_type": "stream",
     "text": [
      "C:\\Users\\velmurug\\Documents\\full_stability\\transformers\\IndexBasedTransformer.py:58: PerformanceWarning: DataFrame is highly fragmented.  This is usually the result of calling `frame.insert` many times, which has poor performance.  Consider joining all columns at once using pd.concat(axis=1) instead.  To get a de-fragmented frame, use `newframe = frame.copy()`\n",
      "  dt_transformed[col] = 0\n",
      "\n"
     ]
    },
    {
     "name": "stdout",
     "output_type": "stream",
     "text": [
      "Accuracy:                                                                                                              \n",
      "0.8225806451612904                                                                                                     \n",
      " 90%|███████████████████████████████████████████▏    | 9/10 [00:13<00:01,  1.40s/trial, best loss: -0.8290534027376132]"
     ]
    },
    {
     "name": "stderr",
     "output_type": "stream",
     "text": [
      "C:\\Users\\velmurug\\Documents\\full_stability\\transformers\\IndexBasedTransformer.py:58: PerformanceWarning: DataFrame is highly fragmented.  This is usually the result of calling `frame.insert` many times, which has poor performance.  Consider joining all columns at once using pd.concat(axis=1) instead.  To get a de-fragmented frame, use `newframe = frame.copy()`\n",
      "  dt_transformed[col] = 0\n",
      "\n"
     ]
    },
    {
     "name": "stdout",
     "output_type": "stream",
     "text": [
      "Accuracy:                                                                                                              \n",
      "0.835820895522388                                                                                                      \n",
      "100%|███████████████████████████████████████████████| 10/10 [00:13<00:00,  1.39s/trial, best loss: -0.8290534027376132]\n",
      "Optimising 12 of 20 buckets\n",
      "{'var_smoothing': 0.23101297000831597}                                                                                 \n",
      "  0%|                                                                           | 0/10 [00:00<?, ?trial/s, best loss=?]"
     ]
    },
    {
     "name": "stderr",
     "output_type": "stream",
     "text": [
      "C:\\Users\\velmurug\\Documents\\full_stability\\transformers\\IndexBasedTransformer.py:58: PerformanceWarning: DataFrame is highly fragmented.  This is usually the result of calling `frame.insert` many times, which has poor performance.  Consider joining all columns at once using pd.concat(axis=1) instead.  To get a de-fragmented frame, use `newframe = frame.copy()`\n",
      "  dt_transformed[col] = 0\n",
      "\n"
     ]
    },
    {
     "name": "stdout",
     "output_type": "stream",
     "text": [
      "Accuracy:                                                                                                              \n",
      "0.8153846153846153                                                                                                     \n",
      "  0%|                                                                           | 0/10 [00:00<?, ?trial/s, best loss=?]"
     ]
    },
    {
     "name": "stderr",
     "output_type": "stream",
     "text": [
      "C:\\Users\\velmurug\\Documents\\full_stability\\transformers\\IndexBasedTransformer.py:58: PerformanceWarning: DataFrame is highly fragmented.  This is usually the result of calling `frame.insert` many times, which has poor performance.  Consider joining all columns at once using pd.concat(axis=1) instead.  To get a de-fragmented frame, use `newframe = frame.copy()`\n",
      "  dt_transformed[col] = 0\n",
      "\n"
     ]
    },
    {
     "name": "stdout",
     "output_type": "stream",
     "text": [
      "Accuracy:                                                                                                              \n",
      "0.859504132231405                                                                                                      \n",
      "  0%|                                                                           | 0/10 [00:00<?, ?trial/s, best loss=?]"
     ]
    },
    {
     "name": "stderr",
     "output_type": "stream",
     "text": [
      "C:\\Users\\velmurug\\Documents\\full_stability\\transformers\\IndexBasedTransformer.py:58: PerformanceWarning: DataFrame is highly fragmented.  This is usually the result of calling `frame.insert` many times, which has poor performance.  Consider joining all columns at once using pd.concat(axis=1) instead.  To get a de-fragmented frame, use `newframe = frame.copy()`\n",
      "  dt_transformed[col] = 0\n",
      "\n"
     ]
    },
    {
     "name": "stdout",
     "output_type": "stream",
     "text": [
      "Accuracy:                                                                                                              \n",
      "0.7272727272727272                                                                                                     \n",
      "{'var_smoothing': 4.328761281083061e-09}                                                                               \n",
      " 10%|████▊                                           | 1/10 [00:01<00:12,  1.39s/trial, best loss: -0.8007204916295825]"
     ]
    },
    {
     "name": "stderr",
     "output_type": "stream",
     "text": [
      "C:\\Users\\velmurug\\Documents\\full_stability\\transformers\\IndexBasedTransformer.py:58: PerformanceWarning: DataFrame is highly fragmented.  This is usually the result of calling `frame.insert` many times, which has poor performance.  Consider joining all columns at once using pd.concat(axis=1) instead.  To get a de-fragmented frame, use `newframe = frame.copy()`\n",
      "  dt_transformed[col] = 0\n",
      "\n"
     ]
    },
    {
     "name": "stdout",
     "output_type": "stream",
     "text": [
      "Accuracy:                                                                                                              \n",
      "0.8032786885245901                                                                                                     \n",
      " 10%|████▊                                           | 1/10 [00:01<00:12,  1.39s/trial, best loss: -0.8007204916295825]"
     ]
    },
    {
     "name": "stderr",
     "output_type": "stream",
     "text": [
      "C:\\Users\\velmurug\\Documents\\full_stability\\transformers\\IndexBasedTransformer.py:58: PerformanceWarning: DataFrame is highly fragmented.  This is usually the result of calling `frame.insert` many times, which has poor performance.  Consider joining all columns at once using pd.concat(axis=1) instead.  To get a de-fragmented frame, use `newframe = frame.copy()`\n",
      "  dt_transformed[col] = 0\n",
      "\n"
     ]
    },
    {
     "name": "stdout",
     "output_type": "stream",
     "text": [
      "Accuracy:                                                                                                              \n",
      "0.8360655737704917                                                                                                     \n",
      " 10%|████▊                                           | 1/10 [00:02<00:12,  1.39s/trial, best loss: -0.8007204916295825]"
     ]
    },
    {
     "name": "stderr",
     "output_type": "stream",
     "text": [
      "C:\\Users\\velmurug\\Documents\\full_stability\\transformers\\IndexBasedTransformer.py:58: PerformanceWarning: DataFrame is highly fragmented.  This is usually the result of calling `frame.insert` many times, which has poor performance.  Consider joining all columns at once using pd.concat(axis=1) instead.  To get a de-fragmented frame, use `newframe = frame.copy()`\n",
      "  dt_transformed[col] = 0\n",
      "\n"
     ]
    },
    {
     "name": "stdout",
     "output_type": "stream",
     "text": [
      "Accuracy:                                                                                                              \n",
      "0.8031496062992127                                                                                                     \n",
      "{'var_smoothing': 1.873817422860383e-08}                                                                               \n",
      " 20%|█████████▌                                      | 2/10 [00:02<00:11,  1.40s/trial, best loss: -0.8141646228647649]"
     ]
    },
    {
     "name": "stderr",
     "output_type": "stream",
     "text": [
      "C:\\Users\\velmurug\\Documents\\full_stability\\transformers\\IndexBasedTransformer.py:58: PerformanceWarning: DataFrame is highly fragmented.  This is usually the result of calling `frame.insert` many times, which has poor performance.  Consider joining all columns at once using pd.concat(axis=1) instead.  To get a de-fragmented frame, use `newframe = frame.copy()`\n",
      "  dt_transformed[col] = 0\n",
      "\n"
     ]
    },
    {
     "name": "stdout",
     "output_type": "stream",
     "text": [
      "Accuracy:                                                                                                              \n",
      "0.7967479674796749                                                                                                     \n",
      " 20%|█████████▌                                      | 2/10 [00:03<00:11,  1.40s/trial, best loss: -0.8141646228647649]"
     ]
    },
    {
     "name": "stderr",
     "output_type": "stream",
     "text": [
      "C:\\Users\\velmurug\\Documents\\full_stability\\transformers\\IndexBasedTransformer.py:58: PerformanceWarning: DataFrame is highly fragmented.  This is usually the result of calling `frame.insert` many times, which has poor performance.  Consider joining all columns at once using pd.concat(axis=1) instead.  To get a de-fragmented frame, use `newframe = frame.copy()`\n",
      "  dt_transformed[col] = 0\n",
      "\n"
     ]
    },
    {
     "name": "stdout",
     "output_type": "stream",
     "text": [
      "Accuracy:                                                                                                              \n",
      "0.5789473684210525                                                                                                     \n",
      " 20%|█████████▌                                      | 2/10 [00:03<00:11,  1.40s/trial, best loss: -0.8141646228647649]"
     ]
    },
    {
     "name": "stderr",
     "output_type": "stream",
     "text": [
      "C:\\Users\\velmurug\\Documents\\full_stability\\transformers\\IndexBasedTransformer.py:58: PerformanceWarning: DataFrame is highly fragmented.  This is usually the result of calling `frame.insert` many times, which has poor performance.  Consider joining all columns at once using pd.concat(axis=1) instead.  To get a de-fragmented frame, use `newframe = frame.copy()`\n",
      "  dt_transformed[col] = 0\n",
      "\n"
     ]
    },
    {
     "name": "stdout",
     "output_type": "stream",
     "text": [
      "Accuracy:                                                                                                              \n",
      "0.7551020408163266                                                                                                     \n",
      "{'var_smoothing': 0.12328467394420659}                                                                                 \n",
      " 30%|██████████████▍                                 | 3/10 [00:04<00:09,  1.43s/trial, best loss: -0.8141646228647649]"
     ]
    },
    {
     "name": "stderr",
     "output_type": "stream",
     "text": [
      "C:\\Users\\velmurug\\Documents\\full_stability\\transformers\\IndexBasedTransformer.py:58: PerformanceWarning: DataFrame is highly fragmented.  This is usually the result of calling `frame.insert` many times, which has poor performance.  Consider joining all columns at once using pd.concat(axis=1) instead.  To get a de-fragmented frame, use `newframe = frame.copy()`\n",
      "  dt_transformed[col] = 0\n",
      "\n"
     ]
    },
    {
     "name": "stdout",
     "output_type": "stream",
     "text": [
      "Accuracy:                                                                                                              \n",
      "0.8264462809917356                                                                                                     \n",
      " 30%|██████████████▍                                 | 3/10 [00:04<00:09,  1.43s/trial, best loss: -0.8141646228647649]"
     ]
    },
    {
     "name": "stderr",
     "output_type": "stream",
     "text": [
      "C:\\Users\\velmurug\\Documents\\full_stability\\transformers\\IndexBasedTransformer.py:58: PerformanceWarning: DataFrame is highly fragmented.  This is usually the result of calling `frame.insert` many times, which has poor performance.  Consider joining all columns at once using pd.concat(axis=1) instead.  To get a de-fragmented frame, use `newframe = frame.copy()`\n",
      "  dt_transformed[col] = 0\n",
      "\n"
     ]
    },
    {
     "name": "stdout",
     "output_type": "stream",
     "text": [
      "Accuracy:                                                                                                              \n",
      "0.8333333333333334                                                                                                     \n",
      " 30%|██████████████▍                                 | 3/10 [00:05<00:09,  1.43s/trial, best loss: -0.8141646228647649]"
     ]
    },
    {
     "name": "stderr",
     "output_type": "stream",
     "text": [
      "C:\\Users\\velmurug\\Documents\\full_stability\\transformers\\IndexBasedTransformer.py:58: PerformanceWarning: DataFrame is highly fragmented.  This is usually the result of calling `frame.insert` many times, which has poor performance.  Consider joining all columns at once using pd.concat(axis=1) instead.  To get a de-fragmented frame, use `newframe = frame.copy()`\n",
      "  dt_transformed[col] = 0\n",
      "\n"
     ]
    },
    {
     "name": "stdout",
     "output_type": "stream",
     "text": [
      "Accuracy:                                                                                                              \n",
      "0.7294117647058824                                                                                                     \n",
      "{'var_smoothing': 6.579332246575682e-08}                                                                               \n",
      " 40%|███████████████████▏                            | 4/10 [00:05<00:08,  1.42s/trial, best loss: -0.8141646228647649]"
     ]
    },
    {
     "name": "stderr",
     "output_type": "stream",
     "text": [
      "C:\\Users\\velmurug\\Documents\\full_stability\\transformers\\IndexBasedTransformer.py:58: PerformanceWarning: DataFrame is highly fragmented.  This is usually the result of calling `frame.insert` many times, which has poor performance.  Consider joining all columns at once using pd.concat(axis=1) instead.  To get a de-fragmented frame, use `newframe = frame.copy()`\n",
      "  dt_transformed[col] = 0\n",
      "\n"
     ]
    },
    {
     "name": "stdout",
     "output_type": "stream",
     "text": [
      "Accuracy:                                                                                                              \n",
      "0.8275862068965517                                                                                                     \n",
      " 40%|███████████████████▏                            | 4/10 [00:06<00:08,  1.42s/trial, best loss: -0.8141646228647649]"
     ]
    },
    {
     "name": "stderr",
     "output_type": "stream",
     "text": [
      "C:\\Users\\velmurug\\Documents\\full_stability\\transformers\\IndexBasedTransformer.py:58: PerformanceWarning: DataFrame is highly fragmented.  This is usually the result of calling `frame.insert` many times, which has poor performance.  Consider joining all columns at once using pd.concat(axis=1) instead.  To get a de-fragmented frame, use `newframe = frame.copy()`\n",
      "  dt_transformed[col] = 0\n",
      "\n"
     ]
    },
    {
     "name": "stdout",
     "output_type": "stream",
     "text": [
      "Accuracy:                                                                                                              \n",
      "0.8125                                                                                                                 \n",
      " 40%|███████████████████▏                            | 4/10 [00:06<00:08,  1.42s/trial, best loss: -0.8141646228647649]"
     ]
    },
    {
     "name": "stderr",
     "output_type": "stream",
     "text": [
      "C:\\Users\\velmurug\\Documents\\full_stability\\transformers\\IndexBasedTransformer.py:58: PerformanceWarning: DataFrame is highly fragmented.  This is usually the result of calling `frame.insert` many times, which has poor performance.  Consider joining all columns at once using pd.concat(axis=1) instead.  To get a de-fragmented frame, use `newframe = frame.copy()`\n",
      "  dt_transformed[col] = 0\n",
      "\n"
     ]
    },
    {
     "name": "stdout",
     "output_type": "stream",
     "text": [
      "Accuracy:                                                                                                              \n",
      "0.8245614035087719                                                                                                     \n",
      "{'var_smoothing': 4.328761281083053e-06}                                                                               \n",
      " 50%|████████████████████████                        | 5/10 [00:07<00:07,  1.43s/trial, best loss: -0.8215492034684412]"
     ]
    },
    {
     "name": "stderr",
     "output_type": "stream",
     "text": [
      "C:\\Users\\velmurug\\Documents\\full_stability\\transformers\\IndexBasedTransformer.py:58: PerformanceWarning: DataFrame is highly fragmented.  This is usually the result of calling `frame.insert` many times, which has poor performance.  Consider joining all columns at once using pd.concat(axis=1) instead.  To get a de-fragmented frame, use `newframe = frame.copy()`\n",
      "  dt_transformed[col] = 0\n",
      "\n"
     ]
    },
    {
     "name": "stdout",
     "output_type": "stream",
     "text": [
      "Accuracy:                                                                                                              \n",
      "0.7967479674796749                                                                                                     \n",
      " 50%|████████████████████████                        | 5/10 [00:07<00:07,  1.43s/trial, best loss: -0.8215492034684412]"
     ]
    },
    {
     "name": "stderr",
     "output_type": "stream",
     "text": [
      "C:\\Users\\velmurug\\Documents\\full_stability\\transformers\\IndexBasedTransformer.py:58: PerformanceWarning: DataFrame is highly fragmented.  This is usually the result of calling `frame.insert` many times, which has poor performance.  Consider joining all columns at once using pd.concat(axis=1) instead.  To get a de-fragmented frame, use `newframe = frame.copy()`\n",
      "  dt_transformed[col] = 0\n",
      "\n"
     ]
    },
    {
     "name": "stdout",
     "output_type": "stream",
     "text": [
      "Accuracy:                                                                                                              \n",
      "0.7356321839080459                                                                                                     \n",
      " 50%|████████████████████████                        | 5/10 [00:08<00:07,  1.43s/trial, best loss: -0.8215492034684412]"
     ]
    },
    {
     "name": "stderr",
     "output_type": "stream",
     "text": [
      "C:\\Users\\velmurug\\Documents\\full_stability\\transformers\\IndexBasedTransformer.py:58: PerformanceWarning: DataFrame is highly fragmented.  This is usually the result of calling `frame.insert` many times, which has poor performance.  Consider joining all columns at once using pd.concat(axis=1) instead.  To get a de-fragmented frame, use `newframe = frame.copy()`\n",
      "  dt_transformed[col] = 0\n",
      "\n"
     ]
    },
    {
     "name": "stdout",
     "output_type": "stream",
     "text": [
      "Accuracy:                                                                                                              \n",
      "0.7608695652173912                                                                                                     \n",
      "{'var_smoothing': 0.533669923120631}                                                                                   \n",
      " 60%|████████████████████████████▊                   | 6/10 [00:08<00:05,  1.46s/trial, best loss: -0.8215492034684412]"
     ]
    },
    {
     "name": "stderr",
     "output_type": "stream",
     "text": [
      "C:\\Users\\velmurug\\Documents\\full_stability\\transformers\\IndexBasedTransformer.py:58: PerformanceWarning: DataFrame is highly fragmented.  This is usually the result of calling `frame.insert` many times, which has poor performance.  Consider joining all columns at once using pd.concat(axis=1) instead.  To get a de-fragmented frame, use `newframe = frame.copy()`\n",
      "  dt_transformed[col] = 0\n",
      "\n"
     ]
    },
    {
     "name": "stdout",
     "output_type": "stream",
     "text": [
      "Accuracy:                                                                                                              \n",
      "0.7878787878787878                                                                                                     \n",
      " 60%|████████████████████████████▊                   | 6/10 [00:09<00:05,  1.46s/trial, best loss: -0.8215492034684412]"
     ]
    },
    {
     "name": "stderr",
     "output_type": "stream",
     "text": [
      "C:\\Users\\velmurug\\Documents\\full_stability\\transformers\\IndexBasedTransformer.py:58: PerformanceWarning: DataFrame is highly fragmented.  This is usually the result of calling `frame.insert` many times, which has poor performance.  Consider joining all columns at once using pd.concat(axis=1) instead.  To get a de-fragmented frame, use `newframe = frame.copy()`\n",
      "  dt_transformed[col] = 0\n",
      "\n"
     ]
    },
    {
     "name": "stdout",
     "output_type": "stream",
     "text": [
      "Accuracy:                                                                                                              \n",
      "0.8316831683168316                                                                                                     \n",
      " 60%|████████████████████████████▊                   | 6/10 [00:09<00:05,  1.46s/trial, best loss: -0.8215492034684412]"
     ]
    },
    {
     "name": "stderr",
     "output_type": "stream",
     "text": [
      "C:\\Users\\velmurug\\Documents\\full_stability\\transformers\\IndexBasedTransformer.py:58: PerformanceWarning: DataFrame is highly fragmented.  This is usually the result of calling `frame.insert` many times, which has poor performance.  Consider joining all columns at once using pd.concat(axis=1) instead.  To get a de-fragmented frame, use `newframe = frame.copy()`\n",
      "  dt_transformed[col] = 0\n",
      "\n"
     ]
    },
    {
     "name": "stdout",
     "output_type": "stream",
     "text": [
      "Accuracy:                                                                                                              \n",
      "0.8166666666666667                                                                                                     \n",
      "{'var_smoothing': 6.579332246575683e-05}                                                                               \n",
      " 70%|█████████████████████████████████▌              | 7/10 [00:10<00:04,  1.44s/trial, best loss: -0.8215492034684412]"
     ]
    },
    {
     "name": "stderr",
     "output_type": "stream",
     "text": [
      "C:\\Users\\velmurug\\Documents\\full_stability\\transformers\\IndexBasedTransformer.py:58: PerformanceWarning: DataFrame is highly fragmented.  This is usually the result of calling `frame.insert` many times, which has poor performance.  Consider joining all columns at once using pd.concat(axis=1) instead.  To get a de-fragmented frame, use `newframe = frame.copy()`\n",
      "  dt_transformed[col] = 0\n",
      "\n"
     ]
    },
    {
     "name": "stdout",
     "output_type": "stream",
     "text": [
      "Accuracy:                                                                                                              \n",
      "0.816                                                                                                                  \n",
      " 70%|█████████████████████████████████▌              | 7/10 [00:10<00:04,  1.44s/trial, best loss: -0.8215492034684412]"
     ]
    },
    {
     "name": "stderr",
     "output_type": "stream",
     "text": [
      "C:\\Users\\velmurug\\Documents\\full_stability\\transformers\\IndexBasedTransformer.py:58: PerformanceWarning: DataFrame is highly fragmented.  This is usually the result of calling `frame.insert` many times, which has poor performance.  Consider joining all columns at once using pd.concat(axis=1) instead.  To get a de-fragmented frame, use `newframe = frame.copy()`\n",
      "  dt_transformed[col] = 0\n",
      "\n"
     ]
    },
    {
     "name": "stdout",
     "output_type": "stream",
     "text": [
      "Accuracy:                                                                                                              \n",
      "0.7551020408163266                                                                                                     \n",
      " 70%|█████████████████████████████████▌              | 7/10 [00:11<00:04,  1.44s/trial, best loss: -0.8215492034684412]"
     ]
    },
    {
     "name": "stderr",
     "output_type": "stream",
     "text": [
      "C:\\Users\\velmurug\\Documents\\full_stability\\transformers\\IndexBasedTransformer.py:58: PerformanceWarning: DataFrame is highly fragmented.  This is usually the result of calling `frame.insert` many times, which has poor performance.  Consider joining all columns at once using pd.concat(axis=1) instead.  To get a de-fragmented frame, use `newframe = frame.copy()`\n",
      "  dt_transformed[col] = 0\n",
      "\n"
     ]
    },
    {
     "name": "stdout",
     "output_type": "stream",
     "text": [
      "Accuracy:                                                                                                              \n",
      "0.6666666666666666                                                                                                     \n",
      "{'var_smoothing': 4.3287612810830526e-07}                                                                              \n",
      " 80%|██████████████████████████████████████▍         | 8/10 [00:11<00:02,  1.43s/trial, best loss: -0.8215492034684412]"
     ]
    },
    {
     "name": "stderr",
     "output_type": "stream",
     "text": [
      "C:\\Users\\velmurug\\Documents\\full_stability\\transformers\\IndexBasedTransformer.py:58: PerformanceWarning: DataFrame is highly fragmented.  This is usually the result of calling `frame.insert` many times, which has poor performance.  Consider joining all columns at once using pd.concat(axis=1) instead.  To get a de-fragmented frame, use `newframe = frame.copy()`\n",
      "  dt_transformed[col] = 0\n",
      "\n"
     ]
    },
    {
     "name": "stdout",
     "output_type": "stream",
     "text": [
      "Accuracy:                                                                                                              \n",
      "0.7967479674796749                                                                                                     \n",
      " 80%|██████████████████████████████████████▍         | 8/10 [00:11<00:02,  1.43s/trial, best loss: -0.8215492034684412]"
     ]
    },
    {
     "name": "stderr",
     "output_type": "stream",
     "text": [
      "C:\\Users\\velmurug\\Documents\\full_stability\\transformers\\IndexBasedTransformer.py:58: PerformanceWarning: DataFrame is highly fragmented.  This is usually the result of calling `frame.insert` many times, which has poor performance.  Consider joining all columns at once using pd.concat(axis=1) instead.  To get a de-fragmented frame, use `newframe = frame.copy()`\n",
      "  dt_transformed[col] = 0\n",
      "\n"
     ]
    },
    {
     "name": "stdout",
     "output_type": "stream",
     "text": [
      "Accuracy:                                                                                                              \n",
      "0.823529411764706                                                                                                      \n",
      " 80%|██████████████████████████████████████▍         | 8/10 [00:12<00:02,  1.43s/trial, best loss: -0.8215492034684412]"
     ]
    },
    {
     "name": "stderr",
     "output_type": "stream",
     "text": [
      "C:\\Users\\velmurug\\Documents\\full_stability\\transformers\\IndexBasedTransformer.py:58: PerformanceWarning: DataFrame is highly fragmented.  This is usually the result of calling `frame.insert` many times, which has poor performance.  Consider joining all columns at once using pd.concat(axis=1) instead.  To get a de-fragmented frame, use `newframe = frame.copy()`\n",
      "  dt_transformed[col] = 0\n",
      "\n"
     ]
    },
    {
     "name": "stdout",
     "output_type": "stream",
     "text": [
      "Accuracy:                                                                                                              \n",
      "0.8392857142857144                                                                                                     \n",
      "{'var_smoothing': 0.0012328467394420659}                                                                               \n",
      " 90%|███████████████████████████████████████████▏    | 9/10 [00:12<00:01,  1.45s/trial, best loss: -0.8215492034684412]"
     ]
    },
    {
     "name": "stderr",
     "output_type": "stream",
     "text": [
      "C:\\Users\\velmurug\\Documents\\full_stability\\transformers\\IndexBasedTransformer.py:58: PerformanceWarning: DataFrame is highly fragmented.  This is usually the result of calling `frame.insert` many times, which has poor performance.  Consider joining all columns at once using pd.concat(axis=1) instead.  To get a de-fragmented frame, use `newframe = frame.copy()`\n",
      "  dt_transformed[col] = 0\n",
      "\n"
     ]
    },
    {
     "name": "stdout",
     "output_type": "stream",
     "text": [
      "Accuracy:                                                                                                              \n",
      "0.8067226890756303                                                                                                     \n",
      " 90%|███████████████████████████████████████████▏    | 9/10 [00:13<00:01,  1.45s/trial, best loss: -0.8215492034684412]"
     ]
    },
    {
     "name": "stderr",
     "output_type": "stream",
     "text": [
      "C:\\Users\\velmurug\\Documents\\full_stability\\transformers\\IndexBasedTransformer.py:58: PerformanceWarning: DataFrame is highly fragmented.  This is usually the result of calling `frame.insert` many times, which has poor performance.  Consider joining all columns at once using pd.concat(axis=1) instead.  To get a de-fragmented frame, use `newframe = frame.copy()`\n",
      "  dt_transformed[col] = 0\n",
      "\n"
     ]
    },
    {
     "name": "stdout",
     "output_type": "stream",
     "text": [
      "Accuracy:                                                                                                              \n",
      "0.8387096774193549                                                                                                     \n",
      " 90%|███████████████████████████████████████████▏    | 9/10 [00:13<00:01,  1.45s/trial, best loss: -0.8215492034684412]"
     ]
    },
    {
     "name": "stderr",
     "output_type": "stream",
     "text": [
      "C:\\Users\\velmurug\\Documents\\full_stability\\transformers\\IndexBasedTransformer.py:58: PerformanceWarning: DataFrame is highly fragmented.  This is usually the result of calling `frame.insert` many times, which has poor performance.  Consider joining all columns at once using pd.concat(axis=1) instead.  To get a de-fragmented frame, use `newframe = frame.copy()`\n",
      "  dt_transformed[col] = 0\n",
      "\n"
     ]
    },
    {
     "name": "stdout",
     "output_type": "stream",
     "text": [
      "Accuracy:                                                                                                              \n",
      "0.6585365853658536                                                                                                     \n",
      "100%|███████████████████████████████████████████████| 10/10 [00:14<00:00,  1.45s/trial, best loss: -0.8215492034684412]\n",
      "Optimising 13 of 20 buckets\n",
      "{'var_smoothing': 1.519911082952933e-09}                                                                               \n",
      "  0%|                                                                           | 0/10 [00:00<?, ?trial/s, best loss=?]"
     ]
    },
    {
     "name": "stderr",
     "output_type": "stream",
     "text": [
      "C:\\Users\\velmurug\\Documents\\full_stability\\transformers\\IndexBasedTransformer.py:58: PerformanceWarning: DataFrame is highly fragmented.  This is usually the result of calling `frame.insert` many times, which has poor performance.  Consider joining all columns at once using pd.concat(axis=1) instead.  To get a de-fragmented frame, use `newframe = frame.copy()`\n",
      "  dt_transformed[col] = 0\n",
      "\n"
     ]
    },
    {
     "name": "stdout",
     "output_type": "stream",
     "text": [
      "Accuracy:                                                                                                              \n",
      "0.8108108108108109                                                                                                     \n",
      "  0%|                                                                           | 0/10 [00:00<?, ?trial/s, best loss=?]"
     ]
    },
    {
     "name": "stderr",
     "output_type": "stream",
     "text": [
      "C:\\Users\\velmurug\\Documents\\full_stability\\transformers\\IndexBasedTransformer.py:58: PerformanceWarning: DataFrame is highly fragmented.  This is usually the result of calling `frame.insert` many times, which has poor performance.  Consider joining all columns at once using pd.concat(axis=1) instead.  To get a de-fragmented frame, use `newframe = frame.copy()`\n",
      "  dt_transformed[col] = 0\n",
      "\n"
     ]
    },
    {
     "name": "stdout",
     "output_type": "stream",
     "text": [
      "Accuracy:                                                                                                              \n",
      "0.811881188118812                                                                                                      \n",
      "  0%|                                                                           | 0/10 [00:00<?, ?trial/s, best loss=?]"
     ]
    },
    {
     "name": "stderr",
     "output_type": "stream",
     "text": [
      "C:\\Users\\velmurug\\Documents\\full_stability\\transformers\\IndexBasedTransformer.py:58: PerformanceWarning: DataFrame is highly fragmented.  This is usually the result of calling `frame.insert` many times, which has poor performance.  Consider joining all columns at once using pd.concat(axis=1) instead.  To get a de-fragmented frame, use `newframe = frame.copy()`\n",
      "  dt_transformed[col] = 0\n",
      "\n"
     ]
    },
    {
     "name": "stdout",
     "output_type": "stream",
     "text": [
      "Accuracy:                                                                                                              \n",
      "0.7692307692307693                                                                                                     \n",
      "{'var_smoothing': 0.003511191734215131}                                                                                \n",
      " 10%|████▊                                           | 1/10 [00:01<00:13,  1.46s/trial, best loss: -0.7973075893867975]"
     ]
    },
    {
     "name": "stderr",
     "output_type": "stream",
     "text": [
      "C:\\Users\\velmurug\\Documents\\full_stability\\transformers\\IndexBasedTransformer.py:58: PerformanceWarning: DataFrame is highly fragmented.  This is usually the result of calling `frame.insert` many times, which has poor performance.  Consider joining all columns at once using pd.concat(axis=1) instead.  To get a de-fragmented frame, use `newframe = frame.copy()`\n",
      "  dt_transformed[col] = 0\n",
      "\n"
     ]
    },
    {
     "name": "stdout",
     "output_type": "stream",
     "text": [
      "Accuracy:                                                                                                              \n",
      "0.8256880733944955                                                                                                     \n",
      " 10%|████▊                                           | 1/10 [00:02<00:13,  1.46s/trial, best loss: -0.7973075893867975]"
     ]
    },
    {
     "name": "stderr",
     "output_type": "stream",
     "text": [
      "C:\\Users\\velmurug\\Documents\\full_stability\\transformers\\IndexBasedTransformer.py:58: PerformanceWarning: DataFrame is highly fragmented.  This is usually the result of calling `frame.insert` many times, which has poor performance.  Consider joining all columns at once using pd.concat(axis=1) instead.  To get a de-fragmented frame, use `newframe = frame.copy()`\n",
      "  dt_transformed[col] = 0\n",
      "\n"
     ]
    },
    {
     "name": "stdout",
     "output_type": "stream",
     "text": [
      "Accuracy:                                                                                                              \n",
      "0.888888888888889                                                                                                      \n",
      " 10%|████▊                                           | 1/10 [00:02<00:13,  1.46s/trial, best loss: -0.7973075893867975]"
     ]
    },
    {
     "name": "stderr",
     "output_type": "stream",
     "text": [
      "C:\\Users\\velmurug\\Documents\\full_stability\\transformers\\IndexBasedTransformer.py:58: PerformanceWarning: DataFrame is highly fragmented.  This is usually the result of calling `frame.insert` many times, which has poor performance.  Consider joining all columns at once using pd.concat(axis=1) instead.  To get a de-fragmented frame, use `newframe = frame.copy()`\n",
      "  dt_transformed[col] = 0\n",
      "\n"
     ]
    },
    {
     "name": "stdout",
     "output_type": "stream",
     "text": [
      "Accuracy:                                                                                                              \n",
      "0.8037383177570093                                                                                                     \n",
      "{'var_smoothing': 2.310129700083158e-09}                                                                               \n",
      " 20%|█████████▌                                      | 2/10 [00:03<00:12,  1.50s/trial, best loss: -0.8394384266801312]"
     ]
    },
    {
     "name": "stderr",
     "output_type": "stream",
     "text": [
      "C:\\Users\\velmurug\\Documents\\full_stability\\transformers\\IndexBasedTransformer.py:58: PerformanceWarning: DataFrame is highly fragmented.  This is usually the result of calling `frame.insert` many times, which has poor performance.  Consider joining all columns at once using pd.concat(axis=1) instead.  To get a de-fragmented frame, use `newframe = frame.copy()`\n",
      "  dt_transformed[col] = 0\n",
      "\n"
     ]
    },
    {
     "name": "stdout",
     "output_type": "stream",
     "text": [
      "Accuracy:                                                                                                              \n",
      "0.7920792079207922                                                                                                     \n",
      " 20%|█████████▌                                      | 2/10 [00:03<00:12,  1.50s/trial, best loss: -0.8394384266801312]"
     ]
    },
    {
     "name": "stderr",
     "output_type": "stream",
     "text": [
      "C:\\Users\\velmurug\\Documents\\full_stability\\transformers\\IndexBasedTransformer.py:58: PerformanceWarning: DataFrame is highly fragmented.  This is usually the result of calling `frame.insert` many times, which has poor performance.  Consider joining all columns at once using pd.concat(axis=1) instead.  To get a de-fragmented frame, use `newframe = frame.copy()`\n",
      "  dt_transformed[col] = 0\n",
      "\n"
     ]
    },
    {
     "name": "stdout",
     "output_type": "stream",
     "text": [
      "Accuracy:                                                                                                              \n",
      "0.7999999999999999                                                                                                     \n",
      " 20%|█████████▌                                      | 2/10 [00:04<00:12,  1.50s/trial, best loss: -0.8394384266801312]"
     ]
    },
    {
     "name": "stderr",
     "output_type": "stream",
     "text": [
      "C:\\Users\\velmurug\\Documents\\full_stability\\transformers\\IndexBasedTransformer.py:58: PerformanceWarning: DataFrame is highly fragmented.  This is usually the result of calling `frame.insert` many times, which has poor performance.  Consider joining all columns at once using pd.concat(axis=1) instead.  To get a de-fragmented frame, use `newframe = frame.copy()`\n",
      "  dt_transformed[col] = 0\n",
      "\n"
     ]
    },
    {
     "name": "stdout",
     "output_type": "stream",
     "text": [
      "Accuracy:                                                                                                              \n",
      "0.8363636363636364                                                                                                     \n",
      "{'var_smoothing': 1e-05}                                                                                               \n",
      " 30%|██████████████▍                                 | 3/10 [00:04<00:10,  1.48s/trial, best loss: -0.8394384266801312]"
     ]
    },
    {
     "name": "stderr",
     "output_type": "stream",
     "text": [
      "C:\\Users\\velmurug\\Documents\\full_stability\\transformers\\IndexBasedTransformer.py:58: PerformanceWarning: DataFrame is highly fragmented.  This is usually the result of calling `frame.insert` many times, which has poor performance.  Consider joining all columns at once using pd.concat(axis=1) instead.  To get a de-fragmented frame, use `newframe = frame.copy()`\n",
      "  dt_transformed[col] = 0\n",
      "\n"
     ]
    },
    {
     "name": "stdout",
     "output_type": "stream",
     "text": [
      "Accuracy:                                                                                                              \n",
      "0.7999999999999999                                                                                                     \n",
      " 30%|██████████████▍                                 | 3/10 [00:04<00:10,  1.48s/trial, best loss: -0.8394384266801312]"
     ]
    },
    {
     "name": "stderr",
     "output_type": "stream",
     "text": [
      "C:\\Users\\velmurug\\Documents\\full_stability\\transformers\\IndexBasedTransformer.py:58: PerformanceWarning: DataFrame is highly fragmented.  This is usually the result of calling `frame.insert` many times, which has poor performance.  Consider joining all columns at once using pd.concat(axis=1) instead.  To get a de-fragmented frame, use `newframe = frame.copy()`\n",
      "  dt_transformed[col] = 0\n",
      "\n"
     ]
    },
    {
     "name": "stdout",
     "output_type": "stream",
     "text": [
      "Accuracy:                                                                                                              \n",
      "0.7999999999999999                                                                                                     \n",
      " 30%|██████████████▍                                 | 3/10 [00:05<00:10,  1.48s/trial, best loss: -0.8394384266801312]"
     ]
    },
    {
     "name": "stderr",
     "output_type": "stream",
     "text": [
      "C:\\Users\\velmurug\\Documents\\full_stability\\transformers\\IndexBasedTransformer.py:58: PerformanceWarning: DataFrame is highly fragmented.  This is usually the result of calling `frame.insert` many times, which has poor performance.  Consider joining all columns at once using pd.concat(axis=1) instead.  To get a de-fragmented frame, use `newframe = frame.copy()`\n",
      "  dt_transformed[col] = 0\n",
      "\n"
     ]
    },
    {
     "name": "stdout",
     "output_type": "stream",
     "text": [
      "Accuracy:                                                                                                              \n",
      "0.8518518518518519                                                                                                     \n",
      "{'var_smoothing': 0.01873817422860384}                                                                                 \n",
      " 40%|███████████████████▏                            | 4/10 [00:05<00:08,  1.46s/trial, best loss: -0.8394384266801312]"
     ]
    },
    {
     "name": "stderr",
     "output_type": "stream",
     "text": [
      "C:\\Users\\velmurug\\Documents\\full_stability\\transformers\\IndexBasedTransformer.py:58: PerformanceWarning: DataFrame is highly fragmented.  This is usually the result of calling `frame.insert` many times, which has poor performance.  Consider joining all columns at once using pd.concat(axis=1) instead.  To get a de-fragmented frame, use `newframe = frame.copy()`\n",
      "  dt_transformed[col] = 0\n",
      "\n"
     ]
    },
    {
     "name": "stdout",
     "output_type": "stream",
     "text": [
      "Accuracy:                                                                                                              \n",
      "0.8108108108108109                                                                                                     \n",
      " 40%|███████████████████▏                            | 4/10 [00:06<00:08,  1.46s/trial, best loss: -0.8394384266801312]"
     ]
    },
    {
     "name": "stderr",
     "output_type": "stream",
     "text": [
      "C:\\Users\\velmurug\\Documents\\full_stability\\transformers\\IndexBasedTransformer.py:58: PerformanceWarning: DataFrame is highly fragmented.  This is usually the result of calling `frame.insert` many times, which has poor performance.  Consider joining all columns at once using pd.concat(axis=1) instead.  To get a de-fragmented frame, use `newframe = frame.copy()`\n",
      "  dt_transformed[col] = 0\n",
      "\n"
     ]
    },
    {
     "name": "stdout",
     "output_type": "stream",
     "text": [
      "Accuracy:                                                                                                              \n",
      "0.8                                                                                                                    \n",
      " 40%|███████████████████▏                            | 4/10 [00:06<00:08,  1.46s/trial, best loss: -0.8394384266801312]"
     ]
    },
    {
     "name": "stderr",
     "output_type": "stream",
     "text": [
      "C:\\Users\\velmurug\\Documents\\full_stability\\transformers\\IndexBasedTransformer.py:58: PerformanceWarning: DataFrame is highly fragmented.  This is usually the result of calling `frame.insert` many times, which has poor performance.  Consider joining all columns at once using pd.concat(axis=1) instead.  To get a de-fragmented frame, use `newframe = frame.copy()`\n",
      "  dt_transformed[col] = 0\n",
      "\n"
     ]
    },
    {
     "name": "stdout",
     "output_type": "stream",
     "text": [
      "Accuracy:                                                                                                              \n",
      "0.8247422680412372                                                                                                     \n",
      "{'var_smoothing': 0.03511191734215131}                                                                                 \n",
      " 50%|████████████████████████                        | 5/10 [00:07<00:07,  1.44s/trial, best loss: -0.8394384266801312]"
     ]
    },
    {
     "name": "stderr",
     "output_type": "stream",
     "text": [
      "C:\\Users\\velmurug\\Documents\\full_stability\\transformers\\IndexBasedTransformer.py:58: PerformanceWarning: DataFrame is highly fragmented.  This is usually the result of calling `frame.insert` many times, which has poor performance.  Consider joining all columns at once using pd.concat(axis=1) instead.  To get a de-fragmented frame, use `newframe = frame.copy()`\n",
      "  dt_transformed[col] = 0\n",
      "\n"
     ]
    },
    {
     "name": "stdout",
     "output_type": "stream",
     "text": [
      "Accuracy:                                                                                                              \n",
      "0.7999999999999999                                                                                                     \n",
      " 50%|████████████████████████                        | 5/10 [00:07<00:07,  1.44s/trial, best loss: -0.8394384266801312]"
     ]
    },
    {
     "name": "stderr",
     "output_type": "stream",
     "text": [
      "C:\\Users\\velmurug\\Documents\\full_stability\\transformers\\IndexBasedTransformer.py:58: PerformanceWarning: DataFrame is highly fragmented.  This is usually the result of calling `frame.insert` many times, which has poor performance.  Consider joining all columns at once using pd.concat(axis=1) instead.  To get a de-fragmented frame, use `newframe = frame.copy()`\n",
      "  dt_transformed[col] = 0\n",
      "\n"
     ]
    },
    {
     "name": "stdout",
     "output_type": "stream",
     "text": [
      "Accuracy:                                                                                                              \n",
      "0.822429906542056                                                                                                      \n",
      " 50%|████████████████████████                        | 5/10 [00:08<00:07,  1.44s/trial, best loss: -0.8394384266801312]"
     ]
    },
    {
     "name": "stderr",
     "output_type": "stream",
     "text": [
      "C:\\Users\\velmurug\\Documents\\full_stability\\transformers\\IndexBasedTransformer.py:58: PerformanceWarning: DataFrame is highly fragmented.  This is usually the result of calling `frame.insert` many times, which has poor performance.  Consider joining all columns at once using pd.concat(axis=1) instead.  To get a de-fragmented frame, use `newframe = frame.copy()`\n",
      "  dt_transformed[col] = 0\n",
      "\n"
     ]
    },
    {
     "name": "stdout",
     "output_type": "stream",
     "text": [
      "Accuracy:                                                                                                              \n",
      "0.8514851485148515                                                                                                     \n",
      "{'var_smoothing': 2.310129700083158e-05}                                                                               \n",
      " 60%|████████████████████████████▊                   | 6/10 [00:08<00:05,  1.44s/trial, best loss: -0.8394384266801312]"
     ]
    },
    {
     "name": "stderr",
     "output_type": "stream",
     "text": [
      "C:\\Users\\velmurug\\Documents\\full_stability\\transformers\\IndexBasedTransformer.py:58: PerformanceWarning: DataFrame is highly fragmented.  This is usually the result of calling `frame.insert` many times, which has poor performance.  Consider joining all columns at once using pd.concat(axis=1) instead.  To get a de-fragmented frame, use `newframe = frame.copy()`\n",
      "  dt_transformed[col] = 0\n",
      "\n"
     ]
    },
    {
     "name": "stdout",
     "output_type": "stream",
     "text": [
      "Accuracy:                                                                                                              \n",
      "0.8076923076923077                                                                                                     \n",
      " 60%|████████████████████████████▊                   | 6/10 [00:09<00:05,  1.44s/trial, best loss: -0.8394384266801312]"
     ]
    },
    {
     "name": "stderr",
     "output_type": "stream",
     "text": [
      "C:\\Users\\velmurug\\Documents\\full_stability\\transformers\\IndexBasedTransformer.py:58: PerformanceWarning: DataFrame is highly fragmented.  This is usually the result of calling `frame.insert` many times, which has poor performance.  Consider joining all columns at once using pd.concat(axis=1) instead.  To get a de-fragmented frame, use `newframe = frame.copy()`\n",
      "  dt_transformed[col] = 0\n",
      "\n"
     ]
    },
    {
     "name": "stdout",
     "output_type": "stream",
     "text": [
      "Accuracy:                                                                                                              \n",
      "0.8039215686274509                                                                                                     \n",
      " 60%|████████████████████████████▊                   | 6/10 [00:09<00:05,  1.44s/trial, best loss: -0.8394384266801312]"
     ]
    },
    {
     "name": "stderr",
     "output_type": "stream",
     "text": [
      "C:\\Users\\velmurug\\Documents\\full_stability\\transformers\\IndexBasedTransformer.py:58: PerformanceWarning: DataFrame is highly fragmented.  This is usually the result of calling `frame.insert` many times, which has poor performance.  Consider joining all columns at once using pd.concat(axis=1) instead.  To get a de-fragmented frame, use `newframe = frame.copy()`\n",
      "  dt_transformed[col] = 0\n",
      "\n"
     ]
    },
    {
     "name": "stdout",
     "output_type": "stream",
     "text": [
      "Accuracy:                                                                                                              \n",
      "0.845360824742268                                                                                                      \n",
      "{'var_smoothing': 0.8111308307896871}                                                                                  \n",
      " 70%|█████████████████████████████████▌              | 7/10 [00:10<00:04,  1.45s/trial, best loss: -0.8394384266801312]"
     ]
    },
    {
     "name": "stderr",
     "output_type": "stream",
     "text": [
      "C:\\Users\\velmurug\\Documents\\full_stability\\transformers\\IndexBasedTransformer.py:58: PerformanceWarning: DataFrame is highly fragmented.  This is usually the result of calling `frame.insert` many times, which has poor performance.  Consider joining all columns at once using pd.concat(axis=1) instead.  To get a de-fragmented frame, use `newframe = frame.copy()`\n",
      "  dt_transformed[col] = 0\n",
      "\n"
     ]
    },
    {
     "name": "stdout",
     "output_type": "stream",
     "text": [
      "Accuracy:                                                                                                              \n",
      "0.8113207547169813                                                                                                     \n",
      " 70%|█████████████████████████████████▌              | 7/10 [00:10<00:04,  1.45s/trial, best loss: -0.8394384266801312]"
     ]
    },
    {
     "name": "stderr",
     "output_type": "stream",
     "text": [
      "C:\\Users\\velmurug\\Documents\\full_stability\\transformers\\IndexBasedTransformer.py:58: PerformanceWarning: DataFrame is highly fragmented.  This is usually the result of calling `frame.insert` many times, which has poor performance.  Consider joining all columns at once using pd.concat(axis=1) instead.  To get a de-fragmented frame, use `newframe = frame.copy()`\n",
      "  dt_transformed[col] = 0\n",
      "\n"
     ]
    },
    {
     "name": "stdout",
     "output_type": "stream",
     "text": [
      "Accuracy:                                                                                                              \n",
      "0.8037383177570093                                                                                                     \n",
      " 70%|█████████████████████████████████▌              | 7/10 [00:11<00:04,  1.45s/trial, best loss: -0.8394384266801312]"
     ]
    },
    {
     "name": "stderr",
     "output_type": "stream",
     "text": [
      "C:\\Users\\velmurug\\Documents\\full_stability\\transformers\\IndexBasedTransformer.py:58: PerformanceWarning: DataFrame is highly fragmented.  This is usually the result of calling `frame.insert` many times, which has poor performance.  Consider joining all columns at once using pd.concat(axis=1) instead.  To get a de-fragmented frame, use `newframe = frame.copy()`\n",
      "  dt_transformed[col] = 0\n",
      "\n"
     ]
    },
    {
     "name": "stdout",
     "output_type": "stream",
     "text": [
      "Accuracy:                                                                                                              \n",
      "0.8275862068965517                                                                                                     \n",
      "{'var_smoothing': 0.0023101297000831605}                                                                               \n",
      " 80%|██████████████████████████████████████▍         | 8/10 [00:11<00:02,  1.47s/trial, best loss: -0.8394384266801312]"
     ]
    },
    {
     "name": "stderr",
     "output_type": "stream",
     "text": [
      "C:\\Users\\velmurug\\Documents\\full_stability\\transformers\\IndexBasedTransformer.py:58: PerformanceWarning: DataFrame is highly fragmented.  This is usually the result of calling `frame.insert` many times, which has poor performance.  Consider joining all columns at once using pd.concat(axis=1) instead.  To get a de-fragmented frame, use `newframe = frame.copy()`\n",
      "  dt_transformed[col] = 0\n",
      "\n"
     ]
    },
    {
     "name": "stdout",
     "output_type": "stream",
     "text": [
      "Accuracy:                                                                                                              \n",
      "0.7924528301886793                                                                                                     \n",
      " 80%|██████████████████████████████████████▍         | 8/10 [00:12<00:02,  1.47s/trial, best loss: -0.8394384266801312]"
     ]
    },
    {
     "name": "stderr",
     "output_type": "stream",
     "text": [
      "C:\\Users\\velmurug\\Documents\\full_stability\\transformers\\IndexBasedTransformer.py:58: PerformanceWarning: DataFrame is highly fragmented.  This is usually the result of calling `frame.insert` many times, which has poor performance.  Consider joining all columns at once using pd.concat(axis=1) instead.  To get a de-fragmented frame, use `newframe = frame.copy()`\n",
      "  dt_transformed[col] = 0\n",
      "\n"
     ]
    },
    {
     "name": "stdout",
     "output_type": "stream",
     "text": [
      "Accuracy:                                                                                                              \n",
      "0.8080808080808081                                                                                                     \n",
      " 80%|██████████████████████████████████████▍         | 8/10 [00:12<00:02,  1.47s/trial, best loss: -0.8394384266801312]"
     ]
    },
    {
     "name": "stderr",
     "output_type": "stream",
     "text": [
      "C:\\Users\\velmurug\\Documents\\full_stability\\transformers\\IndexBasedTransformer.py:58: PerformanceWarning: DataFrame is highly fragmented.  This is usually the result of calling `frame.insert` many times, which has poor performance.  Consider joining all columns at once using pd.concat(axis=1) instead.  To get a de-fragmented frame, use `newframe = frame.copy()`\n",
      "  dt_transformed[col] = 0\n",
      "\n"
     ]
    },
    {
     "name": "stdout",
     "output_type": "stream",
     "text": [
      "Accuracy:                                                                                                              \n",
      "0.819047619047619                                                                                                      \n",
      "{'var_smoothing': 0.0001}                                                                                              \n",
      " 90%|███████████████████████████████████████████▏    | 9/10 [00:13<00:01,  1.49s/trial, best loss: -0.8394384266801312]"
     ]
    },
    {
     "name": "stderr",
     "output_type": "stream",
     "text": [
      "C:\\Users\\velmurug\\Documents\\full_stability\\transformers\\IndexBasedTransformer.py:58: PerformanceWarning: DataFrame is highly fragmented.  This is usually the result of calling `frame.insert` many times, which has poor performance.  Consider joining all columns at once using pd.concat(axis=1) instead.  To get a de-fragmented frame, use `newframe = frame.copy()`\n",
      "  dt_transformed[col] = 0\n",
      "\n"
     ]
    },
    {
     "name": "stdout",
     "output_type": "stream",
     "text": [
      "Accuracy:                                                                                                              \n",
      "0.7766990291262137                                                                                                     \n",
      " 90%|███████████████████████████████████████████▏    | 9/10 [00:13<00:01,  1.49s/trial, best loss: -0.8394384266801312]"
     ]
    },
    {
     "name": "stderr",
     "output_type": "stream",
     "text": [
      "C:\\Users\\velmurug\\Documents\\full_stability\\transformers\\IndexBasedTransformer.py:58: PerformanceWarning: DataFrame is highly fragmented.  This is usually the result of calling `frame.insert` many times, which has poor performance.  Consider joining all columns at once using pd.concat(axis=1) instead.  To get a de-fragmented frame, use `newframe = frame.copy()`\n",
      "  dt_transformed[col] = 0\n",
      "\n"
     ]
    },
    {
     "name": "stdout",
     "output_type": "stream",
     "text": [
      "Accuracy:                                                                                                              \n",
      "0.8073394495412843                                                                                                     \n",
      " 90%|███████████████████████████████████████████▏    | 9/10 [00:14<00:01,  1.49s/trial, best loss: -0.8394384266801312]"
     ]
    },
    {
     "name": "stderr",
     "output_type": "stream",
     "text": [
      "C:\\Users\\velmurug\\Documents\\full_stability\\transformers\\IndexBasedTransformer.py:58: PerformanceWarning: DataFrame is highly fragmented.  This is usually the result of calling `frame.insert` many times, which has poor performance.  Consider joining all columns at once using pd.concat(axis=1) instead.  To get a de-fragmented frame, use `newframe = frame.copy()`\n",
      "  dt_transformed[col] = 0\n",
      "\n"
     ]
    },
    {
     "name": "stdout",
     "output_type": "stream",
     "text": [
      "Accuracy:                                                                                                              \n",
      "0.7368421052631579                                                                                                     \n",
      "100%|███████████████████████████████████████████████| 10/10 [00:14<00:00,  1.49s/trial, best loss: -0.8394384266801312]\n",
      "Optimising 14 of 20 buckets\n",
      "{'var_smoothing': 1.873817422860387e-09}                                                                               \n",
      "  0%|                                                                           | 0/10 [00:00<?, ?trial/s, best loss=?]"
     ]
    },
    {
     "name": "stderr",
     "output_type": "stream",
     "text": [
      "C:\\Users\\velmurug\\Documents\\full_stability\\transformers\\IndexBasedTransformer.py:58: PerformanceWarning: DataFrame is highly fragmented.  This is usually the result of calling `frame.insert` many times, which has poor performance.  Consider joining all columns at once using pd.concat(axis=1) instead.  To get a de-fragmented frame, use `newframe = frame.copy()`\n",
      "  dt_transformed[col] = 0\n",
      "\n"
     ]
    },
    {
     "name": "stdout",
     "output_type": "stream",
     "text": [
      "Accuracy:                                                                                                              \n",
      "0.7246376811594203                                                                                                     \n",
      "  0%|                                                                           | 0/10 [00:00<?, ?trial/s, best loss=?]"
     ]
    },
    {
     "name": "stderr",
     "output_type": "stream",
     "text": [
      "C:\\Users\\velmurug\\Documents\\full_stability\\transformers\\IndexBasedTransformer.py:58: PerformanceWarning: DataFrame is highly fragmented.  This is usually the result of calling `frame.insert` many times, which has poor performance.  Consider joining all columns at once using pd.concat(axis=1) instead.  To get a de-fragmented frame, use `newframe = frame.copy()`\n",
      "  dt_transformed[col] = 0\n",
      "\n"
     ]
    },
    {
     "name": "stdout",
     "output_type": "stream",
     "text": [
      "Accuracy:                                                                                                              \n",
      "0.7912087912087913                                                                                                     \n",
      "  0%|                                                                           | 0/10 [00:01<?, ?trial/s, best loss=?]"
     ]
    },
    {
     "name": "stderr",
     "output_type": "stream",
     "text": [
      "C:\\Users\\velmurug\\Documents\\full_stability\\transformers\\IndexBasedTransformer.py:58: PerformanceWarning: DataFrame is highly fragmented.  This is usually the result of calling `frame.insert` many times, which has poor performance.  Consider joining all columns at once using pd.concat(axis=1) instead.  To get a de-fragmented frame, use `newframe = frame.copy()`\n",
      "  dt_transformed[col] = 0\n",
      "\n"
     ]
    },
    {
     "name": "stdout",
     "output_type": "stream",
     "text": [
      "Accuracy:                                                                                                              \n",
      "0.7777777777777778                                                                                                     \n",
      "{'var_smoothing': 0.04328761281083057}                                                                                 \n",
      " 10%|████▊                                           | 1/10 [00:01<00:14,  1.61s/trial, best loss: -0.7645414167153297]"
     ]
    },
    {
     "name": "stderr",
     "output_type": "stream",
     "text": [
      "C:\\Users\\velmurug\\Documents\\full_stability\\transformers\\IndexBasedTransformer.py:58: PerformanceWarning: DataFrame is highly fragmented.  This is usually the result of calling `frame.insert` many times, which has poor performance.  Consider joining all columns at once using pd.concat(axis=1) instead.  To get a de-fragmented frame, use `newframe = frame.copy()`\n",
      "  dt_transformed[col] = 0\n",
      "\n"
     ]
    },
    {
     "name": "stdout",
     "output_type": "stream",
     "text": [
      "Accuracy:                                                                                                              \n",
      "0.8941176470588236                                                                                                     \n",
      " 10%|████▊                                           | 1/10 [00:02<00:14,  1.61s/trial, best loss: -0.7645414167153297]"
     ]
    },
    {
     "name": "stderr",
     "output_type": "stream",
     "text": [
      "C:\\Users\\velmurug\\Documents\\full_stability\\transformers\\IndexBasedTransformer.py:58: PerformanceWarning: DataFrame is highly fragmented.  This is usually the result of calling `frame.insert` many times, which has poor performance.  Consider joining all columns at once using pd.concat(axis=1) instead.  To get a de-fragmented frame, use `newframe = frame.copy()`\n",
      "  dt_transformed[col] = 0\n",
      "\n"
     ]
    },
    {
     "name": "stdout",
     "output_type": "stream",
     "text": [
      "Accuracy:                                                                                                              \n",
      "0.8333333333333333                                                                                                     \n",
      " 10%|████▊                                           | 1/10 [00:02<00:14,  1.61s/trial, best loss: -0.7645414167153297]"
     ]
    },
    {
     "name": "stderr",
     "output_type": "stream",
     "text": [
      "C:\\Users\\velmurug\\Documents\\full_stability\\transformers\\IndexBasedTransformer.py:58: PerformanceWarning: DataFrame is highly fragmented.  This is usually the result of calling `frame.insert` many times, which has poor performance.  Consider joining all columns at once using pd.concat(axis=1) instead.  To get a de-fragmented frame, use `newframe = frame.copy()`\n",
      "  dt_transformed[col] = 0\n",
      "\n"
     ]
    },
    {
     "name": "stdout",
     "output_type": "stream",
     "text": [
      "Accuracy:                                                                                                              \n",
      "0.8                                                                                                                    \n",
      "{'var_smoothing': 1.873817422860383e-08}                                                                               \n",
      " 20%|█████████▊                                       | 2/10 [00:03<00:12,  1.61s/trial, best loss: -0.842483660130719]"
     ]
    },
    {
     "name": "stderr",
     "output_type": "stream",
     "text": [
      "C:\\Users\\velmurug\\Documents\\full_stability\\transformers\\IndexBasedTransformer.py:58: PerformanceWarning: DataFrame is highly fragmented.  This is usually the result of calling `frame.insert` many times, which has poor performance.  Consider joining all columns at once using pd.concat(axis=1) instead.  To get a de-fragmented frame, use `newframe = frame.copy()`\n",
      "  dt_transformed[col] = 0\n",
      "\n"
     ]
    },
    {
     "name": "stdout",
     "output_type": "stream",
     "text": [
      "Accuracy:                                                                                                              \n",
      "0.8089887640449439                                                                                                     \n",
      " 20%|█████████▊                                       | 2/10 [00:03<00:12,  1.61s/trial, best loss: -0.842483660130719]"
     ]
    },
    {
     "name": "stderr",
     "output_type": "stream",
     "text": [
      "C:\\Users\\velmurug\\Documents\\full_stability\\transformers\\IndexBasedTransformer.py:58: PerformanceWarning: DataFrame is highly fragmented.  This is usually the result of calling `frame.insert` many times, which has poor performance.  Consider joining all columns at once using pd.concat(axis=1) instead.  To get a de-fragmented frame, use `newframe = frame.copy()`\n",
      "  dt_transformed[col] = 0\n",
      "\n"
     ]
    },
    {
     "name": "stdout",
     "output_type": "stream",
     "text": [
      "Accuracy:                                                                                                              \n",
      "0.7872340425531915                                                                                                     \n",
      " 20%|█████████▊                                       | 2/10 [00:04<00:12,  1.61s/trial, best loss: -0.842483660130719]"
     ]
    },
    {
     "name": "stderr",
     "output_type": "stream",
     "text": [
      "C:\\Users\\velmurug\\Documents\\full_stability\\transformers\\IndexBasedTransformer.py:58: PerformanceWarning: DataFrame is highly fragmented.  This is usually the result of calling `frame.insert` many times, which has poor performance.  Consider joining all columns at once using pd.concat(axis=1) instead.  To get a de-fragmented frame, use `newframe = frame.copy()`\n",
      "  dt_transformed[col] = 0\n",
      "\n"
     ]
    },
    {
     "name": "stdout",
     "output_type": "stream",
     "text": [
      "Accuracy:                                                                                                              \n",
      "0.7333333333333332                                                                                                     \n",
      "{'var_smoothing': 0.0003511191734215131}                                                                               \n",
      " 30%|██████████████▋                                  | 3/10 [00:04<00:11,  1.63s/trial, best loss: -0.842483660130719]"
     ]
    },
    {
     "name": "stderr",
     "output_type": "stream",
     "text": [
      "C:\\Users\\velmurug\\Documents\\full_stability\\transformers\\IndexBasedTransformer.py:58: PerformanceWarning: DataFrame is highly fragmented.  This is usually the result of calling `frame.insert` many times, which has poor performance.  Consider joining all columns at once using pd.concat(axis=1) instead.  To get a de-fragmented frame, use `newframe = frame.copy()`\n",
      "  dt_transformed[col] = 0\n",
      "\n"
     ]
    },
    {
     "name": "stdout",
     "output_type": "stream",
     "text": [
      "Accuracy:                                                                                                              \n",
      "0.6865671641791045                                                                                                     \n",
      " 30%|██████████████▋                                  | 3/10 [00:05<00:11,  1.63s/trial, best loss: -0.842483660130719]"
     ]
    },
    {
     "name": "stderr",
     "output_type": "stream",
     "text": [
      "C:\\Users\\velmurug\\Documents\\full_stability\\transformers\\IndexBasedTransformer.py:58: PerformanceWarning: DataFrame is highly fragmented.  This is usually the result of calling `frame.insert` many times, which has poor performance.  Consider joining all columns at once using pd.concat(axis=1) instead.  To get a de-fragmented frame, use `newframe = frame.copy()`\n",
      "  dt_transformed[col] = 0\n",
      "\n"
     ]
    },
    {
     "name": "stdout",
     "output_type": "stream",
     "text": [
      "Accuracy:                                                                                                              \n",
      "0.8260869565217391                                                                                                     \n",
      " 30%|██████████████▋                                  | 3/10 [00:05<00:11,  1.63s/trial, best loss: -0.842483660130719]"
     ]
    },
    {
     "name": "stderr",
     "output_type": "stream",
     "text": [
      "C:\\Users\\velmurug\\Documents\\full_stability\\transformers\\IndexBasedTransformer.py:58: PerformanceWarning: DataFrame is highly fragmented.  This is usually the result of calling `frame.insert` many times, which has poor performance.  Consider joining all columns at once using pd.concat(axis=1) instead.  To get a de-fragmented frame, use `newframe = frame.copy()`\n",
      "  dt_transformed[col] = 0\n",
      "\n"
     ]
    },
    {
     "name": "stdout",
     "output_type": "stream",
     "text": [
      "Accuracy:                                                                                                              \n",
      "0.7608695652173914                                                                                                     \n",
      "{'var_smoothing': 0.43287612810830584}                                                                                 \n",
      " 40%|███████████████████▌                             | 4/10 [00:06<00:09,  1.61s/trial, best loss: -0.842483660130719]"
     ]
    },
    {
     "name": "stderr",
     "output_type": "stream",
     "text": [
      "C:\\Users\\velmurug\\Documents\\full_stability\\transformers\\IndexBasedTransformer.py:58: PerformanceWarning: DataFrame is highly fragmented.  This is usually the result of calling `frame.insert` many times, which has poor performance.  Consider joining all columns at once using pd.concat(axis=1) instead.  To get a de-fragmented frame, use `newframe = frame.copy()`\n",
      "  dt_transformed[col] = 0\n",
      "\n"
     ]
    },
    {
     "name": "stdout",
     "output_type": "stream",
     "text": [
      "Accuracy:                                                                                                              \n",
      "0.8051948051948052                                                                                                     \n",
      " 40%|███████████████████▌                             | 4/10 [00:07<00:09,  1.61s/trial, best loss: -0.842483660130719]"
     ]
    },
    {
     "name": "stderr",
     "output_type": "stream",
     "text": [
      "C:\\Users\\velmurug\\Documents\\full_stability\\transformers\\IndexBasedTransformer.py:58: PerformanceWarning: DataFrame is highly fragmented.  This is usually the result of calling `frame.insert` many times, which has poor performance.  Consider joining all columns at once using pd.concat(axis=1) instead.  To get a de-fragmented frame, use `newframe = frame.copy()`\n",
      "  dt_transformed[col] = 0\n",
      "\n"
     ]
    },
    {
     "name": "stdout",
     "output_type": "stream",
     "text": [
      "Accuracy:                                                                                                              \n",
      "0.8354430379746834                                                                                                     \n",
      " 40%|███████████████████▌                             | 4/10 [00:07<00:09,  1.61s/trial, best loss: -0.842483660130719]"
     ]
    },
    {
     "name": "stderr",
     "output_type": "stream",
     "text": [
      "C:\\Users\\velmurug\\Documents\\full_stability\\transformers\\IndexBasedTransformer.py:58: PerformanceWarning: DataFrame is highly fragmented.  This is usually the result of calling `frame.insert` many times, which has poor performance.  Consider joining all columns at once using pd.concat(axis=1) instead.  To get a de-fragmented frame, use `newframe = frame.copy()`\n",
      "  dt_transformed[col] = 0\n",
      "\n"
     ]
    },
    {
     "name": "stdout",
     "output_type": "stream",
     "text": [
      "Accuracy:                                                                                                              \n",
      "0.8395061728395061                                                                                                     \n",
      "{'var_smoothing': 0.0023101297000831605}                                                                               \n",
      " 50%|████████████████████████▌                        | 5/10 [00:08<00:08,  1.62s/trial, best loss: -0.842483660130719]"
     ]
    },
    {
     "name": "stderr",
     "output_type": "stream",
     "text": [
      "C:\\Users\\velmurug\\Documents\\full_stability\\transformers\\IndexBasedTransformer.py:58: PerformanceWarning: DataFrame is highly fragmented.  This is usually the result of calling `frame.insert` many times, which has poor performance.  Consider joining all columns at once using pd.concat(axis=1) instead.  To get a de-fragmented frame, use `newframe = frame.copy()`\n",
      "  dt_transformed[col] = 0\n",
      "\n"
     ]
    },
    {
     "name": "stdout",
     "output_type": "stream",
     "text": [
      "Accuracy:                                                                                                              \n",
      "0.7246376811594203                                                                                                     \n",
      " 50%|████████████████████████▌                        | 5/10 [00:08<00:08,  1.62s/trial, best loss: -0.842483660130719]"
     ]
    },
    {
     "name": "stderr",
     "output_type": "stream",
     "text": [
      "C:\\Users\\velmurug\\Documents\\full_stability\\transformers\\IndexBasedTransformer.py:58: PerformanceWarning: DataFrame is highly fragmented.  This is usually the result of calling `frame.insert` many times, which has poor performance.  Consider joining all columns at once using pd.concat(axis=1) instead.  To get a de-fragmented frame, use `newframe = frame.copy()`\n",
      "  dt_transformed[col] = 0\n",
      "\n"
     ]
    },
    {
     "name": "stdout",
     "output_type": "stream",
     "text": [
      "Accuracy:                                                                                                              \n",
      "0.8607594936708862                                                                                                     \n",
      " 50%|████████████████████████▌                        | 5/10 [00:09<00:08,  1.62s/trial, best loss: -0.842483660130719]"
     ]
    },
    {
     "name": "stderr",
     "output_type": "stream",
     "text": [
      "C:\\Users\\velmurug\\Documents\\full_stability\\transformers\\IndexBasedTransformer.py:58: PerformanceWarning: DataFrame is highly fragmented.  This is usually the result of calling `frame.insert` many times, which has poor performance.  Consider joining all columns at once using pd.concat(axis=1) instead.  To get a de-fragmented frame, use `newframe = frame.copy()`\n",
      "  dt_transformed[col] = 0\n",
      "\n"
     ]
    },
    {
     "name": "stdout",
     "output_type": "stream",
     "text": [
      "Accuracy:                                                                                                              \n",
      "0.7674418604651163                                                                                                     \n",
      "{'var_smoothing': 2.310129700083158e-06}                                                                               \n",
      " 60%|█████████████████████████████▍                   | 6/10 [00:09<00:06,  1.63s/trial, best loss: -0.842483660130719]"
     ]
    },
    {
     "name": "stderr",
     "output_type": "stream",
     "text": [
      "C:\\Users\\velmurug\\Documents\\full_stability\\transformers\\IndexBasedTransformer.py:58: PerformanceWarning: DataFrame is highly fragmented.  This is usually the result of calling `frame.insert` many times, which has poor performance.  Consider joining all columns at once using pd.concat(axis=1) instead.  To get a de-fragmented frame, use `newframe = frame.copy()`\n",
      "  dt_transformed[col] = 0\n",
      "\n"
     ]
    },
    {
     "name": "stdout",
     "output_type": "stream",
     "text": [
      "Accuracy:                                                                                                              \n",
      "0.7058823529411764                                                                                                     \n",
      " 60%|█████████████████████████████▍                   | 6/10 [00:10<00:06,  1.63s/trial, best loss: -0.842483660130719]"
     ]
    },
    {
     "name": "stderr",
     "output_type": "stream",
     "text": [
      "C:\\Users\\velmurug\\Documents\\full_stability\\transformers\\IndexBasedTransformer.py:58: PerformanceWarning: DataFrame is highly fragmented.  This is usually the result of calling `frame.insert` many times, which has poor performance.  Consider joining all columns at once using pd.concat(axis=1) instead.  To get a de-fragmented frame, use `newframe = frame.copy()`\n",
      "  dt_transformed[col] = 0\n",
      "\n"
     ]
    },
    {
     "name": "stdout",
     "output_type": "stream",
     "text": [
      "Accuracy:                                                                                                              \n",
      "0.8172043010752688                                                                                                     \n",
      " 60%|█████████████████████████████▍                   | 6/10 [00:10<00:06,  1.63s/trial, best loss: -0.842483660130719]"
     ]
    },
    {
     "name": "stderr",
     "output_type": "stream",
     "text": [
      "C:\\Users\\velmurug\\Documents\\full_stability\\transformers\\IndexBasedTransformer.py:58: PerformanceWarning: DataFrame is highly fragmented.  This is usually the result of calling `frame.insert` many times, which has poor performance.  Consider joining all columns at once using pd.concat(axis=1) instead.  To get a de-fragmented frame, use `newframe = frame.copy()`\n",
      "  dt_transformed[col] = 0\n",
      "\n"
     ]
    },
    {
     "name": "stdout",
     "output_type": "stream",
     "text": [
      "Accuracy:                                                                                                              \n",
      "0.7391304347826088                                                                                                     \n",
      "{'var_smoothing': 4.328761281083053e-06}                                                                               \n",
      " 70%|██████████████████████████████████▎              | 7/10 [00:11<00:04,  1.62s/trial, best loss: -0.842483660130719]"
     ]
    },
    {
     "name": "stderr",
     "output_type": "stream",
     "text": [
      "C:\\Users\\velmurug\\Documents\\full_stability\\transformers\\IndexBasedTransformer.py:58: PerformanceWarning: DataFrame is highly fragmented.  This is usually the result of calling `frame.insert` many times, which has poor performance.  Consider joining all columns at once using pd.concat(axis=1) instead.  To get a de-fragmented frame, use `newframe = frame.copy()`\n",
      "  dt_transformed[col] = 0\n",
      "\n"
     ]
    },
    {
     "name": "stdout",
     "output_type": "stream",
     "text": [
      "Accuracy:                                                                                                              \n",
      "0.8260869565217391                                                                                                     \n",
      " 70%|██████████████████████████████████▎              | 7/10 [00:11<00:04,  1.62s/trial, best loss: -0.842483660130719]"
     ]
    },
    {
     "name": "stderr",
     "output_type": "stream",
     "text": [
      "C:\\Users\\velmurug\\Documents\\full_stability\\transformers\\IndexBasedTransformer.py:58: PerformanceWarning: DataFrame is highly fragmented.  This is usually the result of calling `frame.insert` many times, which has poor performance.  Consider joining all columns at once using pd.concat(axis=1) instead.  To get a de-fragmented frame, use `newframe = frame.copy()`\n",
      "  dt_transformed[col] = 0\n",
      "\n"
     ]
    },
    {
     "name": "stdout",
     "output_type": "stream",
     "text": [
      "Accuracy:                                                                                                              \n",
      "0.7865168539325843                                                                                                     \n",
      " 70%|██████████████████████████████████▎              | 7/10 [00:12<00:04,  1.62s/trial, best loss: -0.842483660130719]"
     ]
    },
    {
     "name": "stderr",
     "output_type": "stream",
     "text": [
      "C:\\Users\\velmurug\\Documents\\full_stability\\transformers\\IndexBasedTransformer.py:58: PerformanceWarning: DataFrame is highly fragmented.  This is usually the result of calling `frame.insert` many times, which has poor performance.  Consider joining all columns at once using pd.concat(axis=1) instead.  To get a de-fragmented frame, use `newframe = frame.copy()`\n",
      "  dt_transformed[col] = 0\n",
      "\n"
     ]
    },
    {
     "name": "stdout",
     "output_type": "stream",
     "text": [
      "Accuracy:                                                                                                              \n",
      "0.8372093023255814                                                                                                     \n",
      "{'var_smoothing': 5.336699231206302e-09}                                                                               \n",
      " 80%|███████████████████████████████████████▏         | 8/10 [00:12<00:03,  1.62s/trial, best loss: -0.842483660130719]"
     ]
    },
    {
     "name": "stderr",
     "output_type": "stream",
     "text": [
      "C:\\Users\\velmurug\\Documents\\full_stability\\transformers\\IndexBasedTransformer.py:58: PerformanceWarning: DataFrame is highly fragmented.  This is usually the result of calling `frame.insert` many times, which has poor performance.  Consider joining all columns at once using pd.concat(axis=1) instead.  To get a de-fragmented frame, use `newframe = frame.copy()`\n",
      "  dt_transformed[col] = 0\n",
      "\n"
     ]
    },
    {
     "name": "stdout",
     "output_type": "stream",
     "text": [
      "Accuracy:                                                                                                              \n",
      "0.8387096774193548                                                                                                     \n",
      " 80%|███████████████████████████████████████▏         | 8/10 [00:13<00:03,  1.62s/trial, best loss: -0.842483660130719]"
     ]
    },
    {
     "name": "stderr",
     "output_type": "stream",
     "text": [
      "C:\\Users\\velmurug\\Documents\\full_stability\\transformers\\IndexBasedTransformer.py:58: PerformanceWarning: DataFrame is highly fragmented.  This is usually the result of calling `frame.insert` many times, which has poor performance.  Consider joining all columns at once using pd.concat(axis=1) instead.  To get a de-fragmented frame, use `newframe = frame.copy()`\n",
      "  dt_transformed[col] = 0\n",
      "\n"
     ]
    },
    {
     "name": "stdout",
     "output_type": "stream",
     "text": [
      "Accuracy:                                                                                                              \n",
      "0.8282828282828283                                                                                                     \n",
      " 80%|███████████████████████████████████████▏         | 8/10 [00:14<00:03,  1.62s/trial, best loss: -0.842483660130719]"
     ]
    },
    {
     "name": "stderr",
     "output_type": "stream",
     "text": [
      "C:\\Users\\velmurug\\Documents\\full_stability\\transformers\\IndexBasedTransformer.py:58: PerformanceWarning: DataFrame is highly fragmented.  This is usually the result of calling `frame.insert` many times, which has poor performance.  Consider joining all columns at once using pd.concat(axis=1) instead.  To get a de-fragmented frame, use `newframe = frame.copy()`\n",
      "  dt_transformed[col] = 0\n",
      "\n"
     ]
    },
    {
     "name": "stdout",
     "output_type": "stream",
     "text": [
      "Accuracy:                                                                                                              \n",
      "0.7586206896551724                                                                                                     \n",
      "{'var_smoothing': 2.848035868435799e-07}                                                                               \n",
      " 90%|████████████████████████████████████████████     | 9/10 [00:14<00:01,  1.63s/trial, best loss: -0.842483660130719]"
     ]
    },
    {
     "name": "stderr",
     "output_type": "stream",
     "text": [
      "C:\\Users\\velmurug\\Documents\\full_stability\\transformers\\IndexBasedTransformer.py:58: PerformanceWarning: DataFrame is highly fragmented.  This is usually the result of calling `frame.insert` many times, which has poor performance.  Consider joining all columns at once using pd.concat(axis=1) instead.  To get a de-fragmented frame, use `newframe = frame.copy()`\n",
      "  dt_transformed[col] = 0\n",
      "\n"
     ]
    },
    {
     "name": "stdout",
     "output_type": "stream",
     "text": [
      "Accuracy:                                                                                                              \n",
      "0.6461538461538462                                                                                                     \n",
      " 90%|████████████████████████████████████████████     | 9/10 [00:15<00:01,  1.63s/trial, best loss: -0.842483660130719]"
     ]
    },
    {
     "name": "stderr",
     "output_type": "stream",
     "text": [
      "C:\\Users\\velmurug\\Documents\\full_stability\\transformers\\IndexBasedTransformer.py:58: PerformanceWarning: DataFrame is highly fragmented.  This is usually the result of calling `frame.insert` many times, which has poor performance.  Consider joining all columns at once using pd.concat(axis=1) instead.  To get a de-fragmented frame, use `newframe = frame.copy()`\n",
      "  dt_transformed[col] = 0\n",
      "\n"
     ]
    },
    {
     "name": "stdout",
     "output_type": "stream",
     "text": [
      "Accuracy:                                                                                                              \n",
      "0.7692307692307692                                                                                                     \n",
      " 90%|████████████████████████████████████████████     | 9/10 [00:15<00:01,  1.63s/trial, best loss: -0.842483660130719]"
     ]
    },
    {
     "name": "stderr",
     "output_type": "stream",
     "text": [
      "C:\\Users\\velmurug\\Documents\\full_stability\\transformers\\IndexBasedTransformer.py:58: PerformanceWarning: DataFrame is highly fragmented.  This is usually the result of calling `frame.insert` many times, which has poor performance.  Consider joining all columns at once using pd.concat(axis=1) instead.  To get a de-fragmented frame, use `newframe = frame.copy()`\n",
      "  dt_transformed[col] = 0\n",
      "\n"
     ]
    },
    {
     "name": "stdout",
     "output_type": "stream",
     "text": [
      "Accuracy:                                                                                                              \n",
      "0.7333333333333332                                                                                                     \n",
      "100%|████████████████████████████████████████████████| 10/10 [00:16<00:00,  1.63s/trial, best loss: -0.842483660130719]\n",
      "Optimising 15 of 20 buckets\n",
      "{'var_smoothing': 0.0002310129700083158}                                                                               \n",
      "  0%|                                                                           | 0/10 [00:00<?, ?trial/s, best loss=?]"
     ]
    },
    {
     "name": "stderr",
     "output_type": "stream",
     "text": [
      "C:\\Users\\velmurug\\Documents\\full_stability\\transformers\\IndexBasedTransformer.py:58: PerformanceWarning: DataFrame is highly fragmented.  This is usually the result of calling `frame.insert` many times, which has poor performance.  Consider joining all columns at once using pd.concat(axis=1) instead.  To get a de-fragmented frame, use `newframe = frame.copy()`\n",
      "  dt_transformed[col] = 0\n",
      "\n"
     ]
    },
    {
     "name": "stdout",
     "output_type": "stream",
     "text": [
      "Accuracy:                                                                                                              \n",
      "0.767123287671233                                                                                                      \n",
      "  0%|                                                                           | 0/10 [00:00<?, ?trial/s, best loss=?]"
     ]
    },
    {
     "name": "stderr",
     "output_type": "stream",
     "text": [
      "C:\\Users\\velmurug\\Documents\\full_stability\\transformers\\IndexBasedTransformer.py:58: PerformanceWarning: DataFrame is highly fragmented.  This is usually the result of calling `frame.insert` many times, which has poor performance.  Consider joining all columns at once using pd.concat(axis=1) instead.  To get a de-fragmented frame, use `newframe = frame.copy()`\n",
      "  dt_transformed[col] = 0\n",
      "\n"
     ]
    },
    {
     "name": "stdout",
     "output_type": "stream",
     "text": [
      "Accuracy:                                                                                                              \n",
      "0.7777777777777778                                                                                                     \n",
      "  0%|                                                                           | 0/10 [00:01<?, ?trial/s, best loss=?]"
     ]
    },
    {
     "name": "stderr",
     "output_type": "stream",
     "text": [
      "C:\\Users\\velmurug\\Documents\\full_stability\\transformers\\IndexBasedTransformer.py:58: PerformanceWarning: DataFrame is highly fragmented.  This is usually the result of calling `frame.insert` many times, which has poor performance.  Consider joining all columns at once using pd.concat(axis=1) instead.  To get a de-fragmented frame, use `newframe = frame.copy()`\n",
      "  dt_transformed[col] = 0\n",
      "\n"
     ]
    },
    {
     "name": "stdout",
     "output_type": "stream",
     "text": [
      "Accuracy:                                                                                                              \n",
      "0.7435897435897436                                                                                                     \n",
      "{'var_smoothing': 1.873817422860383e-05}                                                                               \n",
      " 10%|████▊                                           | 1/10 [00:01<00:15,  1.69s/trial, best loss: -0.7628302696795849]"
     ]
    },
    {
     "name": "stderr",
     "output_type": "stream",
     "text": [
      "C:\\Users\\velmurug\\Documents\\full_stability\\transformers\\IndexBasedTransformer.py:58: PerformanceWarning: DataFrame is highly fragmented.  This is usually the result of calling `frame.insert` many times, which has poor performance.  Consider joining all columns at once using pd.concat(axis=1) instead.  To get a de-fragmented frame, use `newframe = frame.copy()`\n",
      "  dt_transformed[col] = 0\n",
      "\n"
     ]
    },
    {
     "name": "stdout",
     "output_type": "stream",
     "text": [
      "Accuracy:                                                                                                              \n",
      "0.5818181818181819                                                                                                     \n",
      " 10%|████▊                                           | 1/10 [00:02<00:15,  1.69s/trial, best loss: -0.7628302696795849]"
     ]
    },
    {
     "name": "stderr",
     "output_type": "stream",
     "text": [
      "C:\\Users\\velmurug\\Documents\\full_stability\\transformers\\IndexBasedTransformer.py:58: PerformanceWarning: DataFrame is highly fragmented.  This is usually the result of calling `frame.insert` many times, which has poor performance.  Consider joining all columns at once using pd.concat(axis=1) instead.  To get a de-fragmented frame, use `newframe = frame.copy()`\n",
      "  dt_transformed[col] = 0\n",
      "\n"
     ]
    },
    {
     "name": "stdout",
     "output_type": "stream",
     "text": [
      "Accuracy:                                                                                                              \n",
      "0.8157894736842105                                                                                                     \n",
      " 10%|████▊                                           | 1/10 [00:02<00:15,  1.69s/trial, best loss: -0.7628302696795849]"
     ]
    },
    {
     "name": "stderr",
     "output_type": "stream",
     "text": [
      "C:\\Users\\velmurug\\Documents\\full_stability\\transformers\\IndexBasedTransformer.py:58: PerformanceWarning: DataFrame is highly fragmented.  This is usually the result of calling `frame.insert` many times, which has poor performance.  Consider joining all columns at once using pd.concat(axis=1) instead.  To get a de-fragmented frame, use `newframe = frame.copy()`\n",
      "  dt_transformed[col] = 0\n",
      "\n"
     ]
    },
    {
     "name": "stdout",
     "output_type": "stream",
     "text": [
      "Accuracy:                                                                                                              \n",
      "0.825                                                                                                                  \n",
      "{'var_smoothing': 0.0001519911082952933}                                                                               \n",
      " 20%|█████████▌                                      | 2/10 [00:03<00:13,  1.68s/trial, best loss: -0.7628302696795849]"
     ]
    },
    {
     "name": "stderr",
     "output_type": "stream",
     "text": [
      "C:\\Users\\velmurug\\Documents\\full_stability\\transformers\\IndexBasedTransformer.py:58: PerformanceWarning: DataFrame is highly fragmented.  This is usually the result of calling `frame.insert` many times, which has poor performance.  Consider joining all columns at once using pd.concat(axis=1) instead.  To get a de-fragmented frame, use `newframe = frame.copy()`\n",
      "  dt_transformed[col] = 0\n",
      "\n"
     ]
    },
    {
     "name": "stdout",
     "output_type": "stream",
     "text": [
      "Accuracy:                                                                                                              \n",
      "0.8157894736842105                                                                                                     \n",
      " 20%|█████████▌                                      | 2/10 [00:03<00:13,  1.68s/trial, best loss: -0.7628302696795849]"
     ]
    },
    {
     "name": "stderr",
     "output_type": "stream",
     "text": [
      "C:\\Users\\velmurug\\Documents\\full_stability\\transformers\\IndexBasedTransformer.py:58: PerformanceWarning: DataFrame is highly fragmented.  This is usually the result of calling `frame.insert` many times, which has poor performance.  Consider joining all columns at once using pd.concat(axis=1) instead.  To get a de-fragmented frame, use `newframe = frame.copy()`\n",
      "  dt_transformed[col] = 0\n",
      "\n"
     ]
    },
    {
     "name": "stdout",
     "output_type": "stream",
     "text": [
      "Accuracy:                                                                                                              \n",
      "0.631578947368421                                                                                                      \n",
      " 20%|█████████▌                                      | 2/10 [00:04<00:13,  1.68s/trial, best loss: -0.7628302696795849]"
     ]
    },
    {
     "name": "stderr",
     "output_type": "stream",
     "text": [
      "C:\\Users\\velmurug\\Documents\\full_stability\\transformers\\IndexBasedTransformer.py:58: PerformanceWarning: DataFrame is highly fragmented.  This is usually the result of calling `frame.insert` many times, which has poor performance.  Consider joining all columns at once using pd.concat(axis=1) instead.  To get a de-fragmented frame, use `newframe = frame.copy()`\n",
      "  dt_transformed[col] = 0\n",
      "\n"
     ]
    },
    {
     "name": "stdout",
     "output_type": "stream",
     "text": [
      "Accuracy:                                                                                                              \n",
      "0.8000000000000002                                                                                                     \n",
      "{'var_smoothing': 0.005336699231206307}                                                                                \n",
      " 30%|██████████████▍                                 | 3/10 [00:05<00:11,  1.68s/trial, best loss: -0.7628302696795849]"
     ]
    },
    {
     "name": "stderr",
     "output_type": "stream",
     "text": [
      "C:\\Users\\velmurug\\Documents\\full_stability\\transformers\\IndexBasedTransformer.py:58: PerformanceWarning: DataFrame is highly fragmented.  This is usually the result of calling `frame.insert` many times, which has poor performance.  Consider joining all columns at once using pd.concat(axis=1) instead.  To get a de-fragmented frame, use `newframe = frame.copy()`\n",
      "  dt_transformed[col] = 0\n",
      "\n"
     ]
    },
    {
     "name": "stdout",
     "output_type": "stream",
     "text": [
      "Accuracy:                                                                                                              \n",
      "0.7301587301587301                                                                                                     \n",
      " 30%|██████████████▍                                 | 3/10 [00:05<00:11,  1.68s/trial, best loss: -0.7628302696795849]"
     ]
    },
    {
     "name": "stderr",
     "output_type": "stream",
     "text": [
      "C:\\Users\\velmurug\\Documents\\full_stability\\transformers\\IndexBasedTransformer.py:58: PerformanceWarning: DataFrame is highly fragmented.  This is usually the result of calling `frame.insert` many times, which has poor performance.  Consider joining all columns at once using pd.concat(axis=1) instead.  To get a de-fragmented frame, use `newframe = frame.copy()`\n",
      "  dt_transformed[col] = 0\n",
      "\n"
     ]
    },
    {
     "name": "stdout",
     "output_type": "stream",
     "text": [
      "Accuracy:                                                                                                              \n",
      "0.6944444444444444                                                                                                     \n",
      " 30%|██████████████▍                                 | 3/10 [00:06<00:11,  1.68s/trial, best loss: -0.7628302696795849]"
     ]
    },
    {
     "name": "stderr",
     "output_type": "stream",
     "text": [
      "C:\\Users\\velmurug\\Documents\\full_stability\\transformers\\IndexBasedTransformer.py:58: PerformanceWarning: DataFrame is highly fragmented.  This is usually the result of calling `frame.insert` many times, which has poor performance.  Consider joining all columns at once using pd.concat(axis=1) instead.  To get a de-fragmented frame, use `newframe = frame.copy()`\n",
      "  dt_transformed[col] = 0\n",
      "\n"
     ]
    },
    {
     "name": "stdout",
     "output_type": "stream",
     "text": [
      "Accuracy:                                                                                                              \n",
      "0.8433734939759036                                                                                                     \n",
      "{'var_smoothing': 0.43287612810830584}                                                                                 \n",
      " 40%|███████████████████▏                            | 4/10 [00:06<00:10,  1.67s/trial, best loss: -0.7628302696795849]"
     ]
    },
    {
     "name": "stderr",
     "output_type": "stream",
     "text": [
      "C:\\Users\\velmurug\\Documents\\full_stability\\transformers\\IndexBasedTransformer.py:58: PerformanceWarning: DataFrame is highly fragmented.  This is usually the result of calling `frame.insert` many times, which has poor performance.  Consider joining all columns at once using pd.concat(axis=1) instead.  To get a de-fragmented frame, use `newframe = frame.copy()`\n",
      "  dt_transformed[col] = 0\n",
      "\n"
     ]
    },
    {
     "name": "stdout",
     "output_type": "stream",
     "text": [
      "Accuracy:                                                                                                              \n",
      "0.8235294117647058                                                                                                     \n",
      " 40%|███████████████████▏                            | 4/10 [00:07<00:10,  1.67s/trial, best loss: -0.7628302696795849]"
     ]
    },
    {
     "name": "stderr",
     "output_type": "stream",
     "text": [
      "C:\\Users\\velmurug\\Documents\\full_stability\\transformers\\IndexBasedTransformer.py:58: PerformanceWarning: DataFrame is highly fragmented.  This is usually the result of calling `frame.insert` many times, which has poor performance.  Consider joining all columns at once using pd.concat(axis=1) instead.  To get a de-fragmented frame, use `newframe = frame.copy()`\n",
      "  dt_transformed[col] = 0\n",
      "\n"
     ]
    },
    {
     "name": "stdout",
     "output_type": "stream",
     "text": [
      "Accuracy:                                                                                                              \n",
      "0.7567567567567569                                                                                                     \n",
      " 40%|███████████████████▏                            | 4/10 [00:07<00:10,  1.67s/trial, best loss: -0.7628302696795849]"
     ]
    },
    {
     "name": "stderr",
     "output_type": "stream",
     "text": [
      "C:\\Users\\velmurug\\Documents\\full_stability\\transformers\\IndexBasedTransformer.py:58: PerformanceWarning: DataFrame is highly fragmented.  This is usually the result of calling `frame.insert` many times, which has poor performance.  Consider joining all columns at once using pd.concat(axis=1) instead.  To get a de-fragmented frame, use `newframe = frame.copy()`\n",
      "  dt_transformed[col] = 0\n",
      "\n"
     ]
    },
    {
     "name": "stdout",
     "output_type": "stream",
     "text": [
      "Accuracy:                                                                                                              \n",
      "0.8372093023255814                                                                                                     \n",
      "{'var_smoothing': 0.0001873817422860383}                                                                               \n",
      " 50%|████████████████████████                        | 5/10 [00:08<00:08,  1.68s/trial, best loss: -0.8058318236156814]"
     ]
    },
    {
     "name": "stderr",
     "output_type": "stream",
     "text": [
      "C:\\Users\\velmurug\\Documents\\full_stability\\transformers\\IndexBasedTransformer.py:58: PerformanceWarning: DataFrame is highly fragmented.  This is usually the result of calling `frame.insert` many times, which has poor performance.  Consider joining all columns at once using pd.concat(axis=1) instead.  To get a de-fragmented frame, use `newframe = frame.copy()`\n",
      "  dt_transformed[col] = 0\n",
      "\n"
     ]
    },
    {
     "name": "stdout",
     "output_type": "stream",
     "text": [
      "Accuracy:                                                                                                              \n",
      "0.7894736842105263                                                                                                     \n",
      " 50%|████████████████████████                        | 5/10 [00:08<00:08,  1.68s/trial, best loss: -0.8058318236156814]"
     ]
    },
    {
     "name": "stderr",
     "output_type": "stream",
     "text": [
      "C:\\Users\\velmurug\\Documents\\full_stability\\transformers\\IndexBasedTransformer.py:58: PerformanceWarning: DataFrame is highly fragmented.  This is usually the result of calling `frame.insert` many times, which has poor performance.  Consider joining all columns at once using pd.concat(axis=1) instead.  To get a de-fragmented frame, use `newframe = frame.copy()`\n",
      "  dt_transformed[col] = 0\n",
      "\n"
     ]
    },
    {
     "name": "stdout",
     "output_type": "stream",
     "text": [
      "Accuracy:                                                                                                              \n",
      "0.8                                                                                                                    \n",
      " 50%|████████████████████████                        | 5/10 [00:09<00:08,  1.68s/trial, best loss: -0.8058318236156814]"
     ]
    },
    {
     "name": "stderr",
     "output_type": "stream",
     "text": [
      "C:\\Users\\velmurug\\Documents\\full_stability\\transformers\\IndexBasedTransformer.py:58: PerformanceWarning: DataFrame is highly fragmented.  This is usually the result of calling `frame.insert` many times, which has poor performance.  Consider joining all columns at once using pd.concat(axis=1) instead.  To get a de-fragmented frame, use `newframe = frame.copy()`\n",
      "  dt_transformed[col] = 0\n",
      "\n"
     ]
    },
    {
     "name": "stdout",
     "output_type": "stream",
     "text": [
      "Accuracy:                                                                                                              \n",
      "0.8048780487804876                                                                                                     \n",
      "{'var_smoothing': 8.111308307896872e-05}                                                                               \n",
      " 60%|████████████████████████████▊                   | 6/10 [00:10<00:06,  1.67s/trial, best loss: -0.8058318236156814]"
     ]
    },
    {
     "name": "stderr",
     "output_type": "stream",
     "text": [
      "C:\\Users\\velmurug\\Documents\\full_stability\\transformers\\IndexBasedTransformer.py:58: PerformanceWarning: DataFrame is highly fragmented.  This is usually the result of calling `frame.insert` many times, which has poor performance.  Consider joining all columns at once using pd.concat(axis=1) instead.  To get a de-fragmented frame, use `newframe = frame.copy()`\n",
      "  dt_transformed[col] = 0\n",
      "\n"
     ]
    },
    {
     "name": "stdout",
     "output_type": "stream",
     "text": [
      "Accuracy:                                                                                                              \n",
      "0.7419354838709677                                                                                                     \n",
      " 60%|████████████████████████████▊                   | 6/10 [00:10<00:06,  1.67s/trial, best loss: -0.8058318236156814]"
     ]
    },
    {
     "name": "stderr",
     "output_type": "stream",
     "text": [
      "C:\\Users\\velmurug\\Documents\\full_stability\\transformers\\IndexBasedTransformer.py:58: PerformanceWarning: DataFrame is highly fragmented.  This is usually the result of calling `frame.insert` many times, which has poor performance.  Consider joining all columns at once using pd.concat(axis=1) instead.  To get a de-fragmented frame, use `newframe = frame.copy()`\n",
      "  dt_transformed[col] = 0\n",
      "\n"
     ]
    },
    {
     "name": "stdout",
     "output_type": "stream",
     "text": [
      "Accuracy:                                                                                                              \n",
      "0.7654320987654322                                                                                                     \n",
      " 60%|████████████████████████████▊                   | 6/10 [00:11<00:06,  1.67s/trial, best loss: -0.8058318236156814]"
     ]
    },
    {
     "name": "stderr",
     "output_type": "stream",
     "text": [
      "C:\\Users\\velmurug\\Documents\\full_stability\\transformers\\IndexBasedTransformer.py:58: PerformanceWarning: DataFrame is highly fragmented.  This is usually the result of calling `frame.insert` many times, which has poor performance.  Consider joining all columns at once using pd.concat(axis=1) instead.  To get a de-fragmented frame, use `newframe = frame.copy()`\n",
      "  dt_transformed[col] = 0\n",
      "\n"
     ]
    },
    {
     "name": "stdout",
     "output_type": "stream",
     "text": [
      "Accuracy:                                                                                                              \n",
      "0.8311688311688312                                                                                                     \n",
      "{'var_smoothing': 3.5111917342151275e-06}                                                                              \n",
      " 70%|█████████████████████████████████▌              | 7/10 [00:11<00:05,  1.69s/trial, best loss: -0.8058318236156814]"
     ]
    },
    {
     "name": "stderr",
     "output_type": "stream",
     "text": [
      "C:\\Users\\velmurug\\Documents\\full_stability\\transformers\\IndexBasedTransformer.py:58: PerformanceWarning: DataFrame is highly fragmented.  This is usually the result of calling `frame.insert` many times, which has poor performance.  Consider joining all columns at once using pd.concat(axis=1) instead.  To get a de-fragmented frame, use `newframe = frame.copy()`\n",
      "  dt_transformed[col] = 0\n",
      "\n"
     ]
    },
    {
     "name": "stdout",
     "output_type": "stream",
     "text": [
      "Accuracy:                                                                                                              \n",
      "0.8421052631578947                                                                                                     \n",
      " 70%|█████████████████████████████████▌              | 7/10 [00:12<00:05,  1.69s/trial, best loss: -0.8058318236156814]"
     ]
    },
    {
     "name": "stderr",
     "output_type": "stream",
     "text": [
      "C:\\Users\\velmurug\\Documents\\full_stability\\transformers\\IndexBasedTransformer.py:58: PerformanceWarning: DataFrame is highly fragmented.  This is usually the result of calling `frame.insert` many times, which has poor performance.  Consider joining all columns at once using pd.concat(axis=1) instead.  To get a de-fragmented frame, use `newframe = frame.copy()`\n",
      "  dt_transformed[col] = 0\n",
      "\n"
     ]
    },
    {
     "name": "stdout",
     "output_type": "stream",
     "text": [
      "Accuracy:                                                                                                              \n",
      "0.7792207792207793                                                                                                     \n",
      " 70%|█████████████████████████████████▌              | 7/10 [00:12<00:05,  1.69s/trial, best loss: -0.8058318236156814]"
     ]
    },
    {
     "name": "stderr",
     "output_type": "stream",
     "text": [
      "C:\\Users\\velmurug\\Documents\\full_stability\\transformers\\IndexBasedTransformer.py:58: PerformanceWarning: DataFrame is highly fragmented.  This is usually the result of calling `frame.insert` many times, which has poor performance.  Consider joining all columns at once using pd.concat(axis=1) instead.  To get a de-fragmented frame, use `newframe = frame.copy()`\n",
      "  dt_transformed[col] = 0\n",
      "\n"
     ]
    },
    {
     "name": "stdout",
     "output_type": "stream",
     "text": [
      "Accuracy:                                                                                                              \n",
      "0.8354430379746836                                                                                                     \n",
      "{'var_smoothing': 0.004328761281083057}                                                                                \n",
      " 80%|██████████████████████████████████████▍         | 8/10 [00:13<00:03,  1.68s/trial, best loss: -0.8189230267844524]"
     ]
    },
    {
     "name": "stderr",
     "output_type": "stream",
     "text": [
      "C:\\Users\\velmurug\\Documents\\full_stability\\transformers\\IndexBasedTransformer.py:58: PerformanceWarning: DataFrame is highly fragmented.  This is usually the result of calling `frame.insert` many times, which has poor performance.  Consider joining all columns at once using pd.concat(axis=1) instead.  To get a de-fragmented frame, use `newframe = frame.copy()`\n",
      "  dt_transformed[col] = 0\n",
      "\n"
     ]
    },
    {
     "name": "stdout",
     "output_type": "stream",
     "text": [
      "Accuracy:                                                                                                              \n",
      "0.8108108108108107                                                                                                     \n",
      " 80%|██████████████████████████████████████▍         | 8/10 [00:14<00:03,  1.68s/trial, best loss: -0.8189230267844524]"
     ]
    },
    {
     "name": "stderr",
     "output_type": "stream",
     "text": [
      "C:\\Users\\velmurug\\Documents\\full_stability\\transformers\\IndexBasedTransformer.py:58: PerformanceWarning: DataFrame is highly fragmented.  This is usually the result of calling `frame.insert` many times, which has poor performance.  Consider joining all columns at once using pd.concat(axis=1) instead.  To get a de-fragmented frame, use `newframe = frame.copy()`\n",
      "  dt_transformed[col] = 0\n",
      "\n"
     ]
    },
    {
     "name": "stdout",
     "output_type": "stream",
     "text": [
      "Accuracy:                                                                                                              \n",
      "0.7428571428571428                                                                                                     \n",
      " 80%|██████████████████████████████████████▍         | 8/10 [00:14<00:03,  1.68s/trial, best loss: -0.8189230267844524]"
     ]
    },
    {
     "name": "stderr",
     "output_type": "stream",
     "text": [
      "C:\\Users\\velmurug\\Documents\\full_stability\\transformers\\IndexBasedTransformer.py:58: PerformanceWarning: DataFrame is highly fragmented.  This is usually the result of calling `frame.insert` many times, which has poor performance.  Consider joining all columns at once using pd.concat(axis=1) instead.  To get a de-fragmented frame, use `newframe = frame.copy()`\n",
      "  dt_transformed[col] = 0\n",
      "\n"
     ]
    },
    {
     "name": "stdout",
     "output_type": "stream",
     "text": [
      "Accuracy:                                                                                                              \n",
      "0.8000000000000002                                                                                                     \n",
      "{'var_smoothing': 4.328761281083062e-05}                                                                               \n",
      " 90%|███████████████████████████████████████████▏    | 9/10 [00:15<00:01,  1.69s/trial, best loss: -0.8189230267844524]"
     ]
    },
    {
     "name": "stderr",
     "output_type": "stream",
     "text": [
      "C:\\Users\\velmurug\\Documents\\full_stability\\transformers\\IndexBasedTransformer.py:58: PerformanceWarning: DataFrame is highly fragmented.  This is usually the result of calling `frame.insert` many times, which has poor performance.  Consider joining all columns at once using pd.concat(axis=1) instead.  To get a de-fragmented frame, use `newframe = frame.copy()`\n",
      "  dt_transformed[col] = 0\n",
      "\n"
     ]
    },
    {
     "name": "stdout",
     "output_type": "stream",
     "text": [
      "Accuracy:                                                                                                              \n",
      "0.8157894736842105                                                                                                     \n",
      " 90%|███████████████████████████████████████████▏    | 9/10 [00:15<00:01,  1.69s/trial, best loss: -0.8189230267844524]"
     ]
    },
    {
     "name": "stderr",
     "output_type": "stream",
     "text": [
      "C:\\Users\\velmurug\\Documents\\full_stability\\transformers\\IndexBasedTransformer.py:58: PerformanceWarning: DataFrame is highly fragmented.  This is usually the result of calling `frame.insert` many times, which has poor performance.  Consider joining all columns at once using pd.concat(axis=1) instead.  To get a de-fragmented frame, use `newframe = frame.copy()`\n",
      "  dt_transformed[col] = 0\n",
      "\n"
     ]
    },
    {
     "name": "stdout",
     "output_type": "stream",
     "text": [
      "Accuracy:                                                                                                              \n",
      "0.7848101265822786                                                                                                     \n",
      " 90%|███████████████████████████████████████████▏    | 9/10 [00:16<00:01,  1.69s/trial, best loss: -0.8189230267844524]"
     ]
    },
    {
     "name": "stderr",
     "output_type": "stream",
     "text": [
      "C:\\Users\\velmurug\\Documents\\full_stability\\transformers\\IndexBasedTransformer.py:58: PerformanceWarning: DataFrame is highly fragmented.  This is usually the result of calling `frame.insert` many times, which has poor performance.  Consider joining all columns at once using pd.concat(axis=1) instead.  To get a de-fragmented frame, use `newframe = frame.copy()`\n",
      "  dt_transformed[col] = 0\n",
      "\n"
     ]
    },
    {
     "name": "stdout",
     "output_type": "stream",
     "text": [
      "Accuracy:                                                                                                              \n",
      "0.7901234567901235                                                                                                     \n",
      "100%|███████████████████████████████████████████████| 10/10 [00:16<00:00,  1.68s/trial, best loss: -0.8189230267844524]\n",
      "Optimising 16 of 20 buckets\n",
      "{'var_smoothing': 1.873817422860387e-09}                                                                               \n",
      "  0%|                                                                           | 0/10 [00:00<?, ?trial/s, best loss=?]"
     ]
    },
    {
     "name": "stderr",
     "output_type": "stream",
     "text": [
      "C:\\Users\\velmurug\\Documents\\full_stability\\transformers\\IndexBasedTransformer.py:58: PerformanceWarning: DataFrame is highly fragmented.  This is usually the result of calling `frame.insert` many times, which has poor performance.  Consider joining all columns at once using pd.concat(axis=1) instead.  To get a de-fragmented frame, use `newframe = frame.copy()`\n",
      "  dt_transformed[col] = 0\n",
      "\n"
     ]
    },
    {
     "name": "stdout",
     "output_type": "stream",
     "text": [
      "Accuracy:                                                                                                              \n",
      "0.76                                                                                                                   \n",
      "  0%|                                                                           | 0/10 [00:00<?, ?trial/s, best loss=?]"
     ]
    },
    {
     "name": "stderr",
     "output_type": "stream",
     "text": [
      "C:\\Users\\velmurug\\Documents\\full_stability\\transformers\\IndexBasedTransformer.py:58: PerformanceWarning: DataFrame is highly fragmented.  This is usually the result of calling `frame.insert` many times, which has poor performance.  Consider joining all columns at once using pd.concat(axis=1) instead.  To get a de-fragmented frame, use `newframe = frame.copy()`\n",
      "  dt_transformed[col] = 0\n",
      "\n"
     ]
    },
    {
     "name": "stdout",
     "output_type": "stream",
     "text": [
      "Accuracy:                                                                                                              \n",
      "0.8285714285714285                                                                                                     \n",
      "  0%|                                                                           | 0/10 [00:01<?, ?trial/s, best loss=?]"
     ]
    },
    {
     "name": "stderr",
     "output_type": "stream",
     "text": [
      "C:\\Users\\velmurug\\Documents\\full_stability\\transformers\\IndexBasedTransformer.py:58: PerformanceWarning: DataFrame is highly fragmented.  This is usually the result of calling `frame.insert` many times, which has poor performance.  Consider joining all columns at once using pd.concat(axis=1) instead.  To get a de-fragmented frame, use `newframe = frame.copy()`\n",
      "  dt_transformed[col] = 0\n",
      "\n"
     ]
    },
    {
     "name": "stdout",
     "output_type": "stream",
     "text": [
      "Accuracy:                                                                                                              \n",
      "0.8148148148148148                                                                                                     \n",
      "{'var_smoothing': 0.8111308307896871}                                                                                  \n",
      " 10%|████▊                                           | 1/10 [00:01<00:15,  1.76s/trial, best loss: -0.8011287477954144]"
     ]
    },
    {
     "name": "stderr",
     "output_type": "stream",
     "text": [
      "C:\\Users\\velmurug\\Documents\\full_stability\\transformers\\IndexBasedTransformer.py:58: PerformanceWarning: DataFrame is highly fragmented.  This is usually the result of calling `frame.insert` many times, which has poor performance.  Consider joining all columns at once using pd.concat(axis=1) instead.  To get a de-fragmented frame, use `newframe = frame.copy()`\n",
      "  dt_transformed[col] = 0\n",
      "\n"
     ]
    },
    {
     "name": "stdout",
     "output_type": "stream",
     "text": [
      "Accuracy:                                                                                                              \n",
      "0.7843137254901961                                                                                                     \n",
      " 10%|████▊                                           | 1/10 [00:02<00:15,  1.76s/trial, best loss: -0.8011287477954144]"
     ]
    },
    {
     "name": "stderr",
     "output_type": "stream",
     "text": [
      "C:\\Users\\velmurug\\Documents\\full_stability\\transformers\\IndexBasedTransformer.py:58: PerformanceWarning: DataFrame is highly fragmented.  This is usually the result of calling `frame.insert` many times, which has poor performance.  Consider joining all columns at once using pd.concat(axis=1) instead.  To get a de-fragmented frame, use `newframe = frame.copy()`\n",
      "  dt_transformed[col] = 0\n",
      "\n"
     ]
    },
    {
     "name": "stdout",
     "output_type": "stream",
     "text": [
      "Accuracy:                                                                                                              \n",
      "0.7999999999999999                                                                                                     \n",
      " 10%|████▊                                           | 1/10 [00:02<00:15,  1.76s/trial, best loss: -0.8011287477954144]"
     ]
    },
    {
     "name": "stderr",
     "output_type": "stream",
     "text": [
      "C:\\Users\\velmurug\\Documents\\full_stability\\transformers\\IndexBasedTransformer.py:58: PerformanceWarning: DataFrame is highly fragmented.  This is usually the result of calling `frame.insert` many times, which has poor performance.  Consider joining all columns at once using pd.concat(axis=1) instead.  To get a de-fragmented frame, use `newframe = frame.copy()`\n",
      "  dt_transformed[col] = 0\n",
      "\n"
     ]
    },
    {
     "name": "stdout",
     "output_type": "stream",
     "text": [
      "Accuracy:                                                                                                              \n",
      "0.8275862068965517                                                                                                     \n",
      "{'var_smoothing': 0.01873817422860384}                                                                                 \n",
      " 20%|█████████▌                                      | 2/10 [00:03<00:14,  1.78s/trial, best loss: -0.8039666441289159]"
     ]
    },
    {
     "name": "stderr",
     "output_type": "stream",
     "text": [
      "C:\\Users\\velmurug\\Documents\\full_stability\\transformers\\IndexBasedTransformer.py:58: PerformanceWarning: DataFrame is highly fragmented.  This is usually the result of calling `frame.insert` many times, which has poor performance.  Consider joining all columns at once using pd.concat(axis=1) instead.  To get a de-fragmented frame, use `newframe = frame.copy()`\n",
      "  dt_transformed[col] = 0\n",
      "\n"
     ]
    },
    {
     "name": "stdout",
     "output_type": "stream",
     "text": [
      "Accuracy:                                                                                                              \n",
      "0.8387096774193549                                                                                                     \n",
      " 20%|█████████▌                                      | 2/10 [00:04<00:14,  1.78s/trial, best loss: -0.8039666441289159]"
     ]
    },
    {
     "name": "stderr",
     "output_type": "stream",
     "text": [
      "C:\\Users\\velmurug\\Documents\\full_stability\\transformers\\IndexBasedTransformer.py:58: PerformanceWarning: DataFrame is highly fragmented.  This is usually the result of calling `frame.insert` many times, which has poor performance.  Consider joining all columns at once using pd.concat(axis=1) instead.  To get a de-fragmented frame, use `newframe = frame.copy()`\n",
      "  dt_transformed[col] = 0\n",
      "\n"
     ]
    },
    {
     "name": "stdout",
     "output_type": "stream",
     "text": [
      "Accuracy:                                                                                                              \n",
      "0.7619047619047619                                                                                                     \n",
      " 20%|█████████▌                                      | 2/10 [00:04<00:14,  1.78s/trial, best loss: -0.8039666441289159]"
     ]
    },
    {
     "name": "stderr",
     "output_type": "stream",
     "text": [
      "C:\\Users\\velmurug\\Documents\\full_stability\\transformers\\IndexBasedTransformer.py:58: PerformanceWarning: DataFrame is highly fragmented.  This is usually the result of calling `frame.insert` many times, which has poor performance.  Consider joining all columns at once using pd.concat(axis=1) instead.  To get a de-fragmented frame, use `newframe = frame.copy()`\n",
      "  dt_transformed[col] = 0\n",
      "\n"
     ]
    },
    {
     "name": "stdout",
     "output_type": "stream",
     "text": [
      "Accuracy:                                                                                                              \n",
      "0.8524590163934426                                                                                                     \n",
      "{'var_smoothing': 2.848035868435799e-06}                                                                               \n",
      " 30%|██████████████▍                                 | 3/10 [00:05<00:12,  1.78s/trial, best loss: -0.8176911519058532]"
     ]
    },
    {
     "name": "stderr",
     "output_type": "stream",
     "text": [
      "C:\\Users\\velmurug\\Documents\\full_stability\\transformers\\IndexBasedTransformer.py:58: PerformanceWarning: DataFrame is highly fragmented.  This is usually the result of calling `frame.insert` many times, which has poor performance.  Consider joining all columns at once using pd.concat(axis=1) instead.  To get a de-fragmented frame, use `newframe = frame.copy()`\n",
      "  dt_transformed[col] = 0\n",
      "\n"
     ]
    },
    {
     "name": "stdout",
     "output_type": "stream",
     "text": [
      "Accuracy:                                                                                                              \n",
      "0.7346938775510204                                                                                                     \n",
      " 30%|██████████████▍                                 | 3/10 [00:06<00:12,  1.78s/trial, best loss: -0.8176911519058532]"
     ]
    },
    {
     "name": "stderr",
     "output_type": "stream",
     "text": [
      "C:\\Users\\velmurug\\Documents\\full_stability\\transformers\\IndexBasedTransformer.py:58: PerformanceWarning: DataFrame is highly fragmented.  This is usually the result of calling `frame.insert` many times, which has poor performance.  Consider joining all columns at once using pd.concat(axis=1) instead.  To get a de-fragmented frame, use `newframe = frame.copy()`\n",
      "  dt_transformed[col] = 0\n",
      "\n"
     ]
    },
    {
     "name": "stdout",
     "output_type": "stream",
     "text": [
      "Accuracy:                                                                                                              \n",
      "0.787878787878788                                                                                                      \n",
      " 30%|██████████████▍                                 | 3/10 [00:06<00:12,  1.78s/trial, best loss: -0.8176911519058532]"
     ]
    },
    {
     "name": "stderr",
     "output_type": "stream",
     "text": [
      "C:\\Users\\velmurug\\Documents\\full_stability\\transformers\\IndexBasedTransformer.py:58: PerformanceWarning: DataFrame is highly fragmented.  This is usually the result of calling `frame.insert` many times, which has poor performance.  Consider joining all columns at once using pd.concat(axis=1) instead.  To get a de-fragmented frame, use `newframe = frame.copy()`\n",
      "  dt_transformed[col] = 0\n",
      "\n"
     ]
    },
    {
     "name": "stdout",
     "output_type": "stream",
     "text": [
      "Accuracy:                                                                                                              \n",
      "0.8064516129032259                                                                                                     \n",
      "{'var_smoothing': 1.0}                                                                                                 \n",
      " 40%|███████████████████▏                            | 4/10 [00:07<00:10,  1.79s/trial, best loss: -0.8176911519058532]"
     ]
    },
    {
     "name": "stderr",
     "output_type": "stream",
     "text": [
      "C:\\Users\\velmurug\\Documents\\full_stability\\transformers\\IndexBasedTransformer.py:58: PerformanceWarning: DataFrame is highly fragmented.  This is usually the result of calling `frame.insert` many times, which has poor performance.  Consider joining all columns at once using pd.concat(axis=1) instead.  To get a de-fragmented frame, use `newframe = frame.copy()`\n",
      "  dt_transformed[col] = 0\n",
      "\n"
     ]
    },
    {
     "name": "stdout",
     "output_type": "stream",
     "text": [
      "Accuracy:                                                                                                              \n",
      "0.6808510638297872                                                                                                     \n",
      " 40%|███████████████████▏                            | 4/10 [00:07<00:10,  1.79s/trial, best loss: -0.8176911519058532]"
     ]
    },
    {
     "name": "stderr",
     "output_type": "stream",
     "text": [
      "C:\\Users\\velmurug\\Documents\\full_stability\\transformers\\IndexBasedTransformer.py:58: PerformanceWarning: DataFrame is highly fragmented.  This is usually the result of calling `frame.insert` many times, which has poor performance.  Consider joining all columns at once using pd.concat(axis=1) instead.  To get a de-fragmented frame, use `newframe = frame.copy()`\n",
      "  dt_transformed[col] = 0\n",
      "\n"
     ]
    },
    {
     "name": "stdout",
     "output_type": "stream",
     "text": [
      "Accuracy:                                                                                                              \n",
      "0.75                                                                                                                   \n",
      " 40%|███████████████████▏                            | 4/10 [00:08<00:10,  1.79s/trial, best loss: -0.8176911519058532]"
     ]
    },
    {
     "name": "stderr",
     "output_type": "stream",
     "text": [
      "C:\\Users\\velmurug\\Documents\\full_stability\\transformers\\IndexBasedTransformer.py:58: PerformanceWarning: DataFrame is highly fragmented.  This is usually the result of calling `frame.insert` many times, which has poor performance.  Consider joining all columns at once using pd.concat(axis=1) instead.  To get a de-fragmented frame, use `newframe = frame.copy()`\n",
      "  dt_transformed[col] = 0\n",
      "\n"
     ]
    },
    {
     "name": "stdout",
     "output_type": "stream",
     "text": [
      "Accuracy:                                                                                                              \n",
      "0.875                                                                                                                  \n",
      "{'var_smoothing': 0.2848035868435802}                                                                                  \n",
      " 50%|████████████████████████                        | 5/10 [00:08<00:08,  1.78s/trial, best loss: -0.8176911519058532]"
     ]
    },
    {
     "name": "stderr",
     "output_type": "stream",
     "text": [
      "C:\\Users\\velmurug\\Documents\\full_stability\\transformers\\IndexBasedTransformer.py:58: PerformanceWarning: DataFrame is highly fragmented.  This is usually the result of calling `frame.insert` many times, which has poor performance.  Consider joining all columns at once using pd.concat(axis=1) instead.  To get a de-fragmented frame, use `newframe = frame.copy()`\n",
      "  dt_transformed[col] = 0\n",
      "\n"
     ]
    },
    {
     "name": "stdout",
     "output_type": "stream",
     "text": [
      "Accuracy:                                                                                                              \n",
      "0.8571428571428572                                                                                                     \n",
      " 50%|████████████████████████                        | 5/10 [00:09<00:08,  1.78s/trial, best loss: -0.8176911519058532]"
     ]
    },
    {
     "name": "stderr",
     "output_type": "stream",
     "text": [
      "C:\\Users\\velmurug\\Documents\\full_stability\\transformers\\IndexBasedTransformer.py:58: PerformanceWarning: DataFrame is highly fragmented.  This is usually the result of calling `frame.insert` many times, which has poor performance.  Consider joining all columns at once using pd.concat(axis=1) instead.  To get a de-fragmented frame, use `newframe = frame.copy()`\n",
      "  dt_transformed[col] = 0\n",
      "\n"
     ]
    },
    {
     "name": "stdout",
     "output_type": "stream",
     "text": [
      "Accuracy:                                                                                                              \n",
      "0.8888888888888888                                                                                                     \n",
      " 50%|████████████████████████                        | 5/10 [00:10<00:08,  1.78s/trial, best loss: -0.8176911519058532]"
     ]
    },
    {
     "name": "stderr",
     "output_type": "stream",
     "text": [
      "C:\\Users\\velmurug\\Documents\\full_stability\\transformers\\IndexBasedTransformer.py:58: PerformanceWarning: DataFrame is highly fragmented.  This is usually the result of calling `frame.insert` many times, which has poor performance.  Consider joining all columns at once using pd.concat(axis=1) instead.  To get a de-fragmented frame, use `newframe = frame.copy()`\n",
      "  dt_transformed[col] = 0\n",
      "\n"
     ]
    },
    {
     "name": "stdout",
     "output_type": "stream",
     "text": [
      "Accuracy:                                                                                                              \n",
      "0.8135593220338982                                                                                                     \n",
      "{'var_smoothing': 0.002848035868435802}                                                                                \n",
      " 60%|████████████████████████████▊                   | 6/10 [00:10<00:07,  1.76s/trial, best loss: -0.8531970226885481]"
     ]
    },
    {
     "name": "stderr",
     "output_type": "stream",
     "text": [
      "C:\\Users\\velmurug\\Documents\\full_stability\\transformers\\IndexBasedTransformer.py:58: PerformanceWarning: DataFrame is highly fragmented.  This is usually the result of calling `frame.insert` many times, which has poor performance.  Consider joining all columns at once using pd.concat(axis=1) instead.  To get a de-fragmented frame, use `newframe = frame.copy()`\n",
      "  dt_transformed[col] = 0\n",
      "\n"
     ]
    },
    {
     "name": "stdout",
     "output_type": "stream",
     "text": [
      "Accuracy:                                                                                                              \n",
      "0.8301886792452831                                                                                                     \n",
      " 60%|████████████████████████████▊                   | 6/10 [00:11<00:07,  1.76s/trial, best loss: -0.8531970226885481]"
     ]
    },
    {
     "name": "stderr",
     "output_type": "stream",
     "text": [
      "C:\\Users\\velmurug\\Documents\\full_stability\\transformers\\IndexBasedTransformer.py:58: PerformanceWarning: DataFrame is highly fragmented.  This is usually the result of calling `frame.insert` many times, which has poor performance.  Consider joining all columns at once using pd.concat(axis=1) instead.  To get a de-fragmented frame, use `newframe = frame.copy()`\n",
      "  dt_transformed[col] = 0\n",
      "\n"
     ]
    },
    {
     "name": "stdout",
     "output_type": "stream",
     "text": [
      "Accuracy:                                                                                                              \n",
      "0.8064516129032258                                                                                                     \n",
      " 60%|████████████████████████████▊                   | 6/10 [00:11<00:07,  1.76s/trial, best loss: -0.8531970226885481]"
     ]
    },
    {
     "name": "stderr",
     "output_type": "stream",
     "text": [
      "C:\\Users\\velmurug\\Documents\\full_stability\\transformers\\IndexBasedTransformer.py:58: PerformanceWarning: DataFrame is highly fragmented.  This is usually the result of calling `frame.insert` many times, which has poor performance.  Consider joining all columns at once using pd.concat(axis=1) instead.  To get a de-fragmented frame, use `newframe = frame.copy()`\n",
      "  dt_transformed[col] = 0\n",
      "\n"
     ]
    },
    {
     "name": "stdout",
     "output_type": "stream",
     "text": [
      "Accuracy:                                                                                                              \n",
      "0.8275862068965517                                                                                                     \n",
      "{'var_smoothing': 2.848035868435799e-07}                                                                               \n",
      " 70%|█████████████████████████████████▌              | 7/10 [00:12<00:05,  1.76s/trial, best loss: -0.8531970226885481]"
     ]
    },
    {
     "name": "stderr",
     "output_type": "stream",
     "text": [
      "C:\\Users\\velmurug\\Documents\\full_stability\\transformers\\IndexBasedTransformer.py:58: PerformanceWarning: DataFrame is highly fragmented.  This is usually the result of calling `frame.insert` many times, which has poor performance.  Consider joining all columns at once using pd.concat(axis=1) instead.  To get a de-fragmented frame, use `newframe = frame.copy()`\n",
      "  dt_transformed[col] = 0\n",
      "\n"
     ]
    },
    {
     "name": "stdout",
     "output_type": "stream",
     "text": [
      "Accuracy:                                                                                                              \n",
      "0.835820895522388                                                                                                      \n",
      " 70%|█████████████████████████████████▌              | 7/10 [00:13<00:05,  1.76s/trial, best loss: -0.8531970226885481]"
     ]
    },
    {
     "name": "stderr",
     "output_type": "stream",
     "text": [
      "C:\\Users\\velmurug\\Documents\\full_stability\\transformers\\IndexBasedTransformer.py:58: PerformanceWarning: DataFrame is highly fragmented.  This is usually the result of calling `frame.insert` many times, which has poor performance.  Consider joining all columns at once using pd.concat(axis=1) instead.  To get a de-fragmented frame, use `newframe = frame.copy()`\n",
      "  dt_transformed[col] = 0\n",
      "\n"
     ]
    },
    {
     "name": "stdout",
     "output_type": "stream",
     "text": [
      "Accuracy:                                                                                                              \n",
      "0.8709677419354839                                                                                                     \n",
      " 70%|█████████████████████████████████▌              | 7/10 [00:13<00:05,  1.76s/trial, best loss: -0.8531970226885481]"
     ]
    },
    {
     "name": "stderr",
     "output_type": "stream",
     "text": [
      "C:\\Users\\velmurug\\Documents\\full_stability\\transformers\\IndexBasedTransformer.py:58: PerformanceWarning: DataFrame is highly fragmented.  This is usually the result of calling `frame.insert` many times, which has poor performance.  Consider joining all columns at once using pd.concat(axis=1) instead.  To get a de-fragmented frame, use `newframe = frame.copy()`\n",
      "  dt_transformed[col] = 0\n",
      "\n"
     ]
    },
    {
     "name": "stdout",
     "output_type": "stream",
     "text": [
      "Accuracy:                                                                                                              \n",
      "0.8064516129032259                                                                                                     \n",
      "{'var_smoothing': 1.873817422860383e-08}                                                                               \n",
      " 80%|██████████████████████████████████████▍         | 8/10 [00:14<00:03,  1.77s/trial, best loss: -0.8531970226885481]"
     ]
    },
    {
     "name": "stderr",
     "output_type": "stream",
     "text": [
      "C:\\Users\\velmurug\\Documents\\full_stability\\transformers\\IndexBasedTransformer.py:58: PerformanceWarning: DataFrame is highly fragmented.  This is usually the result of calling `frame.insert` many times, which has poor performance.  Consider joining all columns at once using pd.concat(axis=1) instead.  To get a de-fragmented frame, use `newframe = frame.copy()`\n",
      "  dt_transformed[col] = 0\n",
      "\n"
     ]
    },
    {
     "name": "stdout",
     "output_type": "stream",
     "text": [
      "Accuracy:                                                                                                              \n",
      "0.7741935483870968                                                                                                     \n",
      " 80%|██████████████████████████████████████▍         | 8/10 [00:14<00:03,  1.77s/trial, best loss: -0.8531970226885481]"
     ]
    },
    {
     "name": "stderr",
     "output_type": "stream",
     "text": [
      "C:\\Users\\velmurug\\Documents\\full_stability\\transformers\\IndexBasedTransformer.py:58: PerformanceWarning: DataFrame is highly fragmented.  This is usually the result of calling `frame.insert` many times, which has poor performance.  Consider joining all columns at once using pd.concat(axis=1) instead.  To get a de-fragmented frame, use `newframe = frame.copy()`\n",
      "  dt_transformed[col] = 0\n",
      "\n"
     ]
    },
    {
     "name": "stdout",
     "output_type": "stream",
     "text": [
      "Accuracy:                                                                                                              \n",
      "0.8125                                                                                                                 \n",
      " 80%|██████████████████████████████████████▍         | 8/10 [00:15<00:03,  1.77s/trial, best loss: -0.8531970226885481]"
     ]
    },
    {
     "name": "stderr",
     "output_type": "stream",
     "text": [
      "C:\\Users\\velmurug\\Documents\\full_stability\\transformers\\IndexBasedTransformer.py:58: PerformanceWarning: DataFrame is highly fragmented.  This is usually the result of calling `frame.insert` many times, which has poor performance.  Consider joining all columns at once using pd.concat(axis=1) instead.  To get a de-fragmented frame, use `newframe = frame.copy()`\n",
      "  dt_transformed[col] = 0\n",
      "\n"
     ]
    },
    {
     "name": "stdout",
     "output_type": "stream",
     "text": [
      "Accuracy:                                                                                                              \n",
      "0.7999999999999999                                                                                                     \n",
      "{'var_smoothing': 8.111308307896872e-05}                                                                               \n",
      " 90%|███████████████████████████████████████████▏    | 9/10 [00:15<00:01,  1.77s/trial, best loss: -0.8531970226885481]"
     ]
    },
    {
     "name": "stderr",
     "output_type": "stream",
     "text": [
      "C:\\Users\\velmurug\\Documents\\full_stability\\transformers\\IndexBasedTransformer.py:58: PerformanceWarning: DataFrame is highly fragmented.  This is usually the result of calling `frame.insert` many times, which has poor performance.  Consider joining all columns at once using pd.concat(axis=1) instead.  To get a de-fragmented frame, use `newframe = frame.copy()`\n",
      "  dt_transformed[col] = 0\n",
      "\n"
     ]
    },
    {
     "name": "stdout",
     "output_type": "stream",
     "text": [
      "Accuracy:                                                                                                              \n",
      "0.7083333333333333                                                                                                     \n",
      " 90%|███████████████████████████████████████████▏    | 9/10 [00:16<00:01,  1.77s/trial, best loss: -0.8531970226885481]"
     ]
    },
    {
     "name": "stderr",
     "output_type": "stream",
     "text": [
      "C:\\Users\\velmurug\\Documents\\full_stability\\transformers\\IndexBasedTransformer.py:58: PerformanceWarning: DataFrame is highly fragmented.  This is usually the result of calling `frame.insert` many times, which has poor performance.  Consider joining all columns at once using pd.concat(axis=1) instead.  To get a de-fragmented frame, use `newframe = frame.copy()`\n",
      "  dt_transformed[col] = 0\n",
      "\n"
     ]
    },
    {
     "name": "stdout",
     "output_type": "stream",
     "text": [
      "Accuracy:                                                                                                              \n",
      "0.8064516129032258                                                                                                     \n",
      " 90%|███████████████████████████████████████████▏    | 9/10 [00:17<00:01,  1.77s/trial, best loss: -0.8531970226885481]"
     ]
    },
    {
     "name": "stderr",
     "output_type": "stream",
     "text": [
      "C:\\Users\\velmurug\\Documents\\full_stability\\transformers\\IndexBasedTransformer.py:58: PerformanceWarning: DataFrame is highly fragmented.  This is usually the result of calling `frame.insert` many times, which has poor performance.  Consider joining all columns at once using pd.concat(axis=1) instead.  To get a de-fragmented frame, use `newframe = frame.copy()`\n",
      "  dt_transformed[col] = 0\n",
      "\n"
     ]
    },
    {
     "name": "stdout",
     "output_type": "stream",
     "text": [
      "Accuracy:                                                                                                              \n",
      "0.7586206896551724                                                                                                     \n",
      "100%|███████████████████████████████████████████████| 10/10 [00:17<00:00,  1.77s/trial, best loss: -0.8531970226885481]\n",
      "Optimising 17 of 20 buckets\n",
      "{'var_smoothing': 0.04328761281083057}                                                                                 \n",
      "  0%|                                                                           | 0/10 [00:00<?, ?trial/s, best loss=?]"
     ]
    },
    {
     "name": "stderr",
     "output_type": "stream",
     "text": [
      "C:\\Users\\velmurug\\Documents\\full_stability\\transformers\\IndexBasedTransformer.py:58: PerformanceWarning: DataFrame is highly fragmented.  This is usually the result of calling `frame.insert` many times, which has poor performance.  Consider joining all columns at once using pd.concat(axis=1) instead.  To get a de-fragmented frame, use `newframe = frame.copy()`\n",
      "  dt_transformed[col] = 0\n",
      "\n"
     ]
    },
    {
     "name": "stdout",
     "output_type": "stream",
     "text": [
      "Accuracy:                                                                                                              \n",
      "0.8444444444444444                                                                                                     \n",
      "  0%|                                                                           | 0/10 [00:00<?, ?trial/s, best loss=?]"
     ]
    },
    {
     "name": "stderr",
     "output_type": "stream",
     "text": [
      "C:\\Users\\velmurug\\Documents\\full_stability\\transformers\\IndexBasedTransformer.py:58: PerformanceWarning: DataFrame is highly fragmented.  This is usually the result of calling `frame.insert` many times, which has poor performance.  Consider joining all columns at once using pd.concat(axis=1) instead.  To get a de-fragmented frame, use `newframe = frame.copy()`\n",
      "  dt_transformed[col] = 0\n",
      "\n"
     ]
    },
    {
     "name": "stdout",
     "output_type": "stream",
     "text": [
      "Accuracy:                                                                                                              \n",
      "0.9302325581395349                                                                                                     \n",
      "  0%|                                                                           | 0/10 [00:01<?, ?trial/s, best loss=?]"
     ]
    },
    {
     "name": "stderr",
     "output_type": "stream",
     "text": [
      "C:\\Users\\velmurug\\Documents\\full_stability\\transformers\\IndexBasedTransformer.py:58: PerformanceWarning: DataFrame is highly fragmented.  This is usually the result of calling `frame.insert` many times, which has poor performance.  Consider joining all columns at once using pd.concat(axis=1) instead.  To get a de-fragmented frame, use `newframe = frame.copy()`\n",
      "  dt_transformed[col] = 0\n",
      "\n"
     ]
    },
    {
     "name": "stdout",
     "output_type": "stream",
     "text": [
      "Accuracy:                                                                                                              \n",
      "0.9166666666666666                                                                                                     \n",
      "{'var_smoothing': 0.004328761281083057}                                                                                \n",
      " 10%|████▉                                            | 1/10 [00:02<00:18,  2.02s/trial, best loss: -0.897114556416882]"
     ]
    },
    {
     "name": "stderr",
     "output_type": "stream",
     "text": [
      "C:\\Users\\velmurug\\Documents\\full_stability\\transformers\\IndexBasedTransformer.py:58: PerformanceWarning: DataFrame is highly fragmented.  This is usually the result of calling `frame.insert` many times, which has poor performance.  Consider joining all columns at once using pd.concat(axis=1) instead.  To get a de-fragmented frame, use `newframe = frame.copy()`\n",
      "  dt_transformed[col] = 0\n",
      "\n"
     ]
    },
    {
     "name": "stdout",
     "output_type": "stream",
     "text": [
      "Accuracy:                                                                                                              \n",
      "0.8095238095238095                                                                                                     \n",
      " 10%|████▉                                            | 1/10 [00:02<00:18,  2.02s/trial, best loss: -0.897114556416882]"
     ]
    },
    {
     "name": "stderr",
     "output_type": "stream",
     "text": [
      "C:\\Users\\velmurug\\Documents\\full_stability\\transformers\\IndexBasedTransformer.py:58: PerformanceWarning: DataFrame is highly fragmented.  This is usually the result of calling `frame.insert` many times, which has poor performance.  Consider joining all columns at once using pd.concat(axis=1) instead.  To get a de-fragmented frame, use `newframe = frame.copy()`\n",
      "  dt_transformed[col] = 0\n",
      "\n"
     ]
    },
    {
     "name": "stdout",
     "output_type": "stream",
     "text": [
      "Accuracy:                                                                                                              \n",
      "0.8205128205128205                                                                                                     \n",
      " 10%|████▉                                            | 1/10 [00:03<00:18,  2.02s/trial, best loss: -0.897114556416882]"
     ]
    },
    {
     "name": "stderr",
     "output_type": "stream",
     "text": [
      "C:\\Users\\velmurug\\Documents\\full_stability\\transformers\\IndexBasedTransformer.py:58: PerformanceWarning: DataFrame is highly fragmented.  This is usually the result of calling `frame.insert` many times, which has poor performance.  Consider joining all columns at once using pd.concat(axis=1) instead.  To get a de-fragmented frame, use `newframe = frame.copy()`\n",
      "  dt_transformed[col] = 0\n",
      "\n"
     ]
    },
    {
     "name": "stdout",
     "output_type": "stream",
     "text": [
      "Accuracy:                                                                                                              \n",
      "0.8095238095238096                                                                                                     \n",
      "{'var_smoothing': 0.12328467394420659}                                                                                 \n",
      " 20%|█████████▊                                       | 2/10 [00:03<00:15,  1.99s/trial, best loss: -0.897114556416882]"
     ]
    },
    {
     "name": "stderr",
     "output_type": "stream",
     "text": [
      "C:\\Users\\velmurug\\Documents\\full_stability\\transformers\\IndexBasedTransformer.py:58: PerformanceWarning: DataFrame is highly fragmented.  This is usually the result of calling `frame.insert` many times, which has poor performance.  Consider joining all columns at once using pd.concat(axis=1) instead.  To get a de-fragmented frame, use `newframe = frame.copy()`\n",
      "  dt_transformed[col] = 0\n",
      "\n"
     ]
    },
    {
     "name": "stdout",
     "output_type": "stream",
     "text": [
      "Accuracy:                                                                                                              \n",
      "0.8979591836734695                                                                                                     \n",
      " 20%|█████████▊                                       | 2/10 [00:04<00:15,  1.99s/trial, best loss: -0.897114556416882]"
     ]
    },
    {
     "name": "stderr",
     "output_type": "stream",
     "text": [
      "C:\\Users\\velmurug\\Documents\\full_stability\\transformers\\IndexBasedTransformer.py:58: PerformanceWarning: DataFrame is highly fragmented.  This is usually the result of calling `frame.insert` many times, which has poor performance.  Consider joining all columns at once using pd.concat(axis=1) instead.  To get a de-fragmented frame, use `newframe = frame.copy()`\n",
      "  dt_transformed[col] = 0\n",
      "\n"
     ]
    },
    {
     "name": "stdout",
     "output_type": "stream",
     "text": [
      "Accuracy:                                                                                                              \n",
      "0.8205128205128205                                                                                                     \n",
      " 20%|█████████▊                                       | 2/10 [00:05<00:15,  1.99s/trial, best loss: -0.897114556416882]"
     ]
    },
    {
     "name": "stderr",
     "output_type": "stream",
     "text": [
      "C:\\Users\\velmurug\\Documents\\full_stability\\transformers\\IndexBasedTransformer.py:58: PerformanceWarning: DataFrame is highly fragmented.  This is usually the result of calling `frame.insert` many times, which has poor performance.  Consider joining all columns at once using pd.concat(axis=1) instead.  To get a de-fragmented frame, use `newframe = frame.copy()`\n",
      "  dt_transformed[col] = 0\n",
      "\n"
     ]
    },
    {
     "name": "stdout",
     "output_type": "stream",
     "text": [
      "Accuracy:                                                                                                              \n",
      "0.8400000000000001                                                                                                     \n",
      "{'var_smoothing': 6.579332246575683e-05}                                                                               \n",
      " 30%|██████████████▋                                  | 3/10 [00:05<00:13,  1.94s/trial, best loss: -0.897114556416882]"
     ]
    },
    {
     "name": "stderr",
     "output_type": "stream",
     "text": [
      "C:\\Users\\velmurug\\Documents\\full_stability\\transformers\\IndexBasedTransformer.py:58: PerformanceWarning: DataFrame is highly fragmented.  This is usually the result of calling `frame.insert` many times, which has poor performance.  Consider joining all columns at once using pd.concat(axis=1) instead.  To get a de-fragmented frame, use `newframe = frame.copy()`\n",
      "  dt_transformed[col] = 0\n",
      "\n"
     ]
    },
    {
     "name": "stdout",
     "output_type": "stream",
     "text": [
      "Accuracy:                                                                                                              \n",
      "0.8                                                                                                                    \n",
      " 30%|██████████████▋                                  | 3/10 [00:06<00:13,  1.94s/trial, best loss: -0.897114556416882]"
     ]
    },
    {
     "name": "stderr",
     "output_type": "stream",
     "text": [
      "C:\\Users\\velmurug\\Documents\\full_stability\\transformers\\IndexBasedTransformer.py:58: PerformanceWarning: DataFrame is highly fragmented.  This is usually the result of calling `frame.insert` many times, which has poor performance.  Consider joining all columns at once using pd.concat(axis=1) instead.  To get a de-fragmented frame, use `newframe = frame.copy()`\n",
      "  dt_transformed[col] = 0\n",
      "\n"
     ]
    },
    {
     "name": "stdout",
     "output_type": "stream",
     "text": [
      "Accuracy:                                                                                                              \n",
      "0.8837209302325583                                                                                                     \n",
      " 30%|██████████████▋                                  | 3/10 [00:07<00:13,  1.94s/trial, best loss: -0.897114556416882]"
     ]
    },
    {
     "name": "stderr",
     "output_type": "stream",
     "text": [
      "C:\\Users\\velmurug\\Documents\\full_stability\\transformers\\IndexBasedTransformer.py:58: PerformanceWarning: DataFrame is highly fragmented.  This is usually the result of calling `frame.insert` many times, which has poor performance.  Consider joining all columns at once using pd.concat(axis=1) instead.  To get a de-fragmented frame, use `newframe = frame.copy()`\n",
      "  dt_transformed[col] = 0\n",
      "\n"
     ]
    },
    {
     "name": "stdout",
     "output_type": "stream",
     "text": [
      "Accuracy:                                                                                                              \n",
      "0.8444444444444444                                                                                                     \n",
      "{'var_smoothing': 0.43287612810830584}                                                                                 \n",
      " 40%|███████████████████▌                             | 4/10 [00:07<00:11,  1.94s/trial, best loss: -0.897114556416882]"
     ]
    },
    {
     "name": "stderr",
     "output_type": "stream",
     "text": [
      "C:\\Users\\velmurug\\Documents\\full_stability\\transformers\\IndexBasedTransformer.py:58: PerformanceWarning: DataFrame is highly fragmented.  This is usually the result of calling `frame.insert` many times, which has poor performance.  Consider joining all columns at once using pd.concat(axis=1) instead.  To get a de-fragmented frame, use `newframe = frame.copy()`\n",
      "  dt_transformed[col] = 0\n",
      "\n"
     ]
    },
    {
     "name": "stdout",
     "output_type": "stream",
     "text": [
      "Accuracy:                                                                                                              \n",
      "0.851063829787234                                                                                                      \n",
      " 40%|███████████████████▌                             | 4/10 [00:08<00:11,  1.94s/trial, best loss: -0.897114556416882]"
     ]
    },
    {
     "name": "stderr",
     "output_type": "stream",
     "text": [
      "C:\\Users\\velmurug\\Documents\\full_stability\\transformers\\IndexBasedTransformer.py:58: PerformanceWarning: DataFrame is highly fragmented.  This is usually the result of calling `frame.insert` many times, which has poor performance.  Consider joining all columns at once using pd.concat(axis=1) instead.  To get a de-fragmented frame, use `newframe = frame.copy()`\n",
      "  dt_transformed[col] = 0\n",
      "\n"
     ]
    },
    {
     "name": "stdout",
     "output_type": "stream",
     "text": [
      "Accuracy:                                                                                                              \n",
      "0.6470588235294118                                                                                                     \n",
      " 40%|███████████████████▌                             | 4/10 [00:08<00:11,  1.94s/trial, best loss: -0.897114556416882]"
     ]
    },
    {
     "name": "stderr",
     "output_type": "stream",
     "text": [
      "C:\\Users\\velmurug\\Documents\\full_stability\\transformers\\IndexBasedTransformer.py:58: PerformanceWarning: DataFrame is highly fragmented.  This is usually the result of calling `frame.insert` many times, which has poor performance.  Consider joining all columns at once using pd.concat(axis=1) instead.  To get a de-fragmented frame, use `newframe = frame.copy()`\n",
      "  dt_transformed[col] = 0\n",
      "\n"
     ]
    },
    {
     "name": "stdout",
     "output_type": "stream",
     "text": [
      "Accuracy:                                                                                                              \n",
      "0.8076923076923077                                                                                                     \n",
      "{'var_smoothing': 0.2848035868435802}                                                                                  \n",
      " 50%|████████████████████████▌                        | 5/10 [00:09<00:09,  1.91s/trial, best loss: -0.897114556416882]"
     ]
    },
    {
     "name": "stderr",
     "output_type": "stream",
     "text": [
      "C:\\Users\\velmurug\\Documents\\full_stability\\transformers\\IndexBasedTransformer.py:58: PerformanceWarning: DataFrame is highly fragmented.  This is usually the result of calling `frame.insert` many times, which has poor performance.  Consider joining all columns at once using pd.concat(axis=1) instead.  To get a de-fragmented frame, use `newframe = frame.copy()`\n",
      "  dt_transformed[col] = 0\n",
      "\n"
     ]
    },
    {
     "name": "stdout",
     "output_type": "stream",
     "text": [
      "Accuracy:                                                                                                              \n",
      "0.8260869565217391                                                                                                     \n",
      " 50%|████████████████████████▌                        | 5/10 [00:10<00:09,  1.91s/trial, best loss: -0.897114556416882]"
     ]
    },
    {
     "name": "stderr",
     "output_type": "stream",
     "text": [
      "C:\\Users\\velmurug\\Documents\\full_stability\\transformers\\IndexBasedTransformer.py:58: PerformanceWarning: DataFrame is highly fragmented.  This is usually the result of calling `frame.insert` many times, which has poor performance.  Consider joining all columns at once using pd.concat(axis=1) instead.  To get a de-fragmented frame, use `newframe = frame.copy()`\n",
      "  dt_transformed[col] = 0\n",
      "\n"
     ]
    },
    {
     "name": "stdout",
     "output_type": "stream",
     "text": [
      "Accuracy:                                                                                                              \n",
      "0.9583333333333334                                                                                                     \n",
      " 50%|████████████████████████▌                        | 5/10 [00:10<00:09,  1.91s/trial, best loss: -0.897114556416882]"
     ]
    },
    {
     "name": "stderr",
     "output_type": "stream",
     "text": [
      "C:\\Users\\velmurug\\Documents\\full_stability\\transformers\\IndexBasedTransformer.py:58: PerformanceWarning: DataFrame is highly fragmented.  This is usually the result of calling `frame.insert` many times, which has poor performance.  Consider joining all columns at once using pd.concat(axis=1) instead.  To get a de-fragmented frame, use `newframe = frame.copy()`\n",
      "  dt_transformed[col] = 0\n",
      "\n"
     ]
    },
    {
     "name": "stdout",
     "output_type": "stream",
     "text": [
      "Accuracy:                                                                                                              \n",
      "0.8837209302325582                                                                                                     \n",
      "{'var_smoothing': 6.579332246575683e-06}                                                                               \n",
      " 60%|█████████████████████████████▍                   | 6/10 [00:11<00:07,  1.87s/trial, best loss: -0.897114556416882]"
     ]
    },
    {
     "name": "stderr",
     "output_type": "stream",
     "text": [
      "C:\\Users\\velmurug\\Documents\\full_stability\\transformers\\IndexBasedTransformer.py:58: PerformanceWarning: DataFrame is highly fragmented.  This is usually the result of calling `frame.insert` many times, which has poor performance.  Consider joining all columns at once using pd.concat(axis=1) instead.  To get a de-fragmented frame, use `newframe = frame.copy()`\n",
      "  dt_transformed[col] = 0\n",
      "\n"
     ]
    },
    {
     "name": "stdout",
     "output_type": "stream",
     "text": [
      "Accuracy:                                                                                                              \n",
      "0.84                                                                                                                   \n",
      " 60%|█████████████████████████████▍                   | 6/10 [00:11<00:07,  1.87s/trial, best loss: -0.897114556416882]"
     ]
    },
    {
     "name": "stderr",
     "output_type": "stream",
     "text": [
      "C:\\Users\\velmurug\\Documents\\full_stability\\transformers\\IndexBasedTransformer.py:58: PerformanceWarning: DataFrame is highly fragmented.  This is usually the result of calling `frame.insert` many times, which has poor performance.  Consider joining all columns at once using pd.concat(axis=1) instead.  To get a de-fragmented frame, use `newframe = frame.copy()`\n",
      "  dt_transformed[col] = 0\n",
      "\n"
     ]
    },
    {
     "name": "stdout",
     "output_type": "stream",
     "text": [
      "Accuracy:                                                                                                              \n",
      "0.7222222222222222                                                                                                     \n",
      " 60%|█████████████████████████████▍                   | 6/10 [00:12<00:07,  1.87s/trial, best loss: -0.897114556416882]"
     ]
    },
    {
     "name": "stderr",
     "output_type": "stream",
     "text": [
      "C:\\Users\\velmurug\\Documents\\full_stability\\transformers\\IndexBasedTransformer.py:58: PerformanceWarning: DataFrame is highly fragmented.  This is usually the result of calling `frame.insert` many times, which has poor performance.  Consider joining all columns at once using pd.concat(axis=1) instead.  To get a de-fragmented frame, use `newframe = frame.copy()`\n",
      "  dt_transformed[col] = 0\n",
      "\n"
     ]
    },
    {
     "name": "stdout",
     "output_type": "stream",
     "text": [
      "Accuracy:                                                                                                              \n",
      "0.8636363636363635                                                                                                     \n",
      "{'var_smoothing': 2.310129700083158e-07}                                                                               \n",
      " 70%|██████████████████████████████████▎              | 7/10 [00:13<00:05,  1.91s/trial, best loss: -0.897114556416882]"
     ]
    },
    {
     "name": "stderr",
     "output_type": "stream",
     "text": [
      "C:\\Users\\velmurug\\Documents\\full_stability\\transformers\\IndexBasedTransformer.py:58: PerformanceWarning: DataFrame is highly fragmented.  This is usually the result of calling `frame.insert` many times, which has poor performance.  Consider joining all columns at once using pd.concat(axis=1) instead.  To get a de-fragmented frame, use `newframe = frame.copy()`\n",
      "  dt_transformed[col] = 0\n",
      "\n"
     ]
    },
    {
     "name": "stdout",
     "output_type": "stream",
     "text": [
      "Accuracy:                                                                                                              \n",
      "0.888888888888889                                                                                                      \n",
      " 70%|██████████████████████████████████▎              | 7/10 [00:13<00:05,  1.91s/trial, best loss: -0.897114556416882]"
     ]
    },
    {
     "name": "stderr",
     "output_type": "stream",
     "text": [
      "C:\\Users\\velmurug\\Documents\\full_stability\\transformers\\IndexBasedTransformer.py:58: PerformanceWarning: DataFrame is highly fragmented.  This is usually the result of calling `frame.insert` many times, which has poor performance.  Consider joining all columns at once using pd.concat(axis=1) instead.  To get a de-fragmented frame, use `newframe = frame.copy()`\n",
      "  dt_transformed[col] = 0\n",
      "\n"
     ]
    },
    {
     "name": "stdout",
     "output_type": "stream",
     "text": [
      "Accuracy:                                                                                                              \n",
      "0.8444444444444444                                                                                                     \n",
      " 70%|██████████████████████████████████▎              | 7/10 [00:14<00:05,  1.91s/trial, best loss: -0.897114556416882]"
     ]
    },
    {
     "name": "stderr",
     "output_type": "stream",
     "text": [
      "C:\\Users\\velmurug\\Documents\\full_stability\\transformers\\IndexBasedTransformer.py:58: PerformanceWarning: DataFrame is highly fragmented.  This is usually the result of calling `frame.insert` many times, which has poor performance.  Consider joining all columns at once using pd.concat(axis=1) instead.  To get a de-fragmented frame, use `newframe = frame.copy()`\n",
      "  dt_transformed[col] = 0\n",
      "\n"
     ]
    },
    {
     "name": "stdout",
     "output_type": "stream",
     "text": [
      "Accuracy:                                                                                                              \n",
      "0.875                                                                                                                  \n",
      "{'var_smoothing': 1.519911082952933e-08}                                                                               \n",
      " 80%|███████████████████████████████████████▏         | 8/10 [00:15<00:03,  1.92s/trial, best loss: -0.897114556416882]"
     ]
    },
    {
     "name": "stderr",
     "output_type": "stream",
     "text": [
      "C:\\Users\\velmurug\\Documents\\full_stability\\transformers\\IndexBasedTransformer.py:58: PerformanceWarning: DataFrame is highly fragmented.  This is usually the result of calling `frame.insert` many times, which has poor performance.  Consider joining all columns at once using pd.concat(axis=1) instead.  To get a de-fragmented frame, use `newframe = frame.copy()`\n",
      "  dt_transformed[col] = 0\n",
      "\n"
     ]
    },
    {
     "name": "stdout",
     "output_type": "stream",
     "text": [
      "Accuracy:                                                                                                              \n",
      "0.851063829787234                                                                                                      \n",
      " 80%|███████████████████████████████████████▏         | 8/10 [00:15<00:03,  1.92s/trial, best loss: -0.897114556416882]"
     ]
    },
    {
     "name": "stderr",
     "output_type": "stream",
     "text": [
      "C:\\Users\\velmurug\\Documents\\full_stability\\transformers\\IndexBasedTransformer.py:58: PerformanceWarning: DataFrame is highly fragmented.  This is usually the result of calling `frame.insert` many times, which has poor performance.  Consider joining all columns at once using pd.concat(axis=1) instead.  To get a de-fragmented frame, use `newframe = frame.copy()`\n",
      "  dt_transformed[col] = 0\n",
      "\n"
     ]
    },
    {
     "name": "stdout",
     "output_type": "stream",
     "text": [
      "Accuracy:                                                                                                              \n",
      "0.8837209302325583                                                                                                     \n",
      " 80%|███████████████████████████████████████▏         | 8/10 [00:16<00:03,  1.92s/trial, best loss: -0.897114556416882]"
     ]
    },
    {
     "name": "stderr",
     "output_type": "stream",
     "text": [
      "C:\\Users\\velmurug\\Documents\\full_stability\\transformers\\IndexBasedTransformer.py:58: PerformanceWarning: DataFrame is highly fragmented.  This is usually the result of calling `frame.insert` many times, which has poor performance.  Consider joining all columns at once using pd.concat(axis=1) instead.  To get a de-fragmented frame, use `newframe = frame.copy()`\n",
      "  dt_transformed[col] = 0\n",
      "\n"
     ]
    },
    {
     "name": "stdout",
     "output_type": "stream",
     "text": [
      "Accuracy:                                                                                                              \n",
      "0.7999999999999999                                                                                                     \n",
      "{'var_smoothing': 8.111308307896873e-08}                                                                               \n",
      " 90%|████████████████████████████████████████████     | 9/10 [00:17<00:01,  1.92s/trial, best loss: -0.897114556416882]"
     ]
    },
    {
     "name": "stderr",
     "output_type": "stream",
     "text": [
      "C:\\Users\\velmurug\\Documents\\full_stability\\transformers\\IndexBasedTransformer.py:58: PerformanceWarning: DataFrame is highly fragmented.  This is usually the result of calling `frame.insert` many times, which has poor performance.  Consider joining all columns at once using pd.concat(axis=1) instead.  To get a de-fragmented frame, use `newframe = frame.copy()`\n",
      "  dt_transformed[col] = 0\n",
      "\n"
     ]
    },
    {
     "name": "stdout",
     "output_type": "stream",
     "text": [
      "Accuracy:                                                                                                              \n",
      "0.8333333333333333                                                                                                     \n",
      " 90%|████████████████████████████████████████████     | 9/10 [00:17<00:01,  1.92s/trial, best loss: -0.897114556416882]"
     ]
    },
    {
     "name": "stderr",
     "output_type": "stream",
     "text": [
      "C:\\Users\\velmurug\\Documents\\full_stability\\transformers\\IndexBasedTransformer.py:58: PerformanceWarning: DataFrame is highly fragmented.  This is usually the result of calling `frame.insert` many times, which has poor performance.  Consider joining all columns at once using pd.concat(axis=1) instead.  To get a de-fragmented frame, use `newframe = frame.copy()`\n",
      "  dt_transformed[col] = 0\n",
      "\n"
     ]
    },
    {
     "name": "stdout",
     "output_type": "stream",
     "text": [
      "Accuracy:                                                                                                              \n",
      "0.8372093023255814                                                                                                     \n",
      " 90%|████████████████████████████████████████████     | 9/10 [00:18<00:01,  1.92s/trial, best loss: -0.897114556416882]"
     ]
    },
    {
     "name": "stderr",
     "output_type": "stream",
     "text": [
      "C:\\Users\\velmurug\\Documents\\full_stability\\transformers\\IndexBasedTransformer.py:58: PerformanceWarning: DataFrame is highly fragmented.  This is usually the result of calling `frame.insert` many times, which has poor performance.  Consider joining all columns at once using pd.concat(axis=1) instead.  To get a de-fragmented frame, use `newframe = frame.copy()`\n",
      "  dt_transformed[col] = 0\n",
      "\n"
     ]
    },
    {
     "name": "stdout",
     "output_type": "stream",
     "text": [
      "Accuracy:                                                                                                              \n",
      "0.875                                                                                                                  \n",
      "100%|████████████████████████████████████████████████| 10/10 [00:19<00:00,  1.91s/trial, best loss: -0.897114556416882]\n",
      "Optimising 18 of 20 buckets\n",
      "{'var_smoothing': 1.0}                                                                                                 \n",
      "  0%|                                                                           | 0/10 [00:00<?, ?trial/s, best loss=?]"
     ]
    },
    {
     "name": "stderr",
     "output_type": "stream",
     "text": [
      "C:\\Users\\velmurug\\Documents\\full_stability\\transformers\\IndexBasedTransformer.py:58: PerformanceWarning: DataFrame is highly fragmented.  This is usually the result of calling `frame.insert` many times, which has poor performance.  Consider joining all columns at once using pd.concat(axis=1) instead.  To get a de-fragmented frame, use `newframe = frame.copy()`\n",
      "  dt_transformed[col] = 0\n",
      "\n"
     ]
    },
    {
     "name": "stdout",
     "output_type": "stream",
     "text": [
      "Accuracy:                                                                                                              \n",
      "0.9032258064516129                                                                                                     \n",
      "  0%|                                                                           | 0/10 [00:00<?, ?trial/s, best loss=?]"
     ]
    },
    {
     "name": "stderr",
     "output_type": "stream",
     "text": [
      "C:\\Users\\velmurug\\Documents\\full_stability\\transformers\\IndexBasedTransformer.py:58: PerformanceWarning: DataFrame is highly fragmented.  This is usually the result of calling `frame.insert` many times, which has poor performance.  Consider joining all columns at once using pd.concat(axis=1) instead.  To get a de-fragmented frame, use `newframe = frame.copy()`\n",
      "  dt_transformed[col] = 0\n",
      "\n"
     ]
    },
    {
     "name": "stdout",
     "output_type": "stream",
     "text": [
      "Accuracy:                                                                                                              \n",
      "0.7407407407407407                                                                                                     \n",
      "  0%|                                                                           | 0/10 [00:01<?, ?trial/s, best loss=?]"
     ]
    },
    {
     "name": "stderr",
     "output_type": "stream",
     "text": [
      "C:\\Users\\velmurug\\Documents\\full_stability\\transformers\\IndexBasedTransformer.py:58: PerformanceWarning: DataFrame is highly fragmented.  This is usually the result of calling `frame.insert` many times, which has poor performance.  Consider joining all columns at once using pd.concat(axis=1) instead.  To get a de-fragmented frame, use `newframe = frame.copy()`\n",
      "  dt_transformed[col] = 0\n",
      "\n"
     ]
    },
    {
     "name": "stdout",
     "output_type": "stream",
     "text": [
      "Accuracy:                                                                                                              \n",
      "0.8181818181818181                                                                                                     \n",
      "{'var_smoothing': 0.04328761281083057}                                                                                 \n",
      " 10%|████▊                                           | 1/10 [00:02<00:18,  2.02s/trial, best loss: -0.8207161217913906]"
     ]
    },
    {
     "name": "stderr",
     "output_type": "stream",
     "text": [
      "C:\\Users\\velmurug\\Documents\\full_stability\\transformers\\IndexBasedTransformer.py:58: PerformanceWarning: DataFrame is highly fragmented.  This is usually the result of calling `frame.insert` many times, which has poor performance.  Consider joining all columns at once using pd.concat(axis=1) instead.  To get a de-fragmented frame, use `newframe = frame.copy()`\n",
      "  dt_transformed[col] = 0\n",
      "\n"
     ]
    },
    {
     "name": "stdout",
     "output_type": "stream",
     "text": [
      "Accuracy:                                                                                                              \n",
      "0.9032258064516129                                                                                                     \n",
      " 10%|████▊                                           | 1/10 [00:02<00:18,  2.02s/trial, best loss: -0.8207161217913906]"
     ]
    },
    {
     "name": "stderr",
     "output_type": "stream",
     "text": [
      "C:\\Users\\velmurug\\Documents\\full_stability\\transformers\\IndexBasedTransformer.py:58: PerformanceWarning: DataFrame is highly fragmented.  This is usually the result of calling `frame.insert` many times, which has poor performance.  Consider joining all columns at once using pd.concat(axis=1) instead.  To get a de-fragmented frame, use `newframe = frame.copy()`\n",
      "  dt_transformed[col] = 0\n",
      "\n"
     ]
    },
    {
     "name": "stdout",
     "output_type": "stream",
     "text": [
      "Accuracy:                                                                                                              \n",
      "0.9411764705882353                                                                                                     \n",
      "Accuracy:                                                                                                              \n",
      "0.8205128205128205                                                                                                     \n",
      "{'var_smoothing': 1.519911082952933e-06}                                                                               \n",
      " 20%|█████████▌                                      | 2/10 [00:04<00:16,  2.02s/trial, best loss: -0.8883050325175562]"
     ]
    },
    {
     "name": "stderr",
     "output_type": "stream",
     "text": [
      "C:\\Users\\velmurug\\Documents\\full_stability\\transformers\\IndexBasedTransformer.py:58: PerformanceWarning: DataFrame is highly fragmented.  This is usually the result of calling `frame.insert` many times, which has poor performance.  Consider joining all columns at once using pd.concat(axis=1) instead.  To get a de-fragmented frame, use `newframe = frame.copy()`\n",
      "  dt_transformed[col] = 0\n",
      "\n"
     ]
    },
    {
     "name": "stdout",
     "output_type": "stream",
     "text": [
      "Accuracy:                                                                                                              \n",
      "0.8648648648648648                                                                                                     \n",
      " 20%|█████████▌                                      | 2/10 [00:04<00:16,  2.02s/trial, best loss: -0.8883050325175562]"
     ]
    },
    {
     "name": "stderr",
     "output_type": "stream",
     "text": [
      "C:\\Users\\velmurug\\Documents\\full_stability\\transformers\\IndexBasedTransformer.py:58: PerformanceWarning: DataFrame is highly fragmented.  This is usually the result of calling `frame.insert` many times, which has poor performance.  Consider joining all columns at once using pd.concat(axis=1) instead.  To get a de-fragmented frame, use `newframe = frame.copy()`\n",
      "  dt_transformed[col] = 0\n",
      "\n"
     ]
    },
    {
     "name": "stdout",
     "output_type": "stream",
     "text": [
      "Accuracy:                                                                                                              \n",
      "0.8666666666666666                                                                                                     \n",
      " 20%|█████████▌                                      | 2/10 [00:05<00:16,  2.02s/trial, best loss: -0.8883050325175562]"
     ]
    },
    {
     "name": "stderr",
     "output_type": "stream",
     "text": [
      "C:\\Users\\velmurug\\Documents\\full_stability\\transformers\\IndexBasedTransformer.py:58: PerformanceWarning: DataFrame is highly fragmented.  This is usually the result of calling `frame.insert` many times, which has poor performance.  Consider joining all columns at once using pd.concat(axis=1) instead.  To get a de-fragmented frame, use `newframe = frame.copy()`\n",
      "  dt_transformed[col] = 0\n",
      "\n"
     ]
    },
    {
     "name": "stdout",
     "output_type": "stream",
     "text": [
      "Accuracy:                                                                                                              \n",
      "0.8571428571428571                                                                                                     \n",
      "{'var_smoothing': 8.111308307896872e-05}                                                                               \n",
      " 30%|██████████████▍                                 | 3/10 [00:06<00:14,  2.01s/trial, best loss: -0.8883050325175562]"
     ]
    },
    {
     "name": "stderr",
     "output_type": "stream",
     "text": [
      "C:\\Users\\velmurug\\Documents\\full_stability\\transformers\\IndexBasedTransformer.py:58: PerformanceWarning: DataFrame is highly fragmented.  This is usually the result of calling `frame.insert` many times, which has poor performance.  Consider joining all columns at once using pd.concat(axis=1) instead.  To get a de-fragmented frame, use `newframe = frame.copy()`\n",
      "  dt_transformed[col] = 0\n",
      "\n"
     ]
    },
    {
     "name": "stdout",
     "output_type": "stream",
     "text": [
      "Accuracy:                                                                                                              \n",
      "0.7857142857142858                                                                                                     \n",
      " 30%|██████████████▍                                 | 3/10 [00:06<00:14,  2.01s/trial, best loss: -0.8883050325175562]"
     ]
    },
    {
     "name": "stderr",
     "output_type": "stream",
     "text": [
      "C:\\Users\\velmurug\\Documents\\full_stability\\transformers\\IndexBasedTransformer.py:58: PerformanceWarning: DataFrame is highly fragmented.  This is usually the result of calling `frame.insert` many times, which has poor performance.  Consider joining all columns at once using pd.concat(axis=1) instead.  To get a de-fragmented frame, use `newframe = frame.copy()`\n",
      "  dt_transformed[col] = 0\n",
      "\n"
     ]
    },
    {
     "name": "stdout",
     "output_type": "stream",
     "text": [
      "Accuracy:                                                                                                              \n",
      "0.9032258064516129                                                                                                     \n",
      " 30%|██████████████▍                                 | 3/10 [00:07<00:14,  2.01s/trial, best loss: -0.8883050325175562]"
     ]
    },
    {
     "name": "stderr",
     "output_type": "stream",
     "text": [
      "C:\\Users\\velmurug\\Documents\\full_stability\\transformers\\IndexBasedTransformer.py:58: PerformanceWarning: DataFrame is highly fragmented.  This is usually the result of calling `frame.insert` many times, which has poor performance.  Consider joining all columns at once using pd.concat(axis=1) instead.  To get a de-fragmented frame, use `newframe = frame.copy()`\n",
      "  dt_transformed[col] = 0\n",
      "\n"
     ]
    },
    {
     "name": "stdout",
     "output_type": "stream",
     "text": [
      "Accuracy:                                                                                                              \n",
      "0.8717948717948718                                                                                                     \n",
      "{'var_smoothing': 0.001}                                                                                               \n",
      " 40%|███████████████████▏                            | 4/10 [00:07<00:11,  2.00s/trial, best loss: -0.8883050325175562]"
     ]
    },
    {
     "name": "stderr",
     "output_type": "stream",
     "text": [
      "C:\\Users\\velmurug\\Documents\\full_stability\\transformers\\IndexBasedTransformer.py:58: PerformanceWarning: DataFrame is highly fragmented.  This is usually the result of calling `frame.insert` many times, which has poor performance.  Consider joining all columns at once using pd.concat(axis=1) instead.  To get a de-fragmented frame, use `newframe = frame.copy()`\n",
      "  dt_transformed[col] = 0\n",
      "\n"
     ]
    },
    {
     "name": "stdout",
     "output_type": "stream",
     "text": [
      "Accuracy:                                                                                                              \n",
      "0.8000000000000002                                                                                                     \n",
      " 40%|███████████████████▏                            | 4/10 [00:08<00:11,  2.00s/trial, best loss: -0.8883050325175562]"
     ]
    },
    {
     "name": "stderr",
     "output_type": "stream",
     "text": [
      "C:\\Users\\velmurug\\Documents\\full_stability\\transformers\\IndexBasedTransformer.py:58: PerformanceWarning: DataFrame is highly fragmented.  This is usually the result of calling `frame.insert` many times, which has poor performance.  Consider joining all columns at once using pd.concat(axis=1) instead.  To get a de-fragmented frame, use `newframe = frame.copy()`\n",
      "  dt_transformed[col] = 0\n",
      "\n"
     ]
    },
    {
     "name": "stdout",
     "output_type": "stream",
     "text": [
      "Accuracy:                                                                                                              \n",
      "0.9375                                                                                                                 \n",
      " 40%|███████████████████▏                            | 4/10 [00:09<00:11,  2.00s/trial, best loss: -0.8883050325175562]"
     ]
    },
    {
     "name": "stderr",
     "output_type": "stream",
     "text": [
      "C:\\Users\\velmurug\\Documents\\full_stability\\transformers\\IndexBasedTransformer.py:58: PerformanceWarning: DataFrame is highly fragmented.  This is usually the result of calling `frame.insert` many times, which has poor performance.  Consider joining all columns at once using pd.concat(axis=1) instead.  To get a de-fragmented frame, use `newframe = frame.copy()`\n",
      "  dt_transformed[col] = 0\n",
      "\n"
     ]
    },
    {
     "name": "stdout",
     "output_type": "stream",
     "text": [
      "Accuracy:                                                                                                              \n",
      "0.8717948717948718                                                                                                     \n",
      "{'var_smoothing': 0.0001232846739442066}                                                                               \n",
      " 50%|████████████████████████                        | 5/10 [00:09<00:09,  1.97s/trial, best loss: -0.8883050325175562]"
     ]
    },
    {
     "name": "stderr",
     "output_type": "stream",
     "text": [
      "C:\\Users\\velmurug\\Documents\\full_stability\\transformers\\IndexBasedTransformer.py:58: PerformanceWarning: DataFrame is highly fragmented.  This is usually the result of calling `frame.insert` many times, which has poor performance.  Consider joining all columns at once using pd.concat(axis=1) instead.  To get a de-fragmented frame, use `newframe = frame.copy()`\n",
      "  dt_transformed[col] = 0\n",
      "\n"
     ]
    },
    {
     "name": "stdout",
     "output_type": "stream",
     "text": [
      "Accuracy:                                                                                                              \n",
      "0.787878787878788                                                                                                      \n",
      " 50%|████████████████████████                        | 5/10 [00:10<00:09,  1.97s/trial, best loss: -0.8883050325175562]"
     ]
    },
    {
     "name": "stderr",
     "output_type": "stream",
     "text": [
      "C:\\Users\\velmurug\\Documents\\full_stability\\transformers\\IndexBasedTransformer.py:58: PerformanceWarning: DataFrame is highly fragmented.  This is usually the result of calling `frame.insert` many times, which has poor performance.  Consider joining all columns at once using pd.concat(axis=1) instead.  To get a de-fragmented frame, use `newframe = frame.copy()`\n",
      "  dt_transformed[col] = 0\n",
      "\n"
     ]
    },
    {
     "name": "stdout",
     "output_type": "stream",
     "text": [
      "Accuracy:                                                                                                              \n",
      "0.9090909090909091                                                                                                     \n",
      " 50%|████████████████████████                        | 5/10 [00:11<00:09,  1.97s/trial, best loss: -0.8883050325175562]"
     ]
    },
    {
     "name": "stderr",
     "output_type": "stream",
     "text": [
      "C:\\Users\\velmurug\\Documents\\full_stability\\transformers\\IndexBasedTransformer.py:58: PerformanceWarning: DataFrame is highly fragmented.  This is usually the result of calling `frame.insert` many times, which has poor performance.  Consider joining all columns at once using pd.concat(axis=1) instead.  To get a de-fragmented frame, use `newframe = frame.copy()`\n",
      "  dt_transformed[col] = 0\n",
      "\n"
     ]
    },
    {
     "name": "stdout",
     "output_type": "stream",
     "text": [
      "Accuracy:                                                                                                              \n",
      "0.8648648648648649                                                                                                     \n",
      "{'var_smoothing': 0.002848035868435802}                                                                                \n",
      " 60%|████████████████████████████▊                   | 6/10 [00:11<00:07,  1.94s/trial, best loss: -0.8883050325175562]"
     ]
    },
    {
     "name": "stderr",
     "output_type": "stream",
     "text": [
      "C:\\Users\\velmurug\\Documents\\full_stability\\transformers\\IndexBasedTransformer.py:58: PerformanceWarning: DataFrame is highly fragmented.  This is usually the result of calling `frame.insert` many times, which has poor performance.  Consider joining all columns at once using pd.concat(axis=1) instead.  To get a de-fragmented frame, use `newframe = frame.copy()`\n",
      "  dt_transformed[col] = 0\n",
      "\n"
     ]
    },
    {
     "name": "stdout",
     "output_type": "stream",
     "text": [
      "Accuracy:                                                                                                              \n",
      "0.9142857142857143                                                                                                     \n",
      " 60%|████████████████████████████▊                   | 6/10 [00:12<00:07,  1.94s/trial, best loss: -0.8883050325175562]"
     ]
    },
    {
     "name": "stderr",
     "output_type": "stream",
     "text": [
      "C:\\Users\\velmurug\\Documents\\full_stability\\transformers\\IndexBasedTransformer.py:58: PerformanceWarning: DataFrame is highly fragmented.  This is usually the result of calling `frame.insert` many times, which has poor performance.  Consider joining all columns at once using pd.concat(axis=1) instead.  To get a de-fragmented frame, use `newframe = frame.copy()`\n",
      "  dt_transformed[col] = 0\n",
      "\n"
     ]
    },
    {
     "name": "stdout",
     "output_type": "stream",
     "text": [
      "Accuracy:                                                                                                              \n",
      "0.9090909090909091                                                                                                     \n",
      " 60%|████████████████████████████▊                   | 6/10 [00:13<00:07,  1.94s/trial, best loss: -0.8883050325175562]"
     ]
    },
    {
     "name": "stderr",
     "output_type": "stream",
     "text": [
      "C:\\Users\\velmurug\\Documents\\full_stability\\transformers\\IndexBasedTransformer.py:58: PerformanceWarning: DataFrame is highly fragmented.  This is usually the result of calling `frame.insert` many times, which has poor performance.  Consider joining all columns at once using pd.concat(axis=1) instead.  To get a de-fragmented frame, use `newframe = frame.copy()`\n",
      "  dt_transformed[col] = 0\n",
      "\n"
     ]
    },
    {
     "name": "stdout",
     "output_type": "stream",
     "text": [
      "Accuracy:                                                                                                              \n",
      "0.8421052631578948                                                                                                     \n",
      "{'var_smoothing': 1.873817422860383e-07}                                                                               \n",
      " 70%|█████████████████████████████████▌              | 7/10 [00:13<00:05,  1.97s/trial, best loss: -0.8884939621781727]"
     ]
    },
    {
     "name": "stderr",
     "output_type": "stream",
     "text": [
      "C:\\Users\\velmurug\\Documents\\full_stability\\transformers\\IndexBasedTransformer.py:58: PerformanceWarning: DataFrame is highly fragmented.  This is usually the result of calling `frame.insert` many times, which has poor performance.  Consider joining all columns at once using pd.concat(axis=1) instead.  To get a de-fragmented frame, use `newframe = frame.copy()`\n",
      "  dt_transformed[col] = 0\n",
      "\n"
     ]
    },
    {
     "name": "stdout",
     "output_type": "stream",
     "text": [
      "Accuracy:                                                                                                              \n",
      "0.9032258064516129                                                                                                     \n",
      " 70%|█████████████████████████████████▌              | 7/10 [00:14<00:05,  1.97s/trial, best loss: -0.8884939621781727]"
     ]
    },
    {
     "name": "stderr",
     "output_type": "stream",
     "text": [
      "C:\\Users\\velmurug\\Documents\\full_stability\\transformers\\IndexBasedTransformer.py:58: PerformanceWarning: DataFrame is highly fragmented.  This is usually the result of calling `frame.insert` many times, which has poor performance.  Consider joining all columns at once using pd.concat(axis=1) instead.  To get a de-fragmented frame, use `newframe = frame.copy()`\n",
      "  dt_transformed[col] = 0\n",
      "\n"
     ]
    },
    {
     "name": "stdout",
     "output_type": "stream",
     "text": [
      "Accuracy:                                                                                                              \n",
      "0.9696969696969697                                                                                                     \n",
      " 70%|█████████████████████████████████▌              | 7/10 [00:15<00:05,  1.97s/trial, best loss: -0.8884939621781727]"
     ]
    },
    {
     "name": "stderr",
     "output_type": "stream",
     "text": [
      "C:\\Users\\velmurug\\Documents\\full_stability\\transformers\\IndexBasedTransformer.py:58: PerformanceWarning: DataFrame is highly fragmented.  This is usually the result of calling `frame.insert` many times, which has poor performance.  Consider joining all columns at once using pd.concat(axis=1) instead.  To get a de-fragmented frame, use `newframe = frame.copy()`\n",
      "  dt_transformed[col] = 0\n",
      "\n"
     ]
    },
    {
     "name": "stdout",
     "output_type": "stream",
     "text": [
      "Accuracy:                                                                                                              \n",
      "0.8484848484848485                                                                                                     \n",
      "{'var_smoothing': 1.873817422860383e-06}                                                                               \n",
      " 80%|██████████████████████████████████████▍         | 8/10 [00:15<00:03,  1.98s/trial, best loss: -0.9071358748778104]"
     ]
    },
    {
     "name": "stderr",
     "output_type": "stream",
     "text": [
      "C:\\Users\\velmurug\\Documents\\full_stability\\transformers\\IndexBasedTransformer.py:58: PerformanceWarning: DataFrame is highly fragmented.  This is usually the result of calling `frame.insert` many times, which has poor performance.  Consider joining all columns at once using pd.concat(axis=1) instead.  To get a de-fragmented frame, use `newframe = frame.copy()`\n",
      "  dt_transformed[col] = 0\n",
      "\n"
     ]
    },
    {
     "name": "stdout",
     "output_type": "stream",
     "text": [
      "Accuracy:                                                                                                              \n",
      "0.8235294117647058                                                                                                     \n",
      " 80%|██████████████████████████████████████▍         | 8/10 [00:16<00:03,  1.98s/trial, best loss: -0.9071358748778104]"
     ]
    },
    {
     "name": "stderr",
     "output_type": "stream",
     "text": [
      "C:\\Users\\velmurug\\Documents\\full_stability\\transformers\\IndexBasedTransformer.py:58: PerformanceWarning: DataFrame is highly fragmented.  This is usually the result of calling `frame.insert` many times, which has poor performance.  Consider joining all columns at once using pd.concat(axis=1) instead.  To get a de-fragmented frame, use `newframe = frame.copy()`\n",
      "  dt_transformed[col] = 0\n",
      "\n"
     ]
    },
    {
     "name": "stdout",
     "output_type": "stream",
     "text": [
      "Accuracy:                                                                                                              \n",
      "0.9696969696969697                                                                                                     \n",
      " 80%|██████████████████████████████████████▍         | 8/10 [00:17<00:03,  1.98s/trial, best loss: -0.9071358748778104]"
     ]
    },
    {
     "name": "stderr",
     "output_type": "stream",
     "text": [
      "C:\\Users\\velmurug\\Documents\\full_stability\\transformers\\IndexBasedTransformer.py:58: PerformanceWarning: DataFrame is highly fragmented.  This is usually the result of calling `frame.insert` many times, which has poor performance.  Consider joining all columns at once using pd.concat(axis=1) instead.  To get a de-fragmented frame, use `newframe = frame.copy()`\n",
      "  dt_transformed[col] = 0\n",
      "\n"
     ]
    },
    {
     "name": "stdout",
     "output_type": "stream",
     "text": [
      "Accuracy:                                                                                                              \n",
      "0.8484848484848485                                                                                                     \n",
      "{'var_smoothing': 0.0004328761281083057}                                                                               \n",
      " 90%|███████████████████████████████████████████▏    | 9/10 [00:17<00:02,  2.00s/trial, best loss: -0.9071358748778104]"
     ]
    },
    {
     "name": "stderr",
     "output_type": "stream",
     "text": [
      "C:\\Users\\velmurug\\Documents\\full_stability\\transformers\\IndexBasedTransformer.py:58: PerformanceWarning: DataFrame is highly fragmented.  This is usually the result of calling `frame.insert` many times, which has poor performance.  Consider joining all columns at once using pd.concat(axis=1) instead.  To get a de-fragmented frame, use `newframe = frame.copy()`\n",
      "  dt_transformed[col] = 0\n",
      "\n"
     ]
    },
    {
     "name": "stdout",
     "output_type": "stream",
     "text": [
      "Accuracy:                                                                                                              \n",
      "0.7741935483870968                                                                                                     \n",
      " 90%|███████████████████████████████████████████▏    | 9/10 [00:18<00:02,  2.00s/trial, best loss: -0.9071358748778104]"
     ]
    },
    {
     "name": "stderr",
     "output_type": "stream",
     "text": [
      "C:\\Users\\velmurug\\Documents\\full_stability\\transformers\\IndexBasedTransformer.py:58: PerformanceWarning: DataFrame is highly fragmented.  This is usually the result of calling `frame.insert` many times, which has poor performance.  Consider joining all columns at once using pd.concat(axis=1) instead.  To get a de-fragmented frame, use `newframe = frame.copy()`\n",
      "  dt_transformed[col] = 0\n",
      "\n"
     ]
    },
    {
     "name": "stdout",
     "output_type": "stream",
     "text": [
      "Accuracy:                                                                                                              \n",
      "0.9032258064516129                                                                                                     \n",
      " 90%|███████████████████████████████████████████▏    | 9/10 [00:19<00:02,  2.00s/trial, best loss: -0.9071358748778104]"
     ]
    },
    {
     "name": "stderr",
     "output_type": "stream",
     "text": [
      "C:\\Users\\velmurug\\Documents\\full_stability\\transformers\\IndexBasedTransformer.py:58: PerformanceWarning: DataFrame is highly fragmented.  This is usually the result of calling `frame.insert` many times, which has poor performance.  Consider joining all columns at once using pd.concat(axis=1) instead.  To get a de-fragmented frame, use `newframe = frame.copy()`\n",
      "  dt_transformed[col] = 0\n",
      "\n"
     ]
    },
    {
     "name": "stdout",
     "output_type": "stream",
     "text": [
      "Accuracy:                                                                                                              \n",
      "0.8648648648648649                                                                                                     \n",
      "100%|███████████████████████████████████████████████| 10/10 [00:19<00:00,  1.99s/trial, best loss: -0.9071358748778104]\n",
      "Optimising 19 of 20 buckets\n",
      "{'var_smoothing': 0.0001}                                                                                              \n",
      "  0%|                                                                           | 0/10 [00:00<?, ?trial/s, best loss=?]"
     ]
    },
    {
     "name": "stderr",
     "output_type": "stream",
     "text": [
      "C:\\Users\\velmurug\\Documents\\full_stability\\transformers\\IndexBasedTransformer.py:58: PerformanceWarning: DataFrame is highly fragmented.  This is usually the result of calling `frame.insert` many times, which has poor performance.  Consider joining all columns at once using pd.concat(axis=1) instead.  To get a de-fragmented frame, use `newframe = frame.copy()`\n",
      "  dt_transformed[col] = 0\n",
      "\n"
     ]
    },
    {
     "name": "stdout",
     "output_type": "stream",
     "text": [
      "Accuracy:                                                                                                              \n",
      "0.9285714285714286                                                                                                     \n",
      "  0%|                                                                           | 0/10 [00:00<?, ?trial/s, best loss=?]"
     ]
    },
    {
     "name": "stderr",
     "output_type": "stream",
     "text": [
      "C:\\Users\\velmurug\\Documents\\full_stability\\transformers\\IndexBasedTransformer.py:58: PerformanceWarning: DataFrame is highly fragmented.  This is usually the result of calling `frame.insert` many times, which has poor performance.  Consider joining all columns at once using pd.concat(axis=1) instead.  To get a de-fragmented frame, use `newframe = frame.copy()`\n",
      "  dt_transformed[col] = 0\n",
      "\n"
     ]
    },
    {
     "name": "stdout",
     "output_type": "stream",
     "text": [
      "Accuracy:                                                                                                              \n",
      "0.967741935483871                                                                                                      \n",
      "  0%|                                                                           | 0/10 [00:01<?, ?trial/s, best loss=?]"
     ]
    },
    {
     "name": "stderr",
     "output_type": "stream",
     "text": [
      "C:\\Users\\velmurug\\Documents\\full_stability\\transformers\\IndexBasedTransformer.py:58: PerformanceWarning: DataFrame is highly fragmented.  This is usually the result of calling `frame.insert` many times, which has poor performance.  Consider joining all columns at once using pd.concat(axis=1) instead.  To get a de-fragmented frame, use `newframe = frame.copy()`\n",
      "  dt_transformed[col] = 0\n",
      "\n"
     ]
    },
    {
     "name": "stdout",
     "output_type": "stream",
     "text": [
      "Accuracy:                                                                                                              \n",
      "0.875                                                                                                                  \n",
      "{'var_smoothing': 0.004328761281083057}                                                                                \n",
      " 10%|████▊                                           | 1/10 [00:02<00:18,  2.03s/trial, best loss: -0.9237711213517666]"
     ]
    },
    {
     "name": "stderr",
     "output_type": "stream",
     "text": [
      "C:\\Users\\velmurug\\Documents\\full_stability\\transformers\\IndexBasedTransformer.py:58: PerformanceWarning: DataFrame is highly fragmented.  This is usually the result of calling `frame.insert` many times, which has poor performance.  Consider joining all columns at once using pd.concat(axis=1) instead.  To get a de-fragmented frame, use `newframe = frame.copy()`\n",
      "  dt_transformed[col] = 0\n",
      "\n"
     ]
    },
    {
     "name": "stdout",
     "output_type": "stream",
     "text": [
      "Accuracy:                                                                                                              \n",
      "0.896551724137931                                                                                                      \n",
      " 10%|████▊                                           | 1/10 [00:02<00:18,  2.03s/trial, best loss: -0.9237711213517666]"
     ]
    },
    {
     "name": "stderr",
     "output_type": "stream",
     "text": [
      "C:\\Users\\velmurug\\Documents\\full_stability\\transformers\\IndexBasedTransformer.py:58: PerformanceWarning: DataFrame is highly fragmented.  This is usually the result of calling `frame.insert` many times, which has poor performance.  Consider joining all columns at once using pd.concat(axis=1) instead.  To get a de-fragmented frame, use `newframe = frame.copy()`\n",
      "  dt_transformed[col] = 0\n",
      "\n"
     ]
    },
    {
     "name": "stdout",
     "output_type": "stream",
     "text": [
      "Accuracy:                                                                                                              \n",
      "0.9333333333333333                                                                                                     \n",
      " 10%|████▊                                           | 1/10 [00:03<00:18,  2.03s/trial, best loss: -0.9237711213517666]"
     ]
    },
    {
     "name": "stderr",
     "output_type": "stream",
     "text": [
      "C:\\Users\\velmurug\\Documents\\full_stability\\transformers\\IndexBasedTransformer.py:58: PerformanceWarning: DataFrame is highly fragmented.  This is usually the result of calling `frame.insert` many times, which has poor performance.  Consider joining all columns at once using pd.concat(axis=1) instead.  To get a de-fragmented frame, use `newframe = frame.copy()`\n",
      "  dt_transformed[col] = 0\n",
      "\n"
     ]
    },
    {
     "name": "stdout",
     "output_type": "stream",
     "text": [
      "Accuracy:                                                                                                              \n",
      "0.875                                                                                                                  \n",
      "{'var_smoothing': 0.001873817422860383}                                                                                \n",
      " 20%|█████████▌                                      | 2/10 [00:04<00:16,  2.05s/trial, best loss: -0.9237711213517666]"
     ]
    },
    {
     "name": "stderr",
     "output_type": "stream",
     "text": [
      "C:\\Users\\velmurug\\Documents\\full_stability\\transformers\\IndexBasedTransformer.py:58: PerformanceWarning: DataFrame is highly fragmented.  This is usually the result of calling `frame.insert` many times, which has poor performance.  Consider joining all columns at once using pd.concat(axis=1) instead.  To get a de-fragmented frame, use `newframe = frame.copy()`\n",
      "  dt_transformed[col] = 0\n",
      "\n"
     ]
    },
    {
     "name": "stdout",
     "output_type": "stream",
     "text": [
      "Accuracy:                                                                                                              \n",
      "0.9285714285714286                                                                                                     \n",
      " 20%|█████████▌                                      | 2/10 [00:04<00:16,  2.05s/trial, best loss: -0.9237711213517666]"
     ]
    },
    {
     "name": "stderr",
     "output_type": "stream",
     "text": [
      "C:\\Users\\velmurug\\Documents\\full_stability\\transformers\\IndexBasedTransformer.py:58: PerformanceWarning: DataFrame is highly fragmented.  This is usually the result of calling `frame.insert` many times, which has poor performance.  Consider joining all columns at once using pd.concat(axis=1) instead.  To get a de-fragmented frame, use `newframe = frame.copy()`\n",
      "  dt_transformed[col] = 0\n",
      "\n"
     ]
    },
    {
     "name": "stdout",
     "output_type": "stream",
     "text": [
      "Accuracy:                                                                                                              \n",
      "0.896551724137931                                                                                                      \n",
      " 20%|█████████▌                                      | 2/10 [00:05<00:16,  2.05s/trial, best loss: -0.9237711213517666]"
     ]
    },
    {
     "name": "stderr",
     "output_type": "stream",
     "text": [
      "C:\\Users\\velmurug\\Documents\\full_stability\\transformers\\IndexBasedTransformer.py:58: PerformanceWarning: DataFrame is highly fragmented.  This is usually the result of calling `frame.insert` many times, which has poor performance.  Consider joining all columns at once using pd.concat(axis=1) instead.  To get a de-fragmented frame, use `newframe = frame.copy()`\n",
      "  dt_transformed[col] = 0\n",
      "\n"
     ]
    },
    {
     "name": "stdout",
     "output_type": "stream",
     "text": [
      "Accuracy:                                                                                                              \n",
      "0.896551724137931                                                                                                      \n",
      "{'var_smoothing': 0.03511191734215131}                                                                                 \n",
      " 30%|██████████████▍                                 | 3/10 [00:06<00:14,  2.05s/trial, best loss: -0.9237711213517666]"
     ]
    },
    {
     "name": "stderr",
     "output_type": "stream",
     "text": [
      "C:\\Users\\velmurug\\Documents\\full_stability\\transformers\\IndexBasedTransformer.py:58: PerformanceWarning: DataFrame is highly fragmented.  This is usually the result of calling `frame.insert` many times, which has poor performance.  Consider joining all columns at once using pd.concat(axis=1) instead.  To get a de-fragmented frame, use `newframe = frame.copy()`\n",
      "  dt_transformed[col] = 0\n",
      "\n"
     ]
    },
    {
     "name": "stdout",
     "output_type": "stream",
     "text": [
      "Accuracy:                                                                                                              \n",
      "0.896551724137931                                                                                                      \n",
      " 30%|██████████████▍                                 | 3/10 [00:06<00:14,  2.05s/trial, best loss: -0.9237711213517666]"
     ]
    },
    {
     "name": "stderr",
     "output_type": "stream",
     "text": [
      "C:\\Users\\velmurug\\Documents\\full_stability\\transformers\\IndexBasedTransformer.py:58: PerformanceWarning: DataFrame is highly fragmented.  This is usually the result of calling `frame.insert` many times, which has poor performance.  Consider joining all columns at once using pd.concat(axis=1) instead.  To get a de-fragmented frame, use `newframe = frame.copy()`\n",
      "  dt_transformed[col] = 0\n",
      "\n"
     ]
    },
    {
     "name": "stdout",
     "output_type": "stream",
     "text": [
      "Accuracy:                                                                                                              \n",
      "0.8                                                                                                                    \n",
      " 30%|██████████████▍                                 | 3/10 [00:07<00:14,  2.05s/trial, best loss: -0.9237711213517666]"
     ]
    },
    {
     "name": "stderr",
     "output_type": "stream",
     "text": [
      "C:\\Users\\velmurug\\Documents\\full_stability\\transformers\\IndexBasedTransformer.py:58: PerformanceWarning: DataFrame is highly fragmented.  This is usually the result of calling `frame.insert` many times, which has poor performance.  Consider joining all columns at once using pd.concat(axis=1) instead.  To get a de-fragmented frame, use `newframe = frame.copy()`\n",
      "  dt_transformed[col] = 0\n",
      "\n"
     ]
    },
    {
     "name": "stdout",
     "output_type": "stream",
     "text": [
      "Accuracy:                                                                                                              \n",
      "0.8666666666666666                                                                                                     \n",
      "{'var_smoothing': 0.0533669923120631}                                                                                  \n",
      " 40%|███████████████████▏                            | 4/10 [00:08<00:12,  2.07s/trial, best loss: -0.9237711213517666]"
     ]
    },
    {
     "name": "stderr",
     "output_type": "stream",
     "text": [
      "C:\\Users\\velmurug\\Documents\\full_stability\\transformers\\IndexBasedTransformer.py:58: PerformanceWarning: DataFrame is highly fragmented.  This is usually the result of calling `frame.insert` many times, which has poor performance.  Consider joining all columns at once using pd.concat(axis=1) instead.  To get a de-fragmented frame, use `newframe = frame.copy()`\n",
      "  dt_transformed[col] = 0\n",
      "\n"
     ]
    },
    {
     "name": "stdout",
     "output_type": "stream",
     "text": [
      "Accuracy:                                                                                                              \n",
      "1.0                                                                                                                    \n",
      " 40%|███████████████████▏                            | 4/10 [00:08<00:12,  2.07s/trial, best loss: -0.9237711213517666]"
     ]
    },
    {
     "name": "stderr",
     "output_type": "stream",
     "text": [
      "C:\\Users\\velmurug\\Documents\\full_stability\\transformers\\IndexBasedTransformer.py:58: PerformanceWarning: DataFrame is highly fragmented.  This is usually the result of calling `frame.insert` many times, which has poor performance.  Consider joining all columns at once using pd.concat(axis=1) instead.  To get a de-fragmented frame, use `newframe = frame.copy()`\n",
      "  dt_transformed[col] = 0\n",
      "\n"
     ]
    },
    {
     "name": "stdout",
     "output_type": "stream",
     "text": [
      "Accuracy:                                                                                                              \n",
      "0.7499999999999999                                                                                                     \n",
      " 40%|███████████████████▏                            | 4/10 [00:09<00:12,  2.07s/trial, best loss: -0.9237711213517666]"
     ]
    },
    {
     "name": "stderr",
     "output_type": "stream",
     "text": [
      "C:\\Users\\velmurug\\Documents\\full_stability\\transformers\\IndexBasedTransformer.py:58: PerformanceWarning: DataFrame is highly fragmented.  This is usually the result of calling `frame.insert` many times, which has poor performance.  Consider joining all columns at once using pd.concat(axis=1) instead.  To get a de-fragmented frame, use `newframe = frame.copy()`\n",
      "  dt_transformed[col] = 0\n",
      "\n"
     ]
    },
    {
     "name": "stdout",
     "output_type": "stream",
     "text": [
      "Accuracy:                                                                                                              \n",
      "0.9333333333333333                                                                                                     \n",
      "{'var_smoothing': 8.111308307896872e-07}                                                                               \n",
      " 50%|████████████████████████                        | 5/10 [00:10<00:10,  2.08s/trial, best loss: -0.9237711213517666]"
     ]
    },
    {
     "name": "stderr",
     "output_type": "stream",
     "text": [
      "C:\\Users\\velmurug\\Documents\\full_stability\\transformers\\IndexBasedTransformer.py:58: PerformanceWarning: DataFrame is highly fragmented.  This is usually the result of calling `frame.insert` many times, which has poor performance.  Consider joining all columns at once using pd.concat(axis=1) instead.  To get a de-fragmented frame, use `newframe = frame.copy()`\n",
      "  dt_transformed[col] = 0\n",
      "\n"
     ]
    },
    {
     "name": "stdout",
     "output_type": "stream",
     "text": [
      "Accuracy:                                                                                                              \n",
      "0.896551724137931                                                                                                      \n",
      " 50%|████████████████████████                        | 5/10 [00:11<00:10,  2.08s/trial, best loss: -0.9237711213517666]"
     ]
    },
    {
     "name": "stderr",
     "output_type": "stream",
     "text": [
      "C:\\Users\\velmurug\\Documents\\full_stability\\transformers\\IndexBasedTransformer.py:58: PerformanceWarning: DataFrame is highly fragmented.  This is usually the result of calling `frame.insert` many times, which has poor performance.  Consider joining all columns at once using pd.concat(axis=1) instead.  To get a de-fragmented frame, use `newframe = frame.copy()`\n",
      "  dt_transformed[col] = 0\n",
      "\n"
     ]
    },
    {
     "name": "stdout",
     "output_type": "stream",
     "text": [
      "Accuracy:                                                                                                              \n",
      "0.846153846153846                                                                                                      \n",
      " 50%|████████████████████████                        | 5/10 [00:11<00:10,  2.08s/trial, best loss: -0.9237711213517666]"
     ]
    },
    {
     "name": "stderr",
     "output_type": "stream",
     "text": [
      "C:\\Users\\velmurug\\Documents\\full_stability\\transformers\\IndexBasedTransformer.py:58: PerformanceWarning: DataFrame is highly fragmented.  This is usually the result of calling `frame.insert` many times, which has poor performance.  Consider joining all columns at once using pd.concat(axis=1) instead.  To get a de-fragmented frame, use `newframe = frame.copy()`\n",
      "  dt_transformed[col] = 0\n",
      "\n"
     ]
    },
    {
     "name": "stdout",
     "output_type": "stream",
     "text": [
      "Accuracy:                                                                                                              \n",
      "0.8275862068965517                                                                                                     \n",
      "{'var_smoothing': 1.873817422860387e-09}                                                                               \n",
      " 60%|████████████████████████████▊                   | 6/10 [00:12<00:08,  2.06s/trial, best loss: -0.9237711213517666]"
     ]
    },
    {
     "name": "stderr",
     "output_type": "stream",
     "text": [
      "C:\\Users\\velmurug\\Documents\\full_stability\\transformers\\IndexBasedTransformer.py:58: PerformanceWarning: DataFrame is highly fragmented.  This is usually the result of calling `frame.insert` many times, which has poor performance.  Consider joining all columns at once using pd.concat(axis=1) instead.  To get a de-fragmented frame, use `newframe = frame.copy()`\n",
      "  dt_transformed[col] = 0\n",
      "\n"
     ]
    },
    {
     "name": "stdout",
     "output_type": "stream",
     "text": [
      "Accuracy:                                                                                                              \n",
      "0.8148148148148148                                                                                                     \n",
      " 60%|████████████████████████████▊                   | 6/10 [00:13<00:08,  2.06s/trial, best loss: -0.9237711213517666]"
     ]
    },
    {
     "name": "stderr",
     "output_type": "stream",
     "text": [
      "C:\\Users\\velmurug\\Documents\\full_stability\\transformers\\IndexBasedTransformer.py:58: PerformanceWarning: DataFrame is highly fragmented.  This is usually the result of calling `frame.insert` many times, which has poor performance.  Consider joining all columns at once using pd.concat(axis=1) instead.  To get a de-fragmented frame, use `newframe = frame.copy()`\n",
      "  dt_transformed[col] = 0\n",
      "\n"
     ]
    },
    {
     "name": "stdout",
     "output_type": "stream",
     "text": [
      "Accuracy:                                                                                                              \n",
      "0.846153846153846                                                                                                      \n",
      " 60%|████████████████████████████▊                   | 6/10 [00:13<00:08,  2.06s/trial, best loss: -0.9237711213517666]"
     ]
    },
    {
     "name": "stderr",
     "output_type": "stream",
     "text": [
      "C:\\Users\\velmurug\\Documents\\full_stability\\transformers\\IndexBasedTransformer.py:58: PerformanceWarning: DataFrame is highly fragmented.  This is usually the result of calling `frame.insert` many times, which has poor performance.  Consider joining all columns at once using pd.concat(axis=1) instead.  To get a de-fragmented frame, use `newframe = frame.copy()`\n",
      "  dt_transformed[col] = 0\n",
      "\n"
     ]
    },
    {
     "name": "stdout",
     "output_type": "stream",
     "text": [
      "Accuracy:                                                                                                              \n",
      "0.9032258064516129                                                                                                     \n",
      "{'var_smoothing': 0.533669923120631}                                                                                   \n",
      " 70%|█████████████████████████████████▌              | 7/10 [00:14<00:06,  2.07s/trial, best loss: -0.9237711213517666]"
     ]
    },
    {
     "name": "stderr",
     "output_type": "stream",
     "text": [
      "C:\\Users\\velmurug\\Documents\\full_stability\\transformers\\IndexBasedTransformer.py:58: PerformanceWarning: DataFrame is highly fragmented.  This is usually the result of calling `frame.insert` many times, which has poor performance.  Consider joining all columns at once using pd.concat(axis=1) instead.  To get a de-fragmented frame, use `newframe = frame.copy()`\n",
      "  dt_transformed[col] = 0\n",
      "\n"
     ]
    },
    {
     "name": "stdout",
     "output_type": "stream",
     "text": [
      "Accuracy:                                                                                                              \n",
      "0.7499999999999999                                                                                                     \n",
      " 70%|█████████████████████████████████▌              | 7/10 [00:15<00:06,  2.07s/trial, best loss: -0.9237711213517666]"
     ]
    },
    {
     "name": "stderr",
     "output_type": "stream",
     "text": [
      "C:\\Users\\velmurug\\Documents\\full_stability\\transformers\\IndexBasedTransformer.py:58: PerformanceWarning: DataFrame is highly fragmented.  This is usually the result of calling `frame.insert` many times, which has poor performance.  Consider joining all columns at once using pd.concat(axis=1) instead.  To get a de-fragmented frame, use `newframe = frame.copy()`\n",
      "  dt_transformed[col] = 0\n",
      "\n"
     ]
    },
    {
     "name": "stdout",
     "output_type": "stream",
     "text": [
      "Accuracy:                                                                                                              \n",
      "0.8                                                                                                                    \n",
      " 70%|█████████████████████████████████▌              | 7/10 [00:15<00:06,  2.07s/trial, best loss: -0.9237711213517666]"
     ]
    },
    {
     "name": "stderr",
     "output_type": "stream",
     "text": [
      "C:\\Users\\velmurug\\Documents\\full_stability\\transformers\\IndexBasedTransformer.py:58: PerformanceWarning: DataFrame is highly fragmented.  This is usually the result of calling `frame.insert` many times, which has poor performance.  Consider joining all columns at once using pd.concat(axis=1) instead.  To get a de-fragmented frame, use `newframe = frame.copy()`\n",
      "  dt_transformed[col] = 0\n",
      "\n"
     ]
    },
    {
     "name": "stdout",
     "output_type": "stream",
     "text": [
      "Accuracy:                                                                                                              \n",
      "1.0                                                                                                                    \n",
      "{'var_smoothing': 1.2328467394420658e-05}                                                                              \n",
      " 80%|██████████████████████████████████████▍         | 8/10 [00:16<00:04,  2.08s/trial, best loss: -0.9237711213517666]"
     ]
    },
    {
     "name": "stderr",
     "output_type": "stream",
     "text": [
      "C:\\Users\\velmurug\\Documents\\full_stability\\transformers\\IndexBasedTransformer.py:58: PerformanceWarning: DataFrame is highly fragmented.  This is usually the result of calling `frame.insert` many times, which has poor performance.  Consider joining all columns at once using pd.concat(axis=1) instead.  To get a de-fragmented frame, use `newframe = frame.copy()`\n",
      "  dt_transformed[col] = 0\n",
      "\n"
     ]
    },
    {
     "name": "stdout",
     "output_type": "stream",
     "text": [
      "Accuracy:                                                                                                              \n",
      "0.8275862068965518                                                                                                     \n",
      " 80%|██████████████████████████████████████▍         | 8/10 [00:17<00:04,  2.08s/trial, best loss: -0.9237711213517666]"
     ]
    },
    {
     "name": "stderr",
     "output_type": "stream",
     "text": [
      "C:\\Users\\velmurug\\Documents\\full_stability\\transformers\\IndexBasedTransformer.py:58: PerformanceWarning: DataFrame is highly fragmented.  This is usually the result of calling `frame.insert` many times, which has poor performance.  Consider joining all columns at once using pd.concat(axis=1) instead.  To get a de-fragmented frame, use `newframe = frame.copy()`\n",
      "  dt_transformed[col] = 0\n",
      "\n"
     ]
    },
    {
     "name": "stdout",
     "output_type": "stream",
     "text": [
      "Accuracy:                                                                                                              \n",
      "0.9655172413793104                                                                                                     \n",
      " 80%|██████████████████████████████████████▍         | 8/10 [00:18<00:04,  2.08s/trial, best loss: -0.9237711213517666]"
     ]
    },
    {
     "name": "stderr",
     "output_type": "stream",
     "text": [
      "C:\\Users\\velmurug\\Documents\\full_stability\\transformers\\IndexBasedTransformer.py:58: PerformanceWarning: DataFrame is highly fragmented.  This is usually the result of calling `frame.insert` many times, which has poor performance.  Consider joining all columns at once using pd.concat(axis=1) instead.  To get a de-fragmented frame, use `newframe = frame.copy()`\n",
      "  dt_transformed[col] = 0\n",
      "\n"
     ]
    },
    {
     "name": "stdout",
     "output_type": "stream",
     "text": [
      "Accuracy:                                                                                                              \n",
      "0.896551724137931                                                                                                      \n",
      "{'var_smoothing': 0.657933224657568}                                                                                   \n",
      " 90%|███████████████████████████████████████████▏    | 9/10 [00:18<00:02,  2.10s/trial, best loss: -0.9237711213517666]"
     ]
    },
    {
     "name": "stderr",
     "output_type": "stream",
     "text": [
      "C:\\Users\\velmurug\\Documents\\full_stability\\transformers\\IndexBasedTransformer.py:58: PerformanceWarning: DataFrame is highly fragmented.  This is usually the result of calling `frame.insert` many times, which has poor performance.  Consider joining all columns at once using pd.concat(axis=1) instead.  To get a de-fragmented frame, use `newframe = frame.copy()`\n",
      "  dt_transformed[col] = 0\n",
      "\n"
     ]
    },
    {
     "name": "stdout",
     "output_type": "stream",
     "text": [
      "Accuracy:                                                                                                              \n",
      "0.888888888888889                                                                                                      \n",
      " 90%|███████████████████████████████████████████▏    | 9/10 [00:19<00:02,  2.10s/trial, best loss: -0.9237711213517666]"
     ]
    },
    {
     "name": "stderr",
     "output_type": "stream",
     "text": [
      "C:\\Users\\velmurug\\Documents\\full_stability\\transformers\\IndexBasedTransformer.py:58: PerformanceWarning: DataFrame is highly fragmented.  This is usually the result of calling `frame.insert` many times, which has poor performance.  Consider joining all columns at once using pd.concat(axis=1) instead.  To get a de-fragmented frame, use `newframe = frame.copy()`\n",
      "  dt_transformed[col] = 0\n",
      "\n"
     ]
    },
    {
     "name": "stdout",
     "output_type": "stream",
     "text": [
      "Accuracy:                                                                                                              \n",
      "0.6363636363636364                                                                                                     \n",
      " 90%|███████████████████████████████████████████▏    | 9/10 [00:20<00:02,  2.10s/trial, best loss: -0.9237711213517666]"
     ]
    },
    {
     "name": "stderr",
     "output_type": "stream",
     "text": [
      "C:\\Users\\velmurug\\Documents\\full_stability\\transformers\\IndexBasedTransformer.py:58: PerformanceWarning: DataFrame is highly fragmented.  This is usually the result of calling `frame.insert` many times, which has poor performance.  Consider joining all columns at once using pd.concat(axis=1) instead.  To get a de-fragmented frame, use `newframe = frame.copy()`\n",
      "  dt_transformed[col] = 0\n",
      "\n"
     ]
    },
    {
     "name": "stdout",
     "output_type": "stream",
     "text": [
      "Accuracy:                                                                                                              \n",
      "0.896551724137931                                                                                                      \n",
      "100%|███████████████████████████████████████████████| 10/10 [00:20<00:00,  2.09s/trial, best loss: -0.9237711213517666]\n",
      "Optimising 20 of 20 buckets\n",
      "{'var_smoothing': 1.519911082952933e-06}                                                                               \n",
      "  0%|                                                                           | 0/10 [00:00<?, ?trial/s, best loss=?]"
     ]
    },
    {
     "name": "stderr",
     "output_type": "stream",
     "text": [
      "C:\\Users\\velmurug\\Documents\\full_stability\\transformers\\IndexBasedTransformer.py:58: PerformanceWarning: DataFrame is highly fragmented.  This is usually the result of calling `frame.insert` many times, which has poor performance.  Consider joining all columns at once using pd.concat(axis=1) instead.  To get a de-fragmented frame, use `newframe = frame.copy()`\n",
      "  dt_transformed[col] = 0\n",
      "\n"
     ]
    },
    {
     "name": "stdout",
     "output_type": "stream",
     "text": [
      "Accuracy:                                                                                                              \n",
      "0.8                                                                                                                    \n",
      "  0%|                                                                           | 0/10 [00:00<?, ?trial/s, best loss=?]"
     ]
    },
    {
     "name": "stderr",
     "output_type": "stream",
     "text": [
      "C:\\Users\\velmurug\\Documents\\full_stability\\transformers\\IndexBasedTransformer.py:58: PerformanceWarning: DataFrame is highly fragmented.  This is usually the result of calling `frame.insert` many times, which has poor performance.  Consider joining all columns at once using pd.concat(axis=1) instead.  To get a de-fragmented frame, use `newframe = frame.copy()`\n",
      "  dt_transformed[col] = 0\n",
      "\n"
     ]
    },
    {
     "name": "stdout",
     "output_type": "stream",
     "text": [
      "Accuracy:                                                                                                              \n",
      "0.9333333333333333                                                                                                     \n",
      "  0%|                                                                           | 0/10 [00:01<?, ?trial/s, best loss=?]"
     ]
    },
    {
     "name": "stderr",
     "output_type": "stream",
     "text": [
      "C:\\Users\\velmurug\\Documents\\full_stability\\transformers\\IndexBasedTransformer.py:58: PerformanceWarning: DataFrame is highly fragmented.  This is usually the result of calling `frame.insert` many times, which has poor performance.  Consider joining all columns at once using pd.concat(axis=1) instead.  To get a de-fragmented frame, use `newframe = frame.copy()`\n",
      "  dt_transformed[col] = 0\n",
      "\n"
     ]
    },
    {
     "name": "stdout",
     "output_type": "stream",
     "text": [
      "Accuracy:                                                                                                              \n",
      "0.9333333333333333                                                                                                     \n",
      "{'var_smoothing': 0.006579332246575682}                                                                                \n",
      " 10%|████▉                                            | 1/10 [00:02<00:19,  2.17s/trial, best loss: -0.888888888888889]"
     ]
    },
    {
     "name": "stderr",
     "output_type": "stream",
     "text": [
      "C:\\Users\\velmurug\\Documents\\full_stability\\transformers\\IndexBasedTransformer.py:58: PerformanceWarning: DataFrame is highly fragmented.  This is usually the result of calling `frame.insert` many times, which has poor performance.  Consider joining all columns at once using pd.concat(axis=1) instead.  To get a de-fragmented frame, use `newframe = frame.copy()`\n",
      "  dt_transformed[col] = 0\n",
      "\n"
     ]
    },
    {
     "name": "stdout",
     "output_type": "stream",
     "text": [
      "Accuracy:                                                                                                              \n",
      "0.846153846153846                                                                                                      \n",
      " 10%|████▉                                            | 1/10 [00:02<00:19,  2.17s/trial, best loss: -0.888888888888889]"
     ]
    },
    {
     "name": "stderr",
     "output_type": "stream",
     "text": [
      "C:\\Users\\velmurug\\Documents\\full_stability\\transformers\\IndexBasedTransformer.py:58: PerformanceWarning: DataFrame is highly fragmented.  This is usually the result of calling `frame.insert` many times, which has poor performance.  Consider joining all columns at once using pd.concat(axis=1) instead.  To get a de-fragmented frame, use `newframe = frame.copy()`\n",
      "  dt_transformed[col] = 0\n",
      "\n"
     ]
    },
    {
     "name": "stdout",
     "output_type": "stream",
     "text": [
      "Accuracy:                                                                                                              \n",
      "0.8                                                                                                                    \n",
      " 10%|████▉                                            | 1/10 [00:03<00:19,  2.17s/trial, best loss: -0.888888888888889]"
     ]
    },
    {
     "name": "stderr",
     "output_type": "stream",
     "text": [
      "C:\\Users\\velmurug\\Documents\\full_stability\\transformers\\IndexBasedTransformer.py:58: PerformanceWarning: DataFrame is highly fragmented.  This is usually the result of calling `frame.insert` many times, which has poor performance.  Consider joining all columns at once using pd.concat(axis=1) instead.  To get a de-fragmented frame, use `newframe = frame.copy()`\n",
      "  dt_transformed[col] = 0\n",
      "\n"
     ]
    },
    {
     "name": "stdout",
     "output_type": "stream",
     "text": [
      "Accuracy:                                                                                                              \n",
      "0.9032258064516129                                                                                                     \n",
      "{'var_smoothing': 2.848035868435799e-06}                                                                               \n",
      " 20%|█████████▊                                       | 2/10 [00:04<00:17,  2.18s/trial, best loss: -0.888888888888889]"
     ]
    },
    {
     "name": "stderr",
     "output_type": "stream",
     "text": [
      "C:\\Users\\velmurug\\Documents\\full_stability\\transformers\\IndexBasedTransformer.py:58: PerformanceWarning: DataFrame is highly fragmented.  This is usually the result of calling `frame.insert` many times, which has poor performance.  Consider joining all columns at once using pd.concat(axis=1) instead.  To get a de-fragmented frame, use `newframe = frame.copy()`\n",
      "  dt_transformed[col] = 0\n",
      "\n"
     ]
    },
    {
     "name": "stdout",
     "output_type": "stream",
     "text": [
      "Accuracy:                                                                                                              \n",
      "0.9285714285714286                                                                                                     \n",
      " 20%|█████████▊                                       | 2/10 [00:05<00:17,  2.18s/trial, best loss: -0.888888888888889]"
     ]
    },
    {
     "name": "stderr",
     "output_type": "stream",
     "text": [
      "C:\\Users\\velmurug\\Documents\\full_stability\\transformers\\IndexBasedTransformer.py:58: PerformanceWarning: DataFrame is highly fragmented.  This is usually the result of calling `frame.insert` many times, which has poor performance.  Consider joining all columns at once using pd.concat(axis=1) instead.  To get a de-fragmented frame, use `newframe = frame.copy()`\n",
      "  dt_transformed[col] = 0\n",
      "\n"
     ]
    },
    {
     "name": "stdout",
     "output_type": "stream",
     "text": [
      "Accuracy:                                                                                                              \n",
      "0.9655172413793104                                                                                                     \n",
      " 20%|█████████▊                                       | 2/10 [00:05<00:17,  2.18s/trial, best loss: -0.888888888888889]"
     ]
    },
    {
     "name": "stderr",
     "output_type": "stream",
     "text": [
      "C:\\Users\\velmurug\\Documents\\full_stability\\transformers\\IndexBasedTransformer.py:58: PerformanceWarning: DataFrame is highly fragmented.  This is usually the result of calling `frame.insert` many times, which has poor performance.  Consider joining all columns at once using pd.concat(axis=1) instead.  To get a de-fragmented frame, use `newframe = frame.copy()`\n",
      "  dt_transformed[col] = 0\n",
      "\n"
     ]
    },
    {
     "name": "stdout",
     "output_type": "stream",
     "text": [
      "Accuracy:                                                                                                              \n",
      "0.9333333333333333                                                                                                     \n",
      "{'var_smoothing': 1.873817422860383e-07}                                                                               \n",
      " 30%|██████████████▍                                 | 3/10 [00:06<00:15,  2.22s/trial, best loss: -0.9424740010946907]"
     ]
    },
    {
     "name": "stderr",
     "output_type": "stream",
     "text": [
      "C:\\Users\\velmurug\\Documents\\full_stability\\transformers\\IndexBasedTransformer.py:58: PerformanceWarning: DataFrame is highly fragmented.  This is usually the result of calling `frame.insert` many times, which has poor performance.  Consider joining all columns at once using pd.concat(axis=1) instead.  To get a de-fragmented frame, use `newframe = frame.copy()`\n",
      "  dt_transformed[col] = 0\n",
      "\n"
     ]
    },
    {
     "name": "stdout",
     "output_type": "stream",
     "text": [
      "Accuracy:                                                                                                              \n",
      "0.8148148148148148                                                                                                     \n",
      " 30%|██████████████▍                                 | 3/10 [00:07<00:15,  2.22s/trial, best loss: -0.9424740010946907]"
     ]
    },
    {
     "name": "stderr",
     "output_type": "stream",
     "text": [
      "C:\\Users\\velmurug\\Documents\\full_stability\\transformers\\IndexBasedTransformer.py:58: PerformanceWarning: DataFrame is highly fragmented.  This is usually the result of calling `frame.insert` many times, which has poor performance.  Consider joining all columns at once using pd.concat(axis=1) instead.  To get a de-fragmented frame, use `newframe = frame.copy()`\n",
      "  dt_transformed[col] = 0\n",
      "\n"
     ]
    },
    {
     "name": "stdout",
     "output_type": "stream",
     "text": [
      "Accuracy:                                                                                                              \n",
      "0.896551724137931                                                                                                      \n",
      " 30%|██████████████▍                                 | 3/10 [00:08<00:15,  2.22s/trial, best loss: -0.9424740010946907]"
     ]
    },
    {
     "name": "stderr",
     "output_type": "stream",
     "text": [
      "C:\\Users\\velmurug\\Documents\\full_stability\\transformers\\IndexBasedTransformer.py:58: PerformanceWarning: DataFrame is highly fragmented.  This is usually the result of calling `frame.insert` many times, which has poor performance.  Consider joining all columns at once using pd.concat(axis=1) instead.  To get a de-fragmented frame, use `newframe = frame.copy()`\n",
      "  dt_transformed[col] = 0\n",
      "\n"
     ]
    },
    {
     "name": "stdout",
     "output_type": "stream",
     "text": [
      "Accuracy:                                                                                                              \n",
      "0.8387096774193549                                                                                                     \n",
      "{'var_smoothing': 3.511191734215127e-05}                                                                               \n",
      " 40%|███████████████████▏                            | 4/10 [00:09<00:13,  2.27s/trial, best loss: -0.9424740010946907]"
     ]
    },
    {
     "name": "stderr",
     "output_type": "stream",
     "text": [
      "C:\\Users\\velmurug\\Documents\\full_stability\\transformers\\IndexBasedTransformer.py:58: PerformanceWarning: DataFrame is highly fragmented.  This is usually the result of calling `frame.insert` many times, which has poor performance.  Consider joining all columns at once using pd.concat(axis=1) instead.  To get a de-fragmented frame, use `newframe = frame.copy()`\n",
      "  dt_transformed[col] = 0\n",
      "\n"
     ]
    },
    {
     "name": "stdout",
     "output_type": "stream",
     "text": [
      "Accuracy:                                                                                                              \n",
      "0.888888888888889                                                                                                      \n",
      " 40%|███████████████████▏                            | 4/10 [00:09<00:13,  2.27s/trial, best loss: -0.9424740010946907]"
     ]
    },
    {
     "name": "stderr",
     "output_type": "stream",
     "text": [
      "C:\\Users\\velmurug\\Documents\\full_stability\\transformers\\IndexBasedTransformer.py:58: PerformanceWarning: DataFrame is highly fragmented.  This is usually the result of calling `frame.insert` many times, which has poor performance.  Consider joining all columns at once using pd.concat(axis=1) instead.  To get a de-fragmented frame, use `newframe = frame.copy()`\n",
      "  dt_transformed[col] = 0\n",
      "\n"
     ]
    },
    {
     "name": "stdout",
     "output_type": "stream",
     "text": [
      "Accuracy:                                                                                                              \n",
      "0.888888888888889                                                                                                      \n",
      " 40%|███████████████████▏                            | 4/10 [00:10<00:13,  2.27s/trial, best loss: -0.9424740010946907]"
     ]
    },
    {
     "name": "stderr",
     "output_type": "stream",
     "text": [
      "C:\\Users\\velmurug\\Documents\\full_stability\\transformers\\IndexBasedTransformer.py:58: PerformanceWarning: DataFrame is highly fragmented.  This is usually the result of calling `frame.insert` many times, which has poor performance.  Consider joining all columns at once using pd.concat(axis=1) instead.  To get a de-fragmented frame, use `newframe = frame.copy()`\n",
      "  dt_transformed[col] = 0\n",
      "\n"
     ]
    },
    {
     "name": "stdout",
     "output_type": "stream",
     "text": [
      "Accuracy:                                                                                                              \n",
      "0.8571428571428571                                                                                                     \n",
      "{'var_smoothing': 1.232846739442066e-08}                                                                               \n",
      " 50%|████████████████████████                        | 5/10 [00:11<00:11,  2.24s/trial, best loss: -0.9424740010946907]"
     ]
    },
    {
     "name": "stderr",
     "output_type": "stream",
     "text": [
      "C:\\Users\\velmurug\\Documents\\full_stability\\transformers\\IndexBasedTransformer.py:58: PerformanceWarning: DataFrame is highly fragmented.  This is usually the result of calling `frame.insert` many times, which has poor performance.  Consider joining all columns at once using pd.concat(axis=1) instead.  To get a de-fragmented frame, use `newframe = frame.copy()`\n",
      "  dt_transformed[col] = 0\n",
      "\n"
     ]
    },
    {
     "name": "stdout",
     "output_type": "stream",
     "text": [
      "Accuracy:                                                                                                              \n",
      "0.846153846153846                                                                                                      \n",
      " 50%|████████████████████████                        | 5/10 [00:11<00:11,  2.24s/trial, best loss: -0.9424740010946907]"
     ]
    },
    {
     "name": "stderr",
     "output_type": "stream",
     "text": [
      "C:\\Users\\velmurug\\Documents\\full_stability\\transformers\\IndexBasedTransformer.py:58: PerformanceWarning: DataFrame is highly fragmented.  This is usually the result of calling `frame.insert` many times, which has poor performance.  Consider joining all columns at once using pd.concat(axis=1) instead.  To get a de-fragmented frame, use `newframe = frame.copy()`\n",
      "  dt_transformed[col] = 0\n",
      "\n"
     ]
    },
    {
     "name": "stdout",
     "output_type": "stream",
     "text": [
      "Accuracy:                                                                                                              \n",
      "0.896551724137931                                                                                                      \n",
      " 50%|████████████████████████                        | 5/10 [00:12<00:11,  2.24s/trial, best loss: -0.9424740010946907]"
     ]
    },
    {
     "name": "stderr",
     "output_type": "stream",
     "text": [
      "C:\\Users\\velmurug\\Documents\\full_stability\\transformers\\IndexBasedTransformer.py:58: PerformanceWarning: DataFrame is highly fragmented.  This is usually the result of calling `frame.insert` many times, which has poor performance.  Consider joining all columns at once using pd.concat(axis=1) instead.  To get a de-fragmented frame, use `newframe = frame.copy()`\n",
      "  dt_transformed[col] = 0\n",
      "\n"
     ]
    },
    {
     "name": "stdout",
     "output_type": "stream",
     "text": [
      "Accuracy:                                                                                                              \n",
      "0.8275862068965517                                                                                                     \n",
      "{'var_smoothing': 1.519911082952933e-06}                                                                               \n",
      " 60%|████████████████████████████▊                   | 6/10 [00:13<00:08,  2.21s/trial, best loss: -0.9424740010946907]"
     ]
    },
    {
     "name": "stderr",
     "output_type": "stream",
     "text": [
      "C:\\Users\\velmurug\\Documents\\full_stability\\transformers\\IndexBasedTransformer.py:58: PerformanceWarning: DataFrame is highly fragmented.  This is usually the result of calling `frame.insert` many times, which has poor performance.  Consider joining all columns at once using pd.concat(axis=1) instead.  To get a de-fragmented frame, use `newframe = frame.copy()`\n",
      "  dt_transformed[col] = 0\n",
      "\n"
     ]
    },
    {
     "name": "stdout",
     "output_type": "stream",
     "text": [
      "Accuracy:                                                                                                              \n",
      "0.846153846153846                                                                                                      \n",
      "Accuracy:                                                                                                              \n",
      "0.9285714285714286                                                                                                     \n",
      " 60%|████████████████████████████▊                   | 6/10 [00:14<00:08,  2.21s/trial, best loss: -0.9424740010946907]"
     ]
    },
    {
     "name": "stderr",
     "output_type": "stream",
     "text": [
      "C:\\Users\\velmurug\\Documents\\full_stability\\transformers\\IndexBasedTransformer.py:58: PerformanceWarning: DataFrame is highly fragmented.  This is usually the result of calling `frame.insert` many times, which has poor performance.  Consider joining all columns at once using pd.concat(axis=1) instead.  To get a de-fragmented frame, use `newframe = frame.copy()`\n",
      "  dt_transformed[col] = 0\n",
      "\n"
     ]
    },
    {
     "name": "stdout",
     "output_type": "stream",
     "text": [
      "Accuracy:                                                                                                              \n",
      "0.7857142857142857                                                                                                     \n",
      "{'var_smoothing': 1.232846739442066e-08}                                                                               \n",
      " 70%|█████████████████████████████████▌              | 7/10 [00:15<00:06,  2.22s/trial, best loss: -0.9424740010946907]"
     ]
    },
    {
     "name": "stderr",
     "output_type": "stream",
     "text": [
      "C:\\Users\\velmurug\\Documents\\full_stability\\transformers\\IndexBasedTransformer.py:58: PerformanceWarning: DataFrame is highly fragmented.  This is usually the result of calling `frame.insert` many times, which has poor performance.  Consider joining all columns at once using pd.concat(axis=1) instead.  To get a de-fragmented frame, use `newframe = frame.copy()`\n",
      "  dt_transformed[col] = 0\n",
      "\n"
     ]
    },
    {
     "name": "stdout",
     "output_type": "stream",
     "text": [
      "Accuracy:                                                                                                              \n",
      "0.9285714285714286                                                                                                     \n",
      "Accuracy:                                                                                                              \n",
      "0.896551724137931                                                                                                      \n",
      " 70%|█████████████████████████████████▌              | 7/10 [00:17<00:06,  2.22s/trial, best loss: -0.9424740010946907]"
     ]
    },
    {
     "name": "stderr",
     "output_type": "stream",
     "text": [
      "C:\\Users\\velmurug\\Documents\\full_stability\\transformers\\IndexBasedTransformer.py:58: PerformanceWarning: DataFrame is highly fragmented.  This is usually the result of calling `frame.insert` many times, which has poor performance.  Consider joining all columns at once using pd.concat(axis=1) instead.  To get a de-fragmented frame, use `newframe = frame.copy()`\n",
      "  dt_transformed[col] = 0\n",
      "\n"
     ]
    },
    {
     "name": "stdout",
     "output_type": "stream",
     "text": [
      "Accuracy:                                                                                                              \n",
      "0.8571428571428571                                                                                                     \n",
      "{'var_smoothing': 0.23101297000831597}                                                                                 \n",
      " 80%|██████████████████████████████████████▍         | 8/10 [00:17<00:04,  2.22s/trial, best loss: -0.9424740010946907]"
     ]
    },
    {
     "name": "stderr",
     "output_type": "stream",
     "text": [
      "C:\\Users\\velmurug\\Documents\\full_stability\\transformers\\IndexBasedTransformer.py:58: PerformanceWarning: DataFrame is highly fragmented.  This is usually the result of calling `frame.insert` many times, which has poor performance.  Consider joining all columns at once using pd.concat(axis=1) instead.  To get a de-fragmented frame, use `newframe = frame.copy()`\n",
      "  dt_transformed[col] = 0\n",
      "\n"
     ]
    },
    {
     "name": "stdout",
     "output_type": "stream",
     "text": [
      "Accuracy:                                                                                                              \n",
      "0.8                                                                                                                    \n",
      " 80%|██████████████████████████████████████▍         | 8/10 [00:18<00:04,  2.22s/trial, best loss: -0.9424740010946907]"
     ]
    },
    {
     "name": "stderr",
     "output_type": "stream",
     "text": [
      "C:\\Users\\velmurug\\Documents\\full_stability\\transformers\\IndexBasedTransformer.py:58: PerformanceWarning: DataFrame is highly fragmented.  This is usually the result of calling `frame.insert` many times, which has poor performance.  Consider joining all columns at once using pd.concat(axis=1) instead.  To get a de-fragmented frame, use `newframe = frame.copy()`\n",
      "  dt_transformed[col] = 0\n",
      "\n"
     ]
    },
    {
     "name": "stdout",
     "output_type": "stream",
     "text": [
      "Accuracy:                                                                                                              \n",
      "0.9285714285714286                                                                                                     \n",
      " 80%|██████████████████████████████████████▍         | 8/10 [00:19<00:04,  2.22s/trial, best loss: -0.9424740010946907]"
     ]
    },
    {
     "name": "stderr",
     "output_type": "stream",
     "text": [
      "C:\\Users\\velmurug\\Documents\\full_stability\\transformers\\IndexBasedTransformer.py:58: PerformanceWarning: DataFrame is highly fragmented.  This is usually the result of calling `frame.insert` many times, which has poor performance.  Consider joining all columns at once using pd.concat(axis=1) instead.  To get a de-fragmented frame, use `newframe = frame.copy()`\n",
      "  dt_transformed[col] = 0\n",
      "\n"
     ]
    },
    {
     "name": "stdout",
     "output_type": "stream",
     "text": [
      "Accuracy:                                                                                                              \n",
      "0.9411764705882353                                                                                                     \n",
      "{'var_smoothing': 4.3287612810830526e-07}                                                                              \n",
      " 90%|███████████████████████████████████████████▏    | 9/10 [00:20<00:02,  2.25s/trial, best loss: -0.9424740010946907]"
     ]
    },
    {
     "name": "stderr",
     "output_type": "stream",
     "text": [
      "C:\\Users\\velmurug\\Documents\\full_stability\\transformers\\IndexBasedTransformer.py:58: PerformanceWarning: DataFrame is highly fragmented.  This is usually the result of calling `frame.insert` many times, which has poor performance.  Consider joining all columns at once using pd.concat(axis=1) instead.  To get a de-fragmented frame, use `newframe = frame.copy()`\n",
      "  dt_transformed[col] = 0\n",
      "\n"
     ]
    },
    {
     "name": "stdout",
     "output_type": "stream",
     "text": [
      "Accuracy:                                                                                                              \n",
      "0.888888888888889                                                                                                      \n",
      " 90%|███████████████████████████████████████████▏    | 9/10 [00:20<00:02,  2.25s/trial, best loss: -0.9424740010946907]"
     ]
    },
    {
     "name": "stderr",
     "output_type": "stream",
     "text": [
      "C:\\Users\\velmurug\\Documents\\full_stability\\transformers\\IndexBasedTransformer.py:58: PerformanceWarning: DataFrame is highly fragmented.  This is usually the result of calling `frame.insert` many times, which has poor performance.  Consider joining all columns at once using pd.concat(axis=1) instead.  To get a de-fragmented frame, use `newframe = frame.copy()`\n",
      "  dt_transformed[col] = 0\n",
      "\n"
     ]
    },
    {
     "name": "stdout",
     "output_type": "stream",
     "text": [
      "Accuracy:                                                                                                              \n",
      "0.888888888888889                                                                                                      \n",
      " 90%|███████████████████████████████████████████▏    | 9/10 [00:21<00:02,  2.25s/trial, best loss: -0.9424740010946907]"
     ]
    },
    {
     "name": "stderr",
     "output_type": "stream",
     "text": [
      "C:\\Users\\velmurug\\Documents\\full_stability\\transformers\\IndexBasedTransformer.py:58: PerformanceWarning: DataFrame is highly fragmented.  This is usually the result of calling `frame.insert` many times, which has poor performance.  Consider joining all columns at once using pd.concat(axis=1) instead.  To get a de-fragmented frame, use `newframe = frame.copy()`\n",
      "  dt_transformed[col] = 0\n",
      "\n"
     ]
    },
    {
     "name": "stdout",
     "output_type": "stream",
     "text": [
      "Accuracy:                                                                                                              \n",
      "0.72                                                                                                                   \n",
      "100%|███████████████████████████████████████████████| 10/10 [00:22<00:00,  2.23s/trial, best loss: -0.9424740010946907]\n"
     ]
    },
    {
     "name": "stderr",
     "output_type": "stream",
     "text": [
      "C:\\Users\\velmurug\\Documents\\full_stability\\transformers\\IndexBasedTransformer.py:58: PerformanceWarning: DataFrame is highly fragmented.  This is usually the result of calling `frame.insert` many times, which has poor performance.  Consider joining all columns at once using pd.concat(axis=1) instead.  To get a de-fragmented frame, use `newframe = frame.copy()`\n",
      "  dt_transformed[col] = 0\n",
      "\n"
     ]
    }
   ],
   "source": [
    "dataset_ref = \"sepsis_cases\"\n",
    "params_dir = \"params\"\n",
    "n_iter = 10\n",
    "bucket_method = \"prefix\"\n",
    "cls_encoding = \"index\"\n",
    "cls_method = \"nb\"\n",
    "balanced_data = False\n",
    "\n",
    "if bucket_method == \"state\":\n",
    "    bucket_encoding = \"last\"\n",
    "else:\n",
    "    bucket_encoding = \"agg\"\n",
    "\n",
    "method_name = \"%s_%s\"%(bucket_method, cls_encoding)\n",
    "\n",
    "dataset_ref_to_datasets = {\n",
    "    \"bpic2011\": [\"bpic2011_f%s\"%formula for formula in range(1,5)],\n",
    "    \"bpic2015\": [\"bpic2015_%s_f2\"%(municipality) for municipality in range(5,6)],\n",
    "    \"insurance\": [\"insurance_activity\", \"insurance_followup\"],\n",
    "    \"bpic2012\" : [\"bpic2012_accepted\"],\n",
    "    \"sepsis_cases\": [\"sepsis_cases_1\"],#, \"sepsis_cases_2\", \"sepsis_cases_4\"],\n",
    "    \"production\": [\"production\"]\n",
    "}\n",
    "\n",
    "encoding_dict = {\n",
    "    \"laststate\": [\"static\", \"last\"],\n",
    "    \"agg\": [\"static\", \"agg\"],\n",
    "    \"index\": [\"static\", \"index\"],\n",
    "    \"combined\": [\"static\", \"last\", \"agg\"],\n",
    "    \"3d\" : []\n",
    "}\n",
    "\n",
    "datasets = [dataset_ref] if dataset_ref not in dataset_ref_to_datasets else dataset_ref_to_datasets[dataset_ref]\n",
    "methods = encoding_dict[cls_encoding]\n",
    "print(datasets)\n",
    "    \n",
    "train_ratio = 0.8\n",
    "n_splits = 3\n",
    "random_state = 22\n",
    "\n",
    "# create results directory\n",
    "if not os.path.exists(os.path.join(params_dir)):\n",
    "    os.makedirs(os.path.join(params_dir))\n",
    "    \n",
    "for dataset_name in datasets:\n",
    "    \n",
    "    # read the data\n",
    "    dataset_manager = DatasetManager(dataset_name)\n",
    "    data = dataset_manager.read_dataset()\n",
    "    data = dataset_manager.balance_data(data)\n",
    "\n",
    "    cls_encoder_args = {'case_id_col': dataset_manager.case_id_col, \n",
    "                        'static_cat_cols': dataset_manager.static_cat_cols,\n",
    "                        'static_num_cols': dataset_manager.static_num_cols, \n",
    "                        'dynamic_cat_cols': dataset_manager.dynamic_cat_cols,\n",
    "                        'dynamic_num_cols': dataset_manager.dynamic_num_cols, \n",
    "                        'fillna': True}\n",
    "\n",
    "    # determine min and max (truncated) prefix lengths\n",
    "    min_prefix_length = 1\n",
    "    if \"traffic_fines\" in dataset_name:\n",
    "        max_prefix_length = 10\n",
    "    else:\n",
    "        max_prefix_length = 20\n",
    "\n",
    "    # split into training and test\n",
    "    print(\"splitting data\")\n",
    "    train, _ = dataset_manager.split_data_strict(data, train_ratio, split=\"temporal\")\n",
    "    train_prefixes = dataset_manager.generate_prefix_data(train, min_prefix_length, max_prefix_length)\n",
    "    \n",
    "    # Bucketing prefixes based on control flow\n",
    "    bucketer_args = {'encoding_method':bucket_encoding, \n",
    "                     'case_id_col':dataset_manager.case_id_col, \n",
    "                     'cat_cols':[dataset_manager.activity_col], \n",
    "                     'num_cols':[], \n",
    "                     'random_state':random_state}\n",
    "    if bucket_method == \"cluster\":\n",
    "        bucketer_args[\"n_clusters\"] = args[\"n_clusters\"]\n",
    "    bucketer = BucketFactory.get_bucketer(bucket_method, **bucketer_args)\n",
    "    bucket_assignments_train = bucketer.fit_predict(train_prefixes)\n",
    "    \n",
    "    for bucket in set(bucket_assignments_train):\n",
    "        print(\"Optimising %s of %s buckets\" % (bucket, len(set(bucket_assignments_train))))\n",
    "        \n",
    "        relevant_train_cases_bucket = dataset_manager.get_indexes(train_prefixes)[bucket_assignments_train == bucket]\n",
    "        dt_train_bucket = dataset_manager.get_relevant_data_by_indexes(train_prefixes, relevant_train_cases_bucket)\n",
    "    \n",
    "        # prepare chunks for CV\n",
    "        dt_prefixes = []\n",
    "        class_ratios = []\n",
    "        for train_chunk, test_chunk in dataset_manager.get_stratified_split_generator(dt_train_bucket, n_splits=n_splits):\n",
    "            class_ratios.append(dataset_manager.get_class_ratio(train_chunk))\n",
    "            dt_prefixes.append(train_chunk)\n",
    "        #del train\n",
    "        \n",
    "        # set up search space\n",
    "        if cls_method == \"xgboost\":\n",
    "            space = {'n_estimators': scope.int(hp.quniform('n_estimators', 1, 175, 5)),\n",
    "                    'learning_rate': hp.uniform(\"learning_rate\", 0, 5),\n",
    "                     'subsample': hp.uniform(\"subsample\", 0.5, 1),\n",
    "                     'max_depth': scope.int(hp.quniform('max_depth', 1, 30, 1)),\n",
    "                     'colsample_bytree': hp.uniform(\"colsample_bytree\", 0, 1),\n",
    "                     'min_child_weight': scope.int(hp.quniform('min_child_weight', 0, 6, 1))}\n",
    "        elif cls_method == \"logit\":\n",
    "            space = {'C': hp.uniform('C', -15, 15)}\n",
    "        elif cls_method == \"nb\":\n",
    "            space = {'var_smoothing': hp.choice('v', np.logspace(0, -9, 100))}\n",
    "\n",
    "\n",
    "        # optimize parameters\n",
    "        trial_nr = 1\n",
    "        trials = Trials()\n",
    "        fout_all = open(os.path.join(PATH, params_dir, \"param_optim_all_trials_%s_%s_%s_bucket_%s.csv\" % (cls_method, dataset_name, method_name, bucket)), \"w\")\n",
    "        if \"prefix\" in method_name:\n",
    "            fout_all.write(\"%s;%s;%s;%s;%s;%s;%s;%s\\n\" % (\"iter\", \"dataset\", \"cls\", \"method\", \"nr_events\", \"param\", \"value\", \"score\"))   \n",
    "        else:\n",
    "            fout_all.write(\"%s;%s;%s;%s;%s;%s;%s\\n\" % (\"iter\", \"dataset\", \"cls\", \"method\", \"param\", \"value\", \"score\"))   \n",
    "        best = fmin(create_and_evaluate_model, space, algo=tpe.suggest, max_evals=n_iter, trials=trials, verbose=True)\n",
    "        fout_all.close()\n",
    "\n",
    "        # write the best parameters\n",
    "        best_params = hyperopt.space_eval(space, best)\n",
    "        outfile = os.path.join(PATH, params_dir, \"optimal_params_%s_%s_%s_bucket_%s.pickle\" % (cls_method, dataset_name, method_name, bucket))\n",
    "        # write to file\n",
    "        with open(outfile, \"wb\") as fout:\n",
    "            pickle.dump(best_params, fout)\n"
   ]
  },
  {
   "cell_type": "code",
   "execution_count": 6,
   "metadata": {},
   "outputs": [],
   "source": [
    "# import matplotlib.pyplot as plt\n",
    "# plt.plot(space[\"var_smoothing\"])"
   ]
  },
  {
   "cell_type": "code",
   "execution_count": 7,
   "metadata": {},
   "outputs": [],
   "source": [
    "# plt.plot()"
   ]
  },
  {
   "cell_type": "code",
   "execution_count": 8,
   "metadata": {
    "colab": {
     "base_uri": "https://localhost:8080/"
    },
    "executionInfo": {
     "elapsed": 1993332,
     "status": "ok",
     "timestamp": 1605609993324,
     "user": {
      "displayName": "Mythreyi Velmurugan",
      "photoUrl": "https://lh3.googleusercontent.com/a-/AOh14Gh6DP4Hn-qpp593Bc6lrayXXcdQv42KAS3zJ-Ay=s64",
      "userId": "09509504425224260690"
     },
     "user_tz": -600
    },
    "id": "hyFDK-SFa5fq",
    "outputId": "1fa48c4a-d93e-4751-dc63-6f1a8f6ac8b2"
   },
   "outputs": [
    {
     "name": "stdout",
     "output_type": "stream",
     "text": [
      "Bucket 1\n",
      "{'var_smoothing': 0.0533669923120631}\n",
      "Bucket 2\n",
      "{'var_smoothing': 0.0657933224657568}\n",
      "Bucket 3\n",
      "{'var_smoothing': 0.2848035868435802}\n",
      "Bucket 4\n",
      "{'var_smoothing': 1.519911082952933e-08}\n",
      "Bucket 5\n",
      "{'var_smoothing': 0.533669923120631}\n",
      "Bucket 6\n",
      "{'var_smoothing': 0.02848035868435802}\n",
      "Bucket 7\n",
      "{'var_smoothing': 0.006579332246575682}\n",
      "Bucket 8\n",
      "{'var_smoothing': 0.1873817422860384}\n",
      "Bucket 9\n",
      "{'var_smoothing': 0.3511191734215131}\n",
      "Bucket 10\n",
      "{'var_smoothing': 0.0657933224657568}\n",
      "Bucket 11\n",
      "{'var_smoothing': 1.519911082952933e-08}\n",
      "Bucket 12\n",
      "{'var_smoothing': 6.579332246575682e-08}\n",
      "Bucket 13\n",
      "{'var_smoothing': 0.003511191734215131}\n",
      "Bucket 14\n",
      "{'var_smoothing': 0.04328761281083057}\n",
      "Bucket 15\n",
      "{'var_smoothing': 3.5111917342151275e-06}\n",
      "Bucket 16\n",
      "{'var_smoothing': 0.2848035868435802}\n",
      "Bucket 17\n",
      "{'var_smoothing': 0.04328761281083057}\n",
      "Bucket 18\n",
      "{'var_smoothing': 1.873817422860383e-07}\n",
      "Bucket 19\n",
      "{'var_smoothing': 0.0001}\n",
      "Bucket 20\n",
      "{'var_smoothing': 2.848035868435799e-06}\n"
     ]
    }
   ],
   "source": [
    "for bucket in set(bucket_assignments_train):\n",
    "    params_path = os.path.join(PATH, params_dir, \"optimal_params_%s_%s_%s_bucket_%s.pickle\" % \n",
    "                               (cls_method, dataset_name, method_name, bucket))\n",
    "    with open(params_path, 'rb') as f:\n",
    "        best_params = pickle.load(f)\n",
    "    \n",
    "    print (\"Bucket %s\" % bucket)\n",
    "    print(best_params)"
   ]
  }
 ],
 "metadata": {
  "accelerator": "GPU",
  "colab": {
   "collapsed_sections": [],
   "name": "Optimise Params.ipynb",
   "provenance": []
  },
  "kernelspec": {
   "display_name": "Python 3",
   "language": "python",
   "name": "python3"
  },
  "language_info": {
   "codemirror_mode": {
    "name": "ipython",
    "version": 3
   },
   "file_extension": ".py",
   "mimetype": "text/x-python",
   "name": "python",
   "nbconvert_exporter": "python",
   "pygments_lexer": "ipython3",
   "version": "3.8.3"
  }
 },
 "nbformat": 4,
 "nbformat_minor": 1
}
