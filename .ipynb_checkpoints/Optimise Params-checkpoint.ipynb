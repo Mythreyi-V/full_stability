{
 "cells": [
  {
   "cell_type": "code",
   "execution_count": 1,
   "metadata": {
    "colab": {
     "base_uri": "https://localhost:8080/"
    },
    "executionInfo": {
     "elapsed": 27846,
     "status": "ok",
     "timestamp": 1605608027790,
     "user": {
      "displayName": "Mythreyi Velmurugan",
      "photoUrl": "https://lh3.googleusercontent.com/a-/AOh14Gh6DP4Hn-qpp593Bc6lrayXXcdQv42KAS3zJ-Ay=s64",
      "userId": "09509504425224260690"
     },
     "user_tz": -600
    },
    "id": "edGOGS4Qly-r",
    "outputId": "21021b16-f710-4bbe-9766-fabf50ac9db6"
   },
   "outputs": [],
   "source": [
    "#from google.colab import drive\n",
    "#drive.mount('/content/drive')\n",
    "import sys\n",
    "import os\n",
    "#PATH = '/content/drive/My Drive/PPM_Stability/'\n",
    "PATH = os.getcwd()\n",
    "sys.path.append(PATH)"
   ]
  },
  {
   "cell_type": "code",
   "execution_count": 2,
   "metadata": {
    "executionInfo": {
     "elapsed": 27837,
     "status": "ok",
     "timestamp": 1605608027794,
     "user": {
      "displayName": "Mythreyi Velmurugan",
      "photoUrl": "https://lh3.googleusercontent.com/a-/AOh14Gh6DP4Hn-qpp593Bc6lrayXXcdQv42KAS3zJ-Ay=s64",
      "userId": "09509504425224260690"
     },
     "user_tz": -600
    },
    "id": "g6rF9K-4l-a4"
   },
   "outputs": [],
   "source": [
    "#!pip install xgboost==1.0.0"
   ]
  },
  {
   "cell_type": "code",
   "execution_count": 3,
   "metadata": {
    "executionInfo": {
     "elapsed": 35182,
     "status": "ok",
     "timestamp": 1605608035145,
     "user": {
      "displayName": "Mythreyi Velmurugan",
      "photoUrl": "https://lh3.googleusercontent.com/a-/AOh14Gh6DP4Hn-qpp593Bc6lrayXXcdQv42KAS3zJ-Ay=s64",
      "userId": "09509504425224260690"
     },
     "user_tz": -600
    },
    "id": "2yT7AjVBlUVP"
   },
   "outputs": [
    {
     "name": "stderr",
     "output_type": "stream",
     "text": [
      "C:\\ProgramData\\Anaconda3\\lib\\site-packages\\numpy\\_distributor_init.py:30: UserWarning: loaded more than 1 DLL from .libs:\n",
      "C:\\ProgramData\\Anaconda3\\lib\\site-packages\\numpy\\.libs\\libopenblas.EL2C6PLE4ZYW3ECEVIV3OXXGRN2NRFM2.gfortran-win_amd64.dll\n",
      "C:\\ProgramData\\Anaconda3\\lib\\site-packages\\numpy\\.libs\\libopenblas.NOIJJG62EMASZI6NYURL6JBKM4EVBGM7.gfortran-win_amd64.dll\n",
      "  warnings.warn(\"loaded more than 1 DLL from .libs:\"\n"
     ]
    }
   ],
   "source": [
    "import EncoderFactory\n",
    "from DatasetManager import DatasetManager\n",
    "import BucketFactory\n",
    "\n",
    "import pandas as pd\n",
    "import numpy as np\n",
    "\n",
    "from sklearn.metrics import roc_auc_score, accuracy_score, f1_score\n",
    "from sklearn.pipeline import FeatureUnion, Pipeline\n",
    "from sklearn.preprocessing import MinMaxScaler\n",
    "from sklearn.utils import resample\n",
    "\n",
    "\n",
    "import time\n",
    "import os\n",
    "import sys\n",
    "from sys import argv\n",
    "import pickle\n",
    "from collections import defaultdict\n",
    "\n",
    "#from sklearn.ensemble import RandomForestClassifier\n",
    "import xgboost as xgb\n",
    "from sklearn.linear_model import LogisticRegression\n",
    "#from sklearn.svm import SVC, LinearSVC\n",
    "from sklearn.naive_bayes import GaussianNB\n",
    "#import catboost\n",
    "\n",
    "# from tensorflow.keras.backend import print_tensor\n",
    "# from tensorflow.keras.callbacks import ModelCheckpoint, EarlyStopping\n",
    "# from keras.layers.core import Dense, Activation, Dropout\n",
    "# from keras.preprocessing import sequence\n",
    "# from keras.models import Sequential, Model\n",
    "# from keras.layers import Dense, Embedding, Flatten, Input\n",
    "# from keras.layers import LSTM\n",
    "# from keras.optimizers import Nadam, RMSprop\n",
    "# from keras.layers.normalization import BatchNormalization\n",
    "\n",
    "\n",
    "from hyperopt import Trials, STATUS_OK, tpe, fmin, hp\n",
    "import hyperopt\n",
    "from hyperopt.pyll.base import scope\n",
    "from hyperopt.pyll.stochastic import sample"
   ]
  },
  {
   "cell_type": "code",
   "execution_count": 4,
   "metadata": {
    "executionInfo": {
     "elapsed": 35182,
     "status": "ok",
     "timestamp": 1605608035150,
     "user": {
      "displayName": "Mythreyi Velmurugan",
      "photoUrl": "https://lh3.googleusercontent.com/a-/AOh14Gh6DP4Hn-qpp593Bc6lrayXXcdQv42KAS3zJ-Ay=s64",
      "userId": "09509504425224260690"
     },
     "user_tz": -600
    },
    "id": "kCUZV8MylUVY",
    "scrolled": true
   },
   "outputs": [],
   "source": [
    "def create_and_evaluate_model(args):    \n",
    "    print(args)\n",
    "    global trial_nr\n",
    "    trial_nr += 1\n",
    "    \n",
    "    start = time.time()\n",
    "    score = 0\n",
    "    for cv_iter in range(n_splits):\n",
    "        \n",
    "        dt_test_prefixes = dt_prefixes[cv_iter]\n",
    "        dt_train_prefixes = pd.DataFrame()\n",
    "        for cv_train_iter in range(n_splits): \n",
    "            if cv_train_iter != cv_iter:\n",
    "                dt_train_prefixes = pd.concat([dt_train_prefixes, dt_prefixes[cv_train_iter]], axis=0, sort=False)\n",
    "                \n",
    "        #Balance unbalanced data\n",
    "        if balanced_data == False:\n",
    "            y = dataset_manager.get_label_numeric(dt_train_prefixes)\n",
    "            case_ids = dataset_manager.get_case_ids(dt_train_prefixes)\n",
    "\n",
    "            neg_cases = [case_ids[i] for i in range(len(case_ids)) if y[i] == 0]\n",
    "            pos_cases = [case_ids[i] for i in range(len(case_ids)) if y[i] == 1]\n",
    "\n",
    "            if len(neg_cases) > len(pos_cases):\n",
    "                neg_cases = resample(neg_cases, replace = False, n_samples = len(pos_cases))\n",
    "            elif len(neg_cases) < len(pos_cases):\n",
    "                pos_cases = resample(pos_cases, replace = False, n_samples = len(neg_cases))\n",
    "\n",
    "            bal_data = dt_train_prefixes.loc[dt_train_prefixes[dataset_manager.case_id_col].isin(neg_cases)]\n",
    "            bal_data = bal_data.append(dt_train_prefixes.loc[dt_train_prefixes[dataset_manager.case_id_col].isin(pos_cases)])\n",
    "            dt_train_prefixes = bal_data\n",
    "                \n",
    "        dt_test_bucket = dt_test_prefixes\n",
    "        dt_train_bucket = dt_train_prefixes\n",
    "        \n",
    "        test_y = dataset_manager.get_label_numeric(dt_test_bucket)\n",
    "        train_y = dataset_manager.get_label_numeric(dt_train_bucket)\n",
    "\n",
    "        if len(set(train_y)) < 2:\n",
    "            preds = [train_y[0]] * len(relevant_test_cases_bucket)\n",
    "        else:\n",
    "            feature_combiner = FeatureUnion([(method, EncoderFactory.get_encoder(method, **cls_encoder_args)) for method in methods])\n",
    "\n",
    "            if cls_method == \"xgboost\":\n",
    "                cls = xgb.XGBClassifier(objective='binary:logistic',\n",
    "                                        n_estimators=args['n_estimators'],\n",
    "                                        learning_rate= args['learning_rate'],\n",
    "                                        subsample=args['subsample'],\n",
    "                                        max_depth=int(args['max_depth']),\n",
    "                                        colsample_bytree=args['colsample_bytree'],\n",
    "                                        min_child_weight=int(args['min_child_weight']),\n",
    "                                        seed=random_state)\n",
    "            elif cls_method == \"logit\":\n",
    "                cls = LogisticRegression(C=2**args['C'],\n",
    "                                         random_state=random_state)\n",
    "            elif cls_method == \"nb\":\n",
    "                cls = GaussianNB(var_smoothing=args[\"var_smoothing\"])\n",
    "\n",
    "            pipeline = Pipeline([('encoder', feature_combiner), ('scaler', MinMaxScaler()), ('cls', cls)])\n",
    "            \n",
    "            #print(dt_train_bucket.shape)\n",
    "            #print(len(train_y))\n",
    "            #print(feature_combiner.fit_transform(dt_train_bucket).shape)\n",
    "            #print(feature_combiner.fit(dt_train_bucket))\n",
    "            \n",
    "#             if cls_method == \"nb\":\n",
    "#                 #train_enc = pipeline[\"encoder\"].fit_transform(dt_train_bucket)\n",
    "#                 print(train_enc[0][0])\n",
    "#                 #print(train_enc.shape)\n",
    "#                 #for each in train_enc:\n",
    "#                 #    print(each.shape)\n",
    "#                 pipeline[\"cls\"].fit(train_enc, train_y)\n",
    "            \n",
    "            pipeline.fit(dt_train_bucket, train_y)\n",
    "\n",
    "            preds = pipeline.predict(dt_test_bucket)\n",
    "\n",
    "        if balanced_data==True:\n",
    "            acc = roc_auc_score(test_y, preds)\n",
    "            score += acc\n",
    "        else:\n",
    "            acc = f1_score(test_y, preds)\n",
    "            score += acc\n",
    "        \n",
    "        print('Accuracy:', acc)\n",
    "        \n",
    "    for k, v in args.items():\n",
    "        fout_all.write(\"%s;%s;%s;%s;%s;%s;%s\\n\" % (trial_nr, dataset_name, cls_method, method_name, k, v, score / n_splits))   \n",
    "    fout_all.write(\"%s;%s;%s;%s;%s;%s;%s\\n\" % (trial_nr, dataset_name, cls_method, method_name, \"processing_time\", time.time() - start, 0))   \n",
    "    fout_all.flush()\n",
    "    return {'loss': -score / n_splits, 'status': STATUS_OK, 'model': cls}"
   ]
  },
  {
   "cell_type": "code",
   "execution_count": 5,
   "metadata": {
    "colab": {
     "base_uri": "https://localhost:8080/"
    },
    "executionInfo": {
     "elapsed": 1993341,
     "status": "ok",
     "timestamp": 1605609993320,
     "user": {
      "displayName": "Mythreyi Velmurugan",
      "photoUrl": "https://lh3.googleusercontent.com/a-/AOh14Gh6DP4Hn-qpp593Bc6lrayXXcdQv42KAS3zJ-Ay=s64",
      "userId": "09509504425224260690"
     },
     "user_tz": -600
    },
    "id": "y_jI3dzJlUVf",
    "outputId": "b799e298-0c10-4db9-f0b8-b9b2dccbf6f9",
    "scrolled": true
   },
   "outputs": [
    {
     "name": "stdout",
     "output_type": "stream",
     "text": [
      "['bpic2011_f1']\n",
      "splitting data\n",
      "prefix\n",
      "Optimising 1 of 20 buckets\n",
      "{'var_smoothing': 6.579332246575682e-07}                                                                               \n",
      "Accuracy:                                                                                                              \n",
      "0.9694323144104803                                                                                                     \n",
      "  0%|                                                                           | 0/10 [00:00<?, ?trial/s, best loss=?]"
     ]
    },
    {
     "name": "stderr",
     "output_type": "stream",
     "text": [
      "C:\\Users\\velmurug\\Documents\\full_stability\\transformers\\StaticTransformer.py:44: PerformanceWarning: DataFrame is highly fragmented.  This is usually the result of calling `frame.insert` many times, which has poor performance.  Consider joining all columns at once using pd.concat(axis=1) instead.  To get a de-fragmented frame, use `newframe = frame.copy()`\n",
      "  dt_transformed[col] = 0\n",
      "\n"
     ]
    },
    {
     "name": "stdout",
     "output_type": "stream",
     "text": [
      "Accuracy:                                                                                                              \n",
      "0.9719222462203023                                                                                                     \n",
      "  0%|                                                                           | 0/10 [00:00<?, ?trial/s, best loss=?]"
     ]
    },
    {
     "name": "stderr",
     "output_type": "stream",
     "text": [
      "C:\\Users\\velmurug\\Documents\\full_stability\\transformers\\StaticTransformer.py:44: PerformanceWarning: DataFrame is highly fragmented.  This is usually the result of calling `frame.insert` many times, which has poor performance.  Consider joining all columns at once using pd.concat(axis=1) instead.  To get a de-fragmented frame, use `newframe = frame.copy()`\n",
      "  dt_transformed[col] = 0\n",
      "\n"
     ]
    },
    {
     "name": "stdout",
     "output_type": "stream",
     "text": [
      "Accuracy:                                                                                                              \n",
      "0.9650655021834061                                                                                                     \n",
      "{'var_smoothing': 0.8111308307896871}                                                                                  \n",
      " 10%|████▊                                           | 1/10 [00:00<00:06,  1.34trial/s, best loss: -0.9688066876047295]"
     ]
    },
    {
     "name": "stderr",
     "output_type": "stream",
     "text": [
      "C:\\Users\\velmurug\\Documents\\full_stability\\transformers\\StaticTransformer.py:44: PerformanceWarning: DataFrame is highly fragmented.  This is usually the result of calling `frame.insert` many times, which has poor performance.  Consider joining all columns at once using pd.concat(axis=1) instead.  To get a de-fragmented frame, use `newframe = frame.copy()`\n",
      "  dt_transformed[col] = 0\n",
      "\n"
     ]
    },
    {
     "name": "stdout",
     "output_type": "stream",
     "text": [
      "Accuracy:                                                                                                              \n",
      "0.751131221719457                                                                                                      \n",
      " 10%|████▊                                           | 1/10 [00:01<00:06,  1.34trial/s, best loss: -0.9688066876047295]"
     ]
    },
    {
     "name": "stderr",
     "output_type": "stream",
     "text": [
      "C:\\Users\\velmurug\\Documents\\full_stability\\transformers\\StaticTransformer.py:44: PerformanceWarning: DataFrame is highly fragmented.  This is usually the result of calling `frame.insert` many times, which has poor performance.  Consider joining all columns at once using pd.concat(axis=1) instead.  To get a de-fragmented frame, use `newframe = frame.copy()`\n",
      "  dt_transformed[col] = 0\n",
      "\n"
     ]
    },
    {
     "name": "stdout",
     "output_type": "stream",
     "text": [
      "Accuracy:                                                                                                              \n",
      "0.7264770240700219                                                                                                     \n",
      " 10%|████▊                                           | 1/10 [00:01<00:06,  1.34trial/s, best loss: -0.9688066876047295]"
     ]
    },
    {
     "name": "stderr",
     "output_type": "stream",
     "text": [
      "C:\\Users\\velmurug\\Documents\\full_stability\\transformers\\StaticTransformer.py:44: PerformanceWarning: DataFrame is highly fragmented.  This is usually the result of calling `frame.insert` many times, which has poor performance.  Consider joining all columns at once using pd.concat(axis=1) instead.  To get a de-fragmented frame, use `newframe = frame.copy()`\n",
      "  dt_transformed[col] = 0\n",
      "\n",
      "C:\\Users\\velmurug\\Documents\\full_stability\\transformers\\StaticTransformer.py:44: PerformanceWarning: DataFrame is highly fragmented.  This is usually the result of calling `frame.insert` many times, which has poor performance.  Consider joining all columns at once using pd.concat(axis=1) instead.  To get a de-fragmented frame, use `newframe = frame.copy()`\n",
      "  dt_transformed[col] = 0\n",
      "\n"
     ]
    },
    {
     "name": "stdout",
     "output_type": "stream",
     "text": [
      "Accuracy:                                                                                                              \n",
      "0.7366071428571429                                                                                                     \n",
      "{'var_smoothing': 3.5111917342151277e-08}                                                                              \n",
      "Accuracy:                                                                                                              \n",
      "0.9694323144104803                                                                                                     \n",
      " 20%|█████████▌                                      | 2/10 [00:01<00:06,  1.30trial/s, best loss: -0.9688066876047295]"
     ]
    },
    {
     "name": "stderr",
     "output_type": "stream",
     "text": [
      "C:\\Users\\velmurug\\Documents\\full_stability\\transformers\\StaticTransformer.py:44: PerformanceWarning: DataFrame is highly fragmented.  This is usually the result of calling `frame.insert` many times, which has poor performance.  Consider joining all columns at once using pd.concat(axis=1) instead.  To get a de-fragmented frame, use `newframe = frame.copy()`\n",
      "  dt_transformed[col] = 0\n",
      "\n"
     ]
    },
    {
     "name": "stdout",
     "output_type": "stream",
     "text": [
      "Accuracy:                                                                                                              \n",
      "0.974025974025974                                                                                                      \n",
      " 20%|█████████▌                                      | 2/10 [00:02<00:06,  1.30trial/s, best loss: -0.9688066876047295]"
     ]
    },
    {
     "name": "stderr",
     "output_type": "stream",
     "text": [
      "C:\\Users\\velmurug\\Documents\\full_stability\\transformers\\StaticTransformer.py:44: PerformanceWarning: DataFrame is highly fragmented.  This is usually the result of calling `frame.insert` many times, which has poor performance.  Consider joining all columns at once using pd.concat(axis=1) instead.  To get a de-fragmented frame, use `newframe = frame.copy()`\n",
      "  dt_transformed[col] = 0\n",
      "\n",
      "C:\\Users\\velmurug\\Documents\\full_stability\\transformers\\StaticTransformer.py:44: PerformanceWarning: DataFrame is highly fragmented.  This is usually the result of calling `frame.insert` many times, which has poor performance.  Consider joining all columns at once using pd.concat(axis=1) instead.  To get a de-fragmented frame, use `newframe = frame.copy()`\n",
      "  dt_transformed[col] = 0\n",
      "\n"
     ]
    },
    {
     "name": "stdout",
     "output_type": "stream",
     "text": [
      "Accuracy:                                                                                                              \n",
      "0.9629629629629629                                                                                                     \n",
      "{'var_smoothing': 0.23101297000831597}                                                                                 \n",
      "Accuracy:                                                                                                              \n",
      "0.801762114537445                                                                                                      \n",
      " 30%|██████████████▍                                 | 3/10 [00:02<00:05,  1.33trial/s, best loss: -0.9688070837998057]"
     ]
    },
    {
     "name": "stderr",
     "output_type": "stream",
     "text": [
      "C:\\Users\\velmurug\\Documents\\full_stability\\transformers\\StaticTransformer.py:44: PerformanceWarning: DataFrame is highly fragmented.  This is usually the result of calling `frame.insert` many times, which has poor performance.  Consider joining all columns at once using pd.concat(axis=1) instead.  To get a de-fragmented frame, use `newframe = frame.copy()`\n",
      "  dt_transformed[col] = 0\n",
      "\n"
     ]
    },
    {
     "name": "stdout",
     "output_type": "stream",
     "text": [
      "Accuracy:                                                                                                              \n",
      "0.7921225382932165                                                                                                     \n",
      " 30%|██████████████▍                                 | 3/10 [00:02<00:05,  1.33trial/s, best loss: -0.9688070837998057]"
     ]
    },
    {
     "name": "stderr",
     "output_type": "stream",
     "text": [
      "C:\\Users\\velmurug\\Documents\\full_stability\\transformers\\StaticTransformer.py:44: PerformanceWarning: DataFrame is highly fragmented.  This is usually the result of calling `frame.insert` many times, which has poor performance.  Consider joining all columns at once using pd.concat(axis=1) instead.  To get a de-fragmented frame, use `newframe = frame.copy()`\n",
      "  dt_transformed[col] = 0\n",
      "\n"
     ]
    },
    {
     "name": "stdout",
     "output_type": "stream",
     "text": [
      "Accuracy:                                                                                                              \n",
      "0.7882882882882882                                                                                                     \n",
      "{'var_smoothing': 0.02848035868435802}                                                                                 \n",
      " 40%|███████████████████▏                            | 4/10 [00:02<00:04,  1.35trial/s, best loss: -0.9688070837998057]"
     ]
    },
    {
     "name": "stderr",
     "output_type": "stream",
     "text": [
      "C:\\Users\\velmurug\\Documents\\full_stability\\transformers\\StaticTransformer.py:44: PerformanceWarning: DataFrame is highly fragmented.  This is usually the result of calling `frame.insert` many times, which has poor performance.  Consider joining all columns at once using pd.concat(axis=1) instead.  To get a de-fragmented frame, use `newframe = frame.copy()`\n",
      "  dt_transformed[col] = 0\n",
      "\n",
      "C:\\Users\\velmurug\\Documents\\full_stability\\transformers\\StaticTransformer.py:44: PerformanceWarning: DataFrame is highly fragmented.  This is usually the result of calling `frame.insert` many times, which has poor performance.  Consider joining all columns at once using pd.concat(axis=1) instead.  To get a de-fragmented frame, use `newframe = frame.copy()`\n",
      "  dt_transformed[col] = 0\n",
      "\n"
     ]
    },
    {
     "name": "stdout",
     "output_type": "stream",
     "text": [
      "Accuracy:                                                                                                              \n",
      "0.8805620608899298                                                                                                     \n",
      "Accuracy:                                                                                                              \n",
      "0.8619047619047618                                                                                                     \n",
      " 40%|███████████████████▏                            | 4/10 [00:03<00:04,  1.35trial/s, best loss: -0.9688070837998057]"
     ]
    },
    {
     "name": "stderr",
     "output_type": "stream",
     "text": [
      "C:\\Users\\velmurug\\Documents\\full_stability\\transformers\\StaticTransformer.py:44: PerformanceWarning: DataFrame is highly fragmented.  This is usually the result of calling `frame.insert` many times, which has poor performance.  Consider joining all columns at once using pd.concat(axis=1) instead.  To get a de-fragmented frame, use `newframe = frame.copy()`\n",
      "  dt_transformed[col] = 0\n",
      "\n",
      "C:\\Users\\velmurug\\Documents\\full_stability\\transformers\\StaticTransformer.py:44: PerformanceWarning: DataFrame is highly fragmented.  This is usually the result of calling `frame.insert` many times, which has poor performance.  Consider joining all columns at once using pd.concat(axis=1) instead.  To get a de-fragmented frame, use `newframe = frame.copy()`\n",
      "  dt_transformed[col] = 0\n",
      "\n"
     ]
    },
    {
     "name": "stdout",
     "output_type": "stream",
     "text": [
      "Accuracy:                                                                                                              \n",
      "0.8591885441527447                                                                                                     \n",
      "{'var_smoothing': 0.01519911082952933}                                                                                 \n",
      "Accuracy:                                                                                                              \n",
      "0.9306487695749441                                                                                                     \n",
      " 50%|████████████████████████                        | 5/10 [00:03<00:03,  1.38trial/s, best loss: -0.9688070837998057]"
     ]
    },
    {
     "name": "stderr",
     "output_type": "stream",
     "text": [
      "C:\\Users\\velmurug\\Documents\\full_stability\\transformers\\StaticTransformer.py:44: PerformanceWarning: DataFrame is highly fragmented.  This is usually the result of calling `frame.insert` many times, which has poor performance.  Consider joining all columns at once using pd.concat(axis=1) instead.  To get a de-fragmented frame, use `newframe = frame.copy()`\n",
      "  dt_transformed[col] = 0\n",
      "\n",
      "C:\\Users\\velmurug\\Documents\\full_stability\\transformers\\StaticTransformer.py:44: PerformanceWarning: DataFrame is highly fragmented.  This is usually the result of calling `frame.insert` many times, which has poor performance.  Consider joining all columns at once using pd.concat(axis=1) instead.  To get a de-fragmented frame, use `newframe = frame.copy()`\n",
      "  dt_transformed[col] = 0\n",
      "\n"
     ]
    },
    {
     "name": "stdout",
     "output_type": "stream",
     "text": [
      "Accuracy:                                                                                                              \n",
      "0.8986175115207373                                                                                                     \n",
      "Accuracy:                                                                                                              \n",
      "0.9045454545454545                                                                                                     \n",
      "{'var_smoothing': 1.232846739442066e-08}                                                                               \n",
      " 60%|████████████████████████████▊                   | 6/10 [00:04<00:02,  1.41trial/s, best loss: -0.9688070837998057]"
     ]
    },
    {
     "name": "stderr",
     "output_type": "stream",
     "text": [
      "C:\\Users\\velmurug\\Documents\\full_stability\\transformers\\StaticTransformer.py:44: PerformanceWarning: DataFrame is highly fragmented.  This is usually the result of calling `frame.insert` many times, which has poor performance.  Consider joining all columns at once using pd.concat(axis=1) instead.  To get a de-fragmented frame, use `newframe = frame.copy()`\n",
      "  dt_transformed[col] = 0\n",
      "\n",
      "C:\\Users\\velmurug\\Documents\\full_stability\\transformers\\StaticTransformer.py:44: PerformanceWarning: DataFrame is highly fragmented.  This is usually the result of calling `frame.insert` many times, which has poor performance.  Consider joining all columns at once using pd.concat(axis=1) instead.  To get a de-fragmented frame, use `newframe = frame.copy()`\n",
      "  dt_transformed[col] = 0\n",
      "\n"
     ]
    },
    {
     "name": "stdout",
     "output_type": "stream",
     "text": [
      "Accuracy:                                                                                                              \n",
      "0.9694323144104803                                                                                                     \n",
      "Accuracy:                                                                                                              \n",
      "0.9719222462203023                                                                                                     \n",
      " 60%|████████████████████████████▊                   | 6/10 [00:04<00:02,  1.41trial/s, best loss: -0.9688070837998057]"
     ]
    },
    {
     "name": "stderr",
     "output_type": "stream",
     "text": [
      "C:\\Users\\velmurug\\Documents\\full_stability\\transformers\\StaticTransformer.py:44: PerformanceWarning: DataFrame is highly fragmented.  This is usually the result of calling `frame.insert` many times, which has poor performance.  Consider joining all columns at once using pd.concat(axis=1) instead.  To get a de-fragmented frame, use `newframe = frame.copy()`\n",
      "  dt_transformed[col] = 0\n",
      "\n",
      "C:\\Users\\velmurug\\Documents\\full_stability\\transformers\\StaticTransformer.py:44: PerformanceWarning: DataFrame is highly fragmented.  This is usually the result of calling `frame.insert` many times, which has poor performance.  Consider joining all columns at once using pd.concat(axis=1) instead.  To get a de-fragmented frame, use `newframe = frame.copy()`\n",
      "  dt_transformed[col] = 0\n",
      "\n"
     ]
    },
    {
     "name": "stdout",
     "output_type": "stream",
     "text": [
      "Accuracy:                                                                                                              \n",
      "0.9629629629629629                                                                                                     \n",
      "{'var_smoothing': 2.848035868435805e-09}                                                                               \n",
      "Accuracy:                                                                                                              \n",
      "0.9695652173913044                                                                                                     \n",
      " 70%|█████████████████████████████████▌              | 7/10 [00:05<00:02,  1.43trial/s, best loss: -0.9688070837998057]"
     ]
    },
    {
     "name": "stderr",
     "output_type": "stream",
     "text": [
      "C:\\Users\\velmurug\\Documents\\full_stability\\transformers\\StaticTransformer.py:44: PerformanceWarning: DataFrame is highly fragmented.  This is usually the result of calling `frame.insert` many times, which has poor performance.  Consider joining all columns at once using pd.concat(axis=1) instead.  To get a de-fragmented frame, use `newframe = frame.copy()`\n",
      "  dt_transformed[col] = 0\n",
      "\n"
     ]
    },
    {
     "name": "stdout",
     "output_type": "stream",
     "text": [
      "Accuracy:                                                                                                              \n",
      "0.974025974025974                                                                                                      \n",
      " 70%|█████████████████████████████████▌              | 7/10 [00:05<00:02,  1.43trial/s, best loss: -0.9688070837998057]"
     ]
    },
    {
     "name": "stderr",
     "output_type": "stream",
     "text": [
      "C:\\Users\\velmurug\\Documents\\full_stability\\transformers\\StaticTransformer.py:44: PerformanceWarning: DataFrame is highly fragmented.  This is usually the result of calling `frame.insert` many times, which has poor performance.  Consider joining all columns at once using pd.concat(axis=1) instead.  To get a de-fragmented frame, use `newframe = frame.copy()`\n",
      "  dt_transformed[col] = 0\n",
      "\n",
      "C:\\Users\\velmurug\\Documents\\full_stability\\transformers\\StaticTransformer.py:44: PerformanceWarning: DataFrame is highly fragmented.  This is usually the result of calling `frame.insert` many times, which has poor performance.  Consider joining all columns at once using pd.concat(axis=1) instead.  To get a de-fragmented frame, use `newframe = frame.copy()`\n",
      "  dt_transformed[col] = 0\n",
      "\n"
     ]
    },
    {
     "name": "stdout",
     "output_type": "stream",
     "text": [
      "Accuracy:                                                                                                              \n",
      "0.9650655021834061                                                                                                     \n",
      "{'var_smoothing': 0.0001873817422860383}                                                                               \n",
      "Accuracy:                                                                                                              \n",
      "0.9674620390455532                                                                                                     \n",
      " 80%|██████████████████████████████████████▍         | 8/10 [00:05<00:01,  1.44trial/s, best loss: -0.9695522312002282]"
     ]
    },
    {
     "name": "stderr",
     "output_type": "stream",
     "text": [
      "C:\\Users\\velmurug\\Documents\\full_stability\\transformers\\StaticTransformer.py:44: PerformanceWarning: DataFrame is highly fragmented.  This is usually the result of calling `frame.insert` many times, which has poor performance.  Consider joining all columns at once using pd.concat(axis=1) instead.  To get a de-fragmented frame, use `newframe = frame.copy()`\n",
      "  dt_transformed[col] = 0\n",
      "\n",
      "C:\\Users\\velmurug\\Documents\\full_stability\\transformers\\StaticTransformer.py:44: PerformanceWarning: DataFrame is highly fragmented.  This is usually the result of calling `frame.insert` many times, which has poor performance.  Consider joining all columns at once using pd.concat(axis=1) instead.  To get a de-fragmented frame, use `newframe = frame.copy()`\n",
      "  dt_transformed[col] = 0\n",
      "\n"
     ]
    },
    {
     "name": "stdout",
     "output_type": "stream",
     "text": [
      "Accuracy:                                                                                                              \n",
      "0.974025974025974                                                                                                      \n",
      "Accuracy:                                                                                                              \n",
      "0.9650655021834061                                                                                                     \n",
      "{'var_smoothing': 0.006579332246575682}                                                                                \n",
      " 90%|███████████████████████████████████████████▏    | 9/10 [00:06<00:00,  1.44trial/s, best loss: -0.9695522312002282]"
     ]
    },
    {
     "name": "stderr",
     "output_type": "stream",
     "text": [
      "C:\\Users\\velmurug\\Documents\\full_stability\\transformers\\StaticTransformer.py:44: PerformanceWarning: DataFrame is highly fragmented.  This is usually the result of calling `frame.insert` many times, which has poor performance.  Consider joining all columns at once using pd.concat(axis=1) instead.  To get a de-fragmented frame, use `newframe = frame.copy()`\n",
      "  dt_transformed[col] = 0\n",
      "\n",
      "C:\\Users\\velmurug\\Documents\\full_stability\\transformers\\StaticTransformer.py:44: PerformanceWarning: DataFrame is highly fragmented.  This is usually the result of calling `frame.insert` many times, which has poor performance.  Consider joining all columns at once using pd.concat(axis=1) instead.  To get a de-fragmented frame, use `newframe = frame.copy()`\n",
      "  dt_transformed[col] = 0\n",
      "\n"
     ]
    },
    {
     "name": "stdout",
     "output_type": "stream",
     "text": [
      "Accuracy:                                                                                                              \n",
      "0.9650655021834061                                                                                                     \n",
      "Accuracy:                                                                                                              \n",
      "0.9612068965517241                                                                                                     \n",
      " 90%|███████████████████████████████████████████▏    | 9/10 [00:06<00:00,  1.44trial/s, best loss: -0.9695522312002282]"
     ]
    },
    {
     "name": "stderr",
     "output_type": "stream",
     "text": [
      "C:\\Users\\velmurug\\Documents\\full_stability\\transformers\\StaticTransformer.py:44: PerformanceWarning: DataFrame is highly fragmented.  This is usually the result of calling `frame.insert` many times, which has poor performance.  Consider joining all columns at once using pd.concat(axis=1) instead.  To get a de-fragmented frame, use `newframe = frame.copy()`\n",
      "  dt_transformed[col] = 0\n",
      "\n"
     ]
    },
    {
     "name": "stdout",
     "output_type": "stream",
     "text": [
      "Accuracy:                                                                                                              \n",
      "0.9606986899563319                                                                                                     \n",
      "100%|███████████████████████████████████████████████| 10/10 [00:07<00:00,  1.39trial/s, best loss: -0.9695522312002282]"
     ]
    },
    {
     "name": "stderr",
     "output_type": "stream",
     "text": [
      "C:\\Users\\velmurug\\Documents\\full_stability\\transformers\\StaticTransformer.py:44: PerformanceWarning: DataFrame is highly fragmented.  This is usually the result of calling `frame.insert` many times, which has poor performance.  Consider joining all columns at once using pd.concat(axis=1) instead.  To get a de-fragmented frame, use `newframe = frame.copy()`\n",
      "  dt_transformed[col] = 0\n",
      "\n"
     ]
    },
    {
     "name": "stdout",
     "output_type": "stream",
     "text": [
      "\n",
      "Optimising 2 of 20 buckets\n",
      "{'var_smoothing': 2.310129700083158e-08}                                                                               \n",
      "Accuracy:                                                                                                              \n",
      "0.9736842105263158                                                                                                     \n",
      "  0%|                                                                           | 0/10 [00:00<?, ?trial/s, best loss=?]"
     ]
    },
    {
     "name": "stderr",
     "output_type": "stream",
     "text": [
      "C:\\Users\\velmurug\\Documents\\full_stability\\transformers\\StaticTransformer.py:44: PerformanceWarning: DataFrame is highly fragmented.  This is usually the result of calling `frame.insert` many times, which has poor performance.  Consider joining all columns at once using pd.concat(axis=1) instead.  To get a de-fragmented frame, use `newframe = frame.copy()`\n",
      "  dt_transformed[col] = 0\n",
      "\n",
      "C:\\Users\\velmurug\\Documents\\full_stability\\transformers\\IndexBasedTransformer.py:58: PerformanceWarning: DataFrame is highly fragmented.  This is usually the result of calling `frame.insert` many times, which has poor performance.  Consider joining all columns at once using pd.concat(axis=1) instead.  To get a de-fragmented frame, use `newframe = frame.copy()`\n",
      "  dt_transformed[col] = 0\n",
      "\n"
     ]
    },
    {
     "name": "stdout",
     "output_type": "stream",
     "text": [
      "Accuracy:                                                                                                              \n",
      "0.9803921568627451                                                                                                     \n",
      "  0%|                                                                           | 0/10 [00:00<?, ?trial/s, best loss=?]"
     ]
    },
    {
     "name": "stderr",
     "output_type": "stream",
     "text": [
      "C:\\Users\\velmurug\\Documents\\full_stability\\transformers\\StaticTransformer.py:44: PerformanceWarning: DataFrame is highly fragmented.  This is usually the result of calling `frame.insert` many times, which has poor performance.  Consider joining all columns at once using pd.concat(axis=1) instead.  To get a de-fragmented frame, use `newframe = frame.copy()`\n",
      "  dt_transformed[col] = 0\n",
      "\n",
      "C:\\Users\\velmurug\\Documents\\full_stability\\transformers\\IndexBasedTransformer.py:58: PerformanceWarning: DataFrame is highly fragmented.  This is usually the result of calling `frame.insert` many times, which has poor performance.  Consider joining all columns at once using pd.concat(axis=1) instead.  To get a de-fragmented frame, use `newframe = frame.copy()`\n",
      "  dt_transformed[col] = 0\n",
      "\n"
     ]
    },
    {
     "name": "stdout",
     "output_type": "stream",
     "text": [
      "Accuracy:                                                                                                              \n",
      "0.9782608695652174                                                                                                     \n",
      "{'var_smoothing': 1.5199110829529332e-05}                                                                              \n",
      " 10%|████▊                                           | 1/10 [00:00<00:08,  1.01trial/s, best loss: -0.9774457456514262]"
     ]
    },
    {
     "name": "stderr",
     "output_type": "stream",
     "text": [
      "C:\\Users\\velmurug\\Documents\\full_stability\\transformers\\StaticTransformer.py:44: PerformanceWarning: DataFrame is highly fragmented.  This is usually the result of calling `frame.insert` many times, which has poor performance.  Consider joining all columns at once using pd.concat(axis=1) instead.  To get a de-fragmented frame, use `newframe = frame.copy()`\n",
      "  dt_transformed[col] = 0\n",
      "\n",
      "C:\\Users\\velmurug\\Documents\\full_stability\\transformers\\IndexBasedTransformer.py:58: PerformanceWarning: DataFrame is highly fragmented.  This is usually the result of calling `frame.insert` many times, which has poor performance.  Consider joining all columns at once using pd.concat(axis=1) instead.  To get a de-fragmented frame, use `newframe = frame.copy()`\n",
      "  dt_transformed[col] = 0\n",
      "\n"
     ]
    },
    {
     "name": "stdout",
     "output_type": "stream",
     "text": [
      "Accuracy:                                                                                                              \n",
      "0.9715536105032823                                                                                                     \n",
      " 10%|████▊                                           | 1/10 [00:01<00:08,  1.01trial/s, best loss: -0.9774457456514262]"
     ]
    },
    {
     "name": "stderr",
     "output_type": "stream",
     "text": [
      "C:\\Users\\velmurug\\Documents\\full_stability\\transformers\\StaticTransformer.py:44: PerformanceWarning: DataFrame is highly fragmented.  This is usually the result of calling `frame.insert` many times, which has poor performance.  Consider joining all columns at once using pd.concat(axis=1) instead.  To get a de-fragmented frame, use `newframe = frame.copy()`\n",
      "  dt_transformed[col] = 0\n",
      "\n",
      "C:\\Users\\velmurug\\Documents\\full_stability\\transformers\\IndexBasedTransformer.py:58: PerformanceWarning: DataFrame is highly fragmented.  This is usually the result of calling `frame.insert` many times, which has poor performance.  Consider joining all columns at once using pd.concat(axis=1) instead.  To get a de-fragmented frame, use `newframe = frame.copy()`\n",
      "  dt_transformed[col] = 0\n",
      "\n"
     ]
    },
    {
     "name": "stdout",
     "output_type": "stream",
     "text": [
      "Accuracy:                                                                                                              \n",
      "0.9782608695652174                                                                                                     \n",
      " 10%|████▊                                           | 1/10 [00:01<00:08,  1.01trial/s, best loss: -0.9774457456514262]"
     ]
    },
    {
     "name": "stderr",
     "output_type": "stream",
     "text": [
      "C:\\Users\\velmurug\\Documents\\full_stability\\transformers\\StaticTransformer.py:44: PerformanceWarning: DataFrame is highly fragmented.  This is usually the result of calling `frame.insert` many times, which has poor performance.  Consider joining all columns at once using pd.concat(axis=1) instead.  To get a de-fragmented frame, use `newframe = frame.copy()`\n",
      "  dt_transformed[col] = 0\n",
      "\n",
      "C:\\Users\\velmurug\\Documents\\full_stability\\transformers\\IndexBasedTransformer.py:58: PerformanceWarning: DataFrame is highly fragmented.  This is usually the result of calling `frame.insert` many times, which has poor performance.  Consider joining all columns at once using pd.concat(axis=1) instead.  To get a de-fragmented frame, use `newframe = frame.copy()`\n",
      "  dt_transformed[col] = 0\n",
      "\n"
     ]
    },
    {
     "name": "stdout",
     "output_type": "stream",
     "text": [
      "Accuracy:                                                                                                              \n",
      "0.9803921568627451                                                                                                     \n",
      "{'var_smoothing': 1.2328467394420635e-09}                                                                              \n",
      " 20%|█████████▌                                      | 2/10 [00:01<00:07,  1.05trial/s, best loss: -0.9774457456514262]"
     ]
    },
    {
     "name": "stderr",
     "output_type": "stream",
     "text": [
      "C:\\Users\\velmurug\\Documents\\full_stability\\transformers\\StaticTransformer.py:44: PerformanceWarning: DataFrame is highly fragmented.  This is usually the result of calling `frame.insert` many times, which has poor performance.  Consider joining all columns at once using pd.concat(axis=1) instead.  To get a de-fragmented frame, use `newframe = frame.copy()`\n",
      "  dt_transformed[col] = 0\n",
      "\n",
      "C:\\Users\\velmurug\\Documents\\full_stability\\transformers\\IndexBasedTransformer.py:58: PerformanceWarning: DataFrame is highly fragmented.  This is usually the result of calling `frame.insert` many times, which has poor performance.  Consider joining all columns at once using pd.concat(axis=1) instead.  To get a de-fragmented frame, use `newframe = frame.copy()`\n",
      "  dt_transformed[col] = 0\n",
      "\n"
     ]
    },
    {
     "name": "stdout",
     "output_type": "stream",
     "text": [
      "Accuracy:                                                                                                              \n",
      "0.9715536105032823                                                                                                     \n",
      " 20%|█████████▌                                      | 2/10 [00:02<00:07,  1.05trial/s, best loss: -0.9774457456514262]"
     ]
    },
    {
     "name": "stderr",
     "output_type": "stream",
     "text": [
      "C:\\Users\\velmurug\\Documents\\full_stability\\transformers\\StaticTransformer.py:44: PerformanceWarning: DataFrame is highly fragmented.  This is usually the result of calling `frame.insert` many times, which has poor performance.  Consider joining all columns at once using pd.concat(axis=1) instead.  To get a de-fragmented frame, use `newframe = frame.copy()`\n",
      "  dt_transformed[col] = 0\n",
      "\n",
      "C:\\Users\\velmurug\\Documents\\full_stability\\transformers\\IndexBasedTransformer.py:58: PerformanceWarning: DataFrame is highly fragmented.  This is usually the result of calling `frame.insert` many times, which has poor performance.  Consider joining all columns at once using pd.concat(axis=1) instead.  To get a de-fragmented frame, use `newframe = frame.copy()`\n",
      "  dt_transformed[col] = 0\n",
      "\n"
     ]
    },
    {
     "name": "stdout",
     "output_type": "stream",
     "text": [
      "Accuracy:                                                                                                              \n",
      "0.9803921568627451                                                                                                     \n",
      " 20%|█████████▌                                      | 2/10 [00:02<00:07,  1.05trial/s, best loss: -0.9774457456514262]"
     ]
    },
    {
     "name": "stderr",
     "output_type": "stream",
     "text": [
      "C:\\Users\\velmurug\\Documents\\full_stability\\transformers\\StaticTransformer.py:44: PerformanceWarning: DataFrame is highly fragmented.  This is usually the result of calling `frame.insert` many times, which has poor performance.  Consider joining all columns at once using pd.concat(axis=1) instead.  To get a de-fragmented frame, use `newframe = frame.copy()`\n",
      "  dt_transformed[col] = 0\n",
      "\n",
      "C:\\Users\\velmurug\\Documents\\full_stability\\transformers\\IndexBasedTransformer.py:58: PerformanceWarning: DataFrame is highly fragmented.  This is usually the result of calling `frame.insert` many times, which has poor performance.  Consider joining all columns at once using pd.concat(axis=1) instead.  To get a de-fragmented frame, use `newframe = frame.copy()`\n",
      "  dt_transformed[col] = 0\n",
      "\n"
     ]
    },
    {
     "name": "stdout",
     "output_type": "stream",
     "text": [
      "Accuracy:                                                                                                              \n",
      "0.9803921568627451                                                                                                     \n",
      "{'var_smoothing': 8.111308307896856e-09}                                                                               \n",
      " 30%|██████████████▍                                 | 3/10 [00:02<00:06,  1.03trial/s, best loss: -0.9774459747429242]"
     ]
    },
    {
     "name": "stderr",
     "output_type": "stream",
     "text": [
      "C:\\Users\\velmurug\\Documents\\full_stability\\transformers\\StaticTransformer.py:44: PerformanceWarning: DataFrame is highly fragmented.  This is usually the result of calling `frame.insert` many times, which has poor performance.  Consider joining all columns at once using pd.concat(axis=1) instead.  To get a de-fragmented frame, use `newframe = frame.copy()`\n",
      "  dt_transformed[col] = 0\n",
      "\n",
      "C:\\Users\\velmurug\\Documents\\full_stability\\transformers\\IndexBasedTransformer.py:58: PerformanceWarning: DataFrame is highly fragmented.  This is usually the result of calling `frame.insert` many times, which has poor performance.  Consider joining all columns at once using pd.concat(axis=1) instead.  To get a de-fragmented frame, use `newframe = frame.copy()`\n",
      "  dt_transformed[col] = 0\n",
      "\n"
     ]
    },
    {
     "name": "stdout",
     "output_type": "stream",
     "text": [
      "Accuracy:                                                                                                              \n",
      "0.9715536105032823                                                                                                     \n",
      " 30%|██████████████▍                                 | 3/10 [00:03<00:06,  1.03trial/s, best loss: -0.9774459747429242]"
     ]
    },
    {
     "name": "stderr",
     "output_type": "stream",
     "text": [
      "C:\\Users\\velmurug\\Documents\\full_stability\\transformers\\StaticTransformer.py:44: PerformanceWarning: DataFrame is highly fragmented.  This is usually the result of calling `frame.insert` many times, which has poor performance.  Consider joining all columns at once using pd.concat(axis=1) instead.  To get a de-fragmented frame, use `newframe = frame.copy()`\n",
      "  dt_transformed[col] = 0\n",
      "\n",
      "C:\\Users\\velmurug\\Documents\\full_stability\\transformers\\IndexBasedTransformer.py:58: PerformanceWarning: DataFrame is highly fragmented.  This is usually the result of calling `frame.insert` many times, which has poor performance.  Consider joining all columns at once using pd.concat(axis=1) instead.  To get a de-fragmented frame, use `newframe = frame.copy()`\n",
      "  dt_transformed[col] = 0\n",
      "\n"
     ]
    },
    {
     "name": "stdout",
     "output_type": "stream",
     "text": [
      "Accuracy:                                                                                                              \n",
      "0.9782608695652174                                                                                                     \n",
      " 30%|██████████████▍                                 | 3/10 [00:03<00:06,  1.03trial/s, best loss: -0.9774459747429242]"
     ]
    },
    {
     "name": "stderr",
     "output_type": "stream",
     "text": [
      "C:\\Users\\velmurug\\Documents\\full_stability\\transformers\\StaticTransformer.py:44: PerformanceWarning: DataFrame is highly fragmented.  This is usually the result of calling `frame.insert` many times, which has poor performance.  Consider joining all columns at once using pd.concat(axis=1) instead.  To get a de-fragmented frame, use `newframe = frame.copy()`\n",
      "  dt_transformed[col] = 0\n",
      "\n",
      "C:\\Users\\velmurug\\Documents\\full_stability\\transformers\\IndexBasedTransformer.py:58: PerformanceWarning: DataFrame is highly fragmented.  This is usually the result of calling `frame.insert` many times, which has poor performance.  Consider joining all columns at once using pd.concat(axis=1) instead.  To get a de-fragmented frame, use `newframe = frame.copy()`\n",
      "  dt_transformed[col] = 0\n",
      "\n"
     ]
    },
    {
     "name": "stdout",
     "output_type": "stream",
     "text": [
      "Accuracy:                                                                                                              \n",
      "0.9803921568627451                                                                                                     \n",
      "{'var_smoothing': 0.0003511191734215131}                                                                               \n",
      " 40%|███████████████████▏                            | 4/10 [00:03<00:06,  1.00s/trial, best loss: -0.9774459747429242]"
     ]
    },
    {
     "name": "stderr",
     "output_type": "stream",
     "text": [
      "C:\\Users\\velmurug\\Documents\\full_stability\\transformers\\StaticTransformer.py:44: PerformanceWarning: DataFrame is highly fragmented.  This is usually the result of calling `frame.insert` many times, which has poor performance.  Consider joining all columns at once using pd.concat(axis=1) instead.  To get a de-fragmented frame, use `newframe = frame.copy()`\n",
      "  dt_transformed[col] = 0\n",
      "\n",
      "C:\\Users\\velmurug\\Documents\\full_stability\\transformers\\IndexBasedTransformer.py:58: PerformanceWarning: DataFrame is highly fragmented.  This is usually the result of calling `frame.insert` many times, which has poor performance.  Consider joining all columns at once using pd.concat(axis=1) instead.  To get a de-fragmented frame, use `newframe = frame.copy()`\n",
      "  dt_transformed[col] = 0\n",
      "\n"
     ]
    },
    {
     "name": "stdout",
     "output_type": "stream",
     "text": [
      "Accuracy:                                                                                                              \n",
      "0.971677559912854                                                                                                      \n",
      " 40%|███████████████████▏                            | 4/10 [00:04<00:06,  1.00s/trial, best loss: -0.9774459747429242]"
     ]
    },
    {
     "name": "stderr",
     "output_type": "stream",
     "text": [
      "C:\\Users\\velmurug\\Documents\\full_stability\\transformers\\StaticTransformer.py:44: PerformanceWarning: DataFrame is highly fragmented.  This is usually the result of calling `frame.insert` many times, which has poor performance.  Consider joining all columns at once using pd.concat(axis=1) instead.  To get a de-fragmented frame, use `newframe = frame.copy()`\n",
      "  dt_transformed[col] = 0\n",
      "\n",
      "C:\\Users\\velmurug\\Documents\\full_stability\\transformers\\IndexBasedTransformer.py:58: PerformanceWarning: DataFrame is highly fragmented.  This is usually the result of calling `frame.insert` many times, which has poor performance.  Consider joining all columns at once using pd.concat(axis=1) instead.  To get a de-fragmented frame, use `newframe = frame.copy()`\n",
      "  dt_transformed[col] = 0\n",
      "\n"
     ]
    },
    {
     "name": "stdout",
     "output_type": "stream",
     "text": [
      "Accuracy:                                                                                                              \n",
      "0.9804772234273319                                                                                                     \n",
      " 40%|███████████████████▏                            | 4/10 [00:04<00:06,  1.00s/trial, best loss: -0.9774459747429242]"
     ]
    },
    {
     "name": "stderr",
     "output_type": "stream",
     "text": [
      "C:\\Users\\velmurug\\Documents\\full_stability\\transformers\\StaticTransformer.py:44: PerformanceWarning: DataFrame is highly fragmented.  This is usually the result of calling `frame.insert` many times, which has poor performance.  Consider joining all columns at once using pd.concat(axis=1) instead.  To get a de-fragmented frame, use `newframe = frame.copy()`\n",
      "  dt_transformed[col] = 0\n",
      "\n",
      "C:\\Users\\velmurug\\Documents\\full_stability\\transformers\\IndexBasedTransformer.py:58: PerformanceWarning: DataFrame is highly fragmented.  This is usually the result of calling `frame.insert` many times, which has poor performance.  Consider joining all columns at once using pd.concat(axis=1) instead.  To get a de-fragmented frame, use `newframe = frame.copy()`\n",
      "  dt_transformed[col] = 0\n",
      "\n"
     ]
    },
    {
     "name": "stdout",
     "output_type": "stream",
     "text": [
      "Accuracy:                                                                                                              \n",
      "0.9761388286334056                                                                                                     \n",
      " 50%|████████████████████████                        | 5/10 [00:04<00:04,  1.02trial/s, best loss: -0.9774459747429242]"
     ]
    },
    {
     "name": "stderr",
     "output_type": "stream",
     "text": [
      "C:\\Users\\velmurug\\Documents\\full_stability\\transformers\\StaticTransformer.py:44: PerformanceWarning: DataFrame is highly fragmented.  This is usually the result of calling `frame.insert` many times, which has poor performance.  Consider joining all columns at once using pd.concat(axis=1) instead.  To get a de-fragmented frame, use `newframe = frame.copy()`\n",
      "  dt_transformed[col] = 0\n",
      "\n",
      "C:\\Users\\velmurug\\Documents\\full_stability\\transformers\\IndexBasedTransformer.py:58: PerformanceWarning: DataFrame is highly fragmented.  This is usually the result of calling `frame.insert` many times, which has poor performance.  Consider joining all columns at once using pd.concat(axis=1) instead.  To get a de-fragmented frame, use `newframe = frame.copy()`\n",
      "  dt_transformed[col] = 0\n",
      "\n"
     ]
    },
    {
     "name": "stdout",
     "output_type": "stream",
     "text": [
      "{'var_smoothing': 4.3287612810830526e-07}                                                                              \n",
      "Accuracy:                                                                                                              \n",
      "0.971677559912854                                                                                                      \n",
      " 50%|████████████████████████                        | 5/10 [00:05<00:04,  1.02trial/s, best loss: -0.9774459747429242]"
     ]
    },
    {
     "name": "stderr",
     "output_type": "stream",
     "text": [
      "C:\\Users\\velmurug\\Documents\\full_stability\\transformers\\StaticTransformer.py:44: PerformanceWarning: DataFrame is highly fragmented.  This is usually the result of calling `frame.insert` many times, which has poor performance.  Consider joining all columns at once using pd.concat(axis=1) instead.  To get a de-fragmented frame, use `newframe = frame.copy()`\n",
      "  dt_transformed[col] = 0\n",
      "\n",
      "C:\\Users\\velmurug\\Documents\\full_stability\\transformers\\IndexBasedTransformer.py:58: PerformanceWarning: DataFrame is highly fragmented.  This is usually the result of calling `frame.insert` many times, which has poor performance.  Consider joining all columns at once using pd.concat(axis=1) instead.  To get a de-fragmented frame, use `newframe = frame.copy()`\n",
      "  dt_transformed[col] = 0\n",
      "\n"
     ]
    },
    {
     "name": "stdout",
     "output_type": "stream",
     "text": [
      "Accuracy:                                                                                                              \n",
      "0.9803921568627451                                                                                                     \n",
      " 50%|████████████████████████                        | 5/10 [00:05<00:04,  1.02trial/s, best loss: -0.9774459747429242]"
     ]
    },
    {
     "name": "stderr",
     "output_type": "stream",
     "text": [
      "C:\\Users\\velmurug\\Documents\\full_stability\\transformers\\StaticTransformer.py:44: PerformanceWarning: DataFrame is highly fragmented.  This is usually the result of calling `frame.insert` many times, which has poor performance.  Consider joining all columns at once using pd.concat(axis=1) instead.  To get a de-fragmented frame, use `newframe = frame.copy()`\n",
      "  dt_transformed[col] = 0\n",
      "\n",
      "C:\\Users\\velmurug\\Documents\\full_stability\\transformers\\IndexBasedTransformer.py:58: PerformanceWarning: DataFrame is highly fragmented.  This is usually the result of calling `frame.insert` many times, which has poor performance.  Consider joining all columns at once using pd.concat(axis=1) instead.  To get a de-fragmented frame, use `newframe = frame.copy()`\n",
      "  dt_transformed[col] = 0\n",
      "\n"
     ]
    },
    {
     "name": "stdout",
     "output_type": "stream",
     "text": [
      "Accuracy:                                                                                                              \n",
      "0.9782608695652174                                                                                                     \n",
      "{'var_smoothing': 0.0015199110829529332}                                                                               \n",
      " 60%|████████████████████████████▊                   | 6/10 [00:05<00:03,  1.02trial/s, best loss: -0.9774459747429242]"
     ]
    },
    {
     "name": "stderr",
     "output_type": "stream",
     "text": [
      "C:\\Users\\velmurug\\Documents\\full_stability\\transformers\\StaticTransformer.py:44: PerformanceWarning: DataFrame is highly fragmented.  This is usually the result of calling `frame.insert` many times, which has poor performance.  Consider joining all columns at once using pd.concat(axis=1) instead.  To get a de-fragmented frame, use `newframe = frame.copy()`\n",
      "  dt_transformed[col] = 0\n",
      "\n",
      "C:\\Users\\velmurug\\Documents\\full_stability\\transformers\\IndexBasedTransformer.py:58: PerformanceWarning: DataFrame is highly fragmented.  This is usually the result of calling `frame.insert` many times, which has poor performance.  Consider joining all columns at once using pd.concat(axis=1) instead.  To get a de-fragmented frame, use `newframe = frame.copy()`\n",
      "  dt_transformed[col] = 0\n",
      "\n"
     ]
    },
    {
     "name": "stdout",
     "output_type": "stream",
     "text": [
      "Accuracy:                                                                                                              \n",
      "0.9737991266375546                                                                                                     \n",
      " 60%|████████████████████████████▊                   | 6/10 [00:06<00:03,  1.02trial/s, best loss: -0.9774459747429242]"
     ]
    },
    {
     "name": "stderr",
     "output_type": "stream",
     "text": [
      "C:\\Users\\velmurug\\Documents\\full_stability\\transformers\\StaticTransformer.py:44: PerformanceWarning: DataFrame is highly fragmented.  This is usually the result of calling `frame.insert` many times, which has poor performance.  Consider joining all columns at once using pd.concat(axis=1) instead.  To get a de-fragmented frame, use `newframe = frame.copy()`\n",
      "  dt_transformed[col] = 0\n",
      "\n",
      "C:\\Users\\velmurug\\Documents\\full_stability\\transformers\\IndexBasedTransformer.py:58: PerformanceWarning: DataFrame is highly fragmented.  This is usually the result of calling `frame.insert` many times, which has poor performance.  Consider joining all columns at once using pd.concat(axis=1) instead.  To get a de-fragmented frame, use `newframe = frame.copy()`\n",
      "  dt_transformed[col] = 0\n",
      "\n"
     ]
    },
    {
     "name": "stdout",
     "output_type": "stream",
     "text": [
      "Accuracy:                                                                                                              \n",
      "0.9826086956521739                                                                                                     \n",
      " 60%|████████████████████████████▊                   | 6/10 [00:06<00:03,  1.02trial/s, best loss: -0.9774459747429242]"
     ]
    },
    {
     "name": "stderr",
     "output_type": "stream",
     "text": [
      "C:\\Users\\velmurug\\Documents\\full_stability\\transformers\\StaticTransformer.py:44: PerformanceWarning: DataFrame is highly fragmented.  This is usually the result of calling `frame.insert` many times, which has poor performance.  Consider joining all columns at once using pd.concat(axis=1) instead.  To get a de-fragmented frame, use `newframe = frame.copy()`\n",
      "  dt_transformed[col] = 0\n",
      "\n",
      "C:\\Users\\velmurug\\Documents\\full_stability\\transformers\\IndexBasedTransformer.py:58: PerformanceWarning: DataFrame is highly fragmented.  This is usually the result of calling `frame.insert` many times, which has poor performance.  Consider joining all columns at once using pd.concat(axis=1) instead.  To get a de-fragmented frame, use `newframe = frame.copy()`\n",
      "  dt_transformed[col] = 0\n",
      "\n"
     ]
    },
    {
     "name": "stdout",
     "output_type": "stream",
     "text": [
      "Accuracy:                                                                                                              \n",
      "0.9761388286334056                                                                                                     \n",
      "{'var_smoothing': 1.0}                                                                                                 \n",
      " 70%|█████████████████████████████████▌              | 7/10 [00:06<00:02,  1.04trial/s, best loss: -0.9775155503077114]"
     ]
    },
    {
     "name": "stderr",
     "output_type": "stream",
     "text": [
      "C:\\Users\\velmurug\\Documents\\full_stability\\transformers\\StaticTransformer.py:44: PerformanceWarning: DataFrame is highly fragmented.  This is usually the result of calling `frame.insert` many times, which has poor performance.  Consider joining all columns at once using pd.concat(axis=1) instead.  To get a de-fragmented frame, use `newframe = frame.copy()`\n",
      "  dt_transformed[col] = 0\n",
      "\n",
      "C:\\Users\\velmurug\\Documents\\full_stability\\transformers\\IndexBasedTransformer.py:58: PerformanceWarning: DataFrame is highly fragmented.  This is usually the result of calling `frame.insert` many times, which has poor performance.  Consider joining all columns at once using pd.concat(axis=1) instead.  To get a de-fragmented frame, use `newframe = frame.copy()`\n",
      "  dt_transformed[col] = 0\n",
      "\n"
     ]
    },
    {
     "name": "stdout",
     "output_type": "stream",
     "text": [
      "Accuracy:                                                                                                              \n",
      "0.7363834422657953                                                                                                     \n",
      " 70%|█████████████████████████████████▌              | 7/10 [00:07<00:02,  1.04trial/s, best loss: -0.9775155503077114]"
     ]
    },
    {
     "name": "stderr",
     "output_type": "stream",
     "text": [
      "C:\\Users\\velmurug\\Documents\\full_stability\\transformers\\StaticTransformer.py:44: PerformanceWarning: DataFrame is highly fragmented.  This is usually the result of calling `frame.insert` many times, which has poor performance.  Consider joining all columns at once using pd.concat(axis=1) instead.  To get a de-fragmented frame, use `newframe = frame.copy()`\n",
      "  dt_transformed[col] = 0\n",
      "\n",
      "C:\\Users\\velmurug\\Documents\\full_stability\\transformers\\IndexBasedTransformer.py:58: PerformanceWarning: DataFrame is highly fragmented.  This is usually the result of calling `frame.insert` many times, which has poor performance.  Consider joining all columns at once using pd.concat(axis=1) instead.  To get a de-fragmented frame, use `newframe = frame.copy()`\n",
      "  dt_transformed[col] = 0\n",
      "\n"
     ]
    },
    {
     "name": "stdout",
     "output_type": "stream",
     "text": [
      "Accuracy:                                                                                                              \n",
      "0.7635574837310195                                                                                                     \n",
      " 70%|█████████████████████████████████▌              | 7/10 [00:07<00:02,  1.04trial/s, best loss: -0.9775155503077114]"
     ]
    },
    {
     "name": "stderr",
     "output_type": "stream",
     "text": [
      "C:\\Users\\velmurug\\Documents\\full_stability\\transformers\\StaticTransformer.py:44: PerformanceWarning: DataFrame is highly fragmented.  This is usually the result of calling `frame.insert` many times, which has poor performance.  Consider joining all columns at once using pd.concat(axis=1) instead.  To get a de-fragmented frame, use `newframe = frame.copy()`\n",
      "  dt_transformed[col] = 0\n",
      "\n",
      "C:\\Users\\velmurug\\Documents\\full_stability\\transformers\\IndexBasedTransformer.py:58: PerformanceWarning: DataFrame is highly fragmented.  This is usually the result of calling `frame.insert` many times, which has poor performance.  Consider joining all columns at once using pd.concat(axis=1) instead.  To get a de-fragmented frame, use `newframe = frame.copy()`\n",
      "  dt_transformed[col] = 0\n",
      "\n"
     ]
    },
    {
     "name": "stdout",
     "output_type": "stream",
     "text": [
      "Accuracy:                                                                                                              \n",
      "0.7709251101321586                                                                                                     \n",
      "{'var_smoothing': 0.15199110829529336}                                                                                 \n",
      " 80%|██████████████████████████████████████▍         | 8/10 [00:07<00:01,  1.04trial/s, best loss: -0.9775155503077114]"
     ]
    },
    {
     "name": "stderr",
     "output_type": "stream",
     "text": [
      "C:\\Users\\velmurug\\Documents\\full_stability\\transformers\\StaticTransformer.py:44: PerformanceWarning: DataFrame is highly fragmented.  This is usually the result of calling `frame.insert` many times, which has poor performance.  Consider joining all columns at once using pd.concat(axis=1) instead.  To get a de-fragmented frame, use `newframe = frame.copy()`\n",
      "  dt_transformed[col] = 0\n",
      "\n",
      "C:\\Users\\velmurug\\Documents\\full_stability\\transformers\\IndexBasedTransformer.py:58: PerformanceWarning: DataFrame is highly fragmented.  This is usually the result of calling `frame.insert` many times, which has poor performance.  Consider joining all columns at once using pd.concat(axis=1) instead.  To get a de-fragmented frame, use `newframe = frame.copy()`\n",
      "  dt_transformed[col] = 0\n",
      "\n"
     ]
    },
    {
     "name": "stdout",
     "output_type": "stream",
     "text": [
      "Accuracy:                                                                                                              \n",
      "0.7735042735042735                                                                                                     \n",
      " 80%|██████████████████████████████████████▍         | 8/10 [00:08<00:01,  1.04trial/s, best loss: -0.9775155503077114]"
     ]
    },
    {
     "name": "stderr",
     "output_type": "stream",
     "text": [
      "C:\\Users\\velmurug\\Documents\\full_stability\\transformers\\StaticTransformer.py:44: PerformanceWarning: DataFrame is highly fragmented.  This is usually the result of calling `frame.insert` many times, which has poor performance.  Consider joining all columns at once using pd.concat(axis=1) instead.  To get a de-fragmented frame, use `newframe = frame.copy()`\n",
      "  dt_transformed[col] = 0\n",
      "\n",
      "C:\\Users\\velmurug\\Documents\\full_stability\\transformers\\IndexBasedTransformer.py:58: PerformanceWarning: DataFrame is highly fragmented.  This is usually the result of calling `frame.insert` many times, which has poor performance.  Consider joining all columns at once using pd.concat(axis=1) instead.  To get a de-fragmented frame, use `newframe = frame.copy()`\n",
      "  dt_transformed[col] = 0\n",
      "\n"
     ]
    },
    {
     "name": "stdout",
     "output_type": "stream",
     "text": [
      "Accuracy:                                                                                                              \n",
      "0.7872340425531915                                                                                                     \n",
      " 80%|██████████████████████████████████████▍         | 8/10 [00:08<00:01,  1.04trial/s, best loss: -0.9775155503077114]"
     ]
    },
    {
     "name": "stderr",
     "output_type": "stream",
     "text": [
      "C:\\Users\\velmurug\\Documents\\full_stability\\transformers\\StaticTransformer.py:44: PerformanceWarning: DataFrame is highly fragmented.  This is usually the result of calling `frame.insert` many times, which has poor performance.  Consider joining all columns at once using pd.concat(axis=1) instead.  To get a de-fragmented frame, use `newframe = frame.copy()`\n",
      "  dt_transformed[col] = 0\n",
      "\n",
      "C:\\Users\\velmurug\\Documents\\full_stability\\transformers\\IndexBasedTransformer.py:58: PerformanceWarning: DataFrame is highly fragmented.  This is usually the result of calling `frame.insert` many times, which has poor performance.  Consider joining all columns at once using pd.concat(axis=1) instead.  To get a de-fragmented frame, use `newframe = frame.copy()`\n",
      "  dt_transformed[col] = 0\n",
      "\n"
     ]
    },
    {
     "name": "stdout",
     "output_type": "stream",
     "text": [
      "Accuracy:                                                                                                              \n",
      "0.7982646420824294                                                                                                     \n",
      "{'var_smoothing': 0.006579332246575682}                                                                                \n",
      " 90%|███████████████████████████████████████████▏    | 9/10 [00:08<00:00,  1.03trial/s, best loss: -0.9775155503077114]"
     ]
    },
    {
     "name": "stderr",
     "output_type": "stream",
     "text": [
      "C:\\Users\\velmurug\\Documents\\full_stability\\transformers\\StaticTransformer.py:44: PerformanceWarning: DataFrame is highly fragmented.  This is usually the result of calling `frame.insert` many times, which has poor performance.  Consider joining all columns at once using pd.concat(axis=1) instead.  To get a de-fragmented frame, use `newframe = frame.copy()`\n",
      "  dt_transformed[col] = 0\n",
      "\n",
      "C:\\Users\\velmurug\\Documents\\full_stability\\transformers\\IndexBasedTransformer.py:58: PerformanceWarning: DataFrame is highly fragmented.  This is usually the result of calling `frame.insert` many times, which has poor performance.  Consider joining all columns at once using pd.concat(axis=1) instead.  To get a de-fragmented frame, use `newframe = frame.copy()`\n",
      "  dt_transformed[col] = 0\n",
      "\n"
     ]
    },
    {
     "name": "stdout",
     "output_type": "stream",
     "text": [
      "Accuracy:                                                                                                              \n",
      "0.9559471365638768                                                                                                     \n",
      " 90%|███████████████████████████████████████████▏    | 9/10 [00:09<00:00,  1.03trial/s, best loss: -0.9775155503077114]"
     ]
    },
    {
     "name": "stderr",
     "output_type": "stream",
     "text": [
      "C:\\Users\\velmurug\\Documents\\full_stability\\transformers\\StaticTransformer.py:44: PerformanceWarning: DataFrame is highly fragmented.  This is usually the result of calling `frame.insert` many times, which has poor performance.  Consider joining all columns at once using pd.concat(axis=1) instead.  To get a de-fragmented frame, use `newframe = frame.copy()`\n",
      "  dt_transformed[col] = 0\n",
      "\n",
      "C:\\Users\\velmurug\\Documents\\full_stability\\transformers\\IndexBasedTransformer.py:58: PerformanceWarning: DataFrame is highly fragmented.  This is usually the result of calling `frame.insert` many times, which has poor performance.  Consider joining all columns at once using pd.concat(axis=1) instead.  To get a de-fragmented frame, use `newframe = frame.copy()`\n",
      "  dt_transformed[col] = 0\n",
      "\n"
     ]
    },
    {
     "name": "stdout",
     "output_type": "stream",
     "text": [
      "Accuracy:                                                                                                              \n",
      "0.9668874172185431                                                                                                     \n",
      " 90%|███████████████████████████████████████████▏    | 9/10 [00:09<00:00,  1.03trial/s, best loss: -0.9775155503077114]"
     ]
    },
    {
     "name": "stderr",
     "output_type": "stream",
     "text": [
      "C:\\Users\\velmurug\\Documents\\full_stability\\transformers\\StaticTransformer.py:44: PerformanceWarning: DataFrame is highly fragmented.  This is usually the result of calling `frame.insert` many times, which has poor performance.  Consider joining all columns at once using pd.concat(axis=1) instead.  To get a de-fragmented frame, use `newframe = frame.copy()`\n",
      "  dt_transformed[col] = 0\n",
      "\n",
      "C:\\Users\\velmurug\\Documents\\full_stability\\transformers\\IndexBasedTransformer.py:58: PerformanceWarning: DataFrame is highly fragmented.  This is usually the result of calling `frame.insert` many times, which has poor performance.  Consider joining all columns at once using pd.concat(axis=1) instead.  To get a de-fragmented frame, use `newframe = frame.copy()`\n",
      "  dt_transformed[col] = 0\n",
      "\n"
     ]
    },
    {
     "name": "stdout",
     "output_type": "stream",
     "text": [
      "Accuracy:                                                                                                              \n",
      "0.962800875273523                                                                                                      \n",
      "100%|███████████████████████████████████████████████| 10/10 [00:09<00:00,  1.03trial/s, best loss: -0.9775155503077114]"
     ]
    },
    {
     "name": "stderr",
     "output_type": "stream",
     "text": [
      "C:\\Users\\velmurug\\Documents\\full_stability\\transformers\\StaticTransformer.py:44: PerformanceWarning: DataFrame is highly fragmented.  This is usually the result of calling `frame.insert` many times, which has poor performance.  Consider joining all columns at once using pd.concat(axis=1) instead.  To get a de-fragmented frame, use `newframe = frame.copy()`\n",
      "  dt_transformed[col] = 0\n",
      "\n",
      "C:\\Users\\velmurug\\Documents\\full_stability\\transformers\\IndexBasedTransformer.py:58: PerformanceWarning: DataFrame is highly fragmented.  This is usually the result of calling `frame.insert` many times, which has poor performance.  Consider joining all columns at once using pd.concat(axis=1) instead.  To get a de-fragmented frame, use `newframe = frame.copy()`\n",
      "  dt_transformed[col] = 0\n",
      "\n"
     ]
    },
    {
     "name": "stdout",
     "output_type": "stream",
     "text": [
      "\n",
      "Optimising 3 of 20 buckets\n",
      "{'var_smoothing': 2.310129700083158e-09}                                                                               \n",
      "Accuracy:                                                                                                              \n",
      "0.968609865470852                                                                                                      \n",
      "  0%|                                                                           | 0/10 [00:00<?, ?trial/s, best loss=?]"
     ]
    },
    {
     "name": "stderr",
     "output_type": "stream",
     "text": [
      "C:\\Users\\velmurug\\Documents\\full_stability\\transformers\\StaticTransformer.py:44: PerformanceWarning: DataFrame is highly fragmented.  This is usually the result of calling `frame.insert` many times, which has poor performance.  Consider joining all columns at once using pd.concat(axis=1) instead.  To get a de-fragmented frame, use `newframe = frame.copy()`\n",
      "  dt_transformed[col] = 0\n",
      "\n",
      "C:\\Users\\velmurug\\Documents\\full_stability\\transformers\\IndexBasedTransformer.py:58: PerformanceWarning: DataFrame is highly fragmented.  This is usually the result of calling `frame.insert` many times, which has poor performance.  Consider joining all columns at once using pd.concat(axis=1) instead.  To get a de-fragmented frame, use `newframe = frame.copy()`\n",
      "  dt_transformed[col] = 0\n",
      "\n"
     ]
    },
    {
     "name": "stdout",
     "output_type": "stream",
     "text": [
      "Accuracy:                                                                                                              \n",
      "                                                                                                                       "
     ]
    },
    {
     "name": "stderr",
     "output_type": "stream",
     "text": [
      "C:\\Users\\velmurug\\Documents\\full_stability\\transformers\\StaticTransformer.py:44: PerformanceWarning: DataFrame is highly fragmented.  This is usually the result of calling `frame.insert` many times, which has poor performance.  Consider joining all columns at once using pd.concat(axis=1) instead.  To get a de-fragmented frame, use `newframe = frame.copy()`\n",
      "  dt_transformed[col] = 0\n",
      "\n",
      "C:\\Users\\velmurug\\Documents\\full_stability\\transformers\\IndexBasedTransformer.py:58: PerformanceWarning: DataFrame is highly fragmented.  This is usually the result of calling `frame.insert` many times, which has poor performance.  Consider joining all columns at once using pd.concat(axis=1) instead.  To get a de-fragmented frame, use `newframe = frame.copy()`\n",
      "  dt_transformed[col] = 0\n",
      "\n"
     ]
    },
    {
     "name": "stdout",
     "output_type": "stream",
     "text": [
      "0.9755011135857461\n",
      "Accuracy:                                                                                                              \n",
      "                                                                                                                       "
     ]
    },
    {
     "name": "stderr",
     "output_type": "stream",
     "text": [
      "C:\\Users\\velmurug\\Documents\\full_stability\\transformers\\StaticTransformer.py:44: PerformanceWarning: DataFrame is highly fragmented.  This is usually the result of calling `frame.insert` many times, which has poor performance.  Consider joining all columns at once using pd.concat(axis=1) instead.  To get a de-fragmented frame, use `newframe = frame.copy()`\n",
      "  dt_transformed[col] = 0\n",
      "\n",
      "C:\\Users\\velmurug\\Documents\\full_stability\\transformers\\IndexBasedTransformer.py:58: PerformanceWarning: DataFrame is highly fragmented.  This is usually the result of calling `frame.insert` many times, which has poor performance.  Consider joining all columns at once using pd.concat(axis=1) instead.  To get a de-fragmented frame, use `newframe = frame.copy()`\n",
      "  dt_transformed[col] = 0\n",
      "\n"
     ]
    },
    {
     "name": "stdout",
     "output_type": "stream",
     "text": [
      "0.9777777777777777\n",
      "{'var_smoothing': 0.657933224657568}                                                                                   \n",
      " 10%|████▉                                            | 1/10 [00:01<00:10,  1.14s/trial, best loss: -0.973962918944792]"
     ]
    },
    {
     "name": "stderr",
     "output_type": "stream",
     "text": [
      "C:\\Users\\velmurug\\Documents\\full_stability\\transformers\\StaticTransformer.py:44: PerformanceWarning: DataFrame is highly fragmented.  This is usually the result of calling `frame.insert` many times, which has poor performance.  Consider joining all columns at once using pd.concat(axis=1) instead.  To get a de-fragmented frame, use `newframe = frame.copy()`\n",
      "  dt_transformed[col] = 0\n",
      "\n",
      "C:\\Users\\velmurug\\Documents\\full_stability\\transformers\\IndexBasedTransformer.py:58: PerformanceWarning: DataFrame is highly fragmented.  This is usually the result of calling `frame.insert` many times, which has poor performance.  Consider joining all columns at once using pd.concat(axis=1) instead.  To get a de-fragmented frame, use `newframe = frame.copy()`\n",
      "  dt_transformed[col] = 0\n",
      "\n"
     ]
    },
    {
     "name": "stdout",
     "output_type": "stream",
     "text": [
      "Accuracy:                                                                                                              \n",
      "0.7889125799573561                                                                                                     \n",
      "Accuracy:                                                                                                              \n",
      "0.7777777777777778                                                                                                     \n",
      " 10%|████▉                                            | 1/10 [00:01<00:10,  1.14s/trial, best loss: -0.973962918944792]"
     ]
    },
    {
     "name": "stderr",
     "output_type": "stream",
     "text": [
      "C:\\Users\\velmurug\\Documents\\full_stability\\transformers\\StaticTransformer.py:44: PerformanceWarning: DataFrame is highly fragmented.  This is usually the result of calling `frame.insert` many times, which has poor performance.  Consider joining all columns at once using pd.concat(axis=1) instead.  To get a de-fragmented frame, use `newframe = frame.copy()`\n",
      "  dt_transformed[col] = 0\n",
      "\n",
      "C:\\Users\\velmurug\\Documents\\full_stability\\transformers\\IndexBasedTransformer.py:58: PerformanceWarning: DataFrame is highly fragmented.  This is usually the result of calling `frame.insert` many times, which has poor performance.  Consider joining all columns at once using pd.concat(axis=1) instead.  To get a de-fragmented frame, use `newframe = frame.copy()`\n",
      "  dt_transformed[col] = 0\n",
      "\n"
     ]
    },
    {
     "name": "stdout",
     "output_type": "stream",
     "text": [
      "Accuracy:                                                                                                              \n",
      "0.7554585152838428                                                                                                     \n",
      "{'var_smoothing': 1e-07}                                                                                               \n",
      " 20%|█████████▊                                       | 2/10 [00:02<00:08,  1.12s/trial, best loss: -0.973962918944792]"
     ]
    },
    {
     "name": "stderr",
     "output_type": "stream",
     "text": [
      "C:\\Users\\velmurug\\Documents\\full_stability\\transformers\\StaticTransformer.py:44: PerformanceWarning: DataFrame is highly fragmented.  This is usually the result of calling `frame.insert` many times, which has poor performance.  Consider joining all columns at once using pd.concat(axis=1) instead.  To get a de-fragmented frame, use `newframe = frame.copy()`\n",
      "  dt_transformed[col] = 0\n",
      "\n",
      "C:\\Users\\velmurug\\Documents\\full_stability\\transformers\\IndexBasedTransformer.py:58: PerformanceWarning: DataFrame is highly fragmented.  This is usually the result of calling `frame.insert` many times, which has poor performance.  Consider joining all columns at once using pd.concat(axis=1) instead.  To get a de-fragmented frame, use `newframe = frame.copy()`\n",
      "  dt_transformed[col] = 0\n",
      "\n"
     ]
    },
    {
     "name": "stdout",
     "output_type": "stream",
     "text": [
      "Accuracy:                                                                                                              \n",
      "0.9662921348314606                                                                                                     \n",
      " 20%|█████████▊                                       | 2/10 [00:02<00:08,  1.12s/trial, best loss: -0.973962918944792]"
     ]
    },
    {
     "name": "stderr",
     "output_type": "stream",
     "text": [
      "C:\\Users\\velmurug\\Documents\\full_stability\\transformers\\StaticTransformer.py:44: PerformanceWarning: DataFrame is highly fragmented.  This is usually the result of calling `frame.insert` many times, which has poor performance.  Consider joining all columns at once using pd.concat(axis=1) instead.  To get a de-fragmented frame, use `newframe = frame.copy()`\n",
      "  dt_transformed[col] = 0\n",
      "\n",
      "C:\\Users\\velmurug\\Documents\\full_stability\\transformers\\IndexBasedTransformer.py:58: PerformanceWarning: DataFrame is highly fragmented.  This is usually the result of calling `frame.insert` many times, which has poor performance.  Consider joining all columns at once using pd.concat(axis=1) instead.  To get a de-fragmented frame, use `newframe = frame.copy()`\n",
      "  dt_transformed[col] = 0\n",
      "\n"
     ]
    },
    {
     "name": "stdout",
     "output_type": "stream",
     "text": [
      "Accuracy:                                                                                                              \n",
      "0.9709172259507829                                                                                                     \n",
      " 20%|█████████▊                                       | 2/10 [00:02<00:08,  1.12s/trial, best loss: -0.973962918944792]"
     ]
    },
    {
     "name": "stderr",
     "output_type": "stream",
     "text": [
      "C:\\Users\\velmurug\\Documents\\full_stability\\transformers\\StaticTransformer.py:44: PerformanceWarning: DataFrame is highly fragmented.  This is usually the result of calling `frame.insert` many times, which has poor performance.  Consider joining all columns at once using pd.concat(axis=1) instead.  To get a de-fragmented frame, use `newframe = frame.copy()`\n",
      "  dt_transformed[col] = 0\n",
      "\n",
      "C:\\Users\\velmurug\\Documents\\full_stability\\transformers\\IndexBasedTransformer.py:58: PerformanceWarning: DataFrame is highly fragmented.  This is usually the result of calling `frame.insert` many times, which has poor performance.  Consider joining all columns at once using pd.concat(axis=1) instead.  To get a de-fragmented frame, use `newframe = frame.copy()`\n",
      "  dt_transformed[col] = 0\n",
      "\n"
     ]
    },
    {
     "name": "stdout",
     "output_type": "stream",
     "text": [
      "Accuracy:                                                                                                              \n",
      "0.9709172259507829                                                                                                     \n",
      "{'var_smoothing': 6.579332246575683e-06}                                                                               \n",
      " 30%|██████████████▋                                  | 3/10 [00:03<00:07,  1.10s/trial, best loss: -0.973962918944792]"
     ]
    },
    {
     "name": "stderr",
     "output_type": "stream",
     "text": [
      "C:\\Users\\velmurug\\Documents\\full_stability\\transformers\\StaticTransformer.py:44: PerformanceWarning: DataFrame is highly fragmented.  This is usually the result of calling `frame.insert` many times, which has poor performance.  Consider joining all columns at once using pd.concat(axis=1) instead.  To get a de-fragmented frame, use `newframe = frame.copy()`\n",
      "  dt_transformed[col] = 0\n",
      "\n",
      "C:\\Users\\velmurug\\Documents\\full_stability\\transformers\\IndexBasedTransformer.py:58: PerformanceWarning: DataFrame is highly fragmented.  This is usually the result of calling `frame.insert` many times, which has poor performance.  Consider joining all columns at once using pd.concat(axis=1) instead.  To get a de-fragmented frame, use `newframe = frame.copy()`\n",
      "  dt_transformed[col] = 0\n",
      "\n",
      "C:\\Users\\velmurug\\Documents\\full_stability\\transformers\\StaticTransformer.py:44: PerformanceWarning: DataFrame is highly fragmented.  This is usually the result of calling `frame.insert` many times, which has poor performance.  Consider joining all columns at once using pd.concat(axis=1) instead.  To get a de-fragmented frame, use `newframe = frame.copy()`\n",
      "  dt_transformed[col] = 0\n",
      "\n",
      "C:\\Users\\velmurug\\Documents\\full_stability\\transformers\\IndexBasedTransformer.py:58: PerformanceWarning: DataFrame is highly fragmented.  This is usually the result of calling `frame.insert` many times, which has poor performance.  Consider joining all columns at once using pd.concat(axis=1) instead.  To get a de-fragmented frame, use `newframe = frame.copy()`\n",
      "  dt_transformed[col] = 0\n",
      "\n"
     ]
    },
    {
     "name": "stdout",
     "output_type": "stream",
     "text": [
      "Accuracy:                                                                                                              \n",
      "0.9732142857142857                                                                                                     \n",
      "Accuracy:                                                                                                              \n",
      "0.9732142857142857                                                                                                     \n",
      " 30%|██████████████▋                                  | 3/10 [00:04<00:07,  1.10s/trial, best loss: -0.973962918944792]"
     ]
    },
    {
     "name": "stderr",
     "output_type": "stream",
     "text": [
      "C:\\Users\\velmurug\\Documents\\full_stability\\transformers\\StaticTransformer.py:44: PerformanceWarning: DataFrame is highly fragmented.  This is usually the result of calling `frame.insert` many times, which has poor performance.  Consider joining all columns at once using pd.concat(axis=1) instead.  To get a de-fragmented frame, use `newframe = frame.copy()`\n",
      "  dt_transformed[col] = 0\n",
      "\n",
      "C:\\Users\\velmurug\\Documents\\full_stability\\transformers\\IndexBasedTransformer.py:58: PerformanceWarning: DataFrame is highly fragmented.  This is usually the result of calling `frame.insert` many times, which has poor performance.  Consider joining all columns at once using pd.concat(axis=1) instead.  To get a de-fragmented frame, use `newframe = frame.copy()`\n",
      "  dt_transformed[col] = 0\n",
      "\n"
     ]
    },
    {
     "name": "stdout",
     "output_type": "stream",
     "text": [
      "Accuracy:                                                                                                              \n",
      "                                                                                                                       "
     ]
    },
    {
     "name": "stderr",
     "output_type": "stream",
     "text": [
      "C:\\Users\\velmurug\\Documents\\full_stability\\transformers\\StaticTransformer.py:44: PerformanceWarning: DataFrame is highly fragmented.  This is usually the result of calling `frame.insert` many times, which has poor performance.  Consider joining all columns at once using pd.concat(axis=1) instead.  To get a de-fragmented frame, use `newframe = frame.copy()`\n",
      "  dt_transformed[col] = 0\n",
      "\n",
      "C:\\Users\\velmurug\\Documents\\full_stability\\transformers\\IndexBasedTransformer.py:58: PerformanceWarning: DataFrame is highly fragmented.  This is usually the result of calling `frame.insert` many times, which has poor performance.  Consider joining all columns at once using pd.concat(axis=1) instead.  To get a de-fragmented frame, use `newframe = frame.copy()`\n",
      "  dt_transformed[col] = 0\n",
      "\n"
     ]
    },
    {
     "name": "stdout",
     "output_type": "stream",
     "text": [
      "0.9777777777777777\n",
      "{'var_smoothing': 0.04328761281083057}                                                                                 \n",
      "Accuracy:                                                                                                              \n",
      "0.8343815513626835                                                                                                     \n",
      " 40%|███████████████████▏                            | 4/10 [00:04<00:06,  1.12s/trial, best loss: -0.9747354497354497]"
     ]
    },
    {
     "name": "stderr",
     "output_type": "stream",
     "text": [
      "C:\\Users\\velmurug\\Documents\\full_stability\\transformers\\StaticTransformer.py:44: PerformanceWarning: DataFrame is highly fragmented.  This is usually the result of calling `frame.insert` many times, which has poor performance.  Consider joining all columns at once using pd.concat(axis=1) instead.  To get a de-fragmented frame, use `newframe = frame.copy()`\n",
      "  dt_transformed[col] = 0\n",
      "\n",
      "C:\\Users\\velmurug\\Documents\\full_stability\\transformers\\IndexBasedTransformer.py:58: PerformanceWarning: DataFrame is highly fragmented.  This is usually the result of calling `frame.insert` many times, which has poor performance.  Consider joining all columns at once using pd.concat(axis=1) instead.  To get a de-fragmented frame, use `newframe = frame.copy()`\n",
      "  dt_transformed[col] = 0\n",
      "\n",
      "C:\\Users\\velmurug\\Documents\\full_stability\\transformers\\StaticTransformer.py:44: PerformanceWarning: DataFrame is highly fragmented.  This is usually the result of calling `frame.insert` many times, which has poor performance.  Consider joining all columns at once using pd.concat(axis=1) instead.  To get a de-fragmented frame, use `newframe = frame.copy()`\n",
      "  dt_transformed[col] = 0\n",
      "\n",
      "C:\\Users\\velmurug\\Documents\\full_stability\\transformers\\IndexBasedTransformer.py:58: PerformanceWarning: DataFrame is highly fragmented.  This is usually the result of calling `frame.insert` many times, which has poor performance.  Consider joining all columns at once using pd.concat(axis=1) instead.  To get a de-fragmented frame, use `newframe = frame.copy()`\n",
      "  dt_transformed[col] = 0\n",
      "\n"
     ]
    },
    {
     "name": "stdout",
     "output_type": "stream",
     "text": [
      "Accuracy:                                                                                                              \n",
      "0.8546637744034707                                                                                                     \n",
      "Accuracy:                                                                                                              \n",
      "0.8438818565400844                                                                                                     \n",
      " 40%|███████████████████▏                            | 4/10 [00:05<00:06,  1.12s/trial, best loss: -0.9747354497354497]"
     ]
    },
    {
     "name": "stderr",
     "output_type": "stream",
     "text": [
      "C:\\Users\\velmurug\\Documents\\full_stability\\transformers\\StaticTransformer.py:44: PerformanceWarning: DataFrame is highly fragmented.  This is usually the result of calling `frame.insert` many times, which has poor performance.  Consider joining all columns at once using pd.concat(axis=1) instead.  To get a de-fragmented frame, use `newframe = frame.copy()`\n",
      "  dt_transformed[col] = 0\n",
      "\n",
      "C:\\Users\\velmurug\\Documents\\full_stability\\transformers\\IndexBasedTransformer.py:58: PerformanceWarning: DataFrame is highly fragmented.  This is usually the result of calling `frame.insert` many times, which has poor performance.  Consider joining all columns at once using pd.concat(axis=1) instead.  To get a de-fragmented frame, use `newframe = frame.copy()`\n",
      "  dt_transformed[col] = 0\n",
      "\n"
     ]
    },
    {
     "name": "stdout",
     "output_type": "stream",
     "text": [
      "{'var_smoothing': 0.0005336699231206307}                                                                               \n",
      "Accuracy:                                                                                                              \n",
      "0.9732142857142857                                                                                                     \n",
      " 50%|████████████████████████                        | 5/10 [00:05<00:05,  1.14s/trial, best loss: -0.9747354497354497]"
     ]
    },
    {
     "name": "stderr",
     "output_type": "stream",
     "text": [
      "C:\\Users\\velmurug\\Documents\\full_stability\\transformers\\StaticTransformer.py:44: PerformanceWarning: DataFrame is highly fragmented.  This is usually the result of calling `frame.insert` many times, which has poor performance.  Consider joining all columns at once using pd.concat(axis=1) instead.  To get a de-fragmented frame, use `newframe = frame.copy()`\n",
      "  dt_transformed[col] = 0\n",
      "\n",
      "C:\\Users\\velmurug\\Documents\\full_stability\\transformers\\IndexBasedTransformer.py:58: PerformanceWarning: DataFrame is highly fragmented.  This is usually the result of calling `frame.insert` many times, which has poor performance.  Consider joining all columns at once using pd.concat(axis=1) instead.  To get a de-fragmented frame, use `newframe = frame.copy()`\n",
      "  dt_transformed[col] = 0\n",
      "\n"
     ]
    },
    {
     "name": "stdout",
     "output_type": "stream",
     "text": [
      "Accuracy:                                                                                                              \n",
      "0.9778761061946903                                                                                                     \n",
      " 50%|████████████████████████                        | 5/10 [00:06<00:05,  1.14s/trial, best loss: -0.9747354497354497]"
     ]
    },
    {
     "name": "stderr",
     "output_type": "stream",
     "text": [
      "C:\\Users\\velmurug\\Documents\\full_stability\\transformers\\StaticTransformer.py:44: PerformanceWarning: DataFrame is highly fragmented.  This is usually the result of calling `frame.insert` many times, which has poor performance.  Consider joining all columns at once using pd.concat(axis=1) instead.  To get a de-fragmented frame, use `newframe = frame.copy()`\n",
      "  dt_transformed[col] = 0\n",
      "\n",
      "C:\\Users\\velmurug\\Documents\\full_stability\\transformers\\IndexBasedTransformer.py:58: PerformanceWarning: DataFrame is highly fragmented.  This is usually the result of calling `frame.insert` many times, which has poor performance.  Consider joining all columns at once using pd.concat(axis=1) instead.  To get a de-fragmented frame, use `newframe = frame.copy()`\n",
      "  dt_transformed[col] = 0\n",
      "\n"
     ]
    },
    {
     "name": "stdout",
     "output_type": "stream",
     "text": [
      "Accuracy:                                                                                                              \n",
      "                                                                                                                       "
     ]
    },
    {
     "name": "stderr",
     "output_type": "stream",
     "text": [
      "C:\\Users\\velmurug\\Documents\\full_stability\\transformers\\StaticTransformer.py:44: PerformanceWarning: DataFrame is highly fragmented.  This is usually the result of calling `frame.insert` many times, which has poor performance.  Consider joining all columns at once using pd.concat(axis=1) instead.  To get a de-fragmented frame, use `newframe = frame.copy()`\n",
      "  dt_transformed[col] = 0\n",
      "\n",
      "C:\\Users\\velmurug\\Documents\\full_stability\\transformers\\IndexBasedTransformer.py:58: PerformanceWarning: DataFrame is highly fragmented.  This is usually the result of calling `frame.insert` many times, which has poor performance.  Consider joining all columns at once using pd.concat(axis=1) instead.  To get a de-fragmented frame, use `newframe = frame.copy()`\n",
      "  dt_transformed[col] = 0\n",
      "\n"
     ]
    },
    {
     "name": "stdout",
     "output_type": "stream",
     "text": [
      "0.975609756097561\n",
      "{'var_smoothing': 2.310129700083158e-08}                                                                               \n",
      "Accuracy:                                                                                                              \n",
      "0.968609865470852                                                                                                      \n",
      " 60%|█████████████████████████████▍                   | 6/10 [00:07<00:04,  1.13s/trial, best loss: -0.975566716002179]"
     ]
    },
    {
     "name": "stderr",
     "output_type": "stream",
     "text": [
      "C:\\Users\\velmurug\\Documents\\full_stability\\transformers\\StaticTransformer.py:44: PerformanceWarning: DataFrame is highly fragmented.  This is usually the result of calling `frame.insert` many times, which has poor performance.  Consider joining all columns at once using pd.concat(axis=1) instead.  To get a de-fragmented frame, use `newframe = frame.copy()`\n",
      "  dt_transformed[col] = 0\n",
      "\n",
      "C:\\Users\\velmurug\\Documents\\full_stability\\transformers\\IndexBasedTransformer.py:58: PerformanceWarning: DataFrame is highly fragmented.  This is usually the result of calling `frame.insert` many times, which has poor performance.  Consider joining all columns at once using pd.concat(axis=1) instead.  To get a de-fragmented frame, use `newframe = frame.copy()`\n",
      "  dt_transformed[col] = 0\n",
      "\n"
     ]
    },
    {
     "name": "stdout",
     "output_type": "stream",
     "text": [
      "Accuracy:                                                                                                              \n",
      " 60%|█████████████████████████████▍                   | 6/10 [00:07<00:04,  1.13s/trial, best loss: -0.975566716002179]"
     ]
    },
    {
     "name": "stderr",
     "output_type": "stream",
     "text": [
      "C:\\Users\\velmurug\\Documents\\full_stability\\transformers\\StaticTransformer.py:44: PerformanceWarning: DataFrame is highly fragmented.  This is usually the result of calling `frame.insert` many times, which has poor performance.  Consider joining all columns at once using pd.concat(axis=1) instead.  To get a de-fragmented frame, use `newframe = frame.copy()`\n",
      "  dt_transformed[col] = 0\n",
      "\n",
      "C:\\Users\\velmurug\\Documents\\full_stability\\transformers\\IndexBasedTransformer.py:58: PerformanceWarning: DataFrame is highly fragmented.  This is usually the result of calling `frame.insert` many times, which has poor performance.  Consider joining all columns at once using pd.concat(axis=1) instead.  To get a de-fragmented frame, use `newframe = frame.copy()`\n",
      "  dt_transformed[col] = 0\n",
      "\n"
     ]
    },
    {
     "name": "stdout",
     "output_type": "stream",
     "text": [
      "0.9709172259507829                                                                                                     \n",
      "Accuracy:                                                                                                              \n",
      "0.9709172259507829                                                                                                     \n",
      "{'var_smoothing': 0.0001232846739442066}                                                                               \n",
      " 70%|██████████████████████████████████▎              | 7/10 [00:07<00:03,  1.12s/trial, best loss: -0.975566716002179]"
     ]
    },
    {
     "name": "stderr",
     "output_type": "stream",
     "text": [
      "C:\\Users\\velmurug\\Documents\\full_stability\\transformers\\StaticTransformer.py:44: PerformanceWarning: DataFrame is highly fragmented.  This is usually the result of calling `frame.insert` many times, which has poor performance.  Consider joining all columns at once using pd.concat(axis=1) instead.  To get a de-fragmented frame, use `newframe = frame.copy()`\n",
      "  dt_transformed[col] = 0\n",
      "\n",
      "C:\\Users\\velmurug\\Documents\\full_stability\\transformers\\IndexBasedTransformer.py:58: PerformanceWarning: DataFrame is highly fragmented.  This is usually the result of calling `frame.insert` many times, which has poor performance.  Consider joining all columns at once using pd.concat(axis=1) instead.  To get a de-fragmented frame, use `newframe = frame.copy()`\n",
      "  dt_transformed[col] = 0\n",
      "\n",
      "C:\\Users\\velmurug\\Documents\\full_stability\\transformers\\StaticTransformer.py:44: PerformanceWarning: DataFrame is highly fragmented.  This is usually the result of calling `frame.insert` many times, which has poor performance.  Consider joining all columns at once using pd.concat(axis=1) instead.  To get a de-fragmented frame, use `newframe = frame.copy()`\n",
      "  dt_transformed[col] = 0\n",
      "\n",
      "C:\\Users\\velmurug\\Documents\\full_stability\\transformers\\IndexBasedTransformer.py:58: PerformanceWarning: DataFrame is highly fragmented.  This is usually the result of calling `frame.insert` many times, which has poor performance.  Consider joining all columns at once using pd.concat(axis=1) instead.  To get a de-fragmented frame, use `newframe = frame.copy()`\n",
      "  dt_transformed[col] = 0\n",
      "\n"
     ]
    },
    {
     "name": "stdout",
     "output_type": "stream",
     "text": [
      "Accuracy:                                                                                                              \n",
      "0.9732142857142857                                                                                                     \n",
      "Accuracy:                                                                                                              \n",
      " 70%|██████████████████████████████████▎              | 7/10 [00:08<00:03,  1.12s/trial, best loss: -0.975566716002179]"
     ]
    },
    {
     "name": "stderr",
     "output_type": "stream",
     "text": [
      "C:\\Users\\velmurug\\Documents\\full_stability\\transformers\\StaticTransformer.py:44: PerformanceWarning: DataFrame is highly fragmented.  This is usually the result of calling `frame.insert` many times, which has poor performance.  Consider joining all columns at once using pd.concat(axis=1) instead.  To get a de-fragmented frame, use `newframe = frame.copy()`\n",
      "  dt_transformed[col] = 0\n",
      "\n",
      "C:\\Users\\velmurug\\Documents\\full_stability\\transformers\\IndexBasedTransformer.py:58: PerformanceWarning: DataFrame is highly fragmented.  This is usually the result of calling `frame.insert` many times, which has poor performance.  Consider joining all columns at once using pd.concat(axis=1) instead.  To get a de-fragmented frame, use `newframe = frame.copy()`\n",
      "  dt_transformed[col] = 0\n",
      "\n"
     ]
    },
    {
     "name": "stdout",
     "output_type": "stream",
     "text": [
      "0.9755011135857461                                                                                                     \n",
      "Accuracy:                                                                                                              \n",
      "0.9710467706013363                                                                                                     \n",
      "{'var_smoothing': 0.006579332246575682}                                                                                \n",
      " 80%|███████████████████████████████████████▏         | 8/10 [00:08<00:02,  1.11s/trial, best loss: -0.975566716002179]"
     ]
    },
    {
     "name": "stderr",
     "output_type": "stream",
     "text": [
      "C:\\Users\\velmurug\\Documents\\full_stability\\transformers\\StaticTransformer.py:44: PerformanceWarning: DataFrame is highly fragmented.  This is usually the result of calling `frame.insert` many times, which has poor performance.  Consider joining all columns at once using pd.concat(axis=1) instead.  To get a de-fragmented frame, use `newframe = frame.copy()`\n",
      "  dt_transformed[col] = 0\n",
      "\n",
      "C:\\Users\\velmurug\\Documents\\full_stability\\transformers\\IndexBasedTransformer.py:58: PerformanceWarning: DataFrame is highly fragmented.  This is usually the result of calling `frame.insert` many times, which has poor performance.  Consider joining all columns at once using pd.concat(axis=1) instead.  To get a de-fragmented frame, use `newframe = frame.copy()`\n",
      "  dt_transformed[col] = 0\n",
      "\n",
      "C:\\Users\\velmurug\\Documents\\full_stability\\transformers\\StaticTransformer.py:44: PerformanceWarning: DataFrame is highly fragmented.  This is usually the result of calling `frame.insert` many times, which has poor performance.  Consider joining all columns at once using pd.concat(axis=1) instead.  To get a de-fragmented frame, use `newframe = frame.copy()`\n",
      "  dt_transformed[col] = 0\n",
      "\n",
      "C:\\Users\\velmurug\\Documents\\full_stability\\transformers\\IndexBasedTransformer.py:58: PerformanceWarning: DataFrame is highly fragmented.  This is usually the result of calling `frame.insert` many times, which has poor performance.  Consider joining all columns at once using pd.concat(axis=1) instead.  To get a de-fragmented frame, use `newframe = frame.copy()`\n",
      "  dt_transformed[col] = 0\n",
      "\n"
     ]
    },
    {
     "name": "stdout",
     "output_type": "stream",
     "text": [
      "Accuracy:                                                                                                              \n",
      "0.9732142857142857                                                                                                     \n",
      "Accuracy:                                                                                                              \n",
      "0.975609756097561                                                                                                      \n",
      " 80%|███████████████████████████████████████▏         | 8/10 [00:09<00:02,  1.11s/trial, best loss: -0.975566716002179]"
     ]
    },
    {
     "name": "stderr",
     "output_type": "stream",
     "text": [
      "C:\\Users\\velmurug\\Documents\\full_stability\\transformers\\StaticTransformer.py:44: PerformanceWarning: DataFrame is highly fragmented.  This is usually the result of calling `frame.insert` many times, which has poor performance.  Consider joining all columns at once using pd.concat(axis=1) instead.  To get a de-fragmented frame, use `newframe = frame.copy()`\n",
      "  dt_transformed[col] = 0\n",
      "\n",
      "C:\\Users\\velmurug\\Documents\\full_stability\\transformers\\IndexBasedTransformer.py:58: PerformanceWarning: DataFrame is highly fragmented.  This is usually the result of calling `frame.insert` many times, which has poor performance.  Consider joining all columns at once using pd.concat(axis=1) instead.  To get a de-fragmented frame, use `newframe = frame.copy()`\n",
      "  dt_transformed[col] = 0\n",
      "\n"
     ]
    },
    {
     "name": "stdout",
     "output_type": "stream",
     "text": [
      "Accuracy:                                                                                                              \n",
      "0.9734513274336283                                                                                                     \n",
      "{'var_smoothing': 0.02848035868435802}                                                                                 \n",
      " 90%|████████████████████████████████████████████     | 9/10 [00:10<00:01,  1.12s/trial, best loss: -0.975566716002179]"
     ]
    },
    {
     "name": "stderr",
     "output_type": "stream",
     "text": [
      "C:\\Users\\velmurug\\Documents\\full_stability\\transformers\\StaticTransformer.py:44: PerformanceWarning: DataFrame is highly fragmented.  This is usually the result of calling `frame.insert` many times, which has poor performance.  Consider joining all columns at once using pd.concat(axis=1) instead.  To get a de-fragmented frame, use `newframe = frame.copy()`\n",
      "  dt_transformed[col] = 0\n",
      "\n",
      "C:\\Users\\velmurug\\Documents\\full_stability\\transformers\\IndexBasedTransformer.py:58: PerformanceWarning: DataFrame is highly fragmented.  This is usually the result of calling `frame.insert` many times, which has poor performance.  Consider joining all columns at once using pd.concat(axis=1) instead.  To get a de-fragmented frame, use `newframe = frame.copy()`\n",
      "  dt_transformed[col] = 0\n",
      "\n"
     ]
    },
    {
     "name": "stdout",
     "output_type": "stream",
     "text": [
      "Accuracy:                                                                                                              \n",
      "0.8675213675213674                                                                                                     \n",
      " 90%|████████████████████████████████████████████     | 9/10 [00:10<00:01,  1.12s/trial, best loss: -0.975566716002179]"
     ]
    },
    {
     "name": "stderr",
     "output_type": "stream",
     "text": [
      "C:\\Users\\velmurug\\Documents\\full_stability\\transformers\\StaticTransformer.py:44: PerformanceWarning: DataFrame is highly fragmented.  This is usually the result of calling `frame.insert` many times, which has poor performance.  Consider joining all columns at once using pd.concat(axis=1) instead.  To get a de-fragmented frame, use `newframe = frame.copy()`\n",
      "  dt_transformed[col] = 0\n",
      "\n",
      "C:\\Users\\velmurug\\Documents\\full_stability\\transformers\\IndexBasedTransformer.py:58: PerformanceWarning: DataFrame is highly fragmented.  This is usually the result of calling `frame.insert` many times, which has poor performance.  Consider joining all columns at once using pd.concat(axis=1) instead.  To get a de-fragmented frame, use `newframe = frame.copy()`\n",
      "  dt_transformed[col] = 0\n",
      "\n"
     ]
    },
    {
     "name": "stdout",
     "output_type": "stream",
     "text": [
      "Accuracy:                                                                                                              \n",
      "                                                                                                                       "
     ]
    },
    {
     "name": "stderr",
     "output_type": "stream",
     "text": [
      "C:\\Users\\velmurug\\Documents\\full_stability\\transformers\\StaticTransformer.py:44: PerformanceWarning: DataFrame is highly fragmented.  This is usually the result of calling `frame.insert` many times, which has poor performance.  Consider joining all columns at once using pd.concat(axis=1) instead.  To get a de-fragmented frame, use `newframe = frame.copy()`\n",
      "  dt_transformed[col] = 0\n",
      "\n",
      "C:\\Users\\velmurug\\Documents\\full_stability\\transformers\\IndexBasedTransformer.py:58: PerformanceWarning: DataFrame is highly fragmented.  This is usually the result of calling `frame.insert` many times, which has poor performance.  Consider joining all columns at once using pd.concat(axis=1) instead.  To get a de-fragmented frame, use `newframe = frame.copy()`\n",
      "  dt_transformed[col] = 0\n",
      "\n"
     ]
    },
    {
     "name": "stdout",
     "output_type": "stream",
     "text": [
      "0.8791208791208792\n",
      "Accuracy:                                                                                                              \n",
      "0.871244635193133                                                                                                      \n",
      "100%|████████████████████████████████████████████████| 10/10 [00:11<00:00,  1.12s/trial, best loss: -0.975566716002179]"
     ]
    },
    {
     "name": "stderr",
     "output_type": "stream",
     "text": [
      "C:\\Users\\velmurug\\Documents\\full_stability\\transformers\\StaticTransformer.py:44: PerformanceWarning: DataFrame is highly fragmented.  This is usually the result of calling `frame.insert` many times, which has poor performance.  Consider joining all columns at once using pd.concat(axis=1) instead.  To get a de-fragmented frame, use `newframe = frame.copy()`\n",
      "  dt_transformed[col] = 0\n",
      "\n",
      "C:\\Users\\velmurug\\Documents\\full_stability\\transformers\\IndexBasedTransformer.py:58: PerformanceWarning: DataFrame is highly fragmented.  This is usually the result of calling `frame.insert` many times, which has poor performance.  Consider joining all columns at once using pd.concat(axis=1) instead.  To get a de-fragmented frame, use `newframe = frame.copy()`\n",
      "  dt_transformed[col] = 0\n",
      "\n"
     ]
    },
    {
     "name": "stdout",
     "output_type": "stream",
     "text": [
      "\n",
      "Optimising 4 of 20 buckets\n",
      "{'var_smoothing': 6.579332246575682e-07}                                                                               \n",
      "  0%|                                                                           | 0/10 [00:00<?, ?trial/s, best loss=?]"
     ]
    },
    {
     "name": "stderr",
     "output_type": "stream",
     "text": [
      "C:\\Users\\velmurug\\Documents\\full_stability\\transformers\\StaticTransformer.py:44: PerformanceWarning: DataFrame is highly fragmented.  This is usually the result of calling `frame.insert` many times, which has poor performance.  Consider joining all columns at once using pd.concat(axis=1) instead.  To get a de-fragmented frame, use `newframe = frame.copy()`\n",
      "  dt_transformed[col] = 0\n",
      "\n",
      "C:\\Users\\velmurug\\Documents\\full_stability\\transformers\\IndexBasedTransformer.py:58: PerformanceWarning: DataFrame is highly fragmented.  This is usually the result of calling `frame.insert` many times, which has poor performance.  Consider joining all columns at once using pd.concat(axis=1) instead.  To get a de-fragmented frame, use `newframe = frame.copy()`\n",
      "  dt_transformed[col] = 0\n",
      "\n"
     ]
    },
    {
     "name": "stdout",
     "output_type": "stream",
     "text": [
      "Accuracy:                                                                                                              \n",
      "0.9634703196347033                                                                                                     \n",
      "  0%|                                                                           | 0/10 [00:00<?, ?trial/s, best loss=?]"
     ]
    },
    {
     "name": "stderr",
     "output_type": "stream",
     "text": [
      "C:\\Users\\velmurug\\Documents\\full_stability\\transformers\\StaticTransformer.py:44: PerformanceWarning: DataFrame is highly fragmented.  This is usually the result of calling `frame.insert` many times, which has poor performance.  Consider joining all columns at once using pd.concat(axis=1) instead.  To get a de-fragmented frame, use `newframe = frame.copy()`\n",
      "  dt_transformed[col] = 0\n",
      "\n",
      "C:\\Users\\velmurug\\Documents\\full_stability\\transformers\\IndexBasedTransformer.py:58: PerformanceWarning: DataFrame is highly fragmented.  This is usually the result of calling `frame.insert` many times, which has poor performance.  Consider joining all columns at once using pd.concat(axis=1) instead.  To get a de-fragmented frame, use `newframe = frame.copy()`\n",
      "  dt_transformed[col] = 0\n",
      "\n"
     ]
    },
    {
     "name": "stdout",
     "output_type": "stream",
     "text": [
      "Accuracy:                                                                                                              \n",
      "0.951276102088167                                                                                                      \n",
      "  0%|                                                                           | 0/10 [00:00<?, ?trial/s, best loss=?]"
     ]
    },
    {
     "name": "stderr",
     "output_type": "stream",
     "text": [
      "C:\\Users\\velmurug\\Documents\\full_stability\\transformers\\StaticTransformer.py:44: PerformanceWarning: DataFrame is highly fragmented.  This is usually the result of calling `frame.insert` many times, which has poor performance.  Consider joining all columns at once using pd.concat(axis=1) instead.  To get a de-fragmented frame, use `newframe = frame.copy()`\n",
      "  dt_transformed[col] = 0\n",
      "\n",
      "C:\\Users\\velmurug\\Documents\\full_stability\\transformers\\IndexBasedTransformer.py:58: PerformanceWarning: DataFrame is highly fragmented.  This is usually the result of calling `frame.insert` many times, which has poor performance.  Consider joining all columns at once using pd.concat(axis=1) instead.  To get a de-fragmented frame, use `newframe = frame.copy()`\n",
      "  dt_transformed[col] = 0\n",
      "\n"
     ]
    },
    {
     "name": "stdout",
     "output_type": "stream",
     "text": [
      "Accuracy:                                                                                                              \n",
      "0.9539170506912442                                                                                                     \n",
      "{'var_smoothing': 3.5111917342151277e-07}                                                                              \n",
      " 10%|████▊                                           | 1/10 [00:01<00:11,  1.27s/trial, best loss: -0.9562211574713716]"
     ]
    },
    {
     "name": "stderr",
     "output_type": "stream",
     "text": [
      "C:\\Users\\velmurug\\Documents\\full_stability\\transformers\\StaticTransformer.py:44: PerformanceWarning: DataFrame is highly fragmented.  This is usually the result of calling `frame.insert` many times, which has poor performance.  Consider joining all columns at once using pd.concat(axis=1) instead.  To get a de-fragmented frame, use `newframe = frame.copy()`\n",
      "  dt_transformed[col] = 0\n",
      "\n",
      "C:\\Users\\velmurug\\Documents\\full_stability\\transformers\\IndexBasedTransformer.py:58: PerformanceWarning: DataFrame is highly fragmented.  This is usually the result of calling `frame.insert` many times, which has poor performance.  Consider joining all columns at once using pd.concat(axis=1) instead.  To get a de-fragmented frame, use `newframe = frame.copy()`\n",
      "  dt_transformed[col] = 0\n",
      "\n"
     ]
    },
    {
     "name": "stdout",
     "output_type": "stream",
     "text": [
      "Accuracy:                                                                                                              \n",
      "0.9417249417249417                                                                                                     \n",
      " 10%|████▊                                           | 1/10 [00:01<00:11,  1.27s/trial, best loss: -0.9562211574713716]"
     ]
    },
    {
     "name": "stderr",
     "output_type": "stream",
     "text": [
      "C:\\Users\\velmurug\\Documents\\full_stability\\transformers\\StaticTransformer.py:44: PerformanceWarning: DataFrame is highly fragmented.  This is usually the result of calling `frame.insert` many times, which has poor performance.  Consider joining all columns at once using pd.concat(axis=1) instead.  To get a de-fragmented frame, use `newframe = frame.copy()`\n",
      "  dt_transformed[col] = 0\n",
      "\n",
      "C:\\Users\\velmurug\\Documents\\full_stability\\transformers\\IndexBasedTransformer.py:58: PerformanceWarning: DataFrame is highly fragmented.  This is usually the result of calling `frame.insert` many times, which has poor performance.  Consider joining all columns at once using pd.concat(axis=1) instead.  To get a de-fragmented frame, use `newframe = frame.copy()`\n",
      "  dt_transformed[col] = 0\n",
      "\n"
     ]
    },
    {
     "name": "stdout",
     "output_type": "stream",
     "text": [
      "Accuracy:                                                                                                              \n",
      "0.9633027522935781                                                                                                     \n",
      " 10%|████▊                                           | 1/10 [00:02<00:11,  1.27s/trial, best loss: -0.9562211574713716]"
     ]
    },
    {
     "name": "stderr",
     "output_type": "stream",
     "text": [
      "C:\\Users\\velmurug\\Documents\\full_stability\\transformers\\StaticTransformer.py:44: PerformanceWarning: DataFrame is highly fragmented.  This is usually the result of calling `frame.insert` many times, which has poor performance.  Consider joining all columns at once using pd.concat(axis=1) instead.  To get a de-fragmented frame, use `newframe = frame.copy()`\n",
      "  dt_transformed[col] = 0\n",
      "\n",
      "C:\\Users\\velmurug\\Documents\\full_stability\\transformers\\IndexBasedTransformer.py:58: PerformanceWarning: DataFrame is highly fragmented.  This is usually the result of calling `frame.insert` many times, which has poor performance.  Consider joining all columns at once using pd.concat(axis=1) instead.  To get a de-fragmented frame, use `newframe = frame.copy()`\n",
      "  dt_transformed[col] = 0\n",
      "\n"
     ]
    },
    {
     "name": "stdout",
     "output_type": "stream",
     "text": [
      "Accuracy:                                                                                                              \n",
      "0.9515011547344111                                                                                                     \n",
      "{'var_smoothing': 0.23101297000831597}                                                                                 \n",
      " 20%|█████████▌                                      | 2/10 [00:02<00:10,  1.27s/trial, best loss: -0.9562211574713716]"
     ]
    },
    {
     "name": "stderr",
     "output_type": "stream",
     "text": [
      "C:\\Users\\velmurug\\Documents\\full_stability\\transformers\\StaticTransformer.py:44: PerformanceWarning: DataFrame is highly fragmented.  This is usually the result of calling `frame.insert` many times, which has poor performance.  Consider joining all columns at once using pd.concat(axis=1) instead.  To get a de-fragmented frame, use `newframe = frame.copy()`\n",
      "  dt_transformed[col] = 0\n",
      "\n",
      "C:\\Users\\velmurug\\Documents\\full_stability\\transformers\\IndexBasedTransformer.py:58: PerformanceWarning: DataFrame is highly fragmented.  This is usually the result of calling `frame.insert` many times, which has poor performance.  Consider joining all columns at once using pd.concat(axis=1) instead.  To get a de-fragmented frame, use `newframe = frame.copy()`\n",
      "  dt_transformed[col] = 0\n",
      "\n"
     ]
    },
    {
     "name": "stdout",
     "output_type": "stream",
     "text": [
      "Accuracy:                                                                                                              \n",
      "0.8291666666666666                                                                                                     \n",
      " 20%|█████████▌                                      | 2/10 [00:02<00:10,  1.27s/trial, best loss: -0.9562211574713716]"
     ]
    },
    {
     "name": "stderr",
     "output_type": "stream",
     "text": [
      "C:\\Users\\velmurug\\Documents\\full_stability\\transformers\\StaticTransformer.py:44: PerformanceWarning: DataFrame is highly fragmented.  This is usually the result of calling `frame.insert` many times, which has poor performance.  Consider joining all columns at once using pd.concat(axis=1) instead.  To get a de-fragmented frame, use `newframe = frame.copy()`\n",
      "  dt_transformed[col] = 0\n",
      "\n",
      "C:\\Users\\velmurug\\Documents\\full_stability\\transformers\\IndexBasedTransformer.py:58: PerformanceWarning: DataFrame is highly fragmented.  This is usually the result of calling `frame.insert` many times, which has poor performance.  Consider joining all columns at once using pd.concat(axis=1) instead.  To get a de-fragmented frame, use `newframe = frame.copy()`\n",
      "  dt_transformed[col] = 0\n",
      "\n"
     ]
    },
    {
     "name": "stdout",
     "output_type": "stream",
     "text": [
      "Accuracy:                                                                                                              \n",
      "0.8120950323974082                                                                                                     \n",
      "Accuracy:                                                                                                              \n",
      "0.7966457023060797                                                                                                     \n",
      " 20%|█████████▌                                      | 2/10 [00:03<00:10,  1.27s/trial, best loss: -0.9562211574713716]"
     ]
    },
    {
     "name": "stderr",
     "output_type": "stream",
     "text": [
      "C:\\Users\\velmurug\\Documents\\full_stability\\transformers\\StaticTransformer.py:44: PerformanceWarning: DataFrame is highly fragmented.  This is usually the result of calling `frame.insert` many times, which has poor performance.  Consider joining all columns at once using pd.concat(axis=1) instead.  To get a de-fragmented frame, use `newframe = frame.copy()`\n",
      "  dt_transformed[col] = 0\n",
      "\n",
      "C:\\Users\\velmurug\\Documents\\full_stability\\transformers\\IndexBasedTransformer.py:58: PerformanceWarning: DataFrame is highly fragmented.  This is usually the result of calling `frame.insert` many times, which has poor performance.  Consider joining all columns at once using pd.concat(axis=1) instead.  To get a de-fragmented frame, use `newframe = frame.copy()`\n",
      "  dt_transformed[col] = 0\n",
      "\n"
     ]
    },
    {
     "name": "stdout",
     "output_type": "stream",
     "text": [
      "{'var_smoothing': 0.0008111308307896872}                                                                               \n",
      " 30%|██████████████▍                                 | 3/10 [00:03<00:08,  1.26s/trial, best loss: -0.9562211574713716]"
     ]
    },
    {
     "name": "stderr",
     "output_type": "stream",
     "text": [
      "C:\\Users\\velmurug\\Documents\\full_stability\\transformers\\StaticTransformer.py:44: PerformanceWarning: DataFrame is highly fragmented.  This is usually the result of calling `frame.insert` many times, which has poor performance.  Consider joining all columns at once using pd.concat(axis=1) instead.  To get a de-fragmented frame, use `newframe = frame.copy()`\n",
      "  dt_transformed[col] = 0\n",
      "\n",
      "C:\\Users\\velmurug\\Documents\\full_stability\\transformers\\IndexBasedTransformer.py:58: PerformanceWarning: DataFrame is highly fragmented.  This is usually the result of calling `frame.insert` many times, which has poor performance.  Consider joining all columns at once using pd.concat(axis=1) instead.  To get a de-fragmented frame, use `newframe = frame.copy()`\n",
      "  dt_transformed[col] = 0\n",
      "\n"
     ]
    },
    {
     "name": "stdout",
     "output_type": "stream",
     "text": [
      "Accuracy:                                                                                                              \n",
      "0.9843400447427293                                                                                                     \n",
      " 30%|██████████████▍                                 | 3/10 [00:04<00:08,  1.26s/trial, best loss: -0.9562211574713716]"
     ]
    },
    {
     "name": "stderr",
     "output_type": "stream",
     "text": [
      "C:\\Users\\velmurug\\Documents\\full_stability\\transformers\\StaticTransformer.py:44: PerformanceWarning: DataFrame is highly fragmented.  This is usually the result of calling `frame.insert` many times, which has poor performance.  Consider joining all columns at once using pd.concat(axis=1) instead.  To get a de-fragmented frame, use `newframe = frame.copy()`\n",
      "  dt_transformed[col] = 0\n",
      "\n",
      "C:\\Users\\velmurug\\Documents\\full_stability\\transformers\\IndexBasedTransformer.py:58: PerformanceWarning: DataFrame is highly fragmented.  This is usually the result of calling `frame.insert` many times, which has poor performance.  Consider joining all columns at once using pd.concat(axis=1) instead.  To get a de-fragmented frame, use `newframe = frame.copy()`\n",
      "  dt_transformed[col] = 0\n",
      "\n"
     ]
    },
    {
     "name": "stdout",
     "output_type": "stream",
     "text": [
      "Accuracy:                                                                                                              \n",
      "0.9819819819819819                                                                                                     \n",
      " 30%|██████████████▍                                 | 3/10 [00:04<00:08,  1.26s/trial, best loss: -0.9562211574713716]"
     ]
    },
    {
     "name": "stderr",
     "output_type": "stream",
     "text": [
      "C:\\Users\\velmurug\\Documents\\full_stability\\transformers\\StaticTransformer.py:44: PerformanceWarning: DataFrame is highly fragmented.  This is usually the result of calling `frame.insert` many times, which has poor performance.  Consider joining all columns at once using pd.concat(axis=1) instead.  To get a de-fragmented frame, use `newframe = frame.copy()`\n",
      "  dt_transformed[col] = 0\n",
      "\n",
      "C:\\Users\\velmurug\\Documents\\full_stability\\transformers\\IndexBasedTransformer.py:58: PerformanceWarning: DataFrame is highly fragmented.  This is usually the result of calling `frame.insert` many times, which has poor performance.  Consider joining all columns at once using pd.concat(axis=1) instead.  To get a de-fragmented frame, use `newframe = frame.copy()`\n",
      "  dt_transformed[col] = 0\n",
      "\n"
     ]
    },
    {
     "name": "stdout",
     "output_type": "stream",
     "text": [
      "Accuracy:                                                                                                              \n",
      "0.9728506787330317                                                                                                     \n",
      "{'var_smoothing': 0.0001232846739442066}                                                                               \n",
      " 40%|███████████████████▌                             | 4/10 [00:05<00:07,  1.25s/trial, best loss: -0.979724235152581]"
     ]
    },
    {
     "name": "stderr",
     "output_type": "stream",
     "text": [
      "C:\\Users\\velmurug\\Documents\\full_stability\\transformers\\StaticTransformer.py:44: PerformanceWarning: DataFrame is highly fragmented.  This is usually the result of calling `frame.insert` many times, which has poor performance.  Consider joining all columns at once using pd.concat(axis=1) instead.  To get a de-fragmented frame, use `newframe = frame.copy()`\n",
      "  dt_transformed[col] = 0\n",
      "\n",
      "C:\\Users\\velmurug\\Documents\\full_stability\\transformers\\IndexBasedTransformer.py:58: PerformanceWarning: DataFrame is highly fragmented.  This is usually the result of calling `frame.insert` many times, which has poor performance.  Consider joining all columns at once using pd.concat(axis=1) instead.  To get a de-fragmented frame, use `newframe = frame.copy()`\n",
      "  dt_transformed[col] = 0\n",
      "\n"
     ]
    },
    {
     "name": "stdout",
     "output_type": "stream",
     "text": [
      "Accuracy:                                                                                                              \n",
      "0.9751693002257337                                                                                                     \n",
      " 40%|███████████████████▌                             | 4/10 [00:05<00:07,  1.25s/trial, best loss: -0.979724235152581]"
     ]
    },
    {
     "name": "stderr",
     "output_type": "stream",
     "text": [
      "C:\\Users\\velmurug\\Documents\\full_stability\\transformers\\StaticTransformer.py:44: PerformanceWarning: DataFrame is highly fragmented.  This is usually the result of calling `frame.insert` many times, which has poor performance.  Consider joining all columns at once using pd.concat(axis=1) instead.  To get a de-fragmented frame, use `newframe = frame.copy()`\n",
      "  dt_transformed[col] = 0\n",
      "\n",
      "C:\\Users\\velmurug\\Documents\\full_stability\\transformers\\IndexBasedTransformer.py:58: PerformanceWarning: DataFrame is highly fragmented.  This is usually the result of calling `frame.insert` many times, which has poor performance.  Consider joining all columns at once using pd.concat(axis=1) instead.  To get a de-fragmented frame, use `newframe = frame.copy()`\n",
      "  dt_transformed[col] = 0\n",
      "\n"
     ]
    },
    {
     "name": "stdout",
     "output_type": "stream",
     "text": [
      "Accuracy:                                                                                                              \n",
      "0.9750566893424036                                                                                                     \n",
      " 40%|███████████████████▌                             | 4/10 [00:05<00:07,  1.25s/trial, best loss: -0.979724235152581]"
     ]
    },
    {
     "name": "stderr",
     "output_type": "stream",
     "text": [
      "C:\\Users\\velmurug\\Documents\\full_stability\\transformers\\StaticTransformer.py:44: PerformanceWarning: DataFrame is highly fragmented.  This is usually the result of calling `frame.insert` many times, which has poor performance.  Consider joining all columns at once using pd.concat(axis=1) instead.  To get a de-fragmented frame, use `newframe = frame.copy()`\n",
      "  dt_transformed[col] = 0\n",
      "\n",
      "C:\\Users\\velmurug\\Documents\\full_stability\\transformers\\IndexBasedTransformer.py:58: PerformanceWarning: DataFrame is highly fragmented.  This is usually the result of calling `frame.insert` many times, which has poor performance.  Consider joining all columns at once using pd.concat(axis=1) instead.  To get a de-fragmented frame, use `newframe = frame.copy()`\n",
      "  dt_transformed[col] = 0\n",
      "\n"
     ]
    },
    {
     "name": "stdout",
     "output_type": "stream",
     "text": [
      "Accuracy:                                                                                                              \n",
      "0.9751693002257337                                                                                                     \n",
      "{'var_smoothing': 3.5111917342151275e-06}                                                                              \n",
      " 50%|████████████████████████▌                        | 5/10 [00:06<00:06,  1.31s/trial, best loss: -0.979724235152581]"
     ]
    },
    {
     "name": "stderr",
     "output_type": "stream",
     "text": [
      "C:\\Users\\velmurug\\Documents\\full_stability\\transformers\\StaticTransformer.py:44: PerformanceWarning: DataFrame is highly fragmented.  This is usually the result of calling `frame.insert` many times, which has poor performance.  Consider joining all columns at once using pd.concat(axis=1) instead.  To get a de-fragmented frame, use `newframe = frame.copy()`\n",
      "  dt_transformed[col] = 0\n",
      "\n",
      "C:\\Users\\velmurug\\Documents\\full_stability\\transformers\\IndexBasedTransformer.py:58: PerformanceWarning: DataFrame is highly fragmented.  This is usually the result of calling `frame.insert` many times, which has poor performance.  Consider joining all columns at once using pd.concat(axis=1) instead.  To get a de-fragmented frame, use `newframe = frame.copy()`\n",
      "  dt_transformed[col] = 0\n",
      "\n"
     ]
    },
    {
     "name": "stdout",
     "output_type": "stream",
     "text": [
      "Accuracy:                                                                                                              \n",
      "0.9610983981693363                                                                                                     \n",
      " 50%|████████████████████████▌                        | 5/10 [00:06<00:06,  1.31s/trial, best loss: -0.979724235152581]"
     ]
    },
    {
     "name": "stderr",
     "output_type": "stream",
     "text": [
      "C:\\Users\\velmurug\\Documents\\full_stability\\transformers\\StaticTransformer.py:44: PerformanceWarning: DataFrame is highly fragmented.  This is usually the result of calling `frame.insert` many times, which has poor performance.  Consider joining all columns at once using pd.concat(axis=1) instead.  To get a de-fragmented frame, use `newframe = frame.copy()`\n",
      "  dt_transformed[col] = 0\n",
      "\n",
      "C:\\Users\\velmurug\\Documents\\full_stability\\transformers\\IndexBasedTransformer.py:58: PerformanceWarning: DataFrame is highly fragmented.  This is usually the result of calling `frame.insert` many times, which has poor performance.  Consider joining all columns at once using pd.concat(axis=1) instead.  To get a de-fragmented frame, use `newframe = frame.copy()`\n",
      "  dt_transformed[col] = 0\n",
      "\n"
     ]
    },
    {
     "name": "stdout",
     "output_type": "stream",
     "text": [
      "Accuracy:                                                                                                              \n",
      "0.9488372093023255                                                                                                     \n",
      " 50%|████████████████████████▌                        | 5/10 [00:07<00:06,  1.31s/trial, best loss: -0.979724235152581]"
     ]
    },
    {
     "name": "stderr",
     "output_type": "stream",
     "text": [
      "C:\\Users\\velmurug\\Documents\\full_stability\\transformers\\StaticTransformer.py:44: PerformanceWarning: DataFrame is highly fragmented.  This is usually the result of calling `frame.insert` many times, which has poor performance.  Consider joining all columns at once using pd.concat(axis=1) instead.  To get a de-fragmented frame, use `newframe = frame.copy()`\n",
      "  dt_transformed[col] = 0\n",
      "\n",
      "C:\\Users\\velmurug\\Documents\\full_stability\\transformers\\IndexBasedTransformer.py:58: PerformanceWarning: DataFrame is highly fragmented.  This is usually the result of calling `frame.insert` many times, which has poor performance.  Consider joining all columns at once using pd.concat(axis=1) instead.  To get a de-fragmented frame, use `newframe = frame.copy()`\n",
      "  dt_transformed[col] = 0\n",
      "\n"
     ]
    },
    {
     "name": "stdout",
     "output_type": "stream",
     "text": [
      "Accuracy:                                                                                                              \n",
      "0.9610983981693363                                                                                                     \n",
      "{'var_smoothing': 4.3287612810830526e-07}                                                                              \n",
      " 60%|█████████████████████████████▍                   | 6/10 [00:07<00:05,  1.31s/trial, best loss: -0.979724235152581]"
     ]
    },
    {
     "name": "stderr",
     "output_type": "stream",
     "text": [
      "C:\\Users\\velmurug\\Documents\\full_stability\\transformers\\StaticTransformer.py:44: PerformanceWarning: DataFrame is highly fragmented.  This is usually the result of calling `frame.insert` many times, which has poor performance.  Consider joining all columns at once using pd.concat(axis=1) instead.  To get a de-fragmented frame, use `newframe = frame.copy()`\n",
      "  dt_transformed[col] = 0\n",
      "\n",
      "C:\\Users\\velmurug\\Documents\\full_stability\\transformers\\IndexBasedTransformer.py:58: PerformanceWarning: DataFrame is highly fragmented.  This is usually the result of calling `frame.insert` many times, which has poor performance.  Consider joining all columns at once using pd.concat(axis=1) instead.  To get a de-fragmented frame, use `newframe = frame.copy()`\n",
      "  dt_transformed[col] = 0\n",
      "\n"
     ]
    },
    {
     "name": "stdout",
     "output_type": "stream",
     "text": [
      "Accuracy:                                                                                                              \n",
      "0.9705215419501134                                                                                                     \n",
      " 60%|█████████████████████████████▍                   | 6/10 [00:08<00:05,  1.31s/trial, best loss: -0.979724235152581]"
     ]
    },
    {
     "name": "stderr",
     "output_type": "stream",
     "text": [
      "C:\\Users\\velmurug\\Documents\\full_stability\\transformers\\StaticTransformer.py:44: PerformanceWarning: DataFrame is highly fragmented.  This is usually the result of calling `frame.insert` many times, which has poor performance.  Consider joining all columns at once using pd.concat(axis=1) instead.  To get a de-fragmented frame, use `newframe = frame.copy()`\n",
      "  dt_transformed[col] = 0\n",
      "\n",
      "C:\\Users\\velmurug\\Documents\\full_stability\\transformers\\IndexBasedTransformer.py:58: PerformanceWarning: DataFrame is highly fragmented.  This is usually the result of calling `frame.insert` many times, which has poor performance.  Consider joining all columns at once using pd.concat(axis=1) instead.  To get a de-fragmented frame, use `newframe = frame.copy()`\n",
      "  dt_transformed[col] = 0\n",
      "\n"
     ]
    },
    {
     "name": "stdout",
     "output_type": "stream",
     "text": [
      "Accuracy:                                                                                                              \n",
      "0.9537037037037037                                                                                                     \n",
      " 60%|█████████████████████████████▍                   | 6/10 [00:08<00:05,  1.31s/trial, best loss: -0.979724235152581]"
     ]
    },
    {
     "name": "stderr",
     "output_type": "stream",
     "text": [
      "C:\\Users\\velmurug\\Documents\\full_stability\\transformers\\StaticTransformer.py:44: PerformanceWarning: DataFrame is highly fragmented.  This is usually the result of calling `frame.insert` many times, which has poor performance.  Consider joining all columns at once using pd.concat(axis=1) instead.  To get a de-fragmented frame, use `newframe = frame.copy()`\n",
      "  dt_transformed[col] = 0\n",
      "\n",
      "C:\\Users\\velmurug\\Documents\\full_stability\\transformers\\IndexBasedTransformer.py:58: PerformanceWarning: DataFrame is highly fragmented.  This is usually the result of calling `frame.insert` many times, which has poor performance.  Consider joining all columns at once using pd.concat(axis=1) instead.  To get a de-fragmented frame, use `newframe = frame.copy()`\n",
      "  dt_transformed[col] = 0\n",
      "\n"
     ]
    },
    {
     "name": "stdout",
     "output_type": "stream",
     "text": [
      "Accuracy:                                                                                                              \n",
      "0.9515011547344111                                                                                                     \n",
      "{'var_smoothing': 0.0005336699231206307}                                                                               \n",
      " 70%|██████████████████████████████████▎              | 7/10 [00:09<00:03,  1.31s/trial, best loss: -0.979724235152581]"
     ]
    },
    {
     "name": "stderr",
     "output_type": "stream",
     "text": [
      "C:\\Users\\velmurug\\Documents\\full_stability\\transformers\\StaticTransformer.py:44: PerformanceWarning: DataFrame is highly fragmented.  This is usually the result of calling `frame.insert` many times, which has poor performance.  Consider joining all columns at once using pd.concat(axis=1) instead.  To get a de-fragmented frame, use `newframe = frame.copy()`\n",
      "  dt_transformed[col] = 0\n",
      "\n",
      "C:\\Users\\velmurug\\Documents\\full_stability\\transformers\\IndexBasedTransformer.py:58: PerformanceWarning: DataFrame is highly fragmented.  This is usually the result of calling `frame.insert` many times, which has poor performance.  Consider joining all columns at once using pd.concat(axis=1) instead.  To get a de-fragmented frame, use `newframe = frame.copy()`\n",
      "  dt_transformed[col] = 0\n",
      "\n"
     ]
    },
    {
     "name": "stdout",
     "output_type": "stream",
     "text": [
      "Accuracy:                                                                                                              \n",
      "0.9843400447427293                                                                                                     \n",
      " 70%|██████████████████████████████████▎              | 7/10 [00:09<00:03,  1.31s/trial, best loss: -0.979724235152581]"
     ]
    },
    {
     "name": "stderr",
     "output_type": "stream",
     "text": [
      "C:\\Users\\velmurug\\Documents\\full_stability\\transformers\\StaticTransformer.py:44: PerformanceWarning: DataFrame is highly fragmented.  This is usually the result of calling `frame.insert` many times, which has poor performance.  Consider joining all columns at once using pd.concat(axis=1) instead.  To get a de-fragmented frame, use `newframe = frame.copy()`\n",
      "  dt_transformed[col] = 0\n",
      "\n",
      "C:\\Users\\velmurug\\Documents\\full_stability\\transformers\\IndexBasedTransformer.py:58: PerformanceWarning: DataFrame is highly fragmented.  This is usually the result of calling `frame.insert` many times, which has poor performance.  Consider joining all columns at once using pd.concat(axis=1) instead.  To get a de-fragmented frame, use `newframe = frame.copy()`\n",
      "  dt_transformed[col] = 0\n",
      "\n"
     ]
    },
    {
     "name": "stdout",
     "output_type": "stream",
     "text": [
      "Accuracy:                                                                                                              \n",
      "0.979683972911964                                                                                                      \n",
      "                                                                                                                       \r"
     ]
    },
    {
     "name": "stderr",
     "output_type": "stream",
     "text": [
      "C:\\Users\\velmurug\\Documents\\full_stability\\transformers\\StaticTransformer.py:44: PerformanceWarning: DataFrame is highly fragmented.  This is usually the result of calling `frame.insert` many times, which has poor performance.  Consider joining all columns at once using pd.concat(axis=1) instead.  To get a de-fragmented frame, use `newframe = frame.copy()`\n",
      "  dt_transformed[col] = 0\n",
      "\n",
      "C:\\Users\\velmurug\\Documents\\full_stability\\transformers\\IndexBasedTransformer.py:58: PerformanceWarning: DataFrame is highly fragmented.  This is usually the result of calling `frame.insert` many times, which has poor performance.  Consider joining all columns at once using pd.concat(axis=1) instead.  To get a de-fragmented frame, use `newframe = frame.copy()`\n",
      "  dt_transformed[col] = 0\n",
      "\n"
     ]
    },
    {
     "name": "stdout",
     "output_type": "stream",
     "text": [
      "Accuracy:\n",
      "0.9705215419501134                                                                                                     \n",
      "{'var_smoothing': 1.873817422860383e-07}                                                                               \n",
      " 80%|███████████████████████████████████████▏         | 8/10 [00:10<00:02,  1.30s/trial, best loss: -0.979724235152581]"
     ]
    },
    {
     "name": "stderr",
     "output_type": "stream",
     "text": [
      "C:\\Users\\velmurug\\Documents\\full_stability\\transformers\\StaticTransformer.py:44: PerformanceWarning: DataFrame is highly fragmented.  This is usually the result of calling `frame.insert` many times, which has poor performance.  Consider joining all columns at once using pd.concat(axis=1) instead.  To get a de-fragmented frame, use `newframe = frame.copy()`\n",
      "  dt_transformed[col] = 0\n",
      "\n",
      "C:\\Users\\velmurug\\Documents\\full_stability\\transformers\\IndexBasedTransformer.py:58: PerformanceWarning: DataFrame is highly fragmented.  This is usually the result of calling `frame.insert` many times, which has poor performance.  Consider joining all columns at once using pd.concat(axis=1) instead.  To get a de-fragmented frame, use `newframe = frame.copy()`\n",
      "  dt_transformed[col] = 0\n",
      "\n"
     ]
    },
    {
     "name": "stdout",
     "output_type": "stream",
     "text": [
      "Accuracy:                                                                                                              \n",
      "0.9797752808988764                                                                                                     \n",
      " 80%|███████████████████████████████████████▏         | 8/10 [00:10<00:02,  1.30s/trial, best loss: -0.979724235152581]"
     ]
    },
    {
     "name": "stderr",
     "output_type": "stream",
     "text": [
      "C:\\Users\\velmurug\\Documents\\full_stability\\transformers\\StaticTransformer.py:44: PerformanceWarning: DataFrame is highly fragmented.  This is usually the result of calling `frame.insert` many times, which has poor performance.  Consider joining all columns at once using pd.concat(axis=1) instead.  To get a de-fragmented frame, use `newframe = frame.copy()`\n",
      "  dt_transformed[col] = 0\n",
      "\n",
      "C:\\Users\\velmurug\\Documents\\full_stability\\transformers\\IndexBasedTransformer.py:58: PerformanceWarning: DataFrame is highly fragmented.  This is usually the result of calling `frame.insert` many times, which has poor performance.  Consider joining all columns at once using pd.concat(axis=1) instead.  To get a de-fragmented frame, use `newframe = frame.copy()`\n",
      "  dt_transformed[col] = 0\n",
      "\n"
     ]
    },
    {
     "name": "stdout",
     "output_type": "stream",
     "text": [
      "Accuracy:                                                                                                              \n",
      "0.951276102088167                                                                                                      \n",
      "Accuracy:                                                                                                              \n",
      " 80%|███████████████████████████████████████▏         | 8/10 [00:11<00:02,  1.30s/trial, best loss: -0.979724235152581]"
     ]
    },
    {
     "name": "stderr",
     "output_type": "stream",
     "text": [
      "C:\\Users\\velmurug\\Documents\\full_stability\\transformers\\StaticTransformer.py:44: PerformanceWarning: DataFrame is highly fragmented.  This is usually the result of calling `frame.insert` many times, which has poor performance.  Consider joining all columns at once using pd.concat(axis=1) instead.  To get a de-fragmented frame, use `newframe = frame.copy()`\n",
      "  dt_transformed[col] = 0\n",
      "\n",
      "C:\\Users\\velmurug\\Documents\\full_stability\\transformers\\IndexBasedTransformer.py:58: PerformanceWarning: DataFrame is highly fragmented.  This is usually the result of calling `frame.insert` many times, which has poor performance.  Consider joining all columns at once using pd.concat(axis=1) instead.  To get a de-fragmented frame, use `newframe = frame.copy()`\n",
      "  dt_transformed[col] = 0\n",
      "\n"
     ]
    },
    {
     "name": "stdout",
     "output_type": "stream",
     "text": [
      "0.9539170506912442                                                                                                     \n",
      "{'var_smoothing': 0.01519911082952933}                                                                                 \n",
      " 90%|████████████████████████████████████████████     | 9/10 [00:11<00:01,  1.30s/trial, best loss: -0.979724235152581]"
     ]
    },
    {
     "name": "stderr",
     "output_type": "stream",
     "text": [
      "C:\\Users\\velmurug\\Documents\\full_stability\\transformers\\StaticTransformer.py:44: PerformanceWarning: DataFrame is highly fragmented.  This is usually the result of calling `frame.insert` many times, which has poor performance.  Consider joining all columns at once using pd.concat(axis=1) instead.  To get a de-fragmented frame, use `newframe = frame.copy()`\n",
      "  dt_transformed[col] = 0\n",
      "\n",
      "C:\\Users\\velmurug\\Documents\\full_stability\\transformers\\IndexBasedTransformer.py:58: PerformanceWarning: DataFrame is highly fragmented.  This is usually the result of calling `frame.insert` many times, which has poor performance.  Consider joining all columns at once using pd.concat(axis=1) instead.  To get a de-fragmented frame, use `newframe = frame.copy()`\n",
      "  dt_transformed[col] = 0\n",
      "\n"
     ]
    },
    {
     "name": "stdout",
     "output_type": "stream",
     "text": [
      "Accuracy:                                                                                                              \n",
      "0.899122807017544                                                                                                      \n",
      "                                                                                                                       "
     ]
    },
    {
     "name": "stderr",
     "output_type": "stream",
     "text": [
      "C:\\Users\\velmurug\\Documents\\full_stability\\transformers\\StaticTransformer.py:44: PerformanceWarning: DataFrame is highly fragmented.  This is usually the result of calling `frame.insert` many times, which has poor performance.  Consider joining all columns at once using pd.concat(axis=1) instead.  To get a de-fragmented frame, use `newframe = frame.copy()`\n",
      "  dt_transformed[col] = 0\n",
      "\n",
      "C:\\Users\\velmurug\\Documents\\full_stability\\transformers\\IndexBasedTransformer.py:58: PerformanceWarning: DataFrame is highly fragmented.  This is usually the result of calling `frame.insert` many times, which has poor performance.  Consider joining all columns at once using pd.concat(axis=1) instead.  To get a de-fragmented frame, use `newframe = frame.copy()`\n",
      "  dt_transformed[col] = 0\n",
      "\n"
     ]
    },
    {
     "name": "stdout",
     "output_type": "stream",
     "text": [
      "Accuracy:\n",
      "0.9030837004405287                                                                                                     \n",
      " 90%|████████████████████████████████████████████     | 9/10 [00:12<00:01,  1.30s/trial, best loss: -0.979724235152581]"
     ]
    },
    {
     "name": "stderr",
     "output_type": "stream",
     "text": [
      "C:\\Users\\velmurug\\Documents\\full_stability\\transformers\\StaticTransformer.py:44: PerformanceWarning: DataFrame is highly fragmented.  This is usually the result of calling `frame.insert` many times, which has poor performance.  Consider joining all columns at once using pd.concat(axis=1) instead.  To get a de-fragmented frame, use `newframe = frame.copy()`\n",
      "  dt_transformed[col] = 0\n",
      "\n",
      "C:\\Users\\velmurug\\Documents\\full_stability\\transformers\\IndexBasedTransformer.py:58: PerformanceWarning: DataFrame is highly fragmented.  This is usually the result of calling `frame.insert` many times, which has poor performance.  Consider joining all columns at once using pd.concat(axis=1) instead.  To get a de-fragmented frame, use `newframe = frame.copy()`\n",
      "  dt_transformed[col] = 0\n",
      "\n"
     ]
    },
    {
     "name": "stdout",
     "output_type": "stream",
     "text": [
      "Accuracy:                                                                                                              \n",
      "0.9086956521739131                                                                                                     \n",
      "100%|████████████████████████████████████████████████| 10/10 [00:12<00:00,  1.30s/trial, best loss: -0.979724235152581]\n",
      "Optimising 5 of 20 buckets\n",
      "{'var_smoothing': 0.006579332246575682}                                                                                \n",
      "  0%|                                                                           | 0/10 [00:00<?, ?trial/s, best loss=?]"
     ]
    },
    {
     "name": "stderr",
     "output_type": "stream",
     "text": [
      "C:\\Users\\velmurug\\Documents\\full_stability\\transformers\\StaticTransformer.py:44: PerformanceWarning: DataFrame is highly fragmented.  This is usually the result of calling `frame.insert` many times, which has poor performance.  Consider joining all columns at once using pd.concat(axis=1) instead.  To get a de-fragmented frame, use `newframe = frame.copy()`\n",
      "  dt_transformed[col] = 0\n",
      "\n",
      "C:\\Users\\velmurug\\Documents\\full_stability\\transformers\\IndexBasedTransformer.py:58: PerformanceWarning: DataFrame is highly fragmented.  This is usually the result of calling `frame.insert` many times, which has poor performance.  Consider joining all columns at once using pd.concat(axis=1) instead.  To get a de-fragmented frame, use `newframe = frame.copy()`\n",
      "  dt_transformed[col] = 0\n",
      "\n"
     ]
    },
    {
     "name": "stdout",
     "output_type": "stream",
     "text": [
      "Accuracy:                                                                                                              \n",
      "0.9585253456221197                                                                                                     \n",
      "  0%|                                                                           | 0/10 [00:00<?, ?trial/s, best loss=?]"
     ]
    },
    {
     "name": "stderr",
     "output_type": "stream",
     "text": [
      "C:\\Users\\velmurug\\Documents\\full_stability\\transformers\\StaticTransformer.py:44: PerformanceWarning: DataFrame is highly fragmented.  This is usually the result of calling `frame.insert` many times, which has poor performance.  Consider joining all columns at once using pd.concat(axis=1) instead.  To get a de-fragmented frame, use `newframe = frame.copy()`\n",
      "  dt_transformed[col] = 0\n",
      "\n",
      "C:\\Users\\velmurug\\Documents\\full_stability\\transformers\\IndexBasedTransformer.py:58: PerformanceWarning: DataFrame is highly fragmented.  This is usually the result of calling `frame.insert` many times, which has poor performance.  Consider joining all columns at once using pd.concat(axis=1) instead.  To get a de-fragmented frame, use `newframe = frame.copy()`\n",
      "  dt_transformed[col] = 0\n",
      "\n"
     ]
    },
    {
     "name": "stdout",
     "output_type": "stream",
     "text": [
      "Accuracy:                                                                                                              \n",
      "0.9727272727272728                                                                                                     \n",
      "  0%|                                                                           | 0/10 [00:01<?, ?trial/s, best loss=?]"
     ]
    },
    {
     "name": "stderr",
     "output_type": "stream",
     "text": [
      "C:\\Users\\velmurug\\Documents\\full_stability\\transformers\\StaticTransformer.py:44: PerformanceWarning: DataFrame is highly fragmented.  This is usually the result of calling `frame.insert` many times, which has poor performance.  Consider joining all columns at once using pd.concat(axis=1) instead.  To get a de-fragmented frame, use `newframe = frame.copy()`\n",
      "  dt_transformed[col] = 0\n",
      "\n",
      "C:\\Users\\velmurug\\Documents\\full_stability\\transformers\\IndexBasedTransformer.py:58: PerformanceWarning: DataFrame is highly fragmented.  This is usually the result of calling `frame.insert` many times, which has poor performance.  Consider joining all columns at once using pd.concat(axis=1) instead.  To get a de-fragmented frame, use `newframe = frame.copy()`\n",
      "  dt_transformed[col] = 0\n",
      "\n"
     ]
    },
    {
     "name": "stdout",
     "output_type": "stream",
     "text": [
      "Accuracy:                                                                                                              \n",
      "0.9772727272727273                                                                                                     \n",
      "{'var_smoothing': 4.328761281083053e-06}                                                                               \n",
      " 10%|████▊                                           | 1/10 [00:01<00:13,  1.54s/trial, best loss: -0.9695084485407065]"
     ]
    },
    {
     "name": "stderr",
     "output_type": "stream",
     "text": [
      "C:\\Users\\velmurug\\Documents\\full_stability\\transformers\\StaticTransformer.py:44: PerformanceWarning: DataFrame is highly fragmented.  This is usually the result of calling `frame.insert` many times, which has poor performance.  Consider joining all columns at once using pd.concat(axis=1) instead.  To get a de-fragmented frame, use `newframe = frame.copy()`\n",
      "  dt_transformed[col] = 0\n",
      "\n",
      "C:\\Users\\velmurug\\Documents\\full_stability\\transformers\\IndexBasedTransformer.py:58: PerformanceWarning: DataFrame is highly fragmented.  This is usually the result of calling `frame.insert` many times, which has poor performance.  Consider joining all columns at once using pd.concat(axis=1) instead.  To get a de-fragmented frame, use `newframe = frame.copy()`\n",
      "  dt_transformed[col] = 0\n",
      "\n"
     ]
    },
    {
     "name": "stdout",
     "output_type": "stream",
     "text": [
      "Accuracy:                                                                                                              \n",
      "0.9304347826086956                                                                                                     \n",
      " 10%|████▊                                           | 1/10 [00:02<00:13,  1.54s/trial, best loss: -0.9695084485407065]"
     ]
    },
    {
     "name": "stderr",
     "output_type": "stream",
     "text": [
      "C:\\Users\\velmurug\\Documents\\full_stability\\transformers\\StaticTransformer.py:44: PerformanceWarning: DataFrame is highly fragmented.  This is usually the result of calling `frame.insert` many times, which has poor performance.  Consider joining all columns at once using pd.concat(axis=1) instead.  To get a de-fragmented frame, use `newframe = frame.copy()`\n",
      "  dt_transformed[col] = 0\n",
      "\n",
      "C:\\Users\\velmurug\\Documents\\full_stability\\transformers\\IndexBasedTransformer.py:58: PerformanceWarning: DataFrame is highly fragmented.  This is usually the result of calling `frame.insert` many times, which has poor performance.  Consider joining all columns at once using pd.concat(axis=1) instead.  To get a de-fragmented frame, use `newframe = frame.copy()`\n",
      "  dt_transformed[col] = 0\n",
      "\n"
     ]
    },
    {
     "name": "stdout",
     "output_type": "stream",
     "text": [
      "Accuracy:                                                                                                              \n",
      "0.96                                                                                                                   \n",
      " 10%|████▊                                           | 1/10 [00:02<00:13,  1.54s/trial, best loss: -0.9695084485407065]"
     ]
    },
    {
     "name": "stderr",
     "output_type": "stream",
     "text": [
      "C:\\Users\\velmurug\\Documents\\full_stability\\transformers\\StaticTransformer.py:44: PerformanceWarning: DataFrame is highly fragmented.  This is usually the result of calling `frame.insert` many times, which has poor performance.  Consider joining all columns at once using pd.concat(axis=1) instead.  To get a de-fragmented frame, use `newframe = frame.copy()`\n",
      "  dt_transformed[col] = 0\n",
      "\n",
      "C:\\Users\\velmurug\\Documents\\full_stability\\transformers\\IndexBasedTransformer.py:58: PerformanceWarning: DataFrame is highly fragmented.  This is usually the result of calling `frame.insert` many times, which has poor performance.  Consider joining all columns at once using pd.concat(axis=1) instead.  To get a de-fragmented frame, use `newframe = frame.copy()`\n",
      "  dt_transformed[col] = 0\n",
      "\n"
     ]
    },
    {
     "name": "stdout",
     "output_type": "stream",
     "text": [
      "Accuracy:                                                                                                              \n",
      "0.9820627802690584                                                                                                     \n",
      "{'var_smoothing': 0.0008111308307896872}                                                                               \n",
      " 20%|█████████▌                                      | 2/10 [00:03<00:12,  1.53s/trial, best loss: -0.9695084485407065]"
     ]
    },
    {
     "name": "stderr",
     "output_type": "stream",
     "text": [
      "C:\\Users\\velmurug\\Documents\\full_stability\\transformers\\StaticTransformer.py:44: PerformanceWarning: DataFrame is highly fragmented.  This is usually the result of calling `frame.insert` many times, which has poor performance.  Consider joining all columns at once using pd.concat(axis=1) instead.  To get a de-fragmented frame, use `newframe = frame.copy()`\n",
      "  dt_transformed[col] = 0\n",
      "\n",
      "C:\\Users\\velmurug\\Documents\\full_stability\\transformers\\IndexBasedTransformer.py:58: PerformanceWarning: DataFrame is highly fragmented.  This is usually the result of calling `frame.insert` many times, which has poor performance.  Consider joining all columns at once using pd.concat(axis=1) instead.  To get a de-fragmented frame, use `newframe = frame.copy()`\n",
      "  dt_transformed[col] = 0\n",
      "\n"
     ]
    },
    {
     "name": "stdout",
     "output_type": "stream",
     "text": [
      "Accuracy:                                                                                                              \n",
      "0.9819004524886877                                                                                                     \n",
      " 20%|█████████▌                                      | 2/10 [00:03<00:12,  1.53s/trial, best loss: -0.9695084485407065]"
     ]
    },
    {
     "name": "stderr",
     "output_type": "stream",
     "text": [
      "C:\\Users\\velmurug\\Documents\\full_stability\\transformers\\StaticTransformer.py:44: PerformanceWarning: DataFrame is highly fragmented.  This is usually the result of calling `frame.insert` many times, which has poor performance.  Consider joining all columns at once using pd.concat(axis=1) instead.  To get a de-fragmented frame, use `newframe = frame.copy()`\n",
      "  dt_transformed[col] = 0\n",
      "\n",
      "C:\\Users\\velmurug\\Documents\\full_stability\\transformers\\IndexBasedTransformer.py:58: PerformanceWarning: DataFrame is highly fragmented.  This is usually the result of calling `frame.insert` many times, which has poor performance.  Consider joining all columns at once using pd.concat(axis=1) instead.  To get a de-fragmented frame, use `newframe = frame.copy()`\n",
      "  dt_transformed[col] = 0\n",
      "\n"
     ]
    },
    {
     "name": "stdout",
     "output_type": "stream",
     "text": [
      "Accuracy:                                                                                                              \n",
      "0.9750566893424036                                                                                                     \n",
      " 20%|█████████▌                                      | 2/10 [00:04<00:12,  1.53s/trial, best loss: -0.9695084485407065]"
     ]
    },
    {
     "name": "stderr",
     "output_type": "stream",
     "text": [
      "C:\\Users\\velmurug\\Documents\\full_stability\\transformers\\StaticTransformer.py:44: PerformanceWarning: DataFrame is highly fragmented.  This is usually the result of calling `frame.insert` many times, which has poor performance.  Consider joining all columns at once using pd.concat(axis=1) instead.  To get a de-fragmented frame, use `newframe = frame.copy()`\n",
      "  dt_transformed[col] = 0\n",
      "\n",
      "C:\\Users\\velmurug\\Documents\\full_stability\\transformers\\IndexBasedTransformer.py:58: PerformanceWarning: DataFrame is highly fragmented.  This is usually the result of calling `frame.insert` many times, which has poor performance.  Consider joining all columns at once using pd.concat(axis=1) instead.  To get a de-fragmented frame, use `newframe = frame.copy()`\n",
      "  dt_transformed[col] = 0\n",
      "\n"
     ]
    },
    {
     "name": "stdout",
     "output_type": "stream",
     "text": [
      "Accuracy:                                                                                                              \n",
      "0.9819819819819819                                                                                                     \n",
      "{'var_smoothing': 0.01}                                                                                                \n",
      " 30%|██████████████▍                                 | 3/10 [00:04<00:10,  1.54s/trial, best loss: -0.9796463746043577]"
     ]
    },
    {
     "name": "stderr",
     "output_type": "stream",
     "text": [
      "C:\\Users\\velmurug\\Documents\\full_stability\\transformers\\StaticTransformer.py:44: PerformanceWarning: DataFrame is highly fragmented.  This is usually the result of calling `frame.insert` many times, which has poor performance.  Consider joining all columns at once using pd.concat(axis=1) instead.  To get a de-fragmented frame, use `newframe = frame.copy()`\n",
      "  dt_transformed[col] = 0\n",
      "\n",
      "C:\\Users\\velmurug\\Documents\\full_stability\\transformers\\IndexBasedTransformer.py:58: PerformanceWarning: DataFrame is highly fragmented.  This is usually the result of calling `frame.insert` many times, which has poor performance.  Consider joining all columns at once using pd.concat(axis=1) instead.  To get a de-fragmented frame, use `newframe = frame.copy()`\n",
      "  dt_transformed[col] = 0\n",
      "\n"
     ]
    },
    {
     "name": "stdout",
     "output_type": "stream",
     "text": [
      "Accuracy:                                                                                                              \n",
      "0.9190371991247265                                                                                                     \n",
      " 30%|██████████████▍                                 | 3/10 [00:05<00:10,  1.54s/trial, best loss: -0.9796463746043577]"
     ]
    },
    {
     "name": "stderr",
     "output_type": "stream",
     "text": [
      "C:\\Users\\velmurug\\Documents\\full_stability\\transformers\\StaticTransformer.py:44: PerformanceWarning: DataFrame is highly fragmented.  This is usually the result of calling `frame.insert` many times, which has poor performance.  Consider joining all columns at once using pd.concat(axis=1) instead.  To get a de-fragmented frame, use `newframe = frame.copy()`\n",
      "  dt_transformed[col] = 0\n",
      "\n",
      "C:\\Users\\velmurug\\Documents\\full_stability\\transformers\\IndexBasedTransformer.py:58: PerformanceWarning: DataFrame is highly fragmented.  This is usually the result of calling `frame.insert` many times, which has poor performance.  Consider joining all columns at once using pd.concat(axis=1) instead.  To get a de-fragmented frame, use `newframe = frame.copy()`\n",
      "  dt_transformed[col] = 0\n",
      "\n"
     ]
    },
    {
     "name": "stdout",
     "output_type": "stream",
     "text": [
      "Accuracy:                                                                                                              \n",
      "0.9277899343544858                                                                                                     \n",
      " 30%|██████████████▍                                 | 3/10 [00:05<00:10,  1.54s/trial, best loss: -0.9796463746043577]"
     ]
    },
    {
     "name": "stderr",
     "output_type": "stream",
     "text": [
      "C:\\Users\\velmurug\\Documents\\full_stability\\transformers\\StaticTransformer.py:44: PerformanceWarning: DataFrame is highly fragmented.  This is usually the result of calling `frame.insert` many times, which has poor performance.  Consider joining all columns at once using pd.concat(axis=1) instead.  To get a de-fragmented frame, use `newframe = frame.copy()`\n",
      "  dt_transformed[col] = 0\n",
      "\n",
      "C:\\Users\\velmurug\\Documents\\full_stability\\transformers\\IndexBasedTransformer.py:58: PerformanceWarning: DataFrame is highly fragmented.  This is usually the result of calling `frame.insert` many times, which has poor performance.  Consider joining all columns at once using pd.concat(axis=1) instead.  To get a de-fragmented frame, use `newframe = frame.copy()`\n",
      "  dt_transformed[col] = 0\n",
      "\n"
     ]
    },
    {
     "name": "stdout",
     "output_type": "stream",
     "text": [
      "Accuracy:                                                                                                              \n",
      "0.9362637362637363                                                                                                     \n",
      "{'var_smoothing': 5.336699231206313e-06}                                                                               \n",
      " 40%|███████████████████▏                            | 4/10 [00:06<00:09,  1.56s/trial, best loss: -0.9796463746043577]"
     ]
    },
    {
     "name": "stderr",
     "output_type": "stream",
     "text": [
      "C:\\Users\\velmurug\\Documents\\full_stability\\transformers\\StaticTransformer.py:44: PerformanceWarning: DataFrame is highly fragmented.  This is usually the result of calling `frame.insert` many times, which has poor performance.  Consider joining all columns at once using pd.concat(axis=1) instead.  To get a de-fragmented frame, use `newframe = frame.copy()`\n",
      "  dt_transformed[col] = 0\n",
      "\n",
      "C:\\Users\\velmurug\\Documents\\full_stability\\transformers\\IndexBasedTransformer.py:58: PerformanceWarning: DataFrame is highly fragmented.  This is usually the result of calling `frame.insert` many times, which has poor performance.  Consider joining all columns at once using pd.concat(axis=1) instead.  To get a de-fragmented frame, use `newframe = frame.copy()`\n",
      "  dt_transformed[col] = 0\n",
      "\n"
     ]
    },
    {
     "name": "stdout",
     "output_type": "stream",
     "text": [
      "Accuracy:                                                                                                              \n",
      "0.9644444444444444                                                                                                     \n",
      " 40%|███████████████████▏                            | 4/10 [00:06<00:09,  1.56s/trial, best loss: -0.9796463746043577]"
     ]
    },
    {
     "name": "stderr",
     "output_type": "stream",
     "text": [
      "C:\\Users\\velmurug\\Documents\\full_stability\\transformers\\StaticTransformer.py:44: PerformanceWarning: DataFrame is highly fragmented.  This is usually the result of calling `frame.insert` many times, which has poor performance.  Consider joining all columns at once using pd.concat(axis=1) instead.  To get a de-fragmented frame, use `newframe = frame.copy()`\n",
      "  dt_transformed[col] = 0\n",
      "\n",
      "C:\\Users\\velmurug\\Documents\\full_stability\\transformers\\IndexBasedTransformer.py:58: PerformanceWarning: DataFrame is highly fragmented.  This is usually the result of calling `frame.insert` many times, which has poor performance.  Consider joining all columns at once using pd.concat(axis=1) instead.  To get a de-fragmented frame, use `newframe = frame.copy()`\n",
      "  dt_transformed[col] = 0\n",
      "\n"
     ]
    },
    {
     "name": "stdout",
     "output_type": "stream",
     "text": [
      "Accuracy:                                                                                                              \n",
      "0.9750566893424036                                                                                                     \n",
      " 40%|███████████████████▏                            | 4/10 [00:07<00:09,  1.56s/trial, best loss: -0.9796463746043577]"
     ]
    },
    {
     "name": "stderr",
     "output_type": "stream",
     "text": [
      "C:\\Users\\velmurug\\Documents\\full_stability\\transformers\\StaticTransformer.py:44: PerformanceWarning: DataFrame is highly fragmented.  This is usually the result of calling `frame.insert` many times, which has poor performance.  Consider joining all columns at once using pd.concat(axis=1) instead.  To get a de-fragmented frame, use `newframe = frame.copy()`\n",
      "  dt_transformed[col] = 0\n",
      "\n",
      "C:\\Users\\velmurug\\Documents\\full_stability\\transformers\\IndexBasedTransformer.py:58: PerformanceWarning: DataFrame is highly fragmented.  This is usually the result of calling `frame.insert` many times, which has poor performance.  Consider joining all columns at once using pd.concat(axis=1) instead.  To get a de-fragmented frame, use `newframe = frame.copy()`\n",
      "  dt_transformed[col] = 0\n",
      "\n"
     ]
    },
    {
     "name": "stdout",
     "output_type": "stream",
     "text": [
      "Accuracy:                                                                                                              \n",
      "0.9732142857142856                                                                                                     \n",
      "{'var_smoothing': 1.873817422860387e-09}                                                                               \n",
      " 50%|████████████████████████                        | 5/10 [00:07<00:07,  1.54s/trial, best loss: -0.9796463746043577]"
     ]
    },
    {
     "name": "stderr",
     "output_type": "stream",
     "text": [
      "C:\\Users\\velmurug\\Documents\\full_stability\\transformers\\StaticTransformer.py:44: PerformanceWarning: DataFrame is highly fragmented.  This is usually the result of calling `frame.insert` many times, which has poor performance.  Consider joining all columns at once using pd.concat(axis=1) instead.  To get a de-fragmented frame, use `newframe = frame.copy()`\n",
      "  dt_transformed[col] = 0\n",
      "\n",
      "C:\\Users\\velmurug\\Documents\\full_stability\\transformers\\IndexBasedTransformer.py:58: PerformanceWarning: DataFrame is highly fragmented.  This is usually the result of calling `frame.insert` many times, which has poor performance.  Consider joining all columns at once using pd.concat(axis=1) instead.  To get a de-fragmented frame, use `newframe = frame.copy()`\n",
      "  dt_transformed[col] = 0\n",
      "\n"
     ]
    },
    {
     "name": "stdout",
     "output_type": "stream",
     "text": [
      "Accuracy:                                                                                                              \n",
      "0.9641255605381166                                                                                                     \n",
      " 50%|████████████████████████                        | 5/10 [00:08<00:07,  1.54s/trial, best loss: -0.9796463746043577]"
     ]
    },
    {
     "name": "stderr",
     "output_type": "stream",
     "text": [
      "C:\\Users\\velmurug\\Documents\\full_stability\\transformers\\StaticTransformer.py:44: PerformanceWarning: DataFrame is highly fragmented.  This is usually the result of calling `frame.insert` many times, which has poor performance.  Consider joining all columns at once using pd.concat(axis=1) instead.  To get a de-fragmented frame, use `newframe = frame.copy()`\n",
      "  dt_transformed[col] = 0\n",
      "\n",
      "C:\\Users\\velmurug\\Documents\\full_stability\\transformers\\IndexBasedTransformer.py:58: PerformanceWarning: DataFrame is highly fragmented.  This is usually the result of calling `frame.insert` many times, which has poor performance.  Consider joining all columns at once using pd.concat(axis=1) instead.  To get a de-fragmented frame, use `newframe = frame.copy()`\n",
      "  dt_transformed[col] = 0\n",
      "\n"
     ]
    },
    {
     "name": "stdout",
     "output_type": "stream",
     "text": [
      "Accuracy:                                                                                                              \n",
      "0.9661399548532732                                                                                                     \n",
      " 50%|████████████████████████                        | 5/10 [00:08<00:07,  1.54s/trial, best loss: -0.9796463746043577]"
     ]
    },
    {
     "name": "stderr",
     "output_type": "stream",
     "text": [
      "C:\\Users\\velmurug\\Documents\\full_stability\\transformers\\StaticTransformer.py:44: PerformanceWarning: DataFrame is highly fragmented.  This is usually the result of calling `frame.insert` many times, which has poor performance.  Consider joining all columns at once using pd.concat(axis=1) instead.  To get a de-fragmented frame, use `newframe = frame.copy()`\n",
      "  dt_transformed[col] = 0\n",
      "\n",
      "C:\\Users\\velmurug\\Documents\\full_stability\\transformers\\IndexBasedTransformer.py:58: PerformanceWarning: DataFrame is highly fragmented.  This is usually the result of calling `frame.insert` many times, which has poor performance.  Consider joining all columns at once using pd.concat(axis=1) instead.  To get a de-fragmented frame, use `newframe = frame.copy()`\n",
      "  dt_transformed[col] = 0\n",
      "\n"
     ]
    },
    {
     "name": "stdout",
     "output_type": "stream",
     "text": [
      "Accuracy:                                                                                                              \n",
      "0.9171974522292994                                                                                                     \n",
      "{'var_smoothing': 1.519911082952933e-08}                                                                               \n",
      " 60%|████████████████████████████▊                   | 6/10 [00:09<00:06,  1.51s/trial, best loss: -0.9796463746043577]"
     ]
    },
    {
     "name": "stderr",
     "output_type": "stream",
     "text": [
      "C:\\Users\\velmurug\\Documents\\full_stability\\transformers\\StaticTransformer.py:44: PerformanceWarning: DataFrame is highly fragmented.  This is usually the result of calling `frame.insert` many times, which has poor performance.  Consider joining all columns at once using pd.concat(axis=1) instead.  To get a de-fragmented frame, use `newframe = frame.copy()`\n",
      "  dt_transformed[col] = 0\n",
      "\n",
      "C:\\Users\\velmurug\\Documents\\full_stability\\transformers\\IndexBasedTransformer.py:58: PerformanceWarning: DataFrame is highly fragmented.  This is usually the result of calling `frame.insert` many times, which has poor performance.  Consider joining all columns at once using pd.concat(axis=1) instead.  To get a de-fragmented frame, use `newframe = frame.copy()`\n",
      "  dt_transformed[col] = 0\n",
      "\n"
     ]
    },
    {
     "name": "stdout",
     "output_type": "stream",
     "text": [
      "Accuracy:                                                                                                              \n",
      "0.9642857142857142                                                                                                     \n",
      " 60%|████████████████████████████▊                   | 6/10 [00:09<00:06,  1.51s/trial, best loss: -0.9796463746043577]"
     ]
    },
    {
     "name": "stderr",
     "output_type": "stream",
     "text": [
      "C:\\Users\\velmurug\\Documents\\full_stability\\transformers\\StaticTransformer.py:44: PerformanceWarning: DataFrame is highly fragmented.  This is usually the result of calling `frame.insert` many times, which has poor performance.  Consider joining all columns at once using pd.concat(axis=1) instead.  To get a de-fragmented frame, use `newframe = frame.copy()`\n",
      "  dt_transformed[col] = 0\n",
      "\n",
      "C:\\Users\\velmurug\\Documents\\full_stability\\transformers\\IndexBasedTransformer.py:58: PerformanceWarning: DataFrame is highly fragmented.  This is usually the result of calling `frame.insert` many times, which has poor performance.  Consider joining all columns at once using pd.concat(axis=1) instead.  To get a de-fragmented frame, use `newframe = frame.copy()`\n",
      "  dt_transformed[col] = 0\n",
      "\n"
     ]
    },
    {
     "name": "stdout",
     "output_type": "stream",
     "text": [
      "Accuracy:                                                                                                              \n",
      "0.975609756097561                                                                                                      \n",
      " 60%|████████████████████████████▊                   | 6/10 [00:10<00:06,  1.51s/trial, best loss: -0.9796463746043577]"
     ]
    },
    {
     "name": "stderr",
     "output_type": "stream",
     "text": [
      "C:\\Users\\velmurug\\Documents\\full_stability\\transformers\\StaticTransformer.py:44: PerformanceWarning: DataFrame is highly fragmented.  This is usually the result of calling `frame.insert` many times, which has poor performance.  Consider joining all columns at once using pd.concat(axis=1) instead.  To get a de-fragmented frame, use `newframe = frame.copy()`\n",
      "  dt_transformed[col] = 0\n",
      "\n",
      "C:\\Users\\velmurug\\Documents\\full_stability\\transformers\\IndexBasedTransformer.py:58: PerformanceWarning: DataFrame is highly fragmented.  This is usually the result of calling `frame.insert` many times, which has poor performance.  Consider joining all columns at once using pd.concat(axis=1) instead.  To get a de-fragmented frame, use `newframe = frame.copy()`\n",
      "  dt_transformed[col] = 0\n",
      "\n"
     ]
    },
    {
     "name": "stdout",
     "output_type": "stream",
     "text": [
      "Accuracy:                                                                                                              \n",
      "0.9399141630901287                                                                                                     \n",
      "{'var_smoothing': 6.579332246575683e-06}                                                                               \n",
      " 70%|█████████████████████████████████▌              | 7/10 [00:10<00:04,  1.51s/trial, best loss: -0.9796463746043577]"
     ]
    },
    {
     "name": "stderr",
     "output_type": "stream",
     "text": [
      "C:\\Users\\velmurug\\Documents\\full_stability\\transformers\\StaticTransformer.py:44: PerformanceWarning: DataFrame is highly fragmented.  This is usually the result of calling `frame.insert` many times, which has poor performance.  Consider joining all columns at once using pd.concat(axis=1) instead.  To get a de-fragmented frame, use `newframe = frame.copy()`\n",
      "  dt_transformed[col] = 0\n",
      "\n",
      "C:\\Users\\velmurug\\Documents\\full_stability\\transformers\\IndexBasedTransformer.py:58: PerformanceWarning: DataFrame is highly fragmented.  This is usually the result of calling `frame.insert` many times, which has poor performance.  Consider joining all columns at once using pd.concat(axis=1) instead.  To get a de-fragmented frame, use `newframe = frame.copy()`\n",
      "  dt_transformed[col] = 0\n",
      "\n"
     ]
    },
    {
     "name": "stdout",
     "output_type": "stream",
     "text": [
      "Accuracy:                                                                                                              \n",
      "0.9772727272727273                                                                                                     \n",
      " 70%|█████████████████████████████████▌              | 7/10 [00:11<00:04,  1.51s/trial, best loss: -0.9796463746043577]"
     ]
    },
    {
     "name": "stderr",
     "output_type": "stream",
     "text": [
      "C:\\Users\\velmurug\\Documents\\full_stability\\transformers\\StaticTransformer.py:44: PerformanceWarning: DataFrame is highly fragmented.  This is usually the result of calling `frame.insert` many times, which has poor performance.  Consider joining all columns at once using pd.concat(axis=1) instead.  To get a de-fragmented frame, use `newframe = frame.copy()`\n",
      "  dt_transformed[col] = 0\n",
      "\n",
      "C:\\Users\\velmurug\\Documents\\full_stability\\transformers\\IndexBasedTransformer.py:58: PerformanceWarning: DataFrame is highly fragmented.  This is usually the result of calling `frame.insert` many times, which has poor performance.  Consider joining all columns at once using pd.concat(axis=1) instead.  To get a de-fragmented frame, use `newframe = frame.copy()`\n",
      "  dt_transformed[col] = 0\n",
      "\n"
     ]
    },
    {
     "name": "stdout",
     "output_type": "stream",
     "text": [
      "Accuracy:                                                                                                              \n",
      "0.9707865168539326                                                                                                     \n",
      " 70%|█████████████████████████████████▌              | 7/10 [00:11<00:04,  1.51s/trial, best loss: -0.9796463746043577]"
     ]
    },
    {
     "name": "stderr",
     "output_type": "stream",
     "text": [
      "C:\\Users\\velmurug\\Documents\\full_stability\\transformers\\StaticTransformer.py:44: PerformanceWarning: DataFrame is highly fragmented.  This is usually the result of calling `frame.insert` many times, which has poor performance.  Consider joining all columns at once using pd.concat(axis=1) instead.  To get a de-fragmented frame, use `newframe = frame.copy()`\n",
      "  dt_transformed[col] = 0\n",
      "\n",
      "C:\\Users\\velmurug\\Documents\\full_stability\\transformers\\IndexBasedTransformer.py:58: PerformanceWarning: DataFrame is highly fragmented.  This is usually the result of calling `frame.insert` many times, which has poor performance.  Consider joining all columns at once using pd.concat(axis=1) instead.  To get a de-fragmented frame, use `newframe = frame.copy()`\n",
      "  dt_transformed[col] = 0\n",
      "\n"
     ]
    },
    {
     "name": "stdout",
     "output_type": "stream",
     "text": [
      "Accuracy:                                                                                                              \n",
      "0.96                                                                                                                   \n",
      "{'var_smoothing': 1.232846739442066e-07}                                                                               \n",
      " 80%|██████████████████████████████████████▍         | 8/10 [00:12<00:03,  1.51s/trial, best loss: -0.9796463746043577]"
     ]
    },
    {
     "name": "stderr",
     "output_type": "stream",
     "text": [
      "C:\\Users\\velmurug\\Documents\\full_stability\\transformers\\StaticTransformer.py:44: PerformanceWarning: DataFrame is highly fragmented.  This is usually the result of calling `frame.insert` many times, which has poor performance.  Consider joining all columns at once using pd.concat(axis=1) instead.  To get a de-fragmented frame, use `newframe = frame.copy()`\n",
      "  dt_transformed[col] = 0\n",
      "\n",
      "C:\\Users\\velmurug\\Documents\\full_stability\\transformers\\IndexBasedTransformer.py:58: PerformanceWarning: DataFrame is highly fragmented.  This is usually the result of calling `frame.insert` many times, which has poor performance.  Consider joining all columns at once using pd.concat(axis=1) instead.  To get a de-fragmented frame, use `newframe = frame.copy()`\n",
      "  dt_transformed[col] = 0\n",
      "\n"
     ]
    },
    {
     "name": "stdout",
     "output_type": "stream",
     "text": [
      "Accuracy:                                                                                                              \n",
      "0.9773755656108596                                                                                                     \n",
      " 80%|██████████████████████████████████████▍         | 8/10 [00:12<00:03,  1.51s/trial, best loss: -0.9796463746043577]"
     ]
    },
    {
     "name": "stderr",
     "output_type": "stream",
     "text": [
      "C:\\Users\\velmurug\\Documents\\full_stability\\transformers\\StaticTransformer.py:44: PerformanceWarning: DataFrame is highly fragmented.  This is usually the result of calling `frame.insert` many times, which has poor performance.  Consider joining all columns at once using pd.concat(axis=1) instead.  To get a de-fragmented frame, use `newframe = frame.copy()`\n",
      "  dt_transformed[col] = 0\n",
      "\n",
      "C:\\Users\\velmurug\\Documents\\full_stability\\transformers\\IndexBasedTransformer.py:58: PerformanceWarning: DataFrame is highly fragmented.  This is usually the result of calling `frame.insert` many times, which has poor performance.  Consider joining all columns at once using pd.concat(axis=1) instead.  To get a de-fragmented frame, use `newframe = frame.copy()`\n",
      "  dt_transformed[col] = 0\n",
      "\n"
     ]
    },
    {
     "name": "stdout",
     "output_type": "stream",
     "text": [
      "Accuracy:                                                                                                              \n",
      "0.9729729729729731                                                                                                     \n",
      " 80%|██████████████████████████████████████▍         | 8/10 [00:13<00:03,  1.51s/trial, best loss: -0.9796463746043577]"
     ]
    },
    {
     "name": "stderr",
     "output_type": "stream",
     "text": [
      "C:\\Users\\velmurug\\Documents\\full_stability\\transformers\\StaticTransformer.py:44: PerformanceWarning: DataFrame is highly fragmented.  This is usually the result of calling `frame.insert` many times, which has poor performance.  Consider joining all columns at once using pd.concat(axis=1) instead.  To get a de-fragmented frame, use `newframe = frame.copy()`\n",
      "  dt_transformed[col] = 0\n",
      "\n",
      "C:\\Users\\velmurug\\Documents\\full_stability\\transformers\\IndexBasedTransformer.py:58: PerformanceWarning: DataFrame is highly fragmented.  This is usually the result of calling `frame.insert` many times, which has poor performance.  Consider joining all columns at once using pd.concat(axis=1) instead.  To get a de-fragmented frame, use `newframe = frame.copy()`\n",
      "  dt_transformed[col] = 0\n",
      "\n"
     ]
    },
    {
     "name": "stdout",
     "output_type": "stream",
     "text": [
      "Accuracy:                                                                                                              \n",
      "0.960352422907489                                                                                                      \n",
      "{'var_smoothing': 3.5111917342151273e-09}                                                                              \n",
      " 90%|███████████████████████████████████████████▏    | 9/10 [00:13<00:01,  1.49s/trial, best loss: -0.9796463746043577]"
     ]
    },
    {
     "name": "stderr",
     "output_type": "stream",
     "text": [
      "C:\\Users\\velmurug\\Documents\\full_stability\\transformers\\StaticTransformer.py:44: PerformanceWarning: DataFrame is highly fragmented.  This is usually the result of calling `frame.insert` many times, which has poor performance.  Consider joining all columns at once using pd.concat(axis=1) instead.  To get a de-fragmented frame, use `newframe = frame.copy()`\n",
      "  dt_transformed[col] = 0\n",
      "\n",
      "C:\\Users\\velmurug\\Documents\\full_stability\\transformers\\IndexBasedTransformer.py:58: PerformanceWarning: DataFrame is highly fragmented.  This is usually the result of calling `frame.insert` many times, which has poor performance.  Consider joining all columns at once using pd.concat(axis=1) instead.  To get a de-fragmented frame, use `newframe = frame.copy()`\n",
      "  dt_transformed[col] = 0\n",
      "\n"
     ]
    },
    {
     "name": "stdout",
     "output_type": "stream",
     "text": [
      "Accuracy:                                                                                                              \n",
      "0.9688888888888889                                                                                                     \n",
      " 90%|███████████████████████████████████████████▏    | 9/10 [00:14<00:01,  1.49s/trial, best loss: -0.9796463746043577]"
     ]
    },
    {
     "name": "stderr",
     "output_type": "stream",
     "text": [
      "C:\\Users\\velmurug\\Documents\\full_stability\\transformers\\StaticTransformer.py:44: PerformanceWarning: DataFrame is highly fragmented.  This is usually the result of calling `frame.insert` many times, which has poor performance.  Consider joining all columns at once using pd.concat(axis=1) instead.  To get a de-fragmented frame, use `newframe = frame.copy()`\n",
      "  dt_transformed[col] = 0\n",
      "\n",
      "C:\\Users\\velmurug\\Documents\\full_stability\\transformers\\IndexBasedTransformer.py:58: PerformanceWarning: DataFrame is highly fragmented.  This is usually the result of calling `frame.insert` many times, which has poor performance.  Consider joining all columns at once using pd.concat(axis=1) instead.  To get a de-fragmented frame, use `newframe = frame.copy()`\n",
      "  dt_transformed[col] = 0\n",
      "\n"
     ]
    },
    {
     "name": "stdout",
     "output_type": "stream",
     "text": [
      "Accuracy:                                                                                                              \n",
      "0.9587852494577007                                                                                                     \n",
      " 90%|███████████████████████████████████████████▏    | 9/10 [00:14<00:01,  1.49s/trial, best loss: -0.9796463746043577]"
     ]
    },
    {
     "name": "stderr",
     "output_type": "stream",
     "text": [
      "C:\\Users\\velmurug\\Documents\\full_stability\\transformers\\StaticTransformer.py:44: PerformanceWarning: DataFrame is highly fragmented.  This is usually the result of calling `frame.insert` many times, which has poor performance.  Consider joining all columns at once using pd.concat(axis=1) instead.  To get a de-fragmented frame, use `newframe = frame.copy()`\n",
      "  dt_transformed[col] = 0\n",
      "\n",
      "C:\\Users\\velmurug\\Documents\\full_stability\\transformers\\IndexBasedTransformer.py:58: PerformanceWarning: DataFrame is highly fragmented.  This is usually the result of calling `frame.insert` many times, which has poor performance.  Consider joining all columns at once using pd.concat(axis=1) instead.  To get a de-fragmented frame, use `newframe = frame.copy()`\n",
      "  dt_transformed[col] = 0\n",
      "\n"
     ]
    },
    {
     "name": "stdout",
     "output_type": "stream",
     "text": [
      "Accuracy:                                                                                                              \n",
      "0.9688888888888889                                                                                                     \n",
      "100%|███████████████████████████████████████████████| 10/10 [00:15<00:00,  1.53s/trial, best loss: -0.9796463746043577]\n",
      "Optimising 6 of 20 buckets\n",
      "{'var_smoothing': 1.232846739442066e-07}                                                                               \n",
      "  0%|                                                                           | 0/10 [00:00<?, ?trial/s, best loss=?]"
     ]
    },
    {
     "name": "stderr",
     "output_type": "stream",
     "text": [
      "C:\\Users\\velmurug\\Documents\\full_stability\\transformers\\StaticTransformer.py:44: PerformanceWarning: DataFrame is highly fragmented.  This is usually the result of calling `frame.insert` many times, which has poor performance.  Consider joining all columns at once using pd.concat(axis=1) instead.  To get a de-fragmented frame, use `newframe = frame.copy()`\n",
      "  dt_transformed[col] = 0\n",
      "\n",
      "C:\\Users\\velmurug\\Documents\\full_stability\\transformers\\IndexBasedTransformer.py:58: PerformanceWarning: DataFrame is highly fragmented.  This is usually the result of calling `frame.insert` many times, which has poor performance.  Consider joining all columns at once using pd.concat(axis=1) instead.  To get a de-fragmented frame, use `newframe = frame.copy()`\n",
      "  dt_transformed[col] = 0\n",
      "\n"
     ]
    },
    {
     "name": "stdout",
     "output_type": "stream",
     "text": [
      "Accuracy:                                                                                                              \n",
      "0.9641255605381166                                                                                                     \n",
      "  0%|                                                                           | 0/10 [00:00<?, ?trial/s, best loss=?]"
     ]
    },
    {
     "name": "stderr",
     "output_type": "stream",
     "text": [
      "C:\\Users\\velmurug\\Documents\\full_stability\\transformers\\StaticTransformer.py:44: PerformanceWarning: DataFrame is highly fragmented.  This is usually the result of calling `frame.insert` many times, which has poor performance.  Consider joining all columns at once using pd.concat(axis=1) instead.  To get a de-fragmented frame, use `newframe = frame.copy()`\n",
      "  dt_transformed[col] = 0\n",
      "\n",
      "C:\\Users\\velmurug\\Documents\\full_stability\\transformers\\IndexBasedTransformer.py:58: PerformanceWarning: DataFrame is highly fragmented.  This is usually the result of calling `frame.insert` many times, which has poor performance.  Consider joining all columns at once using pd.concat(axis=1) instead.  To get a de-fragmented frame, use `newframe = frame.copy()`\n",
      "  dt_transformed[col] = 0\n",
      "\n"
     ]
    },
    {
     "name": "stdout",
     "output_type": "stream",
     "text": [
      "Accuracy:                                                                                                              \n",
      "0.9523809523809523                                                                                                     \n",
      "  0%|                                                                           | 0/10 [00:01<?, ?trial/s, best loss=?]"
     ]
    },
    {
     "name": "stderr",
     "output_type": "stream",
     "text": [
      "C:\\Users\\velmurug\\Documents\\full_stability\\transformers\\StaticTransformer.py:44: PerformanceWarning: DataFrame is highly fragmented.  This is usually the result of calling `frame.insert` many times, which has poor performance.  Consider joining all columns at once using pd.concat(axis=1) instead.  To get a de-fragmented frame, use `newframe = frame.copy()`\n",
      "  dt_transformed[col] = 0\n",
      "\n",
      "C:\\Users\\velmurug\\Documents\\full_stability\\transformers\\IndexBasedTransformer.py:58: PerformanceWarning: DataFrame is highly fragmented.  This is usually the result of calling `frame.insert` many times, which has poor performance.  Consider joining all columns at once using pd.concat(axis=1) instead.  To get a de-fragmented frame, use `newframe = frame.copy()`\n",
      "  dt_transformed[col] = 0\n",
      "\n"
     ]
    },
    {
     "name": "stdout",
     "output_type": "stream",
     "text": [
      "Accuracy:                                                                                                              \n",
      "0.968181818181818                                                                                                      \n",
      "{'var_smoothing': 0.0657933224657568}                                                                                  \n",
      " 10%|████▊                                           | 1/10 [00:01<00:15,  1.75s/trial, best loss: -0.9615627770336289]"
     ]
    },
    {
     "name": "stderr",
     "output_type": "stream",
     "text": [
      "C:\\Users\\velmurug\\Documents\\full_stability\\transformers\\StaticTransformer.py:44: PerformanceWarning: DataFrame is highly fragmented.  This is usually the result of calling `frame.insert` many times, which has poor performance.  Consider joining all columns at once using pd.concat(axis=1) instead.  To get a de-fragmented frame, use `newframe = frame.copy()`\n",
      "  dt_transformed[col] = 0\n",
      "\n"
     ]
    },
    {
     "name": "stdout",
     "output_type": "stream",
     "text": [
      "Accuracy:                                                                                                              \n",
      "0.8187372708757638                                                                                                     \n",
      " 10%|████▊                                           | 1/10 [00:02<00:15,  1.75s/trial, best loss: -0.9615627770336289]"
     ]
    },
    {
     "name": "stderr",
     "output_type": "stream",
     "text": [
      "C:\\Users\\velmurug\\Documents\\full_stability\\transformers\\IndexBasedTransformer.py:58: PerformanceWarning: DataFrame is highly fragmented.  This is usually the result of calling `frame.insert` many times, which has poor performance.  Consider joining all columns at once using pd.concat(axis=1) instead.  To get a de-fragmented frame, use `newframe = frame.copy()`\n",
      "  dt_transformed[col] = 0\n",
      "\n",
      "C:\\Users\\velmurug\\Documents\\full_stability\\transformers\\StaticTransformer.py:44: PerformanceWarning: DataFrame is highly fragmented.  This is usually the result of calling `frame.insert` many times, which has poor performance.  Consider joining all columns at once using pd.concat(axis=1) instead.  To get a de-fragmented frame, use `newframe = frame.copy()`\n",
      "  dt_transformed[col] = 0\n",
      "\n",
      "C:\\Users\\velmurug\\Documents\\full_stability\\transformers\\IndexBasedTransformer.py:58: PerformanceWarning: DataFrame is highly fragmented.  This is usually the result of calling `frame.insert` many times, which has poor performance.  Consider joining all columns at once using pd.concat(axis=1) instead.  To get a de-fragmented frame, use `newframe = frame.copy()`\n",
      "  dt_transformed[col] = 0\n",
      "\n"
     ]
    },
    {
     "name": "stdout",
     "output_type": "stream",
     "text": [
      "Accuracy:                                                                                                              \n",
      "0.8546637744034707                                                                                                     \n",
      " 10%|████▊                                           | 1/10 [00:02<00:15,  1.75s/trial, best loss: -0.9615627770336289]"
     ]
    },
    {
     "name": "stderr",
     "output_type": "stream",
     "text": [
      "C:\\Users\\velmurug\\Documents\\full_stability\\transformers\\StaticTransformer.py:44: PerformanceWarning: DataFrame is highly fragmented.  This is usually the result of calling `frame.insert` many times, which has poor performance.  Consider joining all columns at once using pd.concat(axis=1) instead.  To get a de-fragmented frame, use `newframe = frame.copy()`\n",
      "  dt_transformed[col] = 0\n",
      "\n",
      "C:\\Users\\velmurug\\Documents\\full_stability\\transformers\\IndexBasedTransformer.py:58: PerformanceWarning: DataFrame is highly fragmented.  This is usually the result of calling `frame.insert` many times, which has poor performance.  Consider joining all columns at once using pd.concat(axis=1) instead.  To get a de-fragmented frame, use `newframe = frame.copy()`\n",
      "  dt_transformed[col] = 0\n",
      "\n"
     ]
    },
    {
     "name": "stdout",
     "output_type": "stream",
     "text": [
      "Accuracy:                                                                                                              \n",
      "0.8372093023255814                                                                                                     \n",
      "{'var_smoothing': 1e-07}                                                                                               \n",
      " 20%|█████████▌                                      | 2/10 [00:03<00:14,  1.79s/trial, best loss: -0.9615627770336289]"
     ]
    },
    {
     "name": "stderr",
     "output_type": "stream",
     "text": [
      "C:\\Users\\velmurug\\Documents\\full_stability\\transformers\\StaticTransformer.py:44: PerformanceWarning: DataFrame is highly fragmented.  This is usually the result of calling `frame.insert` many times, which has poor performance.  Consider joining all columns at once using pd.concat(axis=1) instead.  To get a de-fragmented frame, use `newframe = frame.copy()`\n",
      "  dt_transformed[col] = 0\n",
      "\n",
      "C:\\Users\\velmurug\\Documents\\full_stability\\transformers\\IndexBasedTransformer.py:58: PerformanceWarning: DataFrame is highly fragmented.  This is usually the result of calling `frame.insert` many times, which has poor performance.  Consider joining all columns at once using pd.concat(axis=1) instead.  To get a de-fragmented frame, use `newframe = frame.copy()`\n",
      "  dt_transformed[col] = 0\n",
      "\n"
     ]
    },
    {
     "name": "stdout",
     "output_type": "stream",
     "text": [
      "Accuracy:                                                                                                              \n",
      "0.9360730593607306                                                                                                     \n",
      " 20%|█████████▌                                      | 2/10 [00:04<00:14,  1.79s/trial, best loss: -0.9615627770336289]"
     ]
    },
    {
     "name": "stderr",
     "output_type": "stream",
     "text": [
      "C:\\Users\\velmurug\\Documents\\full_stability\\transformers\\StaticTransformer.py:44: PerformanceWarning: DataFrame is highly fragmented.  This is usually the result of calling `frame.insert` many times, which has poor performance.  Consider joining all columns at once using pd.concat(axis=1) instead.  To get a de-fragmented frame, use `newframe = frame.copy()`\n",
      "  dt_transformed[col] = 0\n",
      "\n",
      "C:\\Users\\velmurug\\Documents\\full_stability\\transformers\\IndexBasedTransformer.py:58: PerformanceWarning: DataFrame is highly fragmented.  This is usually the result of calling `frame.insert` many times, which has poor performance.  Consider joining all columns at once using pd.concat(axis=1) instead.  To get a de-fragmented frame, use `newframe = frame.copy()`\n",
      "  dt_transformed[col] = 0\n",
      "\n"
     ]
    },
    {
     "name": "stdout",
     "output_type": "stream",
     "text": [
      "Accuracy:                                                                                                              \n",
      "0.9592760180995475                                                                                                     \n",
      " 20%|█████████▌                                      | 2/10 [00:04<00:14,  1.79s/trial, best loss: -0.9615627770336289]"
     ]
    },
    {
     "name": "stderr",
     "output_type": "stream",
     "text": [
      "C:\\Users\\velmurug\\Documents\\full_stability\\transformers\\StaticTransformer.py:44: PerformanceWarning: DataFrame is highly fragmented.  This is usually the result of calling `frame.insert` many times, which has poor performance.  Consider joining all columns at once using pd.concat(axis=1) instead.  To get a de-fragmented frame, use `newframe = frame.copy()`\n",
      "  dt_transformed[col] = 0\n",
      "\n",
      "C:\\Users\\velmurug\\Documents\\full_stability\\transformers\\IndexBasedTransformer.py:58: PerformanceWarning: DataFrame is highly fragmented.  This is usually the result of calling `frame.insert` many times, which has poor performance.  Consider joining all columns at once using pd.concat(axis=1) instead.  To get a de-fragmented frame, use `newframe = frame.copy()`\n",
      "  dt_transformed[col] = 0\n",
      "\n"
     ]
    },
    {
     "name": "stdout",
     "output_type": "stream",
     "text": [
      "Accuracy:                                                                                                              \n",
      "0.9610983981693364                                                                                                     \n",
      "{'var_smoothing': 1e-05}                                                                                               \n",
      " 30%|██████████████▍                                 | 3/10 [00:05<00:12,  1.75s/trial, best loss: -0.9615627770336289]"
     ]
    },
    {
     "name": "stderr",
     "output_type": "stream",
     "text": [
      "C:\\Users\\velmurug\\Documents\\full_stability\\transformers\\StaticTransformer.py:44: PerformanceWarning: DataFrame is highly fragmented.  This is usually the result of calling `frame.insert` many times, which has poor performance.  Consider joining all columns at once using pd.concat(axis=1) instead.  To get a de-fragmented frame, use `newframe = frame.copy()`\n",
      "  dt_transformed[col] = 0\n",
      "\n",
      "C:\\Users\\velmurug\\Documents\\full_stability\\transformers\\IndexBasedTransformer.py:58: PerformanceWarning: DataFrame is highly fragmented.  This is usually the result of calling `frame.insert` many times, which has poor performance.  Consider joining all columns at once using pd.concat(axis=1) instead.  To get a de-fragmented frame, use `newframe = frame.copy()`\n",
      "  dt_transformed[col] = 0\n",
      "\n"
     ]
    },
    {
     "name": "stdout",
     "output_type": "stream",
     "text": [
      "Accuracy:                                                                                                              \n",
      "0.9569160997732427                                                                                                     \n",
      " 30%|██████████████▍                                 | 3/10 [00:05<00:12,  1.75s/trial, best loss: -0.9615627770336289]"
     ]
    },
    {
     "name": "stderr",
     "output_type": "stream",
     "text": [
      "C:\\Users\\velmurug\\Documents\\full_stability\\transformers\\StaticTransformer.py:44: PerformanceWarning: DataFrame is highly fragmented.  This is usually the result of calling `frame.insert` many times, which has poor performance.  Consider joining all columns at once using pd.concat(axis=1) instead.  To get a de-fragmented frame, use `newframe = frame.copy()`\n",
      "  dt_transformed[col] = 0\n",
      "\n",
      "C:\\Users\\velmurug\\Documents\\full_stability\\transformers\\IndexBasedTransformer.py:58: PerformanceWarning: DataFrame is highly fragmented.  This is usually the result of calling `frame.insert` many times, which has poor performance.  Consider joining all columns at once using pd.concat(axis=1) instead.  To get a de-fragmented frame, use `newframe = frame.copy()`\n",
      "  dt_transformed[col] = 0\n",
      "\n"
     ]
    },
    {
     "name": "stdout",
     "output_type": "stream",
     "text": [
      "Accuracy:                                                                                                              \n",
      "0.9577464788732394                                                                                                     \n",
      " 30%|██████████████▍                                 | 3/10 [00:06<00:12,  1.75s/trial, best loss: -0.9615627770336289]"
     ]
    },
    {
     "name": "stderr",
     "output_type": "stream",
     "text": [
      "C:\\Users\\velmurug\\Documents\\full_stability\\transformers\\StaticTransformer.py:44: PerformanceWarning: DataFrame is highly fragmented.  This is usually the result of calling `frame.insert` many times, which has poor performance.  Consider joining all columns at once using pd.concat(axis=1) instead.  To get a de-fragmented frame, use `newframe = frame.copy()`\n",
      "  dt_transformed[col] = 0\n",
      "\n",
      "C:\\Users\\velmurug\\Documents\\full_stability\\transformers\\IndexBasedTransformer.py:58: PerformanceWarning: DataFrame is highly fragmented.  This is usually the result of calling `frame.insert` many times, which has poor performance.  Consider joining all columns at once using pd.concat(axis=1) instead.  To get a de-fragmented frame, use `newframe = frame.copy()`\n",
      "  dt_transformed[col] = 0\n",
      "\n"
     ]
    },
    {
     "name": "stdout",
     "output_type": "stream",
     "text": [
      "Accuracy:                                                                                                              \n",
      "0.9567198177676538                                                                                                     \n",
      "{'var_smoothing': 0.01}                                                                                                \n",
      " 40%|███████████████████▏                            | 4/10 [00:06<00:10,  1.72s/trial, best loss: -0.9615627770336289]"
     ]
    },
    {
     "name": "stderr",
     "output_type": "stream",
     "text": [
      "C:\\Users\\velmurug\\Documents\\full_stability\\transformers\\StaticTransformer.py:44: PerformanceWarning: DataFrame is highly fragmented.  This is usually the result of calling `frame.insert` many times, which has poor performance.  Consider joining all columns at once using pd.concat(axis=1) instead.  To get a de-fragmented frame, use `newframe = frame.copy()`\n",
      "  dt_transformed[col] = 0\n",
      "\n",
      "C:\\Users\\velmurug\\Documents\\full_stability\\transformers\\IndexBasedTransformer.py:58: PerformanceWarning: DataFrame is highly fragmented.  This is usually the result of calling `frame.insert` many times, which has poor performance.  Consider joining all columns at once using pd.concat(axis=1) instead.  To get a de-fragmented frame, use `newframe = frame.copy()`\n",
      "  dt_transformed[col] = 0\n",
      "\n"
     ]
    },
    {
     "name": "stdout",
     "output_type": "stream",
     "text": [
      "Accuracy:                                                                                                              \n",
      "0.885593220338983                                                                                                      \n",
      " 40%|███████████████████▏                            | 4/10 [00:07<00:10,  1.72s/trial, best loss: -0.9615627770336289]"
     ]
    },
    {
     "name": "stderr",
     "output_type": "stream",
     "text": [
      "C:\\Users\\velmurug\\Documents\\full_stability\\transformers\\StaticTransformer.py:44: PerformanceWarning: DataFrame is highly fragmented.  This is usually the result of calling `frame.insert` many times, which has poor performance.  Consider joining all columns at once using pd.concat(axis=1) instead.  To get a de-fragmented frame, use `newframe = frame.copy()`\n",
      "  dt_transformed[col] = 0\n",
      "\n",
      "C:\\Users\\velmurug\\Documents\\full_stability\\transformers\\IndexBasedTransformer.py:58: PerformanceWarning: DataFrame is highly fragmented.  This is usually the result of calling `frame.insert` many times, which has poor performance.  Consider joining all columns at once using pd.concat(axis=1) instead.  To get a de-fragmented frame, use `newframe = frame.copy()`\n",
      "  dt_transformed[col] = 0\n",
      "\n"
     ]
    },
    {
     "name": "stdout",
     "output_type": "stream",
     "text": [
      "Accuracy:                                                                                                              \n",
      "0.8986784140969163                                                                                                     \n",
      " 40%|███████████████████▏                            | 4/10 [00:08<00:10,  1.72s/trial, best loss: -0.9615627770336289]"
     ]
    },
    {
     "name": "stderr",
     "output_type": "stream",
     "text": [
      "C:\\Users\\velmurug\\Documents\\full_stability\\transformers\\StaticTransformer.py:44: PerformanceWarning: DataFrame is highly fragmented.  This is usually the result of calling `frame.insert` many times, which has poor performance.  Consider joining all columns at once using pd.concat(axis=1) instead.  To get a de-fragmented frame, use `newframe = frame.copy()`\n",
      "  dt_transformed[col] = 0\n",
      "\n",
      "C:\\Users\\velmurug\\Documents\\full_stability\\transformers\\IndexBasedTransformer.py:58: PerformanceWarning: DataFrame is highly fragmented.  This is usually the result of calling `frame.insert` many times, which has poor performance.  Consider joining all columns at once using pd.concat(axis=1) instead.  To get a de-fragmented frame, use `newframe = frame.copy()`\n",
      "  dt_transformed[col] = 0\n",
      "\n"
     ]
    },
    {
     "name": "stdout",
     "output_type": "stream",
     "text": [
      "Accuracy:                                                                                                              \n",
      "0.8793103448275862                                                                                                     \n",
      "{'var_smoothing': 0.12328467394420659}                                                                                 \n",
      " 50%|████████████████████████                        | 5/10 [00:08<00:08,  1.75s/trial, best loss: -0.9615627770336289]"
     ]
    },
    {
     "name": "stderr",
     "output_type": "stream",
     "text": [
      "C:\\Users\\velmurug\\Documents\\full_stability\\transformers\\StaticTransformer.py:44: PerformanceWarning: DataFrame is highly fragmented.  This is usually the result of calling `frame.insert` many times, which has poor performance.  Consider joining all columns at once using pd.concat(axis=1) instead.  To get a de-fragmented frame, use `newframe = frame.copy()`\n",
      "  dt_transformed[col] = 0\n",
      "\n",
      "C:\\Users\\velmurug\\Documents\\full_stability\\transformers\\IndexBasedTransformer.py:58: PerformanceWarning: DataFrame is highly fragmented.  This is usually the result of calling `frame.insert` many times, which has poor performance.  Consider joining all columns at once using pd.concat(axis=1) instead.  To get a de-fragmented frame, use `newframe = frame.copy()`\n",
      "  dt_transformed[col] = 0\n",
      "\n"
     ]
    },
    {
     "name": "stdout",
     "output_type": "stream",
     "text": [
      "Accuracy:                                                                                                              \n",
      "0.8041237113402062                                                                                                     \n",
      " 50%|████████████████████████                        | 5/10 [00:09<00:08,  1.75s/trial, best loss: -0.9615627770336289]"
     ]
    },
    {
     "name": "stderr",
     "output_type": "stream",
     "text": [
      "C:\\Users\\velmurug\\Documents\\full_stability\\transformers\\StaticTransformer.py:44: PerformanceWarning: DataFrame is highly fragmented.  This is usually the result of calling `frame.insert` many times, which has poor performance.  Consider joining all columns at once using pd.concat(axis=1) instead.  To get a de-fragmented frame, use `newframe = frame.copy()`\n",
      "  dt_transformed[col] = 0\n",
      "\n",
      "C:\\Users\\velmurug\\Documents\\full_stability\\transformers\\IndexBasedTransformer.py:58: PerformanceWarning: DataFrame is highly fragmented.  This is usually the result of calling `frame.insert` many times, which has poor performance.  Consider joining all columns at once using pd.concat(axis=1) instead.  To get a de-fragmented frame, use `newframe = frame.copy()`\n",
      "  dt_transformed[col] = 0\n",
      "\n"
     ]
    },
    {
     "name": "stdout",
     "output_type": "stream",
     "text": [
      "Accuracy:                                                                                                              \n",
      "0.8225108225108226                                                                                                     \n",
      " 50%|████████████████████████                        | 5/10 [00:09<00:08,  1.75s/trial, best loss: -0.9615627770336289]"
     ]
    },
    {
     "name": "stderr",
     "output_type": "stream",
     "text": [
      "C:\\Users\\velmurug\\Documents\\full_stability\\transformers\\StaticTransformer.py:44: PerformanceWarning: DataFrame is highly fragmented.  This is usually the result of calling `frame.insert` many times, which has poor performance.  Consider joining all columns at once using pd.concat(axis=1) instead.  To get a de-fragmented frame, use `newframe = frame.copy()`\n",
      "  dt_transformed[col] = 0\n",
      "\n",
      "C:\\Users\\velmurug\\Documents\\full_stability\\transformers\\IndexBasedTransformer.py:58: PerformanceWarning: DataFrame is highly fragmented.  This is usually the result of calling `frame.insert` many times, which has poor performance.  Consider joining all columns at once using pd.concat(axis=1) instead.  To get a de-fragmented frame, use `newframe = frame.copy()`\n",
      "  dt_transformed[col] = 0\n",
      "\n"
     ]
    },
    {
     "name": "stdout",
     "output_type": "stream",
     "text": [
      "Accuracy:                                                                                                              \n",
      "0.8152866242038216                                                                                                     \n",
      "{'var_smoothing': 1.0}                                                                                                 \n",
      " 60%|████████████████████████████▊                   | 6/10 [00:10<00:07,  1.79s/trial, best loss: -0.9615627770336289]"
     ]
    },
    {
     "name": "stderr",
     "output_type": "stream",
     "text": [
      "C:\\Users\\velmurug\\Documents\\full_stability\\transformers\\StaticTransformer.py:44: PerformanceWarning: DataFrame is highly fragmented.  This is usually the result of calling `frame.insert` many times, which has poor performance.  Consider joining all columns at once using pd.concat(axis=1) instead.  To get a de-fragmented frame, use `newframe = frame.copy()`\n",
      "  dt_transformed[col] = 0\n",
      "\n",
      "C:\\Users\\velmurug\\Documents\\full_stability\\transformers\\IndexBasedTransformer.py:58: PerformanceWarning: DataFrame is highly fragmented.  This is usually the result of calling `frame.insert` many times, which has poor performance.  Consider joining all columns at once using pd.concat(axis=1) instead.  To get a de-fragmented frame, use `newframe = frame.copy()`\n",
      "  dt_transformed[col] = 0\n",
      "\n"
     ]
    },
    {
     "name": "stdout",
     "output_type": "stream",
     "text": [
      "Accuracy:                                                                                                              \n",
      "0.7860082304526749                                                                                                     \n",
      " 60%|████████████████████████████▊                   | 6/10 [00:11<00:07,  1.79s/trial, best loss: -0.9615627770336289]"
     ]
    },
    {
     "name": "stderr",
     "output_type": "stream",
     "text": [
      "C:\\Users\\velmurug\\Documents\\full_stability\\transformers\\StaticTransformer.py:44: PerformanceWarning: DataFrame is highly fragmented.  This is usually the result of calling `frame.insert` many times, which has poor performance.  Consider joining all columns at once using pd.concat(axis=1) instead.  To get a de-fragmented frame, use `newframe = frame.copy()`\n",
      "  dt_transformed[col] = 0\n",
      "\n",
      "C:\\Users\\velmurug\\Documents\\full_stability\\transformers\\IndexBasedTransformer.py:58: PerformanceWarning: DataFrame is highly fragmented.  This is usually the result of calling `frame.insert` many times, which has poor performance.  Consider joining all columns at once using pd.concat(axis=1) instead.  To get a de-fragmented frame, use `newframe = frame.copy()`\n",
      "  dt_transformed[col] = 0\n",
      "\n"
     ]
    },
    {
     "name": "stdout",
     "output_type": "stream",
     "text": [
      "Accuracy:                                                                                                              \n",
      "0.8119658119658119                                                                                                     \n",
      " 60%|████████████████████████████▊                   | 6/10 [00:11<00:07,  1.79s/trial, best loss: -0.9615627770336289]"
     ]
    },
    {
     "name": "stderr",
     "output_type": "stream",
     "text": [
      "C:\\Users\\velmurug\\Documents\\full_stability\\transformers\\StaticTransformer.py:44: PerformanceWarning: DataFrame is highly fragmented.  This is usually the result of calling `frame.insert` many times, which has poor performance.  Consider joining all columns at once using pd.concat(axis=1) instead.  To get a de-fragmented frame, use `newframe = frame.copy()`\n",
      "  dt_transformed[col] = 0\n",
      "\n"
     ]
    },
    {
     "name": "stdout",
     "output_type": "stream",
     "text": [
      "Accuracy:                                                                                                              \n",
      "0.7983193277310924                                                                                                     \n",
      "{'var_smoothing': 6.579332246575682e-07}                                                                               \n",
      " 70%|█████████████████████████████████▌              | 7/10 [00:12<00:05,  1.88s/trial, best loss: -0.9615627770336289]"
     ]
    },
    {
     "name": "stderr",
     "output_type": "stream",
     "text": [
      "C:\\Users\\velmurug\\Documents\\full_stability\\transformers\\IndexBasedTransformer.py:58: PerformanceWarning: DataFrame is highly fragmented.  This is usually the result of calling `frame.insert` many times, which has poor performance.  Consider joining all columns at once using pd.concat(axis=1) instead.  To get a de-fragmented frame, use `newframe = frame.copy()`\n",
      "  dt_transformed[col] = 0\n",
      "\n",
      "C:\\Users\\velmurug\\Documents\\full_stability\\transformers\\StaticTransformer.py:44: PerformanceWarning: DataFrame is highly fragmented.  This is usually the result of calling `frame.insert` many times, which has poor performance.  Consider joining all columns at once using pd.concat(axis=1) instead.  To get a de-fragmented frame, use `newframe = frame.copy()`\n",
      "  dt_transformed[col] = 0\n",
      "\n",
      "C:\\Users\\velmurug\\Documents\\full_stability\\transformers\\IndexBasedTransformer.py:58: PerformanceWarning: DataFrame is highly fragmented.  This is usually the result of calling `frame.insert` many times, which has poor performance.  Consider joining all columns at once using pd.concat(axis=1) instead.  To get a de-fragmented frame, use `newframe = frame.copy()`\n",
      "  dt_transformed[col] = 0\n",
      "\n"
     ]
    },
    {
     "name": "stdout",
     "output_type": "stream",
     "text": [
      "Accuracy:                                                                                                              \n",
      "0.9567198177676538                                                                                                     \n",
      " 70%|█████████████████████████████████▌              | 7/10 [00:13<00:05,  1.88s/trial, best loss: -0.9615627770336289]"
     ]
    },
    {
     "name": "stderr",
     "output_type": "stream",
     "text": [
      "C:\\Users\\velmurug\\Documents\\full_stability\\transformers\\StaticTransformer.py:44: PerformanceWarning: DataFrame is highly fragmented.  This is usually the result of calling `frame.insert` many times, which has poor performance.  Consider joining all columns at once using pd.concat(axis=1) instead.  To get a de-fragmented frame, use `newframe = frame.copy()`\n",
      "  dt_transformed[col] = 0\n",
      "\n",
      "C:\\Users\\velmurug\\Documents\\full_stability\\transformers\\IndexBasedTransformer.py:58: PerformanceWarning: DataFrame is highly fragmented.  This is usually the result of calling `frame.insert` many times, which has poor performance.  Consider joining all columns at once using pd.concat(axis=1) instead.  To get a de-fragmented frame, use `newframe = frame.copy()`\n",
      "  dt_transformed[col] = 0\n",
      "\n"
     ]
    },
    {
     "name": "stdout",
     "output_type": "stream",
     "text": [
      "Accuracy:                                                                                                              \n",
      "0.951276102088167                                                                                                      \n",
      " 70%|█████████████████████████████████▌              | 7/10 [00:13<00:05,  1.88s/trial, best loss: -0.9615627770336289]"
     ]
    },
    {
     "name": "stderr",
     "output_type": "stream",
     "text": [
      "C:\\Users\\velmurug\\Documents\\full_stability\\transformers\\StaticTransformer.py:44: PerformanceWarning: DataFrame is highly fragmented.  This is usually the result of calling `frame.insert` many times, which has poor performance.  Consider joining all columns at once using pd.concat(axis=1) instead.  To get a de-fragmented frame, use `newframe = frame.copy()`\n",
      "  dt_transformed[col] = 0\n",
      "\n",
      "C:\\Users\\velmurug\\Documents\\full_stability\\transformers\\IndexBasedTransformer.py:58: PerformanceWarning: DataFrame is highly fragmented.  This is usually the result of calling `frame.insert` many times, which has poor performance.  Consider joining all columns at once using pd.concat(axis=1) instead.  To get a de-fragmented frame, use `newframe = frame.copy()`\n",
      "  dt_transformed[col] = 0\n",
      "\n"
     ]
    },
    {
     "name": "stdout",
     "output_type": "stream",
     "text": [
      "Accuracy:                                                                                                              \n",
      "0.9680365296803652                                                                                                     \n",
      "{'var_smoothing': 1.232846739442066e-08}                                                                               \n",
      " 80%|██████████████████████████████████████▍         | 8/10 [00:14<00:03,  1.87s/trial, best loss: -0.9615627770336289]"
     ]
    },
    {
     "name": "stderr",
     "output_type": "stream",
     "text": [
      "C:\\Users\\velmurug\\Documents\\full_stability\\transformers\\StaticTransformer.py:44: PerformanceWarning: DataFrame is highly fragmented.  This is usually the result of calling `frame.insert` many times, which has poor performance.  Consider joining all columns at once using pd.concat(axis=1) instead.  To get a de-fragmented frame, use `newframe = frame.copy()`\n",
      "  dt_transformed[col] = 0\n",
      "\n",
      "C:\\Users\\velmurug\\Documents\\full_stability\\transformers\\IndexBasedTransformer.py:58: PerformanceWarning: DataFrame is highly fragmented.  This is usually the result of calling `frame.insert` many times, which has poor performance.  Consider joining all columns at once using pd.concat(axis=1) instead.  To get a de-fragmented frame, use `newframe = frame.copy()`\n",
      "  dt_transformed[col] = 0\n",
      "\n"
     ]
    },
    {
     "name": "stdout",
     "output_type": "stream",
     "text": [
      "Accuracy:                                                                                                              \n",
      "0.9616252821670428                                                                                                     \n",
      " 80%|██████████████████████████████████████▍         | 8/10 [00:15<00:03,  1.87s/trial, best loss: -0.9615627770336289]"
     ]
    },
    {
     "name": "stderr",
     "output_type": "stream",
     "text": [
      "C:\\Users\\velmurug\\Documents\\full_stability\\transformers\\StaticTransformer.py:44: PerformanceWarning: DataFrame is highly fragmented.  This is usually the result of calling `frame.insert` many times, which has poor performance.  Consider joining all columns at once using pd.concat(axis=1) instead.  To get a de-fragmented frame, use `newframe = frame.copy()`\n",
      "  dt_transformed[col] = 0\n",
      "\n",
      "C:\\Users\\velmurug\\Documents\\full_stability\\transformers\\IndexBasedTransformer.py:58: PerformanceWarning: DataFrame is highly fragmented.  This is usually the result of calling `frame.insert` many times, which has poor performance.  Consider joining all columns at once using pd.concat(axis=1) instead.  To get a de-fragmented frame, use `newframe = frame.copy()`\n",
      "  dt_transformed[col] = 0\n",
      "\n"
     ]
    },
    {
     "name": "stdout",
     "output_type": "stream",
     "text": [
      "Accuracy:                                                                                                              \n",
      "0.942528735632184                                                                                                      \n",
      " 80%|██████████████████████████████████████▍         | 8/10 [00:15<00:03,  1.87s/trial, best loss: -0.9615627770336289]"
     ]
    },
    {
     "name": "stderr",
     "output_type": "stream",
     "text": [
      "C:\\Users\\velmurug\\Documents\\full_stability\\transformers\\StaticTransformer.py:44: PerformanceWarning: DataFrame is highly fragmented.  This is usually the result of calling `frame.insert` many times, which has poor performance.  Consider joining all columns at once using pd.concat(axis=1) instead.  To get a de-fragmented frame, use `newframe = frame.copy()`\n",
      "  dt_transformed[col] = 0\n",
      "\n",
      "C:\\Users\\velmurug\\Documents\\full_stability\\transformers\\IndexBasedTransformer.py:58: PerformanceWarning: DataFrame is highly fragmented.  This is usually the result of calling `frame.insert` many times, which has poor performance.  Consider joining all columns at once using pd.concat(axis=1) instead.  To get a de-fragmented frame, use `newframe = frame.copy()`\n",
      "  dt_transformed[col] = 0\n",
      "\n"
     ]
    },
    {
     "name": "stdout",
     "output_type": "stream",
     "text": [
      "Accuracy:                                                                                                              \n",
      "0.9528089887640449                                                                                                     \n",
      "{'var_smoothing': 1.873817422860383e-05}                                                                               \n",
      " 90%|███████████████████████████████████████████▏    | 9/10 [00:16<00:01,  1.85s/trial, best loss: -0.9615627770336289]"
     ]
    },
    {
     "name": "stderr",
     "output_type": "stream",
     "text": [
      "C:\\Users\\velmurug\\Documents\\full_stability\\transformers\\StaticTransformer.py:44: PerformanceWarning: DataFrame is highly fragmented.  This is usually the result of calling `frame.insert` many times, which has poor performance.  Consider joining all columns at once using pd.concat(axis=1) instead.  To get a de-fragmented frame, use `newframe = frame.copy()`\n",
      "  dt_transformed[col] = 0\n",
      "\n",
      "C:\\Users\\velmurug\\Documents\\full_stability\\transformers\\IndexBasedTransformer.py:58: PerformanceWarning: DataFrame is highly fragmented.  This is usually the result of calling `frame.insert` many times, which has poor performance.  Consider joining all columns at once using pd.concat(axis=1) instead.  To get a de-fragmented frame, use `newframe = frame.copy()`\n",
      "  dt_transformed[col] = 0\n",
      "\n"
     ]
    },
    {
     "name": "stdout",
     "output_type": "stream",
     "text": [
      "Accuracy:                                                                                                              \n",
      "0.9563218390804596                                                                                                     \n",
      " 90%|███████████████████████████████████████████▏    | 9/10 [00:16<00:01,  1.85s/trial, best loss: -0.9615627770336289]"
     ]
    },
    {
     "name": "stderr",
     "output_type": "stream",
     "text": [
      "C:\\Users\\velmurug\\Documents\\full_stability\\transformers\\StaticTransformer.py:44: PerformanceWarning: DataFrame is highly fragmented.  This is usually the result of calling `frame.insert` many times, which has poor performance.  Consider joining all columns at once using pd.concat(axis=1) instead.  To get a de-fragmented frame, use `newframe = frame.copy()`\n",
      "  dt_transformed[col] = 0\n",
      "\n",
      "C:\\Users\\velmurug\\Documents\\full_stability\\transformers\\IndexBasedTransformer.py:58: PerformanceWarning: DataFrame is highly fragmented.  This is usually the result of calling `frame.insert` many times, which has poor performance.  Consider joining all columns at once using pd.concat(axis=1) instead.  To get a de-fragmented frame, use `newframe = frame.copy()`\n",
      "  dt_transformed[col] = 0\n",
      "\n"
     ]
    },
    {
     "name": "stdout",
     "output_type": "stream",
     "text": [
      "Accuracy:                                                                                                              \n",
      "0.970387243735763                                                                                                      \n",
      " 90%|███████████████████████████████████████████▏    | 9/10 [00:17<00:01,  1.85s/trial, best loss: -0.9615627770336289]"
     ]
    },
    {
     "name": "stderr",
     "output_type": "stream",
     "text": [
      "C:\\Users\\velmurug\\Documents\\full_stability\\transformers\\StaticTransformer.py:44: PerformanceWarning: DataFrame is highly fragmented.  This is usually the result of calling `frame.insert` many times, which has poor performance.  Consider joining all columns at once using pd.concat(axis=1) instead.  To get a de-fragmented frame, use `newframe = frame.copy()`\n",
      "  dt_transformed[col] = 0\n",
      "\n",
      "C:\\Users\\velmurug\\Documents\\full_stability\\transformers\\IndexBasedTransformer.py:58: PerformanceWarning: DataFrame is highly fragmented.  This is usually the result of calling `frame.insert` many times, which has poor performance.  Consider joining all columns at once using pd.concat(axis=1) instead.  To get a de-fragmented frame, use `newframe = frame.copy()`\n",
      "  dt_transformed[col] = 0\n",
      "\n"
     ]
    },
    {
     "name": "stdout",
     "output_type": "stream",
     "text": [
      "Accuracy:                                                                                                              \n",
      "0.9563218390804596                                                                                                     \n",
      "100%|███████████████████████████████████████████████| 10/10 [00:18<00:00,  1.80s/trial, best loss: -0.9615627770336289]\n",
      "Optimising 7 of 20 buckets\n",
      "{'var_smoothing': 1e-06}                                                                                               \n",
      "  0%|                                                                           | 0/10 [00:00<?, ?trial/s, best loss=?]"
     ]
    },
    {
     "name": "stderr",
     "output_type": "stream",
     "text": [
      "C:\\Users\\velmurug\\Documents\\full_stability\\transformers\\StaticTransformer.py:44: PerformanceWarning: DataFrame is highly fragmented.  This is usually the result of calling `frame.insert` many times, which has poor performance.  Consider joining all columns at once using pd.concat(axis=1) instead.  To get a de-fragmented frame, use `newframe = frame.copy()`\n",
      "  dt_transformed[col] = 0\n",
      "\n",
      "C:\\Users\\velmurug\\Documents\\full_stability\\transformers\\IndexBasedTransformer.py:58: PerformanceWarning: DataFrame is highly fragmented.  This is usually the result of calling `frame.insert` many times, which has poor performance.  Consider joining all columns at once using pd.concat(axis=1) instead.  To get a de-fragmented frame, use `newframe = frame.copy()`\n",
      "  dt_transformed[col] = 0\n",
      "\n"
     ]
    },
    {
     "name": "stdout",
     "output_type": "stream",
     "text": [
      "Accuracy:                                                                                                              \n",
      "0.943661971830986                                                                                                      \n",
      "  0%|                                                                           | 0/10 [00:00<?, ?trial/s, best loss=?]"
     ]
    },
    {
     "name": "stderr",
     "output_type": "stream",
     "text": [
      "C:\\Users\\velmurug\\Documents\\full_stability\\transformers\\StaticTransformer.py:44: PerformanceWarning: DataFrame is highly fragmented.  This is usually the result of calling `frame.insert` many times, which has poor performance.  Consider joining all columns at once using pd.concat(axis=1) instead.  To get a de-fragmented frame, use `newframe = frame.copy()`\n",
      "  dt_transformed[col] = 0\n",
      "\n",
      "C:\\Users\\velmurug\\Documents\\full_stability\\transformers\\IndexBasedTransformer.py:58: PerformanceWarning: DataFrame is highly fragmented.  This is usually the result of calling `frame.insert` many times, which has poor performance.  Consider joining all columns at once using pd.concat(axis=1) instead.  To get a de-fragmented frame, use `newframe = frame.copy()`\n",
      "  dt_transformed[col] = 0\n",
      "\n"
     ]
    },
    {
     "name": "stdout",
     "output_type": "stream",
     "text": [
      "Accuracy:                                                                                                              \n",
      "0.9600000000000001                                                                                                     \n",
      "  0%|                                                                           | 0/10 [00:01<?, ?trial/s, best loss=?]"
     ]
    },
    {
     "name": "stderr",
     "output_type": "stream",
     "text": [
      "C:\\Users\\velmurug\\Documents\\full_stability\\transformers\\StaticTransformer.py:44: PerformanceWarning: DataFrame is highly fragmented.  This is usually the result of calling `frame.insert` many times, which has poor performance.  Consider joining all columns at once using pd.concat(axis=1) instead.  To get a de-fragmented frame, use `newframe = frame.copy()`\n",
      "  dt_transformed[col] = 0\n",
      "\n",
      "C:\\Users\\velmurug\\Documents\\full_stability\\transformers\\IndexBasedTransformer.py:58: PerformanceWarning: DataFrame is highly fragmented.  This is usually the result of calling `frame.insert` many times, which has poor performance.  Consider joining all columns at once using pd.concat(axis=1) instead.  To get a de-fragmented frame, use `newframe = frame.copy()`\n",
      "  dt_transformed[col] = 0\n",
      "\n"
     ]
    },
    {
     "name": "stdout",
     "output_type": "stream",
     "text": [
      "Accuracy:                                                                                                              \n",
      "0.9671361502347419                                                                                                     \n",
      "{'var_smoothing': 0.3511191734215131}                                                                                  \n",
      " 10%|████▊                                           | 1/10 [00:01<00:16,  1.86s/trial, best loss: -0.9569327073552426]"
     ]
    },
    {
     "name": "stderr",
     "output_type": "stream",
     "text": [
      "C:\\Users\\velmurug\\Documents\\full_stability\\transformers\\StaticTransformer.py:44: PerformanceWarning: DataFrame is highly fragmented.  This is usually the result of calling `frame.insert` many times, which has poor performance.  Consider joining all columns at once using pd.concat(axis=1) instead.  To get a de-fragmented frame, use `newframe = frame.copy()`\n",
      "  dt_transformed[col] = 0\n",
      "\n",
      "C:\\Users\\velmurug\\Documents\\full_stability\\transformers\\IndexBasedTransformer.py:58: PerformanceWarning: DataFrame is highly fragmented.  This is usually the result of calling `frame.insert` many times, which has poor performance.  Consider joining all columns at once using pd.concat(axis=1) instead.  To get a de-fragmented frame, use `newframe = frame.copy()`\n",
      "  dt_transformed[col] = 0\n",
      "\n"
     ]
    },
    {
     "name": "stdout",
     "output_type": "stream",
     "text": [
      "Accuracy:                                                                                                              \n",
      "0.8008213552361397                                                                                                     \n",
      " 10%|████▊                                           | 1/10 [00:02<00:16,  1.86s/trial, best loss: -0.9569327073552426]"
     ]
    },
    {
     "name": "stderr",
     "output_type": "stream",
     "text": [
      "C:\\Users\\velmurug\\Documents\\full_stability\\transformers\\StaticTransformer.py:44: PerformanceWarning: DataFrame is highly fragmented.  This is usually the result of calling `frame.insert` many times, which has poor performance.  Consider joining all columns at once using pd.concat(axis=1) instead.  To get a de-fragmented frame, use `newframe = frame.copy()`\n",
      "  dt_transformed[col] = 0\n",
      "\n",
      "C:\\Users\\velmurug\\Documents\\full_stability\\transformers\\IndexBasedTransformer.py:58: PerformanceWarning: DataFrame is highly fragmented.  This is usually the result of calling `frame.insert` many times, which has poor performance.  Consider joining all columns at once using pd.concat(axis=1) instead.  To get a de-fragmented frame, use `newframe = frame.copy()`\n",
      "  dt_transformed[col] = 0\n",
      "\n"
     ]
    },
    {
     "name": "stdout",
     "output_type": "stream",
     "text": [
      "Accuracy:                                                                                                              \n",
      "0.8160676532769557                                                                                                     \n",
      " 10%|████▊                                           | 1/10 [00:03<00:16,  1.86s/trial, best loss: -0.9569327073552426]"
     ]
    },
    {
     "name": "stderr",
     "output_type": "stream",
     "text": [
      "C:\\Users\\velmurug\\Documents\\full_stability\\transformers\\StaticTransformer.py:44: PerformanceWarning: DataFrame is highly fragmented.  This is usually the result of calling `frame.insert` many times, which has poor performance.  Consider joining all columns at once using pd.concat(axis=1) instead.  To get a de-fragmented frame, use `newframe = frame.copy()`\n",
      "  dt_transformed[col] = 0\n",
      "\n",
      "C:\\Users\\velmurug\\Documents\\full_stability\\transformers\\IndexBasedTransformer.py:58: PerformanceWarning: DataFrame is highly fragmented.  This is usually the result of calling `frame.insert` many times, which has poor performance.  Consider joining all columns at once using pd.concat(axis=1) instead.  To get a de-fragmented frame, use `newframe = frame.copy()`\n",
      "  dt_transformed[col] = 0\n",
      "\n"
     ]
    },
    {
     "name": "stdout",
     "output_type": "stream",
     "text": [
      "Accuracy:                                                                                                              \n",
      "0.8177966101694916                                                                                                     \n",
      "{'var_smoothing': 1.519911082952933e-08}                                                                               \n",
      " 20%|█████████▌                                      | 2/10 [00:03<00:15,  1.90s/trial, best loss: -0.9569327073552426]"
     ]
    },
    {
     "name": "stderr",
     "output_type": "stream",
     "text": [
      "C:\\Users\\velmurug\\Documents\\full_stability\\transformers\\StaticTransformer.py:44: PerformanceWarning: DataFrame is highly fragmented.  This is usually the result of calling `frame.insert` many times, which has poor performance.  Consider joining all columns at once using pd.concat(axis=1) instead.  To get a de-fragmented frame, use `newframe = frame.copy()`\n",
      "  dt_transformed[col] = 0\n",
      "\n",
      "C:\\Users\\velmurug\\Documents\\full_stability\\transformers\\IndexBasedTransformer.py:58: PerformanceWarning: DataFrame is highly fragmented.  This is usually the result of calling `frame.insert` many times, which has poor performance.  Consider joining all columns at once using pd.concat(axis=1) instead.  To get a de-fragmented frame, use `newframe = frame.copy()`\n",
      "  dt_transformed[col] = 0\n",
      "\n"
     ]
    },
    {
     "name": "stdout",
     "output_type": "stream",
     "text": [
      "Accuracy:                                                                                                              \n",
      "0.9342723004694836                                                                                                     \n",
      " 20%|█████████▌                                      | 2/10 [00:04<00:15,  1.90s/trial, best loss: -0.9569327073552426]"
     ]
    },
    {
     "name": "stderr",
     "output_type": "stream",
     "text": [
      "C:\\Users\\velmurug\\Documents\\full_stability\\transformers\\StaticTransformer.py:44: PerformanceWarning: DataFrame is highly fragmented.  This is usually the result of calling `frame.insert` many times, which has poor performance.  Consider joining all columns at once using pd.concat(axis=1) instead.  To get a de-fragmented frame, use `newframe = frame.copy()`\n",
      "  dt_transformed[col] = 0\n",
      "\n",
      "C:\\Users\\velmurug\\Documents\\full_stability\\transformers\\IndexBasedTransformer.py:58: PerformanceWarning: DataFrame is highly fragmented.  This is usually the result of calling `frame.insert` many times, which has poor performance.  Consider joining all columns at once using pd.concat(axis=1) instead.  To get a de-fragmented frame, use `newframe = frame.copy()`\n",
      "  dt_transformed[col] = 0\n",
      "\n"
     ]
    },
    {
     "name": "stdout",
     "output_type": "stream",
     "text": [
      "Accuracy:                                                                                                              \n",
      "0.9719626168224299                                                                                                     \n",
      " 20%|█████████▌                                      | 2/10 [00:05<00:15,  1.90s/trial, best loss: -0.9569327073552426]"
     ]
    },
    {
     "name": "stderr",
     "output_type": "stream",
     "text": [
      "C:\\Users\\velmurug\\Documents\\full_stability\\transformers\\StaticTransformer.py:44: PerformanceWarning: DataFrame is highly fragmented.  This is usually the result of calling `frame.insert` many times, which has poor performance.  Consider joining all columns at once using pd.concat(axis=1) instead.  To get a de-fragmented frame, use `newframe = frame.copy()`\n",
      "  dt_transformed[col] = 0\n",
      "\n",
      "C:\\Users\\velmurug\\Documents\\full_stability\\transformers\\IndexBasedTransformer.py:58: PerformanceWarning: DataFrame is highly fragmented.  This is usually the result of calling `frame.insert` many times, which has poor performance.  Consider joining all columns at once using pd.concat(axis=1) instead.  To get a de-fragmented frame, use `newframe = frame.copy()`\n",
      "  dt_transformed[col] = 0\n",
      "\n"
     ]
    },
    {
     "name": "stdout",
     "output_type": "stream",
     "text": [
      "Accuracy:                                                                                                              \n",
      "0.951048951048951                                                                                                      \n",
      "{'var_smoothing': 1.519911082952933e-07}                                                                               \n",
      " 30%|██████████████▍                                 | 3/10 [00:05<00:13,  1.89s/trial, best loss: -0.9569327073552426]"
     ]
    },
    {
     "name": "stderr",
     "output_type": "stream",
     "text": [
      "C:\\Users\\velmurug\\Documents\\full_stability\\transformers\\StaticTransformer.py:44: PerformanceWarning: DataFrame is highly fragmented.  This is usually the result of calling `frame.insert` many times, which has poor performance.  Consider joining all columns at once using pd.concat(axis=1) instead.  To get a de-fragmented frame, use `newframe = frame.copy()`\n",
      "  dt_transformed[col] = 0\n",
      "\n",
      "C:\\Users\\velmurug\\Documents\\full_stability\\transformers\\IndexBasedTransformer.py:58: PerformanceWarning: DataFrame is highly fragmented.  This is usually the result of calling `frame.insert` many times, which has poor performance.  Consider joining all columns at once using pd.concat(axis=1) instead.  To get a de-fragmented frame, use `newframe = frame.copy()`\n",
      "  dt_transformed[col] = 0\n",
      "\n"
     ]
    },
    {
     "name": "stdout",
     "output_type": "stream",
     "text": [
      "Accuracy:                                                                                                              \n",
      "0.9565217391304348                                                                                                     \n",
      " 30%|██████████████▍                                 | 3/10 [00:06<00:13,  1.89s/trial, best loss: -0.9569327073552426]"
     ]
    },
    {
     "name": "stderr",
     "output_type": "stream",
     "text": [
      "C:\\Users\\velmurug\\Documents\\full_stability\\transformers\\StaticTransformer.py:44: PerformanceWarning: DataFrame is highly fragmented.  This is usually the result of calling `frame.insert` many times, which has poor performance.  Consider joining all columns at once using pd.concat(axis=1) instead.  To get a de-fragmented frame, use `newframe = frame.copy()`\n",
      "  dt_transformed[col] = 0\n",
      "\n",
      "C:\\Users\\velmurug\\Documents\\full_stability\\transformers\\IndexBasedTransformer.py:58: PerformanceWarning: DataFrame is highly fragmented.  This is usually the result of calling `frame.insert` many times, which has poor performance.  Consider joining all columns at once using pd.concat(axis=1) instead.  To get a de-fragmented frame, use `newframe = frame.copy()`\n",
      "  dt_transformed[col] = 0\n",
      "\n"
     ]
    },
    {
     "name": "stdout",
     "output_type": "stream",
     "text": [
      "Accuracy:                                                                                                              \n",
      "0.9557109557109558                                                                                                     \n",
      " 30%|██████████████▍                                 | 3/10 [00:07<00:13,  1.89s/trial, best loss: -0.9569327073552426]"
     ]
    },
    {
     "name": "stderr",
     "output_type": "stream",
     "text": [
      "C:\\Users\\velmurug\\Documents\\full_stability\\transformers\\StaticTransformer.py:44: PerformanceWarning: DataFrame is highly fragmented.  This is usually the result of calling `frame.insert` many times, which has poor performance.  Consider joining all columns at once using pd.concat(axis=1) instead.  To get a de-fragmented frame, use `newframe = frame.copy()`\n",
      "  dt_transformed[col] = 0\n",
      "\n",
      "C:\\Users\\velmurug\\Documents\\full_stability\\transformers\\IndexBasedTransformer.py:58: PerformanceWarning: DataFrame is highly fragmented.  This is usually the result of calling `frame.insert` many times, which has poor performance.  Consider joining all columns at once using pd.concat(axis=1) instead.  To get a de-fragmented frame, use `newframe = frame.copy()`\n",
      "  dt_transformed[col] = 0\n",
      "\n"
     ]
    },
    {
     "name": "stdout",
     "output_type": "stream",
     "text": [
      "Accuracy:                                                                                                              \n",
      "0.9490740740740741                                                                                                     \n",
      "{'var_smoothing': 0.006579332246575682}                                                                                \n",
      " 40%|███████████████████▏                            | 4/10 [00:07<00:11,  1.95s/trial, best loss: -0.9569327073552426]"
     ]
    },
    {
     "name": "stderr",
     "output_type": "stream",
     "text": [
      "C:\\Users\\velmurug\\Documents\\full_stability\\transformers\\StaticTransformer.py:44: PerformanceWarning: DataFrame is highly fragmented.  This is usually the result of calling `frame.insert` many times, which has poor performance.  Consider joining all columns at once using pd.concat(axis=1) instead.  To get a de-fragmented frame, use `newframe = frame.copy()`\n",
      "  dt_transformed[col] = 0\n",
      "\n",
      "C:\\Users\\velmurug\\Documents\\full_stability\\transformers\\IndexBasedTransformer.py:58: PerformanceWarning: DataFrame is highly fragmented.  This is usually the result of calling `frame.insert` many times, which has poor performance.  Consider joining all columns at once using pd.concat(axis=1) instead.  To get a de-fragmented frame, use `newframe = frame.copy()`\n",
      "  dt_transformed[col] = 0\n",
      "\n"
     ]
    },
    {
     "name": "stdout",
     "output_type": "stream",
     "text": [
      "Accuracy:                                                                                                              \n",
      "0.8991228070175439                                                                                                     \n",
      " 40%|███████████████████▏                            | 4/10 [00:08<00:11,  1.95s/trial, best loss: -0.9569327073552426]"
     ]
    },
    {
     "name": "stderr",
     "output_type": "stream",
     "text": [
      "C:\\Users\\velmurug\\Documents\\full_stability\\transformers\\StaticTransformer.py:44: PerformanceWarning: DataFrame is highly fragmented.  This is usually the result of calling `frame.insert` many times, which has poor performance.  Consider joining all columns at once using pd.concat(axis=1) instead.  To get a de-fragmented frame, use `newframe = frame.copy()`\n",
      "  dt_transformed[col] = 0\n",
      "\n",
      "C:\\Users\\velmurug\\Documents\\full_stability\\transformers\\IndexBasedTransformer.py:58: PerformanceWarning: DataFrame is highly fragmented.  This is usually the result of calling `frame.insert` many times, which has poor performance.  Consider joining all columns at once using pd.concat(axis=1) instead.  To get a de-fragmented frame, use `newframe = frame.copy()`\n",
      "  dt_transformed[col] = 0\n",
      "\n"
     ]
    },
    {
     "name": "stdout",
     "output_type": "stream",
     "text": [
      "Accuracy:                                                                                                              \n",
      "0.9237668161434978                                                                                                     \n",
      " 40%|███████████████████▏                            | 4/10 [00:08<00:11,  1.95s/trial, best loss: -0.9569327073552426]"
     ]
    },
    {
     "name": "stderr",
     "output_type": "stream",
     "text": [
      "C:\\Users\\velmurug\\Documents\\full_stability\\transformers\\StaticTransformer.py:44: PerformanceWarning: DataFrame is highly fragmented.  This is usually the result of calling `frame.insert` many times, which has poor performance.  Consider joining all columns at once using pd.concat(axis=1) instead.  To get a de-fragmented frame, use `newframe = frame.copy()`\n",
      "  dt_transformed[col] = 0\n",
      "\n",
      "C:\\Users\\velmurug\\Documents\\full_stability\\transformers\\IndexBasedTransformer.py:58: PerformanceWarning: DataFrame is highly fragmented.  This is usually the result of calling `frame.insert` many times, which has poor performance.  Consider joining all columns at once using pd.concat(axis=1) instead.  To get a de-fragmented frame, use `newframe = frame.copy()`\n",
      "  dt_transformed[col] = 0\n",
      "\n"
     ]
    },
    {
     "name": "stdout",
     "output_type": "stream",
     "text": [
      "Accuracy:                                                                                                              \n",
      "0.908256880733945                                                                                                      \n",
      "{'var_smoothing': 2.310129700083158e-09}                                                                               \n",
      " 50%|████████████████████████                        | 5/10 [00:09<00:09,  1.93s/trial, best loss: -0.9569327073552426]"
     ]
    },
    {
     "name": "stderr",
     "output_type": "stream",
     "text": [
      "C:\\Users\\velmurug\\Documents\\full_stability\\transformers\\StaticTransformer.py:44: PerformanceWarning: DataFrame is highly fragmented.  This is usually the result of calling `frame.insert` many times, which has poor performance.  Consider joining all columns at once using pd.concat(axis=1) instead.  To get a de-fragmented frame, use `newframe = frame.copy()`\n",
      "  dt_transformed[col] = 0\n",
      "\n",
      "C:\\Users\\velmurug\\Documents\\full_stability\\transformers\\IndexBasedTransformer.py:58: PerformanceWarning: DataFrame is highly fragmented.  This is usually the result of calling `frame.insert` many times, which has poor performance.  Consider joining all columns at once using pd.concat(axis=1) instead.  To get a de-fragmented frame, use `newframe = frame.copy()`\n",
      "  dt_transformed[col] = 0\n",
      "\n"
     ]
    },
    {
     "name": "stdout",
     "output_type": "stream",
     "text": [
      "Accuracy:                                                                                                              \n",
      "0.9610983981693363                                                                                                     \n",
      " 50%|████████████████████████                        | 5/10 [00:10<00:09,  1.93s/trial, best loss: -0.9569327073552426]"
     ]
    },
    {
     "name": "stderr",
     "output_type": "stream",
     "text": [
      "C:\\Users\\velmurug\\Documents\\full_stability\\transformers\\StaticTransformer.py:44: PerformanceWarning: DataFrame is highly fragmented.  This is usually the result of calling `frame.insert` many times, which has poor performance.  Consider joining all columns at once using pd.concat(axis=1) instead.  To get a de-fragmented frame, use `newframe = frame.copy()`\n",
      "  dt_transformed[col] = 0\n",
      "\n",
      "C:\\Users\\velmurug\\Documents\\full_stability\\transformers\\IndexBasedTransformer.py:58: PerformanceWarning: DataFrame is highly fragmented.  This is usually the result of calling `frame.insert` many times, which has poor performance.  Consider joining all columns at once using pd.concat(axis=1) instead.  To get a de-fragmented frame, use `newframe = frame.copy()`\n",
      "  dt_transformed[col] = 0\n",
      "\n"
     ]
    },
    {
     "name": "stdout",
     "output_type": "stream",
     "text": [
      "Accuracy:                                                                                                              \n",
      "0.9698375870069604                                                                                                     \n",
      " 50%|████████████████████████                        | 5/10 [00:10<00:09,  1.93s/trial, best loss: -0.9569327073552426]"
     ]
    },
    {
     "name": "stderr",
     "output_type": "stream",
     "text": [
      "C:\\Users\\velmurug\\Documents\\full_stability\\transformers\\StaticTransformer.py:44: PerformanceWarning: DataFrame is highly fragmented.  This is usually the result of calling `frame.insert` many times, which has poor performance.  Consider joining all columns at once using pd.concat(axis=1) instead.  To get a de-fragmented frame, use `newframe = frame.copy()`\n",
      "  dt_transformed[col] = 0\n",
      "\n",
      "C:\\Users\\velmurug\\Documents\\full_stability\\transformers\\IndexBasedTransformer.py:58: PerformanceWarning: DataFrame is highly fragmented.  This is usually the result of calling `frame.insert` many times, which has poor performance.  Consider joining all columns at once using pd.concat(axis=1) instead.  To get a de-fragmented frame, use `newframe = frame.copy()`\n",
      "  dt_transformed[col] = 0\n",
      "\n"
     ]
    },
    {
     "name": "stdout",
     "output_type": "stream",
     "text": [
      "Accuracy:                                                                                                              \n",
      "0.9488372093023256                                                                                                     \n",
      "{'var_smoothing': 0.2848035868435802}                                                                                  \n",
      " 60%|████████████████████████████▊                   | 6/10 [00:11<00:07,  1.92s/trial, best loss: -0.9599243981595409]"
     ]
    },
    {
     "name": "stderr",
     "output_type": "stream",
     "text": [
      "C:\\Users\\velmurug\\Documents\\full_stability\\transformers\\StaticTransformer.py:44: PerformanceWarning: DataFrame is highly fragmented.  This is usually the result of calling `frame.insert` many times, which has poor performance.  Consider joining all columns at once using pd.concat(axis=1) instead.  To get a de-fragmented frame, use `newframe = frame.copy()`\n",
      "  dt_transformed[col] = 0\n",
      "\n",
      "C:\\Users\\velmurug\\Documents\\full_stability\\transformers\\IndexBasedTransformer.py:58: PerformanceWarning: DataFrame is highly fragmented.  This is usually the result of calling `frame.insert` many times, which has poor performance.  Consider joining all columns at once using pd.concat(axis=1) instead.  To get a de-fragmented frame, use `newframe = frame.copy()`\n",
      "  dt_transformed[col] = 0\n",
      "\n"
     ]
    },
    {
     "name": "stdout",
     "output_type": "stream",
     "text": [
      "Accuracy:                                                                                                              \n",
      "0.8                                                                                                                    \n",
      " 60%|████████████████████████████▊                   | 6/10 [00:12<00:07,  1.92s/trial, best loss: -0.9599243981595409]"
     ]
    },
    {
     "name": "stderr",
     "output_type": "stream",
     "text": [
      "C:\\Users\\velmurug\\Documents\\full_stability\\transformers\\StaticTransformer.py:44: PerformanceWarning: DataFrame is highly fragmented.  This is usually the result of calling `frame.insert` many times, which has poor performance.  Consider joining all columns at once using pd.concat(axis=1) instead.  To get a de-fragmented frame, use `newframe = frame.copy()`\n",
      "  dt_transformed[col] = 0\n",
      "\n",
      "C:\\Users\\velmurug\\Documents\\full_stability\\transformers\\IndexBasedTransformer.py:58: PerformanceWarning: DataFrame is highly fragmented.  This is usually the result of calling `frame.insert` many times, which has poor performance.  Consider joining all columns at once using pd.concat(axis=1) instead.  To get a de-fragmented frame, use `newframe = frame.copy()`\n",
      "  dt_transformed[col] = 0\n",
      "\n"
     ]
    },
    {
     "name": "stdout",
     "output_type": "stream",
     "text": [
      "Accuracy:                                                                                                              \n",
      "0.8212765957446809                                                                                                     \n",
      " 60%|████████████████████████████▊                   | 6/10 [00:12<00:07,  1.92s/trial, best loss: -0.9599243981595409]"
     ]
    },
    {
     "name": "stderr",
     "output_type": "stream",
     "text": [
      "C:\\Users\\velmurug\\Documents\\full_stability\\transformers\\StaticTransformer.py:44: PerformanceWarning: DataFrame is highly fragmented.  This is usually the result of calling `frame.insert` many times, which has poor performance.  Consider joining all columns at once using pd.concat(axis=1) instead.  To get a de-fragmented frame, use `newframe = frame.copy()`\n",
      "  dt_transformed[col] = 0\n",
      "\n",
      "C:\\Users\\velmurug\\Documents\\full_stability\\transformers\\IndexBasedTransformer.py:58: PerformanceWarning: DataFrame is highly fragmented.  This is usually the result of calling `frame.insert` many times, which has poor performance.  Consider joining all columns at once using pd.concat(axis=1) instead.  To get a de-fragmented frame, use `newframe = frame.copy()`\n",
      "  dt_transformed[col] = 0\n",
      "\n"
     ]
    },
    {
     "name": "stdout",
     "output_type": "stream",
     "text": [
      "Accuracy:                                                                                                              \n",
      "0.8245243128964058                                                                                                     \n",
      "{'var_smoothing': 0.08111308307896872}                                                                                 \n",
      " 70%|█████████████████████████████████▌              | 7/10 [00:13<00:05,  1.91s/trial, best loss: -0.9599243981595409]"
     ]
    },
    {
     "name": "stderr",
     "output_type": "stream",
     "text": [
      "C:\\Users\\velmurug\\Documents\\full_stability\\transformers\\StaticTransformer.py:44: PerformanceWarning: DataFrame is highly fragmented.  This is usually the result of calling `frame.insert` many times, which has poor performance.  Consider joining all columns at once using pd.concat(axis=1) instead.  To get a de-fragmented frame, use `newframe = frame.copy()`\n",
      "  dt_transformed[col] = 0\n",
      "\n",
      "C:\\Users\\velmurug\\Documents\\full_stability\\transformers\\IndexBasedTransformer.py:58: PerformanceWarning: DataFrame is highly fragmented.  This is usually the result of calling `frame.insert` many times, which has poor performance.  Consider joining all columns at once using pd.concat(axis=1) instead.  To get a de-fragmented frame, use `newframe = frame.copy()`\n",
      "  dt_transformed[col] = 0\n",
      "\n"
     ]
    },
    {
     "name": "stdout",
     "output_type": "stream",
     "text": [
      "Accuracy:                                                                                                              \n",
      "0.8183716075156576                                                                                                     \n",
      " 70%|█████████████████████████████████▌              | 7/10 [00:14<00:05,  1.91s/trial, best loss: -0.9599243981595409]"
     ]
    },
    {
     "name": "stderr",
     "output_type": "stream",
     "text": [
      "C:\\Users\\velmurug\\Documents\\full_stability\\transformers\\StaticTransformer.py:44: PerformanceWarning: DataFrame is highly fragmented.  This is usually the result of calling `frame.insert` many times, which has poor performance.  Consider joining all columns at once using pd.concat(axis=1) instead.  To get a de-fragmented frame, use `newframe = frame.copy()`\n",
      "  dt_transformed[col] = 0\n",
      "\n",
      "C:\\Users\\velmurug\\Documents\\full_stability\\transformers\\IndexBasedTransformer.py:58: PerformanceWarning: DataFrame is highly fragmented.  This is usually the result of calling `frame.insert` many times, which has poor performance.  Consider joining all columns at once using pd.concat(axis=1) instead.  To get a de-fragmented frame, use `newframe = frame.copy()`\n",
      "  dt_transformed[col] = 0\n",
      "\n"
     ]
    },
    {
     "name": "stdout",
     "output_type": "stream",
     "text": [
      "Accuracy:                                                                                                              \n",
      "0.8445378151260504                                                                                                     \n",
      " 70%|█████████████████████████████████▌              | 7/10 [00:14<00:05,  1.91s/trial, best loss: -0.9599243981595409]"
     ]
    },
    {
     "name": "stderr",
     "output_type": "stream",
     "text": [
      "C:\\Users\\velmurug\\Documents\\full_stability\\transformers\\StaticTransformer.py:44: PerformanceWarning: DataFrame is highly fragmented.  This is usually the result of calling `frame.insert` many times, which has poor performance.  Consider joining all columns at once using pd.concat(axis=1) instead.  To get a de-fragmented frame, use `newframe = frame.copy()`\n",
      "  dt_transformed[col] = 0\n",
      "\n",
      "C:\\Users\\velmurug\\Documents\\full_stability\\transformers\\IndexBasedTransformer.py:58: PerformanceWarning: DataFrame is highly fragmented.  This is usually the result of calling `frame.insert` many times, which has poor performance.  Consider joining all columns at once using pd.concat(axis=1) instead.  To get a de-fragmented frame, use `newframe = frame.copy()`\n",
      "  dt_transformed[col] = 0\n",
      "\n"
     ]
    },
    {
     "name": "stdout",
     "output_type": "stream",
     "text": [
      "Accuracy:                                                                                                              \n",
      "0.8410041841004184                                                                                                     \n",
      "{'var_smoothing': 4.328761281083061e-09}                                                                               \n",
      " 80%|██████████████████████████████████████▍         | 8/10 [00:15<00:03,  1.92s/trial, best loss: -0.9599243981595409]"
     ]
    },
    {
     "name": "stderr",
     "output_type": "stream",
     "text": [
      "C:\\Users\\velmurug\\Documents\\full_stability\\transformers\\StaticTransformer.py:44: PerformanceWarning: DataFrame is highly fragmented.  This is usually the result of calling `frame.insert` many times, which has poor performance.  Consider joining all columns at once using pd.concat(axis=1) instead.  To get a de-fragmented frame, use `newframe = frame.copy()`\n",
      "  dt_transformed[col] = 0\n",
      "\n",
      "C:\\Users\\velmurug\\Documents\\full_stability\\transformers\\IndexBasedTransformer.py:58: PerformanceWarning: DataFrame is highly fragmented.  This is usually the result of calling `frame.insert` many times, which has poor performance.  Consider joining all columns at once using pd.concat(axis=1) instead.  To get a de-fragmented frame, use `newframe = frame.copy()`\n",
      "  dt_transformed[col] = 0\n",
      "\n"
     ]
    },
    {
     "name": "stdout",
     "output_type": "stream",
     "text": [
      "Accuracy:                                                                                                              \n",
      "0.9493087557603688                                                                                                     \n",
      " 80%|██████████████████████████████████████▍         | 8/10 [00:16<00:03,  1.92s/trial, best loss: -0.9599243981595409]"
     ]
    },
    {
     "name": "stderr",
     "output_type": "stream",
     "text": [
      "C:\\Users\\velmurug\\Documents\\full_stability\\transformers\\StaticTransformer.py:44: PerformanceWarning: DataFrame is highly fragmented.  This is usually the result of calling `frame.insert` many times, which has poor performance.  Consider joining all columns at once using pd.concat(axis=1) instead.  To get a de-fragmented frame, use `newframe = frame.copy()`\n",
      "  dt_transformed[col] = 0\n",
      "\n",
      "C:\\Users\\velmurug\\Documents\\full_stability\\transformers\\IndexBasedTransformer.py:58: PerformanceWarning: DataFrame is highly fragmented.  This is usually the result of calling `frame.insert` many times, which has poor performance.  Consider joining all columns at once using pd.concat(axis=1) instead.  To get a de-fragmented frame, use `newframe = frame.copy()`\n",
      "  dt_transformed[col] = 0\n",
      "\n"
     ]
    },
    {
     "name": "stdout",
     "output_type": "stream",
     "text": [
      "Accuracy:                                                                                                              \n",
      "0.9626168224299064                                                                                                     \n",
      " 80%|██████████████████████████████████████▍         | 8/10 [00:16<00:03,  1.92s/trial, best loss: -0.9599243981595409]"
     ]
    },
    {
     "name": "stderr",
     "output_type": "stream",
     "text": [
      "C:\\Users\\velmurug\\Documents\\full_stability\\transformers\\StaticTransformer.py:44: PerformanceWarning: DataFrame is highly fragmented.  This is usually the result of calling `frame.insert` many times, which has poor performance.  Consider joining all columns at once using pd.concat(axis=1) instead.  To get a de-fragmented frame, use `newframe = frame.copy()`\n",
      "  dt_transformed[col] = 0\n",
      "\n",
      "C:\\Users\\velmurug\\Documents\\full_stability\\transformers\\IndexBasedTransformer.py:58: PerformanceWarning: DataFrame is highly fragmented.  This is usually the result of calling `frame.insert` many times, which has poor performance.  Consider joining all columns at once using pd.concat(axis=1) instead.  To get a de-fragmented frame, use `newframe = frame.copy()`\n",
      "  dt_transformed[col] = 0\n",
      "\n"
     ]
    },
    {
     "name": "stdout",
     "output_type": "stream",
     "text": [
      "Accuracy:                                                                                                              \n",
      "0.9539170506912443                                                                                                     \n",
      "{'var_smoothing': 1.2328467394420635e-09}                                                                              \n",
      " 90%|███████████████████████████████████████████▏    | 9/10 [00:17<00:01,  1.91s/trial, best loss: -0.9599243981595409]"
     ]
    },
    {
     "name": "stderr",
     "output_type": "stream",
     "text": [
      "C:\\Users\\velmurug\\Documents\\full_stability\\transformers\\StaticTransformer.py:44: PerformanceWarning: DataFrame is highly fragmented.  This is usually the result of calling `frame.insert` many times, which has poor performance.  Consider joining all columns at once using pd.concat(axis=1) instead.  To get a de-fragmented frame, use `newframe = frame.copy()`\n",
      "  dt_transformed[col] = 0\n",
      "\n",
      "C:\\Users\\velmurug\\Documents\\full_stability\\transformers\\IndexBasedTransformer.py:58: PerformanceWarning: DataFrame is highly fragmented.  This is usually the result of calling `frame.insert` many times, which has poor performance.  Consider joining all columns at once using pd.concat(axis=1) instead.  To get a de-fragmented frame, use `newframe = frame.copy()`\n",
      "  dt_transformed[col] = 0\n",
      "\n"
     ]
    },
    {
     "name": "stdout",
     "output_type": "stream",
     "text": [
      "Accuracy:                                                                                                              \n",
      "0.9610983981693363                                                                                                     \n",
      " 90%|███████████████████████████████████████████▏    | 9/10 [00:17<00:01,  1.91s/trial, best loss: -0.9599243981595409]"
     ]
    },
    {
     "name": "stderr",
     "output_type": "stream",
     "text": [
      "C:\\Users\\velmurug\\Documents\\full_stability\\transformers\\StaticTransformer.py:44: PerformanceWarning: DataFrame is highly fragmented.  This is usually the result of calling `frame.insert` many times, which has poor performance.  Consider joining all columns at once using pd.concat(axis=1) instead.  To get a de-fragmented frame, use `newframe = frame.copy()`\n",
      "  dt_transformed[col] = 0\n",
      "\n",
      "C:\\Users\\velmurug\\Documents\\full_stability\\transformers\\IndexBasedTransformer.py:58: PerformanceWarning: DataFrame is highly fragmented.  This is usually the result of calling `frame.insert` many times, which has poor performance.  Consider joining all columns at once using pd.concat(axis=1) instead.  To get a de-fragmented frame, use `newframe = frame.copy()`\n",
      "  dt_transformed[col] = 0\n",
      "\n"
     ]
    },
    {
     "name": "stdout",
     "output_type": "stream",
     "text": [
      "Accuracy:                                                                                                              \n",
      "0.9650349650349651                                                                                                     \n",
      " 90%|███████████████████████████████████████████▏    | 9/10 [00:18<00:01,  1.91s/trial, best loss: -0.9599243981595409]"
     ]
    },
    {
     "name": "stderr",
     "output_type": "stream",
     "text": [
      "C:\\Users\\velmurug\\Documents\\full_stability\\transformers\\StaticTransformer.py:44: PerformanceWarning: DataFrame is highly fragmented.  This is usually the result of calling `frame.insert` many times, which has poor performance.  Consider joining all columns at once using pd.concat(axis=1) instead.  To get a de-fragmented frame, use `newframe = frame.copy()`\n",
      "  dt_transformed[col] = 0\n",
      "\n",
      "C:\\Users\\velmurug\\Documents\\full_stability\\transformers\\IndexBasedTransformer.py:58: PerformanceWarning: DataFrame is highly fragmented.  This is usually the result of calling `frame.insert` many times, which has poor performance.  Consider joining all columns at once using pd.concat(axis=1) instead.  To get a de-fragmented frame, use `newframe = frame.copy()`\n",
      "  dt_transformed[col] = 0\n",
      "\n"
     ]
    },
    {
     "name": "stdout",
     "output_type": "stream",
     "text": [
      "Accuracy:                                                                                                              \n",
      "0.9519450800915332                                                                                                     \n",
      "100%|███████████████████████████████████████████████| 10/10 [00:19<00:00,  1.92s/trial, best loss: -0.9599243981595409]\n",
      "Optimising 8 of 20 buckets\n",
      "{'var_smoothing': 6.579332246575682e-07}                                                                               \n",
      "  0%|                                                                           | 0/10 [00:00<?, ?trial/s, best loss=?]"
     ]
    },
    {
     "name": "stderr",
     "output_type": "stream",
     "text": [
      "C:\\Users\\velmurug\\Documents\\full_stability\\transformers\\StaticTransformer.py:44: PerformanceWarning: DataFrame is highly fragmented.  This is usually the result of calling `frame.insert` many times, which has poor performance.  Consider joining all columns at once using pd.concat(axis=1) instead.  To get a de-fragmented frame, use `newframe = frame.copy()`\n",
      "  dt_transformed[col] = 0\n",
      "\n",
      "C:\\Users\\velmurug\\Documents\\full_stability\\transformers\\IndexBasedTransformer.py:58: PerformanceWarning: DataFrame is highly fragmented.  This is usually the result of calling `frame.insert` many times, which has poor performance.  Consider joining all columns at once using pd.concat(axis=1) instead.  To get a de-fragmented frame, use `newframe = frame.copy()`\n",
      "  dt_transformed[col] = 0\n",
      "\n"
     ]
    },
    {
     "name": "stdout",
     "output_type": "stream",
     "text": [
      "Accuracy:                                                                                                              \n",
      "0.9514563106796117                                                                                                     \n",
      "  0%|                                                                           | 0/10 [00:00<?, ?trial/s, best loss=?]"
     ]
    },
    {
     "name": "stderr",
     "output_type": "stream",
     "text": [
      "C:\\Users\\velmurug\\Documents\\full_stability\\transformers\\StaticTransformer.py:44: PerformanceWarning: DataFrame is highly fragmented.  This is usually the result of calling `frame.insert` many times, which has poor performance.  Consider joining all columns at once using pd.concat(axis=1) instead.  To get a de-fragmented frame, use `newframe = frame.copy()`\n",
      "  dt_transformed[col] = 0\n",
      "\n",
      "C:\\Users\\velmurug\\Documents\\full_stability\\transformers\\IndexBasedTransformer.py:58: PerformanceWarning: DataFrame is highly fragmented.  This is usually the result of calling `frame.insert` many times, which has poor performance.  Consider joining all columns at once using pd.concat(axis=1) instead.  To get a de-fragmented frame, use `newframe = frame.copy()`\n",
      "  dt_transformed[col] = 0\n",
      "\n"
     ]
    },
    {
     "name": "stdout",
     "output_type": "stream",
     "text": [
      "Accuracy:                                                                                                              \n",
      "0.9385749385749386                                                                                                     \n",
      "  0%|                                                                           | 0/10 [00:01<?, ?trial/s, best loss=?]"
     ]
    },
    {
     "name": "stderr",
     "output_type": "stream",
     "text": [
      "C:\\Users\\velmurug\\Documents\\full_stability\\transformers\\StaticTransformer.py:44: PerformanceWarning: DataFrame is highly fragmented.  This is usually the result of calling `frame.insert` many times, which has poor performance.  Consider joining all columns at once using pd.concat(axis=1) instead.  To get a de-fragmented frame, use `newframe = frame.copy()`\n",
      "  dt_transformed[col] = 0\n",
      "\n",
      "C:\\Users\\velmurug\\Documents\\full_stability\\transformers\\IndexBasedTransformer.py:58: PerformanceWarning: DataFrame is highly fragmented.  This is usually the result of calling `frame.insert` many times, which has poor performance.  Consider joining all columns at once using pd.concat(axis=1) instead.  To get a de-fragmented frame, use `newframe = frame.copy()`\n",
      "  dt_transformed[col] = 0\n",
      "\n"
     ]
    },
    {
     "name": "stdout",
     "output_type": "stream",
     "text": [
      "Accuracy:                                                                                                              \n",
      "0.9640287769784173                                                                                                     \n",
      "{'var_smoothing': 8.111308307896873e-06}                                                                               \n",
      " 10%|████▊                                           | 1/10 [00:02<00:19,  2.15s/trial, best loss: -0.9513533420776558]"
     ]
    },
    {
     "name": "stderr",
     "output_type": "stream",
     "text": [
      "C:\\Users\\velmurug\\Documents\\full_stability\\transformers\\StaticTransformer.py:44: PerformanceWarning: DataFrame is highly fragmented.  This is usually the result of calling `frame.insert` many times, which has poor performance.  Consider joining all columns at once using pd.concat(axis=1) instead.  To get a de-fragmented frame, use `newframe = frame.copy()`\n",
      "  dt_transformed[col] = 0\n",
      "\n"
     ]
    },
    {
     "name": "stdout",
     "output_type": "stream",
     "text": [
      "Accuracy:                                                                                                              \n",
      "0.9565217391304348                                                                                                     \n",
      " 10%|████▊                                           | 1/10 [00:02<00:19,  2.15s/trial, best loss: -0.9513533420776558]"
     ]
    },
    {
     "name": "stderr",
     "output_type": "stream",
     "text": [
      "C:\\Users\\velmurug\\Documents\\full_stability\\transformers\\IndexBasedTransformer.py:58: PerformanceWarning: DataFrame is highly fragmented.  This is usually the result of calling `frame.insert` many times, which has poor performance.  Consider joining all columns at once using pd.concat(axis=1) instead.  To get a de-fragmented frame, use `newframe = frame.copy()`\n",
      "  dt_transformed[col] = 0\n",
      "\n",
      "C:\\Users\\velmurug\\Documents\\full_stability\\transformers\\StaticTransformer.py:44: PerformanceWarning: DataFrame is highly fragmented.  This is usually the result of calling `frame.insert` many times, which has poor performance.  Consider joining all columns at once using pd.concat(axis=1) instead.  To get a de-fragmented frame, use `newframe = frame.copy()`\n",
      "  dt_transformed[col] = 0\n",
      "\n",
      "C:\\Users\\velmurug\\Documents\\full_stability\\transformers\\IndexBasedTransformer.py:58: PerformanceWarning: DataFrame is highly fragmented.  This is usually the result of calling `frame.insert` many times, which has poor performance.  Consider joining all columns at once using pd.concat(axis=1) instead.  To get a de-fragmented frame, use `newframe = frame.copy()`\n",
      "  dt_transformed[col] = 0\n",
      "\n"
     ]
    },
    {
     "name": "stdout",
     "output_type": "stream",
     "text": [
      "Accuracy:                                                                                                              \n",
      "0.9714285714285714                                                                                                     \n",
      " 10%|████▊                                           | 1/10 [00:03<00:19,  2.15s/trial, best loss: -0.9513533420776558]"
     ]
    },
    {
     "name": "stderr",
     "output_type": "stream",
     "text": [
      "C:\\Users\\velmurug\\Documents\\full_stability\\transformers\\StaticTransformer.py:44: PerformanceWarning: DataFrame is highly fragmented.  This is usually the result of calling `frame.insert` many times, which has poor performance.  Consider joining all columns at once using pd.concat(axis=1) instead.  To get a de-fragmented frame, use `newframe = frame.copy()`\n",
      "  dt_transformed[col] = 0\n",
      "\n"
     ]
    },
    {
     "name": "stdout",
     "output_type": "stream",
     "text": [
      "Accuracy:                                                                                                              \n",
      "0.9565217391304348                                                                                                     \n",
      "{'var_smoothing': 1.232846739442066e-06}                                                                               \n",
      " 20%|█████████▌                                      | 2/10 [00:04<00:17,  2.16s/trial, best loss: -0.9614906832298136]"
     ]
    },
    {
     "name": "stderr",
     "output_type": "stream",
     "text": [
      "C:\\Users\\velmurug\\Documents\\full_stability\\transformers\\IndexBasedTransformer.py:58: PerformanceWarning: DataFrame is highly fragmented.  This is usually the result of calling `frame.insert` many times, which has poor performance.  Consider joining all columns at once using pd.concat(axis=1) instead.  To get a de-fragmented frame, use `newframe = frame.copy()`\n",
      "  dt_transformed[col] = 0\n",
      "\n",
      "C:\\Users\\velmurug\\Documents\\full_stability\\transformers\\StaticTransformer.py:44: PerformanceWarning: DataFrame is highly fragmented.  This is usually the result of calling `frame.insert` many times, which has poor performance.  Consider joining all columns at once using pd.concat(axis=1) instead.  To get a de-fragmented frame, use `newframe = frame.copy()`\n",
      "  dt_transformed[col] = 0\n",
      "\n",
      "C:\\Users\\velmurug\\Documents\\full_stability\\transformers\\IndexBasedTransformer.py:58: PerformanceWarning: DataFrame is highly fragmented.  This is usually the result of calling `frame.insert` many times, which has poor performance.  Consider joining all columns at once using pd.concat(axis=1) instead.  To get a de-fragmented frame, use `newframe = frame.copy()`\n",
      "  dt_transformed[col] = 0\n",
      "\n"
     ]
    },
    {
     "name": "stdout",
     "output_type": "stream",
     "text": [
      "Accuracy:                                                                                                              \n",
      "0.9666666666666666                                                                                                     \n",
      " 20%|█████████▌                                      | 2/10 [00:05<00:17,  2.16s/trial, best loss: -0.9614906832298136]"
     ]
    },
    {
     "name": "stderr",
     "output_type": "stream",
     "text": [
      "C:\\Users\\velmurug\\Documents\\full_stability\\transformers\\StaticTransformer.py:44: PerformanceWarning: DataFrame is highly fragmented.  This is usually the result of calling `frame.insert` many times, which has poor performance.  Consider joining all columns at once using pd.concat(axis=1) instead.  To get a de-fragmented frame, use `newframe = frame.copy()`\n",
      "  dt_transformed[col] = 0\n",
      "\n",
      "C:\\Users\\velmurug\\Documents\\full_stability\\transformers\\IndexBasedTransformer.py:58: PerformanceWarning: DataFrame is highly fragmented.  This is usually the result of calling `frame.insert` many times, which has poor performance.  Consider joining all columns at once using pd.concat(axis=1) instead.  To get a de-fragmented frame, use `newframe = frame.copy()`\n",
      "  dt_transformed[col] = 0\n",
      "\n"
     ]
    },
    {
     "name": "stdout",
     "output_type": "stream",
     "text": [
      "Accuracy:                                                                                                              \n",
      "0.976303317535545                                                                                                      \n",
      " 20%|█████████▌                                      | 2/10 [00:05<00:17,  2.16s/trial, best loss: -0.9614906832298136]"
     ]
    },
    {
     "name": "stderr",
     "output_type": "stream",
     "text": [
      "C:\\Users\\velmurug\\Documents\\full_stability\\transformers\\StaticTransformer.py:44: PerformanceWarning: DataFrame is highly fragmented.  This is usually the result of calling `frame.insert` many times, which has poor performance.  Consider joining all columns at once using pd.concat(axis=1) instead.  To get a de-fragmented frame, use `newframe = frame.copy()`\n",
      "  dt_transformed[col] = 0\n",
      "\n",
      "C:\\Users\\velmurug\\Documents\\full_stability\\transformers\\IndexBasedTransformer.py:58: PerformanceWarning: DataFrame is highly fragmented.  This is usually the result of calling `frame.insert` many times, which has poor performance.  Consider joining all columns at once using pd.concat(axis=1) instead.  To get a de-fragmented frame, use `newframe = frame.copy()`\n",
      "  dt_transformed[col] = 0\n",
      "\n"
     ]
    },
    {
     "name": "stdout",
     "output_type": "stream",
     "text": [
      "Accuracy:                                                                                                              \n",
      "0.9640287769784173                                                                                                     \n",
      "{'var_smoothing': 1.873817422860383e-08}                                                                               \n",
      " 30%|██████████████▍                                 | 3/10 [00:06<00:14,  2.13s/trial, best loss: -0.9689995870602095]"
     ]
    },
    {
     "name": "stderr",
     "output_type": "stream",
     "text": [
      "C:\\Users\\velmurug\\Documents\\full_stability\\transformers\\StaticTransformer.py:44: PerformanceWarning: DataFrame is highly fragmented.  This is usually the result of calling `frame.insert` many times, which has poor performance.  Consider joining all columns at once using pd.concat(axis=1) instead.  To get a de-fragmented frame, use `newframe = frame.copy()`\n",
      "  dt_transformed[col] = 0\n",
      "\n",
      "C:\\Users\\velmurug\\Documents\\full_stability\\transformers\\IndexBasedTransformer.py:58: PerformanceWarning: DataFrame is highly fragmented.  This is usually the result of calling `frame.insert` many times, which has poor performance.  Consider joining all columns at once using pd.concat(axis=1) instead.  To get a de-fragmented frame, use `newframe = frame.copy()`\n",
      "  dt_transformed[col] = 0\n",
      "\n"
     ]
    },
    {
     "name": "stdout",
     "output_type": "stream",
     "text": [
      "Accuracy:                                                                                                              \n",
      "0.9764150943396227                                                                                                     \n",
      " 30%|██████████████▍                                 | 3/10 [00:07<00:14,  2.13s/trial, best loss: -0.9689995870602095]"
     ]
    },
    {
     "name": "stderr",
     "output_type": "stream",
     "text": [
      "C:\\Users\\velmurug\\Documents\\full_stability\\transformers\\StaticTransformer.py:44: PerformanceWarning: DataFrame is highly fragmented.  This is usually the result of calling `frame.insert` many times, which has poor performance.  Consider joining all columns at once using pd.concat(axis=1) instead.  To get a de-fragmented frame, use `newframe = frame.copy()`\n",
      "  dt_transformed[col] = 0\n",
      "\n",
      "C:\\Users\\velmurug\\Documents\\full_stability\\transformers\\IndexBasedTransformer.py:58: PerformanceWarning: DataFrame is highly fragmented.  This is usually the result of calling `frame.insert` many times, which has poor performance.  Consider joining all columns at once using pd.concat(axis=1) instead.  To get a de-fragmented frame, use `newframe = frame.copy()`\n",
      "  dt_transformed[col] = 0\n",
      "\n"
     ]
    },
    {
     "name": "stdout",
     "output_type": "stream",
     "text": [
      "Accuracy:                                                                                                              \n",
      "0.9640287769784173                                                                                                     \n",
      " 30%|██████████████▍                                 | 3/10 [00:07<00:14,  2.13s/trial, best loss: -0.9689995870602095]"
     ]
    },
    {
     "name": "stderr",
     "output_type": "stream",
     "text": [
      "C:\\Users\\velmurug\\Documents\\full_stability\\transformers\\StaticTransformer.py:44: PerformanceWarning: DataFrame is highly fragmented.  This is usually the result of calling `frame.insert` many times, which has poor performance.  Consider joining all columns at once using pd.concat(axis=1) instead.  To get a de-fragmented frame, use `newframe = frame.copy()`\n",
      "  dt_transformed[col] = 0\n",
      "\n",
      "C:\\Users\\velmurug\\Documents\\full_stability\\transformers\\IndexBasedTransformer.py:58: PerformanceWarning: DataFrame is highly fragmented.  This is usually the result of calling `frame.insert` many times, which has poor performance.  Consider joining all columns at once using pd.concat(axis=1) instead.  To get a de-fragmented frame, use `newframe = frame.copy()`\n",
      "  dt_transformed[col] = 0\n",
      "\n"
     ]
    },
    {
     "name": "stdout",
     "output_type": "stream",
     "text": [
      "Accuracy:                                                                                                              \n",
      "0.9788235294117646                                                                                                     \n",
      "{'var_smoothing': 0.004328761281083057}                                                                                \n",
      " 40%|███████████████████▏                            | 4/10 [00:08<00:12,  2.11s/trial, best loss: -0.9730891335766015]"
     ]
    },
    {
     "name": "stderr",
     "output_type": "stream",
     "text": [
      "C:\\Users\\velmurug\\Documents\\full_stability\\transformers\\StaticTransformer.py:44: PerformanceWarning: DataFrame is highly fragmented.  This is usually the result of calling `frame.insert` many times, which has poor performance.  Consider joining all columns at once using pd.concat(axis=1) instead.  To get a de-fragmented frame, use `newframe = frame.copy()`\n",
      "  dt_transformed[col] = 0\n",
      "\n",
      "C:\\Users\\velmurug\\Documents\\full_stability\\transformers\\IndexBasedTransformer.py:58: PerformanceWarning: DataFrame is highly fragmented.  This is usually the result of calling `frame.insert` many times, which has poor performance.  Consider joining all columns at once using pd.concat(axis=1) instead.  To get a de-fragmented frame, use `newframe = frame.copy()`\n",
      "  dt_transformed[col] = 0\n",
      "\n"
     ]
    },
    {
     "name": "stdout",
     "output_type": "stream",
     "text": [
      "Accuracy:                                                                                                              \n",
      "0.9441860465116279                                                                                                     \n",
      " 40%|███████████████████▏                            | 4/10 [00:09<00:12,  2.11s/trial, best loss: -0.9730891335766015]"
     ]
    },
    {
     "name": "stderr",
     "output_type": "stream",
     "text": [
      "C:\\Users\\velmurug\\Documents\\full_stability\\transformers\\StaticTransformer.py:44: PerformanceWarning: DataFrame is highly fragmented.  This is usually the result of calling `frame.insert` many times, which has poor performance.  Consider joining all columns at once using pd.concat(axis=1) instead.  To get a de-fragmented frame, use `newframe = frame.copy()`\n",
      "  dt_transformed[col] = 0\n",
      "\n",
      "C:\\Users\\velmurug\\Documents\\full_stability\\transformers\\IndexBasedTransformer.py:58: PerformanceWarning: DataFrame is highly fragmented.  This is usually the result of calling `frame.insert` many times, which has poor performance.  Consider joining all columns at once using pd.concat(axis=1) instead.  To get a de-fragmented frame, use `newframe = frame.copy()`\n",
      "  dt_transformed[col] = 0\n",
      "\n"
     ]
    },
    {
     "name": "stdout",
     "output_type": "stream",
     "text": [
      "Accuracy:                                                                                                              \n",
      "0.9441860465116279                                                                                                     \n",
      " 40%|███████████████████▏                            | 4/10 [00:09<00:12,  2.11s/trial, best loss: -0.9730891335766015]"
     ]
    },
    {
     "name": "stderr",
     "output_type": "stream",
     "text": [
      "C:\\Users\\velmurug\\Documents\\full_stability\\transformers\\StaticTransformer.py:44: PerformanceWarning: DataFrame is highly fragmented.  This is usually the result of calling `frame.insert` many times, which has poor performance.  Consider joining all columns at once using pd.concat(axis=1) instead.  To get a de-fragmented frame, use `newframe = frame.copy()`\n",
      "  dt_transformed[col] = 0\n",
      "\n"
     ]
    },
    {
     "name": "stdout",
     "output_type": "stream",
     "text": [
      "Accuracy:                                                                                                              \n",
      "0.9327146171693735                                                                                                     \n",
      "{'var_smoothing': 0.0002310129700083158}                                                                               \n",
      " 50%|████████████████████████                        | 5/10 [00:10<00:10,  2.09s/trial, best loss: -0.9730891335766015]"
     ]
    },
    {
     "name": "stderr",
     "output_type": "stream",
     "text": [
      "C:\\Users\\velmurug\\Documents\\full_stability\\transformers\\IndexBasedTransformer.py:58: PerformanceWarning: DataFrame is highly fragmented.  This is usually the result of calling `frame.insert` many times, which has poor performance.  Consider joining all columns at once using pd.concat(axis=1) instead.  To get a de-fragmented frame, use `newframe = frame.copy()`\n",
      "  dt_transformed[col] = 0\n",
      "\n",
      "C:\\Users\\velmurug\\Documents\\full_stability\\transformers\\StaticTransformer.py:44: PerformanceWarning: DataFrame is highly fragmented.  This is usually the result of calling `frame.insert` many times, which has poor performance.  Consider joining all columns at once using pd.concat(axis=1) instead.  To get a de-fragmented frame, use `newframe = frame.copy()`\n",
      "  dt_transformed[col] = 0\n",
      "\n"
     ]
    },
    {
     "name": "stdout",
     "output_type": "stream",
     "text": [
      "Accuracy:                                                                                                              \n",
      "                                                                                                                       "
     ]
    },
    {
     "name": "stderr",
     "output_type": "stream",
     "text": [
      "C:\\Users\\velmurug\\Documents\\full_stability\\transformers\\IndexBasedTransformer.py:58: PerformanceWarning: DataFrame is highly fragmented.  This is usually the result of calling `frame.insert` many times, which has poor performance.  Consider joining all columns at once using pd.concat(axis=1) instead.  To get a de-fragmented frame, use `newframe = frame.copy()`\n",
      "  dt_transformed[col] = 0\n",
      "\n"
     ]
    },
    {
     "name": "stdout",
     "output_type": "stream",
     "text": [
      "0.9691211401425178\n",
      " 50%|████████████████████████                        | 5/10 [00:11<00:10,  2.09s/trial, best loss: -0.9730891335766015]"
     ]
    },
    {
     "name": "stderr",
     "output_type": "stream",
     "text": [
      "C:\\Users\\velmurug\\Documents\\full_stability\\transformers\\StaticTransformer.py:44: PerformanceWarning: DataFrame is highly fragmented.  This is usually the result of calling `frame.insert` many times, which has poor performance.  Consider joining all columns at once using pd.concat(axis=1) instead.  To get a de-fragmented frame, use `newframe = frame.copy()`\n",
      "  dt_transformed[col] = 0\n",
      "\n",
      "C:\\Users\\velmurug\\Documents\\full_stability\\transformers\\IndexBasedTransformer.py:58: PerformanceWarning: DataFrame is highly fragmented.  This is usually the result of calling `frame.insert` many times, which has poor performance.  Consider joining all columns at once using pd.concat(axis=1) instead.  To get a de-fragmented frame, use `newframe = frame.copy()`\n",
      "  dt_transformed[col] = 0\n",
      "\n"
     ]
    },
    {
     "name": "stdout",
     "output_type": "stream",
     "text": [
      "Accuracy:                                                                                                              \n",
      "0.9665071770334929                                                                                                     \n",
      " 50%|████████████████████████                        | 5/10 [00:11<00:10,  2.09s/trial, best loss: -0.9730891335766015]"
     ]
    },
    {
     "name": "stderr",
     "output_type": "stream",
     "text": [
      "C:\\Users\\velmurug\\Documents\\full_stability\\transformers\\StaticTransformer.py:44: PerformanceWarning: DataFrame is highly fragmented.  This is usually the result of calling `frame.insert` many times, which has poor performance.  Consider joining all columns at once using pd.concat(axis=1) instead.  To get a de-fragmented frame, use `newframe = frame.copy()`\n",
      "  dt_transformed[col] = 0\n",
      "\n",
      "C:\\Users\\velmurug\\Documents\\full_stability\\transformers\\IndexBasedTransformer.py:58: PerformanceWarning: DataFrame is highly fragmented.  This is usually the result of calling `frame.insert` many times, which has poor performance.  Consider joining all columns at once using pd.concat(axis=1) instead.  To get a de-fragmented frame, use `newframe = frame.copy()`\n",
      "  dt_transformed[col] = 0\n",
      "\n"
     ]
    },
    {
     "name": "stdout",
     "output_type": "stream",
     "text": [
      "Accuracy:                                                                                                              \n",
      "0.9640287769784173                                                                                                     \n",
      "{'var_smoothing': 4.328761281083061e-09}                                                                               \n",
      " 60%|████████████████████████████▊                   | 6/10 [00:12<00:08,  2.10s/trial, best loss: -0.9730891335766015]"
     ]
    },
    {
     "name": "stderr",
     "output_type": "stream",
     "text": [
      "C:\\Users\\velmurug\\Documents\\full_stability\\transformers\\StaticTransformer.py:44: PerformanceWarning: DataFrame is highly fragmented.  This is usually the result of calling `frame.insert` many times, which has poor performance.  Consider joining all columns at once using pd.concat(axis=1) instead.  To get a de-fragmented frame, use `newframe = frame.copy()`\n",
      "  dt_transformed[col] = 0\n",
      "\n",
      "C:\\Users\\velmurug\\Documents\\full_stability\\transformers\\IndexBasedTransformer.py:58: PerformanceWarning: DataFrame is highly fragmented.  This is usually the result of calling `frame.insert` many times, which has poor performance.  Consider joining all columns at once using pd.concat(axis=1) instead.  To get a de-fragmented frame, use `newframe = frame.copy()`\n",
      "  dt_transformed[col] = 0\n",
      "\n"
     ]
    },
    {
     "name": "stdout",
     "output_type": "stream",
     "text": [
      "Accuracy:                                                                                                              \n",
      "0.9567307692307692                                                                                                     \n",
      " 60%|████████████████████████████▊                   | 6/10 [00:13<00:08,  2.10s/trial, best loss: -0.9730891335766015]"
     ]
    },
    {
     "name": "stderr",
     "output_type": "stream",
     "text": [
      "C:\\Users\\velmurug\\Documents\\full_stability\\transformers\\StaticTransformer.py:44: PerformanceWarning: DataFrame is highly fragmented.  This is usually the result of calling `frame.insert` many times, which has poor performance.  Consider joining all columns at once using pd.concat(axis=1) instead.  To get a de-fragmented frame, use `newframe = frame.copy()`\n",
      "  dt_transformed[col] = 0\n",
      "\n",
      "C:\\Users\\velmurug\\Documents\\full_stability\\transformers\\IndexBasedTransformer.py:58: PerformanceWarning: DataFrame is highly fragmented.  This is usually the result of calling `frame.insert` many times, which has poor performance.  Consider joining all columns at once using pd.concat(axis=1) instead.  To get a de-fragmented frame, use `newframe = frame.copy()`\n",
      "  dt_transformed[col] = 0\n",
      "\n"
     ]
    },
    {
     "name": "stdout",
     "output_type": "stream",
     "text": [
      "Accuracy:                                                                                                              \n",
      "0.9640287769784173                                                                                                     \n",
      " 60%|████████████████████████████▊                   | 6/10 [00:14<00:08,  2.10s/trial, best loss: -0.9730891335766015]"
     ]
    },
    {
     "name": "stderr",
     "output_type": "stream",
     "text": [
      "C:\\Users\\velmurug\\Documents\\full_stability\\transformers\\StaticTransformer.py:44: PerformanceWarning: DataFrame is highly fragmented.  This is usually the result of calling `frame.insert` many times, which has poor performance.  Consider joining all columns at once using pd.concat(axis=1) instead.  To get a de-fragmented frame, use `newframe = frame.copy()`\n",
      "  dt_transformed[col] = 0\n",
      "\n",
      "C:\\Users\\velmurug\\Documents\\full_stability\\transformers\\IndexBasedTransformer.py:58: PerformanceWarning: DataFrame is highly fragmented.  This is usually the result of calling `frame.insert` many times, which has poor performance.  Consider joining all columns at once using pd.concat(axis=1) instead.  To get a de-fragmented frame, use `newframe = frame.copy()`\n",
      "  dt_transformed[col] = 0\n",
      "\n"
     ]
    },
    {
     "name": "stdout",
     "output_type": "stream",
     "text": [
      "Accuracy:                                                                                                              \n",
      "0.9567307692307692                                                                                                     \n",
      "{'var_smoothing': 1.873817422860383e-08}                                                                               \n",
      " 70%|█████████████████████████████████▌              | 7/10 [00:14<00:06,  2.10s/trial, best loss: -0.9730891335766015]"
     ]
    },
    {
     "name": "stderr",
     "output_type": "stream",
     "text": [
      "C:\\Users\\velmurug\\Documents\\full_stability\\transformers\\StaticTransformer.py:44: PerformanceWarning: DataFrame is highly fragmented.  This is usually the result of calling `frame.insert` many times, which has poor performance.  Consider joining all columns at once using pd.concat(axis=1) instead.  To get a de-fragmented frame, use `newframe = frame.copy()`\n",
      "  dt_transformed[col] = 0\n",
      "\n",
      "C:\\Users\\velmurug\\Documents\\full_stability\\transformers\\IndexBasedTransformer.py:58: PerformanceWarning: DataFrame is highly fragmented.  This is usually the result of calling `frame.insert` many times, which has poor performance.  Consider joining all columns at once using pd.concat(axis=1) instead.  To get a de-fragmented frame, use `newframe = frame.copy()`\n",
      "  dt_transformed[col] = 0\n",
      "\n"
     ]
    },
    {
     "name": "stdout",
     "output_type": "stream",
     "text": [
      "Accuracy:                                                                                                              \n",
      "0.9542168674698794                                                                                                     \n",
      " 70%|█████████████████████████████████▌              | 7/10 [00:15<00:06,  2.10s/trial, best loss: -0.9730891335766015]"
     ]
    },
    {
     "name": "stderr",
     "output_type": "stream",
     "text": [
      "C:\\Users\\velmurug\\Documents\\full_stability\\transformers\\StaticTransformer.py:44: PerformanceWarning: DataFrame is highly fragmented.  This is usually the result of calling `frame.insert` many times, which has poor performance.  Consider joining all columns at once using pd.concat(axis=1) instead.  To get a de-fragmented frame, use `newframe = frame.copy()`\n",
      "  dt_transformed[col] = 0\n",
      "\n",
      "C:\\Users\\velmurug\\Documents\\full_stability\\transformers\\IndexBasedTransformer.py:58: PerformanceWarning: DataFrame is highly fragmented.  This is usually the result of calling `frame.insert` many times, which has poor performance.  Consider joining all columns at once using pd.concat(axis=1) instead.  To get a de-fragmented frame, use `newframe = frame.copy()`\n",
      "  dt_transformed[col] = 0\n",
      "\n"
     ]
    },
    {
     "name": "stdout",
     "output_type": "stream",
     "text": [
      "Accuracy:                                                                                                              \n",
      "0.9714285714285714                                                                                                     \n",
      " 70%|█████████████████████████████████▌              | 7/10 [00:16<00:06,  2.10s/trial, best loss: -0.9730891335766015]"
     ]
    },
    {
     "name": "stderr",
     "output_type": "stream",
     "text": [
      "C:\\Users\\velmurug\\Documents\\full_stability\\transformers\\StaticTransformer.py:44: PerformanceWarning: DataFrame is highly fragmented.  This is usually the result of calling `frame.insert` many times, which has poor performance.  Consider joining all columns at once using pd.concat(axis=1) instead.  To get a de-fragmented frame, use `newframe = frame.copy()`\n",
      "  dt_transformed[col] = 0\n",
      "\n",
      "C:\\Users\\velmurug\\Documents\\full_stability\\transformers\\IndexBasedTransformer.py:58: PerformanceWarning: DataFrame is highly fragmented.  This is usually the result of calling `frame.insert` many times, which has poor performance.  Consider joining all columns at once using pd.concat(axis=1) instead.  To get a de-fragmented frame, use `newframe = frame.copy()`\n",
      "  dt_transformed[col] = 0\n",
      "\n"
     ]
    },
    {
     "name": "stdout",
     "output_type": "stream",
     "text": [
      "Accuracy:                                                                                                              \n",
      "0.9615384615384615                                                                                                     \n",
      "{'var_smoothing': 2.310129700083158e-08}                                                                               \n",
      " 80%|██████████████████████████████████████▍         | 8/10 [00:16<00:04,  2.09s/trial, best loss: -0.9730891335766015]"
     ]
    },
    {
     "name": "stderr",
     "output_type": "stream",
     "text": [
      "C:\\Users\\velmurug\\Documents\\full_stability\\transformers\\StaticTransformer.py:44: PerformanceWarning: DataFrame is highly fragmented.  This is usually the result of calling `frame.insert` many times, which has poor performance.  Consider joining all columns at once using pd.concat(axis=1) instead.  To get a de-fragmented frame, use `newframe = frame.copy()`\n",
      "  dt_transformed[col] = 0\n",
      "\n",
      "C:\\Users\\velmurug\\Documents\\full_stability\\transformers\\IndexBasedTransformer.py:58: PerformanceWarning: DataFrame is highly fragmented.  This is usually the result of calling `frame.insert` many times, which has poor performance.  Consider joining all columns at once using pd.concat(axis=1) instead.  To get a de-fragmented frame, use `newframe = frame.copy()`\n",
      "  dt_transformed[col] = 0\n",
      "\n"
     ]
    },
    {
     "name": "stdout",
     "output_type": "stream",
     "text": [
      "Accuracy:                                                                                                              \n",
      "0.9739952718676123                                                                                                     \n",
      " 80%|██████████████████████████████████████▍         | 8/10 [00:17<00:04,  2.09s/trial, best loss: -0.9730891335766015]"
     ]
    },
    {
     "name": "stderr",
     "output_type": "stream",
     "text": [
      "C:\\Users\\velmurug\\Documents\\full_stability\\transformers\\StaticTransformer.py:44: PerformanceWarning: DataFrame is highly fragmented.  This is usually the result of calling `frame.insert` many times, which has poor performance.  Consider joining all columns at once using pd.concat(axis=1) instead.  To get a de-fragmented frame, use `newframe = frame.copy()`\n",
      "  dt_transformed[col] = 0\n",
      "\n",
      "C:\\Users\\velmurug\\Documents\\full_stability\\transformers\\IndexBasedTransformer.py:58: PerformanceWarning: DataFrame is highly fragmented.  This is usually the result of calling `frame.insert` many times, which has poor performance.  Consider joining all columns at once using pd.concat(axis=1) instead.  To get a de-fragmented frame, use `newframe = frame.copy()`\n",
      "  dt_transformed[col] = 0\n",
      "\n"
     ]
    },
    {
     "name": "stdout",
     "output_type": "stream",
     "text": [
      "Accuracy:                                                                                                              \n",
      "0.9665071770334929                                                                                                     \n",
      " 80%|██████████████████████████████████████▍         | 8/10 [00:18<00:04,  2.09s/trial, best loss: -0.9730891335766015]"
     ]
    },
    {
     "name": "stderr",
     "output_type": "stream",
     "text": [
      "C:\\Users\\velmurug\\Documents\\full_stability\\transformers\\StaticTransformer.py:44: PerformanceWarning: DataFrame is highly fragmented.  This is usually the result of calling `frame.insert` many times, which has poor performance.  Consider joining all columns at once using pd.concat(axis=1) instead.  To get a de-fragmented frame, use `newframe = frame.copy()`\n",
      "  dt_transformed[col] = 0\n",
      "\n",
      "C:\\Users\\velmurug\\Documents\\full_stability\\transformers\\IndexBasedTransformer.py:58: PerformanceWarning: DataFrame is highly fragmented.  This is usually the result of calling `frame.insert` many times, which has poor performance.  Consider joining all columns at once using pd.concat(axis=1) instead.  To get a de-fragmented frame, use `newframe = frame.copy()`\n",
      "  dt_transformed[col] = 0\n",
      "\n"
     ]
    },
    {
     "name": "stdout",
     "output_type": "stream",
     "text": [
      "Accuracy:                                                                                                              \n",
      "0.9539951573849879                                                                                                     \n",
      "{'var_smoothing': 0.0006579332246575676}                                                                               \n",
      " 90%|███████████████████████████████████████████▏    | 9/10 [00:18<00:02,  2.05s/trial, best loss: -0.9730891335766015]"
     ]
    },
    {
     "name": "stderr",
     "output_type": "stream",
     "text": [
      "C:\\Users\\velmurug\\Documents\\full_stability\\transformers\\StaticTransformer.py:44: PerformanceWarning: DataFrame is highly fragmented.  This is usually the result of calling `frame.insert` many times, which has poor performance.  Consider joining all columns at once using pd.concat(axis=1) instead.  To get a de-fragmented frame, use `newframe = frame.copy()`\n",
      "  dt_transformed[col] = 0\n",
      "\n",
      "C:\\Users\\velmurug\\Documents\\full_stability\\transformers\\IndexBasedTransformer.py:58: PerformanceWarning: DataFrame is highly fragmented.  This is usually the result of calling `frame.insert` many times, which has poor performance.  Consider joining all columns at once using pd.concat(axis=1) instead.  To get a de-fragmented frame, use `newframe = frame.copy()`\n",
      "  dt_transformed[col] = 0\n",
      "\n"
     ]
    },
    {
     "name": "stdout",
     "output_type": "stream",
     "text": [
      "Accuracy:                                                                                                              \n",
      "0.9615384615384615                                                                                                     \n",
      " 90%|███████████████████████████████████████████▏    | 9/10 [00:19<00:02,  2.05s/trial, best loss: -0.9730891335766015]"
     ]
    },
    {
     "name": "stderr",
     "output_type": "stream",
     "text": [
      "C:\\Users\\velmurug\\Documents\\full_stability\\transformers\\StaticTransformer.py:44: PerformanceWarning: DataFrame is highly fragmented.  This is usually the result of calling `frame.insert` many times, which has poor performance.  Consider joining all columns at once using pd.concat(axis=1) instead.  To get a de-fragmented frame, use `newframe = frame.copy()`\n",
      "  dt_transformed[col] = 0\n",
      "\n",
      "C:\\Users\\velmurug\\Documents\\full_stability\\transformers\\IndexBasedTransformer.py:58: PerformanceWarning: DataFrame is highly fragmented.  This is usually the result of calling `frame.insert` many times, which has poor performance.  Consider joining all columns at once using pd.concat(axis=1) instead.  To get a de-fragmented frame, use `newframe = frame.copy()`\n",
      "  dt_transformed[col] = 0\n",
      "\n"
     ]
    },
    {
     "name": "stdout",
     "output_type": "stream",
     "text": [
      "Accuracy:                                                                                                              \n",
      "0.9615384615384615                                                                                                     \n",
      " 90%|███████████████████████████████████████████▏    | 9/10 [00:20<00:02,  2.05s/trial, best loss: -0.9730891335766015]"
     ]
    },
    {
     "name": "stderr",
     "output_type": "stream",
     "text": [
      "C:\\Users\\velmurug\\Documents\\full_stability\\transformers\\StaticTransformer.py:44: PerformanceWarning: DataFrame is highly fragmented.  This is usually the result of calling `frame.insert` many times, which has poor performance.  Consider joining all columns at once using pd.concat(axis=1) instead.  To get a de-fragmented frame, use `newframe = frame.copy()`\n",
      "  dt_transformed[col] = 0\n",
      "\n",
      "C:\\Users\\velmurug\\Documents\\full_stability\\transformers\\IndexBasedTransformer.py:58: PerformanceWarning: DataFrame is highly fragmented.  This is usually the result of calling `frame.insert` many times, which has poor performance.  Consider joining all columns at once using pd.concat(axis=1) instead.  To get a de-fragmented frame, use `newframe = frame.copy()`\n",
      "  dt_transformed[col] = 0\n",
      "\n"
     ]
    },
    {
     "name": "stdout",
     "output_type": "stream",
     "text": [
      "Accuracy:                                                                                                              \n",
      "0.9565217391304348                                                                                                     \n",
      "100%|███████████████████████████████████████████████| 10/10 [00:20<00:00,  2.08s/trial, best loss: -0.9730891335766015]\n",
      "Optimising 9 of 20 buckets\n",
      "{'var_smoothing': 0.04328761281083057}                                                                                 \n",
      "  0%|                                                                           | 0/10 [00:00<?, ?trial/s, best loss=?]"
     ]
    },
    {
     "name": "stderr",
     "output_type": "stream",
     "text": [
      "C:\\Users\\velmurug\\Documents\\full_stability\\transformers\\StaticTransformer.py:44: PerformanceWarning: DataFrame is highly fragmented.  This is usually the result of calling `frame.insert` many times, which has poor performance.  Consider joining all columns at once using pd.concat(axis=1) instead.  To get a de-fragmented frame, use `newframe = frame.copy()`\n",
      "  dt_transformed[col] = 0\n",
      "\n",
      "C:\\Users\\velmurug\\Documents\\full_stability\\transformers\\IndexBasedTransformer.py:58: PerformanceWarning: DataFrame is highly fragmented.  This is usually the result of calling `frame.insert` many times, which has poor performance.  Consider joining all columns at once using pd.concat(axis=1) instead.  To get a de-fragmented frame, use `newframe = frame.copy()`\n",
      "  dt_transformed[col] = 0\n",
      "\n"
     ]
    },
    {
     "name": "stdout",
     "output_type": "stream",
     "text": [
      "Accuracy:                                                                                                              \n",
      "0.8504273504273504                                                                                                     \n",
      "  0%|                                                                           | 0/10 [00:00<?, ?trial/s, best loss=?]"
     ]
    },
    {
     "name": "stderr",
     "output_type": "stream",
     "text": [
      "C:\\Users\\velmurug\\Documents\\full_stability\\transformers\\StaticTransformer.py:44: PerformanceWarning: DataFrame is highly fragmented.  This is usually the result of calling `frame.insert` many times, which has poor performance.  Consider joining all columns at once using pd.concat(axis=1) instead.  To get a de-fragmented frame, use `newframe = frame.copy()`\n",
      "  dt_transformed[col] = 0\n",
      "\n",
      "C:\\Users\\velmurug\\Documents\\full_stability\\transformers\\IndexBasedTransformer.py:58: PerformanceWarning: DataFrame is highly fragmented.  This is usually the result of calling `frame.insert` many times, which has poor performance.  Consider joining all columns at once using pd.concat(axis=1) instead.  To get a de-fragmented frame, use `newframe = frame.copy()`\n",
      "  dt_transformed[col] = 0\n",
      "\n"
     ]
    },
    {
     "name": "stdout",
     "output_type": "stream",
     "text": [
      "Accuracy:                                                                                                              \n",
      "0.8701298701298701                                                                                                     \n",
      "  0%|                                                                           | 0/10 [00:01<?, ?trial/s, best loss=?]"
     ]
    },
    {
     "name": "stderr",
     "output_type": "stream",
     "text": [
      "C:\\Users\\velmurug\\Documents\\full_stability\\transformers\\StaticTransformer.py:44: PerformanceWarning: DataFrame is highly fragmented.  This is usually the result of calling `frame.insert` many times, which has poor performance.  Consider joining all columns at once using pd.concat(axis=1) instead.  To get a de-fragmented frame, use `newframe = frame.copy()`\n",
      "  dt_transformed[col] = 0\n",
      "\n",
      "C:\\Users\\velmurug\\Documents\\full_stability\\transformers\\IndexBasedTransformer.py:58: PerformanceWarning: DataFrame is highly fragmented.  This is usually the result of calling `frame.insert` many times, which has poor performance.  Consider joining all columns at once using pd.concat(axis=1) instead.  To get a de-fragmented frame, use `newframe = frame.copy()`\n",
      "  dt_transformed[col] = 0\n",
      "\n"
     ]
    },
    {
     "name": "stdout",
     "output_type": "stream",
     "text": [
      "Accuracy:                                                                                                              \n",
      "0.8418803418803419                                                                                                     \n",
      "{'var_smoothing': 0.0001}                                                                                              \n",
      " 10%|████▊                                           | 1/10 [00:02<00:21,  2.44s/trial, best loss: -0.8541458541458541]"
     ]
    },
    {
     "name": "stderr",
     "output_type": "stream",
     "text": [
      "C:\\Users\\velmurug\\Documents\\full_stability\\transformers\\StaticTransformer.py:44: PerformanceWarning: DataFrame is highly fragmented.  This is usually the result of calling `frame.insert` many times, which has poor performance.  Consider joining all columns at once using pd.concat(axis=1) instead.  To get a de-fragmented frame, use `newframe = frame.copy()`\n",
      "  dt_transformed[col] = 0\n",
      "\n",
      "C:\\Users\\velmurug\\Documents\\full_stability\\transformers\\IndexBasedTransformer.py:58: PerformanceWarning: DataFrame is highly fragmented.  This is usually the result of calling `frame.insert` many times, which has poor performance.  Consider joining all columns at once using pd.concat(axis=1) instead.  To get a de-fragmented frame, use `newframe = frame.copy()`\n",
      "  dt_transformed[col] = 0\n",
      "\n"
     ]
    },
    {
     "name": "stdout",
     "output_type": "stream",
     "text": [
      "Accuracy:                                                                                                              \n",
      "0.9685230024213075                                                                                                     \n",
      " 10%|████▊                                           | 1/10 [00:03<00:21,  2.44s/trial, best loss: -0.8541458541458541]"
     ]
    },
    {
     "name": "stderr",
     "output_type": "stream",
     "text": [
      "C:\\Users\\velmurug\\Documents\\full_stability\\transformers\\StaticTransformer.py:44: PerformanceWarning: DataFrame is highly fragmented.  This is usually the result of calling `frame.insert` many times, which has poor performance.  Consider joining all columns at once using pd.concat(axis=1) instead.  To get a de-fragmented frame, use `newframe = frame.copy()`\n",
      "  dt_transformed[col] = 0\n",
      "\n"
     ]
    },
    {
     "name": "stdout",
     "output_type": "stream",
     "text": [
      "Accuracy:                                                                                                              \n",
      "0.9686746987951808                                                                                                     \n",
      " 10%|████▊                                           | 1/10 [00:03<00:21,  2.44s/trial, best loss: -0.8541458541458541]"
     ]
    },
    {
     "name": "stderr",
     "output_type": "stream",
     "text": [
      "C:\\Users\\velmurug\\Documents\\full_stability\\transformers\\IndexBasedTransformer.py:58: PerformanceWarning: DataFrame is highly fragmented.  This is usually the result of calling `frame.insert` many times, which has poor performance.  Consider joining all columns at once using pd.concat(axis=1) instead.  To get a de-fragmented frame, use `newframe = frame.copy()`\n",
      "  dt_transformed[col] = 0\n",
      "\n",
      "C:\\Users\\velmurug\\Documents\\full_stability\\transformers\\StaticTransformer.py:44: PerformanceWarning: DataFrame is highly fragmented.  This is usually the result of calling `frame.insert` many times, which has poor performance.  Consider joining all columns at once using pd.concat(axis=1) instead.  To get a de-fragmented frame, use `newframe = frame.copy()`\n",
      "  dt_transformed[col] = 0\n",
      "\n",
      "C:\\Users\\velmurug\\Documents\\full_stability\\transformers\\IndexBasedTransformer.py:58: PerformanceWarning: DataFrame is highly fragmented.  This is usually the result of calling `frame.insert` many times, which has poor performance.  Consider joining all columns at once using pd.concat(axis=1) instead.  To get a de-fragmented frame, use `newframe = frame.copy()`\n",
      "  dt_transformed[col] = 0\n",
      "\n"
     ]
    },
    {
     "name": "stdout",
     "output_type": "stream",
     "text": [
      "Accuracy:                                                                                                              \n",
      "0.9507389162561576                                                                                                     \n",
      "{'var_smoothing': 6.579332246575683e-06}                                                                               \n",
      " 20%|█████████▌                                      | 2/10 [00:04<00:18,  2.35s/trial, best loss: -0.9626455391575486]"
     ]
    },
    {
     "name": "stderr",
     "output_type": "stream",
     "text": [
      "C:\\Users\\velmurug\\Documents\\full_stability\\transformers\\StaticTransformer.py:44: PerformanceWarning: DataFrame is highly fragmented.  This is usually the result of calling `frame.insert` many times, which has poor performance.  Consider joining all columns at once using pd.concat(axis=1) instead.  To get a de-fragmented frame, use `newframe = frame.copy()`\n",
      "  dt_transformed[col] = 0\n",
      "\n"
     ]
    },
    {
     "name": "stdout",
     "output_type": "stream",
     "text": [
      "Accuracy:                                                                                                              \n",
      "0.9584352078239609                                                                                                     \n",
      " 20%|█████████▌                                      | 2/10 [00:05<00:18,  2.35s/trial, best loss: -0.9626455391575486]"
     ]
    },
    {
     "name": "stderr",
     "output_type": "stream",
     "text": [
      "C:\\Users\\velmurug\\Documents\\full_stability\\transformers\\IndexBasedTransformer.py:58: PerformanceWarning: DataFrame is highly fragmented.  This is usually the result of calling `frame.insert` many times, which has poor performance.  Consider joining all columns at once using pd.concat(axis=1) instead.  To get a de-fragmented frame, use `newframe = frame.copy()`\n",
      "  dt_transformed[col] = 0\n",
      "\n",
      "C:\\Users\\velmurug\\Documents\\full_stability\\transformers\\StaticTransformer.py:44: PerformanceWarning: DataFrame is highly fragmented.  This is usually the result of calling `frame.insert` many times, which has poor performance.  Consider joining all columns at once using pd.concat(axis=1) instead.  To get a de-fragmented frame, use `newframe = frame.copy()`\n",
      "  dt_transformed[col] = 0\n",
      "\n",
      "C:\\Users\\velmurug\\Documents\\full_stability\\transformers\\IndexBasedTransformer.py:58: PerformanceWarning: DataFrame is highly fragmented.  This is usually the result of calling `frame.insert` many times, which has poor performance.  Consider joining all columns at once using pd.concat(axis=1) instead.  To get a de-fragmented frame, use `newframe = frame.copy()`\n",
      "  dt_transformed[col] = 0\n",
      "\n"
     ]
    },
    {
     "name": "stdout",
     "output_type": "stream",
     "text": [
      "Accuracy:                                                                                                              \n",
      "0.9611650485436893                                                                                                     \n",
      " 20%|█████████▌                                      | 2/10 [00:06<00:18,  2.35s/trial, best loss: -0.9626455391575486]"
     ]
    },
    {
     "name": "stderr",
     "output_type": "stream",
     "text": [
      "C:\\Users\\velmurug\\Documents\\full_stability\\transformers\\StaticTransformer.py:44: PerformanceWarning: DataFrame is highly fragmented.  This is usually the result of calling `frame.insert` many times, which has poor performance.  Consider joining all columns at once using pd.concat(axis=1) instead.  To get a de-fragmented frame, use `newframe = frame.copy()`\n",
      "  dt_transformed[col] = 0\n",
      "\n"
     ]
    },
    {
     "name": "stdout",
     "output_type": "stream",
     "text": [
      "Accuracy:                                                                                                              \n",
      "0.9533169533169533                                                                                                     \n",
      "{'var_smoothing': 1e-07}                                                                                               \n",
      " 30%|██████████████▍                                 | 3/10 [00:07<00:16,  2.31s/trial, best loss: -0.9626455391575486]"
     ]
    },
    {
     "name": "stderr",
     "output_type": "stream",
     "text": [
      "C:\\Users\\velmurug\\Documents\\full_stability\\transformers\\IndexBasedTransformer.py:58: PerformanceWarning: DataFrame is highly fragmented.  This is usually the result of calling `frame.insert` many times, which has poor performance.  Consider joining all columns at once using pd.concat(axis=1) instead.  To get a de-fragmented frame, use `newframe = frame.copy()`\n",
      "  dt_transformed[col] = 0\n",
      "\n",
      "C:\\Users\\velmurug\\Documents\\full_stability\\transformers\\StaticTransformer.py:44: PerformanceWarning: DataFrame is highly fragmented.  This is usually the result of calling `frame.insert` many times, which has poor performance.  Consider joining all columns at once using pd.concat(axis=1) instead.  To get a de-fragmented frame, use `newframe = frame.copy()`\n",
      "  dt_transformed[col] = 0\n",
      "\n",
      "C:\\Users\\velmurug\\Documents\\full_stability\\transformers\\IndexBasedTransformer.py:58: PerformanceWarning: DataFrame is highly fragmented.  This is usually the result of calling `frame.insert` many times, which has poor performance.  Consider joining all columns at once using pd.concat(axis=1) instead.  To get a de-fragmented frame, use `newframe = frame.copy()`\n",
      "  dt_transformed[col] = 0\n",
      "\n"
     ]
    },
    {
     "name": "stdout",
     "output_type": "stream",
     "text": [
      "Accuracy:                                                                                                              \n",
      "0.9759615384615384                                                                                                     \n",
      " 30%|██████████████▍                                 | 3/10 [00:07<00:16,  2.31s/trial, best loss: -0.9626455391575486]"
     ]
    },
    {
     "name": "stderr",
     "output_type": "stream",
     "text": [
      "C:\\Users\\velmurug\\Documents\\full_stability\\transformers\\StaticTransformer.py:44: PerformanceWarning: DataFrame is highly fragmented.  This is usually the result of calling `frame.insert` many times, which has poor performance.  Consider joining all columns at once using pd.concat(axis=1) instead.  To get a de-fragmented frame, use `newframe = frame.copy()`\n",
      "  dt_transformed[col] = 0\n",
      "\n",
      "C:\\Users\\velmurug\\Documents\\full_stability\\transformers\\IndexBasedTransformer.py:58: PerformanceWarning: DataFrame is highly fragmented.  This is usually the result of calling `frame.insert` many times, which has poor performance.  Consider joining all columns at once using pd.concat(axis=1) instead.  To get a de-fragmented frame, use `newframe = frame.copy()`\n",
      "  dt_transformed[col] = 0\n",
      "\n"
     ]
    },
    {
     "name": "stdout",
     "output_type": "stream",
     "text": [
      "Accuracy:                                                                                                              \n",
      "0.9509803921568627                                                                                                     \n",
      " 30%|██████████████▍                                 | 3/10 [00:08<00:16,  2.31s/trial, best loss: -0.9626455391575486]"
     ]
    },
    {
     "name": "stderr",
     "output_type": "stream",
     "text": [
      "C:\\Users\\velmurug\\Documents\\full_stability\\transformers\\StaticTransformer.py:44: PerformanceWarning: DataFrame is highly fragmented.  This is usually the result of calling `frame.insert` many times, which has poor performance.  Consider joining all columns at once using pd.concat(axis=1) instead.  To get a de-fragmented frame, use `newframe = frame.copy()`\n",
      "  dt_transformed[col] = 0\n",
      "\n",
      "C:\\Users\\velmurug\\Documents\\full_stability\\transformers\\IndexBasedTransformer.py:58: PerformanceWarning: DataFrame is highly fragmented.  This is usually the result of calling `frame.insert` many times, which has poor performance.  Consider joining all columns at once using pd.concat(axis=1) instead.  To get a de-fragmented frame, use `newframe = frame.copy()`\n",
      "  dt_transformed[col] = 0\n",
      "\n"
     ]
    },
    {
     "name": "stdout",
     "output_type": "stream",
     "text": [
      "Accuracy:                                                                                                              \n",
      "0.9660194174757283                                                                                                     \n",
      "{'var_smoothing': 4.328761281083053e-06}                                                                               \n",
      " 40%|███████████████████▏                            | 4/10 [00:09<00:14,  2.39s/trial, best loss: -0.9643204493647098]"
     ]
    },
    {
     "name": "stderr",
     "output_type": "stream",
     "text": [
      "C:\\Users\\velmurug\\Documents\\full_stability\\transformers\\StaticTransformer.py:44: PerformanceWarning: DataFrame is highly fragmented.  This is usually the result of calling `frame.insert` many times, which has poor performance.  Consider joining all columns at once using pd.concat(axis=1) instead.  To get a de-fragmented frame, use `newframe = frame.copy()`\n",
      "  dt_transformed[col] = 0\n",
      "\n",
      "C:\\Users\\velmurug\\Documents\\full_stability\\transformers\\IndexBasedTransformer.py:58: PerformanceWarning: DataFrame is highly fragmented.  This is usually the result of calling `frame.insert` many times, which has poor performance.  Consider joining all columns at once using pd.concat(axis=1) instead.  To get a de-fragmented frame, use `newframe = frame.copy()`\n",
      "  dt_transformed[col] = 0\n",
      "\n"
     ]
    },
    {
     "name": "stdout",
     "output_type": "stream",
     "text": [
      "Accuracy:                                                                                                              \n",
      "0.9455445544554456                                                                                                     \n",
      " 40%|███████████████████▏                            | 4/10 [00:10<00:14,  2.39s/trial, best loss: -0.9643204493647098]"
     ]
    },
    {
     "name": "stderr",
     "output_type": "stream",
     "text": [
      "C:\\Users\\velmurug\\Documents\\full_stability\\transformers\\StaticTransformer.py:44: PerformanceWarning: DataFrame is highly fragmented.  This is usually the result of calling `frame.insert` many times, which has poor performance.  Consider joining all columns at once using pd.concat(axis=1) instead.  To get a de-fragmented frame, use `newframe = frame.copy()`\n",
      "  dt_transformed[col] = 0\n",
      "\n",
      "C:\\Users\\velmurug\\Documents\\full_stability\\transformers\\IndexBasedTransformer.py:58: PerformanceWarning: DataFrame is highly fragmented.  This is usually the result of calling `frame.insert` many times, which has poor performance.  Consider joining all columns at once using pd.concat(axis=1) instead.  To get a de-fragmented frame, use `newframe = frame.copy()`\n",
      "  dt_transformed[col] = 0\n",
      "\n"
     ]
    },
    {
     "name": "stdout",
     "output_type": "stream",
     "text": [
      "Accuracy:                                                                                                              \n",
      "0.9686746987951808                                                                                                     \n",
      " 40%|███████████████████▏                            | 4/10 [00:11<00:14,  2.39s/trial, best loss: -0.9643204493647098]"
     ]
    },
    {
     "name": "stderr",
     "output_type": "stream",
     "text": [
      "C:\\Users\\velmurug\\Documents\\full_stability\\transformers\\StaticTransformer.py:44: PerformanceWarning: DataFrame is highly fragmented.  This is usually the result of calling `frame.insert` many times, which has poor performance.  Consider joining all columns at once using pd.concat(axis=1) instead.  To get a de-fragmented frame, use `newframe = frame.copy()`\n",
      "  dt_transformed[col] = 0\n",
      "\n",
      "C:\\Users\\velmurug\\Documents\\full_stability\\transformers\\IndexBasedTransformer.py:58: PerformanceWarning: DataFrame is highly fragmented.  This is usually the result of calling `frame.insert` many times, which has poor performance.  Consider joining all columns at once using pd.concat(axis=1) instead.  To get a de-fragmented frame, use `newframe = frame.copy()`\n",
      "  dt_transformed[col] = 0\n",
      "\n"
     ]
    },
    {
     "name": "stdout",
     "output_type": "stream",
     "text": [
      "Accuracy:                                                                                                              \n",
      "0.9609756097560975                                                                                                     \n",
      "{'var_smoothing': 1.2328467394420635e-09}                                                                              \n",
      " 50%|████████████████████████                        | 5/10 [00:11<00:11,  2.36s/trial, best loss: -0.9643204493647098]"
     ]
    },
    {
     "name": "stderr",
     "output_type": "stream",
     "text": [
      "C:\\Users\\velmurug\\Documents\\full_stability\\transformers\\StaticTransformer.py:44: PerformanceWarning: DataFrame is highly fragmented.  This is usually the result of calling `frame.insert` many times, which has poor performance.  Consider joining all columns at once using pd.concat(axis=1) instead.  To get a de-fragmented frame, use `newframe = frame.copy()`\n",
      "  dt_transformed[col] = 0\n",
      "\n",
      "C:\\Users\\velmurug\\Documents\\full_stability\\transformers\\IndexBasedTransformer.py:58: PerformanceWarning: DataFrame is highly fragmented.  This is usually the result of calling `frame.insert` many times, which has poor performance.  Consider joining all columns at once using pd.concat(axis=1) instead.  To get a de-fragmented frame, use `newframe = frame.copy()`\n",
      "  dt_transformed[col] = 0\n",
      "\n"
     ]
    },
    {
     "name": "stdout",
     "output_type": "stream",
     "text": [
      "Accuracy:                                                                                                              \n",
      "0.9759615384615384                                                                                                     \n",
      " 50%|████████████████████████                        | 5/10 [00:12<00:11,  2.36s/trial, best loss: -0.9643204493647098]"
     ]
    },
    {
     "name": "stderr",
     "output_type": "stream",
     "text": [
      "C:\\Users\\velmurug\\Documents\\full_stability\\transformers\\StaticTransformer.py:44: PerformanceWarning: DataFrame is highly fragmented.  This is usually the result of calling `frame.insert` many times, which has poor performance.  Consider joining all columns at once using pd.concat(axis=1) instead.  To get a de-fragmented frame, use `newframe = frame.copy()`\n",
      "  dt_transformed[col] = 0\n",
      "\n"
     ]
    },
    {
     "name": "stdout",
     "output_type": "stream",
     "text": [
      "Accuracy:                                                                                                              \n",
      " 50%|████████████████████████                        | 5/10 [00:13<00:11,  2.36s/trial, best loss: -0.9643204493647098]"
     ]
    },
    {
     "name": "stderr",
     "output_type": "stream",
     "text": [
      "C:\\Users\\velmurug\\Documents\\full_stability\\transformers\\IndexBasedTransformer.py:58: PerformanceWarning: DataFrame is highly fragmented.  This is usually the result of calling `frame.insert` many times, which has poor performance.  Consider joining all columns at once using pd.concat(axis=1) instead.  To get a de-fragmented frame, use `newframe = frame.copy()`\n",
      "  dt_transformed[col] = 0\n",
      "\n"
     ]
    },
    {
     "name": "stdout",
     "output_type": "stream",
     "text": [
      "0.9560975609756098                                                                                                     \n",
      " 50%|████████████████████████                        | 5/10 [00:13<00:11,  2.36s/trial, best loss: -0.9643204493647098]"
     ]
    },
    {
     "name": "stderr",
     "output_type": "stream",
     "text": [
      "C:\\Users\\velmurug\\Documents\\full_stability\\transformers\\StaticTransformer.py:44: PerformanceWarning: DataFrame is highly fragmented.  This is usually the result of calling `frame.insert` many times, which has poor performance.  Consider joining all columns at once using pd.concat(axis=1) instead.  To get a de-fragmented frame, use `newframe = frame.copy()`\n",
      "  dt_transformed[col] = 0\n",
      "\n",
      "C:\\Users\\velmurug\\Documents\\full_stability\\transformers\\IndexBasedTransformer.py:58: PerformanceWarning: DataFrame is highly fragmented.  This is usually the result of calling `frame.insert` many times, which has poor performance.  Consider joining all columns at once using pd.concat(axis=1) instead.  To get a de-fragmented frame, use `newframe = frame.copy()`\n",
      "  dt_transformed[col] = 0\n",
      "\n"
     ]
    },
    {
     "name": "stdout",
     "output_type": "stream",
     "text": [
      "Accuracy:                                                                                                              \n",
      "0.9558823529411764                                                                                                     \n",
      "{'var_smoothing': 5.336699231206313e-06}                                                                               \n",
      " 60%|████████████████████████████▊                   | 6/10 [00:14<00:09,  2.35s/trial, best loss: -0.9643204493647098]"
     ]
    },
    {
     "name": "stderr",
     "output_type": "stream",
     "text": [
      "C:\\Users\\velmurug\\Documents\\full_stability\\transformers\\StaticTransformer.py:44: PerformanceWarning: DataFrame is highly fragmented.  This is usually the result of calling `frame.insert` many times, which has poor performance.  Consider joining all columns at once using pd.concat(axis=1) instead.  To get a de-fragmented frame, use `newframe = frame.copy()`\n",
      "  dt_transformed[col] = 0\n",
      "\n",
      "C:\\Users\\velmurug\\Documents\\full_stability\\transformers\\IndexBasedTransformer.py:58: PerformanceWarning: DataFrame is highly fragmented.  This is usually the result of calling `frame.insert` many times, which has poor performance.  Consider joining all columns at once using pd.concat(axis=1) instead.  To get a de-fragmented frame, use `newframe = frame.copy()`\n",
      "  dt_transformed[col] = 0\n",
      "\n"
     ]
    },
    {
     "name": "stdout",
     "output_type": "stream",
     "text": [
      "Accuracy:                                                                                                              \n",
      "0.9685230024213075                                                                                                     \n",
      " 60%|████████████████████████████▊                   | 6/10 [00:14<00:09,  2.35s/trial, best loss: -0.9643204493647098]"
     ]
    },
    {
     "name": "stderr",
     "output_type": "stream",
     "text": [
      "C:\\Users\\velmurug\\Documents\\full_stability\\transformers\\StaticTransformer.py:44: PerformanceWarning: DataFrame is highly fragmented.  This is usually the result of calling `frame.insert` many times, which has poor performance.  Consider joining all columns at once using pd.concat(axis=1) instead.  To get a de-fragmented frame, use `newframe = frame.copy()`\n",
      "  dt_transformed[col] = 0\n",
      "\n"
     ]
    },
    {
     "name": "stdout",
     "output_type": "stream",
     "text": [
      "Accuracy:                                                                                                              \n",
      "0.973621103117506                                                                                                      \n",
      " 60%|████████████████████████████▊                   | 6/10 [00:15<00:09,  2.35s/trial, best loss: -0.9643204493647098]"
     ]
    },
    {
     "name": "stderr",
     "output_type": "stream",
     "text": [
      "C:\\Users\\velmurug\\Documents\\full_stability\\transformers\\IndexBasedTransformer.py:58: PerformanceWarning: DataFrame is highly fragmented.  This is usually the result of calling `frame.insert` many times, which has poor performance.  Consider joining all columns at once using pd.concat(axis=1) instead.  To get a de-fragmented frame, use `newframe = frame.copy()`\n",
      "  dt_transformed[col] = 0\n",
      "\n",
      "C:\\Users\\velmurug\\Documents\\full_stability\\transformers\\StaticTransformer.py:44: PerformanceWarning: DataFrame is highly fragmented.  This is usually the result of calling `frame.insert` many times, which has poor performance.  Consider joining all columns at once using pd.concat(axis=1) instead.  To get a de-fragmented frame, use `newframe = frame.copy()`\n",
      "  dt_transformed[col] = 0\n",
      "\n"
     ]
    },
    {
     "name": "stdout",
     "output_type": "stream",
     "text": [
      "Accuracy:                                                                                                              \n",
      "0.9685230024213075                                                                                                     \n",
      "{'var_smoothing': 0.0004328761281083057}                                                                               \n",
      " 70%|█████████████████████████████████▌              | 7/10 [00:16<00:07,  2.34s/trial, best loss: -0.9702223693200404]"
     ]
    },
    {
     "name": "stderr",
     "output_type": "stream",
     "text": [
      "C:\\Users\\velmurug\\Documents\\full_stability\\transformers\\IndexBasedTransformer.py:58: PerformanceWarning: DataFrame is highly fragmented.  This is usually the result of calling `frame.insert` many times, which has poor performance.  Consider joining all columns at once using pd.concat(axis=1) instead.  To get a de-fragmented frame, use `newframe = frame.copy()`\n",
      "  dt_transformed[col] = 0\n",
      "\n",
      "C:\\Users\\velmurug\\Documents\\full_stability\\transformers\\StaticTransformer.py:44: PerformanceWarning: DataFrame is highly fragmented.  This is usually the result of calling `frame.insert` many times, which has poor performance.  Consider joining all columns at once using pd.concat(axis=1) instead.  To get a de-fragmented frame, use `newframe = frame.copy()`\n",
      "  dt_transformed[col] = 0\n",
      "\n",
      "C:\\Users\\velmurug\\Documents\\full_stability\\transformers\\IndexBasedTransformer.py:58: PerformanceWarning: DataFrame is highly fragmented.  This is usually the result of calling `frame.insert` many times, which has poor performance.  Consider joining all columns at once using pd.concat(axis=1) instead.  To get a de-fragmented frame, use `newframe = frame.copy()`\n",
      "  dt_transformed[col] = 0\n",
      "\n"
     ]
    },
    {
     "name": "stdout",
     "output_type": "stream",
     "text": [
      "Accuracy:                                                                                                              \n",
      "0.9584352078239609                                                                                                     \n",
      " 70%|█████████████████████████████████▌              | 7/10 [00:17<00:07,  2.34s/trial, best loss: -0.9702223693200404]"
     ]
    },
    {
     "name": "stderr",
     "output_type": "stream",
     "text": [
      "C:\\Users\\velmurug\\Documents\\full_stability\\transformers\\StaticTransformer.py:44: PerformanceWarning: DataFrame is highly fragmented.  This is usually the result of calling `frame.insert` many times, which has poor performance.  Consider joining all columns at once using pd.concat(axis=1) instead.  To get a de-fragmented frame, use `newframe = frame.copy()`\n",
      "  dt_transformed[col] = 0\n",
      "\n"
     ]
    },
    {
     "name": "stdout",
     "output_type": "stream",
     "text": [
      "Accuracy:                                                                                                              \n",
      "0.9611650485436893                                                                                                     \n",
      " 70%|█████████████████████████████████▌              | 7/10 [00:17<00:07,  2.34s/trial, best loss: -0.9702223693200404]"
     ]
    },
    {
     "name": "stderr",
     "output_type": "stream",
     "text": [
      "C:\\Users\\velmurug\\Documents\\full_stability\\transformers\\IndexBasedTransformer.py:58: PerformanceWarning: DataFrame is highly fragmented.  This is usually the result of calling `frame.insert` many times, which has poor performance.  Consider joining all columns at once using pd.concat(axis=1) instead.  To get a de-fragmented frame, use `newframe = frame.copy()`\n",
      "  dt_transformed[col] = 0\n",
      "\n",
      "C:\\Users\\velmurug\\Documents\\full_stability\\transformers\\StaticTransformer.py:44: PerformanceWarning: DataFrame is highly fragmented.  This is usually the result of calling `frame.insert` many times, which has poor performance.  Consider joining all columns at once using pd.concat(axis=1) instead.  To get a de-fragmented frame, use `newframe = frame.copy()`\n",
      "  dt_transformed[col] = 0\n",
      "\n",
      "C:\\Users\\velmurug\\Documents\\full_stability\\transformers\\IndexBasedTransformer.py:58: PerformanceWarning: DataFrame is highly fragmented.  This is usually the result of calling `frame.insert` many times, which has poor performance.  Consider joining all columns at once using pd.concat(axis=1) instead.  To get a de-fragmented frame, use `newframe = frame.copy()`\n",
      "  dt_transformed[col] = 0\n",
      "\n"
     ]
    },
    {
     "name": "stdout",
     "output_type": "stream",
     "text": [
      "Accuracy:                                                                                                              \n",
      "0.9296482412060302                                                                                                     \n",
      "{'var_smoothing': 1.5199110829529332e-05}                                                                              \n",
      " 80%|██████████████████████████████████████▍         | 8/10 [00:18<00:04,  2.31s/trial, best loss: -0.9702223693200404]"
     ]
    },
    {
     "name": "stderr",
     "output_type": "stream",
     "text": [
      "C:\\Users\\velmurug\\Documents\\full_stability\\transformers\\StaticTransformer.py:44: PerformanceWarning: DataFrame is highly fragmented.  This is usually the result of calling `frame.insert` many times, which has poor performance.  Consider joining all columns at once using pd.concat(axis=1) instead.  To get a de-fragmented frame, use `newframe = frame.copy()`\n",
      "  dt_transformed[col] = 0\n",
      "\n",
      "C:\\Users\\velmurug\\Documents\\full_stability\\transformers\\IndexBasedTransformer.py:58: PerformanceWarning: DataFrame is highly fragmented.  This is usually the result of calling `frame.insert` many times, which has poor performance.  Consider joining all columns at once using pd.concat(axis=1) instead.  To get a de-fragmented frame, use `newframe = frame.copy()`\n",
      "  dt_transformed[col] = 0\n",
      "\n"
     ]
    },
    {
     "name": "stdout",
     "output_type": "stream",
     "text": [
      "Accuracy:                                                                                                              \n",
      "0.9635036496350364                                                                                                     \n",
      " 80%|██████████████████████████████████████▍         | 8/10 [00:19<00:04,  2.31s/trial, best loss: -0.9702223693200404]"
     ]
    },
    {
     "name": "stderr",
     "output_type": "stream",
     "text": [
      "C:\\Users\\velmurug\\Documents\\full_stability\\transformers\\StaticTransformer.py:44: PerformanceWarning: DataFrame is highly fragmented.  This is usually the result of calling `frame.insert` many times, which has poor performance.  Consider joining all columns at once using pd.concat(axis=1) instead.  To get a de-fragmented frame, use `newframe = frame.copy()`\n",
      "  dt_transformed[col] = 0\n",
      "\n",
      "C:\\Users\\velmurug\\Documents\\full_stability\\transformers\\IndexBasedTransformer.py:58: PerformanceWarning: DataFrame is highly fragmented.  This is usually the result of calling `frame.insert` many times, which has poor performance.  Consider joining all columns at once using pd.concat(axis=1) instead.  To get a de-fragmented frame, use `newframe = frame.copy()`\n",
      "  dt_transformed[col] = 0\n",
      "\n"
     ]
    },
    {
     "name": "stdout",
     "output_type": "stream",
     "text": [
      "Accuracy:                                                                                                              \n",
      "0.9760765550239235                                                                                                     \n",
      " 80%|██████████████████████████████████████▍         | 8/10 [00:20<00:04,  2.31s/trial, best loss: -0.9702223693200404]"
     ]
    },
    {
     "name": "stderr",
     "output_type": "stream",
     "text": [
      "C:\\Users\\velmurug\\Documents\\full_stability\\transformers\\StaticTransformer.py:44: PerformanceWarning: DataFrame is highly fragmented.  This is usually the result of calling `frame.insert` many times, which has poor performance.  Consider joining all columns at once using pd.concat(axis=1) instead.  To get a de-fragmented frame, use `newframe = frame.copy()`\n",
      "  dt_transformed[col] = 0\n",
      "\n",
      "C:\\Users\\velmurug\\Documents\\full_stability\\transformers\\IndexBasedTransformer.py:58: PerformanceWarning: DataFrame is highly fragmented.  This is usually the result of calling `frame.insert` many times, which has poor performance.  Consider joining all columns at once using pd.concat(axis=1) instead.  To get a de-fragmented frame, use `newframe = frame.copy()`\n",
      "  dt_transformed[col] = 0\n",
      "\n"
     ]
    },
    {
     "name": "stdout",
     "output_type": "stream",
     "text": [
      "Accuracy:                                                                                                              \n",
      "0.9609756097560975                                                                                                     \n",
      "{'var_smoothing': 6.579332246575682e-09}                                                                               \n",
      " 90%|███████████████████████████████████████████▏    | 9/10 [00:21<00:02,  2.31s/trial, best loss: -0.9702223693200404]"
     ]
    },
    {
     "name": "stderr",
     "output_type": "stream",
     "text": [
      "C:\\Users\\velmurug\\Documents\\full_stability\\transformers\\StaticTransformer.py:44: PerformanceWarning: DataFrame is highly fragmented.  This is usually the result of calling `frame.insert` many times, which has poor performance.  Consider joining all columns at once using pd.concat(axis=1) instead.  To get a de-fragmented frame, use `newframe = frame.copy()`\n",
      "  dt_transformed[col] = 0\n",
      "\n",
      "C:\\Users\\velmurug\\Documents\\full_stability\\transformers\\IndexBasedTransformer.py:58: PerformanceWarning: DataFrame is highly fragmented.  This is usually the result of calling `frame.insert` many times, which has poor performance.  Consider joining all columns at once using pd.concat(axis=1) instead.  To get a de-fragmented frame, use `newframe = frame.copy()`\n",
      "  dt_transformed[col] = 0\n",
      "\n"
     ]
    },
    {
     "name": "stdout",
     "output_type": "stream",
     "text": [
      "Accuracy:                                                                                                              \n",
      "0.9759615384615384                                                                                                     \n",
      " 90%|███████████████████████████████████████████▏    | 9/10 [00:21<00:02,  2.31s/trial, best loss: -0.9702223693200404]"
     ]
    },
    {
     "name": "stderr",
     "output_type": "stream",
     "text": [
      "C:\\Users\\velmurug\\Documents\\full_stability\\transformers\\StaticTransformer.py:44: PerformanceWarning: DataFrame is highly fragmented.  This is usually the result of calling `frame.insert` many times, which has poor performance.  Consider joining all columns at once using pd.concat(axis=1) instead.  To get a de-fragmented frame, use `newframe = frame.copy()`\n",
      "  dt_transformed[col] = 0\n",
      "\n",
      "C:\\Users\\velmurug\\Documents\\full_stability\\transformers\\IndexBasedTransformer.py:58: PerformanceWarning: DataFrame is highly fragmented.  This is usually the result of calling `frame.insert` many times, which has poor performance.  Consider joining all columns at once using pd.concat(axis=1) instead.  To get a de-fragmented frame, use `newframe = frame.copy()`\n",
      "  dt_transformed[col] = 0\n",
      "\n"
     ]
    },
    {
     "name": "stdout",
     "output_type": "stream",
     "text": [
      "Accuracy:                                                                                                              \n",
      "0.9711538461538461                                                                                                     \n",
      " 90%|███████████████████████████████████████████▏    | 9/10 [00:22<00:02,  2.31s/trial, best loss: -0.9702223693200404]"
     ]
    },
    {
     "name": "stderr",
     "output_type": "stream",
     "text": [
      "C:\\Users\\velmurug\\Documents\\full_stability\\transformers\\StaticTransformer.py:44: PerformanceWarning: DataFrame is highly fragmented.  This is usually the result of calling `frame.insert` many times, which has poor performance.  Consider joining all columns at once using pd.concat(axis=1) instead.  To get a de-fragmented frame, use `newframe = frame.copy()`\n",
      "  dt_transformed[col] = 0\n",
      "\n",
      "C:\\Users\\velmurug\\Documents\\full_stability\\transformers\\IndexBasedTransformer.py:58: PerformanceWarning: DataFrame is highly fragmented.  This is usually the result of calling `frame.insert` many times, which has poor performance.  Consider joining all columns at once using pd.concat(axis=1) instead.  To get a de-fragmented frame, use `newframe = frame.copy()`\n",
      "  dt_transformed[col] = 0\n",
      "\n"
     ]
    },
    {
     "name": "stdout",
     "output_type": "stream",
     "text": [
      "Accuracy:                                                                                                              \n",
      "0.9635036496350364                                                                                                     \n",
      "100%|███████████████████████████████████████████████| 10/10 [00:23<00:00,  2.35s/trial, best loss: -0.9702223693200404]\n",
      "Optimising 10 of 20 buckets\n",
      "{'var_smoothing': 6.579332246575683e-06}                                                                               \n",
      "  0%|                                                                           | 0/10 [00:00<?, ?trial/s, best loss=?]"
     ]
    },
    {
     "name": "stderr",
     "output_type": "stream",
     "text": [
      "C:\\Users\\velmurug\\Documents\\full_stability\\transformers\\StaticTransformer.py:44: PerformanceWarning: DataFrame is highly fragmented.  This is usually the result of calling `frame.insert` many times, which has poor performance.  Consider joining all columns at once using pd.concat(axis=1) instead.  To get a de-fragmented frame, use `newframe = frame.copy()`\n",
      "  dt_transformed[col] = 0\n",
      "\n",
      "C:\\Users\\velmurug\\Documents\\full_stability\\transformers\\IndexBasedTransformer.py:58: PerformanceWarning: DataFrame is highly fragmented.  This is usually the result of calling `frame.insert` many times, which has poor performance.  Consider joining all columns at once using pd.concat(axis=1) instead.  To get a de-fragmented frame, use `newframe = frame.copy()`\n",
      "  dt_transformed[col] = 0\n",
      "\n"
     ]
    },
    {
     "name": "stdout",
     "output_type": "stream",
     "text": [
      "Accuracy:                                                                                                              \n",
      "0.9528535980148882                                                                                                     \n",
      "  0%|                                                                           | 0/10 [00:00<?, ?trial/s, best loss=?]"
     ]
    },
    {
     "name": "stderr",
     "output_type": "stream",
     "text": [
      "C:\\Users\\velmurug\\Documents\\full_stability\\transformers\\StaticTransformer.py:44: PerformanceWarning: DataFrame is highly fragmented.  This is usually the result of calling `frame.insert` many times, which has poor performance.  Consider joining all columns at once using pd.concat(axis=1) instead.  To get a de-fragmented frame, use `newframe = frame.copy()`\n",
      "  dt_transformed[col] = 0\n",
      "\n"
     ]
    },
    {
     "name": "stdout",
     "output_type": "stream",
     "text": [
      "Accuracy:                                                                                                              \n",
      "                                                                                                                       "
     ]
    },
    {
     "name": "stderr",
     "output_type": "stream",
     "text": [
      "C:\\Users\\velmurug\\Documents\\full_stability\\transformers\\IndexBasedTransformer.py:58: PerformanceWarning: DataFrame is highly fragmented.  This is usually the result of calling `frame.insert` many times, which has poor performance.  Consider joining all columns at once using pd.concat(axis=1) instead.  To get a de-fragmented frame, use `newframe = frame.copy()`\n",
      "  dt_transformed[col] = 0\n",
      "\n"
     ]
    },
    {
     "name": "stdout",
     "output_type": "stream",
     "text": [
      "0.9656862745098039\n",
      "  0%|                                                                           | 0/10 [00:01<?, ?trial/s, best loss=?]"
     ]
    },
    {
     "name": "stderr",
     "output_type": "stream",
     "text": [
      "C:\\Users\\velmurug\\Documents\\full_stability\\transformers\\StaticTransformer.py:44: PerformanceWarning: DataFrame is highly fragmented.  This is usually the result of calling `frame.insert` many times, which has poor performance.  Consider joining all columns at once using pd.concat(axis=1) instead.  To get a de-fragmented frame, use `newframe = frame.copy()`\n",
      "  dt_transformed[col] = 0\n",
      "\n",
      "C:\\Users\\velmurug\\Documents\\full_stability\\transformers\\IndexBasedTransformer.py:58: PerformanceWarning: DataFrame is highly fragmented.  This is usually the result of calling `frame.insert` many times, which has poor performance.  Consider joining all columns at once using pd.concat(axis=1) instead.  To get a de-fragmented frame, use `newframe = frame.copy()`\n",
      "  dt_transformed[col] = 0\n",
      "\n"
     ]
    },
    {
     "name": "stdout",
     "output_type": "stream",
     "text": [
      "Accuracy:                                                                                                              \n",
      "0.975609756097561                                                                                                      \n",
      "{'var_smoothing': 0.03511191734215131}                                                                                 \n",
      " 10%|████▊                                           | 1/10 [00:02<00:22,  2.46s/trial, best loss: -0.9647165428740844]"
     ]
    },
    {
     "name": "stderr",
     "output_type": "stream",
     "text": [
      "C:\\Users\\velmurug\\Documents\\full_stability\\transformers\\StaticTransformer.py:44: PerformanceWarning: DataFrame is highly fragmented.  This is usually the result of calling `frame.insert` many times, which has poor performance.  Consider joining all columns at once using pd.concat(axis=1) instead.  To get a de-fragmented frame, use `newframe = frame.copy()`\n",
      "  dt_transformed[col] = 0\n",
      "\n",
      "C:\\Users\\velmurug\\Documents\\full_stability\\transformers\\IndexBasedTransformer.py:58: PerformanceWarning: DataFrame is highly fragmented.  This is usually the result of calling `frame.insert` many times, which has poor performance.  Consider joining all columns at once using pd.concat(axis=1) instead.  To get a de-fragmented frame, use `newframe = frame.copy()`\n",
      "  dt_transformed[col] = 0\n",
      "\n"
     ]
    },
    {
     "name": "stdout",
     "output_type": "stream",
     "text": [
      "Accuracy:                                                                                                              \n",
      "0.8278867102396514                                                                                                     \n",
      " 10%|████▊                                           | 1/10 [00:03<00:22,  2.46s/trial, best loss: -0.9647165428740844]"
     ]
    },
    {
     "name": "stderr",
     "output_type": "stream",
     "text": [
      "C:\\Users\\velmurug\\Documents\\full_stability\\transformers\\StaticTransformer.py:44: PerformanceWarning: DataFrame is highly fragmented.  This is usually the result of calling `frame.insert` many times, which has poor performance.  Consider joining all columns at once using pd.concat(axis=1) instead.  To get a de-fragmented frame, use `newframe = frame.copy()`\n",
      "  dt_transformed[col] = 0\n",
      "\n",
      "C:\\Users\\velmurug\\Documents\\full_stability\\transformers\\IndexBasedTransformer.py:58: PerformanceWarning: DataFrame is highly fragmented.  This is usually the result of calling `frame.insert` many times, which has poor performance.  Consider joining all columns at once using pd.concat(axis=1) instead.  To get a de-fragmented frame, use `newframe = frame.copy()`\n",
      "  dt_transformed[col] = 0\n",
      "\n"
     ]
    },
    {
     "name": "stdout",
     "output_type": "stream",
     "text": [
      "Accuracy:                                                                                                              \n",
      "0.8515283842794761                                                                                                     \n",
      " 10%|████▊                                           | 1/10 [00:04<00:22,  2.46s/trial, best loss: -0.9647165428740844]"
     ]
    },
    {
     "name": "stderr",
     "output_type": "stream",
     "text": [
      "C:\\Users\\velmurug\\Documents\\full_stability\\transformers\\StaticTransformer.py:44: PerformanceWarning: DataFrame is highly fragmented.  This is usually the result of calling `frame.insert` many times, which has poor performance.  Consider joining all columns at once using pd.concat(axis=1) instead.  To get a de-fragmented frame, use `newframe = frame.copy()`\n",
      "  dt_transformed[col] = 0\n",
      "\n",
      "C:\\Users\\velmurug\\Documents\\full_stability\\transformers\\IndexBasedTransformer.py:58: PerformanceWarning: DataFrame is highly fragmented.  This is usually the result of calling `frame.insert` many times, which has poor performance.  Consider joining all columns at once using pd.concat(axis=1) instead.  To get a de-fragmented frame, use `newframe = frame.copy()`\n",
      "  dt_transformed[col] = 0\n",
      "\n"
     ]
    },
    {
     "name": "stdout",
     "output_type": "stream",
     "text": [
      "Accuracy:                                                                                                              \n",
      "0.860813704496788                                                                                                      \n",
      "{'var_smoothing': 8.111308307896873e-08}                                                                               \n",
      " 20%|█████████▌                                      | 2/10 [00:04<00:19,  2.50s/trial, best loss: -0.9647165428740844]"
     ]
    },
    {
     "name": "stderr",
     "output_type": "stream",
     "text": [
      "C:\\Users\\velmurug\\Documents\\full_stability\\transformers\\StaticTransformer.py:44: PerformanceWarning: DataFrame is highly fragmented.  This is usually the result of calling `frame.insert` many times, which has poor performance.  Consider joining all columns at once using pd.concat(axis=1) instead.  To get a de-fragmented frame, use `newframe = frame.copy()`\n",
      "  dt_transformed[col] = 0\n",
      "\n",
      "C:\\Users\\velmurug\\Documents\\full_stability\\transformers\\IndexBasedTransformer.py:58: PerformanceWarning: DataFrame is highly fragmented.  This is usually the result of calling `frame.insert` many times, which has poor performance.  Consider joining all columns at once using pd.concat(axis=1) instead.  To get a de-fragmented frame, use `newframe = frame.copy()`\n",
      "  dt_transformed[col] = 0\n",
      "\n"
     ]
    },
    {
     "name": "stdout",
     "output_type": "stream",
     "text": [
      "Accuracy:                                                                                                              \n",
      "0.9707317073170733                                                                                                     \n",
      " 20%|█████████▌                                      | 2/10 [00:05<00:19,  2.50s/trial, best loss: -0.9647165428740844]"
     ]
    },
    {
     "name": "stderr",
     "output_type": "stream",
     "text": [
      "C:\\Users\\velmurug\\Documents\\full_stability\\transformers\\StaticTransformer.py:44: PerformanceWarning: DataFrame is highly fragmented.  This is usually the result of calling `frame.insert` many times, which has poor performance.  Consider joining all columns at once using pd.concat(axis=1) instead.  To get a de-fragmented frame, use `newframe = frame.copy()`\n",
      "  dt_transformed[col] = 0\n",
      "\n",
      "C:\\Users\\velmurug\\Documents\\full_stability\\transformers\\IndexBasedTransformer.py:58: PerformanceWarning: DataFrame is highly fragmented.  This is usually the result of calling `frame.insert` many times, which has poor performance.  Consider joining all columns at once using pd.concat(axis=1) instead.  To get a de-fragmented frame, use `newframe = frame.copy()`\n",
      "  dt_transformed[col] = 0\n",
      "\n"
     ]
    },
    {
     "name": "stdout",
     "output_type": "stream",
     "text": [
      "Accuracy:                                                                                                              \n",
      "0.9450000000000001                                                                                                     \n",
      " 20%|█████████▌                                      | 2/10 [00:06<00:19,  2.50s/trial, best loss: -0.9647165428740844]"
     ]
    },
    {
     "name": "stderr",
     "output_type": "stream",
     "text": [
      "C:\\Users\\velmurug\\Documents\\full_stability\\transformers\\StaticTransformer.py:44: PerformanceWarning: DataFrame is highly fragmented.  This is usually the result of calling `frame.insert` many times, which has poor performance.  Consider joining all columns at once using pd.concat(axis=1) instead.  To get a de-fragmented frame, use `newframe = frame.copy()`\n",
      "  dt_transformed[col] = 0\n",
      "\n",
      "C:\\Users\\velmurug\\Documents\\full_stability\\transformers\\IndexBasedTransformer.py:58: PerformanceWarning: DataFrame is highly fragmented.  This is usually the result of calling `frame.insert` many times, which has poor performance.  Consider joining all columns at once using pd.concat(axis=1) instead.  To get a de-fragmented frame, use `newframe = frame.copy()`\n",
      "  dt_transformed[col] = 0\n",
      "\n"
     ]
    },
    {
     "name": "stdout",
     "output_type": "stream",
     "text": [
      "Accuracy:                                                                                                              \n",
      "0.9731051344743276                                                                                                     \n",
      "{'var_smoothing': 0.533669923120631}                                                                                   \n",
      " 30%|██████████████▍                                 | 3/10 [00:07<00:17,  2.56s/trial, best loss: -0.9647165428740844]"
     ]
    },
    {
     "name": "stderr",
     "output_type": "stream",
     "text": [
      "C:\\Users\\velmurug\\Documents\\full_stability\\transformers\\StaticTransformer.py:44: PerformanceWarning: DataFrame is highly fragmented.  This is usually the result of calling `frame.insert` many times, which has poor performance.  Consider joining all columns at once using pd.concat(axis=1) instead.  To get a de-fragmented frame, use `newframe = frame.copy()`\n",
      "  dt_transformed[col] = 0\n",
      "\n",
      "C:\\Users\\velmurug\\Documents\\full_stability\\transformers\\IndexBasedTransformer.py:58: PerformanceWarning: DataFrame is highly fragmented.  This is usually the result of calling `frame.insert` many times, which has poor performance.  Consider joining all columns at once using pd.concat(axis=1) instead.  To get a de-fragmented frame, use `newframe = frame.copy()`\n",
      "  dt_transformed[col] = 0\n",
      "\n"
     ]
    },
    {
     "name": "stdout",
     "output_type": "stream",
     "text": [
      "Accuracy:                                                                                                              \n",
      "0.8427672955974843                                                                                                     \n",
      " 30%|██████████████▍                                 | 3/10 [00:08<00:17,  2.56s/trial, best loss: -0.9647165428740844]"
     ]
    },
    {
     "name": "stderr",
     "output_type": "stream",
     "text": [
      "C:\\Users\\velmurug\\Documents\\full_stability\\transformers\\StaticTransformer.py:44: PerformanceWarning: DataFrame is highly fragmented.  This is usually the result of calling `frame.insert` many times, which has poor performance.  Consider joining all columns at once using pd.concat(axis=1) instead.  To get a de-fragmented frame, use `newframe = frame.copy()`\n",
      "  dt_transformed[col] = 0\n",
      "\n",
      "C:\\Users\\velmurug\\Documents\\full_stability\\transformers\\IndexBasedTransformer.py:58: PerformanceWarning: DataFrame is highly fragmented.  This is usually the result of calling `frame.insert` many times, which has poor performance.  Consider joining all columns at once using pd.concat(axis=1) instead.  To get a de-fragmented frame, use `newframe = frame.copy()`\n",
      "  dt_transformed[col] = 0\n",
      "\n"
     ]
    },
    {
     "name": "stdout",
     "output_type": "stream",
     "text": [
      "Accuracy:                                                                                                              \n",
      "0.8235294117647058                                                                                                     \n",
      " 30%|██████████████▍                                 | 3/10 [00:09<00:17,  2.56s/trial, best loss: -0.9647165428740844]"
     ]
    },
    {
     "name": "stderr",
     "output_type": "stream",
     "text": [
      "C:\\Users\\velmurug\\Documents\\full_stability\\transformers\\StaticTransformer.py:44: PerformanceWarning: DataFrame is highly fragmented.  This is usually the result of calling `frame.insert` many times, which has poor performance.  Consider joining all columns at once using pd.concat(axis=1) instead.  To get a de-fragmented frame, use `newframe = frame.copy()`\n",
      "  dt_transformed[col] = 0\n",
      "\n",
      "C:\\Users\\velmurug\\Documents\\full_stability\\transformers\\IndexBasedTransformer.py:58: PerformanceWarning: DataFrame is highly fragmented.  This is usually the result of calling `frame.insert` many times, which has poor performance.  Consider joining all columns at once using pd.concat(axis=1) instead.  To get a de-fragmented frame, use `newframe = frame.copy()`\n",
      "  dt_transformed[col] = 0\n",
      "\n"
     ]
    },
    {
     "name": "stdout",
     "output_type": "stream",
     "text": [
      "Accuracy:                                                                                                              \n",
      "0.8185840707964602                                                                                                     \n",
      "{'var_smoothing': 0.15199110829529336}                                                                                 \n",
      " 40%|███████████████████▏                            | 4/10 [00:10<00:15,  2.56s/trial, best loss: -0.9647165428740844]"
     ]
    },
    {
     "name": "stderr",
     "output_type": "stream",
     "text": [
      "C:\\Users\\velmurug\\Documents\\full_stability\\transformers\\StaticTransformer.py:44: PerformanceWarning: DataFrame is highly fragmented.  This is usually the result of calling `frame.insert` many times, which has poor performance.  Consider joining all columns at once using pd.concat(axis=1) instead.  To get a de-fragmented frame, use `newframe = frame.copy()`\n",
      "  dt_transformed[col] = 0\n",
      "\n",
      "C:\\Users\\velmurug\\Documents\\full_stability\\transformers\\IndexBasedTransformer.py:58: PerformanceWarning: DataFrame is highly fragmented.  This is usually the result of calling `frame.insert` many times, which has poor performance.  Consider joining all columns at once using pd.concat(axis=1) instead.  To get a de-fragmented frame, use `newframe = frame.copy()`\n",
      "  dt_transformed[col] = 0\n",
      "\n"
     ]
    },
    {
     "name": "stdout",
     "output_type": "stream",
     "text": [
      "Accuracy:                                                                                                              \n",
      "0.8547368421052631                                                                                                     \n",
      " 40%|███████████████████▏                            | 4/10 [00:11<00:15,  2.56s/trial, best loss: -0.9647165428740844]"
     ]
    },
    {
     "name": "stderr",
     "output_type": "stream",
     "text": [
      "C:\\Users\\velmurug\\Documents\\full_stability\\transformers\\StaticTransformer.py:44: PerformanceWarning: DataFrame is highly fragmented.  This is usually the result of calling `frame.insert` many times, which has poor performance.  Consider joining all columns at once using pd.concat(axis=1) instead.  To get a de-fragmented frame, use `newframe = frame.copy()`\n",
      "  dt_transformed[col] = 0\n",
      "\n",
      "C:\\Users\\velmurug\\Documents\\full_stability\\transformers\\IndexBasedTransformer.py:58: PerformanceWarning: DataFrame is highly fragmented.  This is usually the result of calling `frame.insert` many times, which has poor performance.  Consider joining all columns at once using pd.concat(axis=1) instead.  To get a de-fragmented frame, use `newframe = frame.copy()`\n",
      "  dt_transformed[col] = 0\n",
      "\n"
     ]
    },
    {
     "name": "stdout",
     "output_type": "stream",
     "text": [
      "Accuracy:                                                                                                              \n",
      "0.8458333333333334                                                                                                     \n",
      " 40%|███████████████████▏                            | 4/10 [00:11<00:15,  2.56s/trial, best loss: -0.9647165428740844]"
     ]
    },
    {
     "name": "stderr",
     "output_type": "stream",
     "text": [
      "C:\\Users\\velmurug\\Documents\\full_stability\\transformers\\StaticTransformer.py:44: PerformanceWarning: DataFrame is highly fragmented.  This is usually the result of calling `frame.insert` many times, which has poor performance.  Consider joining all columns at once using pd.concat(axis=1) instead.  To get a de-fragmented frame, use `newframe = frame.copy()`\n",
      "  dt_transformed[col] = 0\n",
      "\n",
      "C:\\Users\\velmurug\\Documents\\full_stability\\transformers\\IndexBasedTransformer.py:58: PerformanceWarning: DataFrame is highly fragmented.  This is usually the result of calling `frame.insert` many times, which has poor performance.  Consider joining all columns at once using pd.concat(axis=1) instead.  To get a de-fragmented frame, use `newframe = frame.copy()`\n",
      "  dt_transformed[col] = 0\n",
      "\n"
     ]
    },
    {
     "name": "stdout",
     "output_type": "stream",
     "text": [
      "Accuracy:                                                                                                              \n",
      "0.8372093023255814                                                                                                     \n",
      "{'var_smoothing': 6.579332246575683e-06}                                                                               \n",
      " 50%|████████████████████████                        | 5/10 [00:12<00:12,  2.56s/trial, best loss: -0.9647165428740844]"
     ]
    },
    {
     "name": "stderr",
     "output_type": "stream",
     "text": [
      "C:\\Users\\velmurug\\Documents\\full_stability\\transformers\\StaticTransformer.py:44: PerformanceWarning: DataFrame is highly fragmented.  This is usually the result of calling `frame.insert` many times, which has poor performance.  Consider joining all columns at once using pd.concat(axis=1) instead.  To get a de-fragmented frame, use `newframe = frame.copy()`\n",
      "  dt_transformed[col] = 0\n",
      "\n",
      "C:\\Users\\velmurug\\Documents\\full_stability\\transformers\\IndexBasedTransformer.py:58: PerformanceWarning: DataFrame is highly fragmented.  This is usually the result of calling `frame.insert` many times, which has poor performance.  Consider joining all columns at once using pd.concat(axis=1) instead.  To get a de-fragmented frame, use `newframe = frame.copy()`\n",
      "  dt_transformed[col] = 0\n",
      "\n"
     ]
    },
    {
     "name": "stdout",
     "output_type": "stream",
     "text": [
      "Accuracy:                                                                                                              \n",
      "0.9656862745098039                                                                                                     \n",
      " 50%|████████████████████████                        | 5/10 [00:13<00:12,  2.56s/trial, best loss: -0.9647165428740844]"
     ]
    },
    {
     "name": "stderr",
     "output_type": "stream",
     "text": [
      "C:\\Users\\velmurug\\Documents\\full_stability\\transformers\\StaticTransformer.py:44: PerformanceWarning: DataFrame is highly fragmented.  This is usually the result of calling `frame.insert` many times, which has poor performance.  Consider joining all columns at once using pd.concat(axis=1) instead.  To get a de-fragmented frame, use `newframe = frame.copy()`\n",
      "  dt_transformed[col] = 0\n",
      "\n",
      "C:\\Users\\velmurug\\Documents\\full_stability\\transformers\\IndexBasedTransformer.py:58: PerformanceWarning: DataFrame is highly fragmented.  This is usually the result of calling `frame.insert` many times, which has poor performance.  Consider joining all columns at once using pd.concat(axis=1) instead.  To get a de-fragmented frame, use `newframe = frame.copy()`\n",
      "  dt_transformed[col] = 0\n",
      "\n"
     ]
    },
    {
     "name": "stdout",
     "output_type": "stream",
     "text": [
      "Accuracy:                                                                                                              \n",
      "0.9656862745098039                                                                                                     \n",
      " 50%|████████████████████████                        | 5/10 [00:14<00:12,  2.56s/trial, best loss: -0.9647165428740844]"
     ]
    },
    {
     "name": "stderr",
     "output_type": "stream",
     "text": [
      "C:\\Users\\velmurug\\Documents\\full_stability\\transformers\\StaticTransformer.py:44: PerformanceWarning: DataFrame is highly fragmented.  This is usually the result of calling `frame.insert` many times, which has poor performance.  Consider joining all columns at once using pd.concat(axis=1) instead.  To get a de-fragmented frame, use `newframe = frame.copy()`\n",
      "  dt_transformed[col] = 0\n",
      "\n",
      "C:\\Users\\velmurug\\Documents\\full_stability\\transformers\\IndexBasedTransformer.py:58: PerformanceWarning: DataFrame is highly fragmented.  This is usually the result of calling `frame.insert` many times, which has poor performance.  Consider joining all columns at once using pd.concat(axis=1) instead.  To get a de-fragmented frame, use `newframe = frame.copy()`\n",
      "  dt_transformed[col] = 0\n",
      "\n"
     ]
    },
    {
     "name": "stdout",
     "output_type": "stream",
     "text": [
      "Accuracy:                                                                                                              \n",
      "0.975609756097561                                                                                                      \n",
      "{'var_smoothing': 1.873817422860387e-09}                                                                               \n",
      " 60%|█████████████████████████████▍                   | 6/10 [00:15<00:10,  2.56s/trial, best loss: -0.968994101705723]"
     ]
    },
    {
     "name": "stderr",
     "output_type": "stream",
     "text": [
      "C:\\Users\\velmurug\\Documents\\full_stability\\transformers\\StaticTransformer.py:44: PerformanceWarning: DataFrame is highly fragmented.  This is usually the result of calling `frame.insert` many times, which has poor performance.  Consider joining all columns at once using pd.concat(axis=1) instead.  To get a de-fragmented frame, use `newframe = frame.copy()`\n",
      "  dt_transformed[col] = 0\n",
      "\n",
      "C:\\Users\\velmurug\\Documents\\full_stability\\transformers\\IndexBasedTransformer.py:58: PerformanceWarning: DataFrame is highly fragmented.  This is usually the result of calling `frame.insert` many times, which has poor performance.  Consider joining all columns at once using pd.concat(axis=1) instead.  To get a de-fragmented frame, use `newframe = frame.copy()`\n",
      "  dt_transformed[col] = 0\n",
      "\n"
     ]
    },
    {
     "name": "stdout",
     "output_type": "stream",
     "text": [
      "Accuracy:                                                                                                              \n",
      "0.9554455445544554                                                                                                     \n",
      " 60%|█████████████████████████████▍                   | 6/10 [00:16<00:10,  2.56s/trial, best loss: -0.968994101705723]"
     ]
    },
    {
     "name": "stderr",
     "output_type": "stream",
     "text": [
      "C:\\Users\\velmurug\\Documents\\full_stability\\transformers\\StaticTransformer.py:44: PerformanceWarning: DataFrame is highly fragmented.  This is usually the result of calling `frame.insert` many times, which has poor performance.  Consider joining all columns at once using pd.concat(axis=1) instead.  To get a de-fragmented frame, use `newframe = frame.copy()`\n",
      "  dt_transformed[col] = 0\n",
      "\n",
      "C:\\Users\\velmurug\\Documents\\full_stability\\transformers\\IndexBasedTransformer.py:58: PerformanceWarning: DataFrame is highly fragmented.  This is usually the result of calling `frame.insert` many times, which has poor performance.  Consider joining all columns at once using pd.concat(axis=1) instead.  To get a de-fragmented frame, use `newframe = frame.copy()`\n",
      "  dt_transformed[col] = 0\n",
      "\n"
     ]
    },
    {
     "name": "stdout",
     "output_type": "stream",
     "text": [
      "Accuracy:                                                                                                              \n",
      "0.9656862745098039                                                                                                     \n",
      " 60%|█████████████████████████████▍                   | 6/10 [00:17<00:10,  2.56s/trial, best loss: -0.968994101705723]"
     ]
    },
    {
     "name": "stderr",
     "output_type": "stream",
     "text": [
      "C:\\Users\\velmurug\\Documents\\full_stability\\transformers\\StaticTransformer.py:44: PerformanceWarning: DataFrame is highly fragmented.  This is usually the result of calling `frame.insert` many times, which has poor performance.  Consider joining all columns at once using pd.concat(axis=1) instead.  To get a de-fragmented frame, use `newframe = frame.copy()`\n",
      "  dt_transformed[col] = 0\n",
      "\n",
      "C:\\Users\\velmurug\\Documents\\full_stability\\transformers\\IndexBasedTransformer.py:58: PerformanceWarning: DataFrame is highly fragmented.  This is usually the result of calling `frame.insert` many times, which has poor performance.  Consider joining all columns at once using pd.concat(axis=1) instead.  To get a de-fragmented frame, use `newframe = frame.copy()`\n",
      "  dt_transformed[col] = 0\n",
      "\n"
     ]
    },
    {
     "name": "stdout",
     "output_type": "stream",
     "text": [
      "Accuracy:                                                                                                              \n",
      "0.955223880597015                                                                                                      \n",
      "{'var_smoothing': 1e-05}                                                                                               \n",
      " 70%|██████████████████████████████████▎              | 7/10 [00:17<00:07,  2.60s/trial, best loss: -0.968994101705723]"
     ]
    },
    {
     "name": "stderr",
     "output_type": "stream",
     "text": [
      "C:\\Users\\velmurug\\Documents\\full_stability\\transformers\\StaticTransformer.py:44: PerformanceWarning: DataFrame is highly fragmented.  This is usually the result of calling `frame.insert` many times, which has poor performance.  Consider joining all columns at once using pd.concat(axis=1) instead.  To get a de-fragmented frame, use `newframe = frame.copy()`\n",
      "  dt_transformed[col] = 0\n",
      "\n",
      "C:\\Users\\velmurug\\Documents\\full_stability\\transformers\\IndexBasedTransformer.py:58: PerformanceWarning: DataFrame is highly fragmented.  This is usually the result of calling `frame.insert` many times, which has poor performance.  Consider joining all columns at once using pd.concat(axis=1) instead.  To get a de-fragmented frame, use `newframe = frame.copy()`\n",
      "  dt_transformed[col] = 0\n",
      "\n"
     ]
    },
    {
     "name": "stdout",
     "output_type": "stream",
     "text": [
      "Accuracy:                                                                                                              \n",
      "0.9528535980148882                                                                                                     \n",
      " 70%|██████████████████████████████████▎              | 7/10 [00:18<00:07,  2.60s/trial, best loss: -0.968994101705723]"
     ]
    },
    {
     "name": "stderr",
     "output_type": "stream",
     "text": [
      "C:\\Users\\velmurug\\Documents\\full_stability\\transformers\\StaticTransformer.py:44: PerformanceWarning: DataFrame is highly fragmented.  This is usually the result of calling `frame.insert` many times, which has poor performance.  Consider joining all columns at once using pd.concat(axis=1) instead.  To get a de-fragmented frame, use `newframe = frame.copy()`\n",
      "  dt_transformed[col] = 0\n",
      "\n",
      "C:\\Users\\velmurug\\Documents\\full_stability\\transformers\\IndexBasedTransformer.py:58: PerformanceWarning: DataFrame is highly fragmented.  This is usually the result of calling `frame.insert` many times, which has poor performance.  Consider joining all columns at once using pd.concat(axis=1) instead.  To get a de-fragmented frame, use `newframe = frame.copy()`\n",
      "  dt_transformed[col] = 0\n",
      "\n"
     ]
    },
    {
     "name": "stdout",
     "output_type": "stream",
     "text": [
      "Accuracy:                                                                                                              \n",
      "0.9631449631449631                                                                                                     \n",
      " 70%|██████████████████████████████████▎              | 7/10 [00:19<00:07,  2.60s/trial, best loss: -0.968994101705723]"
     ]
    },
    {
     "name": "stderr",
     "output_type": "stream",
     "text": [
      "C:\\Users\\velmurug\\Documents\\full_stability\\transformers\\StaticTransformer.py:44: PerformanceWarning: DataFrame is highly fragmented.  This is usually the result of calling `frame.insert` many times, which has poor performance.  Consider joining all columns at once using pd.concat(axis=1) instead.  To get a de-fragmented frame, use `newframe = frame.copy()`\n",
      "  dt_transformed[col] = 0\n",
      "\n",
      "C:\\Users\\velmurug\\Documents\\full_stability\\transformers\\IndexBasedTransformer.py:58: PerformanceWarning: DataFrame is highly fragmented.  This is usually the result of calling `frame.insert` many times, which has poor performance.  Consider joining all columns at once using pd.concat(axis=1) instead.  To get a de-fragmented frame, use `newframe = frame.copy()`\n",
      "  dt_transformed[col] = 0\n",
      "\n"
     ]
    },
    {
     "name": "stdout",
     "output_type": "stream",
     "text": [
      "Accuracy:                                                                                                              \n",
      "0.9420654911838791                                                                                                     \n",
      "{'var_smoothing': 0.012328467394420659}                                                                                \n",
      " 80%|███████████████████████████████████████▏         | 8/10 [00:20<00:05,  2.58s/trial, best loss: -0.968994101705723]"
     ]
    },
    {
     "name": "stderr",
     "output_type": "stream",
     "text": [
      "C:\\Users\\velmurug\\Documents\\full_stability\\transformers\\StaticTransformer.py:44: PerformanceWarning: DataFrame is highly fragmented.  This is usually the result of calling `frame.insert` many times, which has poor performance.  Consider joining all columns at once using pd.concat(axis=1) instead.  To get a de-fragmented frame, use `newframe = frame.copy()`\n",
      "  dt_transformed[col] = 0\n",
      "\n",
      "C:\\Users\\velmurug\\Documents\\full_stability\\transformers\\IndexBasedTransformer.py:58: PerformanceWarning: DataFrame is highly fragmented.  This is usually the result of calling `frame.insert` many times, which has poor performance.  Consider joining all columns at once using pd.concat(axis=1) instead.  To get a de-fragmented frame, use `newframe = frame.copy()`\n",
      "  dt_transformed[col] = 0\n",
      "\n"
     ]
    },
    {
     "name": "stdout",
     "output_type": "stream",
     "text": [
      "Accuracy:                                                                                                              \n",
      "0.8539823008849557                                                                                                     \n",
      " 80%|███████████████████████████████████████▏         | 8/10 [00:21<00:05,  2.58s/trial, best loss: -0.968994101705723]"
     ]
    },
    {
     "name": "stderr",
     "output_type": "stream",
     "text": [
      "C:\\Users\\velmurug\\Documents\\full_stability\\transformers\\StaticTransformer.py:44: PerformanceWarning: DataFrame is highly fragmented.  This is usually the result of calling `frame.insert` many times, which has poor performance.  Consider joining all columns at once using pd.concat(axis=1) instead.  To get a de-fragmented frame, use `newframe = frame.copy()`\n",
      "  dt_transformed[col] = 0\n",
      "\n",
      "C:\\Users\\velmurug\\Documents\\full_stability\\transformers\\IndexBasedTransformer.py:58: PerformanceWarning: DataFrame is highly fragmented.  This is usually the result of calling `frame.insert` many times, which has poor performance.  Consider joining all columns at once using pd.concat(axis=1) instead.  To get a de-fragmented frame, use `newframe = frame.copy()`\n",
      "  dt_transformed[col] = 0\n",
      "\n"
     ]
    },
    {
     "name": "stdout",
     "output_type": "stream",
     "text": [
      "Accuracy:                                                                                                              \n",
      "0.8539823008849557                                                                                                     \n",
      " 80%|███████████████████████████████████████▏         | 8/10 [00:22<00:05,  2.58s/trial, best loss: -0.968994101705723]"
     ]
    },
    {
     "name": "stderr",
     "output_type": "stream",
     "text": [
      "C:\\Users\\velmurug\\Documents\\full_stability\\transformers\\StaticTransformer.py:44: PerformanceWarning: DataFrame is highly fragmented.  This is usually the result of calling `frame.insert` many times, which has poor performance.  Consider joining all columns at once using pd.concat(axis=1) instead.  To get a de-fragmented frame, use `newframe = frame.copy()`\n",
      "  dt_transformed[col] = 0\n",
      "\n",
      "C:\\Users\\velmurug\\Documents\\full_stability\\transformers\\IndexBasedTransformer.py:58: PerformanceWarning: DataFrame is highly fragmented.  This is usually the result of calling `frame.insert` many times, which has poor performance.  Consider joining all columns at once using pd.concat(axis=1) instead.  To get a de-fragmented frame, use `newframe = frame.copy()`\n",
      "  dt_transformed[col] = 0\n",
      "\n"
     ]
    },
    {
     "name": "stdout",
     "output_type": "stream",
     "text": [
      "Accuracy:                                                                                                              \n",
      "0.8653421633554083                                                                                                     \n",
      "{'var_smoothing': 0.0008111308307896872}                                                                               \n",
      " 90%|████████████████████████████████████████████     | 9/10 [00:23<00:02,  2.60s/trial, best loss: -0.968994101705723]"
     ]
    },
    {
     "name": "stderr",
     "output_type": "stream",
     "text": [
      "C:\\Users\\velmurug\\Documents\\full_stability\\transformers\\StaticTransformer.py:44: PerformanceWarning: DataFrame is highly fragmented.  This is usually the result of calling `frame.insert` many times, which has poor performance.  Consider joining all columns at once using pd.concat(axis=1) instead.  To get a de-fragmented frame, use `newframe = frame.copy()`\n",
      "  dt_transformed[col] = 0\n",
      "\n",
      "C:\\Users\\velmurug\\Documents\\full_stability\\transformers\\IndexBasedTransformer.py:58: PerformanceWarning: DataFrame is highly fragmented.  This is usually the result of calling `frame.insert` many times, which has poor performance.  Consider joining all columns at once using pd.concat(axis=1) instead.  To get a de-fragmented frame, use `newframe = frame.copy()`\n",
      "  dt_transformed[col] = 0\n",
      "\n"
     ]
    },
    {
     "name": "stdout",
     "output_type": "stream",
     "text": [
      "Accuracy:                                                                                                              \n",
      "0.9631449631449631                                                                                                     \n",
      " 90%|████████████████████████████████████████████     | 9/10 [00:24<00:02,  2.60s/trial, best loss: -0.968994101705723]"
     ]
    },
    {
     "name": "stderr",
     "output_type": "stream",
     "text": [
      "C:\\Users\\velmurug\\Documents\\full_stability\\transformers\\StaticTransformer.py:44: PerformanceWarning: DataFrame is highly fragmented.  This is usually the result of calling `frame.insert` many times, which has poor performance.  Consider joining all columns at once using pd.concat(axis=1) instead.  To get a de-fragmented frame, use `newframe = frame.copy()`\n",
      "  dt_transformed[col] = 0\n",
      "\n",
      "C:\\Users\\velmurug\\Documents\\full_stability\\transformers\\IndexBasedTransformer.py:58: PerformanceWarning: DataFrame is highly fragmented.  This is usually the result of calling `frame.insert` many times, which has poor performance.  Consider joining all columns at once using pd.concat(axis=1) instead.  To get a de-fragmented frame, use `newframe = frame.copy()`\n",
      "  dt_transformed[col] = 0\n",
      "\n"
     ]
    },
    {
     "name": "stdout",
     "output_type": "stream",
     "text": [
      "Accuracy:                                                                                                              \n",
      "0.9656862745098039                                                                                                     \n",
      " 90%|████████████████████████████████████████████     | 9/10 [00:24<00:02,  2.60s/trial, best loss: -0.968994101705723]"
     ]
    },
    {
     "name": "stderr",
     "output_type": "stream",
     "text": [
      "C:\\Users\\velmurug\\Documents\\full_stability\\transformers\\StaticTransformer.py:44: PerformanceWarning: DataFrame is highly fragmented.  This is usually the result of calling `frame.insert` many times, which has poor performance.  Consider joining all columns at once using pd.concat(axis=1) instead.  To get a de-fragmented frame, use `newframe = frame.copy()`\n",
      "  dt_transformed[col] = 0\n",
      "\n",
      "C:\\Users\\velmurug\\Documents\\full_stability\\transformers\\IndexBasedTransformer.py:58: PerformanceWarning: DataFrame is highly fragmented.  This is usually the result of calling `frame.insert` many times, which has poor performance.  Consider joining all columns at once using pd.concat(axis=1) instead.  To get a de-fragmented frame, use `newframe = frame.copy()`\n",
      "  dt_transformed[col] = 0\n",
      "\n"
     ]
    },
    {
     "name": "stdout",
     "output_type": "stream",
     "text": [
      "Accuracy:                                                                                                              \n",
      "0.9705882352941176                                                                                                     \n",
      "100%|████████████████████████████████████████████████| 10/10 [00:25<00:00,  2.57s/trial, best loss: -0.968994101705723]\n",
      "Optimising 11 of 20 buckets\n",
      "{'var_smoothing': 0.08111308307896872}                                                                                 \n",
      "  0%|                                                                           | 0/10 [00:00<?, ?trial/s, best loss=?]"
     ]
    },
    {
     "name": "stderr",
     "output_type": "stream",
     "text": [
      "C:\\Users\\velmurug\\Documents\\full_stability\\transformers\\StaticTransformer.py:44: PerformanceWarning: DataFrame is highly fragmented.  This is usually the result of calling `frame.insert` many times, which has poor performance.  Consider joining all columns at once using pd.concat(axis=1) instead.  To get a de-fragmented frame, use `newframe = frame.copy()`\n",
      "  dt_transformed[col] = 0\n",
      "\n",
      "C:\\Users\\velmurug\\Documents\\full_stability\\transformers\\IndexBasedTransformer.py:58: PerformanceWarning: DataFrame is highly fragmented.  This is usually the result of calling `frame.insert` many times, which has poor performance.  Consider joining all columns at once using pd.concat(axis=1) instead.  To get a de-fragmented frame, use `newframe = frame.copy()`\n",
      "  dt_transformed[col] = 0\n",
      "\n"
     ]
    },
    {
     "name": "stdout",
     "output_type": "stream",
     "text": [
      "Accuracy:                                                                                                              \n",
      "0.8453159041394336                                                                                                     \n",
      "  0%|                                                                           | 0/10 [00:01<?, ?trial/s, best loss=?]"
     ]
    },
    {
     "name": "stderr",
     "output_type": "stream",
     "text": [
      "C:\\Users\\velmurug\\Documents\\full_stability\\transformers\\StaticTransformer.py:44: PerformanceWarning: DataFrame is highly fragmented.  This is usually the result of calling `frame.insert` many times, which has poor performance.  Consider joining all columns at once using pd.concat(axis=1) instead.  To get a de-fragmented frame, use `newframe = frame.copy()`\n",
      "  dt_transformed[col] = 0\n",
      "\n",
      "C:\\Users\\velmurug\\Documents\\full_stability\\transformers\\IndexBasedTransformer.py:58: PerformanceWarning: DataFrame is highly fragmented.  This is usually the result of calling `frame.insert` many times, which has poor performance.  Consider joining all columns at once using pd.concat(axis=1) instead.  To get a de-fragmented frame, use `newframe = frame.copy()`\n",
      "  dt_transformed[col] = 0\n",
      "\n"
     ]
    },
    {
     "name": "stdout",
     "output_type": "stream",
     "text": [
      "Accuracy:                                                                                                              \n",
      "0.8446389496717726                                                                                                     \n",
      "  0%|                                                                           | 0/10 [00:02<?, ?trial/s, best loss=?]"
     ]
    },
    {
     "name": "stderr",
     "output_type": "stream",
     "text": [
      "C:\\Users\\velmurug\\Documents\\full_stability\\transformers\\StaticTransformer.py:44: PerformanceWarning: DataFrame is highly fragmented.  This is usually the result of calling `frame.insert` many times, which has poor performance.  Consider joining all columns at once using pd.concat(axis=1) instead.  To get a de-fragmented frame, use `newframe = frame.copy()`\n",
      "  dt_transformed[col] = 0\n",
      "\n",
      "C:\\Users\\velmurug\\Documents\\full_stability\\transformers\\IndexBasedTransformer.py:58: PerformanceWarning: DataFrame is highly fragmented.  This is usually the result of calling `frame.insert` many times, which has poor performance.  Consider joining all columns at once using pd.concat(axis=1) instead.  To get a de-fragmented frame, use `newframe = frame.copy()`\n",
      "  dt_transformed[col] = 0\n",
      "\n"
     ]
    },
    {
     "name": "stdout",
     "output_type": "stream",
     "text": [
      "Accuracy:                                                                                                              \n",
      "0.8370044052863437                                                                                                     \n",
      "{'var_smoothing': 0.04328761281083057}                                                                                 \n",
      " 10%|████▊                                           | 1/10 [00:03<00:27,  3.09s/trial, best loss: -0.8423197530325166]"
     ]
    },
    {
     "name": "stderr",
     "output_type": "stream",
     "text": [
      "C:\\Users\\velmurug\\Documents\\full_stability\\transformers\\StaticTransformer.py:44: PerformanceWarning: DataFrame is highly fragmented.  This is usually the result of calling `frame.insert` many times, which has poor performance.  Consider joining all columns at once using pd.concat(axis=1) instead.  To get a de-fragmented frame, use `newframe = frame.copy()`\n",
      "  dt_transformed[col] = 0\n",
      "\n",
      "C:\\Users\\velmurug\\Documents\\full_stability\\transformers\\IndexBasedTransformer.py:58: PerformanceWarning: DataFrame is highly fragmented.  This is usually the result of calling `frame.insert` many times, which has poor performance.  Consider joining all columns at once using pd.concat(axis=1) instead.  To get a de-fragmented frame, use `newframe = frame.copy()`\n",
      "  dt_transformed[col] = 0\n",
      "\n"
     ]
    },
    {
     "name": "stdout",
     "output_type": "stream",
     "text": [
      "Accuracy:                                                                                                              \n",
      "0.8558758314855877                                                                                                     \n",
      " 10%|████▊                                           | 1/10 [00:04<00:27,  3.09s/trial, best loss: -0.8423197530325166]"
     ]
    },
    {
     "name": "stderr",
     "output_type": "stream",
     "text": [
      "C:\\Users\\velmurug\\Documents\\full_stability\\transformers\\StaticTransformer.py:44: PerformanceWarning: DataFrame is highly fragmented.  This is usually the result of calling `frame.insert` many times, which has poor performance.  Consider joining all columns at once using pd.concat(axis=1) instead.  To get a de-fragmented frame, use `newframe = frame.copy()`\n",
      "  dt_transformed[col] = 0\n",
      "\n",
      "C:\\Users\\velmurug\\Documents\\full_stability\\transformers\\IndexBasedTransformer.py:58: PerformanceWarning: DataFrame is highly fragmented.  This is usually the result of calling `frame.insert` many times, which has poor performance.  Consider joining all columns at once using pd.concat(axis=1) instead.  To get a de-fragmented frame, use `newframe = frame.copy()`\n",
      "  dt_transformed[col] = 0\n",
      "\n"
     ]
    },
    {
     "name": "stdout",
     "output_type": "stream",
     "text": [
      "Accuracy:                                                                                                              \n",
      "0.8459869848156182                                                                                                     \n",
      " 10%|████▊                                           | 1/10 [00:05<00:27,  3.09s/trial, best loss: -0.8423197530325166]"
     ]
    },
    {
     "name": "stderr",
     "output_type": "stream",
     "text": [
      "C:\\Users\\velmurug\\Documents\\full_stability\\transformers\\StaticTransformer.py:44: PerformanceWarning: DataFrame is highly fragmented.  This is usually the result of calling `frame.insert` many times, which has poor performance.  Consider joining all columns at once using pd.concat(axis=1) instead.  To get a de-fragmented frame, use `newframe = frame.copy()`\n",
      "  dt_transformed[col] = 0\n",
      "\n",
      "C:\\Users\\velmurug\\Documents\\full_stability\\transformers\\IndexBasedTransformer.py:58: PerformanceWarning: DataFrame is highly fragmented.  This is usually the result of calling `frame.insert` many times, which has poor performance.  Consider joining all columns at once using pd.concat(axis=1) instead.  To get a de-fragmented frame, use `newframe = frame.copy()`\n",
      "  dt_transformed[col] = 0\n",
      "\n"
     ]
    },
    {
     "name": "stdout",
     "output_type": "stream",
     "text": [
      "Accuracy:                                                                                                              \n",
      "0.8451327433628318                                                                                                     \n",
      "{'var_smoothing': 1.519911082952933e-07}                                                                               \n",
      " 20%|█████████▌                                      | 2/10 [00:05<00:23,  2.98s/trial, best loss: -0.8489985198880126]"
     ]
    },
    {
     "name": "stderr",
     "output_type": "stream",
     "text": [
      "C:\\Users\\velmurug\\Documents\\full_stability\\transformers\\StaticTransformer.py:44: PerformanceWarning: DataFrame is highly fragmented.  This is usually the result of calling `frame.insert` many times, which has poor performance.  Consider joining all columns at once using pd.concat(axis=1) instead.  To get a de-fragmented frame, use `newframe = frame.copy()`\n",
      "  dt_transformed[col] = 0\n",
      "\n",
      "C:\\Users\\velmurug\\Documents\\full_stability\\transformers\\IndexBasedTransformer.py:58: PerformanceWarning: DataFrame is highly fragmented.  This is usually the result of calling `frame.insert` many times, which has poor performance.  Consider joining all columns at once using pd.concat(axis=1) instead.  To get a de-fragmented frame, use `newframe = frame.copy()`\n",
      "  dt_transformed[col] = 0\n",
      "\n"
     ]
    },
    {
     "name": "stdout",
     "output_type": "stream",
     "text": [
      "Accuracy:                                                                                                              \n",
      "0.9441624365482234                                                                                                     \n",
      " 20%|█████████▌                                      | 2/10 [00:06<00:23,  2.98s/trial, best loss: -0.8489985198880126]"
     ]
    },
    {
     "name": "stderr",
     "output_type": "stream",
     "text": [
      "C:\\Users\\velmurug\\Documents\\full_stability\\transformers\\StaticTransformer.py:44: PerformanceWarning: DataFrame is highly fragmented.  This is usually the result of calling `frame.insert` many times, which has poor performance.  Consider joining all columns at once using pd.concat(axis=1) instead.  To get a de-fragmented frame, use `newframe = frame.copy()`\n",
      "  dt_transformed[col] = 0\n",
      "\n",
      "C:\\Users\\velmurug\\Documents\\full_stability\\transformers\\IndexBasedTransformer.py:58: PerformanceWarning: DataFrame is highly fragmented.  This is usually the result of calling `frame.insert` many times, which has poor performance.  Consider joining all columns at once using pd.concat(axis=1) instead.  To get a de-fragmented frame, use `newframe = frame.copy()`\n",
      "  dt_transformed[col] = 0\n",
      "\n"
     ]
    },
    {
     "name": "stdout",
     "output_type": "stream",
     "text": [
      "Accuracy:                                                                                                              \n",
      "0.9624060150375939                                                                                                     \n",
      " 20%|█████████▌                                      | 2/10 [00:07<00:23,  2.98s/trial, best loss: -0.8489985198880126]"
     ]
    },
    {
     "name": "stderr",
     "output_type": "stream",
     "text": [
      "C:\\Users\\velmurug\\Documents\\full_stability\\transformers\\StaticTransformer.py:44: PerformanceWarning: DataFrame is highly fragmented.  This is usually the result of calling `frame.insert` many times, which has poor performance.  Consider joining all columns at once using pd.concat(axis=1) instead.  To get a de-fragmented frame, use `newframe = frame.copy()`\n",
      "  dt_transformed[col] = 0\n",
      "\n",
      "C:\\Users\\velmurug\\Documents\\full_stability\\transformers\\IndexBasedTransformer.py:58: PerformanceWarning: DataFrame is highly fragmented.  This is usually the result of calling `frame.insert` many times, which has poor performance.  Consider joining all columns at once using pd.concat(axis=1) instead.  To get a de-fragmented frame, use `newframe = frame.copy()`\n",
      "  dt_transformed[col] = 0\n",
      "\n"
     ]
    },
    {
     "name": "stdout",
     "output_type": "stream",
     "text": [
      "Accuracy:                                                                                                              \n",
      "0.9624060150375939                                                                                                     \n",
      "{'var_smoothing': 8.111308307896872e-07}                                                                               \n",
      " 30%|██████████████▍                                 | 3/10 [00:08<00:20,  2.96s/trial, best loss: -0.9563248222078037]"
     ]
    },
    {
     "name": "stderr",
     "output_type": "stream",
     "text": [
      "C:\\Users\\velmurug\\Documents\\full_stability\\transformers\\StaticTransformer.py:44: PerformanceWarning: DataFrame is highly fragmented.  This is usually the result of calling `frame.insert` many times, which has poor performance.  Consider joining all columns at once using pd.concat(axis=1) instead.  To get a de-fragmented frame, use `newframe = frame.copy()`\n",
      "  dt_transformed[col] = 0\n",
      "\n",
      "C:\\Users\\velmurug\\Documents\\full_stability\\transformers\\IndexBasedTransformer.py:58: PerformanceWarning: DataFrame is highly fragmented.  This is usually the result of calling `frame.insert` many times, which has poor performance.  Consider joining all columns at once using pd.concat(axis=1) instead.  To get a de-fragmented frame, use `newframe = frame.copy()`\n",
      "  dt_transformed[col] = 0\n",
      "\n"
     ]
    },
    {
     "name": "stdout",
     "output_type": "stream",
     "text": [
      "Accuracy:                                                                                                              \n",
      "0.9521410579345088                                                                                                     \n",
      " 30%|██████████████▍                                 | 3/10 [00:09<00:20,  2.96s/trial, best loss: -0.9563248222078037]"
     ]
    },
    {
     "name": "stderr",
     "output_type": "stream",
     "text": [
      "C:\\Users\\velmurug\\Documents\\full_stability\\transformers\\StaticTransformer.py:44: PerformanceWarning: DataFrame is highly fragmented.  This is usually the result of calling `frame.insert` many times, which has poor performance.  Consider joining all columns at once using pd.concat(axis=1) instead.  To get a de-fragmented frame, use `newframe = frame.copy()`\n",
      "  dt_transformed[col] = 0\n",
      "\n",
      "C:\\Users\\velmurug\\Documents\\full_stability\\transformers\\IndexBasedTransformer.py:58: PerformanceWarning: DataFrame is highly fragmented.  This is usually the result of calling `frame.insert` many times, which has poor performance.  Consider joining all columns at once using pd.concat(axis=1) instead.  To get a de-fragmented frame, use `newframe = frame.copy()`\n",
      "  dt_transformed[col] = 0\n",
      "\n"
     ]
    },
    {
     "name": "stdout",
     "output_type": "stream",
     "text": [
      "Accuracy:                                                                                                              \n",
      "0.9571788413098236                                                                                                     \n",
      " 30%|██████████████▍                                 | 3/10 [00:10<00:20,  2.96s/trial, best loss: -0.9563248222078037]"
     ]
    },
    {
     "name": "stderr",
     "output_type": "stream",
     "text": [
      "C:\\Users\\velmurug\\Documents\\full_stability\\transformers\\StaticTransformer.py:44: PerformanceWarning: DataFrame is highly fragmented.  This is usually the result of calling `frame.insert` many times, which has poor performance.  Consider joining all columns at once using pd.concat(axis=1) instead.  To get a de-fragmented frame, use `newframe = frame.copy()`\n",
      "  dt_transformed[col] = 0\n",
      "\n",
      "C:\\Users\\velmurug\\Documents\\full_stability\\transformers\\IndexBasedTransformer.py:58: PerformanceWarning: DataFrame is highly fragmented.  This is usually the result of calling `frame.insert` many times, which has poor performance.  Consider joining all columns at once using pd.concat(axis=1) instead.  To get a de-fragmented frame, use `newframe = frame.copy()`\n",
      "  dt_transformed[col] = 0\n",
      "\n"
     ]
    },
    {
     "name": "stdout",
     "output_type": "stream",
     "text": [
      "Accuracy:                                                                                                              \n",
      "0.9675810473815462                                                                                                     \n",
      "{'var_smoothing': 1.873817422860383e-05}                                                                               \n",
      " 40%|███████████████████▏                            | 4/10 [00:11<00:17,  2.88s/trial, best loss: -0.9589669822086262]"
     ]
    },
    {
     "name": "stderr",
     "output_type": "stream",
     "text": [
      "C:\\Users\\velmurug\\Documents\\full_stability\\transformers\\StaticTransformer.py:44: PerformanceWarning: DataFrame is highly fragmented.  This is usually the result of calling `frame.insert` many times, which has poor performance.  Consider joining all columns at once using pd.concat(axis=1) instead.  To get a de-fragmented frame, use `newframe = frame.copy()`\n",
      "  dt_transformed[col] = 0\n",
      "\n",
      "C:\\Users\\velmurug\\Documents\\full_stability\\transformers\\IndexBasedTransformer.py:58: PerformanceWarning: DataFrame is highly fragmented.  This is usually the result of calling `frame.insert` many times, which has poor performance.  Consider joining all columns at once using pd.concat(axis=1) instead.  To get a de-fragmented frame, use `newframe = frame.copy()`\n",
      "  dt_transformed[col] = 0\n",
      "\n"
     ]
    },
    {
     "name": "stdout",
     "output_type": "stream",
     "text": [
      "Accuracy:                                                                                                              \n",
      "0.9573934837092731                                                                                                     \n",
      " 40%|███████████████████▏                            | 4/10 [00:12<00:17,  2.88s/trial, best loss: -0.9589669822086262]"
     ]
    },
    {
     "name": "stderr",
     "output_type": "stream",
     "text": [
      "C:\\Users\\velmurug\\Documents\\full_stability\\transformers\\StaticTransformer.py:44: PerformanceWarning: DataFrame is highly fragmented.  This is usually the result of calling `frame.insert` many times, which has poor performance.  Consider joining all columns at once using pd.concat(axis=1) instead.  To get a de-fragmented frame, use `newframe = frame.copy()`\n",
      "  dt_transformed[col] = 0\n",
      "\n",
      "C:\\Users\\velmurug\\Documents\\full_stability\\transformers\\IndexBasedTransformer.py:58: PerformanceWarning: DataFrame is highly fragmented.  This is usually the result of calling `frame.insert` many times, which has poor performance.  Consider joining all columns at once using pd.concat(axis=1) instead.  To get a de-fragmented frame, use `newframe = frame.copy()`\n",
      "  dt_transformed[col] = 0\n",
      "\n"
     ]
    },
    {
     "name": "stdout",
     "output_type": "stream",
     "text": [
      "Accuracy:                                                                                                              \n",
      "0.9828009828009828                                                                                                     \n",
      " 40%|███████████████████▏                            | 4/10 [00:13<00:17,  2.88s/trial, best loss: -0.9589669822086262]"
     ]
    },
    {
     "name": "stderr",
     "output_type": "stream",
     "text": [
      "C:\\Users\\velmurug\\Documents\\full_stability\\transformers\\StaticTransformer.py:44: PerformanceWarning: DataFrame is highly fragmented.  This is usually the result of calling `frame.insert` many times, which has poor performance.  Consider joining all columns at once using pd.concat(axis=1) instead.  To get a de-fragmented frame, use `newframe = frame.copy()`\n",
      "  dt_transformed[col] = 0\n",
      "\n",
      "C:\\Users\\velmurug\\Documents\\full_stability\\transformers\\IndexBasedTransformer.py:58: PerformanceWarning: DataFrame is highly fragmented.  This is usually the result of calling `frame.insert` many times, which has poor performance.  Consider joining all columns at once using pd.concat(axis=1) instead.  To get a de-fragmented frame, use `newframe = frame.copy()`\n",
      "  dt_transformed[col] = 0\n",
      "\n"
     ]
    },
    {
     "name": "stdout",
     "output_type": "stream",
     "text": [
      "Accuracy:                                                                                                              \n",
      "0.9545454545454545                                                                                                     \n",
      "{'var_smoothing': 0.8111308307896871}                                                                                  \n",
      " 50%|████████████████████████                        | 5/10 [00:14<00:14,  2.85s/trial, best loss: -0.9649133070185701]"
     ]
    },
    {
     "name": "stderr",
     "output_type": "stream",
     "text": [
      "C:\\Users\\velmurug\\Documents\\full_stability\\transformers\\StaticTransformer.py:44: PerformanceWarning: DataFrame is highly fragmented.  This is usually the result of calling `frame.insert` many times, which has poor performance.  Consider joining all columns at once using pd.concat(axis=1) instead.  To get a de-fragmented frame, use `newframe = frame.copy()`\n",
      "  dt_transformed[col] = 0\n",
      "\n",
      "C:\\Users\\velmurug\\Documents\\full_stability\\transformers\\IndexBasedTransformer.py:58: PerformanceWarning: DataFrame is highly fragmented.  This is usually the result of calling `frame.insert` many times, which has poor performance.  Consider joining all columns at once using pd.concat(axis=1) instead.  To get a de-fragmented frame, use `newframe = frame.copy()`\n",
      "  dt_transformed[col] = 0\n",
      "\n"
     ]
    },
    {
     "name": "stdout",
     "output_type": "stream",
     "text": [
      "Accuracy:                                                                                                              \n",
      "0.8235294117647058                                                                                                     \n",
      " 50%|████████████████████████                        | 5/10 [00:15<00:14,  2.85s/trial, best loss: -0.9649133070185701]"
     ]
    },
    {
     "name": "stderr",
     "output_type": "stream",
     "text": [
      "C:\\Users\\velmurug\\Documents\\full_stability\\transformers\\StaticTransformer.py:44: PerformanceWarning: DataFrame is highly fragmented.  This is usually the result of calling `frame.insert` many times, which has poor performance.  Consider joining all columns at once using pd.concat(axis=1) instead.  To get a de-fragmented frame, use `newframe = frame.copy()`\n",
      "  dt_transformed[col] = 0\n",
      "\n",
      "C:\\Users\\velmurug\\Documents\\full_stability\\transformers\\IndexBasedTransformer.py:58: PerformanceWarning: DataFrame is highly fragmented.  This is usually the result of calling `frame.insert` many times, which has poor performance.  Consider joining all columns at once using pd.concat(axis=1) instead.  To get a de-fragmented frame, use `newframe = frame.copy()`\n",
      "  dt_transformed[col] = 0\n",
      "\n"
     ]
    },
    {
     "name": "stdout",
     "output_type": "stream",
     "text": [
      "Accuracy:                                                                                                              \n",
      "0.8258064516129032                                                                                                     \n",
      " 50%|████████████████████████                        | 5/10 [00:16<00:14,  2.85s/trial, best loss: -0.9649133070185701]"
     ]
    },
    {
     "name": "stderr",
     "output_type": "stream",
     "text": [
      "C:\\Users\\velmurug\\Documents\\full_stability\\transformers\\StaticTransformer.py:44: PerformanceWarning: DataFrame is highly fragmented.  This is usually the result of calling `frame.insert` many times, which has poor performance.  Consider joining all columns at once using pd.concat(axis=1) instead.  To get a de-fragmented frame, use `newframe = frame.copy()`\n",
      "  dt_transformed[col] = 0\n",
      "\n",
      "C:\\Users\\velmurug\\Documents\\full_stability\\transformers\\IndexBasedTransformer.py:58: PerformanceWarning: DataFrame is highly fragmented.  This is usually the result of calling `frame.insert` many times, which has poor performance.  Consider joining all columns at once using pd.concat(axis=1) instead.  To get a de-fragmented frame, use `newframe = frame.copy()`\n",
      "  dt_transformed[col] = 0\n",
      "\n"
     ]
    },
    {
     "name": "stdout",
     "output_type": "stream",
     "text": [
      "Accuracy:                                                                                                              \n",
      "0.8283261802575108                                                                                                     \n",
      "{'var_smoothing': 1.2328467394420635e-09}                                                                              \n",
      " 60%|████████████████████████████▊                   | 6/10 [00:17<00:11,  2.84s/trial, best loss: -0.9649133070185701]"
     ]
    },
    {
     "name": "stderr",
     "output_type": "stream",
     "text": [
      "C:\\Users\\velmurug\\Documents\\full_stability\\transformers\\StaticTransformer.py:44: PerformanceWarning: DataFrame is highly fragmented.  This is usually the result of calling `frame.insert` many times, which has poor performance.  Consider joining all columns at once using pd.concat(axis=1) instead.  To get a de-fragmented frame, use `newframe = frame.copy()`\n",
      "  dt_transformed[col] = 0\n",
      "\n",
      "C:\\Users\\velmurug\\Documents\\full_stability\\transformers\\IndexBasedTransformer.py:58: PerformanceWarning: DataFrame is highly fragmented.  This is usually the result of calling `frame.insert` many times, which has poor performance.  Consider joining all columns at once using pd.concat(axis=1) instead.  To get a de-fragmented frame, use `newframe = frame.copy()`\n",
      "  dt_transformed[col] = 0\n",
      "\n"
     ]
    },
    {
     "name": "stdout",
     "output_type": "stream",
     "text": [
      "Accuracy:                                                                                                              \n",
      "0.9600000000000001                                                                                                     \n",
      " 60%|████████████████████████████▊                   | 6/10 [00:18<00:11,  2.84s/trial, best loss: -0.9649133070185701]"
     ]
    },
    {
     "name": "stderr",
     "output_type": "stream",
     "text": [
      "C:\\Users\\velmurug\\Documents\\full_stability\\transformers\\StaticTransformer.py:44: PerformanceWarning: DataFrame is highly fragmented.  This is usually the result of calling `frame.insert` many times, which has poor performance.  Consider joining all columns at once using pd.concat(axis=1) instead.  To get a de-fragmented frame, use `newframe = frame.copy()`\n",
      "  dt_transformed[col] = 0\n",
      "\n",
      "C:\\Users\\velmurug\\Documents\\full_stability\\transformers\\IndexBasedTransformer.py:58: PerformanceWarning: DataFrame is highly fragmented.  This is usually the result of calling `frame.insert` many times, which has poor performance.  Consider joining all columns at once using pd.concat(axis=1) instead.  To get a de-fragmented frame, use `newframe = frame.copy()`\n",
      "  dt_transformed[col] = 0\n",
      "\n"
     ]
    },
    {
     "name": "stdout",
     "output_type": "stream",
     "text": [
      "Accuracy:                                                                                                              \n",
      "0.9727047146401985                                                                                                     \n",
      " 60%|████████████████████████████▊                   | 6/10 [00:19<00:11,  2.84s/trial, best loss: -0.9649133070185701]"
     ]
    },
    {
     "name": "stderr",
     "output_type": "stream",
     "text": [
      "C:\\Users\\velmurug\\Documents\\full_stability\\transformers\\StaticTransformer.py:44: PerformanceWarning: DataFrame is highly fragmented.  This is usually the result of calling `frame.insert` many times, which has poor performance.  Consider joining all columns at once using pd.concat(axis=1) instead.  To get a de-fragmented frame, use `newframe = frame.copy()`\n",
      "  dt_transformed[col] = 0\n",
      "\n",
      "C:\\Users\\velmurug\\Documents\\full_stability\\transformers\\IndexBasedTransformer.py:58: PerformanceWarning: DataFrame is highly fragmented.  This is usually the result of calling `frame.insert` many times, which has poor performance.  Consider joining all columns at once using pd.concat(axis=1) instead.  To get a de-fragmented frame, use `newframe = frame.copy()`\n",
      "  dt_transformed[col] = 0\n",
      "\n"
     ]
    },
    {
     "name": "stdout",
     "output_type": "stream",
     "text": [
      "Accuracy:                                                                                                              \n",
      "0.9465648854961832                                                                                                     \n",
      "{'var_smoothing': 0.533669923120631}                                                                                   \n",
      " 70%|█████████████████████████████████▌              | 7/10 [00:20<00:08,  2.84s/trial, best loss: -0.9649133070185701]"
     ]
    },
    {
     "name": "stderr",
     "output_type": "stream",
     "text": [
      "C:\\Users\\velmurug\\Documents\\full_stability\\transformers\\StaticTransformer.py:44: PerformanceWarning: DataFrame is highly fragmented.  This is usually the result of calling `frame.insert` many times, which has poor performance.  Consider joining all columns at once using pd.concat(axis=1) instead.  To get a de-fragmented frame, use `newframe = frame.copy()`\n",
      "  dt_transformed[col] = 0\n",
      "\n",
      "C:\\Users\\velmurug\\Documents\\full_stability\\transformers\\IndexBasedTransformer.py:58: PerformanceWarning: DataFrame is highly fragmented.  This is usually the result of calling `frame.insert` many times, which has poor performance.  Consider joining all columns at once using pd.concat(axis=1) instead.  To get a de-fragmented frame, use `newframe = frame.copy()`\n",
      "  dt_transformed[col] = 0\n",
      "\n"
     ]
    },
    {
     "name": "stdout",
     "output_type": "stream",
     "text": [
      "Accuracy:                                                                                                              \n",
      "0.8400852878464818                                                                                                     \n",
      " 70%|█████████████████████████████████▌              | 7/10 [00:21<00:08,  2.84s/trial, best loss: -0.9649133070185701]"
     ]
    },
    {
     "name": "stderr",
     "output_type": "stream",
     "text": [
      "C:\\Users\\velmurug\\Documents\\full_stability\\transformers\\StaticTransformer.py:44: PerformanceWarning: DataFrame is highly fragmented.  This is usually the result of calling `frame.insert` many times, which has poor performance.  Consider joining all columns at once using pd.concat(axis=1) instead.  To get a de-fragmented frame, use `newframe = frame.copy()`\n",
      "  dt_transformed[col] = 0\n",
      "\n",
      "C:\\Users\\velmurug\\Documents\\full_stability\\transformers\\IndexBasedTransformer.py:58: PerformanceWarning: DataFrame is highly fragmented.  This is usually the result of calling `frame.insert` many times, which has poor performance.  Consider joining all columns at once using pd.concat(axis=1) instead.  To get a de-fragmented frame, use `newframe = frame.copy()`\n",
      "  dt_transformed[col] = 0\n",
      "\n"
     ]
    },
    {
     "name": "stdout",
     "output_type": "stream",
     "text": [
      "Accuracy:                                                                                                              \n",
      "0.826722338204593                                                                                                      \n",
      " 70%|█████████████████████████████████▌              | 7/10 [00:22<00:08,  2.84s/trial, best loss: -0.9649133070185701]"
     ]
    },
    {
     "name": "stderr",
     "output_type": "stream",
     "text": [
      "C:\\Users\\velmurug\\Documents\\full_stability\\transformers\\StaticTransformer.py:44: PerformanceWarning: DataFrame is highly fragmented.  This is usually the result of calling `frame.insert` many times, which has poor performance.  Consider joining all columns at once using pd.concat(axis=1) instead.  To get a de-fragmented frame, use `newframe = frame.copy()`\n",
      "  dt_transformed[col] = 0\n",
      "\n",
      "C:\\Users\\velmurug\\Documents\\full_stability\\transformers\\IndexBasedTransformer.py:58: PerformanceWarning: DataFrame is highly fragmented.  This is usually the result of calling `frame.insert` many times, which has poor performance.  Consider joining all columns at once using pd.concat(axis=1) instead.  To get a de-fragmented frame, use `newframe = frame.copy()`\n",
      "  dt_transformed[col] = 0\n",
      "\n"
     ]
    },
    {
     "name": "stdout",
     "output_type": "stream",
     "text": [
      "Accuracy:                                                                                                              \n",
      "0.8242677824267782                                                                                                     \n",
      "{'var_smoothing': 0.0004328761281083057}                                                                               \n",
      " 80%|██████████████████████████████████████▍         | 8/10 [00:22<00:05,  2.82s/trial, best loss: -0.9649133070185701]"
     ]
    },
    {
     "name": "stderr",
     "output_type": "stream",
     "text": [
      "C:\\Users\\velmurug\\Documents\\full_stability\\transformers\\StaticTransformer.py:44: PerformanceWarning: DataFrame is highly fragmented.  This is usually the result of calling `frame.insert` many times, which has poor performance.  Consider joining all columns at once using pd.concat(axis=1) instead.  To get a de-fragmented frame, use `newframe = frame.copy()`\n",
      "  dt_transformed[col] = 0\n",
      "\n",
      "C:\\Users\\velmurug\\Documents\\full_stability\\transformers\\IndexBasedTransformer.py:58: PerformanceWarning: DataFrame is highly fragmented.  This is usually the result of calling `frame.insert` many times, which has poor performance.  Consider joining all columns at once using pd.concat(axis=1) instead.  To get a de-fragmented frame, use `newframe = frame.copy()`\n",
      "  dt_transformed[col] = 0\n",
      "\n"
     ]
    },
    {
     "name": "stdout",
     "output_type": "stream",
     "text": [
      "Accuracy:                                                                                                              \n",
      "0.977886977886978                                                                                                      \n",
      " 80%|██████████████████████████████████████▍         | 8/10 [00:24<00:05,  2.82s/trial, best loss: -0.9649133070185701]"
     ]
    },
    {
     "name": "stderr",
     "output_type": "stream",
     "text": [
      "C:\\Users\\velmurug\\Documents\\full_stability\\transformers\\StaticTransformer.py:44: PerformanceWarning: DataFrame is highly fragmented.  This is usually the result of calling `frame.insert` many times, which has poor performance.  Consider joining all columns at once using pd.concat(axis=1) instead.  To get a de-fragmented frame, use `newframe = frame.copy()`\n",
      "  dt_transformed[col] = 0\n",
      "\n",
      "C:\\Users\\velmurug\\Documents\\full_stability\\transformers\\IndexBasedTransformer.py:58: PerformanceWarning: DataFrame is highly fragmented.  This is usually the result of calling `frame.insert` many times, which has poor performance.  Consider joining all columns at once using pd.concat(axis=1) instead.  To get a de-fragmented frame, use `newframe = frame.copy()`\n",
      "  dt_transformed[col] = 0\n",
      "\n"
     ]
    },
    {
     "name": "stdout",
     "output_type": "stream",
     "text": [
      "Accuracy:                                                                                                              \n",
      "0.9802955665024631                                                                                                     \n",
      " 80%|██████████████████████████████████████▍         | 8/10 [00:25<00:05,  2.82s/trial, best loss: -0.9649133070185701]"
     ]
    },
    {
     "name": "stderr",
     "output_type": "stream",
     "text": [
      "C:\\Users\\velmurug\\Documents\\full_stability\\transformers\\StaticTransformer.py:44: PerformanceWarning: DataFrame is highly fragmented.  This is usually the result of calling `frame.insert` many times, which has poor performance.  Consider joining all columns at once using pd.concat(axis=1) instead.  To get a de-fragmented frame, use `newframe = frame.copy()`\n",
      "  dt_transformed[col] = 0\n",
      "\n",
      "C:\\Users\\velmurug\\Documents\\full_stability\\transformers\\IndexBasedTransformer.py:58: PerformanceWarning: DataFrame is highly fragmented.  This is usually the result of calling `frame.insert` many times, which has poor performance.  Consider joining all columns at once using pd.concat(axis=1) instead.  To get a de-fragmented frame, use `newframe = frame.copy()`\n",
      "  dt_transformed[col] = 0\n",
      "\n"
     ]
    },
    {
     "name": "stdout",
     "output_type": "stream",
     "text": [
      "Accuracy:                                                                                                              \n",
      "0.9727047146401985                                                                                                     \n",
      "{'var_smoothing': 0.02848035868435802}                                                                                 \n",
      " 90%|███████████████████████████████████████████▏    | 9/10 [00:25<00:02,  2.90s/trial, best loss: -0.9769624196765464]"
     ]
    },
    {
     "name": "stderr",
     "output_type": "stream",
     "text": [
      "C:\\Users\\velmurug\\Documents\\full_stability\\transformers\\StaticTransformer.py:44: PerformanceWarning: DataFrame is highly fragmented.  This is usually the result of calling `frame.insert` many times, which has poor performance.  Consider joining all columns at once using pd.concat(axis=1) instead.  To get a de-fragmented frame, use `newframe = frame.copy()`\n",
      "  dt_transformed[col] = 0\n",
      "\n",
      "C:\\Users\\velmurug\\Documents\\full_stability\\transformers\\IndexBasedTransformer.py:58: PerformanceWarning: DataFrame is highly fragmented.  This is usually the result of calling `frame.insert` many times, which has poor performance.  Consider joining all columns at once using pd.concat(axis=1) instead.  To get a de-fragmented frame, use `newframe = frame.copy()`\n",
      "  dt_transformed[col] = 0\n",
      "\n"
     ]
    },
    {
     "name": "stdout",
     "output_type": "stream",
     "text": [
      "Accuracy:                                                                                                              \n",
      "0.8508771929824562                                                                                                     \n",
      " 90%|███████████████████████████████████████████▏    | 9/10 [00:26<00:02,  2.90s/trial, best loss: -0.9769624196765464]"
     ]
    },
    {
     "name": "stderr",
     "output_type": "stream",
     "text": [
      "C:\\Users\\velmurug\\Documents\\full_stability\\transformers\\StaticTransformer.py:44: PerformanceWarning: DataFrame is highly fragmented.  This is usually the result of calling `frame.insert` many times, which has poor performance.  Consider joining all columns at once using pd.concat(axis=1) instead.  To get a de-fragmented frame, use `newframe = frame.copy()`\n",
      "  dt_transformed[col] = 0\n",
      "\n",
      "C:\\Users\\velmurug\\Documents\\full_stability\\transformers\\IndexBasedTransformer.py:58: PerformanceWarning: DataFrame is highly fragmented.  This is usually the result of calling `frame.insert` many times, which has poor performance.  Consider joining all columns at once using pd.concat(axis=1) instead.  To get a de-fragmented frame, use `newframe = frame.copy()`\n",
      "  dt_transformed[col] = 0\n",
      "\n"
     ]
    },
    {
     "name": "stdout",
     "output_type": "stream",
     "text": [
      "Accuracy:                                                                                                              \n",
      "0.8565022421524664                                                                                                     \n",
      " 90%|███████████████████████████████████████████▏    | 9/10 [00:27<00:02,  2.90s/trial, best loss: -0.9769624196765464]"
     ]
    },
    {
     "name": "stderr",
     "output_type": "stream",
     "text": [
      "C:\\Users\\velmurug\\Documents\\full_stability\\transformers\\StaticTransformer.py:44: PerformanceWarning: DataFrame is highly fragmented.  This is usually the result of calling `frame.insert` many times, which has poor performance.  Consider joining all columns at once using pd.concat(axis=1) instead.  To get a de-fragmented frame, use `newframe = frame.copy()`\n",
      "  dt_transformed[col] = 0\n",
      "\n",
      "C:\\Users\\velmurug\\Documents\\full_stability\\transformers\\IndexBasedTransformer.py:58: PerformanceWarning: DataFrame is highly fragmented.  This is usually the result of calling `frame.insert` many times, which has poor performance.  Consider joining all columns at once using pd.concat(axis=1) instead.  To get a de-fragmented frame, use `newframe = frame.copy()`\n",
      "  dt_transformed[col] = 0\n",
      "\n"
     ]
    },
    {
     "name": "stdout",
     "output_type": "stream",
     "text": [
      "Accuracy:                                                                                                              \n",
      "0.8533333333333333                                                                                                     \n",
      "100%|███████████████████████████████████████████████| 10/10 [00:28<00:00,  2.89s/trial, best loss: -0.9769624196765464]\n",
      "Optimising 12 of 20 buckets\n",
      "{'var_smoothing': 2.848035868435799e-05}                                                                               \n",
      "  0%|                                                                           | 0/10 [00:00<?, ?trial/s, best loss=?]"
     ]
    },
    {
     "name": "stderr",
     "output_type": "stream",
     "text": [
      "C:\\Users\\velmurug\\Documents\\full_stability\\transformers\\StaticTransformer.py:44: PerformanceWarning: DataFrame is highly fragmented.  This is usually the result of calling `frame.insert` many times, which has poor performance.  Consider joining all columns at once using pd.concat(axis=1) instead.  To get a de-fragmented frame, use `newframe = frame.copy()`\n",
      "  dt_transformed[col] = 0\n",
      "\n",
      "C:\\Users\\velmurug\\Documents\\full_stability\\transformers\\IndexBasedTransformer.py:58: PerformanceWarning: DataFrame is highly fragmented.  This is usually the result of calling `frame.insert` many times, which has poor performance.  Consider joining all columns at once using pd.concat(axis=1) instead.  To get a de-fragmented frame, use `newframe = frame.copy()`\n",
      "  dt_transformed[col] = 0\n",
      "\n"
     ]
    },
    {
     "name": "stdout",
     "output_type": "stream",
     "text": [
      "Accuracy:                                                                                                              \n",
      "0.9674185463659148                                                                                                     \n",
      "  0%|                                                                           | 0/10 [00:01<?, ?trial/s, best loss=?]"
     ]
    },
    {
     "name": "stderr",
     "output_type": "stream",
     "text": [
      "C:\\Users\\velmurug\\Documents\\full_stability\\transformers\\StaticTransformer.py:44: PerformanceWarning: DataFrame is highly fragmented.  This is usually the result of calling `frame.insert` many times, which has poor performance.  Consider joining all columns at once using pd.concat(axis=1) instead.  To get a de-fragmented frame, use `newframe = frame.copy()`\n",
      "  dt_transformed[col] = 0\n",
      "\n",
      "C:\\Users\\velmurug\\Documents\\full_stability\\transformers\\IndexBasedTransformer.py:58: PerformanceWarning: DataFrame is highly fragmented.  This is usually the result of calling `frame.insert` many times, which has poor performance.  Consider joining all columns at once using pd.concat(axis=1) instead.  To get a de-fragmented frame, use `newframe = frame.copy()`\n",
      "  dt_transformed[col] = 0\n",
      "\n"
     ]
    },
    {
     "name": "stdout",
     "output_type": "stream",
     "text": [
      "Accuracy:                                                                                                              \n",
      "0.9569620253164557                                                                                                     \n",
      "  0%|                                                                           | 0/10 [00:02<?, ?trial/s, best loss=?]"
     ]
    },
    {
     "name": "stderr",
     "output_type": "stream",
     "text": [
      "C:\\Users\\velmurug\\Documents\\full_stability\\transformers\\StaticTransformer.py:44: PerformanceWarning: DataFrame is highly fragmented.  This is usually the result of calling `frame.insert` many times, which has poor performance.  Consider joining all columns at once using pd.concat(axis=1) instead.  To get a de-fragmented frame, use `newframe = frame.copy()`\n",
      "  dt_transformed[col] = 0\n",
      "\n",
      "C:\\Users\\velmurug\\Documents\\full_stability\\transformers\\IndexBasedTransformer.py:58: PerformanceWarning: DataFrame is highly fragmented.  This is usually the result of calling `frame.insert` many times, which has poor performance.  Consider joining all columns at once using pd.concat(axis=1) instead.  To get a de-fragmented frame, use `newframe = frame.copy()`\n",
      "  dt_transformed[col] = 0\n",
      "\n"
     ]
    },
    {
     "name": "stdout",
     "output_type": "stream",
     "text": [
      "Accuracy:                                                                                                              \n",
      "0.9462915601023019                                                                                                     \n",
      "{'var_smoothing': 1.232846739442066e-08}                                                                               \n",
      " 10%|████▊                                           | 1/10 [00:03<00:30,  3.36s/trial, best loss: -0.9568907105948908]"
     ]
    },
    {
     "name": "stderr",
     "output_type": "stream",
     "text": [
      "C:\\Users\\velmurug\\Documents\\full_stability\\transformers\\StaticTransformer.py:44: PerformanceWarning: DataFrame is highly fragmented.  This is usually the result of calling `frame.insert` many times, which has poor performance.  Consider joining all columns at once using pd.concat(axis=1) instead.  To get a de-fragmented frame, use `newframe = frame.copy()`\n",
      "  dt_transformed[col] = 0\n",
      "\n",
      "C:\\Users\\velmurug\\Documents\\full_stability\\transformers\\IndexBasedTransformer.py:58: PerformanceWarning: DataFrame is highly fragmented.  This is usually the result of calling `frame.insert` many times, which has poor performance.  Consider joining all columns at once using pd.concat(axis=1) instead.  To get a de-fragmented frame, use `newframe = frame.copy()`\n",
      "  dt_transformed[col] = 0\n",
      "\n"
     ]
    },
    {
     "name": "stdout",
     "output_type": "stream",
     "text": [
      "Accuracy:                                                                                                              \n",
      "0.9543147208121827                                                                                                     \n",
      " 10%|████▊                                           | 1/10 [00:04<00:30,  3.36s/trial, best loss: -0.9568907105948908]"
     ]
    },
    {
     "name": "stderr",
     "output_type": "stream",
     "text": [
      "C:\\Users\\velmurug\\Documents\\full_stability\\transformers\\StaticTransformer.py:44: PerformanceWarning: DataFrame is highly fragmented.  This is usually the result of calling `frame.insert` many times, which has poor performance.  Consider joining all columns at once using pd.concat(axis=1) instead.  To get a de-fragmented frame, use `newframe = frame.copy()`\n",
      "  dt_transformed[col] = 0\n",
      "\n",
      "C:\\Users\\velmurug\\Documents\\full_stability\\transformers\\IndexBasedTransformer.py:58: PerformanceWarning: DataFrame is highly fragmented.  This is usually the result of calling `frame.insert` many times, which has poor performance.  Consider joining all columns at once using pd.concat(axis=1) instead.  To get a de-fragmented frame, use `newframe = frame.copy()`\n",
      "  dt_transformed[col] = 0\n",
      "\n"
     ]
    },
    {
     "name": "stdout",
     "output_type": "stream",
     "text": [
      "Accuracy:                                                                                                              \n",
      "0.97                                                                                                                   \n",
      " 10%|████▊                                           | 1/10 [00:05<00:30,  3.36s/trial, best loss: -0.9568907105948908]"
     ]
    },
    {
     "name": "stderr",
     "output_type": "stream",
     "text": [
      "C:\\Users\\velmurug\\Documents\\full_stability\\transformers\\StaticTransformer.py:44: PerformanceWarning: DataFrame is highly fragmented.  This is usually the result of calling `frame.insert` many times, which has poor performance.  Consider joining all columns at once using pd.concat(axis=1) instead.  To get a de-fragmented frame, use `newframe = frame.copy()`\n",
      "  dt_transformed[col] = 0\n",
      "\n",
      "C:\\Users\\velmurug\\Documents\\full_stability\\transformers\\IndexBasedTransformer.py:58: PerformanceWarning: DataFrame is highly fragmented.  This is usually the result of calling `frame.insert` many times, which has poor performance.  Consider joining all columns at once using pd.concat(axis=1) instead.  To get a de-fragmented frame, use `newframe = frame.copy()`\n",
      "  dt_transformed[col] = 0\n",
      "\n"
     ]
    },
    {
     "name": "stdout",
     "output_type": "stream",
     "text": [
      "Accuracy:                                                                                                              \n",
      "0.9435897435897436                                                                                                     \n",
      "{'var_smoothing': 0.01873817422860384}                                                                                 \n",
      " 20%|█████████▌                                      | 2/10 [00:06<00:26,  3.30s/trial, best loss: -0.9568907105948908]"
     ]
    },
    {
     "name": "stderr",
     "output_type": "stream",
     "text": [
      "C:\\Users\\velmurug\\Documents\\full_stability\\transformers\\StaticTransformer.py:44: PerformanceWarning: DataFrame is highly fragmented.  This is usually the result of calling `frame.insert` many times, which has poor performance.  Consider joining all columns at once using pd.concat(axis=1) instead.  To get a de-fragmented frame, use `newframe = frame.copy()`\n",
      "  dt_transformed[col] = 0\n",
      "\n",
      "C:\\Users\\velmurug\\Documents\\full_stability\\transformers\\IndexBasedTransformer.py:58: PerformanceWarning: DataFrame is highly fragmented.  This is usually the result of calling `frame.insert` many times, which has poor performance.  Consider joining all columns at once using pd.concat(axis=1) instead.  To get a de-fragmented frame, use `newframe = frame.copy()`\n",
      "  dt_transformed[col] = 0\n",
      "\n"
     ]
    },
    {
     "name": "stdout",
     "output_type": "stream",
     "text": [
      "Accuracy:                                                                                                              \n",
      "0.8639308855291578                                                                                                     \n",
      " 20%|█████████▌                                      | 2/10 [00:07<00:26,  3.30s/trial, best loss: -0.9568907105948908]"
     ]
    },
    {
     "name": "stderr",
     "output_type": "stream",
     "text": [
      "C:\\Users\\velmurug\\Documents\\full_stability\\transformers\\StaticTransformer.py:44: PerformanceWarning: DataFrame is highly fragmented.  This is usually the result of calling `frame.insert` many times, which has poor performance.  Consider joining all columns at once using pd.concat(axis=1) instead.  To get a de-fragmented frame, use `newframe = frame.copy()`\n",
      "  dt_transformed[col] = 0\n",
      "\n",
      "C:\\Users\\velmurug\\Documents\\full_stability\\transformers\\IndexBasedTransformer.py:58: PerformanceWarning: DataFrame is highly fragmented.  This is usually the result of calling `frame.insert` many times, which has poor performance.  Consider joining all columns at once using pd.concat(axis=1) instead.  To get a de-fragmented frame, use `newframe = frame.copy()`\n",
      "  dt_transformed[col] = 0\n",
      "\n"
     ]
    },
    {
     "name": "stdout",
     "output_type": "stream",
     "text": [
      "Accuracy:                                                                                                              \n",
      "0.8687782805429866                                                                                                     \n",
      " 20%|█████████▌                                      | 2/10 [00:08<00:26,  3.30s/trial, best loss: -0.9568907105948908]"
     ]
    },
    {
     "name": "stderr",
     "output_type": "stream",
     "text": [
      "C:\\Users\\velmurug\\Documents\\full_stability\\transformers\\StaticTransformer.py:44: PerformanceWarning: DataFrame is highly fragmented.  This is usually the result of calling `frame.insert` many times, which has poor performance.  Consider joining all columns at once using pd.concat(axis=1) instead.  To get a de-fragmented frame, use `newframe = frame.copy()`\n",
      "  dt_transformed[col] = 0\n",
      "\n",
      "C:\\Users\\velmurug\\Documents\\full_stability\\transformers\\IndexBasedTransformer.py:58: PerformanceWarning: DataFrame is highly fragmented.  This is usually the result of calling `frame.insert` many times, which has poor performance.  Consider joining all columns at once using pd.concat(axis=1) instead.  To get a de-fragmented frame, use `newframe = frame.copy()`\n",
      "  dt_transformed[col] = 0\n",
      "\n"
     ]
    },
    {
     "name": "stdout",
     "output_type": "stream",
     "text": [
      "Accuracy:                                                                                                              \n",
      "0.8571428571428571                                                                                                     \n",
      "{'var_smoothing': 0.0533669923120631}                                                                                  \n",
      " 30%|██████████████▍                                 | 3/10 [00:09<00:22,  3.24s/trial, best loss: -0.9568907105948908]"
     ]
    },
    {
     "name": "stderr",
     "output_type": "stream",
     "text": [
      "C:\\Users\\velmurug\\Documents\\full_stability\\transformers\\StaticTransformer.py:44: PerformanceWarning: DataFrame is highly fragmented.  This is usually the result of calling `frame.insert` many times, which has poor performance.  Consider joining all columns at once using pd.concat(axis=1) instead.  To get a de-fragmented frame, use `newframe = frame.copy()`\n",
      "  dt_transformed[col] = 0\n",
      "\n",
      "C:\\Users\\velmurug\\Documents\\full_stability\\transformers\\IndexBasedTransformer.py:58: PerformanceWarning: DataFrame is highly fragmented.  This is usually the result of calling `frame.insert` many times, which has poor performance.  Consider joining all columns at once using pd.concat(axis=1) instead.  To get a de-fragmented frame, use `newframe = frame.copy()`\n",
      "  dt_transformed[col] = 0\n",
      "\n"
     ]
    },
    {
     "name": "stdout",
     "output_type": "stream",
     "text": [
      "Accuracy:                                                                                                              \n",
      "0.8333333333333333                                                                                                     \n",
      " 30%|██████████████▍                                 | 3/10 [00:10<00:22,  3.24s/trial, best loss: -0.9568907105948908]"
     ]
    },
    {
     "name": "stderr",
     "output_type": "stream",
     "text": [
      "C:\\Users\\velmurug\\Documents\\full_stability\\transformers\\StaticTransformer.py:44: PerformanceWarning: DataFrame is highly fragmented.  This is usually the result of calling `frame.insert` many times, which has poor performance.  Consider joining all columns at once using pd.concat(axis=1) instead.  To get a de-fragmented frame, use `newframe = frame.copy()`\n",
      "  dt_transformed[col] = 0\n",
      "\n",
      "C:\\Users\\velmurug\\Documents\\full_stability\\transformers\\IndexBasedTransformer.py:58: PerformanceWarning: DataFrame is highly fragmented.  This is usually the result of calling `frame.insert` many times, which has poor performance.  Consider joining all columns at once using pd.concat(axis=1) instead.  To get a de-fragmented frame, use `newframe = frame.copy()`\n",
      "  dt_transformed[col] = 0\n",
      "\n"
     ]
    },
    {
     "name": "stdout",
     "output_type": "stream",
     "text": [
      "Accuracy:                                                                                                              \n",
      "0.8539325842696629                                                                                                     \n",
      " 30%|██████████████▍                                 | 3/10 [00:11<00:22,  3.24s/trial, best loss: -0.9568907105948908]"
     ]
    },
    {
     "name": "stderr",
     "output_type": "stream",
     "text": [
      "C:\\Users\\velmurug\\Documents\\full_stability\\transformers\\StaticTransformer.py:44: PerformanceWarning: DataFrame is highly fragmented.  This is usually the result of calling `frame.insert` many times, which has poor performance.  Consider joining all columns at once using pd.concat(axis=1) instead.  To get a de-fragmented frame, use `newframe = frame.copy()`\n",
      "  dt_transformed[col] = 0\n",
      "\n",
      "C:\\Users\\velmurug\\Documents\\full_stability\\transformers\\IndexBasedTransformer.py:58: PerformanceWarning: DataFrame is highly fragmented.  This is usually the result of calling `frame.insert` many times, which has poor performance.  Consider joining all columns at once using pd.concat(axis=1) instead.  To get a de-fragmented frame, use `newframe = frame.copy()`\n",
      "  dt_transformed[col] = 0\n",
      "\n"
     ]
    },
    {
     "name": "stdout",
     "output_type": "stream",
     "text": [
      "Accuracy:                                                                                                              \n",
      "0.8490153172866521                                                                                                     \n",
      "{'var_smoothing': 0.0005336699231206307}                                                                               \n",
      " 40%|███████████████████▏                            | 4/10 [00:13<00:19,  3.24s/trial, best loss: -0.9568907105948908]"
     ]
    },
    {
     "name": "stderr",
     "output_type": "stream",
     "text": [
      "C:\\Users\\velmurug\\Documents\\full_stability\\transformers\\StaticTransformer.py:44: PerformanceWarning: DataFrame is highly fragmented.  This is usually the result of calling `frame.insert` many times, which has poor performance.  Consider joining all columns at once using pd.concat(axis=1) instead.  To get a de-fragmented frame, use `newframe = frame.copy()`\n",
      "  dt_transformed[col] = 0\n",
      "\n",
      "C:\\Users\\velmurug\\Documents\\full_stability\\transformers\\IndexBasedTransformer.py:58: PerformanceWarning: DataFrame is highly fragmented.  This is usually the result of calling `frame.insert` many times, which has poor performance.  Consider joining all columns at once using pd.concat(axis=1) instead.  To get a de-fragmented frame, use `newframe = frame.copy()`\n",
      "  dt_transformed[col] = 0\n",
      "\n"
     ]
    },
    {
     "name": "stdout",
     "output_type": "stream",
     "text": [
      "Accuracy:                                                                                                              \n",
      "0.9622166246851386                                                                                                     \n",
      " 40%|███████████████████▏                            | 4/10 [00:14<00:19,  3.24s/trial, best loss: -0.9568907105948908]"
     ]
    },
    {
     "name": "stderr",
     "output_type": "stream",
     "text": [
      "C:\\Users\\velmurug\\Documents\\full_stability\\transformers\\StaticTransformer.py:44: PerformanceWarning: DataFrame is highly fragmented.  This is usually the result of calling `frame.insert` many times, which has poor performance.  Consider joining all columns at once using pd.concat(axis=1) instead.  To get a de-fragmented frame, use `newframe = frame.copy()`\n",
      "  dt_transformed[col] = 0\n",
      "\n",
      "C:\\Users\\velmurug\\Documents\\full_stability\\transformers\\IndexBasedTransformer.py:58: PerformanceWarning: DataFrame is highly fragmented.  This is usually the result of calling `frame.insert` many times, which has poor performance.  Consider joining all columns at once using pd.concat(axis=1) instead.  To get a de-fragmented frame, use `newframe = frame.copy()`\n",
      "  dt_transformed[col] = 0\n",
      "\n"
     ]
    },
    {
     "name": "stdout",
     "output_type": "stream",
     "text": [
      "Accuracy:                                                                                                              \n",
      "0.9674185463659148                                                                                                     \n",
      " 40%|███████████████████▏                            | 4/10 [00:15<00:19,  3.24s/trial, best loss: -0.9568907105948908]"
     ]
    },
    {
     "name": "stderr",
     "output_type": "stream",
     "text": [
      "C:\\Users\\velmurug\\Documents\\full_stability\\transformers\\StaticTransformer.py:44: PerformanceWarning: DataFrame is highly fragmented.  This is usually the result of calling `frame.insert` many times, which has poor performance.  Consider joining all columns at once using pd.concat(axis=1) instead.  To get a de-fragmented frame, use `newframe = frame.copy()`\n",
      "  dt_transformed[col] = 0\n",
      "\n",
      "C:\\Users\\velmurug\\Documents\\full_stability\\transformers\\IndexBasedTransformer.py:58: PerformanceWarning: DataFrame is highly fragmented.  This is usually the result of calling `frame.insert` many times, which has poor performance.  Consider joining all columns at once using pd.concat(axis=1) instead.  To get a de-fragmented frame, use `newframe = frame.copy()`\n",
      "  dt_transformed[col] = 0\n",
      "\n"
     ]
    },
    {
     "name": "stdout",
     "output_type": "stream",
     "text": [
      "Accuracy:                                                                                                              \n",
      "0.9435897435897436                                                                                                     \n",
      "{'var_smoothing': 4.328761281083062e-05}                                                                               \n",
      " 50%|████████████████████████                        | 5/10 [00:16<00:16,  3.22s/trial, best loss: -0.9577416382135991]"
     ]
    },
    {
     "name": "stderr",
     "output_type": "stream",
     "text": [
      "C:\\Users\\velmurug\\Documents\\full_stability\\transformers\\StaticTransformer.py:44: PerformanceWarning: DataFrame is highly fragmented.  This is usually the result of calling `frame.insert` many times, which has poor performance.  Consider joining all columns at once using pd.concat(axis=1) instead.  To get a de-fragmented frame, use `newframe = frame.copy()`\n",
      "  dt_transformed[col] = 0\n",
      "\n",
      "C:\\Users\\velmurug\\Documents\\full_stability\\transformers\\IndexBasedTransformer.py:58: PerformanceWarning: DataFrame is highly fragmented.  This is usually the result of calling `frame.insert` many times, which has poor performance.  Consider joining all columns at once using pd.concat(axis=1) instead.  To get a de-fragmented frame, use `newframe = frame.copy()`\n",
      "  dt_transformed[col] = 0\n",
      "\n"
     ]
    },
    {
     "name": "stdout",
     "output_type": "stream",
     "text": [
      "Accuracy:                                                                                                              \n",
      "0.9543147208121827                                                                                                     \n",
      " 50%|████████████████████████                        | 5/10 [00:17<00:16,  3.22s/trial, best loss: -0.9577416382135991]"
     ]
    },
    {
     "name": "stderr",
     "output_type": "stream",
     "text": [
      "C:\\Users\\velmurug\\Documents\\full_stability\\transformers\\StaticTransformer.py:44: PerformanceWarning: DataFrame is highly fragmented.  This is usually the result of calling `frame.insert` many times, which has poor performance.  Consider joining all columns at once using pd.concat(axis=1) instead.  To get a de-fragmented frame, use `newframe = frame.copy()`\n",
      "  dt_transformed[col] = 0\n",
      "\n",
      "C:\\Users\\velmurug\\Documents\\full_stability\\transformers\\IndexBasedTransformer.py:58: PerformanceWarning: DataFrame is highly fragmented.  This is usually the result of calling `frame.insert` many times, which has poor performance.  Consider joining all columns at once using pd.concat(axis=1) instead.  To get a de-fragmented frame, use `newframe = frame.copy()`\n",
      "  dt_transformed[col] = 0\n",
      "\n"
     ]
    },
    {
     "name": "stdout",
     "output_type": "stream",
     "text": [
      "Accuracy:                                                                                                              \n",
      "0.9462915601023019                                                                                                     \n",
      " 50%|████████████████████████                        | 5/10 [00:18<00:16,  3.22s/trial, best loss: -0.9577416382135991]"
     ]
    },
    {
     "name": "stderr",
     "output_type": "stream",
     "text": [
      "C:\\Users\\velmurug\\Documents\\full_stability\\transformers\\StaticTransformer.py:44: PerformanceWarning: DataFrame is highly fragmented.  This is usually the result of calling `frame.insert` many times, which has poor performance.  Consider joining all columns at once using pd.concat(axis=1) instead.  To get a de-fragmented frame, use `newframe = frame.copy()`\n",
      "  dt_transformed[col] = 0\n",
      "\n",
      "C:\\Users\\velmurug\\Documents\\full_stability\\transformers\\IndexBasedTransformer.py:58: PerformanceWarning: DataFrame is highly fragmented.  This is usually the result of calling `frame.insert` many times, which has poor performance.  Consider joining all columns at once using pd.concat(axis=1) instead.  To get a de-fragmented frame, use `newframe = frame.copy()`\n",
      "  dt_transformed[col] = 0\n",
      "\n"
     ]
    },
    {
     "name": "stdout",
     "output_type": "stream",
     "text": [
      "Accuracy:                                                                                                              \n",
      "0.9435897435897436                                                                                                     \n",
      "{'var_smoothing': 0.006579332246575682}                                                                                \n",
      " 60%|████████████████████████████▊                   | 6/10 [00:19<00:12,  3.25s/trial, best loss: -0.9577416382135991]"
     ]
    },
    {
     "name": "stderr",
     "output_type": "stream",
     "text": [
      "C:\\Users\\velmurug\\Documents\\full_stability\\transformers\\StaticTransformer.py:44: PerformanceWarning: DataFrame is highly fragmented.  This is usually the result of calling `frame.insert` many times, which has poor performance.  Consider joining all columns at once using pd.concat(axis=1) instead.  To get a de-fragmented frame, use `newframe = frame.copy()`\n",
      "  dt_transformed[col] = 0\n",
      "\n",
      "C:\\Users\\velmurug\\Documents\\full_stability\\transformers\\IndexBasedTransformer.py:58: PerformanceWarning: DataFrame is highly fragmented.  This is usually the result of calling `frame.insert` many times, which has poor performance.  Consider joining all columns at once using pd.concat(axis=1) instead.  To get a de-fragmented frame, use `newframe = frame.copy()`\n",
      "  dt_transformed[col] = 0\n",
      "\n"
     ]
    },
    {
     "name": "stdout",
     "output_type": "stream",
     "text": [
      "Accuracy:                                                                                                              \n",
      "0.8812785388127853                                                                                                     \n",
      " 60%|████████████████████████████▊                   | 6/10 [00:20<00:12,  3.25s/trial, best loss: -0.9577416382135991]"
     ]
    },
    {
     "name": "stderr",
     "output_type": "stream",
     "text": [
      "C:\\Users\\velmurug\\Documents\\full_stability\\transformers\\StaticTransformer.py:44: PerformanceWarning: DataFrame is highly fragmented.  This is usually the result of calling `frame.insert` many times, which has poor performance.  Consider joining all columns at once using pd.concat(axis=1) instead.  To get a de-fragmented frame, use `newframe = frame.copy()`\n",
      "  dt_transformed[col] = 0\n",
      "\n",
      "C:\\Users\\velmurug\\Documents\\full_stability\\transformers\\IndexBasedTransformer.py:58: PerformanceWarning: DataFrame is highly fragmented.  This is usually the result of calling `frame.insert` many times, which has poor performance.  Consider joining all columns at once using pd.concat(axis=1) instead.  To get a de-fragmented frame, use `newframe = frame.copy()`\n",
      "  dt_transformed[col] = 0\n",
      "\n"
     ]
    },
    {
     "name": "stdout",
     "output_type": "stream",
     "text": [
      "Accuracy:                                                                                                              \n",
      "0.8997668997668998                                                                                                     \n",
      " 60%|████████████████████████████▊                   | 6/10 [00:21<00:12,  3.25s/trial, best loss: -0.9577416382135991]"
     ]
    },
    {
     "name": "stderr",
     "output_type": "stream",
     "text": [
      "C:\\Users\\velmurug\\Documents\\full_stability\\transformers\\StaticTransformer.py:44: PerformanceWarning: DataFrame is highly fragmented.  This is usually the result of calling `frame.insert` many times, which has poor performance.  Consider joining all columns at once using pd.concat(axis=1) instead.  To get a de-fragmented frame, use `newframe = frame.copy()`\n",
      "  dt_transformed[col] = 0\n",
      "\n",
      "C:\\Users\\velmurug\\Documents\\full_stability\\transformers\\IndexBasedTransformer.py:58: PerformanceWarning: DataFrame is highly fragmented.  This is usually the result of calling `frame.insert` many times, which has poor performance.  Consider joining all columns at once using pd.concat(axis=1) instead.  To get a de-fragmented frame, use `newframe = frame.copy()`\n",
      "  dt_transformed[col] = 0\n",
      "\n"
     ]
    },
    {
     "name": "stdout",
     "output_type": "stream",
     "text": [
      "Accuracy:                                                                                                              \n",
      "0.8919540229885058                                                                                                     \n",
      "{'var_smoothing': 0.0001519911082952933}                                                                               \n",
      " 70%|█████████████████████████████████▌              | 7/10 [00:22<00:09,  3.21s/trial, best loss: -0.9577416382135991]"
     ]
    },
    {
     "name": "stderr",
     "output_type": "stream",
     "text": [
      "C:\\Users\\velmurug\\Documents\\full_stability\\transformers\\StaticTransformer.py:44: PerformanceWarning: DataFrame is highly fragmented.  This is usually the result of calling `frame.insert` many times, which has poor performance.  Consider joining all columns at once using pd.concat(axis=1) instead.  To get a de-fragmented frame, use `newframe = frame.copy()`\n",
      "  dt_transformed[col] = 0\n",
      "\n",
      "C:\\Users\\velmurug\\Documents\\full_stability\\transformers\\IndexBasedTransformer.py:58: PerformanceWarning: DataFrame is highly fragmented.  This is usually the result of calling `frame.insert` many times, which has poor performance.  Consider joining all columns at once using pd.concat(axis=1) instead.  To get a de-fragmented frame, use `newframe = frame.copy()`\n",
      "  dt_transformed[col] = 0\n",
      "\n"
     ]
    },
    {
     "name": "stdout",
     "output_type": "stream",
     "text": [
      "Accuracy:                                                                                                              \n",
      "0.9648241206030151                                                                                                     \n",
      " 70%|█████████████████████████████████▌              | 7/10 [00:23<00:09,  3.21s/trial, best loss: -0.9577416382135991]"
     ]
    },
    {
     "name": "stderr",
     "output_type": "stream",
     "text": [
      "C:\\Users\\velmurug\\Documents\\full_stability\\transformers\\StaticTransformer.py:44: PerformanceWarning: DataFrame is highly fragmented.  This is usually the result of calling `frame.insert` many times, which has poor performance.  Consider joining all columns at once using pd.concat(axis=1) instead.  To get a de-fragmented frame, use `newframe = frame.copy()`\n",
      "  dt_transformed[col] = 0\n",
      "\n",
      "C:\\Users\\velmurug\\Documents\\full_stability\\transformers\\IndexBasedTransformer.py:58: PerformanceWarning: DataFrame is highly fragmented.  This is usually the result of calling `frame.insert` many times, which has poor performance.  Consider joining all columns at once using pd.concat(axis=1) instead.  To get a de-fragmented frame, use `newframe = frame.copy()`\n",
      "  dt_transformed[col] = 0\n",
      "\n"
     ]
    },
    {
     "name": "stdout",
     "output_type": "stream",
     "text": [
      "Accuracy:                                                                                                              \n",
      "0.9776674937965261                                                                                                     \n",
      " 70%|█████████████████████████████████▌              | 7/10 [00:24<00:09,  3.21s/trial, best loss: -0.9577416382135991]"
     ]
    },
    {
     "name": "stderr",
     "output_type": "stream",
     "text": [
      "C:\\Users\\velmurug\\Documents\\full_stability\\transformers\\StaticTransformer.py:44: PerformanceWarning: DataFrame is highly fragmented.  This is usually the result of calling `frame.insert` many times, which has poor performance.  Consider joining all columns at once using pd.concat(axis=1) instead.  To get a de-fragmented frame, use `newframe = frame.copy()`\n",
      "  dt_transformed[col] = 0\n",
      "\n",
      "C:\\Users\\velmurug\\Documents\\full_stability\\transformers\\IndexBasedTransformer.py:58: PerformanceWarning: DataFrame is highly fragmented.  This is usually the result of calling `frame.insert` many times, which has poor performance.  Consider joining all columns at once using pd.concat(axis=1) instead.  To get a de-fragmented frame, use `newframe = frame.copy()`\n",
      "  dt_transformed[col] = 0\n",
      "\n"
     ]
    },
    {
     "name": "stdout",
     "output_type": "stream",
     "text": [
      "Accuracy:                                                                                                              \n",
      "0.9595959595959597                                                                                                     \n",
      "{'var_smoothing': 1.519911082952933e-06}                                                                               \n",
      " 80%|██████████████████████████████████████▍         | 8/10 [00:25<00:06,  3.16s/trial, best loss: -0.9673625246651669]"
     ]
    },
    {
     "name": "stderr",
     "output_type": "stream",
     "text": [
      "C:\\Users\\velmurug\\Documents\\full_stability\\transformers\\StaticTransformer.py:44: PerformanceWarning: DataFrame is highly fragmented.  This is usually the result of calling `frame.insert` many times, which has poor performance.  Consider joining all columns at once using pd.concat(axis=1) instead.  To get a de-fragmented frame, use `newframe = frame.copy()`\n",
      "  dt_transformed[col] = 0\n",
      "\n",
      "C:\\Users\\velmurug\\Documents\\full_stability\\transformers\\IndexBasedTransformer.py:58: PerformanceWarning: DataFrame is highly fragmented.  This is usually the result of calling `frame.insert` many times, which has poor performance.  Consider joining all columns at once using pd.concat(axis=1) instead.  To get a de-fragmented frame, use `newframe = frame.copy()`\n",
      "  dt_transformed[col] = 0\n",
      "\n"
     ]
    },
    {
     "name": "stdout",
     "output_type": "stream",
     "text": [
      "Accuracy:                                                                                                              \n",
      "0.9595959595959597                                                                                                     \n",
      " 80%|██████████████████████████████████████▍         | 8/10 [00:26<00:06,  3.16s/trial, best loss: -0.9673625246651669]"
     ]
    },
    {
     "name": "stderr",
     "output_type": "stream",
     "text": [
      "C:\\Users\\velmurug\\Documents\\full_stability\\transformers\\StaticTransformer.py:44: PerformanceWarning: DataFrame is highly fragmented.  This is usually the result of calling `frame.insert` many times, which has poor performance.  Consider joining all columns at once using pd.concat(axis=1) instead.  To get a de-fragmented frame, use `newframe = frame.copy()`\n",
      "  dt_transformed[col] = 0\n",
      "\n",
      "C:\\Users\\velmurug\\Documents\\full_stability\\transformers\\IndexBasedTransformer.py:58: PerformanceWarning: DataFrame is highly fragmented.  This is usually the result of calling `frame.insert` many times, which has poor performance.  Consider joining all columns at once using pd.concat(axis=1) instead.  To get a de-fragmented frame, use `newframe = frame.copy()`\n",
      "  dt_transformed[col] = 0\n",
      "\n"
     ]
    },
    {
     "name": "stdout",
     "output_type": "stream",
     "text": [
      "Accuracy:                                                                                                              \n",
      "0.9622166246851386                                                                                                     \n",
      " 80%|██████████████████████████████████████▍         | 8/10 [00:27<00:06,  3.16s/trial, best loss: -0.9673625246651669]"
     ]
    },
    {
     "name": "stderr",
     "output_type": "stream",
     "text": [
      "C:\\Users\\velmurug\\Documents\\full_stability\\transformers\\StaticTransformer.py:44: PerformanceWarning: DataFrame is highly fragmented.  This is usually the result of calling `frame.insert` many times, which has poor performance.  Consider joining all columns at once using pd.concat(axis=1) instead.  To get a de-fragmented frame, use `newframe = frame.copy()`\n",
      "  dt_transformed[col] = 0\n",
      "\n",
      "C:\\Users\\velmurug\\Documents\\full_stability\\transformers\\IndexBasedTransformer.py:58: PerformanceWarning: DataFrame is highly fragmented.  This is usually the result of calling `frame.insert` many times, which has poor performance.  Consider joining all columns at once using pd.concat(axis=1) instead.  To get a de-fragmented frame, use `newframe = frame.copy()`\n",
      "  dt_transformed[col] = 0\n",
      "\n"
     ]
    },
    {
     "name": "stdout",
     "output_type": "stream",
     "text": [
      "Accuracy:                                                                                                              \n",
      "0.9381443298969072                                                                                                     \n",
      "{'var_smoothing': 3.5111917342151273e-09}                                                                              \n",
      " 90%|███████████████████████████████████████████▏    | 9/10 [00:28<00:03,  3.19s/trial, best loss: -0.9673625246651669]"
     ]
    },
    {
     "name": "stderr",
     "output_type": "stream",
     "text": [
      "C:\\Users\\velmurug\\Documents\\full_stability\\transformers\\StaticTransformer.py:44: PerformanceWarning: DataFrame is highly fragmented.  This is usually the result of calling `frame.insert` many times, which has poor performance.  Consider joining all columns at once using pd.concat(axis=1) instead.  To get a de-fragmented frame, use `newframe = frame.copy()`\n",
      "  dt_transformed[col] = 0\n",
      "\n",
      "C:\\Users\\velmurug\\Documents\\full_stability\\transformers\\IndexBasedTransformer.py:58: PerformanceWarning: DataFrame is highly fragmented.  This is usually the result of calling `frame.insert` many times, which has poor performance.  Consider joining all columns at once using pd.concat(axis=1) instead.  To get a de-fragmented frame, use `newframe = frame.copy()`\n",
      "  dt_transformed[col] = 0\n",
      "\n"
     ]
    },
    {
     "name": "stdout",
     "output_type": "stream",
     "text": [
      "Accuracy:                                                                                                              \n",
      "0.9674185463659148                                                                                                     \n",
      " 90%|███████████████████████████████████████████▏    | 9/10 [00:30<00:03,  3.19s/trial, best loss: -0.9673625246651669]"
     ]
    },
    {
     "name": "stderr",
     "output_type": "stream",
     "text": [
      "C:\\Users\\velmurug\\Documents\\full_stability\\transformers\\StaticTransformer.py:44: PerformanceWarning: DataFrame is highly fragmented.  This is usually the result of calling `frame.insert` many times, which has poor performance.  Consider joining all columns at once using pd.concat(axis=1) instead.  To get a de-fragmented frame, use `newframe = frame.copy()`\n",
      "  dt_transformed[col] = 0\n",
      "\n",
      "C:\\Users\\velmurug\\Documents\\full_stability\\transformers\\IndexBasedTransformer.py:58: PerformanceWarning: DataFrame is highly fragmented.  This is usually the result of calling `frame.insert` many times, which has poor performance.  Consider joining all columns at once using pd.concat(axis=1) instead.  To get a de-fragmented frame, use `newframe = frame.copy()`\n",
      "  dt_transformed[col] = 0\n",
      "\n"
     ]
    },
    {
     "name": "stdout",
     "output_type": "stream",
     "text": [
      "Accuracy:                                                                                                              \n",
      "0.9595959595959597                                                                                                     \n",
      " 90%|███████████████████████████████████████████▏    | 9/10 [00:31<00:03,  3.19s/trial, best loss: -0.9673625246651669]"
     ]
    },
    {
     "name": "stderr",
     "output_type": "stream",
     "text": [
      "C:\\Users\\velmurug\\Documents\\full_stability\\transformers\\StaticTransformer.py:44: PerformanceWarning: DataFrame is highly fragmented.  This is usually the result of calling `frame.insert` many times, which has poor performance.  Consider joining all columns at once using pd.concat(axis=1) instead.  To get a de-fragmented frame, use `newframe = frame.copy()`\n",
      "  dt_transformed[col] = 0\n",
      "\n",
      "C:\\Users\\velmurug\\Documents\\full_stability\\transformers\\IndexBasedTransformer.py:58: PerformanceWarning: DataFrame is highly fragmented.  This is usually the result of calling `frame.insert` many times, which has poor performance.  Consider joining all columns at once using pd.concat(axis=1) instead.  To get a de-fragmented frame, use `newframe = frame.copy()`\n",
      "  dt_transformed[col] = 0\n",
      "\n"
     ]
    },
    {
     "name": "stdout",
     "output_type": "stream",
     "text": [
      "Accuracy:                                                                                                              \n",
      "0.932642487046632                                                                                                      \n",
      "100%|███████████████████████████████████████████████| 10/10 [00:32<00:00,  3.21s/trial, best loss: -0.9673625246651669]\n",
      "Optimising 13 of 20 buckets\n",
      "{'var_smoothing': 1.873817422860383e-06}                                                                               \n",
      "  0%|                                                                           | 0/10 [00:00<?, ?trial/s, best loss=?]"
     ]
    },
    {
     "name": "stderr",
     "output_type": "stream",
     "text": [
      "C:\\Users\\velmurug\\Documents\\full_stability\\transformers\\StaticTransformer.py:44: PerformanceWarning: DataFrame is highly fragmented.  This is usually the result of calling `frame.insert` many times, which has poor performance.  Consider joining all columns at once using pd.concat(axis=1) instead.  To get a de-fragmented frame, use `newframe = frame.copy()`\n",
      "  dt_transformed[col] = 0\n",
      "\n",
      "C:\\Users\\velmurug\\Documents\\full_stability\\transformers\\IndexBasedTransformer.py:58: PerformanceWarning: DataFrame is highly fragmented.  This is usually the result of calling `frame.insert` many times, which has poor performance.  Consider joining all columns at once using pd.concat(axis=1) instead.  To get a de-fragmented frame, use `newframe = frame.copy()`\n",
      "  dt_transformed[col] = 0\n",
      "\n"
     ]
    },
    {
     "name": "stdout",
     "output_type": "stream",
     "text": [
      "Accuracy:                                                                                                              \n",
      "0.9595959595959597                                                                                                     \n",
      "  0%|                                                                           | 0/10 [00:01<?, ?trial/s, best loss=?]"
     ]
    },
    {
     "name": "stderr",
     "output_type": "stream",
     "text": [
      "C:\\Users\\velmurug\\Documents\\full_stability\\transformers\\StaticTransformer.py:44: PerformanceWarning: DataFrame is highly fragmented.  This is usually the result of calling `frame.insert` many times, which has poor performance.  Consider joining all columns at once using pd.concat(axis=1) instead.  To get a de-fragmented frame, use `newframe = frame.copy()`\n",
      "  dt_transformed[col] = 0\n",
      "\n",
      "C:\\Users\\velmurug\\Documents\\full_stability\\transformers\\IndexBasedTransformer.py:58: PerformanceWarning: DataFrame is highly fragmented.  This is usually the result of calling `frame.insert` many times, which has poor performance.  Consider joining all columns at once using pd.concat(axis=1) instead.  To get a de-fragmented frame, use `newframe = frame.copy()`\n",
      "  dt_transformed[col] = 0\n",
      "\n"
     ]
    },
    {
     "name": "stdout",
     "output_type": "stream",
     "text": [
      "Accuracy:                                                                                                              \n",
      "0.9540816326530613                                                                                                     \n",
      "  0%|                                                                           | 0/10 [00:02<?, ?trial/s, best loss=?]"
     ]
    },
    {
     "name": "stderr",
     "output_type": "stream",
     "text": [
      "C:\\Users\\velmurug\\Documents\\full_stability\\transformers\\StaticTransformer.py:44: PerformanceWarning: DataFrame is highly fragmented.  This is usually the result of calling `frame.insert` many times, which has poor performance.  Consider joining all columns at once using pd.concat(axis=1) instead.  To get a de-fragmented frame, use `newframe = frame.copy()`\n",
      "  dt_transformed[col] = 0\n",
      "\n",
      "C:\\Users\\velmurug\\Documents\\full_stability\\transformers\\IndexBasedTransformer.py:58: PerformanceWarning: DataFrame is highly fragmented.  This is usually the result of calling `frame.insert` many times, which has poor performance.  Consider joining all columns at once using pd.concat(axis=1) instead.  To get a de-fragmented frame, use `newframe = frame.copy()`\n",
      "  dt_transformed[col] = 0\n",
      "\n"
     ]
    },
    {
     "name": "stdout",
     "output_type": "stream",
     "text": [
      "Accuracy:                                                                                                              \n",
      "0.9514066496163683                                                                                                     \n",
      "{'var_smoothing': 6.579332246575682e-08}                                                                               \n",
      " 10%|████▊                                           | 1/10 [00:03<00:31,  3.48s/trial, best loss: -0.9550280806217964]"
     ]
    },
    {
     "name": "stderr",
     "output_type": "stream",
     "text": [
      "C:\\Users\\velmurug\\Documents\\full_stability\\transformers\\StaticTransformer.py:44: PerformanceWarning: DataFrame is highly fragmented.  This is usually the result of calling `frame.insert` many times, which has poor performance.  Consider joining all columns at once using pd.concat(axis=1) instead.  To get a de-fragmented frame, use `newframe = frame.copy()`\n",
      "  dt_transformed[col] = 0\n",
      "\n",
      "C:\\Users\\velmurug\\Documents\\full_stability\\transformers\\IndexBasedTransformer.py:58: PerformanceWarning: DataFrame is highly fragmented.  This is usually the result of calling `frame.insert` many times, which has poor performance.  Consider joining all columns at once using pd.concat(axis=1) instead.  To get a de-fragmented frame, use `newframe = frame.copy()`\n",
      "  dt_transformed[col] = 0\n",
      "\n"
     ]
    },
    {
     "name": "stdout",
     "output_type": "stream",
     "text": [
      "Accuracy:                                                                                                              \n",
      "0.9648241206030151                                                                                                     \n",
      " 10%|████▊                                           | 1/10 [00:04<00:31,  3.48s/trial, best loss: -0.9550280806217964]"
     ]
    },
    {
     "name": "stderr",
     "output_type": "stream",
     "text": [
      "C:\\Users\\velmurug\\Documents\\full_stability\\transformers\\StaticTransformer.py:44: PerformanceWarning: DataFrame is highly fragmented.  This is usually the result of calling `frame.insert` many times, which has poor performance.  Consider joining all columns at once using pd.concat(axis=1) instead.  To get a de-fragmented frame, use `newframe = frame.copy()`\n",
      "  dt_transformed[col] = 0\n",
      "\n",
      "C:\\Users\\velmurug\\Documents\\full_stability\\transformers\\IndexBasedTransformer.py:58: PerformanceWarning: DataFrame is highly fragmented.  This is usually the result of calling `frame.insert` many times, which has poor performance.  Consider joining all columns at once using pd.concat(axis=1) instead.  To get a de-fragmented frame, use `newframe = frame.copy()`\n",
      "  dt_transformed[col] = 0\n",
      "\n"
     ]
    },
    {
     "name": "stdout",
     "output_type": "stream",
     "text": [
      "Accuracy:                                                                                                              \n",
      "0.9593908629441625                                                                                                     \n",
      " 10%|████▊                                           | 1/10 [00:05<00:31,  3.48s/trial, best loss: -0.9550280806217964]"
     ]
    },
    {
     "name": "stderr",
     "output_type": "stream",
     "text": [
      "C:\\Users\\velmurug\\Documents\\full_stability\\transformers\\StaticTransformer.py:44: PerformanceWarning: DataFrame is highly fragmented.  This is usually the result of calling `frame.insert` many times, which has poor performance.  Consider joining all columns at once using pd.concat(axis=1) instead.  To get a de-fragmented frame, use `newframe = frame.copy()`\n",
      "  dt_transformed[col] = 0\n",
      "\n",
      "C:\\Users\\velmurug\\Documents\\full_stability\\transformers\\IndexBasedTransformer.py:58: PerformanceWarning: DataFrame is highly fragmented.  This is usually the result of calling `frame.insert` many times, which has poor performance.  Consider joining all columns at once using pd.concat(axis=1) instead.  To get a de-fragmented frame, use `newframe = frame.copy()`\n",
      "  dt_transformed[col] = 0\n",
      "\n"
     ]
    },
    {
     "name": "stdout",
     "output_type": "stream",
     "text": [
      "Accuracy:                                                                                                              \n",
      "0.9672544080604535                                                                                                     \n",
      "{'var_smoothing': 0.01}                                                                                                \n",
      " 20%|█████████▊                                       | 2/10 [00:06<00:27,  3.43s/trial, best loss: -0.963823130535877]"
     ]
    },
    {
     "name": "stderr",
     "output_type": "stream",
     "text": [
      "C:\\Users\\velmurug\\Documents\\full_stability\\transformers\\StaticTransformer.py:44: PerformanceWarning: DataFrame is highly fragmented.  This is usually the result of calling `frame.insert` many times, which has poor performance.  Consider joining all columns at once using pd.concat(axis=1) instead.  To get a de-fragmented frame, use `newframe = frame.copy()`\n",
      "  dt_transformed[col] = 0\n",
      "\n",
      "C:\\Users\\velmurug\\Documents\\full_stability\\transformers\\IndexBasedTransformer.py:58: PerformanceWarning: DataFrame is highly fragmented.  This is usually the result of calling `frame.insert` many times, which has poor performance.  Consider joining all columns at once using pd.concat(axis=1) instead.  To get a de-fragmented frame, use `newframe = frame.copy()`\n",
      "  dt_transformed[col] = 0\n",
      "\n"
     ]
    },
    {
     "name": "stdout",
     "output_type": "stream",
     "text": [
      "Accuracy:                                                                                                              \n",
      "0.874141876430206                                                                                                      \n",
      " 20%|█████████▊                                       | 2/10 [00:08<00:27,  3.43s/trial, best loss: -0.963823130535877]"
     ]
    },
    {
     "name": "stderr",
     "output_type": "stream",
     "text": [
      "C:\\Users\\velmurug\\Documents\\full_stability\\transformers\\StaticTransformer.py:44: PerformanceWarning: DataFrame is highly fragmented.  This is usually the result of calling `frame.insert` many times, which has poor performance.  Consider joining all columns at once using pd.concat(axis=1) instead.  To get a de-fragmented frame, use `newframe = frame.copy()`\n",
      "  dt_transformed[col] = 0\n",
      "\n",
      "C:\\Users\\velmurug\\Documents\\full_stability\\transformers\\IndexBasedTransformer.py:58: PerformanceWarning: DataFrame is highly fragmented.  This is usually the result of calling `frame.insert` many times, which has poor performance.  Consider joining all columns at once using pd.concat(axis=1) instead.  To get a de-fragmented frame, use `newframe = frame.copy()`\n",
      "  dt_transformed[col] = 0\n",
      "\n"
     ]
    },
    {
     "name": "stdout",
     "output_type": "stream",
     "text": [
      "Accuracy:                                                                                                              \n",
      "0.868596881959911                                                                                                      \n",
      " 20%|█████████▊                                       | 2/10 [00:09<00:27,  3.43s/trial, best loss: -0.963823130535877]"
     ]
    },
    {
     "name": "stderr",
     "output_type": "stream",
     "text": [
      "C:\\Users\\velmurug\\Documents\\full_stability\\transformers\\StaticTransformer.py:44: PerformanceWarning: DataFrame is highly fragmented.  This is usually the result of calling `frame.insert` many times, which has poor performance.  Consider joining all columns at once using pd.concat(axis=1) instead.  To get a de-fragmented frame, use `newframe = frame.copy()`\n",
      "  dt_transformed[col] = 0\n",
      "\n",
      "C:\\Users\\velmurug\\Documents\\full_stability\\transformers\\IndexBasedTransformer.py:58: PerformanceWarning: DataFrame is highly fragmented.  This is usually the result of calling `frame.insert` many times, which has poor performance.  Consider joining all columns at once using pd.concat(axis=1) instead.  To get a de-fragmented frame, use `newframe = frame.copy()`\n",
      "  dt_transformed[col] = 0\n",
      "\n"
     ]
    },
    {
     "name": "stdout",
     "output_type": "stream",
     "text": [
      "Accuracy:                                                                                                              \n",
      "0.8818181818181818                                                                                                     \n",
      "{'var_smoothing': 0.0001873817422860383}                                                                               \n",
      " 30%|██████████████▋                                  | 3/10 [00:10<00:24,  3.44s/trial, best loss: -0.963823130535877]"
     ]
    },
    {
     "name": "stderr",
     "output_type": "stream",
     "text": [
      "C:\\Users\\velmurug\\Documents\\full_stability\\transformers\\StaticTransformer.py:44: PerformanceWarning: DataFrame is highly fragmented.  This is usually the result of calling `frame.insert` many times, which has poor performance.  Consider joining all columns at once using pd.concat(axis=1) instead.  To get a de-fragmented frame, use `newframe = frame.copy()`\n",
      "  dt_transformed[col] = 0\n",
      "\n",
      "C:\\Users\\velmurug\\Documents\\full_stability\\transformers\\IndexBasedTransformer.py:58: PerformanceWarning: DataFrame is highly fragmented.  This is usually the result of calling `frame.insert` many times, which has poor performance.  Consider joining all columns at once using pd.concat(axis=1) instead.  To get a de-fragmented frame, use `newframe = frame.copy()`\n",
      "  dt_transformed[col] = 0\n",
      "\n"
     ]
    },
    {
     "name": "stdout",
     "output_type": "stream",
     "text": [
      "Accuracy:                                                                                                              \n",
      "0.9569620253164557                                                                                                     \n",
      " 30%|██████████████▋                                  | 3/10 [00:11<00:24,  3.44s/trial, best loss: -0.963823130535877]"
     ]
    },
    {
     "name": "stderr",
     "output_type": "stream",
     "text": [
      "C:\\Users\\velmurug\\Documents\\full_stability\\transformers\\StaticTransformer.py:44: PerformanceWarning: DataFrame is highly fragmented.  This is usually the result of calling `frame.insert` many times, which has poor performance.  Consider joining all columns at once using pd.concat(axis=1) instead.  To get a de-fragmented frame, use `newframe = frame.copy()`\n",
      "  dt_transformed[col] = 0\n",
      "\n",
      "C:\\Users\\velmurug\\Documents\\full_stability\\transformers\\IndexBasedTransformer.py:58: PerformanceWarning: DataFrame is highly fragmented.  This is usually the result of calling `frame.insert` many times, which has poor performance.  Consider joining all columns at once using pd.concat(axis=1) instead.  To get a de-fragmented frame, use `newframe = frame.copy()`\n",
      "  dt_transformed[col] = 0\n",
      "\n"
     ]
    },
    {
     "name": "stdout",
     "output_type": "stream",
     "text": [
      "Accuracy:                                                                                                              \n",
      "0.975                                                                                                                  \n",
      " 30%|██████████████▋                                  | 3/10 [00:12<00:24,  3.44s/trial, best loss: -0.963823130535877]"
     ]
    },
    {
     "name": "stderr",
     "output_type": "stream",
     "text": [
      "C:\\Users\\velmurug\\Documents\\full_stability\\transformers\\StaticTransformer.py:44: PerformanceWarning: DataFrame is highly fragmented.  This is usually the result of calling `frame.insert` many times, which has poor performance.  Consider joining all columns at once using pd.concat(axis=1) instead.  To get a de-fragmented frame, use `newframe = frame.copy()`\n",
      "  dt_transformed[col] = 0\n",
      "\n",
      "C:\\Users\\velmurug\\Documents\\full_stability\\transformers\\IndexBasedTransformer.py:58: PerformanceWarning: DataFrame is highly fragmented.  This is usually the result of calling `frame.insert` many times, which has poor performance.  Consider joining all columns at once using pd.concat(axis=1) instead.  To get a de-fragmented frame, use `newframe = frame.copy()`\n",
      "  dt_transformed[col] = 0\n",
      "\n"
     ]
    },
    {
     "name": "stdout",
     "output_type": "stream",
     "text": [
      "Accuracy:                                                                                                              \n",
      "0.9514066496163683                                                                                                     \n",
      "{'var_smoothing': 0.15199110829529336}                                                                                 \n",
      " 40%|███████████████████▌                             | 4/10 [00:13<00:20,  3.43s/trial, best loss: -0.963823130535877]"
     ]
    },
    {
     "name": "stderr",
     "output_type": "stream",
     "text": [
      "C:\\Users\\velmurug\\Documents\\full_stability\\transformers\\StaticTransformer.py:44: PerformanceWarning: DataFrame is highly fragmented.  This is usually the result of calling `frame.insert` many times, which has poor performance.  Consider joining all columns at once using pd.concat(axis=1) instead.  To get a de-fragmented frame, use `newframe = frame.copy()`\n",
      "  dt_transformed[col] = 0\n",
      "\n",
      "C:\\Users\\velmurug\\Documents\\full_stability\\transformers\\IndexBasedTransformer.py:58: PerformanceWarning: DataFrame is highly fragmented.  This is usually the result of calling `frame.insert` many times, which has poor performance.  Consider joining all columns at once using pd.concat(axis=1) instead.  To get a de-fragmented frame, use `newframe = frame.copy()`\n",
      "  dt_transformed[col] = 0\n",
      "\n"
     ]
    },
    {
     "name": "stdout",
     "output_type": "stream",
     "text": [
      "Accuracy:                                                                                                              \n",
      "0.8395604395604396                                                                                                     \n",
      " 40%|███████████████████▌                             | 4/10 [00:14<00:20,  3.43s/trial, best loss: -0.963823130535877]"
     ]
    },
    {
     "name": "stderr",
     "output_type": "stream",
     "text": [
      "C:\\Users\\velmurug\\Documents\\full_stability\\transformers\\StaticTransformer.py:44: PerformanceWarning: DataFrame is highly fragmented.  This is usually the result of calling `frame.insert` many times, which has poor performance.  Consider joining all columns at once using pd.concat(axis=1) instead.  To get a de-fragmented frame, use `newframe = frame.copy()`\n",
      "  dt_transformed[col] = 0\n",
      "\n",
      "C:\\Users\\velmurug\\Documents\\full_stability\\transformers\\IndexBasedTransformer.py:58: PerformanceWarning: DataFrame is highly fragmented.  This is usually the result of calling `frame.insert` many times, which has poor performance.  Consider joining all columns at once using pd.concat(axis=1) instead.  To get a de-fragmented frame, use `newframe = frame.copy()`\n",
      "  dt_transformed[col] = 0\n",
      "\n"
     ]
    },
    {
     "name": "stdout",
     "output_type": "stream",
     "text": [
      "Accuracy:                                                                                                              \n",
      "0.8461538461538461                                                                                                     \n",
      " 40%|███████████████████▌                             | 4/10 [00:16<00:20,  3.43s/trial, best loss: -0.963823130535877]"
     ]
    },
    {
     "name": "stderr",
     "output_type": "stream",
     "text": [
      "C:\\Users\\velmurug\\Documents\\full_stability\\transformers\\StaticTransformer.py:44: PerformanceWarning: DataFrame is highly fragmented.  This is usually the result of calling `frame.insert` many times, which has poor performance.  Consider joining all columns at once using pd.concat(axis=1) instead.  To get a de-fragmented frame, use `newframe = frame.copy()`\n",
      "  dt_transformed[col] = 0\n",
      "\n",
      "C:\\Users\\velmurug\\Documents\\full_stability\\transformers\\IndexBasedTransformer.py:58: PerformanceWarning: DataFrame is highly fragmented.  This is usually the result of calling `frame.insert` many times, which has poor performance.  Consider joining all columns at once using pd.concat(axis=1) instead.  To get a de-fragmented frame, use `newframe = frame.copy()`\n",
      "  dt_transformed[col] = 0\n",
      "\n"
     ]
    },
    {
     "name": "stdout",
     "output_type": "stream",
     "text": [
      "Accuracy:                                                                                                              \n",
      "0.8464912280701754                                                                                                     \n",
      "{'var_smoothing': 2.310129700083158e-07}                                                                               \n",
      " 50%|████████████████████████▌                        | 5/10 [00:17<00:17,  3.46s/trial, best loss: -0.963823130535877]"
     ]
    },
    {
     "name": "stderr",
     "output_type": "stream",
     "text": [
      "C:\\Users\\velmurug\\Documents\\full_stability\\transformers\\StaticTransformer.py:44: PerformanceWarning: DataFrame is highly fragmented.  This is usually the result of calling `frame.insert` many times, which has poor performance.  Consider joining all columns at once using pd.concat(axis=1) instead.  To get a de-fragmented frame, use `newframe = frame.copy()`\n",
      "  dt_transformed[col] = 0\n",
      "\n",
      "C:\\Users\\velmurug\\Documents\\full_stability\\transformers\\IndexBasedTransformer.py:58: PerformanceWarning: DataFrame is highly fragmented.  This is usually the result of calling `frame.insert` many times, which has poor performance.  Consider joining all columns at once using pd.concat(axis=1) instead.  To get a de-fragmented frame, use `newframe = frame.copy()`\n",
      "  dt_transformed[col] = 0\n",
      "\n"
     ]
    },
    {
     "name": "stdout",
     "output_type": "stream",
     "text": [
      "Accuracy:                                                                                                              \n",
      "0.97                                                                                                                   \n",
      " 50%|████████████████████████▌                        | 5/10 [00:18<00:17,  3.46s/trial, best loss: -0.963823130535877]"
     ]
    },
    {
     "name": "stderr",
     "output_type": "stream",
     "text": [
      "C:\\Users\\velmurug\\Documents\\full_stability\\transformers\\StaticTransformer.py:44: PerformanceWarning: DataFrame is highly fragmented.  This is usually the result of calling `frame.insert` many times, which has poor performance.  Consider joining all columns at once using pd.concat(axis=1) instead.  To get a de-fragmented frame, use `newframe = frame.copy()`\n",
      "  dt_transformed[col] = 0\n",
      "\n",
      "C:\\Users\\velmurug\\Documents\\full_stability\\transformers\\IndexBasedTransformer.py:58: PerformanceWarning: DataFrame is highly fragmented.  This is usually the result of calling `frame.insert` many times, which has poor performance.  Consider joining all columns at once using pd.concat(axis=1) instead.  To get a de-fragmented frame, use `newframe = frame.copy()`\n",
      "  dt_transformed[col] = 0\n",
      "\n"
     ]
    },
    {
     "name": "stdout",
     "output_type": "stream",
     "text": [
      "Accuracy:                                                                                                              \n",
      "0.9672544080604535                                                                                                     \n",
      " 50%|████████████████████████▌                        | 5/10 [00:19<00:17,  3.46s/trial, best loss: -0.963823130535877]"
     ]
    },
    {
     "name": "stderr",
     "output_type": "stream",
     "text": [
      "C:\\Users\\velmurug\\Documents\\full_stability\\transformers\\StaticTransformer.py:44: PerformanceWarning: DataFrame is highly fragmented.  This is usually the result of calling `frame.insert` many times, which has poor performance.  Consider joining all columns at once using pd.concat(axis=1) instead.  To get a de-fragmented frame, use `newframe = frame.copy()`\n",
      "  dt_transformed[col] = 0\n",
      "\n",
      "C:\\Users\\velmurug\\Documents\\full_stability\\transformers\\IndexBasedTransformer.py:58: PerformanceWarning: DataFrame is highly fragmented.  This is usually the result of calling `frame.insert` many times, which has poor performance.  Consider joining all columns at once using pd.concat(axis=1) instead.  To get a de-fragmented frame, use `newframe = frame.copy()`\n",
      "  dt_transformed[col] = 0\n",
      "\n"
     ]
    },
    {
     "name": "stdout",
     "output_type": "stream",
     "text": [
      "Accuracy:                                                                                                              \n",
      "0.9322916666666667                                                                                                     \n",
      "{'var_smoothing': 0.12328467394420659}                                                                                 \n",
      " 60%|█████████████████████████████▍                   | 6/10 [00:20<00:13,  3.46s/trial, best loss: -0.963823130535877]"
     ]
    },
    {
     "name": "stderr",
     "output_type": "stream",
     "text": [
      "C:\\Users\\velmurug\\Documents\\full_stability\\transformers\\StaticTransformer.py:44: PerformanceWarning: DataFrame is highly fragmented.  This is usually the result of calling `frame.insert` many times, which has poor performance.  Consider joining all columns at once using pd.concat(axis=1) instead.  To get a de-fragmented frame, use `newframe = frame.copy()`\n",
      "  dt_transformed[col] = 0\n",
      "\n",
      "C:\\Users\\velmurug\\Documents\\full_stability\\transformers\\IndexBasedTransformer.py:58: PerformanceWarning: DataFrame is highly fragmented.  This is usually the result of calling `frame.insert` many times, which has poor performance.  Consider joining all columns at once using pd.concat(axis=1) instead.  To get a de-fragmented frame, use `newframe = frame.copy()`\n",
      "  dt_transformed[col] = 0\n",
      "\n"
     ]
    },
    {
     "name": "stdout",
     "output_type": "stream",
     "text": [
      "Accuracy:                                                                                                              \n",
      "0.8461538461538461                                                                                                     \n",
      " 60%|█████████████████████████████▍                   | 6/10 [00:21<00:13,  3.46s/trial, best loss: -0.963823130535877]"
     ]
    },
    {
     "name": "stderr",
     "output_type": "stream",
     "text": [
      "C:\\Users\\velmurug\\Documents\\full_stability\\transformers\\StaticTransformer.py:44: PerformanceWarning: DataFrame is highly fragmented.  This is usually the result of calling `frame.insert` many times, which has poor performance.  Consider joining all columns at once using pd.concat(axis=1) instead.  To get a de-fragmented frame, use `newframe = frame.copy()`\n",
      "  dt_transformed[col] = 0\n",
      "\n",
      "C:\\Users\\velmurug\\Documents\\full_stability\\transformers\\IndexBasedTransformer.py:58: PerformanceWarning: DataFrame is highly fragmented.  This is usually the result of calling `frame.insert` many times, which has poor performance.  Consider joining all columns at once using pd.concat(axis=1) instead.  To get a de-fragmented frame, use `newframe = frame.copy()`\n",
      "  dt_transformed[col] = 0\n",
      "\n"
     ]
    },
    {
     "name": "stdout",
     "output_type": "stream",
     "text": [
      "Accuracy:                                                                                                              \n",
      "0.8459869848156182                                                                                                     \n",
      " 60%|█████████████████████████████▍                   | 6/10 [00:23<00:13,  3.46s/trial, best loss: -0.963823130535877]"
     ]
    },
    {
     "name": "stderr",
     "output_type": "stream",
     "text": [
      "C:\\Users\\velmurug\\Documents\\full_stability\\transformers\\StaticTransformer.py:44: PerformanceWarning: DataFrame is highly fragmented.  This is usually the result of calling `frame.insert` many times, which has poor performance.  Consider joining all columns at once using pd.concat(axis=1) instead.  To get a de-fragmented frame, use `newframe = frame.copy()`\n",
      "  dt_transformed[col] = 0\n",
      "\n",
      "C:\\Users\\velmurug\\Documents\\full_stability\\transformers\\IndexBasedTransformer.py:58: PerformanceWarning: DataFrame is highly fragmented.  This is usually the result of calling `frame.insert` many times, which has poor performance.  Consider joining all columns at once using pd.concat(axis=1) instead.  To get a de-fragmented frame, use `newframe = frame.copy()`\n",
      "  dt_transformed[col] = 0\n",
      "\n"
     ]
    },
    {
     "name": "stdout",
     "output_type": "stream",
     "text": [
      "Accuracy:                                                                                                              \n",
      "0.8337129840546698                                                                                                     \n",
      "{'var_smoothing': 0.8111308307896871}                                                                                  \n",
      " 70%|██████████████████████████████████▎              | 7/10 [00:24<00:10,  3.49s/trial, best loss: -0.963823130535877]"
     ]
    },
    {
     "name": "stderr",
     "output_type": "stream",
     "text": [
      "C:\\Users\\velmurug\\Documents\\full_stability\\transformers\\StaticTransformer.py:44: PerformanceWarning: DataFrame is highly fragmented.  This is usually the result of calling `frame.insert` many times, which has poor performance.  Consider joining all columns at once using pd.concat(axis=1) instead.  To get a de-fragmented frame, use `newframe = frame.copy()`\n",
      "  dt_transformed[col] = 0\n",
      "\n",
      "C:\\Users\\velmurug\\Documents\\full_stability\\transformers\\IndexBasedTransformer.py:58: PerformanceWarning: DataFrame is highly fragmented.  This is usually the result of calling `frame.insert` many times, which has poor performance.  Consider joining all columns at once using pd.concat(axis=1) instead.  To get a de-fragmented frame, use `newframe = frame.copy()`\n",
      "  dt_transformed[col] = 0\n",
      "\n"
     ]
    },
    {
     "name": "stdout",
     "output_type": "stream",
     "text": [
      "Accuracy:                                                                                                              \n",
      "0.8166666666666667                                                                                                     \n",
      " 70%|██████████████████████████████████▎              | 7/10 [00:25<00:10,  3.49s/trial, best loss: -0.963823130535877]"
     ]
    },
    {
     "name": "stderr",
     "output_type": "stream",
     "text": [
      "C:\\Users\\velmurug\\Documents\\full_stability\\transformers\\StaticTransformer.py:44: PerformanceWarning: DataFrame is highly fragmented.  This is usually the result of calling `frame.insert` many times, which has poor performance.  Consider joining all columns at once using pd.concat(axis=1) instead.  To get a de-fragmented frame, use `newframe = frame.copy()`\n",
      "  dt_transformed[col] = 0\n",
      "\n",
      "C:\\Users\\velmurug\\Documents\\full_stability\\transformers\\IndexBasedTransformer.py:58: PerformanceWarning: DataFrame is highly fragmented.  This is usually the result of calling `frame.insert` many times, which has poor performance.  Consider joining all columns at once using pd.concat(axis=1) instead.  To get a de-fragmented frame, use `newframe = frame.copy()`\n",
      "  dt_transformed[col] = 0\n",
      "\n"
     ]
    },
    {
     "name": "stdout",
     "output_type": "stream",
     "text": [
      "Accuracy:                                                                                                              \n",
      "0.8252631578947369                                                                                                     \n",
      " 70%|██████████████████████████████████▎              | 7/10 [00:26<00:10,  3.49s/trial, best loss: -0.963823130535877]"
     ]
    },
    {
     "name": "stderr",
     "output_type": "stream",
     "text": [
      "C:\\Users\\velmurug\\Documents\\full_stability\\transformers\\StaticTransformer.py:44: PerformanceWarning: DataFrame is highly fragmented.  This is usually the result of calling `frame.insert` many times, which has poor performance.  Consider joining all columns at once using pd.concat(axis=1) instead.  To get a de-fragmented frame, use `newframe = frame.copy()`\n",
      "  dt_transformed[col] = 0\n",
      "\n",
      "C:\\Users\\velmurug\\Documents\\full_stability\\transformers\\IndexBasedTransformer.py:58: PerformanceWarning: DataFrame is highly fragmented.  This is usually the result of calling `frame.insert` many times, which has poor performance.  Consider joining all columns at once using pd.concat(axis=1) instead.  To get a de-fragmented frame, use `newframe = frame.copy()`\n",
      "  dt_transformed[col] = 0\n",
      "\n"
     ]
    },
    {
     "name": "stdout",
     "output_type": "stream",
     "text": [
      "Accuracy:                                                                                                              \n",
      "0.8179775280898877                                                                                                     \n",
      "{'var_smoothing': 0.15199110829529336}                                                                                 \n",
      " 80%|███████████████████████████████████████▏         | 8/10 [00:27<00:06,  3.45s/trial, best loss: -0.963823130535877]"
     ]
    },
    {
     "name": "stderr",
     "output_type": "stream",
     "text": [
      "C:\\Users\\velmurug\\Documents\\full_stability\\transformers\\StaticTransformer.py:44: PerformanceWarning: DataFrame is highly fragmented.  This is usually the result of calling `frame.insert` many times, which has poor performance.  Consider joining all columns at once using pd.concat(axis=1) instead.  To get a de-fragmented frame, use `newframe = frame.copy()`\n",
      "  dt_transformed[col] = 0\n",
      "\n",
      "C:\\Users\\velmurug\\Documents\\full_stability\\transformers\\IndexBasedTransformer.py:58: PerformanceWarning: DataFrame is highly fragmented.  This is usually the result of calling `frame.insert` many times, which has poor performance.  Consider joining all columns at once using pd.concat(axis=1) instead.  To get a de-fragmented frame, use `newframe = frame.copy()`\n",
      "  dt_transformed[col] = 0\n",
      "\n"
     ]
    },
    {
     "name": "stdout",
     "output_type": "stream",
     "text": [
      "Accuracy:                                                                                                              \n",
      "0.8464912280701755                                                                                                     \n",
      " 80%|███████████████████████████████████████▏         | 8/10 [00:28<00:06,  3.45s/trial, best loss: -0.963823130535877]"
     ]
    },
    {
     "name": "stderr",
     "output_type": "stream",
     "text": [
      "C:\\Users\\velmurug\\Documents\\full_stability\\transformers\\StaticTransformer.py:44: PerformanceWarning: DataFrame is highly fragmented.  This is usually the result of calling `frame.insert` many times, which has poor performance.  Consider joining all columns at once using pd.concat(axis=1) instead.  To get a de-fragmented frame, use `newframe = frame.copy()`\n",
      "  dt_transformed[col] = 0\n",
      "\n",
      "C:\\Users\\velmurug\\Documents\\full_stability\\transformers\\IndexBasedTransformer.py:58: PerformanceWarning: DataFrame is highly fragmented.  This is usually the result of calling `frame.insert` many times, which has poor performance.  Consider joining all columns at once using pd.concat(axis=1) instead.  To get a de-fragmented frame, use `newframe = frame.copy()`\n",
      "  dt_transformed[col] = 0\n",
      "\n"
     ]
    },
    {
     "name": "stdout",
     "output_type": "stream",
     "text": [
      "Accuracy:                                                                                                              \n",
      "0.8248337028824834                                                                                                     \n",
      " 80%|███████████████████████████████████████▏         | 8/10 [00:30<00:06,  3.45s/trial, best loss: -0.963823130535877]"
     ]
    },
    {
     "name": "stderr",
     "output_type": "stream",
     "text": [
      "C:\\Users\\velmurug\\Documents\\full_stability\\transformers\\StaticTransformer.py:44: PerformanceWarning: DataFrame is highly fragmented.  This is usually the result of calling `frame.insert` many times, which has poor performance.  Consider joining all columns at once using pd.concat(axis=1) instead.  To get a de-fragmented frame, use `newframe = frame.copy()`\n",
      "  dt_transformed[col] = 0\n",
      "\n",
      "C:\\Users\\velmurug\\Documents\\full_stability\\transformers\\IndexBasedTransformer.py:58: PerformanceWarning: DataFrame is highly fragmented.  This is usually the result of calling `frame.insert` many times, which has poor performance.  Consider joining all columns at once using pd.concat(axis=1) instead.  To get a de-fragmented frame, use `newframe = frame.copy()`\n",
      "  dt_transformed[col] = 0\n",
      "\n"
     ]
    },
    {
     "name": "stdout",
     "output_type": "stream",
     "text": [
      "Accuracy:                                                                                                              \n",
      "0.8441558441558441                                                                                                     \n",
      "{'var_smoothing': 0.43287612810830584}                                                                                 \n",
      " 90%|████████████████████████████████████████████     | 9/10 [00:31<00:03,  3.45s/trial, best loss: -0.963823130535877]"
     ]
    },
    {
     "name": "stderr",
     "output_type": "stream",
     "text": [
      "C:\\Users\\velmurug\\Documents\\full_stability\\transformers\\StaticTransformer.py:44: PerformanceWarning: DataFrame is highly fragmented.  This is usually the result of calling `frame.insert` many times, which has poor performance.  Consider joining all columns at once using pd.concat(axis=1) instead.  To get a de-fragmented frame, use `newframe = frame.copy()`\n",
      "  dt_transformed[col] = 0\n",
      "\n",
      "C:\\Users\\velmurug\\Documents\\full_stability\\transformers\\IndexBasedTransformer.py:58: PerformanceWarning: DataFrame is highly fragmented.  This is usually the result of calling `frame.insert` many times, which has poor performance.  Consider joining all columns at once using pd.concat(axis=1) instead.  To get a de-fragmented frame, use `newframe = frame.copy()`\n",
      "  dt_transformed[col] = 0\n",
      "\n"
     ]
    },
    {
     "name": "stdout",
     "output_type": "stream",
     "text": [
      "Accuracy:                                                                                                              \n",
      "0.8344086021505377                                                                                                     \n",
      " 90%|████████████████████████████████████████████     | 9/10 [00:32<00:03,  3.45s/trial, best loss: -0.963823130535877]"
     ]
    },
    {
     "name": "stderr",
     "output_type": "stream",
     "text": [
      "C:\\Users\\velmurug\\Documents\\full_stability\\transformers\\StaticTransformer.py:44: PerformanceWarning: DataFrame is highly fragmented.  This is usually the result of calling `frame.insert` many times, which has poor performance.  Consider joining all columns at once using pd.concat(axis=1) instead.  To get a de-fragmented frame, use `newframe = frame.copy()`\n",
      "  dt_transformed[col] = 0\n",
      "\n",
      "C:\\Users\\velmurug\\Documents\\full_stability\\transformers\\IndexBasedTransformer.py:58: PerformanceWarning: DataFrame is highly fragmented.  This is usually the result of calling `frame.insert` many times, which has poor performance.  Consider joining all columns at once using pd.concat(axis=1) instead.  To get a de-fragmented frame, use `newframe = frame.copy()`\n",
      "  dt_transformed[col] = 0\n",
      "\n"
     ]
    },
    {
     "name": "stdout",
     "output_type": "stream",
     "text": [
      "Accuracy:                                                                                                              \n",
      "0.8358862144420132                                                                                                     \n",
      " 90%|████████████████████████████████████████████     | 9/10 [00:33<00:03,  3.45s/trial, best loss: -0.963823130535877]"
     ]
    },
    {
     "name": "stderr",
     "output_type": "stream",
     "text": [
      "C:\\Users\\velmurug\\Documents\\full_stability\\transformers\\StaticTransformer.py:44: PerformanceWarning: DataFrame is highly fragmented.  This is usually the result of calling `frame.insert` many times, which has poor performance.  Consider joining all columns at once using pd.concat(axis=1) instead.  To get a de-fragmented frame, use `newframe = frame.copy()`\n",
      "  dt_transformed[col] = 0\n",
      "\n",
      "C:\\Users\\velmurug\\Documents\\full_stability\\transformers\\IndexBasedTransformer.py:58: PerformanceWarning: DataFrame is highly fragmented.  This is usually the result of calling `frame.insert` many times, which has poor performance.  Consider joining all columns at once using pd.concat(axis=1) instead.  To get a de-fragmented frame, use `newframe = frame.copy()`\n",
      "  dt_transformed[col] = 0\n",
      "\n"
     ]
    },
    {
     "name": "stdout",
     "output_type": "stream",
     "text": [
      "Accuracy:                                                                                                              \n",
      "0.8453159041394336                                                                                                     \n",
      "100%|████████████████████████████████████████████████| 10/10 [00:34<00:00,  3.45s/trial, best loss: -0.963823130535877]\n",
      "Optimising 14 of 20 buckets\n",
      "{'var_smoothing': 1e-07}                                                                                               \n",
      "  0%|                                                                           | 0/10 [00:00<?, ?trial/s, best loss=?]"
     ]
    },
    {
     "name": "stderr",
     "output_type": "stream",
     "text": [
      "C:\\Users\\velmurug\\Documents\\full_stability\\transformers\\StaticTransformer.py:44: PerformanceWarning: DataFrame is highly fragmented.  This is usually the result of calling `frame.insert` many times, which has poor performance.  Consider joining all columns at once using pd.concat(axis=1) instead.  To get a de-fragmented frame, use `newframe = frame.copy()`\n",
      "  dt_transformed[col] = 0\n",
      "\n",
      "C:\\Users\\velmurug\\Documents\\full_stability\\transformers\\IndexBasedTransformer.py:58: PerformanceWarning: DataFrame is highly fragmented.  This is usually the result of calling `frame.insert` many times, which has poor performance.  Consider joining all columns at once using pd.concat(axis=1) instead.  To get a de-fragmented frame, use `newframe = frame.copy()`\n",
      "  dt_transformed[col] = 0\n",
      "\n"
     ]
    },
    {
     "name": "stdout",
     "output_type": "stream",
     "text": [
      "Accuracy:                                                                                                              \n",
      "0.9620253164556963                                                                                                     \n",
      "  0%|                                                                           | 0/10 [00:01<?, ?trial/s, best loss=?]"
     ]
    },
    {
     "name": "stderr",
     "output_type": "stream",
     "text": [
      "C:\\Users\\velmurug\\Documents\\full_stability\\transformers\\StaticTransformer.py:44: PerformanceWarning: DataFrame is highly fragmented.  This is usually the result of calling `frame.insert` many times, which has poor performance.  Consider joining all columns at once using pd.concat(axis=1) instead.  To get a de-fragmented frame, use `newframe = frame.copy()`\n",
      "  dt_transformed[col] = 0\n",
      "\n",
      "C:\\Users\\velmurug\\Documents\\full_stability\\transformers\\IndexBasedTransformer.py:58: PerformanceWarning: DataFrame is highly fragmented.  This is usually the result of calling `frame.insert` many times, which has poor performance.  Consider joining all columns at once using pd.concat(axis=1) instead.  To get a de-fragmented frame, use `newframe = frame.copy()`\n",
      "  dt_transformed[col] = 0\n",
      "\n"
     ]
    },
    {
     "name": "stdout",
     "output_type": "stream",
     "text": [
      "Accuracy:                                                                                                              \n",
      "0.9567430025445294                                                                                                     \n",
      "  0%|                                                                           | 0/10 [00:02<?, ?trial/s, best loss=?]"
     ]
    },
    {
     "name": "stderr",
     "output_type": "stream",
     "text": [
      "C:\\Users\\velmurug\\Documents\\full_stability\\transformers\\StaticTransformer.py:44: PerformanceWarning: DataFrame is highly fragmented.  This is usually the result of calling `frame.insert` many times, which has poor performance.  Consider joining all columns at once using pd.concat(axis=1) instead.  To get a de-fragmented frame, use `newframe = frame.copy()`\n",
      "  dt_transformed[col] = 0\n",
      "\n",
      "C:\\Users\\velmurug\\Documents\\full_stability\\transformers\\IndexBasedTransformer.py:58: PerformanceWarning: DataFrame is highly fragmented.  This is usually the result of calling `frame.insert` many times, which has poor performance.  Consider joining all columns at once using pd.concat(axis=1) instead.  To get a de-fragmented frame, use `newframe = frame.copy()`\n",
      "  dt_transformed[col] = 0\n",
      "\n"
     ]
    },
    {
     "name": "stdout",
     "output_type": "stream",
     "text": [
      "Accuracy:                                                                                                              \n",
      "0.9484536082474228                                                                                                     \n",
      "{'var_smoothing': 0.3511191734215131}                                                                                  \n",
      " 10%|████▊                                           | 1/10 [00:03<00:33,  3.74s/trial, best loss: -0.9557406424158829]"
     ]
    },
    {
     "name": "stderr",
     "output_type": "stream",
     "text": [
      "C:\\Users\\velmurug\\Documents\\full_stability\\transformers\\StaticTransformer.py:44: PerformanceWarning: DataFrame is highly fragmented.  This is usually the result of calling `frame.insert` many times, which has poor performance.  Consider joining all columns at once using pd.concat(axis=1) instead.  To get a de-fragmented frame, use `newframe = frame.copy()`\n",
      "  dt_transformed[col] = 0\n",
      "\n",
      "C:\\Users\\velmurug\\Documents\\full_stability\\transformers\\IndexBasedTransformer.py:58: PerformanceWarning: DataFrame is highly fragmented.  This is usually the result of calling `frame.insert` many times, which has poor performance.  Consider joining all columns at once using pd.concat(axis=1) instead.  To get a de-fragmented frame, use `newframe = frame.copy()`\n",
      "  dt_transformed[col] = 0\n",
      "\n"
     ]
    },
    {
     "name": "stdout",
     "output_type": "stream",
     "text": [
      "Accuracy:                                                                                                              \n",
      "0.8316008316008315                                                                                                     \n",
      " 10%|████▊                                           | 1/10 [00:05<00:33,  3.74s/trial, best loss: -0.9557406424158829]"
     ]
    },
    {
     "name": "stderr",
     "output_type": "stream",
     "text": [
      "C:\\Users\\velmurug\\Documents\\full_stability\\transformers\\StaticTransformer.py:44: PerformanceWarning: DataFrame is highly fragmented.  This is usually the result of calling `frame.insert` many times, which has poor performance.  Consider joining all columns at once using pd.concat(axis=1) instead.  To get a de-fragmented frame, use `newframe = frame.copy()`\n",
      "  dt_transformed[col] = 0\n",
      "\n",
      "C:\\Users\\velmurug\\Documents\\full_stability\\transformers\\IndexBasedTransformer.py:58: PerformanceWarning: DataFrame is highly fragmented.  This is usually the result of calling `frame.insert` many times, which has poor performance.  Consider joining all columns at once using pd.concat(axis=1) instead.  To get a de-fragmented frame, use `newframe = frame.copy()`\n",
      "  dt_transformed[col] = 0\n",
      "\n"
     ]
    },
    {
     "name": "stdout",
     "output_type": "stream",
     "text": [
      "Accuracy:                                                                                                              \n",
      "0.8259958071278826                                                                                                     \n",
      " 10%|████▊                                           | 1/10 [00:06<00:33,  3.74s/trial, best loss: -0.9557406424158829]"
     ]
    },
    {
     "name": "stderr",
     "output_type": "stream",
     "text": [
      "C:\\Users\\velmurug\\Documents\\full_stability\\transformers\\StaticTransformer.py:44: PerformanceWarning: DataFrame is highly fragmented.  This is usually the result of calling `frame.insert` many times, which has poor performance.  Consider joining all columns at once using pd.concat(axis=1) instead.  To get a de-fragmented frame, use `newframe = frame.copy()`\n",
      "  dt_transformed[col] = 0\n",
      "\n",
      "C:\\Users\\velmurug\\Documents\\full_stability\\transformers\\IndexBasedTransformer.py:58: PerformanceWarning: DataFrame is highly fragmented.  This is usually the result of calling `frame.insert` many times, which has poor performance.  Consider joining all columns at once using pd.concat(axis=1) instead.  To get a de-fragmented frame, use `newframe = frame.copy()`\n",
      "  dt_transformed[col] = 0\n",
      "\n"
     ]
    },
    {
     "name": "stdout",
     "output_type": "stream",
     "text": [
      "Accuracy:                                                                                                              \n",
      "0.8396624472573839                                                                                                     \n",
      "{'var_smoothing': 1.519911082952933e-09}                                                                               \n",
      " 20%|█████████▌                                      | 2/10 [00:07<00:30,  3.77s/trial, best loss: -0.9557406424158829]"
     ]
    },
    {
     "name": "stderr",
     "output_type": "stream",
     "text": [
      "C:\\Users\\velmurug\\Documents\\full_stability\\transformers\\StaticTransformer.py:44: PerformanceWarning: DataFrame is highly fragmented.  This is usually the result of calling `frame.insert` many times, which has poor performance.  Consider joining all columns at once using pd.concat(axis=1) instead.  To get a de-fragmented frame, use `newframe = frame.copy()`\n",
      "  dt_transformed[col] = 0\n",
      "\n",
      "C:\\Users\\velmurug\\Documents\\full_stability\\transformers\\IndexBasedTransformer.py:58: PerformanceWarning: DataFrame is highly fragmented.  This is usually the result of calling `frame.insert` many times, which has poor performance.  Consider joining all columns at once using pd.concat(axis=1) instead.  To get a de-fragmented frame, use `newframe = frame.copy()`\n",
      "  dt_transformed[col] = 0\n",
      "\n"
     ]
    },
    {
     "name": "stdout",
     "output_type": "stream",
     "text": [
      "Accuracy:                                                                                                              \n",
      "0.9514066496163683                                                                                                     \n",
      " 20%|█████████▌                                      | 2/10 [00:08<00:30,  3.77s/trial, best loss: -0.9557406424158829]"
     ]
    },
    {
     "name": "stderr",
     "output_type": "stream",
     "text": [
      "C:\\Users\\velmurug\\Documents\\full_stability\\transformers\\StaticTransformer.py:44: PerformanceWarning: DataFrame is highly fragmented.  This is usually the result of calling `frame.insert` many times, which has poor performance.  Consider joining all columns at once using pd.concat(axis=1) instead.  To get a de-fragmented frame, use `newframe = frame.copy()`\n",
      "  dt_transformed[col] = 0\n",
      "\n",
      "C:\\Users\\velmurug\\Documents\\full_stability\\transformers\\IndexBasedTransformer.py:58: PerformanceWarning: DataFrame is highly fragmented.  This is usually the result of calling `frame.insert` many times, which has poor performance.  Consider joining all columns at once using pd.concat(axis=1) instead.  To get a de-fragmented frame, use `newframe = frame.copy()`\n",
      "  dt_transformed[col] = 0\n",
      "\n"
     ]
    },
    {
     "name": "stdout",
     "output_type": "stream",
     "text": [
      "Accuracy:                                                                                                              \n",
      "0.9460154241645244                                                                                                     \n",
      " 20%|█████████▌                                      | 2/10 [00:10<00:30,  3.77s/trial, best loss: -0.9557406424158829]"
     ]
    },
    {
     "name": "stderr",
     "output_type": "stream",
     "text": [
      "C:\\Users\\velmurug\\Documents\\full_stability\\transformers\\StaticTransformer.py:44: PerformanceWarning: DataFrame is highly fragmented.  This is usually the result of calling `frame.insert` many times, which has poor performance.  Consider joining all columns at once using pd.concat(axis=1) instead.  To get a de-fragmented frame, use `newframe = frame.copy()`\n",
      "  dt_transformed[col] = 0\n",
      "\n",
      "C:\\Users\\velmurug\\Documents\\full_stability\\transformers\\IndexBasedTransformer.py:58: PerformanceWarning: DataFrame is highly fragmented.  This is usually the result of calling `frame.insert` many times, which has poor performance.  Consider joining all columns at once using pd.concat(axis=1) instead.  To get a de-fragmented frame, use `newframe = frame.copy()`\n",
      "  dt_transformed[col] = 0\n",
      "\n"
     ]
    },
    {
     "name": "stdout",
     "output_type": "stream",
     "text": [
      "Accuracy:                                                                                                              \n",
      "0.9511568123393317                                                                                                     \n",
      "{'var_smoothing': 1e-05}                                                                                               \n",
      " 30%|██████████████▍                                 | 3/10 [00:11<00:26,  3.78s/trial, best loss: -0.9557406424158829]"
     ]
    },
    {
     "name": "stderr",
     "output_type": "stream",
     "text": [
      "C:\\Users\\velmurug\\Documents\\full_stability\\transformers\\StaticTransformer.py:44: PerformanceWarning: DataFrame is highly fragmented.  This is usually the result of calling `frame.insert` many times, which has poor performance.  Consider joining all columns at once using pd.concat(axis=1) instead.  To get a de-fragmented frame, use `newframe = frame.copy()`\n",
      "  dt_transformed[col] = 0\n",
      "\n",
      "C:\\Users\\velmurug\\Documents\\full_stability\\transformers\\IndexBasedTransformer.py:58: PerformanceWarning: DataFrame is highly fragmented.  This is usually the result of calling `frame.insert` many times, which has poor performance.  Consider joining all columns at once using pd.concat(axis=1) instead.  To get a de-fragmented frame, use `newframe = frame.copy()`\n",
      "  dt_transformed[col] = 0\n",
      "\n"
     ]
    },
    {
     "name": "stdout",
     "output_type": "stream",
     "text": [
      "Accuracy:                                                                                                              \n",
      "0.9322916666666667                                                                                                     \n",
      " 30%|██████████████▍                                 | 3/10 [00:12<00:26,  3.78s/trial, best loss: -0.9557406424158829]"
     ]
    },
    {
     "name": "stderr",
     "output_type": "stream",
     "text": [
      "C:\\Users\\velmurug\\Documents\\full_stability\\transformers\\StaticTransformer.py:44: PerformanceWarning: DataFrame is highly fragmented.  This is usually the result of calling `frame.insert` many times, which has poor performance.  Consider joining all columns at once using pd.concat(axis=1) instead.  To get a de-fragmented frame, use `newframe = frame.copy()`\n",
      "  dt_transformed[col] = 0\n",
      "\n",
      "C:\\Users\\velmurug\\Documents\\full_stability\\transformers\\IndexBasedTransformer.py:58: PerformanceWarning: DataFrame is highly fragmented.  This is usually the result of calling `frame.insert` many times, which has poor performance.  Consider joining all columns at once using pd.concat(axis=1) instead.  To get a de-fragmented frame, use `newframe = frame.copy()`\n",
      "  dt_transformed[col] = 0\n",
      "\n"
     ]
    },
    {
     "name": "stdout",
     "output_type": "stream",
     "text": [
      "Accuracy:                                                                                                              \n",
      "0.9540816326530613                                                                                                     \n",
      " 30%|██████████████▍                                 | 3/10 [00:13<00:26,  3.78s/trial, best loss: -0.9557406424158829]"
     ]
    },
    {
     "name": "stderr",
     "output_type": "stream",
     "text": [
      "C:\\Users\\velmurug\\Documents\\full_stability\\transformers\\StaticTransformer.py:44: PerformanceWarning: DataFrame is highly fragmented.  This is usually the result of calling `frame.insert` many times, which has poor performance.  Consider joining all columns at once using pd.concat(axis=1) instead.  To get a de-fragmented frame, use `newframe = frame.copy()`\n",
      "  dt_transformed[col] = 0\n",
      "\n",
      "C:\\Users\\velmurug\\Documents\\full_stability\\transformers\\IndexBasedTransformer.py:58: PerformanceWarning: DataFrame is highly fragmented.  This is usually the result of calling `frame.insert` many times, which has poor performance.  Consider joining all columns at once using pd.concat(axis=1) instead.  To get a de-fragmented frame, use `newframe = frame.copy()`\n",
      "  dt_transformed[col] = 0\n",
      "\n"
     ]
    },
    {
     "name": "stdout",
     "output_type": "stream",
     "text": [
      "Accuracy:                                                                                                              \n",
      "0.9696969696969697                                                                                                     \n",
      "{'var_smoothing': 1e-07}                                                                                               \n",
      " 40%|███████████████████▏                            | 4/10 [00:15<00:22,  3.75s/trial, best loss: -0.9557406424158829]"
     ]
    },
    {
     "name": "stderr",
     "output_type": "stream",
     "text": [
      "C:\\Users\\velmurug\\Documents\\full_stability\\transformers\\StaticTransformer.py:44: PerformanceWarning: DataFrame is highly fragmented.  This is usually the result of calling `frame.insert` many times, which has poor performance.  Consider joining all columns at once using pd.concat(axis=1) instead.  To get a de-fragmented frame, use `newframe = frame.copy()`\n",
      "  dt_transformed[col] = 0\n",
      "\n",
      "C:\\Users\\velmurug\\Documents\\full_stability\\transformers\\IndexBasedTransformer.py:58: PerformanceWarning: DataFrame is highly fragmented.  This is usually the result of calling `frame.insert` many times, which has poor performance.  Consider joining all columns at once using pd.concat(axis=1) instead.  To get a de-fragmented frame, use `newframe = frame.copy()`\n",
      "  dt_transformed[col] = 0\n",
      "\n"
     ]
    },
    {
     "name": "stdout",
     "output_type": "stream",
     "text": [
      "Accuracy:                                                                                                              \n",
      "0.9460154241645244                                                                                                     \n",
      " 40%|███████████████████▏                            | 4/10 [00:16<00:22,  3.75s/trial, best loss: -0.9557406424158829]"
     ]
    },
    {
     "name": "stderr",
     "output_type": "stream",
     "text": [
      "C:\\Users\\velmurug\\Documents\\full_stability\\transformers\\StaticTransformer.py:44: PerformanceWarning: DataFrame is highly fragmented.  This is usually the result of calling `frame.insert` many times, which has poor performance.  Consider joining all columns at once using pd.concat(axis=1) instead.  To get a de-fragmented frame, use `newframe = frame.copy()`\n",
      "  dt_transformed[col] = 0\n",
      "\n",
      "C:\\Users\\velmurug\\Documents\\full_stability\\transformers\\IndexBasedTransformer.py:58: PerformanceWarning: DataFrame is highly fragmented.  This is usually the result of calling `frame.insert` many times, which has poor performance.  Consider joining all columns at once using pd.concat(axis=1) instead.  To get a de-fragmented frame, use `newframe = frame.copy()`\n",
      "  dt_transformed[col] = 0\n",
      "\n"
     ]
    },
    {
     "name": "stdout",
     "output_type": "stream",
     "text": [
      "Accuracy:                                                                                                              \n",
      "0.9267015706806283                                                                                                     \n",
      " 40%|███████████████████▏                            | 4/10 [00:17<00:22,  3.75s/trial, best loss: -0.9557406424158829]"
     ]
    },
    {
     "name": "stderr",
     "output_type": "stream",
     "text": [
      "C:\\Users\\velmurug\\Documents\\full_stability\\transformers\\StaticTransformer.py:44: PerformanceWarning: DataFrame is highly fragmented.  This is usually the result of calling `frame.insert` many times, which has poor performance.  Consider joining all columns at once using pd.concat(axis=1) instead.  To get a de-fragmented frame, use `newframe = frame.copy()`\n",
      "  dt_transformed[col] = 0\n",
      "\n",
      "C:\\Users\\velmurug\\Documents\\full_stability\\transformers\\IndexBasedTransformer.py:58: PerformanceWarning: DataFrame is highly fragmented.  This is usually the result of calling `frame.insert` many times, which has poor performance.  Consider joining all columns at once using pd.concat(axis=1) instead.  To get a de-fragmented frame, use `newframe = frame.copy()`\n",
      "  dt_transformed[col] = 0\n",
      "\n"
     ]
    },
    {
     "name": "stdout",
     "output_type": "stream",
     "text": [
      "Accuracy:                                                                                                              \n",
      "0.9430051813471504                                                                                                     \n",
      "{'var_smoothing': 1.232846739442066e-06}                                                                               \n",
      " 50%|████████████████████████                        | 5/10 [00:18<00:18,  3.72s/trial, best loss: -0.9557406424158829]"
     ]
    },
    {
     "name": "stderr",
     "output_type": "stream",
     "text": [
      "C:\\Users\\velmurug\\Documents\\full_stability\\transformers\\StaticTransformer.py:44: PerformanceWarning: DataFrame is highly fragmented.  This is usually the result of calling `frame.insert` many times, which has poor performance.  Consider joining all columns at once using pd.concat(axis=1) instead.  To get a de-fragmented frame, use `newframe = frame.copy()`\n",
      "  dt_transformed[col] = 0\n",
      "\n",
      "C:\\Users\\velmurug\\Documents\\full_stability\\transformers\\IndexBasedTransformer.py:58: PerformanceWarning: DataFrame is highly fragmented.  This is usually the result of calling `frame.insert` many times, which has poor performance.  Consider joining all columns at once using pd.concat(axis=1) instead.  To get a de-fragmented frame, use `newframe = frame.copy()`\n",
      "  dt_transformed[col] = 0\n",
      "\n"
     ]
    },
    {
     "name": "stdout",
     "output_type": "stream",
     "text": [
      "Accuracy:                                                                                                              \n",
      "0.9350649350649352                                                                                                     \n",
      " 50%|████████████████████████                        | 5/10 [00:19<00:18,  3.72s/trial, best loss: -0.9557406424158829]"
     ]
    },
    {
     "name": "stderr",
     "output_type": "stream",
     "text": [
      "C:\\Users\\velmurug\\Documents\\full_stability\\transformers\\StaticTransformer.py:44: PerformanceWarning: DataFrame is highly fragmented.  This is usually the result of calling `frame.insert` many times, which has poor performance.  Consider joining all columns at once using pd.concat(axis=1) instead.  To get a de-fragmented frame, use `newframe = frame.copy()`\n",
      "  dt_transformed[col] = 0\n",
      "\n",
      "C:\\Users\\velmurug\\Documents\\full_stability\\transformers\\IndexBasedTransformer.py:58: PerformanceWarning: DataFrame is highly fragmented.  This is usually the result of calling `frame.insert` many times, which has poor performance.  Consider joining all columns at once using pd.concat(axis=1) instead.  To get a de-fragmented frame, use `newframe = frame.copy()`\n",
      "  dt_transformed[col] = 0\n",
      "\n"
     ]
    },
    {
     "name": "stdout",
     "output_type": "stream",
     "text": [
      "Accuracy:                                                                                                              \n",
      "0.9487179487179488                                                                                                     \n",
      " 50%|████████████████████████                        | 5/10 [00:21<00:18,  3.72s/trial, best loss: -0.9557406424158829]"
     ]
    },
    {
     "name": "stderr",
     "output_type": "stream",
     "text": [
      "C:\\Users\\velmurug\\Documents\\full_stability\\transformers\\StaticTransformer.py:44: PerformanceWarning: DataFrame is highly fragmented.  This is usually the result of calling `frame.insert` many times, which has poor performance.  Consider joining all columns at once using pd.concat(axis=1) instead.  To get a de-fragmented frame, use `newframe = frame.copy()`\n",
      "  dt_transformed[col] = 0\n",
      "\n",
      "C:\\Users\\velmurug\\Documents\\full_stability\\transformers\\IndexBasedTransformer.py:58: PerformanceWarning: DataFrame is highly fragmented.  This is usually the result of calling `frame.insert` many times, which has poor performance.  Consider joining all columns at once using pd.concat(axis=1) instead.  To get a de-fragmented frame, use `newframe = frame.copy()`\n",
      "  dt_transformed[col] = 0\n",
      "\n"
     ]
    },
    {
     "name": "stdout",
     "output_type": "stream",
     "text": [
      "Accuracy:                                                                                                              \n",
      "0.9375                                                                                                                 \n",
      "{'var_smoothing': 4.328761281083061e-09}                                                                               \n",
      " 60%|████████████████████████████▊                   | 6/10 [00:22<00:14,  3.75s/trial, best loss: -0.9557406424158829]"
     ]
    },
    {
     "name": "stderr",
     "output_type": "stream",
     "text": [
      "C:\\Users\\velmurug\\Documents\\full_stability\\transformers\\StaticTransformer.py:44: PerformanceWarning: DataFrame is highly fragmented.  This is usually the result of calling `frame.insert` many times, which has poor performance.  Consider joining all columns at once using pd.concat(axis=1) instead.  To get a de-fragmented frame, use `newframe = frame.copy()`\n",
      "  dt_transformed[col] = 0\n",
      "\n",
      "C:\\Users\\velmurug\\Documents\\full_stability\\transformers\\IndexBasedTransformer.py:58: PerformanceWarning: DataFrame is highly fragmented.  This is usually the result of calling `frame.insert` many times, which has poor performance.  Consider joining all columns at once using pd.concat(axis=1) instead.  To get a de-fragmented frame, use `newframe = frame.copy()`\n",
      "  dt_transformed[col] = 0\n",
      "\n"
     ]
    },
    {
     "name": "stdout",
     "output_type": "stream",
     "text": [
      "Accuracy:                                                                                                              \n",
      "0.9378238341968913                                                                                                     \n",
      " 60%|████████████████████████████▊                   | 6/10 [00:23<00:14,  3.75s/trial, best loss: -0.9557406424158829]"
     ]
    },
    {
     "name": "stderr",
     "output_type": "stream",
     "text": [
      "C:\\Users\\velmurug\\Documents\\full_stability\\transformers\\StaticTransformer.py:44: PerformanceWarning: DataFrame is highly fragmented.  This is usually the result of calling `frame.insert` many times, which has poor performance.  Consider joining all columns at once using pd.concat(axis=1) instead.  To get a de-fragmented frame, use `newframe = frame.copy()`\n",
      "  dt_transformed[col] = 0\n",
      "\n",
      "C:\\Users\\velmurug\\Documents\\full_stability\\transformers\\IndexBasedTransformer.py:58: PerformanceWarning: DataFrame is highly fragmented.  This is usually the result of calling `frame.insert` many times, which has poor performance.  Consider joining all columns at once using pd.concat(axis=1) instead.  To get a de-fragmented frame, use `newframe = frame.copy()`\n",
      "  dt_transformed[col] = 0\n",
      "\n"
     ]
    },
    {
     "name": "stdout",
     "output_type": "stream",
     "text": [
      "Accuracy:                                                                                                              \n",
      "0.9593908629441625                                                                                                     \n",
      " 60%|████████████████████████████▊                   | 6/10 [00:25<00:14,  3.75s/trial, best loss: -0.9557406424158829]"
     ]
    },
    {
     "name": "stderr",
     "output_type": "stream",
     "text": [
      "C:\\Users\\velmurug\\Documents\\full_stability\\transformers\\StaticTransformer.py:44: PerformanceWarning: DataFrame is highly fragmented.  This is usually the result of calling `frame.insert` many times, which has poor performance.  Consider joining all columns at once using pd.concat(axis=1) instead.  To get a de-fragmented frame, use `newframe = frame.copy()`\n",
      "  dt_transformed[col] = 0\n",
      "\n",
      "C:\\Users\\velmurug\\Documents\\full_stability\\transformers\\IndexBasedTransformer.py:58: PerformanceWarning: DataFrame is highly fragmented.  This is usually the result of calling `frame.insert` many times, which has poor performance.  Consider joining all columns at once using pd.concat(axis=1) instead.  To get a de-fragmented frame, use `newframe = frame.copy()`\n",
      "  dt_transformed[col] = 0\n",
      "\n"
     ]
    },
    {
     "name": "stdout",
     "output_type": "stream",
     "text": [
      "Accuracy:                                                                                                              \n",
      "0.9430051813471504                                                                                                     \n",
      "{'var_smoothing': 0.8111308307896871}                                                                                  \n",
      " 70%|█████████████████████████████████▌              | 7/10 [00:26<00:11,  3.77s/trial, best loss: -0.9557406424158829]"
     ]
    },
    {
     "name": "stderr",
     "output_type": "stream",
     "text": [
      "C:\\Users\\velmurug\\Documents\\full_stability\\transformers\\StaticTransformer.py:44: PerformanceWarning: DataFrame is highly fragmented.  This is usually the result of calling `frame.insert` many times, which has poor performance.  Consider joining all columns at once using pd.concat(axis=1) instead.  To get a de-fragmented frame, use `newframe = frame.copy()`\n",
      "  dt_transformed[col] = 0\n",
      "\n",
      "C:\\Users\\velmurug\\Documents\\full_stability\\transformers\\IndexBasedTransformer.py:58: PerformanceWarning: DataFrame is highly fragmented.  This is usually the result of calling `frame.insert` many times, which has poor performance.  Consider joining all columns at once using pd.concat(axis=1) instead.  To get a de-fragmented frame, use `newframe = frame.copy()`\n",
      "  dt_transformed[col] = 0\n",
      "\n"
     ]
    },
    {
     "name": "stdout",
     "output_type": "stream",
     "text": [
      "Accuracy:                                                                                                              \n",
      "0.820627802690583                                                                                                      \n",
      " 70%|█████████████████████████████████▌              | 7/10 [00:27<00:11,  3.77s/trial, best loss: -0.9557406424158829]"
     ]
    },
    {
     "name": "stderr",
     "output_type": "stream",
     "text": [
      "C:\\Users\\velmurug\\Documents\\full_stability\\transformers\\StaticTransformer.py:44: PerformanceWarning: DataFrame is highly fragmented.  This is usually the result of calling `frame.insert` many times, which has poor performance.  Consider joining all columns at once using pd.concat(axis=1) instead.  To get a de-fragmented frame, use `newframe = frame.copy()`\n",
      "  dt_transformed[col] = 0\n",
      "\n",
      "C:\\Users\\velmurug\\Documents\\full_stability\\transformers\\IndexBasedTransformer.py:58: PerformanceWarning: DataFrame is highly fragmented.  This is usually the result of calling `frame.insert` many times, which has poor performance.  Consider joining all columns at once using pd.concat(axis=1) instead.  To get a de-fragmented frame, use `newframe = frame.copy()`\n",
      "  dt_transformed[col] = 0\n",
      "\n"
     ]
    },
    {
     "name": "stdout",
     "output_type": "stream",
     "text": [
      "Accuracy:                                                                                                              \n",
      "0.823529411764706                                                                                                      \n",
      " 70%|█████████████████████████████████▌              | 7/10 [00:28<00:11,  3.77s/trial, best loss: -0.9557406424158829]"
     ]
    },
    {
     "name": "stderr",
     "output_type": "stream",
     "text": [
      "C:\\Users\\velmurug\\Documents\\full_stability\\transformers\\StaticTransformer.py:44: PerformanceWarning: DataFrame is highly fragmented.  This is usually the result of calling `frame.insert` many times, which has poor performance.  Consider joining all columns at once using pd.concat(axis=1) instead.  To get a de-fragmented frame, use `newframe = frame.copy()`\n",
      "  dt_transformed[col] = 0\n",
      "\n",
      "C:\\Users\\velmurug\\Documents\\full_stability\\transformers\\IndexBasedTransformer.py:58: PerformanceWarning: DataFrame is highly fragmented.  This is usually the result of calling `frame.insert` many times, which has poor performance.  Consider joining all columns at once using pd.concat(axis=1) instead.  To get a de-fragmented frame, use `newframe = frame.copy()`\n",
      "  dt_transformed[col] = 0\n",
      "\n"
     ]
    },
    {
     "name": "stdout",
     "output_type": "stream",
     "text": [
      "Accuracy:                                                                                                              \n",
      "0.8294736842105264                                                                                                     \n",
      "{'var_smoothing': 6.579332246575682e-09}                                                                               \n",
      " 80%|██████████████████████████████████████▍         | 8/10 [00:29<00:07,  3.71s/trial, best loss: -0.9557406424158829]"
     ]
    },
    {
     "name": "stderr",
     "output_type": "stream",
     "text": [
      "C:\\Users\\velmurug\\Documents\\full_stability\\transformers\\StaticTransformer.py:44: PerformanceWarning: DataFrame is highly fragmented.  This is usually the result of calling `frame.insert` many times, which has poor performance.  Consider joining all columns at once using pd.concat(axis=1) instead.  To get a de-fragmented frame, use `newframe = frame.copy()`\n",
      "  dt_transformed[col] = 0\n",
      "\n",
      "C:\\Users\\velmurug\\Documents\\full_stability\\transformers\\IndexBasedTransformer.py:58: PerformanceWarning: DataFrame is highly fragmented.  This is usually the result of calling `frame.insert` many times, which has poor performance.  Consider joining all columns at once using pd.concat(axis=1) instead.  To get a de-fragmented frame, use `newframe = frame.copy()`\n",
      "  dt_transformed[col] = 0\n",
      "\n"
     ]
    },
    {
     "name": "stdout",
     "output_type": "stream",
     "text": [
      "Accuracy:                                                                                                              \n",
      "0.9350649350649352                                                                                                     \n",
      " 80%|██████████████████████████████████████▍         | 8/10 [00:31<00:07,  3.71s/trial, best loss: -0.9557406424158829]"
     ]
    },
    {
     "name": "stderr",
     "output_type": "stream",
     "text": [
      "C:\\Users\\velmurug\\Documents\\full_stability\\transformers\\StaticTransformer.py:44: PerformanceWarning: DataFrame is highly fragmented.  This is usually the result of calling `frame.insert` many times, which has poor performance.  Consider joining all columns at once using pd.concat(axis=1) instead.  To get a de-fragmented frame, use `newframe = frame.copy()`\n",
      "  dt_transformed[col] = 0\n",
      "\n",
      "C:\\Users\\velmurug\\Documents\\full_stability\\transformers\\IndexBasedTransformer.py:58: PerformanceWarning: DataFrame is highly fragmented.  This is usually the result of calling `frame.insert` many times, which has poor performance.  Consider joining all columns at once using pd.concat(axis=1) instead.  To get a de-fragmented frame, use `newframe = frame.copy()`\n",
      "  dt_transformed[col] = 0\n",
      "\n"
     ]
    },
    {
     "name": "stdout",
     "output_type": "stream",
     "text": [
      "Accuracy:                                                                                                              \n",
      "0.9487179487179488                                                                                                     \n",
      " 80%|██████████████████████████████████████▍         | 8/10 [00:32<00:07,  3.71s/trial, best loss: -0.9557406424158829]"
     ]
    },
    {
     "name": "stderr",
     "output_type": "stream",
     "text": [
      "C:\\Users\\velmurug\\Documents\\full_stability\\transformers\\StaticTransformer.py:44: PerformanceWarning: DataFrame is highly fragmented.  This is usually the result of calling `frame.insert` many times, which has poor performance.  Consider joining all columns at once using pd.concat(axis=1) instead.  To get a de-fragmented frame, use `newframe = frame.copy()`\n",
      "  dt_transformed[col] = 0\n",
      "\n",
      "C:\\Users\\velmurug\\Documents\\full_stability\\transformers\\IndexBasedTransformer.py:58: PerformanceWarning: DataFrame is highly fragmented.  This is usually the result of calling `frame.insert` many times, which has poor performance.  Consider joining all columns at once using pd.concat(axis=1) instead.  To get a de-fragmented frame, use `newframe = frame.copy()`\n",
      "  dt_transformed[col] = 0\n",
      "\n"
     ]
    },
    {
     "name": "stdout",
     "output_type": "stream",
     "text": [
      "Accuracy:                                                                                                              \n",
      "0.9722921914357683                                                                                                     \n",
      "{'var_smoothing': 0.0533669923120631}                                                                                  \n",
      " 90%|███████████████████████████████████████████▏    | 9/10 [00:33<00:03,  3.73s/trial, best loss: -0.9557406424158829]"
     ]
    },
    {
     "name": "stderr",
     "output_type": "stream",
     "text": [
      "C:\\Users\\velmurug\\Documents\\full_stability\\transformers\\StaticTransformer.py:44: PerformanceWarning: DataFrame is highly fragmented.  This is usually the result of calling `frame.insert` many times, which has poor performance.  Consider joining all columns at once using pd.concat(axis=1) instead.  To get a de-fragmented frame, use `newframe = frame.copy()`\n",
      "  dt_transformed[col] = 0\n",
      "\n",
      "C:\\Users\\velmurug\\Documents\\full_stability\\transformers\\IndexBasedTransformer.py:58: PerformanceWarning: DataFrame is highly fragmented.  This is usually the result of calling `frame.insert` many times, which has poor performance.  Consider joining all columns at once using pd.concat(axis=1) instead.  To get a de-fragmented frame, use `newframe = frame.copy()`\n",
      "  dt_transformed[col] = 0\n",
      "\n"
     ]
    },
    {
     "name": "stdout",
     "output_type": "stream",
     "text": [
      "Accuracy:                                                                                                              \n",
      "0.8520971302428254                                                                                                     \n",
      " 90%|███████████████████████████████████████████▏    | 9/10 [00:35<00:03,  3.73s/trial, best loss: -0.9557406424158829]"
     ]
    },
    {
     "name": "stderr",
     "output_type": "stream",
     "text": [
      "C:\\Users\\velmurug\\Documents\\full_stability\\transformers\\StaticTransformer.py:44: PerformanceWarning: DataFrame is highly fragmented.  This is usually the result of calling `frame.insert` many times, which has poor performance.  Consider joining all columns at once using pd.concat(axis=1) instead.  To get a de-fragmented frame, use `newframe = frame.copy()`\n",
      "  dt_transformed[col] = 0\n",
      "\n",
      "C:\\Users\\velmurug\\Documents\\full_stability\\transformers\\IndexBasedTransformer.py:58: PerformanceWarning: DataFrame is highly fragmented.  This is usually the result of calling `frame.insert` many times, which has poor performance.  Consider joining all columns at once using pd.concat(axis=1) instead.  To get a de-fragmented frame, use `newframe = frame.copy()`\n",
      "  dt_transformed[col] = 0\n",
      "\n"
     ]
    },
    {
     "name": "stdout",
     "output_type": "stream",
     "text": [
      "Accuracy:                                                                                                              \n",
      "0.8434782608695651                                                                                                     \n",
      " 90%|███████████████████████████████████████████▏    | 9/10 [00:36<00:03,  3.73s/trial, best loss: -0.9557406424158829]"
     ]
    },
    {
     "name": "stderr",
     "output_type": "stream",
     "text": [
      "C:\\Users\\velmurug\\Documents\\full_stability\\transformers\\StaticTransformer.py:44: PerformanceWarning: DataFrame is highly fragmented.  This is usually the result of calling `frame.insert` many times, which has poor performance.  Consider joining all columns at once using pd.concat(axis=1) instead.  To get a de-fragmented frame, use `newframe = frame.copy()`\n",
      "  dt_transformed[col] = 0\n",
      "\n",
      "C:\\Users\\velmurug\\Documents\\full_stability\\transformers\\IndexBasedTransformer.py:58: PerformanceWarning: DataFrame is highly fragmented.  This is usually the result of calling `frame.insert` many times, which has poor performance.  Consider joining all columns at once using pd.concat(axis=1) instead.  To get a de-fragmented frame, use `newframe = frame.copy()`\n",
      "  dt_transformed[col] = 0\n",
      "\n"
     ]
    },
    {
     "name": "stdout",
     "output_type": "stream",
     "text": [
      "Accuracy:                                                                                                              \n",
      "0.8660714285714285                                                                                                     \n",
      "100%|███████████████████████████████████████████████| 10/10 [00:37<00:00,  3.75s/trial, best loss: -0.9557406424158829]\n",
      "Optimising 15 of 20 buckets\n",
      "{'var_smoothing': 3.511191734215127e-05}                                                                               \n",
      "  0%|                                                                           | 0/10 [00:00<?, ?trial/s, best loss=?]"
     ]
    },
    {
     "name": "stderr",
     "output_type": "stream",
     "text": [
      "C:\\Users\\velmurug\\Documents\\full_stability\\transformers\\StaticTransformer.py:44: PerformanceWarning: DataFrame is highly fragmented.  This is usually the result of calling `frame.insert` many times, which has poor performance.  Consider joining all columns at once using pd.concat(axis=1) instead.  To get a de-fragmented frame, use `newframe = frame.copy()`\n",
      "  dt_transformed[col] = 0\n",
      "\n",
      "C:\\Users\\velmurug\\Documents\\full_stability\\transformers\\IndexBasedTransformer.py:58: PerformanceWarning: DataFrame is highly fragmented.  This is usually the result of calling `frame.insert` many times, which has poor performance.  Consider joining all columns at once using pd.concat(axis=1) instead.  To get a de-fragmented frame, use `newframe = frame.copy()`\n",
      "  dt_transformed[col] = 0\n",
      "\n"
     ]
    },
    {
     "name": "stdout",
     "output_type": "stream",
     "text": [
      "Accuracy:                                                                                                              \n",
      "0.9399477806788512                                                                                                     \n",
      "  0%|                                                                           | 0/10 [00:01<?, ?trial/s, best loss=?]"
     ]
    },
    {
     "name": "stderr",
     "output_type": "stream",
     "text": [
      "C:\\Users\\velmurug\\Documents\\full_stability\\transformers\\StaticTransformer.py:44: PerformanceWarning: DataFrame is highly fragmented.  This is usually the result of calling `frame.insert` many times, which has poor performance.  Consider joining all columns at once using pd.concat(axis=1) instead.  To get a de-fragmented frame, use `newframe = frame.copy()`\n",
      "  dt_transformed[col] = 0\n",
      "\n",
      "C:\\Users\\velmurug\\Documents\\full_stability\\transformers\\IndexBasedTransformer.py:58: PerformanceWarning: DataFrame is highly fragmented.  This is usually the result of calling `frame.insert` many times, which has poor performance.  Consider joining all columns at once using pd.concat(axis=1) instead.  To get a de-fragmented frame, use `newframe = frame.copy()`\n",
      "  dt_transformed[col] = 0\n",
      "\n"
     ]
    },
    {
     "name": "stdout",
     "output_type": "stream",
     "text": [
      "Accuracy:                                                                                                              \n",
      "0.9748743718592965                                                                                                     \n",
      "  0%|                                                                           | 0/10 [00:02<?, ?trial/s, best loss=?]"
     ]
    },
    {
     "name": "stderr",
     "output_type": "stream",
     "text": [
      "C:\\Users\\velmurug\\Documents\\full_stability\\transformers\\StaticTransformer.py:44: PerformanceWarning: DataFrame is highly fragmented.  This is usually the result of calling `frame.insert` many times, which has poor performance.  Consider joining all columns at once using pd.concat(axis=1) instead.  To get a de-fragmented frame, use `newframe = frame.copy()`\n",
      "  dt_transformed[col] = 0\n",
      "\n",
      "C:\\Users\\velmurug\\Documents\\full_stability\\transformers\\IndexBasedTransformer.py:58: PerformanceWarning: DataFrame is highly fragmented.  This is usually the result of calling `frame.insert` many times, which has poor performance.  Consider joining all columns at once using pd.concat(axis=1) instead.  To get a de-fragmented frame, use `newframe = frame.copy()`\n",
      "  dt_transformed[col] = 0\n",
      "\n"
     ]
    },
    {
     "name": "stdout",
     "output_type": "stream",
     "text": [
      "Accuracy:                                                                                                              \n",
      "0.9669211195928753                                                                                                     \n",
      "{'var_smoothing': 2.310129700083158e-09}                                                                               \n",
      " 10%|████▊                                           | 1/10 [00:04<00:37,  4.16s/trial, best loss: -0.9605810907103409]"
     ]
    },
    {
     "name": "stderr",
     "output_type": "stream",
     "text": [
      "C:\\Users\\velmurug\\Documents\\full_stability\\transformers\\StaticTransformer.py:44: PerformanceWarning: DataFrame is highly fragmented.  This is usually the result of calling `frame.insert` many times, which has poor performance.  Consider joining all columns at once using pd.concat(axis=1) instead.  To get a de-fragmented frame, use `newframe = frame.copy()`\n",
      "  dt_transformed[col] = 0\n",
      "\n",
      "C:\\Users\\velmurug\\Documents\\full_stability\\transformers\\IndexBasedTransformer.py:58: PerformanceWarning: DataFrame is highly fragmented.  This is usually the result of calling `frame.insert` many times, which has poor performance.  Consider joining all columns at once using pd.concat(axis=1) instead.  To get a de-fragmented frame, use `newframe = frame.copy()`\n",
      "  dt_transformed[col] = 0\n",
      "\n"
     ]
    },
    {
     "name": "stdout",
     "output_type": "stream",
     "text": [
      "Accuracy:                                                                                                              \n",
      "0.9371727748691099                                                                                                     \n",
      " 10%|████▊                                           | 1/10 [00:05<00:37,  4.16s/trial, best loss: -0.9605810907103409]"
     ]
    },
    {
     "name": "stderr",
     "output_type": "stream",
     "text": [
      "C:\\Users\\velmurug\\Documents\\full_stability\\transformers\\StaticTransformer.py:44: PerformanceWarning: DataFrame is highly fragmented.  This is usually the result of calling `frame.insert` many times, which has poor performance.  Consider joining all columns at once using pd.concat(axis=1) instead.  To get a de-fragmented frame, use `newframe = frame.copy()`\n",
      "  dt_transformed[col] = 0\n",
      "\n",
      "C:\\Users\\velmurug\\Documents\\full_stability\\transformers\\IndexBasedTransformer.py:58: PerformanceWarning: DataFrame is highly fragmented.  This is usually the result of calling `frame.insert` many times, which has poor performance.  Consider joining all columns at once using pd.concat(axis=1) instead.  To get a de-fragmented frame, use `newframe = frame.copy()`\n",
      "  dt_transformed[col] = 0\n",
      "\n"
     ]
    },
    {
     "name": "stdout",
     "output_type": "stream",
     "text": [
      "Accuracy:                                                                                                              \n",
      "0.9722921914357683                                                                                                     \n",
      " 10%|████▊                                           | 1/10 [00:07<00:37,  4.16s/trial, best loss: -0.9605810907103409]"
     ]
    },
    {
     "name": "stderr",
     "output_type": "stream",
     "text": [
      "C:\\Users\\velmurug\\Documents\\full_stability\\transformers\\StaticTransformer.py:44: PerformanceWarning: DataFrame is highly fragmented.  This is usually the result of calling `frame.insert` many times, which has poor performance.  Consider joining all columns at once using pd.concat(axis=1) instead.  To get a de-fragmented frame, use `newframe = frame.copy()`\n",
      "  dt_transformed[col] = 0\n",
      "\n",
      "C:\\Users\\velmurug\\Documents\\full_stability\\transformers\\IndexBasedTransformer.py:58: PerformanceWarning: DataFrame is highly fragmented.  This is usually the result of calling `frame.insert` many times, which has poor performance.  Consider joining all columns at once using pd.concat(axis=1) instead.  To get a de-fragmented frame, use `newframe = frame.copy()`\n",
      "  dt_transformed[col] = 0\n",
      "\n"
     ]
    },
    {
     "name": "stdout",
     "output_type": "stream",
     "text": [
      "Accuracy:                                                                                                              \n",
      "0.9427083333333334                                                                                                     \n",
      "{'var_smoothing': 1.0}                                                                                                 \n",
      " 20%|█████████▌                                      | 2/10 [00:08<00:33,  4.19s/trial, best loss: -0.9605810907103409]"
     ]
    },
    {
     "name": "stderr",
     "output_type": "stream",
     "text": [
      "C:\\Users\\velmurug\\Documents\\full_stability\\transformers\\StaticTransformer.py:44: PerformanceWarning: DataFrame is highly fragmented.  This is usually the result of calling `frame.insert` many times, which has poor performance.  Consider joining all columns at once using pd.concat(axis=1) instead.  To get a de-fragmented frame, use `newframe = frame.copy()`\n",
      "  dt_transformed[col] = 0\n",
      "\n",
      "C:\\Users\\velmurug\\Documents\\full_stability\\transformers\\IndexBasedTransformer.py:58: PerformanceWarning: DataFrame is highly fragmented.  This is usually the result of calling `frame.insert` many times, which has poor performance.  Consider joining all columns at once using pd.concat(axis=1) instead.  To get a de-fragmented frame, use `newframe = frame.copy()`\n",
      "  dt_transformed[col] = 0\n",
      "\n"
     ]
    },
    {
     "name": "stdout",
     "output_type": "stream",
     "text": [
      "Accuracy:                                                                                                              \n",
      "0.832618025751073                                                                                                      \n",
      " 20%|█████████▌                                      | 2/10 [00:09<00:33,  4.19s/trial, best loss: -0.9605810907103409]"
     ]
    },
    {
     "name": "stderr",
     "output_type": "stream",
     "text": [
      "C:\\Users\\velmurug\\Documents\\full_stability\\transformers\\StaticTransformer.py:44: PerformanceWarning: DataFrame is highly fragmented.  This is usually the result of calling `frame.insert` many times, which has poor performance.  Consider joining all columns at once using pd.concat(axis=1) instead.  To get a de-fragmented frame, use `newframe = frame.copy()`\n",
      "  dt_transformed[col] = 0\n",
      "\n",
      "C:\\Users\\velmurug\\Documents\\full_stability\\transformers\\IndexBasedTransformer.py:58: PerformanceWarning: DataFrame is highly fragmented.  This is usually the result of calling `frame.insert` many times, which has poor performance.  Consider joining all columns at once using pd.concat(axis=1) instead.  To get a de-fragmented frame, use `newframe = frame.copy()`\n",
      "  dt_transformed[col] = 0\n",
      "\n"
     ]
    },
    {
     "name": "stdout",
     "output_type": "stream",
     "text": [
      "Accuracy:                                                                                                              \n",
      "0.8322981366459629                                                                                                     \n",
      " 20%|█████████▌                                      | 2/10 [00:11<00:33,  4.19s/trial, best loss: -0.9605810907103409]"
     ]
    },
    {
     "name": "stderr",
     "output_type": "stream",
     "text": [
      "C:\\Users\\velmurug\\Documents\\full_stability\\transformers\\StaticTransformer.py:44: PerformanceWarning: DataFrame is highly fragmented.  This is usually the result of calling `frame.insert` many times, which has poor performance.  Consider joining all columns at once using pd.concat(axis=1) instead.  To get a de-fragmented frame, use `newframe = frame.copy()`\n",
      "  dt_transformed[col] = 0\n",
      "\n",
      "C:\\Users\\velmurug\\Documents\\full_stability\\transformers\\IndexBasedTransformer.py:58: PerformanceWarning: DataFrame is highly fragmented.  This is usually the result of calling `frame.insert` many times, which has poor performance.  Consider joining all columns at once using pd.concat(axis=1) instead.  To get a de-fragmented frame, use `newframe = frame.copy()`\n",
      "  dt_transformed[col] = 0\n",
      "\n"
     ]
    },
    {
     "name": "stdout",
     "output_type": "stream",
     "text": [
      "Accuracy:                                                                                                              \n",
      "0.8344086021505377                                                                                                     \n",
      "{'var_smoothing': 0.0001}                                                                                              \n",
      " 30%|██████████████▍                                 | 3/10 [00:12<00:28,  4.12s/trial, best loss: -0.9605810907103409]"
     ]
    },
    {
     "name": "stderr",
     "output_type": "stream",
     "text": [
      "C:\\Users\\velmurug\\Documents\\full_stability\\transformers\\StaticTransformer.py:44: PerformanceWarning: DataFrame is highly fragmented.  This is usually the result of calling `frame.insert` many times, which has poor performance.  Consider joining all columns at once using pd.concat(axis=1) instead.  To get a de-fragmented frame, use `newframe = frame.copy()`\n",
      "  dt_transformed[col] = 0\n",
      "\n",
      "C:\\Users\\velmurug\\Documents\\full_stability\\transformers\\IndexBasedTransformer.py:58: PerformanceWarning: DataFrame is highly fragmented.  This is usually the result of calling `frame.insert` many times, which has poor performance.  Consider joining all columns at once using pd.concat(axis=1) instead.  To get a de-fragmented frame, use `newframe = frame.copy()`\n",
      "  dt_transformed[col] = 0\n",
      "\n"
     ]
    },
    {
     "name": "stdout",
     "output_type": "stream",
     "text": [
      "Accuracy:                                                                                                              \n",
      "0.9399477806788512                                                                                                     \n",
      " 30%|██████████████▍                                 | 3/10 [00:13<00:28,  4.12s/trial, best loss: -0.9605810907103409]"
     ]
    },
    {
     "name": "stderr",
     "output_type": "stream",
     "text": [
      "C:\\Users\\velmurug\\Documents\\full_stability\\transformers\\StaticTransformer.py:44: PerformanceWarning: DataFrame is highly fragmented.  This is usually the result of calling `frame.insert` many times, which has poor performance.  Consider joining all columns at once using pd.concat(axis=1) instead.  To get a de-fragmented frame, use `newframe = frame.copy()`\n",
      "  dt_transformed[col] = 0\n",
      "\n",
      "C:\\Users\\velmurug\\Documents\\full_stability\\transformers\\IndexBasedTransformer.py:58: PerformanceWarning: DataFrame is highly fragmented.  This is usually the result of calling `frame.insert` many times, which has poor performance.  Consider joining all columns at once using pd.concat(axis=1) instead.  To get a de-fragmented frame, use `newframe = frame.copy()`\n",
      "  dt_transformed[col] = 0\n",
      "\n"
     ]
    },
    {
     "name": "stdout",
     "output_type": "stream",
     "text": [
      "Accuracy:                                                                                                              \n",
      "0.9538461538461539                                                                                                     \n",
      " 30%|██████████████▍                                 | 3/10 [00:15<00:28,  4.12s/trial, best loss: -0.9605810907103409]"
     ]
    },
    {
     "name": "stderr",
     "output_type": "stream",
     "text": [
      "C:\\Users\\velmurug\\Documents\\full_stability\\transformers\\StaticTransformer.py:44: PerformanceWarning: DataFrame is highly fragmented.  This is usually the result of calling `frame.insert` many times, which has poor performance.  Consider joining all columns at once using pd.concat(axis=1) instead.  To get a de-fragmented frame, use `newframe = frame.copy()`\n",
      "  dt_transformed[col] = 0\n",
      "\n",
      "C:\\Users\\velmurug\\Documents\\full_stability\\transformers\\IndexBasedTransformer.py:58: PerformanceWarning: DataFrame is highly fragmented.  This is usually the result of calling `frame.insert` many times, which has poor performance.  Consider joining all columns at once using pd.concat(axis=1) instead.  To get a de-fragmented frame, use `newframe = frame.copy()`\n",
      "  dt_transformed[col] = 0\n",
      "\n"
     ]
    },
    {
     "name": "stdout",
     "output_type": "stream",
     "text": [
      "Accuracy:                                                                                                              \n",
      "0.9399477806788512                                                                                                     \n",
      "{'var_smoothing': 1.519911082952933e-08}                                                                               \n",
      " 40%|███████████████████▏                            | 4/10 [00:16<00:24,  4.10s/trial, best loss: -0.9605810907103409]"
     ]
    },
    {
     "name": "stderr",
     "output_type": "stream",
     "text": [
      "C:\\Users\\velmurug\\Documents\\full_stability\\transformers\\StaticTransformer.py:44: PerformanceWarning: DataFrame is highly fragmented.  This is usually the result of calling `frame.insert` many times, which has poor performance.  Consider joining all columns at once using pd.concat(axis=1) instead.  To get a de-fragmented frame, use `newframe = frame.copy()`\n",
      "  dt_transformed[col] = 0\n",
      "\n",
      "C:\\Users\\velmurug\\Documents\\full_stability\\transformers\\IndexBasedTransformer.py:58: PerformanceWarning: DataFrame is highly fragmented.  This is usually the result of calling `frame.insert` many times, which has poor performance.  Consider joining all columns at once using pd.concat(axis=1) instead.  To get a de-fragmented frame, use `newframe = frame.copy()`\n",
      "  dt_transformed[col] = 0\n",
      "\n"
     ]
    },
    {
     "name": "stdout",
     "output_type": "stream",
     "text": [
      "Accuracy:                                                                                                              \n",
      "0.9454545454545454                                                                                                     \n",
      " 40%|███████████████████▏                            | 4/10 [00:17<00:24,  4.10s/trial, best loss: -0.9605810907103409]"
     ]
    },
    {
     "name": "stderr",
     "output_type": "stream",
     "text": [
      "C:\\Users\\velmurug\\Documents\\full_stability\\transformers\\StaticTransformer.py:44: PerformanceWarning: DataFrame is highly fragmented.  This is usually the result of calling `frame.insert` many times, which has poor performance.  Consider joining all columns at once using pd.concat(axis=1) instead.  To get a de-fragmented frame, use `newframe = frame.copy()`\n",
      "  dt_transformed[col] = 0\n",
      "\n",
      "C:\\Users\\velmurug\\Documents\\full_stability\\transformers\\IndexBasedTransformer.py:58: PerformanceWarning: DataFrame is highly fragmented.  This is usually the result of calling `frame.insert` many times, which has poor performance.  Consider joining all columns at once using pd.concat(axis=1) instead.  To get a de-fragmented frame, use `newframe = frame.copy()`\n",
      "  dt_transformed[col] = 0\n",
      "\n"
     ]
    },
    {
     "name": "stdout",
     "output_type": "stream",
     "text": [
      "Accuracy:                                                                                                              \n",
      "0.9402597402597402                                                                                                     \n",
      " 40%|███████████████████▏                            | 4/10 [00:19<00:24,  4.10s/trial, best loss: -0.9605810907103409]"
     ]
    },
    {
     "name": "stderr",
     "output_type": "stream",
     "text": [
      "C:\\Users\\velmurug\\Documents\\full_stability\\transformers\\StaticTransformer.py:44: PerformanceWarning: DataFrame is highly fragmented.  This is usually the result of calling `frame.insert` many times, which has poor performance.  Consider joining all columns at once using pd.concat(axis=1) instead.  To get a de-fragmented frame, use `newframe = frame.copy()`\n",
      "  dt_transformed[col] = 0\n",
      "\n",
      "C:\\Users\\velmurug\\Documents\\full_stability\\transformers\\IndexBasedTransformer.py:58: PerformanceWarning: DataFrame is highly fragmented.  This is usually the result of calling `frame.insert` many times, which has poor performance.  Consider joining all columns at once using pd.concat(axis=1) instead.  To get a de-fragmented frame, use `newframe = frame.copy()`\n",
      "  dt_transformed[col] = 0\n",
      "\n"
     ]
    },
    {
     "name": "stdout",
     "output_type": "stream",
     "text": [
      "Accuracy:                                                                                                              \n",
      "0.9399477806788512                                                                                                     \n",
      "{'var_smoothing': 3.5111917342151277e-08}                                                                              \n",
      " 50%|████████████████████████                        | 5/10 [00:20<00:20,  4.11s/trial, best loss: -0.9605810907103409]"
     ]
    },
    {
     "name": "stderr",
     "output_type": "stream",
     "text": [
      "C:\\Users\\velmurug\\Documents\\full_stability\\transformers\\StaticTransformer.py:44: PerformanceWarning: DataFrame is highly fragmented.  This is usually the result of calling `frame.insert` many times, which has poor performance.  Consider joining all columns at once using pd.concat(axis=1) instead.  To get a de-fragmented frame, use `newframe = frame.copy()`\n",
      "  dt_transformed[col] = 0\n",
      "\n",
      "C:\\Users\\velmurug\\Documents\\full_stability\\transformers\\IndexBasedTransformer.py:58: PerformanceWarning: DataFrame is highly fragmented.  This is usually the result of calling `frame.insert` many times, which has poor performance.  Consider joining all columns at once using pd.concat(axis=1) instead.  To get a de-fragmented frame, use `newframe = frame.copy()`\n",
      "  dt_transformed[col] = 0\n",
      "\n"
     ]
    },
    {
     "name": "stdout",
     "output_type": "stream",
     "text": [
      "Accuracy:                                                                                                              \n",
      "0.9427083333333334                                                                                                     \n",
      " 50%|████████████████████████                        | 5/10 [00:22<00:20,  4.11s/trial, best loss: -0.9605810907103409]"
     ]
    },
    {
     "name": "stderr",
     "output_type": "stream",
     "text": [
      "C:\\Users\\velmurug\\Documents\\full_stability\\transformers\\StaticTransformer.py:44: PerformanceWarning: DataFrame is highly fragmented.  This is usually the result of calling `frame.insert` many times, which has poor performance.  Consider joining all columns at once using pd.concat(axis=1) instead.  To get a de-fragmented frame, use `newframe = frame.copy()`\n",
      "  dt_transformed[col] = 0\n",
      "\n",
      "C:\\Users\\velmurug\\Documents\\full_stability\\transformers\\IndexBasedTransformer.py:58: PerformanceWarning: DataFrame is highly fragmented.  This is usually the result of calling `frame.insert` many times, which has poor performance.  Consider joining all columns at once using pd.concat(axis=1) instead.  To get a de-fragmented frame, use `newframe = frame.copy()`\n",
      "  dt_transformed[col] = 0\n",
      "\n"
     ]
    },
    {
     "name": "stdout",
     "output_type": "stream",
     "text": [
      "Accuracy:                                                                                                              \n",
      "0.9375                                                                                                                 \n",
      " 50%|████████████████████████                        | 5/10 [00:23<00:20,  4.11s/trial, best loss: -0.9605810907103409]"
     ]
    },
    {
     "name": "stderr",
     "output_type": "stream",
     "text": [
      "C:\\Users\\velmurug\\Documents\\full_stability\\transformers\\StaticTransformer.py:44: PerformanceWarning: DataFrame is highly fragmented.  This is usually the result of calling `frame.insert` many times, which has poor performance.  Consider joining all columns at once using pd.concat(axis=1) instead.  To get a de-fragmented frame, use `newframe = frame.copy()`\n",
      "  dt_transformed[col] = 0\n",
      "\n",
      "C:\\Users\\velmurug\\Documents\\full_stability\\transformers\\IndexBasedTransformer.py:58: PerformanceWarning: DataFrame is highly fragmented.  This is usually the result of calling `frame.insert` many times, which has poor performance.  Consider joining all columns at once using pd.concat(axis=1) instead.  To get a de-fragmented frame, use `newframe = frame.copy()`\n",
      "  dt_transformed[col] = 0\n",
      "\n"
     ]
    },
    {
     "name": "stdout",
     "output_type": "stream",
     "text": [
      "Accuracy:                                                                                                              \n",
      "0.9371727748691099                                                                                                     \n",
      "{'var_smoothing': 2.848035868435799e-06}                                                                               \n",
      " 60%|████████████████████████████▊                   | 6/10 [00:24<00:16,  4.13s/trial, best loss: -0.9605810907103409]"
     ]
    },
    {
     "name": "stderr",
     "output_type": "stream",
     "text": [
      "C:\\Users\\velmurug\\Documents\\full_stability\\transformers\\StaticTransformer.py:44: PerformanceWarning: DataFrame is highly fragmented.  This is usually the result of calling `frame.insert` many times, which has poor performance.  Consider joining all columns at once using pd.concat(axis=1) instead.  To get a de-fragmented frame, use `newframe = frame.copy()`\n",
      "  dt_transformed[col] = 0\n",
      "\n",
      "C:\\Users\\velmurug\\Documents\\full_stability\\transformers\\IndexBasedTransformer.py:58: PerformanceWarning: DataFrame is highly fragmented.  This is usually the result of calling `frame.insert` many times, which has poor performance.  Consider joining all columns at once using pd.concat(axis=1) instead.  To get a de-fragmented frame, use `newframe = frame.copy()`\n",
      "  dt_transformed[col] = 0\n",
      "\n"
     ]
    },
    {
     "name": "stdout",
     "output_type": "stream",
     "text": [
      "Accuracy:                                                                                                              \n",
      "0.9399477806788512                                                                                                     \n",
      " 60%|████████████████████████████▊                   | 6/10 [00:26<00:16,  4.13s/trial, best loss: -0.9605810907103409]"
     ]
    },
    {
     "name": "stderr",
     "output_type": "stream",
     "text": [
      "C:\\Users\\velmurug\\Documents\\full_stability\\transformers\\StaticTransformer.py:44: PerformanceWarning: DataFrame is highly fragmented.  This is usually the result of calling `frame.insert` many times, which has poor performance.  Consider joining all columns at once using pd.concat(axis=1) instead.  To get a de-fragmented frame, use `newframe = frame.copy()`\n",
      "  dt_transformed[col] = 0\n",
      "\n",
      "C:\\Users\\velmurug\\Documents\\full_stability\\transformers\\IndexBasedTransformer.py:58: PerformanceWarning: DataFrame is highly fragmented.  This is usually the result of calling `frame.insert` many times, which has poor performance.  Consider joining all columns at once using pd.concat(axis=1) instead.  To get a de-fragmented frame, use `newframe = frame.copy()`\n",
      "  dt_transformed[col] = 0\n",
      "\n"
     ]
    },
    {
     "name": "stdout",
     "output_type": "stream",
     "text": [
      "Accuracy:                                                                                                              \n",
      "0.9618320610687023                                                                                                     \n",
      " 60%|████████████████████████████▊                   | 6/10 [00:27<00:16,  4.13s/trial, best loss: -0.9605810907103409]"
     ]
    },
    {
     "name": "stderr",
     "output_type": "stream",
     "text": [
      "C:\\Users\\velmurug\\Documents\\full_stability\\transformers\\StaticTransformer.py:44: PerformanceWarning: DataFrame is highly fragmented.  This is usually the result of calling `frame.insert` many times, which has poor performance.  Consider joining all columns at once using pd.concat(axis=1) instead.  To get a de-fragmented frame, use `newframe = frame.copy()`\n",
      "  dt_transformed[col] = 0\n",
      "\n",
      "C:\\Users\\velmurug\\Documents\\full_stability\\transformers\\IndexBasedTransformer.py:58: PerformanceWarning: DataFrame is highly fragmented.  This is usually the result of calling `frame.insert` many times, which has poor performance.  Consider joining all columns at once using pd.concat(axis=1) instead.  To get a de-fragmented frame, use `newframe = frame.copy()`\n",
      "  dt_transformed[col] = 0\n",
      "\n"
     ]
    },
    {
     "name": "stdout",
     "output_type": "stream",
     "text": [
      "Accuracy:                                                                                                              \n",
      "0.9481865284974093                                                                                                     \n",
      "{'var_smoothing': 0.0001519911082952933}                                                                               \n",
      " 70%|█████████████████████████████████▌              | 7/10 [00:28<00:12,  4.16s/trial, best loss: -0.9605810907103409]"
     ]
    },
    {
     "name": "stderr",
     "output_type": "stream",
     "text": [
      "C:\\Users\\velmurug\\Documents\\full_stability\\transformers\\StaticTransformer.py:44: PerformanceWarning: DataFrame is highly fragmented.  This is usually the result of calling `frame.insert` many times, which has poor performance.  Consider joining all columns at once using pd.concat(axis=1) instead.  To get a de-fragmented frame, use `newframe = frame.copy()`\n",
      "  dt_transformed[col] = 0\n",
      "\n",
      "C:\\Users\\velmurug\\Documents\\full_stability\\transformers\\IndexBasedTransformer.py:58: PerformanceWarning: DataFrame is highly fragmented.  This is usually the result of calling `frame.insert` many times, which has poor performance.  Consider joining all columns at once using pd.concat(axis=1) instead.  To get a de-fragmented frame, use `newframe = frame.copy()`\n",
      "  dt_transformed[col] = 0\n",
      "\n"
     ]
    },
    {
     "name": "stdout",
     "output_type": "stream",
     "text": [
      "Accuracy:                                                                                                              \n",
      "0.9589743589743589                                                                                                     \n",
      " 70%|█████████████████████████████████▌              | 7/10 [00:30<00:12,  4.16s/trial, best loss: -0.9605810907103409]"
     ]
    },
    {
     "name": "stderr",
     "output_type": "stream",
     "text": [
      "C:\\Users\\velmurug\\Documents\\full_stability\\transformers\\StaticTransformer.py:44: PerformanceWarning: DataFrame is highly fragmented.  This is usually the result of calling `frame.insert` many times, which has poor performance.  Consider joining all columns at once using pd.concat(axis=1) instead.  To get a de-fragmented frame, use `newframe = frame.copy()`\n",
      "  dt_transformed[col] = 0\n",
      "\n",
      "C:\\Users\\velmurug\\Documents\\full_stability\\transformers\\IndexBasedTransformer.py:58: PerformanceWarning: DataFrame is highly fragmented.  This is usually the result of calling `frame.insert` many times, which has poor performance.  Consider joining all columns at once using pd.concat(axis=1) instead.  To get a de-fragmented frame, use `newframe = frame.copy()`\n",
      "  dt_transformed[col] = 0\n",
      "\n"
     ]
    },
    {
     "name": "stdout",
     "output_type": "stream",
     "text": [
      "Accuracy:                                                                                                              \n",
      "0.9538461538461539                                                                                                     \n",
      " 70%|█████████████████████████████████▌              | 7/10 [00:31<00:12,  4.16s/trial, best loss: -0.9605810907103409]"
     ]
    },
    {
     "name": "stderr",
     "output_type": "stream",
     "text": [
      "C:\\Users\\velmurug\\Documents\\full_stability\\transformers\\StaticTransformer.py:44: PerformanceWarning: DataFrame is highly fragmented.  This is usually the result of calling `frame.insert` many times, which has poor performance.  Consider joining all columns at once using pd.concat(axis=1) instead.  To get a de-fragmented frame, use `newframe = frame.copy()`\n",
      "  dt_transformed[col] = 0\n",
      "\n",
      "C:\\Users\\velmurug\\Documents\\full_stability\\transformers\\IndexBasedTransformer.py:58: PerformanceWarning: DataFrame is highly fragmented.  This is usually the result of calling `frame.insert` many times, which has poor performance.  Consider joining all columns at once using pd.concat(axis=1) instead.  To get a de-fragmented frame, use `newframe = frame.copy()`\n",
      "  dt_transformed[col] = 0\n",
      "\n"
     ]
    },
    {
     "name": "stdout",
     "output_type": "stream",
     "text": [
      "Accuracy:                                                                                                              \n",
      "0.9616368286445013                                                                                                     \n",
      "{'var_smoothing': 0.01519911082952933}                                                                                 \n",
      " 80%|██████████████████████████████████████▍         | 8/10 [00:33<00:08,  4.17s/trial, best loss: -0.9605810907103409]"
     ]
    },
    {
     "name": "stderr",
     "output_type": "stream",
     "text": [
      "C:\\Users\\velmurug\\Documents\\full_stability\\transformers\\StaticTransformer.py:44: PerformanceWarning: DataFrame is highly fragmented.  This is usually the result of calling `frame.insert` many times, which has poor performance.  Consider joining all columns at once using pd.concat(axis=1) instead.  To get a de-fragmented frame, use `newframe = frame.copy()`\n",
      "  dt_transformed[col] = 0\n",
      "\n",
      "C:\\Users\\velmurug\\Documents\\full_stability\\transformers\\IndexBasedTransformer.py:58: PerformanceWarning: DataFrame is highly fragmented.  This is usually the result of calling `frame.insert` many times, which has poor performance.  Consider joining all columns at once using pd.concat(axis=1) instead.  To get a de-fragmented frame, use `newframe = frame.copy()`\n",
      "  dt_transformed[col] = 0\n",
      "\n"
     ]
    },
    {
     "name": "stdout",
     "output_type": "stream",
     "text": [
      "Accuracy:                                                                                                              \n",
      "0.867579908675799                                                                                                      \n",
      " 80%|██████████████████████████████████████▍         | 8/10 [00:34<00:08,  4.17s/trial, best loss: -0.9605810907103409]"
     ]
    },
    {
     "name": "stderr",
     "output_type": "stream",
     "text": [
      "C:\\Users\\velmurug\\Documents\\full_stability\\transformers\\StaticTransformer.py:44: PerformanceWarning: DataFrame is highly fragmented.  This is usually the result of calling `frame.insert` many times, which has poor performance.  Consider joining all columns at once using pd.concat(axis=1) instead.  To get a de-fragmented frame, use `newframe = frame.copy()`\n",
      "  dt_transformed[col] = 0\n",
      "\n",
      "C:\\Users\\velmurug\\Documents\\full_stability\\transformers\\IndexBasedTransformer.py:58: PerformanceWarning: DataFrame is highly fragmented.  This is usually the result of calling `frame.insert` many times, which has poor performance.  Consider joining all columns at once using pd.concat(axis=1) instead.  To get a de-fragmented frame, use `newframe = frame.copy()`\n",
      "  dt_transformed[col] = 0\n",
      "\n"
     ]
    },
    {
     "name": "stdout",
     "output_type": "stream",
     "text": [
      "Accuracy:                                                                                                              \n",
      "0.8769574944071589                                                                                                     \n",
      " 80%|██████████████████████████████████████▍         | 8/10 [00:35<00:08,  4.17s/trial, best loss: -0.9605810907103409]"
     ]
    },
    {
     "name": "stderr",
     "output_type": "stream",
     "text": [
      "C:\\Users\\velmurug\\Documents\\full_stability\\transformers\\StaticTransformer.py:44: PerformanceWarning: DataFrame is highly fragmented.  This is usually the result of calling `frame.insert` many times, which has poor performance.  Consider joining all columns at once using pd.concat(axis=1) instead.  To get a de-fragmented frame, use `newframe = frame.copy()`\n",
      "  dt_transformed[col] = 0\n",
      "\n",
      "C:\\Users\\velmurug\\Documents\\full_stability\\transformers\\IndexBasedTransformer.py:58: PerformanceWarning: DataFrame is highly fragmented.  This is usually the result of calling `frame.insert` many times, which has poor performance.  Consider joining all columns at once using pd.concat(axis=1) instead.  To get a de-fragmented frame, use `newframe = frame.copy()`\n",
      "  dt_transformed[col] = 0\n",
      "\n"
     ]
    },
    {
     "name": "stdout",
     "output_type": "stream",
     "text": [
      "Accuracy:                                                                                                              \n",
      "0.8524590163934426                                                                                                     \n",
      "{'var_smoothing': 2.848035868435799e-08}                                                                               \n",
      " 90%|███████████████████████████████████████████▏    | 9/10 [00:37<00:04,  4.13s/trial, best loss: -0.9605810907103409]"
     ]
    },
    {
     "name": "stderr",
     "output_type": "stream",
     "text": [
      "C:\\Users\\velmurug\\Documents\\full_stability\\transformers\\StaticTransformer.py:44: PerformanceWarning: DataFrame is highly fragmented.  This is usually the result of calling `frame.insert` many times, which has poor performance.  Consider joining all columns at once using pd.concat(axis=1) instead.  To get a de-fragmented frame, use `newframe = frame.copy()`\n",
      "  dt_transformed[col] = 0\n",
      "\n",
      "C:\\Users\\velmurug\\Documents\\full_stability\\transformers\\IndexBasedTransformer.py:58: PerformanceWarning: DataFrame is highly fragmented.  This is usually the result of calling `frame.insert` many times, which has poor performance.  Consider joining all columns at once using pd.concat(axis=1) instead.  To get a de-fragmented frame, use `newframe = frame.copy()`\n",
      "  dt_transformed[col] = 0\n",
      "\n"
     ]
    },
    {
     "name": "stdout",
     "output_type": "stream",
     "text": [
      "Accuracy:                                                                                                              \n",
      "0.923076923076923                                                                                                      \n",
      " 90%|███████████████████████████████████████████▏    | 9/10 [00:38<00:04,  4.13s/trial, best loss: -0.9605810907103409]"
     ]
    },
    {
     "name": "stderr",
     "output_type": "stream",
     "text": [
      "C:\\Users\\velmurug\\Documents\\full_stability\\transformers\\StaticTransformer.py:44: PerformanceWarning: DataFrame is highly fragmented.  This is usually the result of calling `frame.insert` many times, which has poor performance.  Consider joining all columns at once using pd.concat(axis=1) instead.  To get a de-fragmented frame, use `newframe = frame.copy()`\n",
      "  dt_transformed[col] = 0\n",
      "\n",
      "C:\\Users\\velmurug\\Documents\\full_stability\\transformers\\IndexBasedTransformer.py:58: PerformanceWarning: DataFrame is highly fragmented.  This is usually the result of calling `frame.insert` many times, which has poor performance.  Consider joining all columns at once using pd.concat(axis=1) instead.  To get a de-fragmented frame, use `newframe = frame.copy()`\n",
      "  dt_transformed[col] = 0\n",
      "\n"
     ]
    },
    {
     "name": "stdout",
     "output_type": "stream",
     "text": [
      "Accuracy:                                                                                                              \n",
      "0.9565217391304348                                                                                                     \n",
      " 90%|███████████████████████████████████████████▏    | 9/10 [00:40<00:04,  4.13s/trial, best loss: -0.9605810907103409]"
     ]
    },
    {
     "name": "stderr",
     "output_type": "stream",
     "text": [
      "C:\\Users\\velmurug\\Documents\\full_stability\\transformers\\StaticTransformer.py:44: PerformanceWarning: DataFrame is highly fragmented.  This is usually the result of calling `frame.insert` many times, which has poor performance.  Consider joining all columns at once using pd.concat(axis=1) instead.  To get a de-fragmented frame, use `newframe = frame.copy()`\n",
      "  dt_transformed[col] = 0\n",
      "\n",
      "C:\\Users\\velmurug\\Documents\\full_stability\\transformers\\IndexBasedTransformer.py:58: PerformanceWarning: DataFrame is highly fragmented.  This is usually the result of calling `frame.insert` many times, which has poor performance.  Consider joining all columns at once using pd.concat(axis=1) instead.  To get a de-fragmented frame, use `newframe = frame.copy()`\n",
      "  dt_transformed[col] = 0\n",
      "\n"
     ]
    },
    {
     "name": "stdout",
     "output_type": "stream",
     "text": [
      "Accuracy:                                                                                                              \n",
      "0.9259259259259259                                                                                                     \n",
      "100%|███████████████████████████████████████████████| 10/10 [00:41<00:00,  4.15s/trial, best loss: -0.9605810907103409]\n",
      "Optimising 16 of 20 buckets\n",
      "{'var_smoothing': 0.003511191734215131}                                                                                \n",
      "  0%|                                                                           | 0/10 [00:00<?, ?trial/s, best loss=?]"
     ]
    },
    {
     "name": "stderr",
     "output_type": "stream",
     "text": [
      "C:\\Users\\velmurug\\Documents\\full_stability\\transformers\\StaticTransformer.py:44: PerformanceWarning: DataFrame is highly fragmented.  This is usually the result of calling `frame.insert` many times, which has poor performance.  Consider joining all columns at once using pd.concat(axis=1) instead.  To get a de-fragmented frame, use `newframe = frame.copy()`\n",
      "  dt_transformed[col] = 0\n",
      "\n",
      "C:\\Users\\velmurug\\Documents\\full_stability\\transformers\\IndexBasedTransformer.py:58: PerformanceWarning: DataFrame is highly fragmented.  This is usually the result of calling `frame.insert` many times, which has poor performance.  Consider joining all columns at once using pd.concat(axis=1) instead.  To get a de-fragmented frame, use `newframe = frame.copy()`\n",
      "  dt_transformed[col] = 0\n",
      "\n"
     ]
    },
    {
     "name": "stdout",
     "output_type": "stream",
     "text": [
      "Accuracy:                                                                                                              \n",
      "0.8932038834951457                                                                                                     \n",
      "  0%|                                                                           | 0/10 [00:01<?, ?trial/s, best loss=?]"
     ]
    },
    {
     "name": "stderr",
     "output_type": "stream",
     "text": [
      "C:\\Users\\velmurug\\Documents\\full_stability\\transformers\\StaticTransformer.py:44: PerformanceWarning: DataFrame is highly fragmented.  This is usually the result of calling `frame.insert` many times, which has poor performance.  Consider joining all columns at once using pd.concat(axis=1) instead.  To get a de-fragmented frame, use `newframe = frame.copy()`\n",
      "  dt_transformed[col] = 0\n",
      "\n",
      "C:\\Users\\velmurug\\Documents\\full_stability\\transformers\\IndexBasedTransformer.py:58: PerformanceWarning: DataFrame is highly fragmented.  This is usually the result of calling `frame.insert` many times, which has poor performance.  Consider joining all columns at once using pd.concat(axis=1) instead.  To get a de-fragmented frame, use `newframe = frame.copy()`\n",
      "  dt_transformed[col] = 0\n",
      "\n"
     ]
    },
    {
     "name": "stdout",
     "output_type": "stream",
     "text": [
      "Accuracy:                                                                                                              \n",
      "0.908641975308642                                                                                                      \n",
      "  0%|                                                                           | 0/10 [00:03<?, ?trial/s, best loss=?]"
     ]
    },
    {
     "name": "stderr",
     "output_type": "stream",
     "text": [
      "C:\\Users\\velmurug\\Documents\\full_stability\\transformers\\StaticTransformer.py:44: PerformanceWarning: DataFrame is highly fragmented.  This is usually the result of calling `frame.insert` many times, which has poor performance.  Consider joining all columns at once using pd.concat(axis=1) instead.  To get a de-fragmented frame, use `newframe = frame.copy()`\n",
      "  dt_transformed[col] = 0\n",
      "\n",
      "C:\\Users\\velmurug\\Documents\\full_stability\\transformers\\IndexBasedTransformer.py:58: PerformanceWarning: DataFrame is highly fragmented.  This is usually the result of calling `frame.insert` many times, which has poor performance.  Consider joining all columns at once using pd.concat(axis=1) instead.  To get a de-fragmented frame, use `newframe = frame.copy()`\n",
      "  dt_transformed[col] = 0\n",
      "\n"
     ]
    },
    {
     "name": "stdout",
     "output_type": "stream",
     "text": [
      "Accuracy:                                                                                                              \n",
      "0.8743961352657006                                                                                                     \n",
      "{'var_smoothing': 0.8111308307896871}                                                                                  \n",
      " 10%|████▊                                           | 1/10 [00:04<00:40,  4.46s/trial, best loss: -0.8920806646898294]"
     ]
    },
    {
     "name": "stderr",
     "output_type": "stream",
     "text": [
      "C:\\Users\\velmurug\\Documents\\full_stability\\transformers\\StaticTransformer.py:44: PerformanceWarning: DataFrame is highly fragmented.  This is usually the result of calling `frame.insert` many times, which has poor performance.  Consider joining all columns at once using pd.concat(axis=1) instead.  To get a de-fragmented frame, use `newframe = frame.copy()`\n",
      "  dt_transformed[col] = 0\n",
      "\n",
      "C:\\Users\\velmurug\\Documents\\full_stability\\transformers\\IndexBasedTransformer.py:58: PerformanceWarning: DataFrame is highly fragmented.  This is usually the result of calling `frame.insert` many times, which has poor performance.  Consider joining all columns at once using pd.concat(axis=1) instead.  To get a de-fragmented frame, use `newframe = frame.copy()`\n",
      "  dt_transformed[col] = 0\n",
      "\n"
     ]
    },
    {
     "name": "stdout",
     "output_type": "stream",
     "text": [
      "Accuracy:                                                                                                              \n",
      "0.8289473684210527                                                                                                     \n",
      " 10%|████▊                                           | 1/10 [00:05<00:40,  4.46s/trial, best loss: -0.8920806646898294]"
     ]
    },
    {
     "name": "stderr",
     "output_type": "stream",
     "text": [
      "C:\\Users\\velmurug\\Documents\\full_stability\\transformers\\StaticTransformer.py:44: PerformanceWarning: DataFrame is highly fragmented.  This is usually the result of calling `frame.insert` many times, which has poor performance.  Consider joining all columns at once using pd.concat(axis=1) instead.  To get a de-fragmented frame, use `newframe = frame.copy()`\n",
      "  dt_transformed[col] = 0\n",
      "\n",
      "C:\\Users\\velmurug\\Documents\\full_stability\\transformers\\IndexBasedTransformer.py:58: PerformanceWarning: DataFrame is highly fragmented.  This is usually the result of calling `frame.insert` many times, which has poor performance.  Consider joining all columns at once using pd.concat(axis=1) instead.  To get a de-fragmented frame, use `newframe = frame.copy()`\n",
      "  dt_transformed[col] = 0\n",
      "\n"
     ]
    },
    {
     "name": "stdout",
     "output_type": "stream",
     "text": [
      "Accuracy:                                                                                                              \n",
      "0.8336842105263158                                                                                                     \n",
      " 10%|████▊                                           | 1/10 [00:07<00:40,  4.46s/trial, best loss: -0.8920806646898294]"
     ]
    },
    {
     "name": "stderr",
     "output_type": "stream",
     "text": [
      "C:\\Users\\velmurug\\Documents\\full_stability\\transformers\\StaticTransformer.py:44: PerformanceWarning: DataFrame is highly fragmented.  This is usually the result of calling `frame.insert` many times, which has poor performance.  Consider joining all columns at once using pd.concat(axis=1) instead.  To get a de-fragmented frame, use `newframe = frame.copy()`\n",
      "  dt_transformed[col] = 0\n",
      "\n",
      "C:\\Users\\velmurug\\Documents\\full_stability\\transformers\\IndexBasedTransformer.py:58: PerformanceWarning: DataFrame is highly fragmented.  This is usually the result of calling `frame.insert` many times, which has poor performance.  Consider joining all columns at once using pd.concat(axis=1) instead.  To get a de-fragmented frame, use `newframe = frame.copy()`\n",
      "  dt_transformed[col] = 0\n",
      "\n"
     ]
    },
    {
     "name": "stdout",
     "output_type": "stream",
     "text": [
      "Accuracy:                                                                                                              \n",
      "0.8340425531914895                                                                                                     \n",
      "{'var_smoothing': 3.5111917342151277e-07}                                                                              \n",
      " 20%|█████████▌                                      | 2/10 [00:08<00:35,  4.43s/trial, best loss: -0.8920806646898294]"
     ]
    },
    {
     "name": "stderr",
     "output_type": "stream",
     "text": [
      "C:\\Users\\velmurug\\Documents\\full_stability\\transformers\\StaticTransformer.py:44: PerformanceWarning: DataFrame is highly fragmented.  This is usually the result of calling `frame.insert` many times, which has poor performance.  Consider joining all columns at once using pd.concat(axis=1) instead.  To get a de-fragmented frame, use `newframe = frame.copy()`\n",
      "  dt_transformed[col] = 0\n",
      "\n",
      "C:\\Users\\velmurug\\Documents\\full_stability\\transformers\\IndexBasedTransformer.py:58: PerformanceWarning: DataFrame is highly fragmented.  This is usually the result of calling `frame.insert` many times, which has poor performance.  Consider joining all columns at once using pd.concat(axis=1) instead.  To get a de-fragmented frame, use `newframe = frame.copy()`\n",
      "  dt_transformed[col] = 0\n",
      "\n"
     ]
    },
    {
     "name": "stdout",
     "output_type": "stream",
     "text": [
      "Accuracy:                                                                                                              \n",
      "0.9417989417989417                                                                                                     \n",
      " 20%|█████████▌                                      | 2/10 [00:10<00:35,  4.43s/trial, best loss: -0.8920806646898294]"
     ]
    },
    {
     "name": "stderr",
     "output_type": "stream",
     "text": [
      "C:\\Users\\velmurug\\Documents\\full_stability\\transformers\\StaticTransformer.py:44: PerformanceWarning: DataFrame is highly fragmented.  This is usually the result of calling `frame.insert` many times, which has poor performance.  Consider joining all columns at once using pd.concat(axis=1) instead.  To get a de-fragmented frame, use `newframe = frame.copy()`\n",
      "  dt_transformed[col] = 0\n",
      "\n",
      "C:\\Users\\velmurug\\Documents\\full_stability\\transformers\\IndexBasedTransformer.py:58: PerformanceWarning: DataFrame is highly fragmented.  This is usually the result of calling `frame.insert` many times, which has poor performance.  Consider joining all columns at once using pd.concat(axis=1) instead.  To get a de-fragmented frame, use `newframe = frame.copy()`\n",
      "  dt_transformed[col] = 0\n",
      "\n"
     ]
    },
    {
     "name": "stdout",
     "output_type": "stream",
     "text": [
      "Accuracy:                                                                                                              \n",
      "0.9304812834224598                                                                                                     \n",
      " 20%|█████████▌                                      | 2/10 [00:11<00:35,  4.43s/trial, best loss: -0.8920806646898294]"
     ]
    },
    {
     "name": "stderr",
     "output_type": "stream",
     "text": [
      "C:\\Users\\velmurug\\Documents\\full_stability\\transformers\\StaticTransformer.py:44: PerformanceWarning: DataFrame is highly fragmented.  This is usually the result of calling `frame.insert` many times, which has poor performance.  Consider joining all columns at once using pd.concat(axis=1) instead.  To get a de-fragmented frame, use `newframe = frame.copy()`\n",
      "  dt_transformed[col] = 0\n",
      "\n",
      "C:\\Users\\velmurug\\Documents\\full_stability\\transformers\\IndexBasedTransformer.py:58: PerformanceWarning: DataFrame is highly fragmented.  This is usually the result of calling `frame.insert` many times, which has poor performance.  Consider joining all columns at once using pd.concat(axis=1) instead.  To get a de-fragmented frame, use `newframe = frame.copy()`\n",
      "  dt_transformed[col] = 0\n",
      "\n"
     ]
    },
    {
     "name": "stdout",
     "output_type": "stream",
     "text": [
      "Accuracy:                                                                                                              \n",
      "0.9528795811518325                                                                                                     \n",
      "{'var_smoothing': 0.005336699231206307}                                                                                \n",
      " 30%|██████████████▍                                 | 3/10 [00:13<00:31,  4.46s/trial, best loss: -0.9417199354577447]"
     ]
    },
    {
     "name": "stderr",
     "output_type": "stream",
     "text": [
      "C:\\Users\\velmurug\\Documents\\full_stability\\transformers\\StaticTransformer.py:44: PerformanceWarning: DataFrame is highly fragmented.  This is usually the result of calling `frame.insert` many times, which has poor performance.  Consider joining all columns at once using pd.concat(axis=1) instead.  To get a de-fragmented frame, use `newframe = frame.copy()`\n",
      "  dt_transformed[col] = 0\n",
      "\n",
      "C:\\Users\\velmurug\\Documents\\full_stability\\transformers\\IndexBasedTransformer.py:58: PerformanceWarning: DataFrame is highly fragmented.  This is usually the result of calling `frame.insert` many times, which has poor performance.  Consider joining all columns at once using pd.concat(axis=1) instead.  To get a de-fragmented frame, use `newframe = frame.copy()`\n",
      "  dt_transformed[col] = 0\n",
      "\n"
     ]
    },
    {
     "name": "stdout",
     "output_type": "stream",
     "text": [
      "Accuracy:                                                                                                              \n",
      "0.8851674641148326                                                                                                     \n",
      " 30%|██████████████▍                                 | 3/10 [00:14<00:31,  4.46s/trial, best loss: -0.9417199354577447]"
     ]
    },
    {
     "name": "stderr",
     "output_type": "stream",
     "text": [
      "C:\\Users\\velmurug\\Documents\\full_stability\\transformers\\IndexBasedTransformer.py:58: PerformanceWarning: DataFrame is highly fragmented.  This is usually the result of calling `frame.insert` many times, which has poor performance.  Consider joining all columns at once using pd.concat(axis=1) instead.  To get a de-fragmented frame, use `newframe = frame.copy()`\n",
      "  dt_transformed[col] = 0\n",
      "\n"
     ]
    },
    {
     "name": "stdout",
     "output_type": "stream",
     "text": [
      "Accuracy:                                                                                                              \n",
      "0.8649885583524026                                                                                                     \n",
      " 30%|██████████████▍                                 | 3/10 [00:16<00:31,  4.46s/trial, best loss: -0.9417199354577447]"
     ]
    },
    {
     "name": "stderr",
     "output_type": "stream",
     "text": [
      "C:\\Users\\velmurug\\Documents\\full_stability\\transformers\\StaticTransformer.py:44: PerformanceWarning: DataFrame is highly fragmented.  This is usually the result of calling `frame.insert` many times, which has poor performance.  Consider joining all columns at once using pd.concat(axis=1) instead.  To get a de-fragmented frame, use `newframe = frame.copy()`\n",
      "  dt_transformed[col] = 0\n",
      "\n",
      "C:\\Users\\velmurug\\Documents\\full_stability\\transformers\\IndexBasedTransformer.py:58: PerformanceWarning: DataFrame is highly fragmented.  This is usually the result of calling `frame.insert` many times, which has poor performance.  Consider joining all columns at once using pd.concat(axis=1) instead.  To get a de-fragmented frame, use `newframe = frame.copy()`\n",
      "  dt_transformed[col] = 0\n",
      "\n"
     ]
    },
    {
     "name": "stdout",
     "output_type": "stream",
     "text": [
      "Accuracy:                                                                                                              \n",
      "0.8641975308641976                                                                                                     \n",
      "{'var_smoothing': 8.111308307896873e-08}                                                                               \n",
      " 40%|███████████████████▏                            | 4/10 [00:17<00:26,  4.43s/trial, best loss: -0.9417199354577447]"
     ]
    },
    {
     "name": "stderr",
     "output_type": "stream",
     "text": [
      "C:\\Users\\velmurug\\Documents\\full_stability\\transformers\\StaticTransformer.py:44: PerformanceWarning: DataFrame is highly fragmented.  This is usually the result of calling `frame.insert` many times, which has poor performance.  Consider joining all columns at once using pd.concat(axis=1) instead.  To get a de-fragmented frame, use `newframe = frame.copy()`\n",
      "  dt_transformed[col] = 0\n",
      "\n",
      "C:\\Users\\velmurug\\Documents\\full_stability\\transformers\\IndexBasedTransformer.py:58: PerformanceWarning: DataFrame is highly fragmented.  This is usually the result of calling `frame.insert` many times, which has poor performance.  Consider joining all columns at once using pd.concat(axis=1) instead.  To get a de-fragmented frame, use `newframe = frame.copy()`\n",
      "  dt_transformed[col] = 0\n",
      "\n"
     ]
    },
    {
     "name": "stdout",
     "output_type": "stream",
     "text": [
      "Accuracy:                                                                                                              \n",
      "0.9445910290237467                                                                                                     \n",
      " 40%|███████████████████▏                            | 4/10 [00:19<00:26,  4.43s/trial, best loss: -0.9417199354577447]"
     ]
    },
    {
     "name": "stderr",
     "output_type": "stream",
     "text": [
      "C:\\Users\\velmurug\\Documents\\full_stability\\transformers\\StaticTransformer.py:44: PerformanceWarning: DataFrame is highly fragmented.  This is usually the result of calling `frame.insert` many times, which has poor performance.  Consider joining all columns at once using pd.concat(axis=1) instead.  To get a de-fragmented frame, use `newframe = frame.copy()`\n",
      "  dt_transformed[col] = 0\n",
      "\n",
      "C:\\Users\\velmurug\\Documents\\full_stability\\transformers\\IndexBasedTransformer.py:58: PerformanceWarning: DataFrame is highly fragmented.  This is usually the result of calling `frame.insert` many times, which has poor performance.  Consider joining all columns at once using pd.concat(axis=1) instead.  To get a de-fragmented frame, use `newframe = frame.copy()`\n",
      "  dt_transformed[col] = 0\n",
      "\n"
     ]
    },
    {
     "name": "stdout",
     "output_type": "stream",
     "text": [
      "Accuracy:                                                                                                              \n",
      "0.9556135770234987                                                                                                     \n",
      " 40%|███████████████████▏                            | 4/10 [00:20<00:26,  4.43s/trial, best loss: -0.9417199354577447]"
     ]
    },
    {
     "name": "stderr",
     "output_type": "stream",
     "text": [
      "C:\\Users\\velmurug\\Documents\\full_stability\\transformers\\StaticTransformer.py:44: PerformanceWarning: DataFrame is highly fragmented.  This is usually the result of calling `frame.insert` many times, which has poor performance.  Consider joining all columns at once using pd.concat(axis=1) instead.  To get a de-fragmented frame, use `newframe = frame.copy()`\n",
      "  dt_transformed[col] = 0\n",
      "\n",
      "C:\\Users\\velmurug\\Documents\\full_stability\\transformers\\IndexBasedTransformer.py:58: PerformanceWarning: DataFrame is highly fragmented.  This is usually the result of calling `frame.insert` many times, which has poor performance.  Consider joining all columns at once using pd.concat(axis=1) instead.  To get a de-fragmented frame, use `newframe = frame.copy()`\n",
      "  dt_transformed[col] = 0\n",
      "\n"
     ]
    },
    {
     "name": "stdout",
     "output_type": "stream",
     "text": [
      "Accuracy:                                                                                                              \n",
      "0.9583333333333334                                                                                                     \n",
      "{'var_smoothing': 3.5111917342151277e-08}                                                                              \n",
      " 50%|████████████████████████                        | 5/10 [00:22<00:22,  4.44s/trial, best loss: -0.9528459797935263]"
     ]
    },
    {
     "name": "stderr",
     "output_type": "stream",
     "text": [
      "C:\\Users\\velmurug\\Documents\\full_stability\\transformers\\StaticTransformer.py:44: PerformanceWarning: DataFrame is highly fragmented.  This is usually the result of calling `frame.insert` many times, which has poor performance.  Consider joining all columns at once using pd.concat(axis=1) instead.  To get a de-fragmented frame, use `newframe = frame.copy()`\n",
      "  dt_transformed[col] = 0\n",
      "\n",
      "C:\\Users\\velmurug\\Documents\\full_stability\\transformers\\IndexBasedTransformer.py:58: PerformanceWarning: DataFrame is highly fragmented.  This is usually the result of calling `frame.insert` many times, which has poor performance.  Consider joining all columns at once using pd.concat(axis=1) instead.  To get a de-fragmented frame, use `newframe = frame.copy()`\n",
      "  dt_transformed[col] = 0\n",
      "\n"
     ]
    },
    {
     "name": "stdout",
     "output_type": "stream",
     "text": [
      "Accuracy:                                                                                                              \n",
      "0.9583333333333334                                                                                                     \n",
      " 50%|████████████████████████                        | 5/10 [00:23<00:22,  4.44s/trial, best loss: -0.9528459797935263]"
     ]
    },
    {
     "name": "stderr",
     "output_type": "stream",
     "text": [
      "C:\\Users\\velmurug\\Documents\\full_stability\\transformers\\StaticTransformer.py:44: PerformanceWarning: DataFrame is highly fragmented.  This is usually the result of calling `frame.insert` many times, which has poor performance.  Consider joining all columns at once using pd.concat(axis=1) instead.  To get a de-fragmented frame, use `newframe = frame.copy()`\n",
      "  dt_transformed[col] = 0\n",
      "\n",
      "C:\\Users\\velmurug\\Documents\\full_stability\\transformers\\IndexBasedTransformer.py:58: PerformanceWarning: DataFrame is highly fragmented.  This is usually the result of calling `frame.insert` many times, which has poor performance.  Consider joining all columns at once using pd.concat(axis=1) instead.  To get a de-fragmented frame, use `newframe = frame.copy()`\n",
      "  dt_transformed[col] = 0\n",
      "\n"
     ]
    },
    {
     "name": "stdout",
     "output_type": "stream",
     "text": [
      "Accuracy:                                                                                                              \n",
      "0.9556135770234987                                                                                                     \n",
      " 50%|████████████████████████                        | 5/10 [00:25<00:22,  4.44s/trial, best loss: -0.9528459797935263]"
     ]
    },
    {
     "name": "stderr",
     "output_type": "stream",
     "text": [
      "C:\\Users\\velmurug\\Documents\\full_stability\\transformers\\StaticTransformer.py:44: PerformanceWarning: DataFrame is highly fragmented.  This is usually the result of calling `frame.insert` many times, which has poor performance.  Consider joining all columns at once using pd.concat(axis=1) instead.  To get a de-fragmented frame, use `newframe = frame.copy()`\n",
      "  dt_transformed[col] = 0\n",
      "\n",
      "C:\\Users\\velmurug\\Documents\\full_stability\\transformers\\IndexBasedTransformer.py:58: PerformanceWarning: DataFrame is highly fragmented.  This is usually the result of calling `frame.insert` many times, which has poor performance.  Consider joining all columns at once using pd.concat(axis=1) instead.  To get a de-fragmented frame, use `newframe = frame.copy()`\n",
      "  dt_transformed[col] = 0\n",
      "\n"
     ]
    },
    {
     "name": "stdout",
     "output_type": "stream",
     "text": [
      "Accuracy:                                                                                                              \n",
      "0.9361702127659575                                                                                                     \n",
      "{'var_smoothing': 5.3366992312063123e-05}                                                                              \n",
      " 60%|████████████████████████████▊                   | 6/10 [00:26<00:17,  4.41s/trial, best loss: -0.9528459797935263]"
     ]
    },
    {
     "name": "stderr",
     "output_type": "stream",
     "text": [
      "C:\\Users\\velmurug\\Documents\\full_stability\\transformers\\StaticTransformer.py:44: PerformanceWarning: DataFrame is highly fragmented.  This is usually the result of calling `frame.insert` many times, which has poor performance.  Consider joining all columns at once using pd.concat(axis=1) instead.  To get a de-fragmented frame, use `newframe = frame.copy()`\n",
      "  dt_transformed[col] = 0\n",
      "\n",
      "C:\\Users\\velmurug\\Documents\\full_stability\\transformers\\IndexBasedTransformer.py:58: PerformanceWarning: DataFrame is highly fragmented.  This is usually the result of calling `frame.insert` many times, which has poor performance.  Consider joining all columns at once using pd.concat(axis=1) instead.  To get a de-fragmented frame, use `newframe = frame.copy()`\n",
      "  dt_transformed[col] = 0\n",
      "\n"
     ]
    },
    {
     "name": "stdout",
     "output_type": "stream",
     "text": [
      "Accuracy:                                                                                                              \n",
      "0.9276139410187667                                                                                                     \n",
      " 60%|████████████████████████████▊                   | 6/10 [00:27<00:17,  4.41s/trial, best loss: -0.9528459797935263]"
     ]
    },
    {
     "name": "stderr",
     "output_type": "stream",
     "text": [
      "C:\\Users\\velmurug\\Documents\\full_stability\\transformers\\StaticTransformer.py:44: PerformanceWarning: DataFrame is highly fragmented.  This is usually the result of calling `frame.insert` many times, which has poor performance.  Consider joining all columns at once using pd.concat(axis=1) instead.  To get a de-fragmented frame, use `newframe = frame.copy()`\n",
      "  dt_transformed[col] = 0\n",
      "\n",
      "C:\\Users\\velmurug\\Documents\\full_stability\\transformers\\IndexBasedTransformer.py:58: PerformanceWarning: DataFrame is highly fragmented.  This is usually the result of calling `frame.insert` many times, which has poor performance.  Consider joining all columns at once using pd.concat(axis=1) instead.  To get a de-fragmented frame, use `newframe = frame.copy()`\n",
      "  dt_transformed[col] = 0\n",
      "\n"
     ]
    },
    {
     "name": "stdout",
     "output_type": "stream",
     "text": [
      "Accuracy:                                                                                                              \n",
      "0.9445910290237467                                                                                                     \n",
      " 60%|████████████████████████████▊                   | 6/10 [00:29<00:17,  4.41s/trial, best loss: -0.9528459797935263]"
     ]
    },
    {
     "name": "stderr",
     "output_type": "stream",
     "text": [
      "C:\\Users\\velmurug\\Documents\\full_stability\\transformers\\StaticTransformer.py:44: PerformanceWarning: DataFrame is highly fragmented.  This is usually the result of calling `frame.insert` many times, which has poor performance.  Consider joining all columns at once using pd.concat(axis=1) instead.  To get a de-fragmented frame, use `newframe = frame.copy()`\n",
      "  dt_transformed[col] = 0\n",
      "\n",
      "C:\\Users\\velmurug\\Documents\\full_stability\\transformers\\IndexBasedTransformer.py:58: PerformanceWarning: DataFrame is highly fragmented.  This is usually the result of calling `frame.insert` many times, which has poor performance.  Consider joining all columns at once using pd.concat(axis=1) instead.  To get a de-fragmented frame, use `newframe = frame.copy()`\n",
      "  dt_transformed[col] = 0\n",
      "\n"
     ]
    },
    {
     "name": "stdout",
     "output_type": "stream",
     "text": [
      "Accuracy:                                                                                                              \n",
      "0.9473684210526316                                                                                                     \n",
      "{'var_smoothing': 8.111308307896872e-07}                                                                               \n",
      " 70%|█████████████████████████████████▌              | 7/10 [00:30<00:13,  4.41s/trial, best loss: -0.9528459797935263]"
     ]
    },
    {
     "name": "stderr",
     "output_type": "stream",
     "text": [
      "C:\\Users\\velmurug\\Documents\\full_stability\\transformers\\StaticTransformer.py:44: PerformanceWarning: DataFrame is highly fragmented.  This is usually the result of calling `frame.insert` many times, which has poor performance.  Consider joining all columns at once using pd.concat(axis=1) instead.  To get a de-fragmented frame, use `newframe = frame.copy()`\n",
      "  dt_transformed[col] = 0\n",
      "\n",
      "C:\\Users\\velmurug\\Documents\\full_stability\\transformers\\IndexBasedTransformer.py:58: PerformanceWarning: DataFrame is highly fragmented.  This is usually the result of calling `frame.insert` many times, which has poor performance.  Consider joining all columns at once using pd.concat(axis=1) instead.  To get a de-fragmented frame, use `newframe = frame.copy()`\n",
      "  dt_transformed[col] = 0\n",
      "\n"
     ]
    },
    {
     "name": "stdout",
     "output_type": "stream",
     "text": [
      "Accuracy:                                                                                                              \n",
      "0.9583333333333334                                                                                                     \n",
      " 70%|█████████████████████████████████▌              | 7/10 [00:32<00:13,  4.41s/trial, best loss: -0.9528459797935263]"
     ]
    },
    {
     "name": "stderr",
     "output_type": "stream",
     "text": [
      "C:\\Users\\velmurug\\Documents\\full_stability\\transformers\\StaticTransformer.py:44: PerformanceWarning: DataFrame is highly fragmented.  This is usually the result of calling `frame.insert` many times, which has poor performance.  Consider joining all columns at once using pd.concat(axis=1) instead.  To get a de-fragmented frame, use `newframe = frame.copy()`\n",
      "  dt_transformed[col] = 0\n",
      "\n",
      "C:\\Users\\velmurug\\Documents\\full_stability\\transformers\\IndexBasedTransformer.py:58: PerformanceWarning: DataFrame is highly fragmented.  This is usually the result of calling `frame.insert` many times, which has poor performance.  Consider joining all columns at once using pd.concat(axis=1) instead.  To get a de-fragmented frame, use `newframe = frame.copy()`\n",
      "  dt_transformed[col] = 0\n",
      "\n"
     ]
    },
    {
     "name": "stdout",
     "output_type": "stream",
     "text": [
      "Accuracy:                                                                                                              \n",
      "0.9473684210526316                                                                                                     \n",
      " 70%|█████████████████████████████████▌              | 7/10 [00:34<00:13,  4.41s/trial, best loss: -0.9528459797935263]"
     ]
    },
    {
     "name": "stderr",
     "output_type": "stream",
     "text": [
      "C:\\Users\\velmurug\\Documents\\full_stability\\transformers\\StaticTransformer.py:44: PerformanceWarning: DataFrame is highly fragmented.  This is usually the result of calling `frame.insert` many times, which has poor performance.  Consider joining all columns at once using pd.concat(axis=1) instead.  To get a de-fragmented frame, use `newframe = frame.copy()`\n",
      "  dt_transformed[col] = 0\n",
      "\n",
      "C:\\Users\\velmurug\\Documents\\full_stability\\transformers\\IndexBasedTransformer.py:58: PerformanceWarning: DataFrame is highly fragmented.  This is usually the result of calling `frame.insert` many times, which has poor performance.  Consider joining all columns at once using pd.concat(axis=1) instead.  To get a de-fragmented frame, use `newframe = frame.copy()`\n",
      "  dt_transformed[col] = 0\n",
      "\n"
     ]
    },
    {
     "name": "stdout",
     "output_type": "stream",
     "text": [
      "Accuracy:                                                                                                              \n",
      "0.9304812834224598                                                                                                     \n",
      "{'var_smoothing': 5.336699231206302e-09}                                                                               \n",
      " 80%|██████████████████████████████████████▍         | 8/10 [00:35<00:08,  4.44s/trial, best loss: -0.9528459797935263]"
     ]
    },
    {
     "name": "stderr",
     "output_type": "stream",
     "text": [
      "C:\\Users\\velmurug\\Documents\\full_stability\\transformers\\StaticTransformer.py:44: PerformanceWarning: DataFrame is highly fragmented.  This is usually the result of calling `frame.insert` many times, which has poor performance.  Consider joining all columns at once using pd.concat(axis=1) instead.  To get a de-fragmented frame, use `newframe = frame.copy()`\n",
      "  dt_transformed[col] = 0\n",
      "\n",
      "C:\\Users\\velmurug\\Documents\\full_stability\\transformers\\IndexBasedTransformer.py:58: PerformanceWarning: DataFrame is highly fragmented.  This is usually the result of calling `frame.insert` many times, which has poor performance.  Consider joining all columns at once using pd.concat(axis=1) instead.  To get a de-fragmented frame, use `newframe = frame.copy()`\n",
      "  dt_transformed[col] = 0\n",
      "\n"
     ]
    },
    {
     "name": "stdout",
     "output_type": "stream",
     "text": [
      "Accuracy:                                                                                                              \n",
      "0.9130434782608696                                                                                                     \n",
      " 80%|██████████████████████████████████████▍         | 8/10 [00:36<00:08,  4.44s/trial, best loss: -0.9528459797935263]"
     ]
    },
    {
     "name": "stderr",
     "output_type": "stream",
     "text": [
      "C:\\Users\\velmurug\\Documents\\full_stability\\transformers\\StaticTransformer.py:44: PerformanceWarning: DataFrame is highly fragmented.  This is usually the result of calling `frame.insert` many times, which has poor performance.  Consider joining all columns at once using pd.concat(axis=1) instead.  To get a de-fragmented frame, use `newframe = frame.copy()`\n",
      "  dt_transformed[col] = 0\n",
      "\n",
      "C:\\Users\\velmurug\\Documents\\full_stability\\transformers\\IndexBasedTransformer.py:58: PerformanceWarning: DataFrame is highly fragmented.  This is usually the result of calling `frame.insert` many times, which has poor performance.  Consider joining all columns at once using pd.concat(axis=1) instead.  To get a de-fragmented frame, use `newframe = frame.copy()`\n",
      "  dt_transformed[col] = 0\n",
      "\n"
     ]
    },
    {
     "name": "stdout",
     "output_type": "stream",
     "text": [
      "Accuracy:                                                                                                              \n",
      "0.9664082687338501                                                                                                     \n",
      " 80%|██████████████████████████████████████▍         | 8/10 [00:38<00:08,  4.44s/trial, best loss: -0.9528459797935263]"
     ]
    },
    {
     "name": "stderr",
     "output_type": "stream",
     "text": [
      "C:\\Users\\velmurug\\Documents\\full_stability\\transformers\\StaticTransformer.py:44: PerformanceWarning: DataFrame is highly fragmented.  This is usually the result of calling `frame.insert` many times, which has poor performance.  Consider joining all columns at once using pd.concat(axis=1) instead.  To get a de-fragmented frame, use `newframe = frame.copy()`\n",
      "  dt_transformed[col] = 0\n",
      "\n",
      "C:\\Users\\velmurug\\Documents\\full_stability\\transformers\\IndexBasedTransformer.py:58: PerformanceWarning: DataFrame is highly fragmented.  This is usually the result of calling `frame.insert` many times, which has poor performance.  Consider joining all columns at once using pd.concat(axis=1) instead.  To get a de-fragmented frame, use `newframe = frame.copy()`\n",
      "  dt_transformed[col] = 0\n",
      "\n"
     ]
    },
    {
     "name": "stdout",
     "output_type": "stream",
     "text": [
      "Accuracy:                                                                                                              \n",
      "0.9583333333333334                                                                                                     \n",
      "{'var_smoothing': 0.01}                                                                                                \n",
      " 90%|███████████████████████████████████████████▏    | 9/10 [00:39<00:04,  4.46s/trial, best loss: -0.9528459797935263]"
     ]
    },
    {
     "name": "stderr",
     "output_type": "stream",
     "text": [
      "C:\\Users\\velmurug\\Documents\\full_stability\\transformers\\StaticTransformer.py:44: PerformanceWarning: DataFrame is highly fragmented.  This is usually the result of calling `frame.insert` many times, which has poor performance.  Consider joining all columns at once using pd.concat(axis=1) instead.  To get a de-fragmented frame, use `newframe = frame.copy()`\n",
      "  dt_transformed[col] = 0\n",
      "\n",
      "C:\\Users\\velmurug\\Documents\\full_stability\\transformers\\IndexBasedTransformer.py:58: PerformanceWarning: DataFrame is highly fragmented.  This is usually the result of calling `frame.insert` many times, which has poor performance.  Consider joining all columns at once using pd.concat(axis=1) instead.  To get a de-fragmented frame, use `newframe = frame.copy()`\n",
      "  dt_transformed[col] = 0\n",
      "\n"
     ]
    },
    {
     "name": "stdout",
     "output_type": "stream",
     "text": [
      "Accuracy:                                                                                                              \n",
      "0.8735632183908046                                                                                                     \n",
      " 90%|███████████████████████████████████████████▏    | 9/10 [00:41<00:04,  4.46s/trial, best loss: -0.9528459797935263]"
     ]
    },
    {
     "name": "stderr",
     "output_type": "stream",
     "text": [
      "C:\\Users\\velmurug\\Documents\\full_stability\\transformers\\StaticTransformer.py:44: PerformanceWarning: DataFrame is highly fragmented.  This is usually the result of calling `frame.insert` many times, which has poor performance.  Consider joining all columns at once using pd.concat(axis=1) instead.  To get a de-fragmented frame, use `newframe = frame.copy()`\n",
      "  dt_transformed[col] = 0\n",
      "\n",
      "C:\\Users\\velmurug\\Documents\\full_stability\\transformers\\IndexBasedTransformer.py:58: PerformanceWarning: DataFrame is highly fragmented.  This is usually the result of calling `frame.insert` many times, which has poor performance.  Consider joining all columns at once using pd.concat(axis=1) instead.  To get a de-fragmented frame, use `newframe = frame.copy()`\n",
      "  dt_transformed[col] = 0\n",
      "\n"
     ]
    },
    {
     "name": "stdout",
     "output_type": "stream",
     "text": [
      "Accuracy:                                                                                                              \n",
      "0.8486238532110092                                                                                                     \n",
      " 90%|███████████████████████████████████████████▏    | 9/10 [00:42<00:04,  4.46s/trial, best loss: -0.9528459797935263]"
     ]
    },
    {
     "name": "stderr",
     "output_type": "stream",
     "text": [
      "C:\\Users\\velmurug\\Documents\\full_stability\\transformers\\StaticTransformer.py:44: PerformanceWarning: DataFrame is highly fragmented.  This is usually the result of calling `frame.insert` many times, which has poor performance.  Consider joining all columns at once using pd.concat(axis=1) instead.  To get a de-fragmented frame, use `newframe = frame.copy()`\n",
      "  dt_transformed[col] = 0\n",
      "\n",
      "C:\\Users\\velmurug\\Documents\\full_stability\\transformers\\IndexBasedTransformer.py:58: PerformanceWarning: DataFrame is highly fragmented.  This is usually the result of calling `frame.insert` many times, which has poor performance.  Consider joining all columns at once using pd.concat(axis=1) instead.  To get a de-fragmented frame, use `newframe = frame.copy()`\n",
      "  dt_transformed[col] = 0\n",
      "\n"
     ]
    },
    {
     "name": "stdout",
     "output_type": "stream",
     "text": [
      "Accuracy:                                                                                                              \n",
      "0.8794326241134753                                                                                                     \n",
      "100%|███████████████████████████████████████████████| 10/10 [00:44<00:00,  4.45s/trial, best loss: -0.9528459797935263]\n",
      "Optimising 17 of 20 buckets\n",
      "{'var_smoothing': 3.5111917342151275e-06}                                                                              \n",
      "  0%|                                                                           | 0/10 [00:00<?, ?trial/s, best loss=?]"
     ]
    },
    {
     "name": "stderr",
     "output_type": "stream",
     "text": [
      "C:\\Users\\velmurug\\Documents\\full_stability\\transformers\\StaticTransformer.py:44: PerformanceWarning: DataFrame is highly fragmented.  This is usually the result of calling `frame.insert` many times, which has poor performance.  Consider joining all columns at once using pd.concat(axis=1) instead.  To get a de-fragmented frame, use `newframe = frame.copy()`\n",
      "  dt_transformed[col] = 0\n",
      "\n",
      "C:\\Users\\velmurug\\Documents\\full_stability\\transformers\\IndexBasedTransformer.py:58: PerformanceWarning: DataFrame is highly fragmented.  This is usually the result of calling `frame.insert` many times, which has poor performance.  Consider joining all columns at once using pd.concat(axis=1) instead.  To get a de-fragmented frame, use `newframe = frame.copy()`\n",
      "  dt_transformed[col] = 0\n",
      "\n"
     ]
    },
    {
     "name": "stdout",
     "output_type": "stream",
     "text": [
      "Accuracy:                                                                                                              \n",
      "0.9389920424403183                                                                                                     \n",
      "  0%|                                                                           | 0/10 [00:01<?, ?trial/s, best loss=?]"
     ]
    },
    {
     "name": "stderr",
     "output_type": "stream",
     "text": [
      "C:\\Users\\velmurug\\Documents\\full_stability\\transformers\\StaticTransformer.py:44: PerformanceWarning: DataFrame is highly fragmented.  This is usually the result of calling `frame.insert` many times, which has poor performance.  Consider joining all columns at once using pd.concat(axis=1) instead.  To get a de-fragmented frame, use `newframe = frame.copy()`\n",
      "  dt_transformed[col] = 0\n",
      "\n",
      "C:\\Users\\velmurug\\Documents\\full_stability\\transformers\\IndexBasedTransformer.py:58: PerformanceWarning: DataFrame is highly fragmented.  This is usually the result of calling `frame.insert` many times, which has poor performance.  Consider joining all columns at once using pd.concat(axis=1) instead.  To get a de-fragmented frame, use `newframe = frame.copy()`\n",
      "  dt_transformed[col] = 0\n",
      "\n"
     ]
    },
    {
     "name": "stdout",
     "output_type": "stream",
     "text": [
      "Accuracy:                                                                                                              \n",
      "0.9417989417989417                                                                                                     \n",
      "  0%|                                                                           | 0/10 [00:03<?, ?trial/s, best loss=?]"
     ]
    },
    {
     "name": "stderr",
     "output_type": "stream",
     "text": [
      "C:\\Users\\velmurug\\Documents\\full_stability\\transformers\\StaticTransformer.py:44: PerformanceWarning: DataFrame is highly fragmented.  This is usually the result of calling `frame.insert` many times, which has poor performance.  Consider joining all columns at once using pd.concat(axis=1) instead.  To get a de-fragmented frame, use `newframe = frame.copy()`\n",
      "  dt_transformed[col] = 0\n",
      "\n",
      "C:\\Users\\velmurug\\Documents\\full_stability\\transformers\\IndexBasedTransformer.py:58: PerformanceWarning: DataFrame is highly fragmented.  This is usually the result of calling `frame.insert` many times, which has poor performance.  Consider joining all columns at once using pd.concat(axis=1) instead.  To get a de-fragmented frame, use `newframe = frame.copy()`\n",
      "  dt_transformed[col] = 0\n",
      "\n"
     ]
    },
    {
     "name": "stdout",
     "output_type": "stream",
     "text": [
      "Accuracy:                                                                                                              \n",
      "0.9361702127659575                                                                                                     \n",
      "{'var_smoothing': 0.008111308307896872}                                                                                \n",
      " 10%|████▊                                           | 1/10 [00:04<00:42,  4.70s/trial, best loss: -0.9389870656684058]"
     ]
    },
    {
     "name": "stderr",
     "output_type": "stream",
     "text": [
      "C:\\Users\\velmurug\\Documents\\full_stability\\transformers\\IndexBasedTransformer.py:58: PerformanceWarning: DataFrame is highly fragmented.  This is usually the result of calling `frame.insert` many times, which has poor performance.  Consider joining all columns at once using pd.concat(axis=1) instead.  To get a de-fragmented frame, use `newframe = frame.copy()`\n",
      "  dt_transformed[col] = 0\n",
      "\n"
     ]
    },
    {
     "name": "stdout",
     "output_type": "stream",
     "text": [
      "Accuracy:                                                                                                              \n",
      "0.8637413394919169                                                                                                     \n",
      " 10%|████▊                                           | 1/10 [00:06<00:42,  4.70s/trial, best loss: -0.9389870656684058]"
     ]
    },
    {
     "name": "stderr",
     "output_type": "stream",
     "text": [
      "C:\\Users\\velmurug\\Documents\\full_stability\\transformers\\StaticTransformer.py:44: PerformanceWarning: DataFrame is highly fragmented.  This is usually the result of calling `frame.insert` many times, which has poor performance.  Consider joining all columns at once using pd.concat(axis=1) instead.  To get a de-fragmented frame, use `newframe = frame.copy()`\n",
      "  dt_transformed[col] = 0\n",
      "\n",
      "C:\\Users\\velmurug\\Documents\\full_stability\\transformers\\IndexBasedTransformer.py:58: PerformanceWarning: DataFrame is highly fragmented.  This is usually the result of calling `frame.insert` many times, which has poor performance.  Consider joining all columns at once using pd.concat(axis=1) instead.  To get a de-fragmented frame, use `newframe = frame.copy()`\n",
      "  dt_transformed[col] = 0\n",
      "\n"
     ]
    },
    {
     "name": "stdout",
     "output_type": "stream",
     "text": [
      "Accuracy:                                                                                                              \n",
      "0.8815165876777251                                                                                                     \n",
      " 10%|████▊                                           | 1/10 [00:07<00:42,  4.70s/trial, best loss: -0.9389870656684058]"
     ]
    },
    {
     "name": "stderr",
     "output_type": "stream",
     "text": [
      "C:\\Users\\velmurug\\Documents\\full_stability\\transformers\\StaticTransformer.py:44: PerformanceWarning: DataFrame is highly fragmented.  This is usually the result of calling `frame.insert` many times, which has poor performance.  Consider joining all columns at once using pd.concat(axis=1) instead.  To get a de-fragmented frame, use `newframe = frame.copy()`\n",
      "  dt_transformed[col] = 0\n",
      "\n",
      "C:\\Users\\velmurug\\Documents\\full_stability\\transformers\\IndexBasedTransformer.py:58: PerformanceWarning: DataFrame is highly fragmented.  This is usually the result of calling `frame.insert` many times, which has poor performance.  Consider joining all columns at once using pd.concat(axis=1) instead.  To get a de-fragmented frame, use `newframe = frame.copy()`\n",
      "  dt_transformed[col] = 0\n",
      "\n"
     ]
    },
    {
     "name": "stdout",
     "output_type": "stream",
     "text": [
      "Accuracy:                                                                                                              \n",
      "0.8794326241134753                                                                                                     \n",
      "{'var_smoothing': 0.0006579332246575676}                                                                               \n",
      " 20%|█████████▌                                      | 2/10 [00:09<00:38,  4.76s/trial, best loss: -0.9389870656684058]"
     ]
    },
    {
     "name": "stderr",
     "output_type": "stream",
     "text": [
      "C:\\Users\\velmurug\\Documents\\full_stability\\transformers\\StaticTransformer.py:44: PerformanceWarning: DataFrame is highly fragmented.  This is usually the result of calling `frame.insert` many times, which has poor performance.  Consider joining all columns at once using pd.concat(axis=1) instead.  To get a de-fragmented frame, use `newframe = frame.copy()`\n",
      "  dt_transformed[col] = 0\n",
      "\n",
      "C:\\Users\\velmurug\\Documents\\full_stability\\transformers\\IndexBasedTransformer.py:58: PerformanceWarning: DataFrame is highly fragmented.  This is usually the result of calling `frame.insert` many times, which has poor performance.  Consider joining all columns at once using pd.concat(axis=1) instead.  To get a de-fragmented frame, use `newframe = frame.copy()`\n",
      "  dt_transformed[col] = 0\n",
      "\n"
     ]
    },
    {
     "name": "stdout",
     "output_type": "stream",
     "text": [
      "Accuracy:                                                                                                              \n",
      "0.9304812834224598                                                                                                     \n",
      " 20%|█████████▌                                      | 2/10 [00:11<00:38,  4.76s/trial, best loss: -0.9389870656684058]"
     ]
    },
    {
     "name": "stderr",
     "output_type": "stream",
     "text": [
      "C:\\Users\\velmurug\\Documents\\full_stability\\transformers\\StaticTransformer.py:44: PerformanceWarning: DataFrame is highly fragmented.  This is usually the result of calling `frame.insert` many times, which has poor performance.  Consider joining all columns at once using pd.concat(axis=1) instead.  To get a de-fragmented frame, use `newframe = frame.copy()`\n",
      "  dt_transformed[col] = 0\n",
      "\n",
      "C:\\Users\\velmurug\\Documents\\full_stability\\transformers\\IndexBasedTransformer.py:58: PerformanceWarning: DataFrame is highly fragmented.  This is usually the result of calling `frame.insert` many times, which has poor performance.  Consider joining all columns at once using pd.concat(axis=1) instead.  To get a de-fragmented frame, use `newframe = frame.copy()`\n",
      "  dt_transformed[col] = 0\n",
      "\n"
     ]
    },
    {
     "name": "stdout",
     "output_type": "stream",
     "text": [
      "Accuracy:                                                                                                              \n",
      "0.9445910290237467                                                                                                     \n",
      " 20%|█████████▌                                      | 2/10 [00:12<00:38,  4.76s/trial, best loss: -0.9389870656684058]"
     ]
    },
    {
     "name": "stderr",
     "output_type": "stream",
     "text": [
      "C:\\Users\\velmurug\\Documents\\full_stability\\transformers\\IndexBasedTransformer.py:58: PerformanceWarning: DataFrame is highly fragmented.  This is usually the result of calling `frame.insert` many times, which has poor performance.  Consider joining all columns at once using pd.concat(axis=1) instead.  To get a de-fragmented frame, use `newframe = frame.copy()`\n",
      "  dt_transformed[col] = 0\n",
      "\n"
     ]
    },
    {
     "name": "stdout",
     "output_type": "stream",
     "text": [
      "Accuracy:                                                                                                              \n",
      "0.9304812834224598                                                                                                     \n",
      "{'var_smoothing': 0.002848035868435802}                                                                                \n",
      " 30%|██████████████▍                                 | 3/10 [00:14<00:33,  4.72s/trial, best loss: -0.9389870656684058]"
     ]
    },
    {
     "name": "stderr",
     "output_type": "stream",
     "text": [
      "C:\\Users\\velmurug\\Documents\\full_stability\\transformers\\StaticTransformer.py:44: PerformanceWarning: DataFrame is highly fragmented.  This is usually the result of calling `frame.insert` many times, which has poor performance.  Consider joining all columns at once using pd.concat(axis=1) instead.  To get a de-fragmented frame, use `newframe = frame.copy()`\n",
      "  dt_transformed[col] = 0\n",
      "\n",
      "C:\\Users\\velmurug\\Documents\\full_stability\\transformers\\IndexBasedTransformer.py:58: PerformanceWarning: DataFrame is highly fragmented.  This is usually the result of calling `frame.insert` many times, which has poor performance.  Consider joining all columns at once using pd.concat(axis=1) instead.  To get a de-fragmented frame, use `newframe = frame.copy()`\n",
      "  dt_transformed[col] = 0\n",
      "\n"
     ]
    },
    {
     "name": "stdout",
     "output_type": "stream",
     "text": [
      "Accuracy:                                                                                                              \n",
      "0.911764705882353                                                                                                      \n",
      " 30%|██████████████▍                                 | 3/10 [00:15<00:33,  4.72s/trial, best loss: -0.9389870656684058]"
     ]
    },
    {
     "name": "stderr",
     "output_type": "stream",
     "text": [
      "C:\\Users\\velmurug\\Documents\\full_stability\\transformers\\StaticTransformer.py:44: PerformanceWarning: DataFrame is highly fragmented.  This is usually the result of calling `frame.insert` many times, which has poor performance.  Consider joining all columns at once using pd.concat(axis=1) instead.  To get a de-fragmented frame, use `newframe = frame.copy()`\n",
      "  dt_transformed[col] = 0\n",
      "\n",
      "C:\\Users\\velmurug\\Documents\\full_stability\\transformers\\IndexBasedTransformer.py:58: PerformanceWarning: DataFrame is highly fragmented.  This is usually the result of calling `frame.insert` many times, which has poor performance.  Consider joining all columns at once using pd.concat(axis=1) instead.  To get a de-fragmented frame, use `newframe = frame.copy()`\n",
      "  dt_transformed[col] = 0\n",
      "\n"
     ]
    },
    {
     "name": "stdout",
     "output_type": "stream",
     "text": [
      "Accuracy:                                                                                                              \n",
      "0.9189189189189189                                                                                                     \n",
      " 30%|██████████████▍                                 | 3/10 [00:17<00:33,  4.72s/trial, best loss: -0.9389870656684058]"
     ]
    },
    {
     "name": "stderr",
     "output_type": "stream",
     "text": [
      "C:\\Users\\velmurug\\Documents\\full_stability\\transformers\\StaticTransformer.py:44: PerformanceWarning: DataFrame is highly fragmented.  This is usually the result of calling `frame.insert` many times, which has poor performance.  Consider joining all columns at once using pd.concat(axis=1) instead.  To get a de-fragmented frame, use `newframe = frame.copy()`\n",
      "  dt_transformed[col] = 0\n",
      "\n",
      "C:\\Users\\velmurug\\Documents\\full_stability\\transformers\\IndexBasedTransformer.py:58: PerformanceWarning: DataFrame is highly fragmented.  This is usually the result of calling `frame.insert` many times, which has poor performance.  Consider joining all columns at once using pd.concat(axis=1) instead.  To get a de-fragmented frame, use `newframe = frame.copy()`\n",
      "  dt_transformed[col] = 0\n",
      "\n"
     ]
    },
    {
     "name": "stdout",
     "output_type": "stream",
     "text": [
      "Accuracy:                                                                                                              \n",
      "0.8807785888077859                                                                                                     \n",
      "{'var_smoothing': 2.310129700083158e-06}                                                                               \n",
      " 40%|███████████████████▏                            | 4/10 [00:19<00:28,  4.78s/trial, best loss: -0.9389870656684058]"
     ]
    },
    {
     "name": "stderr",
     "output_type": "stream",
     "text": [
      "C:\\Users\\velmurug\\Documents\\full_stability\\transformers\\StaticTransformer.py:44: PerformanceWarning: DataFrame is highly fragmented.  This is usually the result of calling `frame.insert` many times, which has poor performance.  Consider joining all columns at once using pd.concat(axis=1) instead.  To get a de-fragmented frame, use `newframe = frame.copy()`\n",
      "  dt_transformed[col] = 0\n",
      "\n",
      "C:\\Users\\velmurug\\Documents\\full_stability\\transformers\\IndexBasedTransformer.py:58: PerformanceWarning: DataFrame is highly fragmented.  This is usually the result of calling `frame.insert` many times, which has poor performance.  Consider joining all columns at once using pd.concat(axis=1) instead.  To get a de-fragmented frame, use `newframe = frame.copy()`\n",
      "  dt_transformed[col] = 0\n",
      "\n"
     ]
    },
    {
     "name": "stdout",
     "output_type": "stream",
     "text": [
      "Accuracy:                                                                                                              \n",
      "0.9276139410187667                                                                                                     \n",
      " 40%|███████████████████▏                            | 4/10 [00:20<00:28,  4.78s/trial, best loss: -0.9389870656684058]"
     ]
    },
    {
     "name": "stderr",
     "output_type": "stream",
     "text": [
      "C:\\Users\\velmurug\\Documents\\full_stability\\transformers\\StaticTransformer.py:44: PerformanceWarning: DataFrame is highly fragmented.  This is usually the result of calling `frame.insert` many times, which has poor performance.  Consider joining all columns at once using pd.concat(axis=1) instead.  To get a de-fragmented frame, use `newframe = frame.copy()`\n",
      "  dt_transformed[col] = 0\n",
      "\n",
      "C:\\Users\\velmurug\\Documents\\full_stability\\transformers\\IndexBasedTransformer.py:58: PerformanceWarning: DataFrame is highly fragmented.  This is usually the result of calling `frame.insert` many times, which has poor performance.  Consider joining all columns at once using pd.concat(axis=1) instead.  To get a de-fragmented frame, use `newframe = frame.copy()`\n",
      "  dt_transformed[col] = 0\n",
      "\n"
     ]
    },
    {
     "name": "stdout",
     "output_type": "stream",
     "text": [
      "Accuracy:                                                                                                              \n",
      "0.9417989417989417                                                                                                     \n",
      " 40%|███████████████████▏                            | 4/10 [00:22<00:28,  4.78s/trial, best loss: -0.9389870656684058]"
     ]
    },
    {
     "name": "stderr",
     "output_type": "stream",
     "text": [
      "C:\\Users\\velmurug\\Documents\\full_stability\\transformers\\StaticTransformer.py:44: PerformanceWarning: DataFrame is highly fragmented.  This is usually the result of calling `frame.insert` many times, which has poor performance.  Consider joining all columns at once using pd.concat(axis=1) instead.  To get a de-fragmented frame, use `newframe = frame.copy()`\n",
      "  dt_transformed[col] = 0\n",
      "\n",
      "C:\\Users\\velmurug\\Documents\\full_stability\\transformers\\IndexBasedTransformer.py:58: PerformanceWarning: DataFrame is highly fragmented.  This is usually the result of calling `frame.insert` many times, which has poor performance.  Consider joining all columns at once using pd.concat(axis=1) instead.  To get a de-fragmented frame, use `newframe = frame.copy()`\n",
      "  dt_transformed[col] = 0\n",
      "\n"
     ]
    },
    {
     "name": "stdout",
     "output_type": "stream",
     "text": [
      "Accuracy:                                                                                                              \n",
      "0.9501312335958005                                                                                                     \n",
      "{'var_smoothing': 0.0002848035868435802}                                                                               \n",
      " 50%|████████████████████████                        | 5/10 [00:23<00:23,  4.79s/trial, best loss: -0.9398480388045028]"
     ]
    },
    {
     "name": "stderr",
     "output_type": "stream",
     "text": [
      "C:\\Users\\velmurug\\Documents\\full_stability\\transformers\\StaticTransformer.py:44: PerformanceWarning: DataFrame is highly fragmented.  This is usually the result of calling `frame.insert` many times, which has poor performance.  Consider joining all columns at once using pd.concat(axis=1) instead.  To get a de-fragmented frame, use `newframe = frame.copy()`\n",
      "  dt_transformed[col] = 0\n",
      "\n",
      "C:\\Users\\velmurug\\Documents\\full_stability\\transformers\\IndexBasedTransformer.py:58: PerformanceWarning: DataFrame is highly fragmented.  This is usually the result of calling `frame.insert` many times, which has poor performance.  Consider joining all columns at once using pd.concat(axis=1) instead.  To get a de-fragmented frame, use `newframe = frame.copy()`\n",
      "  dt_transformed[col] = 0\n",
      "\n"
     ]
    },
    {
     "name": "stdout",
     "output_type": "stream",
     "text": [
      "Accuracy:                                                                                                              \n",
      "0.9583333333333334                                                                                                     \n",
      " 50%|████████████████████████                        | 5/10 [00:25<00:23,  4.79s/trial, best loss: -0.9398480388045028]"
     ]
    },
    {
     "name": "stderr",
     "output_type": "stream",
     "text": [
      "C:\\Users\\velmurug\\Documents\\full_stability\\transformers\\StaticTransformer.py:44: PerformanceWarning: DataFrame is highly fragmented.  This is usually the result of calling `frame.insert` many times, which has poor performance.  Consider joining all columns at once using pd.concat(axis=1) instead.  To get a de-fragmented frame, use `newframe = frame.copy()`\n",
      "  dt_transformed[col] = 0\n",
      "\n",
      "C:\\Users\\velmurug\\Documents\\full_stability\\transformers\\IndexBasedTransformer.py:58: PerformanceWarning: DataFrame is highly fragmented.  This is usually the result of calling `frame.insert` many times, which has poor performance.  Consider joining all columns at once using pd.concat(axis=1) instead.  To get a de-fragmented frame, use `newframe = frame.copy()`\n",
      "  dt_transformed[col] = 0\n",
      "\n"
     ]
    },
    {
     "name": "stdout",
     "output_type": "stream",
     "text": [
      "Accuracy:                                                                                                              \n",
      "0.9473684210526316                                                                                                     \n",
      " 50%|████████████████████████                        | 5/10 [00:26<00:23,  4.79s/trial, best loss: -0.9398480388045028]"
     ]
    },
    {
     "name": "stderr",
     "output_type": "stream",
     "text": [
      "C:\\Users\\velmurug\\Documents\\full_stability\\transformers\\StaticTransformer.py:44: PerformanceWarning: DataFrame is highly fragmented.  This is usually the result of calling `frame.insert` many times, which has poor performance.  Consider joining all columns at once using pd.concat(axis=1) instead.  To get a de-fragmented frame, use `newframe = frame.copy()`\n",
      "  dt_transformed[col] = 0\n",
      "\n",
      "C:\\Users\\velmurug\\Documents\\full_stability\\transformers\\IndexBasedTransformer.py:58: PerformanceWarning: DataFrame is highly fragmented.  This is usually the result of calling `frame.insert` many times, which has poor performance.  Consider joining all columns at once using pd.concat(axis=1) instead.  To get a de-fragmented frame, use `newframe = frame.copy()`\n",
      "  dt_transformed[col] = 0\n",
      "\n"
     ]
    },
    {
     "name": "stdout",
     "output_type": "stream",
     "text": [
      "Accuracy:                                                                                                              \n",
      "0.9528795811518325                                                                                                     \n",
      "{'var_smoothing': 0.012328467394420659}                                                                                \n",
      " 60%|████████████████████████████▊                   | 6/10 [00:28<00:19,  4.78s/trial, best loss: -0.9528604451792658]"
     ]
    },
    {
     "name": "stderr",
     "output_type": "stream",
     "text": [
      "C:\\Users\\velmurug\\Documents\\full_stability\\transformers\\StaticTransformer.py:44: PerformanceWarning: DataFrame is highly fragmented.  This is usually the result of calling `frame.insert` many times, which has poor performance.  Consider joining all columns at once using pd.concat(axis=1) instead.  To get a de-fragmented frame, use `newframe = frame.copy()`\n",
      "  dt_transformed[col] = 0\n",
      "\n",
      "C:\\Users\\velmurug\\Documents\\full_stability\\transformers\\IndexBasedTransformer.py:58: PerformanceWarning: DataFrame is highly fragmented.  This is usually the result of calling `frame.insert` many times, which has poor performance.  Consider joining all columns at once using pd.concat(axis=1) instead.  To get a de-fragmented frame, use `newframe = frame.copy()`\n",
      "  dt_transformed[col] = 0\n",
      "\n"
     ]
    },
    {
     "name": "stdout",
     "output_type": "stream",
     "text": [
      "Accuracy:                                                                                                              \n",
      "0.8465116279069768                                                                                                     \n",
      " 60%|████████████████████████████▊                   | 6/10 [00:30<00:19,  4.78s/trial, best loss: -0.9528604451792658]"
     ]
    },
    {
     "name": "stderr",
     "output_type": "stream",
     "text": [
      "C:\\Users\\velmurug\\Documents\\full_stability\\transformers\\StaticTransformer.py:44: PerformanceWarning: DataFrame is highly fragmented.  This is usually the result of calling `frame.insert` many times, which has poor performance.  Consider joining all columns at once using pd.concat(axis=1) instead.  To get a de-fragmented frame, use `newframe = frame.copy()`\n",
      "  dt_transformed[col] = 0\n",
      "\n",
      "C:\\Users\\velmurug\\Documents\\full_stability\\transformers\\IndexBasedTransformer.py:58: PerformanceWarning: DataFrame is highly fragmented.  This is usually the result of calling `frame.insert` many times, which has poor performance.  Consider joining all columns at once using pd.concat(axis=1) instead.  To get a de-fragmented frame, use `newframe = frame.copy()`\n",
      "  dt_transformed[col] = 0\n",
      "\n"
     ]
    },
    {
     "name": "stdout",
     "output_type": "stream",
     "text": [
      "Accuracy:                                                                                                              \n",
      "0.8773584905660378                                                                                                     \n",
      " 60%|████████████████████████████▊                   | 6/10 [00:31<00:19,  4.78s/trial, best loss: -0.9528604451792658]"
     ]
    },
    {
     "name": "stderr",
     "output_type": "stream",
     "text": [
      "C:\\Users\\velmurug\\Documents\\full_stability\\transformers\\StaticTransformer.py:44: PerformanceWarning: DataFrame is highly fragmented.  This is usually the result of calling `frame.insert` many times, which has poor performance.  Consider joining all columns at once using pd.concat(axis=1) instead.  To get a de-fragmented frame, use `newframe = frame.copy()`\n",
      "  dt_transformed[col] = 0\n",
      "\n",
      "C:\\Users\\velmurug\\Documents\\full_stability\\transformers\\IndexBasedTransformer.py:58: PerformanceWarning: DataFrame is highly fragmented.  This is usually the result of calling `frame.insert` many times, which has poor performance.  Consider joining all columns at once using pd.concat(axis=1) instead.  To get a de-fragmented frame, use `newframe = frame.copy()`\n",
      "  dt_transformed[col] = 0\n",
      "\n"
     ]
    },
    {
     "name": "stdout",
     "output_type": "stream",
     "text": [
      "Accuracy:                                                                                                              \n",
      "0.8649885583524026                                                                                                     \n",
      "{'var_smoothing': 1.873817422860383e-07}                                                                               \n",
      " 70%|█████████████████████████████████▌              | 7/10 [00:33<00:14,  4.79s/trial, best loss: -0.9528604451792658]"
     ]
    },
    {
     "name": "stderr",
     "output_type": "stream",
     "text": [
      "C:\\Users\\velmurug\\Documents\\full_stability\\transformers\\StaticTransformer.py:44: PerformanceWarning: DataFrame is highly fragmented.  This is usually the result of calling `frame.insert` many times, which has poor performance.  Consider joining all columns at once using pd.concat(axis=1) instead.  To get a de-fragmented frame, use `newframe = frame.copy()`\n",
      "  dt_transformed[col] = 0\n",
      "\n",
      "C:\\Users\\velmurug\\Documents\\full_stability\\transformers\\IndexBasedTransformer.py:58: PerformanceWarning: DataFrame is highly fragmented.  This is usually the result of calling `frame.insert` many times, which has poor performance.  Consider joining all columns at once using pd.concat(axis=1) instead.  To get a de-fragmented frame, use `newframe = frame.copy()`\n",
      "  dt_transformed[col] = 0\n",
      "\n"
     ]
    },
    {
     "name": "stdout",
     "output_type": "stream",
     "text": [
      "Accuracy:                                                                                                              \n",
      "0.9333333333333333                                                                                                     \n",
      " 70%|█████████████████████████████████▌              | 7/10 [00:35<00:14,  4.79s/trial, best loss: -0.9528604451792658]"
     ]
    },
    {
     "name": "stderr",
     "output_type": "stream",
     "text": [
      "C:\\Users\\velmurug\\Documents\\full_stability\\transformers\\StaticTransformer.py:44: PerformanceWarning: DataFrame is highly fragmented.  This is usually the result of calling `frame.insert` many times, which has poor performance.  Consider joining all columns at once using pd.concat(axis=1) instead.  To get a de-fragmented frame, use `newframe = frame.copy()`\n",
      "  dt_transformed[col] = 0\n",
      "\n",
      "C:\\Users\\velmurug\\Documents\\full_stability\\transformers\\IndexBasedTransformer.py:58: PerformanceWarning: DataFrame is highly fragmented.  This is usually the result of calling `frame.insert` many times, which has poor performance.  Consider joining all columns at once using pd.concat(axis=1) instead.  To get a de-fragmented frame, use `newframe = frame.copy()`\n",
      "  dt_transformed[col] = 0\n",
      "\n"
     ]
    },
    {
     "name": "stdout",
     "output_type": "stream",
     "text": [
      "Accuracy:                                                                                                              \n",
      "0.9473684210526316                                                                                                     \n",
      " 70%|█████████████████████████████████▌              | 7/10 [00:36<00:14,  4.79s/trial, best loss: -0.9528604451792658]"
     ]
    },
    {
     "name": "stderr",
     "output_type": "stream",
     "text": [
      "C:\\Users\\velmurug\\Documents\\full_stability\\transformers\\StaticTransformer.py:44: PerformanceWarning: DataFrame is highly fragmented.  This is usually the result of calling `frame.insert` many times, which has poor performance.  Consider joining all columns at once using pd.concat(axis=1) instead.  To get a de-fragmented frame, use `newframe = frame.copy()`\n",
      "  dt_transformed[col] = 0\n",
      "\n",
      "C:\\Users\\velmurug\\Documents\\full_stability\\transformers\\IndexBasedTransformer.py:58: PerformanceWarning: DataFrame is highly fragmented.  This is usually the result of calling `frame.insert` many times, which has poor performance.  Consider joining all columns at once using pd.concat(axis=1) instead.  To get a de-fragmented frame, use `newframe = frame.copy()`\n",
      "  dt_transformed[col] = 0\n",
      "\n"
     ]
    },
    {
     "name": "stdout",
     "output_type": "stream",
     "text": [
      "Accuracy:                                                                                                              \n",
      "0.9389920424403183                                                                                                     \n",
      "{'var_smoothing': 1e-05}                                                                                               \n",
      " 80%|██████████████████████████████████████▍         | 8/10 [00:38<00:09,  4.77s/trial, best loss: -0.9528604451792658]"
     ]
    },
    {
     "name": "stderr",
     "output_type": "stream",
     "text": [
      "C:\\Users\\velmurug\\Documents\\full_stability\\transformers\\StaticTransformer.py:44: PerformanceWarning: DataFrame is highly fragmented.  This is usually the result of calling `frame.insert` many times, which has poor performance.  Consider joining all columns at once using pd.concat(axis=1) instead.  To get a de-fragmented frame, use `newframe = frame.copy()`\n",
      "  dt_transformed[col] = 0\n",
      "\n",
      "C:\\Users\\velmurug\\Documents\\full_stability\\transformers\\IndexBasedTransformer.py:58: PerformanceWarning: DataFrame is highly fragmented.  This is usually the result of calling `frame.insert` many times, which has poor performance.  Consider joining all columns at once using pd.concat(axis=1) instead.  To get a de-fragmented frame, use `newframe = frame.copy()`\n",
      "  dt_transformed[col] = 0\n",
      "\n"
     ]
    },
    {
     "name": "stdout",
     "output_type": "stream",
     "text": [
      "Accuracy:                                                                                                              \n",
      "0.9664082687338501                                                                                                     \n",
      " 80%|██████████████████████████████████████▍         | 8/10 [00:39<00:09,  4.77s/trial, best loss: -0.9528604451792658]"
     ]
    },
    {
     "name": "stderr",
     "output_type": "stream",
     "text": [
      "C:\\Users\\velmurug\\Documents\\full_stability\\transformers\\StaticTransformer.py:44: PerformanceWarning: DataFrame is highly fragmented.  This is usually the result of calling `frame.insert` many times, which has poor performance.  Consider joining all columns at once using pd.concat(axis=1) instead.  To get a de-fragmented frame, use `newframe = frame.copy()`\n",
      "  dt_transformed[col] = 0\n",
      "\n",
      "C:\\Users\\velmurug\\Documents\\full_stability\\transformers\\IndexBasedTransformer.py:58: PerformanceWarning: DataFrame is highly fragmented.  This is usually the result of calling `frame.insert` many times, which has poor performance.  Consider joining all columns at once using pd.concat(axis=1) instead.  To get a de-fragmented frame, use `newframe = frame.copy()`\n",
      "  dt_transformed[col] = 0\n",
      "\n"
     ]
    },
    {
     "name": "stdout",
     "output_type": "stream",
     "text": [
      "Accuracy:                                                                                                              \n",
      "0.9276139410187667                                                                                                     \n",
      " 80%|██████████████████████████████████████▍         | 8/10 [00:41<00:09,  4.77s/trial, best loss: -0.9528604451792658]"
     ]
    },
    {
     "name": "stderr",
     "output_type": "stream",
     "text": [
      "C:\\Users\\velmurug\\Documents\\full_stability\\transformers\\StaticTransformer.py:44: PerformanceWarning: DataFrame is highly fragmented.  This is usually the result of calling `frame.insert` many times, which has poor performance.  Consider joining all columns at once using pd.concat(axis=1) instead.  To get a de-fragmented frame, use `newframe = frame.copy()`\n",
      "  dt_transformed[col] = 0\n",
      "\n",
      "C:\\Users\\velmurug\\Documents\\full_stability\\transformers\\IndexBasedTransformer.py:58: PerformanceWarning: DataFrame is highly fragmented.  This is usually the result of calling `frame.insert` many times, which has poor performance.  Consider joining all columns at once using pd.concat(axis=1) instead.  To get a de-fragmented frame, use `newframe = frame.copy()`\n",
      "  dt_transformed[col] = 0\n",
      "\n"
     ]
    },
    {
     "name": "stdout",
     "output_type": "stream",
     "text": [
      "Accuracy:                                                                                                              \n",
      "0.9389920424403183                                                                                                     \n",
      "{'var_smoothing': 0.01873817422860384}                                                                                 \n",
      " 90%|███████████████████████████████████████████▏    | 9/10 [00:43<00:04,  4.81s/trial, best loss: -0.9528604451792658]"
     ]
    },
    {
     "name": "stderr",
     "output_type": "stream",
     "text": [
      "C:\\Users\\velmurug\\Documents\\full_stability\\transformers\\IndexBasedTransformer.py:58: PerformanceWarning: DataFrame is highly fragmented.  This is usually the result of calling `frame.insert` many times, which has poor performance.  Consider joining all columns at once using pd.concat(axis=1) instead.  To get a de-fragmented frame, use `newframe = frame.copy()`\n",
      "  dt_transformed[col] = 0\n",
      "\n"
     ]
    },
    {
     "name": "stdout",
     "output_type": "stream",
     "text": [
      "Accuracy:                                                                                                              \n",
      "0.8513513513513513                                                                                                     \n",
      " 90%|███████████████████████████████████████████▏    | 9/10 [00:44<00:04,  4.81s/trial, best loss: -0.9528604451792658]"
     ]
    },
    {
     "name": "stderr",
     "output_type": "stream",
     "text": [
      "C:\\Users\\velmurug\\Documents\\full_stability\\transformers\\StaticTransformer.py:44: PerformanceWarning: DataFrame is highly fragmented.  This is usually the result of calling `frame.insert` many times, which has poor performance.  Consider joining all columns at once using pd.concat(axis=1) instead.  To get a de-fragmented frame, use `newframe = frame.copy()`\n",
      "  dt_transformed[col] = 0\n",
      "\n",
      "C:\\Users\\velmurug\\Documents\\full_stability\\transformers\\IndexBasedTransformer.py:58: PerformanceWarning: DataFrame is highly fragmented.  This is usually the result of calling `frame.insert` many times, which has poor performance.  Consider joining all columns at once using pd.concat(axis=1) instead.  To get a de-fragmented frame, use `newframe = frame.copy()`\n",
      "  dt_transformed[col] = 0\n",
      "\n"
     ]
    },
    {
     "name": "stdout",
     "output_type": "stream",
     "text": [
      "Accuracy:                                                                                                              \n",
      "0.8644859813084113                                                                                                     \n",
      " 90%|███████████████████████████████████████████▏    | 9/10 [00:46<00:04,  4.81s/trial, best loss: -0.9528604451792658]"
     ]
    },
    {
     "name": "stderr",
     "output_type": "stream",
     "text": [
      "C:\\Users\\velmurug\\Documents\\full_stability\\transformers\\StaticTransformer.py:44: PerformanceWarning: DataFrame is highly fragmented.  This is usually the result of calling `frame.insert` many times, which has poor performance.  Consider joining all columns at once using pd.concat(axis=1) instead.  To get a de-fragmented frame, use `newframe = frame.copy()`\n",
      "  dt_transformed[col] = 0\n",
      "\n",
      "C:\\Users\\velmurug\\Documents\\full_stability\\transformers\\IndexBasedTransformer.py:58: PerformanceWarning: DataFrame is highly fragmented.  This is usually the result of calling `frame.insert` many times, which has poor performance.  Consider joining all columns at once using pd.concat(axis=1) instead.  To get a de-fragmented frame, use `newframe = frame.copy()`\n",
      "  dt_transformed[col] = 0\n",
      "\n"
     ]
    },
    {
     "name": "stdout",
     "output_type": "stream",
     "text": [
      "Accuracy:                                                                                                              \n",
      "0.8787185354691076                                                                                                     \n",
      "100%|███████████████████████████████████████████████| 10/10 [00:47<00:00,  4.78s/trial, best loss: -0.9528604451792658]\n",
      "Optimising 18 of 20 buckets\n",
      "{'var_smoothing': 1e-07}                                                                                               \n",
      "  0%|                                                                           | 0/10 [00:00<?, ?trial/s, best loss=?]"
     ]
    },
    {
     "name": "stderr",
     "output_type": "stream",
     "text": [
      "C:\\Users\\velmurug\\Documents\\full_stability\\transformers\\IndexBasedTransformer.py:58: PerformanceWarning: DataFrame is highly fragmented.  This is usually the result of calling `frame.insert` many times, which has poor performance.  Consider joining all columns at once using pd.concat(axis=1) instead.  To get a de-fragmented frame, use `newframe = frame.copy()`\n",
      "  dt_transformed[col] = 0\n",
      "\n"
     ]
    },
    {
     "name": "stdout",
     "output_type": "stream",
     "text": [
      "Accuracy:                                                                                                              \n",
      "0.9354838709677419                                                                                                     \n",
      "  0%|                                                                           | 0/10 [00:01<?, ?trial/s, best loss=?]"
     ]
    },
    {
     "name": "stderr",
     "output_type": "stream",
     "text": [
      "C:\\Users\\velmurug\\Documents\\full_stability\\transformers\\StaticTransformer.py:44: PerformanceWarning: DataFrame is highly fragmented.  This is usually the result of calling `frame.insert` many times, which has poor performance.  Consider joining all columns at once using pd.concat(axis=1) instead.  To get a de-fragmented frame, use `newframe = frame.copy()`\n",
      "  dt_transformed[col] = 0\n",
      "\n",
      "C:\\Users\\velmurug\\Documents\\full_stability\\transformers\\IndexBasedTransformer.py:58: PerformanceWarning: DataFrame is highly fragmented.  This is usually the result of calling `frame.insert` many times, which has poor performance.  Consider joining all columns at once using pd.concat(axis=1) instead.  To get a de-fragmented frame, use `newframe = frame.copy()`\n",
      "  dt_transformed[col] = 0\n",
      "\n"
     ]
    },
    {
     "name": "stdout",
     "output_type": "stream",
     "text": [
      "Accuracy:                                                                                                              \n",
      "0.9414893617021276                                                                                                     \n",
      "  0%|                                                                           | 0/10 [00:03<?, ?trial/s, best loss=?]"
     ]
    },
    {
     "name": "stderr",
     "output_type": "stream",
     "text": [
      "C:\\Users\\velmurug\\Documents\\full_stability\\transformers\\StaticTransformer.py:44: PerformanceWarning: DataFrame is highly fragmented.  This is usually the result of calling `frame.insert` many times, which has poor performance.  Consider joining all columns at once using pd.concat(axis=1) instead.  To get a de-fragmented frame, use `newframe = frame.copy()`\n",
      "  dt_transformed[col] = 0\n",
      "\n",
      "C:\\Users\\velmurug\\Documents\\full_stability\\transformers\\IndexBasedTransformer.py:58: PerformanceWarning: DataFrame is highly fragmented.  This is usually the result of calling `frame.insert` many times, which has poor performance.  Consider joining all columns at once using pd.concat(axis=1) instead.  To get a de-fragmented frame, use `newframe = frame.copy()`\n",
      "  dt_transformed[col] = 0\n",
      "\n"
     ]
    },
    {
     "name": "stdout",
     "output_type": "stream",
     "text": [
      "Accuracy:                                                                                                              \n",
      "0.9470899470899471                                                                                                     \n",
      "{'var_smoothing': 4.328761281083053e-06}                                                                               \n",
      " 10%|████▊                                           | 1/10 [00:05<00:48,  5.41s/trial, best loss: -0.9413543932532722]"
     ]
    },
    {
     "name": "stderr",
     "output_type": "stream",
     "text": [
      "C:\\Users\\velmurug\\Documents\\full_stability\\transformers\\StaticTransformer.py:44: PerformanceWarning: DataFrame is highly fragmented.  This is usually the result of calling `frame.insert` many times, which has poor performance.  Consider joining all columns at once using pd.concat(axis=1) instead.  To get a de-fragmented frame, use `newframe = frame.copy()`\n",
      "  dt_transformed[col] = 0\n",
      "\n",
      "C:\\Users\\velmurug\\Documents\\full_stability\\transformers\\IndexBasedTransformer.py:58: PerformanceWarning: DataFrame is highly fragmented.  This is usually the result of calling `frame.insert` many times, which has poor performance.  Consider joining all columns at once using pd.concat(axis=1) instead.  To get a de-fragmented frame, use `newframe = frame.copy()`\n",
      "  dt_transformed[col] = 0\n",
      "\n"
     ]
    },
    {
     "name": "stdout",
     "output_type": "stream",
     "text": [
      "Accuracy:                                                                                                              \n",
      "0.9326145552560646                                                                                                     \n",
      " 10%|████▊                                           | 1/10 [00:07<00:48,  5.41s/trial, best loss: -0.9413543932532722]"
     ]
    },
    {
     "name": "stderr",
     "output_type": "stream",
     "text": [
      "C:\\Users\\velmurug\\Documents\\full_stability\\transformers\\StaticTransformer.py:44: PerformanceWarning: DataFrame is highly fragmented.  This is usually the result of calling `frame.insert` many times, which has poor performance.  Consider joining all columns at once using pd.concat(axis=1) instead.  To get a de-fragmented frame, use `newframe = frame.copy()`\n",
      "  dt_transformed[col] = 0\n",
      "\n",
      "C:\\Users\\velmurug\\Documents\\full_stability\\transformers\\IndexBasedTransformer.py:58: PerformanceWarning: DataFrame is highly fragmented.  This is usually the result of calling `frame.insert` many times, which has poor performance.  Consider joining all columns at once using pd.concat(axis=1) instead.  To get a de-fragmented frame, use `newframe = frame.copy()`\n",
      "  dt_transformed[col] = 0\n",
      "\n"
     ]
    },
    {
     "name": "stdout",
     "output_type": "stream",
     "text": [
      "Accuracy:                                                                                                              \n",
      "0.9272237196765498                                                                                                     \n",
      " 10%|████▊                                           | 1/10 [00:08<00:48,  5.41s/trial, best loss: -0.9413543932532722]"
     ]
    },
    {
     "name": "stderr",
     "output_type": "stream",
     "text": [
      "C:\\Users\\velmurug\\Documents\\full_stability\\transformers\\StaticTransformer.py:44: PerformanceWarning: DataFrame is highly fragmented.  This is usually the result of calling `frame.insert` many times, which has poor performance.  Consider joining all columns at once using pd.concat(axis=1) instead.  To get a de-fragmented frame, use `newframe = frame.copy()`\n",
      "  dt_transformed[col] = 0\n",
      "\n",
      "C:\\Users\\velmurug\\Documents\\full_stability\\transformers\\IndexBasedTransformer.py:58: PerformanceWarning: DataFrame is highly fragmented.  This is usually the result of calling `frame.insert` many times, which has poor performance.  Consider joining all columns at once using pd.concat(axis=1) instead.  To get a de-fragmented frame, use `newframe = frame.copy()`\n",
      "  dt_transformed[col] = 0\n",
      "\n"
     ]
    },
    {
     "name": "stdout",
     "output_type": "stream",
     "text": [
      "Accuracy:                                                                                                              \n",
      "0.9358288770053477                                                                                                     \n",
      "{'var_smoothing': 5.336699231206302e-08}                                                                               \n",
      " 20%|█████████▌                                      | 2/10 [00:10<00:42,  5.27s/trial, best loss: -0.9413543932532722]"
     ]
    },
    {
     "name": "stderr",
     "output_type": "stream",
     "text": [
      "C:\\Users\\velmurug\\Documents\\full_stability\\transformers\\StaticTransformer.py:44: PerformanceWarning: DataFrame is highly fragmented.  This is usually the result of calling `frame.insert` many times, which has poor performance.  Consider joining all columns at once using pd.concat(axis=1) instead.  To get a de-fragmented frame, use `newframe = frame.copy()`\n",
      "  dt_transformed[col] = 0\n",
      "\n",
      "C:\\Users\\velmurug\\Documents\\full_stability\\transformers\\IndexBasedTransformer.py:58: PerformanceWarning: DataFrame is highly fragmented.  This is usually the result of calling `frame.insert` many times, which has poor performance.  Consider joining all columns at once using pd.concat(axis=1) instead.  To get a de-fragmented frame, use `newframe = frame.copy()`\n",
      "  dt_transformed[col] = 0\n",
      "\n"
     ]
    },
    {
     "name": "stdout",
     "output_type": "stream",
     "text": [
      "Accuracy:                                                                                                              \n",
      "0.9268292682926829                                                                                                     \n",
      " 20%|█████████▌                                      | 2/10 [00:12<00:42,  5.27s/trial, best loss: -0.9413543932532722]"
     ]
    },
    {
     "name": "stderr",
     "output_type": "stream",
     "text": [
      "C:\\Users\\velmurug\\Documents\\full_stability\\transformers\\StaticTransformer.py:44: PerformanceWarning: DataFrame is highly fragmented.  This is usually the result of calling `frame.insert` many times, which has poor performance.  Consider joining all columns at once using pd.concat(axis=1) instead.  To get a de-fragmented frame, use `newframe = frame.copy()`\n",
      "  dt_transformed[col] = 0\n",
      "\n",
      "C:\\Users\\velmurug\\Documents\\full_stability\\transformers\\IndexBasedTransformer.py:58: PerformanceWarning: DataFrame is highly fragmented.  This is usually the result of calling `frame.insert` many times, which has poor performance.  Consider joining all columns at once using pd.concat(axis=1) instead.  To get a de-fragmented frame, use `newframe = frame.copy()`\n",
      "  dt_transformed[col] = 0\n",
      "\n"
     ]
    },
    {
     "name": "stdout",
     "output_type": "stream",
     "text": [
      "Accuracy:                                                                                                              \n",
      "0.9329758713136729                                                                                                     \n",
      " 20%|█████████▌                                      | 2/10 [00:13<00:42,  5.27s/trial, best loss: -0.9413543932532722]"
     ]
    },
    {
     "name": "stderr",
     "output_type": "stream",
     "text": [
      "C:\\Users\\velmurug\\Documents\\full_stability\\transformers\\StaticTransformer.py:44: PerformanceWarning: DataFrame is highly fragmented.  This is usually the result of calling `frame.insert` many times, which has poor performance.  Consider joining all columns at once using pd.concat(axis=1) instead.  To get a de-fragmented frame, use `newframe = frame.copy()`\n",
      "  dt_transformed[col] = 0\n",
      "\n",
      "C:\\Users\\velmurug\\Documents\\full_stability\\transformers\\IndexBasedTransformer.py:58: PerformanceWarning: DataFrame is highly fragmented.  This is usually the result of calling `frame.insert` many times, which has poor performance.  Consider joining all columns at once using pd.concat(axis=1) instead.  To get a de-fragmented frame, use `newframe = frame.copy()`\n",
      "  dt_transformed[col] = 0\n",
      "\n"
     ]
    },
    {
     "name": "stdout",
     "output_type": "stream",
     "text": [
      "Accuracy:                                                                                                              \n",
      "0.9414893617021276                                                                                                     \n",
      "{'var_smoothing': 0.0002310129700083158}                                                                               \n",
      " 30%|██████████████▍                                 | 3/10 [00:15<00:36,  5.21s/trial, best loss: -0.9413543932532722]"
     ]
    },
    {
     "name": "stderr",
     "output_type": "stream",
     "text": [
      "C:\\Users\\velmurug\\Documents\\full_stability\\transformers\\StaticTransformer.py:44: PerformanceWarning: DataFrame is highly fragmented.  This is usually the result of calling `frame.insert` many times, which has poor performance.  Consider joining all columns at once using pd.concat(axis=1) instead.  To get a de-fragmented frame, use `newframe = frame.copy()`\n",
      "  dt_transformed[col] = 0\n",
      "\n",
      "C:\\Users\\velmurug\\Documents\\full_stability\\transformers\\IndexBasedTransformer.py:58: PerformanceWarning: DataFrame is highly fragmented.  This is usually the result of calling `frame.insert` many times, which has poor performance.  Consider joining all columns at once using pd.concat(axis=1) instead.  To get a de-fragmented frame, use `newframe = frame.copy()`\n",
      "  dt_transformed[col] = 0\n",
      "\n"
     ]
    },
    {
     "name": "stdout",
     "output_type": "stream",
     "text": [
      "Accuracy:                                                                                                              \n",
      "0.9523809523809523                                                                                                     \n",
      " 30%|██████████████▍                                 | 3/10 [00:17<00:36,  5.21s/trial, best loss: -0.9413543932532722]"
     ]
    },
    {
     "name": "stderr",
     "output_type": "stream",
     "text": [
      "C:\\Users\\velmurug\\Documents\\full_stability\\transformers\\StaticTransformer.py:44: PerformanceWarning: DataFrame is highly fragmented.  This is usually the result of calling `frame.insert` many times, which has poor performance.  Consider joining all columns at once using pd.concat(axis=1) instead.  To get a de-fragmented frame, use `newframe = frame.copy()`\n",
      "  dt_transformed[col] = 0\n",
      "\n",
      "C:\\Users\\velmurug\\Documents\\full_stability\\transformers\\IndexBasedTransformer.py:58: PerformanceWarning: DataFrame is highly fragmented.  This is usually the result of calling `frame.insert` many times, which has poor performance.  Consider joining all columns at once using pd.concat(axis=1) instead.  To get a de-fragmented frame, use `newframe = frame.copy()`\n",
      "  dt_transformed[col] = 0\n",
      "\n"
     ]
    },
    {
     "name": "stdout",
     "output_type": "stream",
     "text": [
      "Accuracy:                                                                                                              \n",
      "0.9301075268817204                                                                                                     \n",
      " 30%|██████████████▍                                 | 3/10 [00:19<00:36,  5.21s/trial, best loss: -0.9413543932532722]"
     ]
    },
    {
     "name": "stderr",
     "output_type": "stream",
     "text": [
      "C:\\Users\\velmurug\\Documents\\full_stability\\transformers\\StaticTransformer.py:44: PerformanceWarning: DataFrame is highly fragmented.  This is usually the result of calling `frame.insert` many times, which has poor performance.  Consider joining all columns at once using pd.concat(axis=1) instead.  To get a de-fragmented frame, use `newframe = frame.copy()`\n",
      "  dt_transformed[col] = 0\n",
      "\n",
      "C:\\Users\\velmurug\\Documents\\full_stability\\transformers\\IndexBasedTransformer.py:58: PerformanceWarning: DataFrame is highly fragmented.  This is usually the result of calling `frame.insert` many times, which has poor performance.  Consider joining all columns at once using pd.concat(axis=1) instead.  To get a de-fragmented frame, use `newframe = frame.copy()`\n",
      "  dt_transformed[col] = 0\n",
      "\n"
     ]
    },
    {
     "name": "stdout",
     "output_type": "stream",
     "text": [
      "Accuracy:                                                                                                              \n",
      "0.921409214092141                                                                                                      \n",
      "{'var_smoothing': 2.848035868435799e-05}                                                                               \n",
      " 40%|███████████████████▏                            | 4/10 [00:20<00:30,  5.16s/trial, best loss: -0.9413543932532722]"
     ]
    },
    {
     "name": "stderr",
     "output_type": "stream",
     "text": [
      "C:\\Users\\velmurug\\Documents\\full_stability\\transformers\\IndexBasedTransformer.py:58: PerformanceWarning: DataFrame is highly fragmented.  This is usually the result of calling `frame.insert` many times, which has poor performance.  Consider joining all columns at once using pd.concat(axis=1) instead.  To get a de-fragmented frame, use `newframe = frame.copy()`\n",
      "  dt_transformed[col] = 0\n",
      "\n"
     ]
    },
    {
     "name": "stdout",
     "output_type": "stream",
     "text": [
      "Accuracy:                                                                                                              \n",
      "0.9606299212598425                                                                                                     \n",
      " 40%|███████████████████▏                            | 4/10 [00:22<00:30,  5.16s/trial, best loss: -0.9413543932532722]"
     ]
    },
    {
     "name": "stderr",
     "output_type": "stream",
     "text": [
      "C:\\Users\\velmurug\\Documents\\full_stability\\transformers\\StaticTransformer.py:44: PerformanceWarning: DataFrame is highly fragmented.  This is usually the result of calling `frame.insert` many times, which has poor performance.  Consider joining all columns at once using pd.concat(axis=1) instead.  To get a de-fragmented frame, use `newframe = frame.copy()`\n",
      "  dt_transformed[col] = 0\n",
      "\n",
      "C:\\Users\\velmurug\\Documents\\full_stability\\transformers\\IndexBasedTransformer.py:58: PerformanceWarning: DataFrame is highly fragmented.  This is usually the result of calling `frame.insert` many times, which has poor performance.  Consider joining all columns at once using pd.concat(axis=1) instead.  To get a de-fragmented frame, use `newframe = frame.copy()`\n",
      "  dt_transformed[col] = 0\n",
      "\n"
     ]
    },
    {
     "name": "stdout",
     "output_type": "stream",
     "text": [
      "Accuracy:                                                                                                              \n",
      "0.9442970822281167                                                                                                     \n",
      " 40%|███████████████████▏                            | 4/10 [00:24<00:30,  5.16s/trial, best loss: -0.9413543932532722]"
     ]
    },
    {
     "name": "stderr",
     "output_type": "stream",
     "text": [
      "C:\\Users\\velmurug\\Documents\\full_stability\\transformers\\StaticTransformer.py:44: PerformanceWarning: DataFrame is highly fragmented.  This is usually the result of calling `frame.insert` many times, which has poor performance.  Consider joining all columns at once using pd.concat(axis=1) instead.  To get a de-fragmented frame, use `newframe = frame.copy()`\n",
      "  dt_transformed[col] = 0\n",
      "\n",
      "C:\\Users\\velmurug\\Documents\\full_stability\\transformers\\IndexBasedTransformer.py:58: PerformanceWarning: DataFrame is highly fragmented.  This is usually the result of calling `frame.insert` many times, which has poor performance.  Consider joining all columns at once using pd.concat(axis=1) instead.  To get a de-fragmented frame, use `newframe = frame.copy()`\n",
      "  dt_transformed[col] = 0\n",
      "\n"
     ]
    },
    {
     "name": "stdout",
     "output_type": "stream",
     "text": [
      "Accuracy:                                                                                                              \n",
      "0.9526315789473685                                                                                                     \n",
      "{'var_smoothing': 3.5111917342151273e-09}                                                                              \n",
      " 50%|████████████████████████                        | 5/10 [00:26<00:25,  5.18s/trial, best loss: -0.9525195274784425]"
     ]
    },
    {
     "name": "stderr",
     "output_type": "stream",
     "text": [
      "C:\\Users\\velmurug\\Documents\\full_stability\\transformers\\IndexBasedTransformer.py:58: PerformanceWarning: DataFrame is highly fragmented.  This is usually the result of calling `frame.insert` many times, which has poor performance.  Consider joining all columns at once using pd.concat(axis=1) instead.  To get a de-fragmented frame, use `newframe = frame.copy()`\n",
      "  dt_transformed[col] = 0\n",
      "\n"
     ]
    },
    {
     "name": "stdout",
     "output_type": "stream",
     "text": [
      "Accuracy:                                                                                                              \n",
      "0.9523809523809523                                                                                                     \n",
      " 50%|████████████████████████                        | 5/10 [00:27<00:25,  5.18s/trial, best loss: -0.9525195274784425]"
     ]
    },
    {
     "name": "stderr",
     "output_type": "stream",
     "text": [
      "C:\\Users\\velmurug\\Documents\\full_stability\\transformers\\StaticTransformer.py:44: PerformanceWarning: DataFrame is highly fragmented.  This is usually the result of calling `frame.insert` many times, which has poor performance.  Consider joining all columns at once using pd.concat(axis=1) instead.  To get a de-fragmented frame, use `newframe = frame.copy()`\n",
      "  dt_transformed[col] = 0\n",
      "\n",
      "C:\\Users\\velmurug\\Documents\\full_stability\\transformers\\IndexBasedTransformer.py:58: PerformanceWarning: DataFrame is highly fragmented.  This is usually the result of calling `frame.insert` many times, which has poor performance.  Consider joining all columns at once using pd.concat(axis=1) instead.  To get a de-fragmented frame, use `newframe = frame.copy()`\n",
      "  dt_transformed[col] = 0\n",
      "\n"
     ]
    },
    {
     "name": "stdout",
     "output_type": "stream",
     "text": [
      "Accuracy:                                                                                                              \n",
      "0.9386666666666666                                                                                                     \n",
      " 50%|████████████████████████                        | 5/10 [00:29<00:25,  5.18s/trial, best loss: -0.9525195274784425]"
     ]
    },
    {
     "name": "stderr",
     "output_type": "stream",
     "text": [
      "C:\\Users\\velmurug\\Documents\\full_stability\\transformers\\StaticTransformer.py:44: PerformanceWarning: DataFrame is highly fragmented.  This is usually the result of calling `frame.insert` many times, which has poor performance.  Consider joining all columns at once using pd.concat(axis=1) instead.  To get a de-fragmented frame, use `newframe = frame.copy()`\n",
      "  dt_transformed[col] = 0\n",
      "\n",
      "C:\\Users\\velmurug\\Documents\\full_stability\\transformers\\IndexBasedTransformer.py:58: PerformanceWarning: DataFrame is highly fragmented.  This is usually the result of calling `frame.insert` many times, which has poor performance.  Consider joining all columns at once using pd.concat(axis=1) instead.  To get a de-fragmented frame, use `newframe = frame.copy()`\n",
      "  dt_transformed[col] = 0\n",
      "\n"
     ]
    },
    {
     "name": "stdout",
     "output_type": "stream",
     "text": [
      "Accuracy:                                                                                                              \n",
      "0.9662337662337662                                                                                                     \n",
      "{'var_smoothing': 2.310129700083158e-06}                                                                               \n",
      " 60%|████████████████████████████▊                   | 6/10 [00:31<00:20,  5.16s/trial, best loss: -0.9525195274784425]"
     ]
    },
    {
     "name": "stderr",
     "output_type": "stream",
     "text": [
      "C:\\Users\\velmurug\\Documents\\full_stability\\transformers\\StaticTransformer.py:44: PerformanceWarning: DataFrame is highly fragmented.  This is usually the result of calling `frame.insert` many times, which has poor performance.  Consider joining all columns at once using pd.concat(axis=1) instead.  To get a de-fragmented frame, use `newframe = frame.copy()`\n",
      "  dt_transformed[col] = 0\n",
      "\n",
      "C:\\Users\\velmurug\\Documents\\full_stability\\transformers\\IndexBasedTransformer.py:58: PerformanceWarning: DataFrame is highly fragmented.  This is usually the result of calling `frame.insert` many times, which has poor performance.  Consider joining all columns at once using pd.concat(axis=1) instead.  To get a de-fragmented frame, use `newframe = frame.copy()`\n",
      "  dt_transformed[col] = 0\n",
      "\n"
     ]
    },
    {
     "name": "stdout",
     "output_type": "stream",
     "text": [
      "Accuracy:                                                                                                              \n",
      "0.9354838709677419                                                                                                     \n",
      " 60%|████████████████████████████▊                   | 6/10 [00:32<00:20,  5.16s/trial, best loss: -0.9525195274784425]"
     ]
    },
    {
     "name": "stderr",
     "output_type": "stream",
     "text": [
      "C:\\Users\\velmurug\\Documents\\full_stability\\transformers\\StaticTransformer.py:44: PerformanceWarning: DataFrame is highly fragmented.  This is usually the result of calling `frame.insert` many times, which has poor performance.  Consider joining all columns at once using pd.concat(axis=1) instead.  To get a de-fragmented frame, use `newframe = frame.copy()`\n",
      "  dt_transformed[col] = 0\n",
      "\n",
      "C:\\Users\\velmurug\\Documents\\full_stability\\transformers\\IndexBasedTransformer.py:58: PerformanceWarning: DataFrame is highly fragmented.  This is usually the result of calling `frame.insert` many times, which has poor performance.  Consider joining all columns at once using pd.concat(axis=1) instead.  To get a de-fragmented frame, use `newframe = frame.copy()`\n",
      "  dt_transformed[col] = 0\n",
      "\n"
     ]
    },
    {
     "name": "stdout",
     "output_type": "stream",
     "text": [
      "Accuracy:                                                                                                              \n",
      "0.9301075268817204                                                                                                     \n",
      " 60%|████████████████████████████▊                   | 6/10 [00:34<00:20,  5.16s/trial, best loss: -0.9525195274784425]"
     ]
    },
    {
     "name": "stderr",
     "output_type": "stream",
     "text": [
      "C:\\Users\\velmurug\\Documents\\full_stability\\transformers\\StaticTransformer.py:44: PerformanceWarning: DataFrame is highly fragmented.  This is usually the result of calling `frame.insert` many times, which has poor performance.  Consider joining all columns at once using pd.concat(axis=1) instead.  To get a de-fragmented frame, use `newframe = frame.copy()`\n",
      "  dt_transformed[col] = 0\n",
      "\n",
      "C:\\Users\\velmurug\\Documents\\full_stability\\transformers\\IndexBasedTransformer.py:58: PerformanceWarning: DataFrame is highly fragmented.  This is usually the result of calling `frame.insert` many times, which has poor performance.  Consider joining all columns at once using pd.concat(axis=1) instead.  To get a de-fragmented frame, use `newframe = frame.copy()`\n",
      "  dt_transformed[col] = 0\n",
      "\n"
     ]
    },
    {
     "name": "stdout",
     "output_type": "stream",
     "text": [
      "Accuracy:                                                                                                              \n",
      "0.9442970822281167                                                                                                     \n",
      "{'var_smoothing': 2.310129700083158e-07}                                                                               \n",
      " 70%|█████████████████████████████████▌              | 7/10 [00:36<00:15,  5.18s/trial, best loss: -0.9525195274784425]"
     ]
    },
    {
     "name": "stderr",
     "output_type": "stream",
     "text": [
      "C:\\Users\\velmurug\\Documents\\full_stability\\transformers\\IndexBasedTransformer.py:58: PerformanceWarning: DataFrame is highly fragmented.  This is usually the result of calling `frame.insert` many times, which has poor performance.  Consider joining all columns at once using pd.concat(axis=1) instead.  To get a de-fragmented frame, use `newframe = frame.copy()`\n",
      "  dt_transformed[col] = 0\n",
      "\n"
     ]
    },
    {
     "name": "stdout",
     "output_type": "stream",
     "text": [
      "Accuracy:                                                                                                              \n",
      "0.9383378016085792                                                                                                     \n",
      " 70%|█████████████████████████████████▌              | 7/10 [00:38<00:15,  5.18s/trial, best loss: -0.9525195274784425]"
     ]
    },
    {
     "name": "stderr",
     "output_type": "stream",
     "text": [
      "C:\\Users\\velmurug\\Documents\\full_stability\\transformers\\StaticTransformer.py:44: PerformanceWarning: DataFrame is highly fragmented.  This is usually the result of calling `frame.insert` many times, which has poor performance.  Consider joining all columns at once using pd.concat(axis=1) instead.  To get a de-fragmented frame, use `newframe = frame.copy()`\n",
      "  dt_transformed[col] = 0\n",
      "\n",
      "C:\\Users\\velmurug\\Documents\\full_stability\\transformers\\IndexBasedTransformer.py:58: PerformanceWarning: DataFrame is highly fragmented.  This is usually the result of calling `frame.insert` many times, which has poor performance.  Consider joining all columns at once using pd.concat(axis=1) instead.  To get a de-fragmented frame, use `newframe = frame.copy()`\n",
      "  dt_transformed[col] = 0\n",
      "\n"
     ]
    },
    {
     "name": "stdout",
     "output_type": "stream",
     "text": [
      "Accuracy:                                                                                                              \n",
      "0.9329758713136729                                                                                                     \n",
      " 70%|█████████████████████████████████▌              | 7/10 [00:39<00:15,  5.18s/trial, best loss: -0.9525195274784425]"
     ]
    },
    {
     "name": "stderr",
     "output_type": "stream",
     "text": [
      "C:\\Users\\velmurug\\Documents\\full_stability\\transformers\\StaticTransformer.py:44: PerformanceWarning: DataFrame is highly fragmented.  This is usually the result of calling `frame.insert` many times, which has poor performance.  Consider joining all columns at once using pd.concat(axis=1) instead.  To get a de-fragmented frame, use `newframe = frame.copy()`\n",
      "  dt_transformed[col] = 0\n",
      "\n",
      "C:\\Users\\velmurug\\Documents\\full_stability\\transformers\\IndexBasedTransformer.py:58: PerformanceWarning: DataFrame is highly fragmented.  This is usually the result of calling `frame.insert` many times, which has poor performance.  Consider joining all columns at once using pd.concat(axis=1) instead.  To get a de-fragmented frame, use `newframe = frame.copy()`\n",
      "  dt_transformed[col] = 0\n",
      "\n"
     ]
    },
    {
     "name": "stdout",
     "output_type": "stream",
     "text": [
      "Accuracy:                                                                                                              \n",
      "0.9414893617021276                                                                                                     \n",
      "{'var_smoothing': 1e-05}                                                                                               \n",
      " 80%|██████████████████████████████████████▍         | 8/10 [00:41<00:10,  5.14s/trial, best loss: -0.9525195274784425]"
     ]
    },
    {
     "name": "stderr",
     "output_type": "stream",
     "text": [
      "C:\\Users\\velmurug\\Documents\\full_stability\\transformers\\StaticTransformer.py:44: PerformanceWarning: DataFrame is highly fragmented.  This is usually the result of calling `frame.insert` many times, which has poor performance.  Consider joining all columns at once using pd.concat(axis=1) instead.  To get a de-fragmented frame, use `newframe = frame.copy()`\n",
      "  dt_transformed[col] = 0\n",
      "\n",
      "C:\\Users\\velmurug\\Documents\\full_stability\\transformers\\IndexBasedTransformer.py:58: PerformanceWarning: DataFrame is highly fragmented.  This is usually the result of calling `frame.insert` many times, which has poor performance.  Consider joining all columns at once using pd.concat(axis=1) instead.  To get a de-fragmented frame, use `newframe = frame.copy()`\n",
      "  dt_transformed[col] = 0\n",
      "\n"
     ]
    },
    {
     "name": "stdout",
     "output_type": "stream",
     "text": [
      "Accuracy:                                                                                                              \n",
      "0.9551451187335093                                                                                                     \n",
      " 80%|██████████████████████████████████████▍         | 8/10 [00:43<00:10,  5.14s/trial, best loss: -0.9525195274784425]"
     ]
    },
    {
     "name": "stderr",
     "output_type": "stream",
     "text": [
      "C:\\Users\\velmurug\\Documents\\full_stability\\transformers\\StaticTransformer.py:44: PerformanceWarning: DataFrame is highly fragmented.  This is usually the result of calling `frame.insert` many times, which has poor performance.  Consider joining all columns at once using pd.concat(axis=1) instead.  To get a de-fragmented frame, use `newframe = frame.copy()`\n",
      "  dt_transformed[col] = 0\n",
      "\n",
      "C:\\Users\\velmurug\\Documents\\full_stability\\transformers\\IndexBasedTransformer.py:58: PerformanceWarning: DataFrame is highly fragmented.  This is usually the result of calling `frame.insert` many times, which has poor performance.  Consider joining all columns at once using pd.concat(axis=1) instead.  To get a de-fragmented frame, use `newframe = frame.copy()`\n",
      "  dt_transformed[col] = 0\n",
      "\n"
     ]
    },
    {
     "name": "stdout",
     "output_type": "stream",
     "text": [
      "Accuracy:                                                                                                              \n",
      "0.9329758713136729                                                                                                     \n",
      " 80%|██████████████████████████████████████▍         | 8/10 [00:44<00:10,  5.14s/trial, best loss: -0.9525195274784425]"
     ]
    },
    {
     "name": "stderr",
     "output_type": "stream",
     "text": [
      "C:\\Users\\velmurug\\Documents\\full_stability\\transformers\\StaticTransformer.py:44: PerformanceWarning: DataFrame is highly fragmented.  This is usually the result of calling `frame.insert` many times, which has poor performance.  Consider joining all columns at once using pd.concat(axis=1) instead.  To get a de-fragmented frame, use `newframe = frame.copy()`\n",
      "  dt_transformed[col] = 0\n",
      "\n",
      "C:\\Users\\velmurug\\Documents\\full_stability\\transformers\\IndexBasedTransformer.py:58: PerformanceWarning: DataFrame is highly fragmented.  This is usually the result of calling `frame.insert` many times, which has poor performance.  Consider joining all columns at once using pd.concat(axis=1) instead.  To get a de-fragmented frame, use `newframe = frame.copy()`\n",
      "  dt_transformed[col] = 0\n",
      "\n"
     ]
    },
    {
     "name": "stdout",
     "output_type": "stream",
     "text": [
      "Accuracy:                                                                                                              \n",
      "0.9272237196765498                                                                                                     \n",
      "{'var_smoothing': 0.1873817422860384}                                                                                  \n",
      " 90%|███████████████████████████████████████████▏    | 9/10 [00:46<00:05,  5.16s/trial, best loss: -0.9525195274784425]"
     ]
    },
    {
     "name": "stderr",
     "output_type": "stream",
     "text": [
      "C:\\Users\\velmurug\\Documents\\full_stability\\transformers\\IndexBasedTransformer.py:58: PerformanceWarning: DataFrame is highly fragmented.  This is usually the result of calling `frame.insert` many times, which has poor performance.  Consider joining all columns at once using pd.concat(axis=1) instead.  To get a de-fragmented frame, use `newframe = frame.copy()`\n",
      "  dt_transformed[col] = 0\n",
      "\n"
     ]
    },
    {
     "name": "stdout",
     "output_type": "stream",
     "text": [
      "Accuracy:                                                                                                              \n",
      "0.8402625820568927                                                                                                     \n",
      " 90%|███████████████████████████████████████████▏    | 9/10 [00:48<00:05,  5.16s/trial, best loss: -0.9525195274784425]"
     ]
    },
    {
     "name": "stderr",
     "output_type": "stream",
     "text": [
      "C:\\Users\\velmurug\\Documents\\full_stability\\transformers\\StaticTransformer.py:44: PerformanceWarning: DataFrame is highly fragmented.  This is usually the result of calling `frame.insert` many times, which has poor performance.  Consider joining all columns at once using pd.concat(axis=1) instead.  To get a de-fragmented frame, use `newframe = frame.copy()`\n",
      "  dt_transformed[col] = 0\n",
      "\n",
      "C:\\Users\\velmurug\\Documents\\full_stability\\transformers\\IndexBasedTransformer.py:58: PerformanceWarning: DataFrame is highly fragmented.  This is usually the result of calling `frame.insert` many times, which has poor performance.  Consider joining all columns at once using pd.concat(axis=1) instead.  To get a de-fragmented frame, use `newframe = frame.copy()`\n",
      "  dt_transformed[col] = 0\n",
      "\n"
     ]
    },
    {
     "name": "stdout",
     "output_type": "stream",
     "text": [
      "Accuracy:                                                                                                              \n",
      "0.859122401847575                                                                                                      \n",
      " 90%|███████████████████████████████████████████▏    | 9/10 [00:50<00:05,  5.16s/trial, best loss: -0.9525195274784425]"
     ]
    },
    {
     "name": "stderr",
     "output_type": "stream",
     "text": [
      "C:\\Users\\velmurug\\Documents\\full_stability\\transformers\\StaticTransformer.py:44: PerformanceWarning: DataFrame is highly fragmented.  This is usually the result of calling `frame.insert` many times, which has poor performance.  Consider joining all columns at once using pd.concat(axis=1) instead.  To get a de-fragmented frame, use `newframe = frame.copy()`\n",
      "  dt_transformed[col] = 0\n",
      "\n",
      "C:\\Users\\velmurug\\Documents\\full_stability\\transformers\\IndexBasedTransformer.py:58: PerformanceWarning: DataFrame is highly fragmented.  This is usually the result of calling `frame.insert` many times, which has poor performance.  Consider joining all columns at once using pd.concat(axis=1) instead.  To get a de-fragmented frame, use `newframe = frame.copy()`\n",
      "  dt_transformed[col] = 0\n",
      "\n"
     ]
    },
    {
     "name": "stdout",
     "output_type": "stream",
     "text": [
      "Accuracy:                                                                                                              \n",
      "0.8404494382022473                                                                                                     \n",
      "100%|███████████████████████████████████████████████| 10/10 [00:51<00:00,  5.18s/trial, best loss: -0.9525195274784425]\n",
      "Optimising 19 of 20 buckets\n",
      "{'var_smoothing': 1.519911082952933e-09}                                                                               \n",
      "  0%|                                                                           | 0/10 [00:00<?, ?trial/s, best loss=?]"
     ]
    },
    {
     "name": "stderr",
     "output_type": "stream",
     "text": [
      "C:\\Users\\velmurug\\Documents\\full_stability\\transformers\\IndexBasedTransformer.py:58: PerformanceWarning: DataFrame is highly fragmented.  This is usually the result of calling `frame.insert` many times, which has poor performance.  Consider joining all columns at once using pd.concat(axis=1) instead.  To get a de-fragmented frame, use `newframe = frame.copy()`\n",
      "  dt_transformed[col] = 0\n",
      "\n"
     ]
    },
    {
     "name": "stdout",
     "output_type": "stream",
     "text": [
      "Accuracy:                                                                                                              \n",
      "0.9315068493150686                                                                                                     \n",
      "  0%|                                                                           | 0/10 [00:01<?, ?trial/s, best loss=?]"
     ]
    },
    {
     "name": "stderr",
     "output_type": "stream",
     "text": [
      "C:\\Users\\velmurug\\Documents\\full_stability\\transformers\\StaticTransformer.py:44: PerformanceWarning: DataFrame is highly fragmented.  This is usually the result of calling `frame.insert` many times, which has poor performance.  Consider joining all columns at once using pd.concat(axis=1) instead.  To get a de-fragmented frame, use `newframe = frame.copy()`\n",
      "  dt_transformed[col] = 0\n",
      "\n",
      "C:\\Users\\velmurug\\Documents\\full_stability\\transformers\\IndexBasedTransformer.py:58: PerformanceWarning: DataFrame is highly fragmented.  This is usually the result of calling `frame.insert` many times, which has poor performance.  Consider joining all columns at once using pd.concat(axis=1) instead.  To get a de-fragmented frame, use `newframe = frame.copy()`\n",
      "  dt_transformed[col] = 0\n",
      "\n"
     ]
    },
    {
     "name": "stdout",
     "output_type": "stream",
     "text": [
      "Accuracy:                                                                                                              \n",
      "0.9427792915531336                                                                                                     \n",
      "  0%|                                                                           | 0/10 [00:03<?, ?trial/s, best loss=?]"
     ]
    },
    {
     "name": "stderr",
     "output_type": "stream",
     "text": [
      "C:\\Users\\velmurug\\Documents\\full_stability\\transformers\\StaticTransformer.py:44: PerformanceWarning: DataFrame is highly fragmented.  This is usually the result of calling `frame.insert` many times, which has poor performance.  Consider joining all columns at once using pd.concat(axis=1) instead.  To get a de-fragmented frame, use `newframe = frame.copy()`\n",
      "  dt_transformed[col] = 0\n",
      "\n",
      "C:\\Users\\velmurug\\Documents\\full_stability\\transformers\\IndexBasedTransformer.py:58: PerformanceWarning: DataFrame is highly fragmented.  This is usually the result of calling `frame.insert` many times, which has poor performance.  Consider joining all columns at once using pd.concat(axis=1) instead.  To get a de-fragmented frame, use `newframe = frame.copy()`\n",
      "  dt_transformed[col] = 0\n",
      "\n"
     ]
    },
    {
     "name": "stdout",
     "output_type": "stream",
     "text": [
      "Accuracy:                                                                                                              \n",
      "0.945945945945946                                                                                                      \n",
      "{'var_smoothing': 5.336699231206313e-07}                                                                               \n",
      " 10%|████▊                                           | 1/10 [00:05<00:49,  5.55s/trial, best loss: -0.9400773622713827]"
     ]
    },
    {
     "name": "stderr",
     "output_type": "stream",
     "text": [
      "C:\\Users\\velmurug\\Documents\\full_stability\\transformers\\IndexBasedTransformer.py:58: PerformanceWarning: DataFrame is highly fragmented.  This is usually the result of calling `frame.insert` many times, which has poor performance.  Consider joining all columns at once using pd.concat(axis=1) instead.  To get a de-fragmented frame, use `newframe = frame.copy()`\n",
      "  dt_transformed[col] = 0\n",
      "\n"
     ]
    },
    {
     "name": "stdout",
     "output_type": "stream",
     "text": [
      "Accuracy:                                                                                                              \n",
      "0.9430894308943091                                                                                                     \n",
      " 10%|████▊                                           | 1/10 [00:07<00:49,  5.55s/trial, best loss: -0.9400773622713827]"
     ]
    },
    {
     "name": "stderr",
     "output_type": "stream",
     "text": [
      "C:\\Users\\velmurug\\Documents\\full_stability\\transformers\\StaticTransformer.py:44: PerformanceWarning: DataFrame is highly fragmented.  This is usually the result of calling `frame.insert` many times, which has poor performance.  Consider joining all columns at once using pd.concat(axis=1) instead.  To get a de-fragmented frame, use `newframe = frame.copy()`\n",
      "  dt_transformed[col] = 0\n",
      "\n",
      "C:\\Users\\velmurug\\Documents\\full_stability\\transformers\\IndexBasedTransformer.py:58: PerformanceWarning: DataFrame is highly fragmented.  This is usually the result of calling `frame.insert` many times, which has poor performance.  Consider joining all columns at once using pd.concat(axis=1) instead.  To get a de-fragmented frame, use `newframe = frame.copy()`\n",
      "  dt_transformed[col] = 0\n",
      "\n"
     ]
    },
    {
     "name": "stdout",
     "output_type": "stream",
     "text": [
      "Accuracy:                                                                                                              \n",
      "0.9513513513513514                                                                                                     \n",
      " 10%|████▊                                           | 1/10 [00:09<00:49,  5.55s/trial, best loss: -0.9400773622713827]"
     ]
    },
    {
     "name": "stderr",
     "output_type": "stream",
     "text": [
      "C:\\Users\\velmurug\\Documents\\full_stability\\transformers\\StaticTransformer.py:44: PerformanceWarning: DataFrame is highly fragmented.  This is usually the result of calling `frame.insert` many times, which has poor performance.  Consider joining all columns at once using pd.concat(axis=1) instead.  To get a de-fragmented frame, use `newframe = frame.copy()`\n",
      "  dt_transformed[col] = 0\n",
      "\n",
      "C:\\Users\\velmurug\\Documents\\full_stability\\transformers\\IndexBasedTransformer.py:58: PerformanceWarning: DataFrame is highly fragmented.  This is usually the result of calling `frame.insert` many times, which has poor performance.  Consider joining all columns at once using pd.concat(axis=1) instead.  To get a de-fragmented frame, use `newframe = frame.copy()`\n",
      "  dt_transformed[col] = 0\n",
      "\n"
     ]
    },
    {
     "name": "stdout",
     "output_type": "stream",
     "text": [
      "Accuracy:                                                                                                              \n",
      "0.9487870619946093                                                                                                     \n",
      "{'var_smoothing': 0.0012328467394420659}                                                                               \n",
      " 20%|█████████▌                                      | 2/10 [00:11<00:44,  5.55s/trial, best loss: -0.9477426147467566]"
     ]
    },
    {
     "name": "stderr",
     "output_type": "stream",
     "text": [
      "C:\\Users\\velmurug\\Documents\\full_stability\\transformers\\IndexBasedTransformer.py:58: PerformanceWarning: DataFrame is highly fragmented.  This is usually the result of calling `frame.insert` many times, which has poor performance.  Consider joining all columns at once using pd.concat(axis=1) instead.  To get a de-fragmented frame, use `newframe = frame.copy()`\n",
      "  dt_transformed[col] = 0\n",
      "\n"
     ]
    },
    {
     "name": "stdout",
     "output_type": "stream",
     "text": [
      "Accuracy:                                                                                                              \n",
      "0.9105263157894737                                                                                                     \n",
      " 20%|█████████▌                                      | 2/10 [00:12<00:44,  5.55s/trial, best loss: -0.9477426147467566]"
     ]
    },
    {
     "name": "stderr",
     "output_type": "stream",
     "text": [
      "C:\\Users\\velmurug\\Documents\\full_stability\\transformers\\StaticTransformer.py:44: PerformanceWarning: DataFrame is highly fragmented.  This is usually the result of calling `frame.insert` many times, which has poor performance.  Consider joining all columns at once using pd.concat(axis=1) instead.  To get a de-fragmented frame, use `newframe = frame.copy()`\n",
      "  dt_transformed[col] = 0\n",
      "\n",
      "C:\\Users\\velmurug\\Documents\\full_stability\\transformers\\IndexBasedTransformer.py:58: PerformanceWarning: DataFrame is highly fragmented.  This is usually the result of calling `frame.insert` many times, which has poor performance.  Consider joining all columns at once using pd.concat(axis=1) instead.  To get a de-fragmented frame, use `newframe = frame.copy()`\n",
      "  dt_transformed[col] = 0\n",
      "\n"
     ]
    },
    {
     "name": "stdout",
     "output_type": "stream",
     "text": [
      "Accuracy:                                                                                                              \n",
      "0.9263157894736843                                                                                                     \n",
      " 20%|█████████▌                                      | 2/10 [00:14<00:44,  5.55s/trial, best loss: -0.9477426147467566]"
     ]
    },
    {
     "name": "stderr",
     "output_type": "stream",
     "text": [
      "C:\\Users\\velmurug\\Documents\\full_stability\\transformers\\StaticTransformer.py:44: PerformanceWarning: DataFrame is highly fragmented.  This is usually the result of calling `frame.insert` many times, which has poor performance.  Consider joining all columns at once using pd.concat(axis=1) instead.  To get a de-fragmented frame, use `newframe = frame.copy()`\n",
      "  dt_transformed[col] = 0\n",
      "\n",
      "C:\\Users\\velmurug\\Documents\\full_stability\\transformers\\IndexBasedTransformer.py:58: PerformanceWarning: DataFrame is highly fragmented.  This is usually the result of calling `frame.insert` many times, which has poor performance.  Consider joining all columns at once using pd.concat(axis=1) instead.  To get a de-fragmented frame, use `newframe = frame.copy()`\n",
      "  dt_transformed[col] = 0\n",
      "\n"
     ]
    },
    {
     "name": "stdout",
     "output_type": "stream",
     "text": [
      "Accuracy:                                                                                                              \n",
      "0.9572192513368984                                                                                                     \n",
      "{'var_smoothing': 0.0015199110829529332}                                                                               \n",
      " 30%|██████████████▍                                 | 3/10 [00:16<00:38,  5.54s/trial, best loss: -0.9477426147467566]"
     ]
    },
    {
     "name": "stderr",
     "output_type": "stream",
     "text": [
      "C:\\Users\\velmurug\\Documents\\full_stability\\transformers\\StaticTransformer.py:44: PerformanceWarning: DataFrame is highly fragmented.  This is usually the result of calling `frame.insert` many times, which has poor performance.  Consider joining all columns at once using pd.concat(axis=1) instead.  To get a de-fragmented frame, use `newframe = frame.copy()`\n",
      "  dt_transformed[col] = 0\n",
      "\n",
      "C:\\Users\\velmurug\\Documents\\full_stability\\transformers\\IndexBasedTransformer.py:58: PerformanceWarning: DataFrame is highly fragmented.  This is usually the result of calling `frame.insert` many times, which has poor performance.  Consider joining all columns at once using pd.concat(axis=1) instead.  To get a de-fragmented frame, use `newframe = frame.copy()`\n",
      "  dt_transformed[col] = 0\n",
      "\n"
     ]
    },
    {
     "name": "stdout",
     "output_type": "stream",
     "text": [
      "Accuracy:                                                                                                              \n",
      "0.9063291139240507                                                                                                     \n",
      " 30%|██████████████▍                                 | 3/10 [00:18<00:38,  5.54s/trial, best loss: -0.9477426147467566]"
     ]
    },
    {
     "name": "stderr",
     "output_type": "stream",
     "text": [
      "C:\\Users\\velmurug\\Documents\\full_stability\\transformers\\StaticTransformer.py:44: PerformanceWarning: DataFrame is highly fragmented.  This is usually the result of calling `frame.insert` many times, which has poor performance.  Consider joining all columns at once using pd.concat(axis=1) instead.  To get a de-fragmented frame, use `newframe = frame.copy()`\n",
      "  dt_transformed[col] = 0\n",
      "\n",
      "C:\\Users\\velmurug\\Documents\\full_stability\\transformers\\IndexBasedTransformer.py:58: PerformanceWarning: DataFrame is highly fragmented.  This is usually the result of calling `frame.insert` many times, which has poor performance.  Consider joining all columns at once using pd.concat(axis=1) instead.  To get a de-fragmented frame, use `newframe = frame.copy()`\n",
      "  dt_transformed[col] = 0\n",
      "\n"
     ]
    },
    {
     "name": "stdout",
     "output_type": "stream",
     "text": [
      "Accuracy:                                                                                                              \n",
      "0.9109947643979057                                                                                                     \n",
      " 30%|██████████████▍                                 | 3/10 [00:20<00:38,  5.54s/trial, best loss: -0.9477426147467566]"
     ]
    },
    {
     "name": "stderr",
     "output_type": "stream",
     "text": [
      "C:\\Users\\velmurug\\Documents\\full_stability\\transformers\\IndexBasedTransformer.py:58: PerformanceWarning: DataFrame is highly fragmented.  This is usually the result of calling `frame.insert` many times, which has poor performance.  Consider joining all columns at once using pd.concat(axis=1) instead.  To get a de-fragmented frame, use `newframe = frame.copy()`\n",
      "  dt_transformed[col] = 0\n",
      "\n"
     ]
    },
    {
     "name": "stdout",
     "output_type": "stream",
     "text": [
      "Accuracy:                                                                                                              \n",
      "0.910941475826972                                                                                                      \n",
      "{'var_smoothing': 2.310129700083158e-08}                                                                               \n",
      " 40%|███████████████████▏                            | 4/10 [00:22<00:32,  5.50s/trial, best loss: -0.9477426147467566]"
     ]
    },
    {
     "name": "stderr",
     "output_type": "stream",
     "text": [
      "C:\\Users\\velmurug\\Documents\\full_stability\\transformers\\IndexBasedTransformer.py:58: PerformanceWarning: DataFrame is highly fragmented.  This is usually the result of calling `frame.insert` many times, which has poor performance.  Consider joining all columns at once using pd.concat(axis=1) instead.  To get a de-fragmented frame, use `newframe = frame.copy()`\n",
      "  dt_transformed[col] = 0\n",
      "\n"
     ]
    },
    {
     "name": "stdout",
     "output_type": "stream",
     "text": [
      "Accuracy:                                                                                                              \n",
      "0.9373297002724795                                                                                                     \n",
      " 40%|███████████████████▏                            | 4/10 [00:23<00:32,  5.50s/trial, best loss: -0.9477426147467566]"
     ]
    },
    {
     "name": "stderr",
     "output_type": "stream",
     "text": [
      "C:\\Users\\velmurug\\Documents\\full_stability\\transformers\\IndexBasedTransformer.py:58: PerformanceWarning: DataFrame is highly fragmented.  This is usually the result of calling `frame.insert` many times, which has poor performance.  Consider joining all columns at once using pd.concat(axis=1) instead.  To get a de-fragmented frame, use `newframe = frame.copy()`\n",
      "  dt_transformed[col] = 0\n",
      "\n"
     ]
    },
    {
     "name": "stdout",
     "output_type": "stream",
     "text": [
      "Accuracy:                                                                                                              \n",
      "0.9456521739130436                                                                                                     \n",
      " 40%|███████████████████▏                            | 4/10 [00:25<00:32,  5.50s/trial, best loss: -0.9477426147467566]"
     ]
    },
    {
     "name": "stderr",
     "output_type": "stream",
     "text": [
      "C:\\Users\\velmurug\\Documents\\full_stability\\transformers\\IndexBasedTransformer.py:58: PerformanceWarning: DataFrame is highly fragmented.  This is usually the result of calling `frame.insert` many times, which has poor performance.  Consider joining all columns at once using pd.concat(axis=1) instead.  To get a de-fragmented frame, use `newframe = frame.copy()`\n",
      "  dt_transformed[col] = 0\n",
      "\n"
     ]
    },
    {
     "name": "stdout",
     "output_type": "stream",
     "text": [
      "Accuracy:                                                                                                              \n",
      "0.9487870619946093                                                                                                     \n",
      "{'var_smoothing': 0.01}                                                                                                \n",
      " 50%|████████████████████████                        | 5/10 [00:27<00:27,  5.51s/trial, best loss: -0.9477426147467566]"
     ]
    },
    {
     "name": "stderr",
     "output_type": "stream",
     "text": [
      "C:\\Users\\velmurug\\Documents\\full_stability\\transformers\\StaticTransformer.py:44: PerformanceWarning: DataFrame is highly fragmented.  This is usually the result of calling `frame.insert` many times, which has poor performance.  Consider joining all columns at once using pd.concat(axis=1) instead.  To get a de-fragmented frame, use `newframe = frame.copy()`\n",
      "  dt_transformed[col] = 0\n",
      "\n",
      "C:\\Users\\velmurug\\Documents\\full_stability\\transformers\\IndexBasedTransformer.py:58: PerformanceWarning: DataFrame is highly fragmented.  This is usually the result of calling `frame.insert` many times, which has poor performance.  Consider joining all columns at once using pd.concat(axis=1) instead.  To get a de-fragmented frame, use `newframe = frame.copy()`\n",
      "  dt_transformed[col] = 0\n",
      "\n"
     ]
    },
    {
     "name": "stdout",
     "output_type": "stream",
     "text": [
      "Accuracy:                                                                                                              \n",
      "0.8953771289537713                                                                                                     \n",
      " 50%|████████████████████████                        | 5/10 [00:29<00:27,  5.51s/trial, best loss: -0.9477426147467566]"
     ]
    },
    {
     "name": "stderr",
     "output_type": "stream",
     "text": [
      "C:\\Users\\velmurug\\Documents\\full_stability\\transformers\\StaticTransformer.py:44: PerformanceWarning: DataFrame is highly fragmented.  This is usually the result of calling `frame.insert` many times, which has poor performance.  Consider joining all columns at once using pd.concat(axis=1) instead.  To get a de-fragmented frame, use `newframe = frame.copy()`\n",
      "  dt_transformed[col] = 0\n",
      "\n",
      "C:\\Users\\velmurug\\Documents\\full_stability\\transformers\\IndexBasedTransformer.py:58: PerformanceWarning: DataFrame is highly fragmented.  This is usually the result of calling `frame.insert` many times, which has poor performance.  Consider joining all columns at once using pd.concat(axis=1) instead.  To get a de-fragmented frame, use `newframe = frame.copy()`\n",
      "  dt_transformed[col] = 0\n",
      "\n"
     ]
    },
    {
     "name": "stdout",
     "output_type": "stream",
     "text": [
      "Accuracy:                                                                                                              \n",
      "0.8732394366197184                                                                                                     \n",
      " 50%|████████████████████████                        | 5/10 [00:31<00:27,  5.51s/trial, best loss: -0.9477426147467566]"
     ]
    },
    {
     "name": "stderr",
     "output_type": "stream",
     "text": [
      "C:\\Users\\velmurug\\Documents\\full_stability\\transformers\\StaticTransformer.py:44: PerformanceWarning: DataFrame is highly fragmented.  This is usually the result of calling `frame.insert` many times, which has poor performance.  Consider joining all columns at once using pd.concat(axis=1) instead.  To get a de-fragmented frame, use `newframe = frame.copy()`\n",
      "  dt_transformed[col] = 0\n",
      "\n",
      "C:\\Users\\velmurug\\Documents\\full_stability\\transformers\\IndexBasedTransformer.py:58: PerformanceWarning: DataFrame is highly fragmented.  This is usually the result of calling `frame.insert` many times, which has poor performance.  Consider joining all columns at once using pd.concat(axis=1) instead.  To get a de-fragmented frame, use `newframe = frame.copy()`\n",
      "  dt_transformed[col] = 0\n",
      "\n"
     ]
    },
    {
     "name": "stdout",
     "output_type": "stream",
     "text": [
      "Accuracy:                                                                                                              \n",
      "0.8846153846153847                                                                                                     \n",
      "{'var_smoothing': 1.232846739442066e-08}                                                                               \n",
      " 60%|████████████████████████████▊                   | 6/10 [00:33<00:22,  5.51s/trial, best loss: -0.9477426147467566]"
     ]
    },
    {
     "name": "stderr",
     "output_type": "stream",
     "text": [
      "C:\\Users\\velmurug\\Documents\\full_stability\\transformers\\StaticTransformer.py:44: PerformanceWarning: DataFrame is highly fragmented.  This is usually the result of calling `frame.insert` many times, which has poor performance.  Consider joining all columns at once using pd.concat(axis=1) instead.  To get a de-fragmented frame, use `newframe = frame.copy()`\n",
      "  dt_transformed[col] = 0\n",
      "\n",
      "C:\\Users\\velmurug\\Documents\\full_stability\\transformers\\IndexBasedTransformer.py:58: PerformanceWarning: DataFrame is highly fragmented.  This is usually the result of calling `frame.insert` many times, which has poor performance.  Consider joining all columns at once using pd.concat(axis=1) instead.  To get a de-fragmented frame, use `newframe = frame.copy()`\n",
      "  dt_transformed[col] = 0\n",
      "\n"
     ]
    },
    {
     "name": "stdout",
     "output_type": "stream",
     "text": [
      "Accuracy:                                                                                                              \n",
      "0.9430894308943091                                                                                                     \n",
      " 60%|████████████████████████████▊                   | 6/10 [00:34<00:22,  5.51s/trial, best loss: -0.9477426147467566]"
     ]
    },
    {
     "name": "stderr",
     "output_type": "stream",
     "text": [
      "C:\\Users\\velmurug\\Documents\\full_stability\\transformers\\IndexBasedTransformer.py:58: PerformanceWarning: DataFrame is highly fragmented.  This is usually the result of calling `frame.insert` many times, which has poor performance.  Consider joining all columns at once using pd.concat(axis=1) instead.  To get a de-fragmented frame, use `newframe = frame.copy()`\n",
      "  dt_transformed[col] = 0\n",
      "\n"
     ]
    },
    {
     "name": "stdout",
     "output_type": "stream",
     "text": [
      "Accuracy:                                                                                                              \n",
      "0.9427792915531336                                                                                                     \n",
      " 60%|████████████████████████████▊                   | 6/10 [00:36<00:22,  5.51s/trial, best loss: -0.9477426147467566]"
     ]
    },
    {
     "name": "stderr",
     "output_type": "stream",
     "text": [
      "C:\\Users\\velmurug\\Documents\\full_stability\\transformers\\StaticTransformer.py:44: PerformanceWarning: DataFrame is highly fragmented.  This is usually the result of calling `frame.insert` many times, which has poor performance.  Consider joining all columns at once using pd.concat(axis=1) instead.  To get a de-fragmented frame, use `newframe = frame.copy()`\n",
      "  dt_transformed[col] = 0\n",
      "\n",
      "C:\\Users\\velmurug\\Documents\\full_stability\\transformers\\IndexBasedTransformer.py:58: PerformanceWarning: DataFrame is highly fragmented.  This is usually the result of calling `frame.insert` many times, which has poor performance.  Consider joining all columns at once using pd.concat(axis=1) instead.  To get a de-fragmented frame, use `newframe = frame.copy()`\n",
      "  dt_transformed[col] = 0\n",
      "\n"
     ]
    },
    {
     "name": "stdout",
     "output_type": "stream",
     "text": [
      "Accuracy:                                                                                                              \n",
      "0.9315068493150686                                                                                                     \n",
      "{'var_smoothing': 0.002848035868435802}                                                                                \n",
      " 70%|█████████████████████████████████▌              | 7/10 [00:38<00:16,  5.48s/trial, best loss: -0.9477426147467566]"
     ]
    },
    {
     "name": "stderr",
     "output_type": "stream",
     "text": [
      "C:\\Users\\velmurug\\Documents\\full_stability\\transformers\\StaticTransformer.py:44: PerformanceWarning: DataFrame is highly fragmented.  This is usually the result of calling `frame.insert` many times, which has poor performance.  Consider joining all columns at once using pd.concat(axis=1) instead.  To get a de-fragmented frame, use `newframe = frame.copy()`\n",
      "  dt_transformed[col] = 0\n",
      "\n",
      "C:\\Users\\velmurug\\Documents\\full_stability\\transformers\\IndexBasedTransformer.py:58: PerformanceWarning: DataFrame is highly fragmented.  This is usually the result of calling `frame.insert` many times, which has poor performance.  Consider joining all columns at once using pd.concat(axis=1) instead.  To get a de-fragmented frame, use `newframe = frame.copy()`\n",
      "  dt_transformed[col] = 0\n",
      "\n"
     ]
    },
    {
     "name": "stdout",
     "output_type": "stream",
     "text": [
      "Accuracy:                                                                                                              \n",
      "0.9063291139240507                                                                                                     \n",
      " 70%|█████████████████████████████████▌              | 7/10 [00:40<00:16,  5.48s/trial, best loss: -0.9477426147467566]"
     ]
    },
    {
     "name": "stderr",
     "output_type": "stream",
     "text": [
      "C:\\Users\\velmurug\\Documents\\full_stability\\transformers\\StaticTransformer.py:44: PerformanceWarning: DataFrame is highly fragmented.  This is usually the result of calling `frame.insert` many times, which has poor performance.  Consider joining all columns at once using pd.concat(axis=1) instead.  To get a de-fragmented frame, use `newframe = frame.copy()`\n",
      "  dt_transformed[col] = 0\n",
      "\n",
      "C:\\Users\\velmurug\\Documents\\full_stability\\transformers\\IndexBasedTransformer.py:58: PerformanceWarning: DataFrame is highly fragmented.  This is usually the result of calling `frame.insert` many times, which has poor performance.  Consider joining all columns at once using pd.concat(axis=1) instead.  To get a de-fragmented frame, use `newframe = frame.copy()`\n",
      "  dt_transformed[col] = 0\n",
      "\n"
     ]
    },
    {
     "name": "stdout",
     "output_type": "stream",
     "text": [
      "Accuracy:                                                                                                              \n",
      "0.9128205128205128                                                                                                     \n",
      " 70%|█████████████████████████████████▌              | 7/10 [00:42<00:16,  5.48s/trial, best loss: -0.9477426147467566]"
     ]
    },
    {
     "name": "stderr",
     "output_type": "stream",
     "text": [
      "C:\\Users\\velmurug\\Documents\\full_stability\\transformers\\StaticTransformer.py:44: PerformanceWarning: DataFrame is highly fragmented.  This is usually the result of calling `frame.insert` many times, which has poor performance.  Consider joining all columns at once using pd.concat(axis=1) instead.  To get a de-fragmented frame, use `newframe = frame.copy()`\n",
      "  dt_transformed[col] = 0\n",
      "\n",
      "C:\\Users\\velmurug\\Documents\\full_stability\\transformers\\IndexBasedTransformer.py:58: PerformanceWarning: DataFrame is highly fragmented.  This is usually the result of calling `frame.insert` many times, which has poor performance.  Consider joining all columns at once using pd.concat(axis=1) instead.  To get a de-fragmented frame, use `newframe = frame.copy()`\n",
      "  dt_transformed[col] = 0\n",
      "\n"
     ]
    },
    {
     "name": "stdout",
     "output_type": "stream",
     "text": [
      "Accuracy:                                                                                                              \n",
      "0.9142857142857141                                                                                                     \n",
      "{'var_smoothing': 0.2848035868435802}                                                                                  \n",
      " 80%|██████████████████████████████████████▍         | 8/10 [00:44<00:11,  5.51s/trial, best loss: -0.9477426147467566]"
     ]
    },
    {
     "name": "stderr",
     "output_type": "stream",
     "text": [
      "C:\\Users\\velmurug\\Documents\\full_stability\\transformers\\StaticTransformer.py:44: PerformanceWarning: DataFrame is highly fragmented.  This is usually the result of calling `frame.insert` many times, which has poor performance.  Consider joining all columns at once using pd.concat(axis=1) instead.  To get a de-fragmented frame, use `newframe = frame.copy()`\n",
      "  dt_transformed[col] = 0\n",
      "\n",
      "C:\\Users\\velmurug\\Documents\\full_stability\\transformers\\IndexBasedTransformer.py:58: PerformanceWarning: DataFrame is highly fragmented.  This is usually the result of calling `frame.insert` many times, which has poor performance.  Consider joining all columns at once using pd.concat(axis=1) instead.  To get a de-fragmented frame, use `newframe = frame.copy()`\n",
      "  dt_transformed[col] = 0\n",
      "\n"
     ]
    },
    {
     "name": "stdout",
     "output_type": "stream",
     "text": [
      "Accuracy:                                                                                                              \n",
      "0.8637413394919168                                                                                                     \n",
      " 80%|██████████████████████████████████████▍         | 8/10 [00:45<00:11,  5.51s/trial, best loss: -0.9477426147467566]"
     ]
    },
    {
     "name": "stderr",
     "output_type": "stream",
     "text": [
      "C:\\Users\\velmurug\\Documents\\full_stability\\transformers\\StaticTransformer.py:44: PerformanceWarning: DataFrame is highly fragmented.  This is usually the result of calling `frame.insert` many times, which has poor performance.  Consider joining all columns at once using pd.concat(axis=1) instead.  To get a de-fragmented frame, use `newframe = frame.copy()`\n",
      "  dt_transformed[col] = 0\n",
      "\n",
      "C:\\Users\\velmurug\\Documents\\full_stability\\transformers\\IndexBasedTransformer.py:58: PerformanceWarning: DataFrame is highly fragmented.  This is usually the result of calling `frame.insert` many times, which has poor performance.  Consider joining all columns at once using pd.concat(axis=1) instead.  To get a de-fragmented frame, use `newframe = frame.copy()`\n",
      "  dt_transformed[col] = 0\n",
      "\n"
     ]
    },
    {
     "name": "stdout",
     "output_type": "stream",
     "text": [
      "Accuracy:                                                                                                              \n",
      "0.832579185520362                                                                                                      \n",
      " 80%|██████████████████████████████████████▍         | 8/10 [00:47<00:11,  5.51s/trial, best loss: -0.9477426147467566]"
     ]
    },
    {
     "name": "stderr",
     "output_type": "stream",
     "text": [
      "C:\\Users\\velmurug\\Documents\\full_stability\\transformers\\StaticTransformer.py:44: PerformanceWarning: DataFrame is highly fragmented.  This is usually the result of calling `frame.insert` many times, which has poor performance.  Consider joining all columns at once using pd.concat(axis=1) instead.  To get a de-fragmented frame, use `newframe = frame.copy()`\n",
      "  dt_transformed[col] = 0\n",
      "\n",
      "C:\\Users\\velmurug\\Documents\\full_stability\\transformers\\IndexBasedTransformer.py:58: PerformanceWarning: DataFrame is highly fragmented.  This is usually the result of calling `frame.insert` many times, which has poor performance.  Consider joining all columns at once using pd.concat(axis=1) instead.  To get a de-fragmented frame, use `newframe = frame.copy()`\n",
      "  dt_transformed[col] = 0\n",
      "\n"
     ]
    },
    {
     "name": "stdout",
     "output_type": "stream",
     "text": [
      "Accuracy:                                                                                                              \n",
      "0.8457943925233645                                                                                                     \n",
      "{'var_smoothing': 0.0001519911082952933}                                                                               \n",
      " 90%|███████████████████████████████████████████▏    | 9/10 [00:49<00:05,  5.52s/trial, best loss: -0.9477426147467566]"
     ]
    },
    {
     "name": "stderr",
     "output_type": "stream",
     "text": [
      "C:\\Users\\velmurug\\Documents\\full_stability\\transformers\\StaticTransformer.py:44: PerformanceWarning: DataFrame is highly fragmented.  This is usually the result of calling `frame.insert` many times, which has poor performance.  Consider joining all columns at once using pd.concat(axis=1) instead.  To get a de-fragmented frame, use `newframe = frame.copy()`\n",
      "  dt_transformed[col] = 0\n",
      "\n",
      "C:\\Users\\velmurug\\Documents\\full_stability\\transformers\\IndexBasedTransformer.py:58: PerformanceWarning: DataFrame is highly fragmented.  This is usually the result of calling `frame.insert` many times, which has poor performance.  Consider joining all columns at once using pd.concat(axis=1) instead.  To get a de-fragmented frame, use `newframe = frame.copy()`\n",
      "  dt_transformed[col] = 0\n",
      "\n"
     ]
    },
    {
     "name": "stdout",
     "output_type": "stream",
     "text": [
      "Accuracy:                                                                                                              \n",
      "0.945945945945946                                                                                                      \n",
      " 90%|███████████████████████████████████████████▏    | 9/10 [00:51<00:05,  5.52s/trial, best loss: -0.9477426147467566]"
     ]
    },
    {
     "name": "stderr",
     "output_type": "stream",
     "text": [
      "C:\\Users\\velmurug\\Documents\\full_stability\\transformers\\StaticTransformer.py:44: PerformanceWarning: DataFrame is highly fragmented.  This is usually the result of calling `frame.insert` many times, which has poor performance.  Consider joining all columns at once using pd.concat(axis=1) instead.  To get a de-fragmented frame, use `newframe = frame.copy()`\n",
      "  dt_transformed[col] = 0\n",
      "\n",
      "C:\\Users\\velmurug\\Documents\\full_stability\\transformers\\IndexBasedTransformer.py:58: PerformanceWarning: DataFrame is highly fragmented.  This is usually the result of calling `frame.insert` many times, which has poor performance.  Consider joining all columns at once using pd.concat(axis=1) instead.  To get a de-fragmented frame, use `newframe = frame.copy()`\n",
      "  dt_transformed[col] = 0\n",
      "\n"
     ]
    },
    {
     "name": "stdout",
     "output_type": "stream",
     "text": [
      "Accuracy:                                                                                                              \n",
      "0.948509485094851                                                                                                      \n",
      " 90%|███████████████████████████████████████████▏    | 9/10 [00:53<00:05,  5.52s/trial, best loss: -0.9477426147467566]"
     ]
    },
    {
     "name": "stderr",
     "output_type": "stream",
     "text": [
      "C:\\Users\\velmurug\\Documents\\full_stability\\transformers\\IndexBasedTransformer.py:58: PerformanceWarning: DataFrame is highly fragmented.  This is usually the result of calling `frame.insert` many times, which has poor performance.  Consider joining all columns at once using pd.concat(axis=1) instead.  To get a de-fragmented frame, use `newframe = frame.copy()`\n",
      "  dt_transformed[col] = 0\n",
      "\n"
     ]
    },
    {
     "name": "stdout",
     "output_type": "stream",
     "text": [
      "Accuracy:                                                                                                              \n",
      "0.9402173913043478                                                                                                     \n",
      "100%|███████████████████████████████████████████████| 10/10 [00:55<00:00,  5.50s/trial, best loss: -0.9477426147467566]\n",
      "Optimising 20 of 20 buckets\n",
      "{'var_smoothing': 5.336699231206302e-09}                                                                               \n",
      "  0%|                                                                           | 0/10 [00:00<?, ?trial/s, best loss=?]"
     ]
    },
    {
     "name": "stderr",
     "output_type": "stream",
     "text": [
      "C:\\Users\\velmurug\\Documents\\full_stability\\transformers\\IndexBasedTransformer.py:58: PerformanceWarning: DataFrame is highly fragmented.  This is usually the result of calling `frame.insert` many times, which has poor performance.  Consider joining all columns at once using pd.concat(axis=1) instead.  To get a de-fragmented frame, use `newframe = frame.copy()`\n",
      "  dt_transformed[col] = 0\n",
      "\n"
     ]
    },
    {
     "name": "stdout",
     "output_type": "stream",
     "text": [
      "Accuracy:                                                                                                              \n",
      "0.9247910863509748                                                                                                     \n",
      "  0%|                                                                           | 0/10 [00:01<?, ?trial/s, best loss=?]"
     ]
    },
    {
     "name": "stderr",
     "output_type": "stream",
     "text": [
      "C:\\Users\\velmurug\\Documents\\full_stability\\transformers\\StaticTransformer.py:44: PerformanceWarning: DataFrame is highly fragmented.  This is usually the result of calling `frame.insert` many times, which has poor performance.  Consider joining all columns at once using pd.concat(axis=1) instead.  To get a de-fragmented frame, use `newframe = frame.copy()`\n",
      "  dt_transformed[col] = 0\n",
      "\n",
      "C:\\Users\\velmurug\\Documents\\full_stability\\transformers\\IndexBasedTransformer.py:58: PerformanceWarning: DataFrame is highly fragmented.  This is usually the result of calling `frame.insert` many times, which has poor performance.  Consider joining all columns at once using pd.concat(axis=1) instead.  To get a de-fragmented frame, use `newframe = frame.copy()`\n",
      "  dt_transformed[col] = 0\n",
      "\n"
     ]
    },
    {
     "name": "stdout",
     "output_type": "stream",
     "text": [
      "Accuracy:                                                                                                              \n",
      "0.9680851063829787                                                                                                     \n",
      "  0%|                                                                           | 0/10 [00:04<?, ?trial/s, best loss=?]"
     ]
    },
    {
     "name": "stderr",
     "output_type": "stream",
     "text": [
      "C:\\Users\\velmurug\\Documents\\full_stability\\transformers\\StaticTransformer.py:44: PerformanceWarning: DataFrame is highly fragmented.  This is usually the result of calling `frame.insert` many times, which has poor performance.  Consider joining all columns at once using pd.concat(axis=1) instead.  To get a de-fragmented frame, use `newframe = frame.copy()`\n",
      "  dt_transformed[col] = 0\n",
      "\n",
      "C:\\Users\\velmurug\\Documents\\full_stability\\transformers\\IndexBasedTransformer.py:58: PerformanceWarning: DataFrame is highly fragmented.  This is usually the result of calling `frame.insert` many times, which has poor performance.  Consider joining all columns at once using pd.concat(axis=1) instead.  To get a de-fragmented frame, use `newframe = frame.copy()`\n",
      "  dt_transformed[col] = 0\n",
      "\n"
     ]
    },
    {
     "name": "stdout",
     "output_type": "stream",
     "text": [
      "Accuracy:                                                                                                              \n",
      "0.9247910863509748                                                                                                     \n",
      "{'var_smoothing': 1e-06}                                                                                               \n",
      " 10%|████▊                                           | 1/10 [00:06<00:54,  6.02s/trial, best loss: -0.9392224263616428]"
     ]
    },
    {
     "name": "stderr",
     "output_type": "stream",
     "text": [
      "C:\\Users\\velmurug\\Documents\\full_stability\\transformers\\StaticTransformer.py:44: PerformanceWarning: DataFrame is highly fragmented.  This is usually the result of calling `frame.insert` many times, which has poor performance.  Consider joining all columns at once using pd.concat(axis=1) instead.  To get a de-fragmented frame, use `newframe = frame.copy()`\n",
      "  dt_transformed[col] = 0\n",
      "\n",
      "C:\\Users\\velmurug\\Documents\\full_stability\\transformers\\IndexBasedTransformer.py:58: PerformanceWarning: DataFrame is highly fragmented.  This is usually the result of calling `frame.insert` many times, which has poor performance.  Consider joining all columns at once using pd.concat(axis=1) instead.  To get a de-fragmented frame, use `newframe = frame.copy()`\n",
      "  dt_transformed[col] = 0\n",
      "\n"
     ]
    },
    {
     "name": "stdout",
     "output_type": "stream",
     "text": [
      "Accuracy:                                                                                                              \n",
      "0.9567567567567568                                                                                                     \n",
      " 10%|████▊                                           | 1/10 [00:08<00:54,  6.02s/trial, best loss: -0.9392224263616428]"
     ]
    },
    {
     "name": "stderr",
     "output_type": "stream",
     "text": [
      "C:\\Users\\velmurug\\Documents\\full_stability\\transformers\\StaticTransformer.py:44: PerformanceWarning: DataFrame is highly fragmented.  This is usually the result of calling `frame.insert` many times, which has poor performance.  Consider joining all columns at once using pd.concat(axis=1) instead.  To get a de-fragmented frame, use `newframe = frame.copy()`\n",
      "  dt_transformed[col] = 0\n",
      "\n",
      "C:\\Users\\velmurug\\Documents\\full_stability\\transformers\\IndexBasedTransformer.py:58: PerformanceWarning: DataFrame is highly fragmented.  This is usually the result of calling `frame.insert` many times, which has poor performance.  Consider joining all columns at once using pd.concat(axis=1) instead.  To get a de-fragmented frame, use `newframe = frame.copy()`\n",
      "  dt_transformed[col] = 0\n",
      "\n"
     ]
    },
    {
     "name": "stdout",
     "output_type": "stream",
     "text": [
      "Accuracy:                                                                                                              \n",
      "0.9541778975741241                                                                                                     \n",
      " 10%|████▊                                           | 1/10 [00:10<00:54,  6.02s/trial, best loss: -0.9392224263616428]"
     ]
    },
    {
     "name": "stderr",
     "output_type": "stream",
     "text": [
      "C:\\Users\\velmurug\\Documents\\full_stability\\transformers\\IndexBasedTransformer.py:58: PerformanceWarning: DataFrame is highly fragmented.  This is usually the result of calling `frame.insert` many times, which has poor performance.  Consider joining all columns at once using pd.concat(axis=1) instead.  To get a de-fragmented frame, use `newframe = frame.copy()`\n",
      "  dt_transformed[col] = 0\n",
      "\n"
     ]
    },
    {
     "name": "stdout",
     "output_type": "stream",
     "text": [
      "Accuracy:                                                                                                              \n",
      "0.9307479224376731                                                                                                     \n",
      "{'var_smoothing': 1.873817422860387e-09}                                                                               \n",
      " 20%|█████████▊                                       | 2/10 [00:12<00:48,  6.07s/trial, best loss: -0.947227525589518]"
     ]
    },
    {
     "name": "stderr",
     "output_type": "stream",
     "text": [
      "C:\\Users\\velmurug\\Documents\\full_stability\\transformers\\IndexBasedTransformer.py:58: PerformanceWarning: DataFrame is highly fragmented.  This is usually the result of calling `frame.insert` many times, which has poor performance.  Consider joining all columns at once using pd.concat(axis=1) instead.  To get a de-fragmented frame, use `newframe = frame.copy()`\n",
      "  dt_transformed[col] = 0\n",
      "\n"
     ]
    },
    {
     "name": "stdout",
     "output_type": "stream",
     "text": [
      "Accuracy:                                                                                                              \n",
      "0.9307479224376731                                                                                                     \n",
      " 20%|█████████▊                                       | 2/10 [00:14<00:48,  6.07s/trial, best loss: -0.947227525589518]"
     ]
    },
    {
     "name": "stderr",
     "output_type": "stream",
     "text": [
      "C:\\Users\\velmurug\\Documents\\full_stability\\transformers\\StaticTransformer.py:44: PerformanceWarning: DataFrame is highly fragmented.  This is usually the result of calling `frame.insert` many times, which has poor performance.  Consider joining all columns at once using pd.concat(axis=1) instead.  To get a de-fragmented frame, use `newframe = frame.copy()`\n",
      "  dt_transformed[col] = 0\n",
      "\n",
      "C:\\Users\\velmurug\\Documents\\full_stability\\transformers\\IndexBasedTransformer.py:58: PerformanceWarning: DataFrame is highly fragmented.  This is usually the result of calling `frame.insert` many times, which has poor performance.  Consider joining all columns at once using pd.concat(axis=1) instead.  To get a de-fragmented frame, use `newframe = frame.copy()`\n",
      "  dt_transformed[col] = 0\n",
      "\n"
     ]
    },
    {
     "name": "stdout",
     "output_type": "stream",
     "text": [
      "Accuracy:                                                                                                              \n",
      "0.936986301369863                                                                                                      \n",
      " 20%|█████████▊                                       | 2/10 [00:16<00:48,  6.07s/trial, best loss: -0.947227525589518]"
     ]
    },
    {
     "name": "stderr",
     "output_type": "stream",
     "text": [
      "C:\\Users\\velmurug\\Documents\\full_stability\\transformers\\StaticTransformer.py:44: PerformanceWarning: DataFrame is highly fragmented.  This is usually the result of calling `frame.insert` many times, which has poor performance.  Consider joining all columns at once using pd.concat(axis=1) instead.  To get a de-fragmented frame, use `newframe = frame.copy()`\n",
      "  dt_transformed[col] = 0\n",
      "\n",
      "C:\\Users\\velmurug\\Documents\\full_stability\\transformers\\IndexBasedTransformer.py:58: PerformanceWarning: DataFrame is highly fragmented.  This is usually the result of calling `frame.insert` many times, which has poor performance.  Consider joining all columns at once using pd.concat(axis=1) instead.  To get a de-fragmented frame, use `newframe = frame.copy()`\n",
      "  dt_transformed[col] = 0\n",
      "\n"
     ]
    },
    {
     "name": "stdout",
     "output_type": "stream",
     "text": [
      "Accuracy:                                                                                                              \n",
      "0.9247910863509748                                                                                                     \n",
      "{'var_smoothing': 0.0012328467394420659}                                                                               \n",
      " 30%|██████████████▋                                  | 3/10 [00:18<00:42,  6.01s/trial, best loss: -0.947227525589518]"
     ]
    },
    {
     "name": "stderr",
     "output_type": "stream",
     "text": [
      "C:\\Users\\velmurug\\Documents\\full_stability\\transformers\\StaticTransformer.py:44: PerformanceWarning: DataFrame is highly fragmented.  This is usually the result of calling `frame.insert` many times, which has poor performance.  Consider joining all columns at once using pd.concat(axis=1) instead.  To get a de-fragmented frame, use `newframe = frame.copy()`\n",
      "  dt_transformed[col] = 0\n",
      "\n",
      "C:\\Users\\velmurug\\Documents\\full_stability\\transformers\\IndexBasedTransformer.py:58: PerformanceWarning: DataFrame is highly fragmented.  This is usually the result of calling `frame.insert` many times, which has poor performance.  Consider joining all columns at once using pd.concat(axis=1) instead.  To get a de-fragmented frame, use `newframe = frame.copy()`\n",
      "  dt_transformed[col] = 0\n",
      "\n"
     ]
    },
    {
     "name": "stdout",
     "output_type": "stream",
     "text": [
      "Accuracy:                                                                                                              \n",
      "0.9453551912568305                                                                                                     \n",
      " 30%|██████████████▋                                  | 3/10 [00:20<00:42,  6.01s/trial, best loss: -0.947227525589518]"
     ]
    },
    {
     "name": "stderr",
     "output_type": "stream",
     "text": [
      "C:\\Users\\velmurug\\Documents\\full_stability\\transformers\\StaticTransformer.py:44: PerformanceWarning: DataFrame is highly fragmented.  This is usually the result of calling `frame.insert` many times, which has poor performance.  Consider joining all columns at once using pd.concat(axis=1) instead.  To get a de-fragmented frame, use `newframe = frame.copy()`\n",
      "  dt_transformed[col] = 0\n",
      "\n",
      "C:\\Users\\velmurug\\Documents\\full_stability\\transformers\\IndexBasedTransformer.py:58: PerformanceWarning: DataFrame is highly fragmented.  This is usually the result of calling `frame.insert` many times, which has poor performance.  Consider joining all columns at once using pd.concat(axis=1) instead.  To get a de-fragmented frame, use `newframe = frame.copy()`\n",
      "  dt_transformed[col] = 0\n",
      "\n"
     ]
    },
    {
     "name": "stdout",
     "output_type": "stream",
     "text": [
      "Accuracy:                                                                                                              \n",
      "0.9454545454545454                                                                                                     \n",
      " 30%|██████████████▋                                  | 3/10 [00:21<00:42,  6.01s/trial, best loss: -0.947227525589518]"
     ]
    },
    {
     "name": "stderr",
     "output_type": "stream",
     "text": [
      "C:\\Users\\velmurug\\Documents\\full_stability\\transformers\\StaticTransformer.py:44: PerformanceWarning: DataFrame is highly fragmented.  This is usually the result of calling `frame.insert` many times, which has poor performance.  Consider joining all columns at once using pd.concat(axis=1) instead.  To get a de-fragmented frame, use `newframe = frame.copy()`\n",
      "  dt_transformed[col] = 0\n",
      "\n",
      "C:\\Users\\velmurug\\Documents\\full_stability\\transformers\\IndexBasedTransformer.py:58: PerformanceWarning: DataFrame is highly fragmented.  This is usually the result of calling `frame.insert` many times, which has poor performance.  Consider joining all columns at once using pd.concat(axis=1) instead.  To get a de-fragmented frame, use `newframe = frame.copy()`\n",
      "  dt_transformed[col] = 0\n",
      "\n"
     ]
    },
    {
     "name": "stdout",
     "output_type": "stream",
     "text": [
      "Accuracy:                                                                                                              \n",
      "0.9013333333333333                                                                                                     \n",
      "{'var_smoothing': 6.579332246575683e-06}                                                                               \n",
      " 40%|███████████████████▌                             | 4/10 [00:23<00:35,  5.97s/trial, best loss: -0.947227525589518]"
     ]
    },
    {
     "name": "stderr",
     "output_type": "stream",
     "text": [
      "C:\\Users\\velmurug\\Documents\\full_stability\\transformers\\StaticTransformer.py:44: PerformanceWarning: DataFrame is highly fragmented.  This is usually the result of calling `frame.insert` many times, which has poor performance.  Consider joining all columns at once using pd.concat(axis=1) instead.  To get a de-fragmented frame, use `newframe = frame.copy()`\n",
      "  dt_transformed[col] = 0\n",
      "\n",
      "C:\\Users\\velmurug\\Documents\\full_stability\\transformers\\IndexBasedTransformer.py:58: PerformanceWarning: DataFrame is highly fragmented.  This is usually the result of calling `frame.insert` many times, which has poor performance.  Consider joining all columns at once using pd.concat(axis=1) instead.  To get a de-fragmented frame, use `newframe = frame.copy()`\n",
      "  dt_transformed[col] = 0\n",
      "\n"
     ]
    },
    {
     "name": "stdout",
     "output_type": "stream",
     "text": [
      "Accuracy:                                                                                                              \n",
      "0.9395604395604396                                                                                                     \n",
      " 40%|███████████████████▌                             | 4/10 [00:26<00:35,  5.97s/trial, best loss: -0.947227525589518]"
     ]
    },
    {
     "name": "stderr",
     "output_type": "stream",
     "text": [
      "C:\\Users\\velmurug\\Documents\\full_stability\\transformers\\IndexBasedTransformer.py:58: PerformanceWarning: DataFrame is highly fragmented.  This is usually the result of calling `frame.insert` many times, which has poor performance.  Consider joining all columns at once using pd.concat(axis=1) instead.  To get a de-fragmented frame, use `newframe = frame.copy()`\n",
      "  dt_transformed[col] = 0\n",
      "\n"
     ]
    },
    {
     "name": "stdout",
     "output_type": "stream",
     "text": [
      "Accuracy:                                                                                                              \n",
      "0.9398907103825136                                                                                                     \n",
      " 40%|███████████████████▌                             | 4/10 [00:28<00:35,  5.97s/trial, best loss: -0.947227525589518]"
     ]
    },
    {
     "name": "stderr",
     "output_type": "stream",
     "text": [
      "C:\\Users\\velmurug\\Documents\\full_stability\\transformers\\StaticTransformer.py:44: PerformanceWarning: DataFrame is highly fragmented.  This is usually the result of calling `frame.insert` many times, which has poor performance.  Consider joining all columns at once using pd.concat(axis=1) instead.  To get a de-fragmented frame, use `newframe = frame.copy()`\n",
      "  dt_transformed[col] = 0\n",
      "\n",
      "C:\\Users\\velmurug\\Documents\\full_stability\\transformers\\IndexBasedTransformer.py:58: PerformanceWarning: DataFrame is highly fragmented.  This is usually the result of calling `frame.insert` many times, which has poor performance.  Consider joining all columns at once using pd.concat(axis=1) instead.  To get a de-fragmented frame, use `newframe = frame.copy()`\n",
      "  dt_transformed[col] = 0\n",
      "\n"
     ]
    },
    {
     "name": "stdout",
     "output_type": "stream",
     "text": [
      "Accuracy:                                                                                                              \n",
      "0.9424657534246574                                                                                                     \n",
      "{'var_smoothing': 5.336699231206313e-06}                                                                               \n",
      " 50%|████████████████████████▌                        | 5/10 [00:29<00:29,  5.98s/trial, best loss: -0.947227525589518]"
     ]
    },
    {
     "name": "stderr",
     "output_type": "stream",
     "text": [
      "C:\\Users\\velmurug\\Documents\\full_stability\\transformers\\StaticTransformer.py:44: PerformanceWarning: DataFrame is highly fragmented.  This is usually the result of calling `frame.insert` many times, which has poor performance.  Consider joining all columns at once using pd.concat(axis=1) instead.  To get a de-fragmented frame, use `newframe = frame.copy()`\n",
      "  dt_transformed[col] = 0\n",
      "\n",
      "C:\\Users\\velmurug\\Documents\\full_stability\\transformers\\IndexBasedTransformer.py:58: PerformanceWarning: DataFrame is highly fragmented.  This is usually the result of calling `frame.insert` many times, which has poor performance.  Consider joining all columns at once using pd.concat(axis=1) instead.  To get a de-fragmented frame, use `newframe = frame.copy()`\n",
      "  dt_transformed[col] = 0\n",
      "\n"
     ]
    },
    {
     "name": "stdout",
     "output_type": "stream",
     "text": [
      "Accuracy:                                                                                                              \n",
      "0.9595687331536388                                                                                                     \n",
      " 50%|████████████████████████▌                        | 5/10 [00:31<00:29,  5.98s/trial, best loss: -0.947227525589518]"
     ]
    },
    {
     "name": "stderr",
     "output_type": "stream",
     "text": [
      "C:\\Users\\velmurug\\Documents\\full_stability\\transformers\\StaticTransformer.py:44: PerformanceWarning: DataFrame is highly fragmented.  This is usually the result of calling `frame.insert` many times, which has poor performance.  Consider joining all columns at once using pd.concat(axis=1) instead.  To get a de-fragmented frame, use `newframe = frame.copy()`\n",
      "  dt_transformed[col] = 0\n",
      "\n",
      "C:\\Users\\velmurug\\Documents\\full_stability\\transformers\\IndexBasedTransformer.py:58: PerformanceWarning: DataFrame is highly fragmented.  This is usually the result of calling `frame.insert` many times, which has poor performance.  Consider joining all columns at once using pd.concat(axis=1) instead.  To get a de-fragmented frame, use `newframe = frame.copy()`\n",
      "  dt_transformed[col] = 0\n",
      "\n"
     ]
    },
    {
     "name": "stdout",
     "output_type": "stream",
     "text": [
      "Accuracy:                                                                                                              \n",
      "0.9281767955801106                                                                                                     \n",
      " 50%|████████████████████████▌                        | 5/10 [00:33<00:29,  5.98s/trial, best loss: -0.947227525589518]"
     ]
    },
    {
     "name": "stderr",
     "output_type": "stream",
     "text": [
      "C:\\Users\\velmurug\\Documents\\full_stability\\transformers\\StaticTransformer.py:44: PerformanceWarning: DataFrame is highly fragmented.  This is usually the result of calling `frame.insert` many times, which has poor performance.  Consider joining all columns at once using pd.concat(axis=1) instead.  To get a de-fragmented frame, use `newframe = frame.copy()`\n",
      "  dt_transformed[col] = 0\n",
      "\n",
      "C:\\Users\\velmurug\\Documents\\full_stability\\transformers\\IndexBasedTransformer.py:58: PerformanceWarning: DataFrame is highly fragmented.  This is usually the result of calling `frame.insert` many times, which has poor performance.  Consider joining all columns at once using pd.concat(axis=1) instead.  To get a de-fragmented frame, use `newframe = frame.copy()`\n",
      "  dt_transformed[col] = 0\n",
      "\n"
     ]
    },
    {
     "name": "stdout",
     "output_type": "stream",
     "text": [
      "Accuracy:                                                                                                              \n",
      "0.9307479224376731                                                                                                     \n",
      "{'var_smoothing': 0.0001519911082952933}                                                                               \n",
      " 60%|█████████████████████████████▍                   | 6/10 [00:35<00:23,  5.93s/trial, best loss: -0.947227525589518]"
     ]
    },
    {
     "name": "stderr",
     "output_type": "stream",
     "text": [
      "C:\\Users\\velmurug\\Documents\\full_stability\\transformers\\IndexBasedTransformer.py:58: PerformanceWarning: DataFrame is highly fragmented.  This is usually the result of calling `frame.insert` many times, which has poor performance.  Consider joining all columns at once using pd.concat(axis=1) instead.  To get a de-fragmented frame, use `newframe = frame.copy()`\n",
      "  dt_transformed[col] = 0\n",
      "\n"
     ]
    },
    {
     "name": "stdout",
     "output_type": "stream",
     "text": [
      "Accuracy:                                                                                                              \n",
      "0.9424657534246574                                                                                                     \n",
      " 60%|█████████████████████████████▍                   | 6/10 [00:37<00:23,  5.93s/trial, best loss: -0.947227525589518]"
     ]
    },
    {
     "name": "stderr",
     "output_type": "stream",
     "text": [
      "C:\\Users\\velmurug\\Documents\\full_stability\\transformers\\IndexBasedTransformer.py:58: PerformanceWarning: DataFrame is highly fragmented.  This is usually the result of calling `frame.insert` many times, which has poor performance.  Consider joining all columns at once using pd.concat(axis=1) instead.  To get a de-fragmented frame, use `newframe = frame.copy()`\n",
      "  dt_transformed[col] = 0\n",
      "\n"
     ]
    },
    {
     "name": "stdout",
     "output_type": "stream",
     "text": [
      "Accuracy:                                                                                                              \n",
      "0.948509485094851                                                                                                      \n",
      " 60%|█████████████████████████████▍                   | 6/10 [00:39<00:23,  5.93s/trial, best loss: -0.947227525589518]"
     ]
    },
    {
     "name": "stderr",
     "output_type": "stream",
     "text": [
      "C:\\Users\\velmurug\\Documents\\full_stability\\transformers\\IndexBasedTransformer.py:58: PerformanceWarning: DataFrame is highly fragmented.  This is usually the result of calling `frame.insert` many times, which has poor performance.  Consider joining all columns at once using pd.concat(axis=1) instead.  To get a de-fragmented frame, use `newframe = frame.copy()`\n",
      "  dt_transformed[col] = 0\n",
      "\n"
     ]
    },
    {
     "name": "stdout",
     "output_type": "stream",
     "text": [
      "Accuracy:                                                                                                              \n",
      "0.9453551912568305                                                                                                     \n",
      "{'var_smoothing': 5.336699231206302e-09}                                                                               \n",
      " 70%|██████████████████████████████████▎              | 7/10 [00:41<00:17,  5.90s/trial, best loss: -0.947227525589518]"
     ]
    },
    {
     "name": "stderr",
     "output_type": "stream",
     "text": [
      "C:\\Users\\velmurug\\Documents\\full_stability\\transformers\\IndexBasedTransformer.py:58: PerformanceWarning: DataFrame is highly fragmented.  This is usually the result of calling `frame.insert` many times, which has poor performance.  Consider joining all columns at once using pd.concat(axis=1) instead.  To get a de-fragmented frame, use `newframe = frame.copy()`\n",
      "  dt_transformed[col] = 0\n",
      "\n"
     ]
    },
    {
     "name": "stdout",
     "output_type": "stream",
     "text": [
      "Accuracy:                                                                                                              \n",
      "0.9453551912568305                                                                                                     \n",
      " 70%|██████████████████████████████████▎              | 7/10 [00:43<00:17,  5.90s/trial, best loss: -0.947227525589518]"
     ]
    },
    {
     "name": "stderr",
     "output_type": "stream",
     "text": [
      "C:\\Users\\velmurug\\Documents\\full_stability\\transformers\\StaticTransformer.py:44: PerformanceWarning: DataFrame is highly fragmented.  This is usually the result of calling `frame.insert` many times, which has poor performance.  Consider joining all columns at once using pd.concat(axis=1) instead.  To get a de-fragmented frame, use `newframe = frame.copy()`\n",
      "  dt_transformed[col] = 0\n",
      "\n",
      "C:\\Users\\velmurug\\Documents\\full_stability\\transformers\\IndexBasedTransformer.py:58: PerformanceWarning: DataFrame is highly fragmented.  This is usually the result of calling `frame.insert` many times, which has poor performance.  Consider joining all columns at once using pd.concat(axis=1) instead.  To get a de-fragmented frame, use `newframe = frame.copy()`\n",
      "  dt_transformed[col] = 0\n",
      "\n"
     ]
    },
    {
     "name": "stdout",
     "output_type": "stream",
     "text": [
      "Accuracy:                                                                                                              \n",
      "0.948509485094851                                                                                                      \n",
      " 70%|██████████████████████████████████▎              | 7/10 [00:45<00:17,  5.90s/trial, best loss: -0.947227525589518]"
     ]
    },
    {
     "name": "stderr",
     "output_type": "stream",
     "text": [
      "C:\\Users\\velmurug\\Documents\\full_stability\\transformers\\IndexBasedTransformer.py:58: PerformanceWarning: DataFrame is highly fragmented.  This is usually the result of calling `frame.insert` many times, which has poor performance.  Consider joining all columns at once using pd.concat(axis=1) instead.  To get a de-fragmented frame, use `newframe = frame.copy()`\n",
      "  dt_transformed[col] = 0\n",
      "\n"
     ]
    },
    {
     "name": "stdout",
     "output_type": "stream",
     "text": [
      "Accuracy:                                                                                                              \n",
      "0.9567567567567568                                                                                                     \n",
      "{'var_smoothing': 8.111308307896872e-07}                                                                               \n",
      " 80%|██████████████████████████████████████▍         | 8/10 [00:47<00:11,  5.94s/trial, best loss: -0.9502071443694794]"
     ]
    },
    {
     "name": "stderr",
     "output_type": "stream",
     "text": [
      "C:\\Users\\velmurug\\Documents\\full_stability\\transformers\\StaticTransformer.py:44: PerformanceWarning: DataFrame is highly fragmented.  This is usually the result of calling `frame.insert` many times, which has poor performance.  Consider joining all columns at once using pd.concat(axis=1) instead.  To get a de-fragmented frame, use `newframe = frame.copy()`\n",
      "  dt_transformed[col] = 0\n",
      "\n",
      "C:\\Users\\velmurug\\Documents\\full_stability\\transformers\\IndexBasedTransformer.py:58: PerformanceWarning: DataFrame is highly fragmented.  This is usually the result of calling `frame.insert` many times, which has poor performance.  Consider joining all columns at once using pd.concat(axis=1) instead.  To get a de-fragmented frame, use `newframe = frame.copy()`\n",
      "  dt_transformed[col] = 0\n",
      "\n"
     ]
    },
    {
     "name": "stdout",
     "output_type": "stream",
     "text": [
      "Accuracy:                                                                                                              \n",
      "0.9366391184573003                                                                                                     \n",
      " 80%|██████████████████████████████████████▍         | 8/10 [00:49<00:11,  5.94s/trial, best loss: -0.9502071443694794]"
     ]
    },
    {
     "name": "stderr",
     "output_type": "stream",
     "text": [
      "C:\\Users\\velmurug\\Documents\\full_stability\\transformers\\StaticTransformer.py:44: PerformanceWarning: DataFrame is highly fragmented.  This is usually the result of calling `frame.insert` many times, which has poor performance.  Consider joining all columns at once using pd.concat(axis=1) instead.  To get a de-fragmented frame, use `newframe = frame.copy()`\n",
      "  dt_transformed[col] = 0\n",
      "\n",
      "C:\\Users\\velmurug\\Documents\\full_stability\\transformers\\IndexBasedTransformer.py:58: PerformanceWarning: DataFrame is highly fragmented.  This is usually the result of calling `frame.insert` many times, which has poor performance.  Consider joining all columns at once using pd.concat(axis=1) instead.  To get a de-fragmented frame, use `newframe = frame.copy()`\n",
      "  dt_transformed[col] = 0\n",
      "\n"
     ]
    },
    {
     "name": "stdout",
     "output_type": "stream",
     "text": [
      "Accuracy:                                                                                                              \n",
      "0.9456521739130436                                                                                                     \n",
      " 80%|██████████████████████████████████████▍         | 8/10 [00:51<00:11,  5.94s/trial, best loss: -0.9502071443694794]"
     ]
    },
    {
     "name": "stderr",
     "output_type": "stream",
     "text": [
      "C:\\Users\\velmurug\\Documents\\full_stability\\transformers\\IndexBasedTransformer.py:58: PerformanceWarning: DataFrame is highly fragmented.  This is usually the result of calling `frame.insert` many times, which has poor performance.  Consider joining all columns at once using pd.concat(axis=1) instead.  To get a de-fragmented frame, use `newframe = frame.copy()`\n",
      "  dt_transformed[col] = 0\n",
      "\n"
     ]
    },
    {
     "name": "stdout",
     "output_type": "stream",
     "text": [
      "Accuracy:                                                                                                              \n",
      "0.9395604395604396                                                                                                     \n",
      "{'var_smoothing': 0.012328467394420659}                                                                                \n",
      " 90%|███████████████████████████████████████████▏    | 9/10 [00:53<00:05,  5.91s/trial, best loss: -0.9502071443694794]"
     ]
    },
    {
     "name": "stderr",
     "output_type": "stream",
     "text": [
      "C:\\Users\\velmurug\\Documents\\full_stability\\transformers\\StaticTransformer.py:44: PerformanceWarning: DataFrame is highly fragmented.  This is usually the result of calling `frame.insert` many times, which has poor performance.  Consider joining all columns at once using pd.concat(axis=1) instead.  To get a de-fragmented frame, use `newframe = frame.copy()`\n",
      "  dt_transformed[col] = 0\n",
      "\n",
      "C:\\Users\\velmurug\\Documents\\full_stability\\transformers\\IndexBasedTransformer.py:58: PerformanceWarning: DataFrame is highly fragmented.  This is usually the result of calling `frame.insert` many times, which has poor performance.  Consider joining all columns at once using pd.concat(axis=1) instead.  To get a de-fragmented frame, use `newframe = frame.copy()`\n",
      "  dt_transformed[col] = 0\n",
      "\n"
     ]
    },
    {
     "name": "stdout",
     "output_type": "stream",
     "text": [
      "Accuracy:                                                                                                              \n",
      "0.8390243902439024                                                                                                     \n",
      " 90%|███████████████████████████████████████████▏    | 9/10 [00:55<00:05,  5.91s/trial, best loss: -0.9502071443694794]"
     ]
    },
    {
     "name": "stderr",
     "output_type": "stream",
     "text": [
      "C:\\Users\\velmurug\\Documents\\full_stability\\transformers\\StaticTransformer.py:44: PerformanceWarning: DataFrame is highly fragmented.  This is usually the result of calling `frame.insert` many times, which has poor performance.  Consider joining all columns at once using pd.concat(axis=1) instead.  To get a de-fragmented frame, use `newframe = frame.copy()`\n",
      "  dt_transformed[col] = 0\n",
      "\n",
      "C:\\Users\\velmurug\\Documents\\full_stability\\transformers\\IndexBasedTransformer.py:58: PerformanceWarning: DataFrame is highly fragmented.  This is usually the result of calling `frame.insert` many times, which has poor performance.  Consider joining all columns at once using pd.concat(axis=1) instead.  To get a de-fragmented frame, use `newframe = frame.copy()`\n",
      "  dt_transformed[col] = 0\n",
      "\n"
     ]
    },
    {
     "name": "stdout",
     "output_type": "stream",
     "text": [
      "Accuracy:                                                                                                              \n",
      "0.8639618138424822                                                                                                     \n",
      " 90%|███████████████████████████████████████████▏    | 9/10 [00:57<00:05,  5.91s/trial, best loss: -0.9502071443694794]"
     ]
    },
    {
     "name": "stderr",
     "output_type": "stream",
     "text": [
      "C:\\Users\\velmurug\\Documents\\full_stability\\transformers\\StaticTransformer.py:44: PerformanceWarning: DataFrame is highly fragmented.  This is usually the result of calling `frame.insert` many times, which has poor performance.  Consider joining all columns at once using pd.concat(axis=1) instead.  To get a de-fragmented frame, use `newframe = frame.copy()`\n",
      "  dt_transformed[col] = 0\n",
      "\n",
      "C:\\Users\\velmurug\\Documents\\full_stability\\transformers\\IndexBasedTransformer.py:58: PerformanceWarning: DataFrame is highly fragmented.  This is usually the result of calling `frame.insert` many times, which has poor performance.  Consider joining all columns at once using pd.concat(axis=1) instead.  To get a de-fragmented frame, use `newframe = frame.copy()`\n",
      "  dt_transformed[col] = 0\n",
      "\n"
     ]
    },
    {
     "name": "stdout",
     "output_type": "stream",
     "text": [
      "Accuracy:                                                                                                              \n",
      "0.8741092636579572                                                                                                     \n",
      "100%|███████████████████████████████████████████████| 10/10 [00:59<00:00,  5.94s/trial, best loss: -0.9502071443694794]\n"
     ]
    }
   ],
   "source": [
    "dataset_ref = \"bpic2011\"\n",
    "params_dir = \"params\"\n",
    "n_iter = 10\n",
    "bucket_method = \"prefix\"\n",
    "cls_encoding = \"index\"\n",
    "cls_method = \"nb\"\n",
    "balanced_data = False\n",
    "\n",
    "if bucket_method == \"state\":\n",
    "    bucket_encoding = \"last\"\n",
    "else:\n",
    "    bucket_encoding = \"agg\"\n",
    "\n",
    "method_name = \"%s_%s\"%(bucket_method, cls_encoding)\n",
    "\n",
    "dataset_ref_to_datasets = {\n",
    "    \"bpic2011\": [\"bpic2011_f1\"],\n",
    "    \"bpic2015\": [\"bpic2015_%s_f2\"%(municipality) for municipality in range(5,6)],\n",
    "    \"bpic2017\" : [\"bpic2017_accepted\"],\n",
    "    \"bpic2012\" : [\"bpic2012_accepted\"],\n",
    "    #\"insurance\": [\"insurance_activity\", \"insurance_followup\"],\n",
    "    \"sepsis_cases\": [\"sepsis_cases_1\"],# \"sepsis_cases_2\", \"sepsis_cases_4\"]\n",
    "    \"production\" : [\"production\"],\n",
    "    \"hospital\": [\"hospital_billing_2\"],\n",
    "    \"traffic\": [\"traffic_fines_1\"]\n",
    "}\n",
    "\n",
    "encoding_dict = {\n",
    "    \"laststate\": [\"static\", \"last\"],\n",
    "    \"agg\": [\"static\", \"agg\"],\n",
    "    \"index\": [\"static\", \"index\"],\n",
    "    \"combined\": [\"static\", \"last\", \"agg\"],\n",
    "    \"3d\" : []\n",
    "}\n",
    "\n",
    "datasets = [dataset_ref] if dataset_ref not in dataset_ref_to_datasets else dataset_ref_to_datasets[dataset_ref]\n",
    "methods = encoding_dict[cls_encoding]\n",
    "print(datasets)\n",
    "    \n",
    "train_ratio = 0.8\n",
    "n_splits = 3\n",
    "random_state = 22\n",
    "\n",
    "# create results directory\n",
    "if not os.path.exists(os.path.join(params_dir)):\n",
    "    os.makedirs(os.path.join(params_dir))\n",
    "    \n",
    "for dataset_name in datasets:\n",
    "    \n",
    "    # read the data\n",
    "    dataset_manager = DatasetManager(dataset_name)\n",
    "    data = dataset_manager.read_dataset()\n",
    "    data = dataset_manager.balance_data(data)\n",
    "\n",
    "    cls_encoder_args = {'case_id_col': dataset_manager.case_id_col, \n",
    "                        'static_cat_cols': dataset_manager.static_cat_cols,\n",
    "                        'static_num_cols': dataset_manager.static_num_cols, \n",
    "                        'dynamic_cat_cols': dataset_manager.dynamic_cat_cols,\n",
    "                        'dynamic_num_cols': dataset_manager.dynamic_num_cols, \n",
    "                        'fillna': True}\n",
    "\n",
    "    # determine min and max (truncated) prefix lengths\n",
    "    min_prefix_length = 1\n",
    "    if \"traffic_fines\" in dataset_name:\n",
    "        max_prefix_length = 10\n",
    "    else:\n",
    "        max_prefix_length = 20\n",
    "\n",
    "    # split into training and test\n",
    "    print(\"splitting data\")\n",
    "    train, _ = dataset_manager.split_data_strict(data, train_ratio, split=\"temporal\")\n",
    "    train_prefixes = dataset_manager.generate_prefix_data(train, min_prefix_length, max_prefix_length)\n",
    "    \n",
    "    # Bucketing prefixes based on control flow\n",
    "    bucketer_args = {'encoding_method':bucket_encoding, \n",
    "                     'case_id_col':dataset_manager.case_id_col, \n",
    "                     'cat_cols':[dataset_manager.activity_col], \n",
    "                     'num_cols':[], \n",
    "                     'random_state':random_state}\n",
    "    if bucket_method == \"cluster\":\n",
    "        bucketer_args[\"n_clusters\"] = args[\"n_clusters\"]\n",
    "    bucketer = BucketFactory.get_bucketer(bucket_method, **bucketer_args)\n",
    "    bucket_assignments_train = bucketer.fit_predict(train_prefixes)\n",
    "    \n",
    "    for bucket in set(bucket_assignments_train):\n",
    "        print(\"Optimising %s of %s buckets\" % (bucket, len(set(bucket_assignments_train))))\n",
    "        \n",
    "        relevant_train_cases_bucket = dataset_manager.get_indexes(train_prefixes)[bucket_assignments_train == bucket]\n",
    "        dt_train_bucket = dataset_manager.get_relevant_data_by_indexes(train_prefixes, relevant_train_cases_bucket)\n",
    "    \n",
    "        # prepare chunks for CV\n",
    "        dt_prefixes = []\n",
    "        class_ratios = []\n",
    "        for train_chunk, test_chunk in dataset_manager.get_stratified_split_generator(dt_train_bucket, n_splits=n_splits):\n",
    "            class_ratios.append(dataset_manager.get_class_ratio(train_chunk))\n",
    "            dt_prefixes.append(train_chunk)\n",
    "        #del train\n",
    "        \n",
    "        # set up search space\n",
    "        if cls_method == \"xgboost\":\n",
    "            space = {'n_estimators': scope.int(hp.quniform('n_estimators', 1, 175, 5)),\n",
    "                    'learning_rate': hp.uniform(\"learning_rate\", 0, 5),\n",
    "                     'subsample': hp.uniform(\"subsample\", 0.5, 1),\n",
    "                     'max_depth': scope.int(hp.quniform('max_depth', 1, 30, 1)),\n",
    "                     'colsample_bytree': hp.uniform(\"colsample_bytree\", 0, 1),\n",
    "                     'min_child_weight': scope.int(hp.quniform('min_child_weight', 0, 6, 1))}\n",
    "        elif cls_method == \"logit\":\n",
    "            space = {'C': hp.uniform('C', -15, 15)}\n",
    "        elif cls_method == \"nb\":\n",
    "            space = {'var_smoothing': hp.choice('v', np.logspace(0, -9, 100))}\n",
    "\n",
    "\n",
    "        # optimize parameters\n",
    "        trial_nr = 1\n",
    "        trials = Trials()\n",
    "        fout_all = open(os.path.join(PATH, params_dir, \"param_optim_all_trials_%s_%s_%s_bucket_%s.csv\" % (cls_method, dataset_name, method_name, bucket)), \"w\")\n",
    "        if \"prefix\" in method_name:\n",
    "            fout_all.write(\"%s;%s;%s;%s;%s;%s;%s;%s\\n\" % (\"iter\", \"dataset\", \"cls\", \"method\", \"nr_events\", \"param\", \"value\", \"score\"))   \n",
    "        else:\n",
    "            fout_all.write(\"%s;%s;%s;%s;%s;%s;%s\\n\" % (\"iter\", \"dataset\", \"cls\", \"method\", \"param\", \"value\", \"score\"))   \n",
    "        best = fmin(create_and_evaluate_model, space, algo=tpe.suggest, max_evals=n_iter, trials=trials, verbose=True)\n",
    "        fout_all.close()\n",
    "\n",
    "        # write the best parameters\n",
    "        best_params = hyperopt.space_eval(space, best)\n",
    "        outfile = os.path.join(PATH, params_dir, \"optimal_params_%s_%s_%s_bucket_%s.pickle\" % (cls_method, dataset_name, method_name, bucket))\n",
    "        # write to file\n",
    "        with open(outfile, \"wb\") as fout:\n",
    "            pickle.dump(best_params, fout)\n"
   ]
  },
  {
   "cell_type": "code",
   "execution_count": 6,
   "metadata": {},
   "outputs": [],
   "source": [
    "# import matplotlib.pyplot as plt\n",
    "# plt.plot(space[\"var_smoothing\"])"
   ]
  },
  {
   "cell_type": "code",
   "execution_count": 7,
   "metadata": {},
   "outputs": [],
   "source": [
    "# plt.plot()"
   ]
  },
  {
   "cell_type": "code",
   "execution_count": 8,
   "metadata": {
    "colab": {
     "base_uri": "https://localhost:8080/"
    },
    "executionInfo": {
     "elapsed": 1993332,
     "status": "ok",
     "timestamp": 1605609993324,
     "user": {
      "displayName": "Mythreyi Velmurugan",
      "photoUrl": "https://lh3.googleusercontent.com/a-/AOh14Gh6DP4Hn-qpp593Bc6lrayXXcdQv42KAS3zJ-Ay=s64",
      "userId": "09509504425224260690"
     },
     "user_tz": -600
    },
    "id": "hyFDK-SFa5fq",
    "outputId": "1fa48c4a-d93e-4751-dc63-6f1a8f6ac8b2"
   },
   "outputs": [
    {
     "name": "stdout",
     "output_type": "stream",
     "text": [
      "Bucket 1\n",
      "{'var_smoothing': 2.848035868435805e-09}\n",
      "Bucket 2\n",
      "{'var_smoothing': 0.0015199110829529332}\n",
      "Bucket 3\n",
      "{'var_smoothing': 0.0005336699231206307}\n",
      "Bucket 4\n",
      "{'var_smoothing': 0.0008111308307896872}\n",
      "Bucket 5\n",
      "{'var_smoothing': 0.0008111308307896872}\n",
      "Bucket 6\n",
      "{'var_smoothing': 1.232846739442066e-07}\n",
      "Bucket 7\n",
      "{'var_smoothing': 2.310129700083158e-09}\n",
      "Bucket 8\n",
      "{'var_smoothing': 1.873817422860383e-08}\n",
      "Bucket 9\n",
      "{'var_smoothing': 5.336699231206313e-06}\n",
      "Bucket 10\n",
      "{'var_smoothing': 6.579332246575683e-06}\n",
      "Bucket 11\n",
      "{'var_smoothing': 0.0004328761281083057}\n",
      "Bucket 12\n",
      "{'var_smoothing': 0.0001519911082952933}\n",
      "Bucket 13\n",
      "{'var_smoothing': 6.579332246575682e-08}\n",
      "Bucket 14\n",
      "{'var_smoothing': 1e-07}\n",
      "Bucket 15\n",
      "{'var_smoothing': 3.511191734215127e-05}\n",
      "Bucket 16\n",
      "{'var_smoothing': 8.111308307896873e-08}\n",
      "Bucket 17\n",
      "{'var_smoothing': 0.0002848035868435802}\n",
      "Bucket 18\n",
      "{'var_smoothing': 2.848035868435799e-05}\n",
      "Bucket 19\n",
      "{'var_smoothing': 5.336699231206313e-07}\n",
      "Bucket 20\n",
      "{'var_smoothing': 5.336699231206302e-09}\n"
     ]
    }
   ],
   "source": [
    "for bucket in set(bucket_assignments_train):\n",
    "    params_path = os.path.join(PATH, params_dir, \"optimal_params_%s_%s_%s_bucket_%s.pickle\" % \n",
    "                               (cls_method, dataset_name, method_name, bucket))\n",
    "    with open(params_path, 'rb') as f:\n",
    "        best_params = pickle.load(f)\n",
    "    \n",
    "    print (\"Bucket %s\" % bucket)\n",
    "    print(best_params)"
   ]
  }
 ],
 "metadata": {
  "accelerator": "GPU",
  "colab": {
   "collapsed_sections": [],
   "name": "Optimise Params.ipynb",
   "provenance": []
  },
  "kernelspec": {
   "display_name": "Python 3 (ipykernel)",
   "language": "python",
   "name": "python3"
  },
  "language_info": {
   "codemirror_mode": {
    "name": "ipython",
    "version": 3
   },
   "file_extension": ".py",
   "mimetype": "text/x-python",
   "name": "python",
   "nbconvert_exporter": "python",
   "pygments_lexer": "ipython3",
   "version": "3.8.3"
  }
 },
 "nbformat": 4,
 "nbformat_minor": 1
}
